{
 "cells": [
  {
   "cell_type": "markdown",
   "id": "1a923a9c",
   "metadata": {},
   "source": [
    "# Spatial convergence test"
   ]
  },
  {
   "cell_type": "code",
   "execution_count": 41,
   "id": "7aeb3b0a",
   "metadata": {},
   "outputs": [],
   "source": [
    "from pathlib import Path\n",
    "import json\n",
    "import matplotlib.pyplot as plt\n",
    "import numpy as np\n",
    "from collections import defaultdict\n",
    "import pandas as pd\n",
    "import plotly.graph_objects as go\n",
    "from plotly.subplots import make_subplots\n",
    "import requests\n",
    "\n",
    "pd.options.display.max_columns = 5"
   ]
  },
  {
   "cell_type": "code",
   "execution_count": 42,
   "id": "7e7a0a72",
   "metadata": {},
   "outputs": [
    {
     "name": "stdout",
     "output_type": "stream",
     "text": [
      "Get existing data from gist\n"
     ]
    }
   ],
   "source": [
    "headers = {\n",
    "    \"Accept\": \"application/vnd.github+json\",\n",
    "    \"X-GitHub-Api-Version\": \"2022-11-28\",\n",
    "}\n",
    "print(\"Get existing data from gist\")\n",
    "response = requests.get(\n",
    "    f\"https://api.github.com/gists/73fa6531f28da2b3633a7ddaca38a7cd\",\n",
    "    headers=headers,\n",
    ")\n",
    "data = json.loads(response.json()[\"files\"][\"convergence_test.json\"][\"content\"])"
   ]
  },
  {
   "cell_type": "code",
   "execution_count": 43,
   "id": "a74905c1",
   "metadata": {},
   "outputs": [
    {
     "data": {
      "text/html": [
       "<div>\n",
       "<style scoped>\n",
       "    .dataframe tbody tr th:only-of-type {\n",
       "        vertical-align: middle;\n",
       "    }\n",
       "\n",
       "    .dataframe tbody tr th {\n",
       "        vertical-align: top;\n",
       "    }\n",
       "\n",
       "    .dataframe thead th {\n",
       "        text-align: right;\n",
       "    }\n",
       "</style>\n",
       "<table border=\"1\" class=\"dataframe\">\n",
       "  <thead>\n",
       "    <tr style=\"text-align: right;\">\n",
       "      <th></th>\n",
       "      <th>import_time</th>\n",
       "      <th>timestamp</th>\n",
       "      <th>...</th>\n",
       "      <th>rel_max_displacement_perc_z</th>\n",
       "      <th>time_to_max_displacement_z</th>\n",
       "    </tr>\n",
       "  </thead>\n",
       "  <tbody>\n",
       "    <tr>\n",
       "      <th>0</th>\n",
       "      <td>9.000000e-07</td>\n",
       "      <td>2023-04-12 20:33:25.203391</td>\n",
       "      <td>...</td>\n",
       "      <td>0.486886</td>\n",
       "      <td>0.05</td>\n",
       "    </tr>\n",
       "    <tr>\n",
       "      <th>1</th>\n",
       "      <td>1.001000e-06</td>\n",
       "      <td>2023-04-12 20:33:25.502552</td>\n",
       "      <td>...</td>\n",
       "      <td>0.488458</td>\n",
       "      <td>0.05</td>\n",
       "    </tr>\n",
       "    <tr>\n",
       "      <th>2</th>\n",
       "      <td>1.000000e-06</td>\n",
       "      <td>2023-04-12 20:33:32.537703</td>\n",
       "      <td>...</td>\n",
       "      <td>0.488168</td>\n",
       "      <td>0.05</td>\n",
       "    </tr>\n",
       "    <tr>\n",
       "      <th>3</th>\n",
       "      <td>1.100000e-06</td>\n",
       "      <td>2023-04-12 17:17:24.396818</td>\n",
       "      <td>...</td>\n",
       "      <td>0.486886</td>\n",
       "      <td>0.05</td>\n",
       "    </tr>\n",
       "    <tr>\n",
       "      <th>4</th>\n",
       "      <td>1.000000e-06</td>\n",
       "      <td>2023-04-12 17:17:24.948740</td>\n",
       "      <td>...</td>\n",
       "      <td>0.488458</td>\n",
       "      <td>0.05</td>\n",
       "    </tr>\n",
       "    <tr>\n",
       "      <th>5</th>\n",
       "      <td>1.000000e-06</td>\n",
       "      <td>2023-04-12 17:17:26.820219</td>\n",
       "      <td>...</td>\n",
       "      <td>0.488168</td>\n",
       "      <td>0.05</td>\n",
       "    </tr>\n",
       "    <tr>\n",
       "      <th>6</th>\n",
       "      <td>1.300000e-06</td>\n",
       "      <td>2023-04-12 09:53:34.139318</td>\n",
       "      <td>...</td>\n",
       "      <td>0.486886</td>\n",
       "      <td>0.05</td>\n",
       "    </tr>\n",
       "    <tr>\n",
       "      <th>7</th>\n",
       "      <td>8.000000e-07</td>\n",
       "      <td>2023-04-12 09:53:30.436212</td>\n",
       "      <td>...</td>\n",
       "      <td>0.488458</td>\n",
       "      <td>0.05</td>\n",
       "    </tr>\n",
       "    <tr>\n",
       "      <th>8</th>\n",
       "      <td>1.000000e-06</td>\n",
       "      <td>2023-04-12 09:53:31.010237</td>\n",
       "      <td>...</td>\n",
       "      <td>0.488168</td>\n",
       "      <td>0.05</td>\n",
       "    </tr>\n",
       "  </tbody>\n",
       "</table>\n",
       "<p>9 rows × 57 columns</p>\n",
       "</div>"
      ],
      "text/plain": [
       "    import_time                  timestamp  ... rel_max_displacement_perc_z  \\\n",
       "0  9.000000e-07 2023-04-12 20:33:25.203391  ...                    0.486886   \n",
       "1  1.001000e-06 2023-04-12 20:33:25.502552  ...                    0.488458   \n",
       "2  1.000000e-06 2023-04-12 20:33:32.537703  ...                    0.488168   \n",
       "3  1.100000e-06 2023-04-12 17:17:24.396818  ...                    0.486886   \n",
       "4  1.000000e-06 2023-04-12 17:17:24.948740  ...                    0.488458   \n",
       "5  1.000000e-06 2023-04-12 17:17:26.820219  ...                    0.488168   \n",
       "6  1.300000e-06 2023-04-12 09:53:34.139318  ...                    0.486886   \n",
       "7  8.000000e-07 2023-04-12 09:53:30.436212  ...                    0.488458   \n",
       "8  1.000000e-06 2023-04-12 09:53:31.010237  ...                    0.488168   \n",
       "\n",
       "   time_to_max_displacement_z  \n",
       "0                        0.05  \n",
       "1                        0.05  \n",
       "2                        0.05  \n",
       "3                        0.05  \n",
       "4                        0.05  \n",
       "5                        0.05  \n",
       "6                        0.05  \n",
       "7                        0.05  \n",
       "8                        0.05  \n",
       "\n",
       "[9 rows x 57 columns]"
      ]
     },
     "execution_count": 43,
     "metadata": {},
     "output_type": "execute_result"
    }
   ],
   "source": [
    "runs = set()\n",
    "results = defaultdict(list)\n",
    "spatial_convergence = []\n",
    "for git_hash, d in data.items():\n",
    "    runs |= set(d.keys())\n",
    "    if \"dx0.1_dt0.05\" not in d:\n",
    "        # We have not spatial convergence data\n",
    "        continue\n",
    "\n",
    "    for key1, d1 in d.items():\n",
    "        if \"dt0.05\" not in key1:\n",
    "            continue  # Only select data with \"dt0.05\"\n",
    "        for key, value in d1.items():\n",
    "            results[key].append(value)\n",
    "\n",
    "df = pd.DataFrame(results)\n",
    "df[\"timestamp\"] = pd.to_datetime(df[\"timestamp\"])\n",
    "df"
   ]
  },
  {
   "cell_type": "code",
   "execution_count": 44,
   "id": "0831698c",
   "metadata": {},
   "outputs": [
    {
     "data": {
      "text/plain": [
       "array([0.2, 0.1, 0.4])"
      ]
     },
     "execution_count": 44,
     "metadata": {},
     "output_type": "execute_result"
    }
   ],
   "source": [
    "df[\"timestamp\"]\n",
    "df.keys()\n",
    "df[\"dx\"].unique()"
   ]
  },
  {
   "cell_type": "code",
   "execution_count": 45,
   "id": "ec625211",
   "metadata": {},
   "outputs": [],
   "source": [
    "def get_ylim(values):\n",
    "    if np.isclose(values, 0).all():\n",
    "        return (-0.01, 0.01)\n",
    "    y_mean = np.mean(values)\n",
    "    y_max = max(np.max(values), y_mean + 0.01 * abs(y_mean))\n",
    "    y_min = min(np.min(values), y_mean - 0.01 * abs(y_mean))\n",
    "    return (y_min, y_max)\n"
   ]
  },
  {
   "cell_type": "code",
   "execution_count": 48,
   "id": "561fc32d",
   "metadata": {
    "scrolled": false
   },
   "outputs": [
    {
     "data": {
      "application/vnd.plotly.v1+json": {
       "config": {
        "plotlyServerURL": "https://plot.ly"
       },
       "data": [
        {
         "hovertemplate": "%{text}",
         "legendgroup": "0.1",
         "marker": {
          "color": "red"
         },
         "name": "dx=0.1",
         "showlegend": true,
         "text": [
          "<br>Git Hash: 19f9c461fbaf4206d48775c151116cff6d661369</br>\n<br>Version: 2023.3.0</br>\n<br>Timestamp 2023-04-12</br>",
          "<br>Git Hash: 00dae0a1bd0b7919dee6ba4d96a4cf63f8949b0c</br>\n<br>Version: 2023.3.0</br>\n<br>Timestamp 2023-04-12</br>",
          "<br>Git Hash: 7c99dbc59c2c38c7c192be00eac500546471bed0</br>\n<br>Version: 2023.3.0</br>\n<br>Timestamp 2023-04-12</br>"
         ],
         "type": "scatter",
         "x": [
          "2023-04-12T20:33:25.502552",
          "2023-04-12T17:17:24.948740",
          "2023-04-12T09:53:30.436212"
         ],
         "xaxis": "x",
         "y": [
          1.000999986899842e-06,
          9.999999974752427e-07,
          7.999999809271685e-07
         ],
         "yaxis": "y"
        },
        {
         "hovertemplate": "%{text}",
         "legendgroup": "0.1",
         "marker": {
          "color": "red"
         },
         "name": "dx=0.1",
         "showlegend": false,
         "text": [
          "<br>Git Hash: 19f9c461fbaf4206d48775c151116cff6d661369</br>\n<br>Version: 2023.3.0</br>\n<br>Timestamp 2023-04-12</br>",
          "<br>Git Hash: 00dae0a1bd0b7919dee6ba4d96a4cf63f8949b0c</br>\n<br>Version: 2023.3.0</br>\n<br>Timestamp 2023-04-12</br>",
          "<br>Git Hash: 7c99dbc59c2c38c7c192be00eac500546471bed0</br>\n<br>Version: 2023.3.0</br>\n<br>Timestamp 2023-04-12</br>"
         ],
         "type": "scatter",
         "x": [
          "2023-04-12T20:33:25.502552",
          "2023-04-12T17:17:24.948740",
          "2023-04-12T09:53:30.436212"
         ],
         "xaxis": "x2",
         "y": [
          2520,
          2520,
          2520
         ],
         "yaxis": "y2"
        },
        {
         "hovertemplate": "%{text}",
         "legendgroup": "0.1",
         "marker": {
          "color": "red"
         },
         "name": "dx=0.1",
         "showlegend": false,
         "text": [
          "<br>Git Hash: 19f9c461fbaf4206d48775c151116cff6d661369</br>\n<br>Version: 2023.3.0</br>\n<br>Timestamp 2023-04-12</br>",
          "<br>Git Hash: 00dae0a1bd0b7919dee6ba4d96a4cf63f8949b0c</br>\n<br>Version: 2023.3.0</br>\n<br>Timestamp 2023-04-12</br>",
          "<br>Git Hash: 7c99dbc59c2c38c7c192be00eac500546471bed0</br>\n<br>Version: 2023.3.0</br>\n<br>Timestamp 2023-04-12</br>"
         ],
         "type": "scatter",
         "x": [
          "2023-04-12T20:33:25.502552",
          "2023-04-12T17:17:24.948740",
          "2023-04-12T09:53:30.436212"
         ],
         "xaxis": "x3",
         "y": [
          20160,
          20160,
          20160
         ],
         "yaxis": "y3"
        },
        {
         "hovertemplate": "%{text}",
         "legendgroup": "0.1",
         "marker": {
          "color": "red"
         },
         "name": "dx=0.1",
         "showlegend": false,
         "text": [
          "<br>Git Hash: 19f9c461fbaf4206d48775c151116cff6d661369</br>\n<br>Version: 2023.3.0</br>\n<br>Timestamp 2023-04-12</br>",
          "<br>Git Hash: 00dae0a1bd0b7919dee6ba4d96a4cf63f8949b0c</br>\n<br>Version: 2023.3.0</br>\n<br>Timestamp 2023-04-12</br>",
          "<br>Git Hash: 7c99dbc59c2c38c7c192be00eac500546471bed0</br>\n<br>Version: 2023.3.0</br>\n<br>Timestamp 2023-04-12</br>"
         ],
         "type": "scatter",
         "x": [
          "2023-04-12T20:33:25.502552",
          "2023-04-12T17:17:24.948740",
          "2023-04-12T09:53:30.436212"
         ],
         "xaxis": "x4",
         "y": [
          672,
          672,
          672
         ],
         "yaxis": "y4"
        },
        {
         "hovertemplate": "%{text}",
         "legendgroup": "0.1",
         "marker": {
          "color": "red"
         },
         "name": "dx=0.1",
         "showlegend": false,
         "text": [
          "<br>Git Hash: 19f9c461fbaf4206d48775c151116cff6d661369</br>\n<br>Version: 2023.3.0</br>\n<br>Timestamp 2023-04-12</br>",
          "<br>Git Hash: 00dae0a1bd0b7919dee6ba4d96a4cf63f8949b0c</br>\n<br>Version: 2023.3.0</br>\n<br>Timestamp 2023-04-12</br>",
          "<br>Git Hash: 7c99dbc59c2c38c7c192be00eac500546471bed0</br>\n<br>Version: 2023.3.0</br>\n<br>Timestamp 2023-04-12</br>"
         ],
         "type": "scatter",
         "x": [
          "2023-04-12T20:33:25.502552",
          "2023-04-12T17:17:24.948740",
          "2023-04-12T09:53:30.436212"
         ],
         "xaxis": "x5",
         "y": [
          4305,
          4305,
          4305
         ],
         "yaxis": "y5"
        },
        {
         "hovertemplate": "%{text}",
         "legendgroup": "0.1",
         "marker": {
          "color": "red"
         },
         "name": "dx=0.1",
         "showlegend": false,
         "text": [
          "<br>Git Hash: 19f9c461fbaf4206d48775c151116cff6d661369</br>\n<br>Version: 2023.3.0</br>\n<br>Timestamp 2023-04-12</br>",
          "<br>Git Hash: 00dae0a1bd0b7919dee6ba4d96a4cf63f8949b0c</br>\n<br>Version: 2023.3.0</br>\n<br>Timestamp 2023-04-12</br>",
          "<br>Git Hash: 7c99dbc59c2c38c7c192be00eac500546471bed0</br>\n<br>Version: 2023.3.0</br>\n<br>Timestamp 2023-04-12</br>"
         ],
         "type": "scatter",
         "x": [
          "2023-04-12T20:33:25.502552",
          "2023-04-12T17:17:24.948740",
          "2023-04-12T09:53:30.436212"
         ],
         "xaxis": "x6",
         "y": [
          140.80696620599997,
          135.869928147,
          137.96480052699997
         ],
         "yaxis": "y6"
        },
        {
         "hovertemplate": "%{text}",
         "legendgroup": "0.1",
         "marker": {
          "color": "red"
         },
         "name": "dx=0.1",
         "showlegend": false,
         "text": [
          "<br>Git Hash: 19f9c461fbaf4206d48775c151116cff6d661369</br>\n<br>Version: 2023.3.0</br>\n<br>Timestamp 2023-04-12</br>",
          "<br>Git Hash: 00dae0a1bd0b7919dee6ba4d96a4cf63f8949b0c</br>\n<br>Version: 2023.3.0</br>\n<br>Timestamp 2023-04-12</br>",
          "<br>Git Hash: 7c99dbc59c2c38c7c192be00eac500546471bed0</br>\n<br>Version: 2023.3.0</br>\n<br>Timestamp 2023-04-12</br>"
         ],
         "type": "scatter",
         "x": [
          "2023-04-12T20:33:25.502552",
          "2023-04-12T17:17:24.948740",
          "2023-04-12T09:53:30.436212"
         ],
         "xaxis": "x7",
         "y": [
          13084.182314857,
          13392.514336015,
          13424.539180128
         ],
         "yaxis": "y7"
        },
        {
         "hovertemplate": "%{text}",
         "legendgroup": "0.1",
         "marker": {
          "color": "red"
         },
         "name": "dx=0.1",
         "showlegend": false,
         "text": [
          "<br>Git Hash: 19f9c461fbaf4206d48775c151116cff6d661369</br>\n<br>Version: 2023.3.0</br>\n<br>Timestamp 2023-04-12</br>",
          "<br>Git Hash: 00dae0a1bd0b7919dee6ba4d96a4cf63f8949b0c</br>\n<br>Version: 2023.3.0</br>\n<br>Timestamp 2023-04-12</br>",
          "<br>Git Hash: 7c99dbc59c2c38c7c192be00eac500546471bed0</br>\n<br>Version: 2023.3.0</br>\n<br>Timestamp 2023-04-12</br>"
         ],
         "type": "scatter",
         "x": [
          "2023-04-12T20:33:25.502552",
          "2023-04-12T17:17:24.948740",
          "2023-04-12T09:53:30.436212"
         ],
         "xaxis": "x8",
         "y": [
          1.176115252264472,
          1.176115252264472,
          1.176115252264472
         ],
         "yaxis": "y8"
        },
        {
         "hovertemplate": "%{text}",
         "legendgroup": "0.1",
         "marker": {
          "color": "red"
         },
         "name": "dx=0.1",
         "showlegend": false,
         "text": [
          "<br>Git Hash: 19f9c461fbaf4206d48775c151116cff6d661369</br>\n<br>Version: 2023.3.0</br>\n<br>Timestamp 2023-04-12</br>",
          "<br>Git Hash: 00dae0a1bd0b7919dee6ba4d96a4cf63f8949b0c</br>\n<br>Version: 2023.3.0</br>\n<br>Timestamp 2023-04-12</br>",
          "<br>Git Hash: 7c99dbc59c2c38c7c192be00eac500546471bed0</br>\n<br>Version: 2023.3.0</br>\n<br>Timestamp 2023-04-12</br>"
         ],
         "type": "scatter",
         "x": [
          "2023-04-12T20:33:25.502552",
          "2023-04-12T17:17:24.948740",
          "2023-04-12T09:53:30.436212"
         ],
         "xaxis": "x9",
         "y": [
          1.176115252264472,
          1.176115252264472,
          1.176115252264472
         ],
         "yaxis": "y9"
        },
        {
         "hovertemplate": "%{text}",
         "legendgroup": "0.1",
         "marker": {
          "color": "red"
         },
         "name": "dx=0.1",
         "showlegend": false,
         "text": [
          "<br>Git Hash: 19f9c461fbaf4206d48775c151116cff6d661369</br>\n<br>Version: 2023.3.0</br>\n<br>Timestamp 2023-04-12</br>",
          "<br>Git Hash: 00dae0a1bd0b7919dee6ba4d96a4cf63f8949b0c</br>\n<br>Version: 2023.3.0</br>\n<br>Timestamp 2023-04-12</br>",
          "<br>Git Hash: 7c99dbc59c2c38c7c192be00eac500546471bed0</br>\n<br>Version: 2023.3.0</br>\n<br>Timestamp 2023-04-12</br>"
         ],
         "type": "scatter",
         "x": [
          "2023-04-12T20:33:25.502552",
          "2023-04-12T17:17:24.948740",
          "2023-04-12T09:53:30.436212"
         ],
         "xaxis": "x10",
         "y": [
          238.87751735788927,
          238.87751735788927,
          238.87751735788927
         ],
         "yaxis": "y10"
        },
        {
         "hovertemplate": "%{text}",
         "legendgroup": "0.1",
         "marker": {
          "color": "red"
         },
         "name": "dx=0.1",
         "showlegend": false,
         "text": [
          "<br>Git Hash: 19f9c461fbaf4206d48775c151116cff6d661369</br>\n<br>Version: 2023.3.0</br>\n<br>Timestamp 2023-04-12</br>",
          "<br>Git Hash: 00dae0a1bd0b7919dee6ba4d96a4cf63f8949b0c</br>\n<br>Version: 2023.3.0</br>\n<br>Timestamp 2023-04-12</br>",
          "<br>Git Hash: 7c99dbc59c2c38c7c192be00eac500546471bed0</br>\n<br>Version: 2023.3.0</br>\n<br>Timestamp 2023-04-12</br>"
         ],
         "type": "scatter",
         "x": [
          "2023-04-12T20:33:25.502552",
          "2023-04-12T17:17:24.948740",
          "2023-04-12T09:53:30.436212"
         ],
         "xaxis": "x11",
         "y": [
          265.4026389688796,
          265.4026389688796,
          265.4026389688796
         ],
         "yaxis": "y11"
        },
        {
         "hovertemplate": "%{text}",
         "legendgroup": "0.1",
         "marker": {
          "color": "red"
         },
         "name": "dx=0.1",
         "showlegend": false,
         "text": [
          "<br>Git Hash: 19f9c461fbaf4206d48775c151116cff6d661369</br>\n<br>Version: 2023.3.0</br>\n<br>Timestamp 2023-04-12</br>",
          "<br>Git Hash: 00dae0a1bd0b7919dee6ba4d96a4cf63f8949b0c</br>\n<br>Version: 2023.3.0</br>\n<br>Timestamp 2023-04-12</br>",
          "<br>Git Hash: 7c99dbc59c2c38c7c192be00eac500546471bed0</br>\n<br>Version: 2023.3.0</br>\n<br>Timestamp 2023-04-12</br>"
         ],
         "type": "scatter",
         "x": [
          "2023-04-12T20:33:25.502552",
          "2023-04-12T17:17:24.948740",
          "2023-04-12T09:53:30.436212"
         ],
         "xaxis": "x12",
         "y": [
          332.3475149814282,
          332.3475149814282,
          332.3475149814282
         ],
         "yaxis": "y12"
        },
        {
         "hovertemplate": "%{text}",
         "legendgroup": "0.1",
         "marker": {
          "color": "red"
         },
         "name": "dx=0.1",
         "showlegend": false,
         "text": [
          "<br>Git Hash: 19f9c461fbaf4206d48775c151116cff6d661369</br>\n<br>Version: 2023.3.0</br>\n<br>Timestamp 2023-04-12</br>",
          "<br>Git Hash: 00dae0a1bd0b7919dee6ba4d96a4cf63f8949b0c</br>\n<br>Version: 2023.3.0</br>\n<br>Timestamp 2023-04-12</br>",
          "<br>Git Hash: 7c99dbc59c2c38c7c192be00eac500546471bed0</br>\n<br>Version: 2023.3.0</br>\n<br>Timestamp 2023-04-12</br>"
         ],
         "type": "scatter",
         "x": [
          "2023-04-12T20:33:25.502552",
          "2023-04-12T17:17:24.948740",
          "2023-04-12T09:53:30.436212"
         ],
         "xaxis": "x13",
         "y": [
          93.46999762353894,
          93.46999762353894,
          93.46999762353894
         ],
         "yaxis": "y13"
        },
        {
         "hovertemplate": "%{text}",
         "legendgroup": "0.1",
         "marker": {
          "color": "red"
         },
         "name": "dx=0.1",
         "showlegend": false,
         "text": [
          "<br>Git Hash: 19f9c461fbaf4206d48775c151116cff6d661369</br>\n<br>Version: 2023.3.0</br>\n<br>Timestamp 2023-04-12</br>",
          "<br>Git Hash: 00dae0a1bd0b7919dee6ba4d96a4cf63f8949b0c</br>\n<br>Version: 2023.3.0</br>\n<br>Timestamp 2023-04-12</br>",
          "<br>Git Hash: 7c99dbc59c2c38c7c192be00eac500546471bed0</br>\n<br>Version: 2023.3.0</br>\n<br>Timestamp 2023-04-12</br>"
         ],
         "type": "scatter",
         "x": [
          "2023-04-12T20:33:25.502552",
          "2023-04-12T17:17:24.948740",
          "2023-04-12T09:53:30.436212"
         ],
         "xaxis": "x14",
         "y": [
          51.11933974409381,
          51.11933974409381,
          51.11933974409381
         ],
         "yaxis": "y14"
        },
        {
         "hovertemplate": "%{text}",
         "legendgroup": "0.1",
         "marker": {
          "color": "red"
         },
         "name": "dx=0.1",
         "showlegend": false,
         "text": [
          "<br>Git Hash: 19f9c461fbaf4206d48775c151116cff6d661369</br>\n<br>Version: 2023.3.0</br>\n<br>Timestamp 2023-04-12</br>",
          "<br>Git Hash: 00dae0a1bd0b7919dee6ba4d96a4cf63f8949b0c</br>\n<br>Version: 2023.3.0</br>\n<br>Timestamp 2023-04-12</br>",
          "<br>Git Hash: 7c99dbc59c2c38c7c192be00eac500546471bed0</br>\n<br>Version: 2023.3.0</br>\n<br>Timestamp 2023-04-12</br>"
         ],
         "type": "scatter",
         "x": [
          "2023-04-12T20:33:25.502552",
          "2023-04-12T17:17:24.948740",
          "2023-04-12T09:53:30.436212"
         ],
         "xaxis": "x15",
         "y": [
          -88.02163380312128,
          -88.02163380312128,
          -88.02163380312128
         ],
         "yaxis": "y15"
        },
        {
         "hovertemplate": "%{text}",
         "legendgroup": "0.1",
         "marker": {
          "color": "red"
         },
         "name": "dx=0.1",
         "showlegend": false,
         "text": [
          "<br>Git Hash: 19f9c461fbaf4206d48775c151116cff6d661369</br>\n<br>Version: 2023.3.0</br>\n<br>Timestamp 2023-04-12</br>",
          "<br>Git Hash: 00dae0a1bd0b7919dee6ba4d96a4cf63f8949b0c</br>\n<br>Version: 2023.3.0</br>\n<br>Timestamp 2023-04-12</br>",
          "<br>Git Hash: 7c99dbc59c2c38c7c192be00eac500546471bed0</br>\n<br>Version: 2023.3.0</br>\n<br>Timestamp 2023-04-12</br>"
         ],
         "type": "scatter",
         "x": [
          "2023-04-12T20:33:25.502552",
          "2023-04-12T17:17:24.948740",
          "2023-04-12T09:53:30.436212"
         ],
         "xaxis": "x16",
         "y": [
          18.01890419733565,
          18.01890419733565,
          18.01890419733565
         ],
         "yaxis": "y16"
        },
        {
         "hovertemplate": "%{text}",
         "legendgroup": "0.1",
         "marker": {
          "color": "red"
         },
         "name": "dx=0.1",
         "showlegend": false,
         "text": [
          "<br>Git Hash: 19f9c461fbaf4206d48775c151116cff6d661369</br>\n<br>Version: 2023.3.0</br>\n<br>Timestamp 2023-04-12</br>",
          "<br>Git Hash: 00dae0a1bd0b7919dee6ba4d96a4cf63f8949b0c</br>\n<br>Version: 2023.3.0</br>\n<br>Timestamp 2023-04-12</br>",
          "<br>Git Hash: 7c99dbc59c2c38c7c192be00eac500546471bed0</br>\n<br>Version: 2023.3.0</br>\n<br>Timestamp 2023-04-12</br>"
         ],
         "type": "scatter",
         "x": [
          "2023-04-12T20:33:25.502552",
          "2023-04-12T17:17:24.948740",
          "2023-04-12T09:53:30.436212"
         ],
         "xaxis": "x17",
         "y": [
          0.0002615740189351584,
          0.0002615740189351584,
          0.0002615740189351584
         ],
         "yaxis": "y17"
        },
        {
         "hovertemplate": "%{text}",
         "legendgroup": "0.1",
         "marker": {
          "color": "red"
         },
         "name": "dx=0.1",
         "showlegend": false,
         "text": [
          "<br>Git Hash: 19f9c461fbaf4206d48775c151116cff6d661369</br>\n<br>Version: 2023.3.0</br>\n<br>Timestamp 2023-04-12</br>",
          "<br>Git Hash: 00dae0a1bd0b7919dee6ba4d96a4cf63f8949b0c</br>\n<br>Version: 2023.3.0</br>\n<br>Timestamp 2023-04-12</br>",
          "<br>Git Hash: 7c99dbc59c2c38c7c192be00eac500546471bed0</br>\n<br>Version: 2023.3.0</br>\n<br>Timestamp 2023-04-12</br>"
         ],
         "type": "scatter",
         "x": [
          "2023-04-12T20:33:25.502552",
          "2023-04-12T17:17:24.948740",
          "2023-04-12T09:53:30.436212"
         ],
         "xaxis": "x18",
         "y": [
          0.0001942344918733592,
          0.0001942344918733592,
          0.0001942344918733592
         ],
         "yaxis": "y18"
        },
        {
         "hovertemplate": "%{text}",
         "legendgroup": "0.1",
         "marker": {
          "color": "red"
         },
         "name": "dx=0.1",
         "showlegend": false,
         "text": [
          "<br>Git Hash: 19f9c461fbaf4206d48775c151116cff6d661369</br>\n<br>Version: 2023.3.0</br>\n<br>Timestamp 2023-04-12</br>",
          "<br>Git Hash: 00dae0a1bd0b7919dee6ba4d96a4cf63f8949b0c</br>\n<br>Version: 2023.3.0</br>\n<br>Timestamp 2023-04-12</br>",
          "<br>Git Hash: 7c99dbc59c2c38c7c192be00eac500546471bed0</br>\n<br>Version: 2023.3.0</br>\n<br>Timestamp 2023-04-12</br>"
         ],
         "type": "scatter",
         "x": [
          "2023-04-12T20:33:25.502552",
          "2023-04-12T17:17:24.948740",
          "2023-04-12T09:53:30.436212"
         ],
         "xaxis": "x19",
         "y": [
          268.6151443515614,
          268.6151443515614,
          268.6151443515614
         ],
         "yaxis": "y19"
        },
        {
         "hovertemplate": "%{text}",
         "legendgroup": "0.1",
         "marker": {
          "color": "red"
         },
         "name": "dx=0.1",
         "showlegend": false,
         "text": [
          "<br>Git Hash: 19f9c461fbaf4206d48775c151116cff6d661369</br>\n<br>Version: 2023.3.0</br>\n<br>Timestamp 2023-04-12</br>",
          "<br>Git Hash: 00dae0a1bd0b7919dee6ba4d96a4cf63f8949b0c</br>\n<br>Version: 2023.3.0</br>\n<br>Timestamp 2023-04-12</br>",
          "<br>Git Hash: 7c99dbc59c2c38c7c192be00eac500546471bed0</br>\n<br>Version: 2023.3.0</br>\n<br>Timestamp 2023-04-12</br>"
         ],
         "type": "scatter",
         "x": [
          "2023-04-12T20:33:25.502552",
          "2023-04-12T17:17:24.948740",
          "2023-04-12T09:53:30.436212"
         ],
         "xaxis": "x20",
         "y": [
          388.1388627417632,
          388.1388627417632,
          388.1388627417632
         ],
         "yaxis": "y20"
        },
        {
         "hovertemplate": "%{text}",
         "legendgroup": "0.1",
         "marker": {
          "color": "red"
         },
         "name": "dx=0.1",
         "showlegend": false,
         "text": [
          "<br>Git Hash: 19f9c461fbaf4206d48775c151116cff6d661369</br>\n<br>Version: 2023.3.0</br>\n<br>Timestamp 2023-04-12</br>",
          "<br>Git Hash: 00dae0a1bd0b7919dee6ba4d96a4cf63f8949b0c</br>\n<br>Version: 2023.3.0</br>\n<br>Timestamp 2023-04-12</br>",
          "<br>Git Hash: 7c99dbc59c2c38c7c192be00eac500546471bed0</br>\n<br>Version: 2023.3.0</br>\n<br>Timestamp 2023-04-12</br>"
         ],
         "type": "scatter",
         "x": [
          "2023-04-12T20:33:25.502552",
          "2023-04-12T17:17:24.948740",
          "2023-04-12T09:53:30.436212"
         ],
         "xaxis": "x21",
         "y": [
          469.8239764855482,
          469.8239764855482,
          469.8239764855482
         ],
         "yaxis": "y21"
        },
        {
         "hovertemplate": "%{text}",
         "legendgroup": "0.1",
         "marker": {
          "color": "red"
         },
         "name": "dx=0.1",
         "showlegend": false,
         "text": [
          "<br>Git Hash: 19f9c461fbaf4206d48775c151116cff6d661369</br>\n<br>Version: 2023.3.0</br>\n<br>Timestamp 2023-04-12</br>",
          "<br>Git Hash: 00dae0a1bd0b7919dee6ba4d96a4cf63f8949b0c</br>\n<br>Version: 2023.3.0</br>\n<br>Timestamp 2023-04-12</br>",
          "<br>Git Hash: 7c99dbc59c2c38c7c192be00eac500546471bed0</br>\n<br>Version: 2023.3.0</br>\n<br>Timestamp 2023-04-12</br>"
         ],
         "type": "scatter",
         "x": [
          "2023-04-12T20:33:25.502552",
          "2023-04-12T17:17:24.948740",
          "2023-04-12T09:53:30.436212"
         ],
         "xaxis": "x22",
         "y": [
          139,
          139,
          139
         ],
         "yaxis": "y22"
        },
        {
         "hovertemplate": "%{text}",
         "legendgroup": "0.1",
         "marker": {
          "color": "red"
         },
         "name": "dx=0.1",
         "showlegend": false,
         "text": [
          "<br>Git Hash: 19f9c461fbaf4206d48775c151116cff6d661369</br>\n<br>Version: 2023.3.0</br>\n<br>Timestamp 2023-04-12</br>",
          "<br>Git Hash: 00dae0a1bd0b7919dee6ba4d96a4cf63f8949b0c</br>\n<br>Version: 2023.3.0</br>\n<br>Timestamp 2023-04-12</br>",
          "<br>Git Hash: 7c99dbc59c2c38c7c192be00eac500546471bed0</br>\n<br>Version: 2023.3.0</br>\n<br>Timestamp 2023-04-12</br>"
         ],
         "type": "scatter",
         "x": [
          "2023-04-12T20:33:25.502552",
          "2023-04-12T17:17:24.948740",
          "2023-04-12T09:53:30.436212"
         ],
         "xaxis": "x23",
         "y": [
          149.1895269687489,
          149.1895269687489,
          149.1895269687489
         ],
         "yaxis": "y23"
        },
        {
         "hovertemplate": "%{text}",
         "legendgroup": "0.1",
         "marker": {
          "color": "red"
         },
         "name": "dx=0.1",
         "showlegend": false,
         "text": [
          "<br>Git Hash: 19f9c461fbaf4206d48775c151116cff6d661369</br>\n<br>Version: 2023.3.0</br>\n<br>Timestamp 2023-04-12</br>",
          "<br>Git Hash: 00dae0a1bd0b7919dee6ba4d96a4cf63f8949b0c</br>\n<br>Version: 2023.3.0</br>\n<br>Timestamp 2023-04-12</br>",
          "<br>Git Hash: 7c99dbc59c2c38c7c192be00eac500546471bed0</br>\n<br>Version: 2023.3.0</br>\n<br>Timestamp 2023-04-12</br>"
         ],
         "type": "scatter",
         "x": [
          "2023-04-12T20:33:25.502552",
          "2023-04-12T17:17:24.948740",
          "2023-04-12T09:53:30.436212"
         ],
         "xaxis": "x24",
         "y": [
          457.7402048498863,
          457.7402048498863,
          457.7402048498863
         ],
         "yaxis": "y24"
        },
        {
         "hovertemplate": "%{text}",
         "legendgroup": "0.1",
         "marker": {
          "color": "red"
         },
         "name": "dx=0.1",
         "showlegend": false,
         "text": [
          "<br>Git Hash: 19f9c461fbaf4206d48775c151116cff6d661369</br>\n<br>Version: 2023.3.0</br>\n<br>Timestamp 2023-04-12</br>",
          "<br>Git Hash: 00dae0a1bd0b7919dee6ba4d96a4cf63f8949b0c</br>\n<br>Version: 2023.3.0</br>\n<br>Timestamp 2023-04-12</br>",
          "<br>Git Hash: 7c99dbc59c2c38c7c192be00eac500546471bed0</br>\n<br>Version: 2023.3.0</br>\n<br>Timestamp 2023-04-12</br>"
         ],
         "type": "scatter",
         "x": [
          "2023-04-12T20:33:25.502552",
          "2023-04-12T17:17:24.948740",
          "2023-04-12T09:53:30.436212"
         ],
         "xaxis": "x25",
         "y": [
          1,
          1,
          1
         ],
         "yaxis": "y25"
        },
        {
         "hovertemplate": "%{text}",
         "legendgroup": "0.1",
         "marker": {
          "color": "red"
         },
         "name": "dx=0.1",
         "showlegend": false,
         "text": [
          "<br>Git Hash: 19f9c461fbaf4206d48775c151116cff6d661369</br>\n<br>Version: 2023.3.0</br>\n<br>Timestamp 2023-04-12</br>",
          "<br>Git Hash: 00dae0a1bd0b7919dee6ba4d96a4cf63f8949b0c</br>\n<br>Version: 2023.3.0</br>\n<br>Timestamp 2023-04-12</br>",
          "<br>Git Hash: 7c99dbc59c2c38c7c192be00eac500546471bed0</br>\n<br>Version: 2023.3.0</br>\n<br>Timestamp 2023-04-12</br>"
         ],
         "type": "scatter",
         "x": [
          "2023-04-12T20:33:25.502552",
          "2023-04-12T17:17:24.948740",
          "2023-04-12T09:53:30.436212"
         ],
         "xaxis": "x26",
         "y": [
          0.9023825110769322,
          0.9023825110769322,
          0.9023825110769322
         ],
         "yaxis": "y26"
        },
        {
         "hovertemplate": "%{text}",
         "legendgroup": "0.1",
         "marker": {
          "color": "red"
         },
         "name": "dx=0.1",
         "showlegend": false,
         "text": [
          "<br>Git Hash: 19f9c461fbaf4206d48775c151116cff6d661369</br>\n<br>Version: 2023.3.0</br>\n<br>Timestamp 2023-04-12</br>",
          "<br>Git Hash: 00dae0a1bd0b7919dee6ba4d96a4cf63f8949b0c</br>\n<br>Version: 2023.3.0</br>\n<br>Timestamp 2023-04-12</br>",
          "<br>Git Hash: 7c99dbc59c2c38c7c192be00eac500546471bed0</br>\n<br>Version: 2023.3.0</br>\n<br>Timestamp 2023-04-12</br>"
         ],
         "type": "scatter",
         "x": [
          "2023-04-12T20:33:25.502552",
          "2023-04-12T17:17:24.948740",
          "2023-04-12T09:53:30.436212"
         ],
         "xaxis": "x27",
         "y": [
          138,
          138,
          138
         ],
         "yaxis": "y27"
        },
        {
         "hovertemplate": "%{text}",
         "legendgroup": "0.1",
         "marker": {
          "color": "red"
         },
         "name": "dx=0.1",
         "showlegend": false,
         "text": [
          "<br>Git Hash: 19f9c461fbaf4206d48775c151116cff6d661369</br>\n<br>Version: 2023.3.0</br>\n<br>Timestamp 2023-04-12</br>",
          "<br>Git Hash: 00dae0a1bd0b7919dee6ba4d96a4cf63f8949b0c</br>\n<br>Version: 2023.3.0</br>\n<br>Timestamp 2023-04-12</br>",
          "<br>Git Hash: 7c99dbc59c2c38c7c192be00eac500546471bed0</br>\n<br>Version: 2023.3.0</br>\n<br>Timestamp 2023-04-12</br>"
         ],
         "type": "scatter",
         "x": [
          "2023-04-12T20:33:25.502552",
          "2023-04-12T17:17:24.948740",
          "2023-04-12T09:53:30.436212"
         ],
         "xaxis": "x28",
         "y": [
          272.16049776632275,
          272.16049776632275,
          272.16049776632275
         ],
         "yaxis": "y28"
        },
        {
         "hovertemplate": "%{text}",
         "legendgroup": "0.1",
         "marker": {
          "color": "red"
         },
         "name": "dx=0.1",
         "showlegend": false,
         "text": [
          "<br>Git Hash: 19f9c461fbaf4206d48775c151116cff6d661369</br>\n<br>Version: 2023.3.0</br>\n<br>Timestamp 2023-04-12</br>",
          "<br>Git Hash: 00dae0a1bd0b7919dee6ba4d96a4cf63f8949b0c</br>\n<br>Version: 2023.3.0</br>\n<br>Timestamp 2023-04-12</br>",
          "<br>Git Hash: 7c99dbc59c2c38c7c192be00eac500546471bed0</br>\n<br>Version: 2023.3.0</br>\n<br>Timestamp 2023-04-12</br>"
         ],
         "type": "scatter",
         "x": [
          "2023-04-12T20:33:25.502552",
          "2023-04-12T17:17:24.948740",
          "2023-04-12T09:53:30.436212"
         ],
         "xaxis": "x29",
         "y": [
          403.1148689090557,
          403.1148689090557,
          403.1148689090557
         ],
         "yaxis": "y29"
        },
        {
         "hovertemplate": "%{text}",
         "legendgroup": "0.1",
         "marker": {
          "color": "red"
         },
         "name": "dx=0.1",
         "showlegend": false,
         "text": [
          "<br>Git Hash: 19f9c461fbaf4206d48775c151116cff6d661369</br>\n<br>Version: 2023.3.0</br>\n<br>Timestamp 2023-04-12</br>",
          "<br>Git Hash: 00dae0a1bd0b7919dee6ba4d96a4cf63f8949b0c</br>\n<br>Version: 2023.3.0</br>\n<br>Timestamp 2023-04-12</br>",
          "<br>Git Hash: 7c99dbc59c2c38c7c192be00eac500546471bed0</br>\n<br>Version: 2023.3.0</br>\n<br>Timestamp 2023-04-12</br>"
         ],
         "type": "scatter",
         "x": [
          "2023-04-12T20:33:25.502552",
          "2023-04-12T17:17:24.948740",
          "2023-04-12T09:53:30.436212"
         ],
         "xaxis": "x30",
         "y": [
          520.7955050767033,
          520.7955050767033,
          520.7955050767033
         ],
         "yaxis": "y30"
        },
        {
         "hovertemplate": "%{text}",
         "legendgroup": "0.1",
         "marker": {
          "color": "red"
         },
         "name": "dx=0.1",
         "showlegend": false,
         "text": [
          "<br>Git Hash: 19f9c461fbaf4206d48775c151116cff6d661369</br>\n<br>Version: 2023.3.0</br>\n<br>Timestamp 2023-04-12</br>",
          "<br>Git Hash: 00dae0a1bd0b7919dee6ba4d96a4cf63f8949b0c</br>\n<br>Version: 2023.3.0</br>\n<br>Timestamp 2023-04-12</br>",
          "<br>Git Hash: 7c99dbc59c2c38c7c192be00eac500546471bed0</br>\n<br>Version: 2023.3.0</br>\n<br>Timestamp 2023-04-12</br>"
         ],
         "type": "scatter",
         "x": [
          "2023-04-12T20:33:25.502552",
          "2023-04-12T17:17:24.948740",
          "2023-04-12T09:53:30.436212"
         ],
         "xaxis": "x31",
         "y": [
          192.95059800066878,
          192.95059800066878,
          192.95059800066878
         ],
         "yaxis": "y31"
        },
        {
         "hovertemplate": "%{text}",
         "legendgroup": "0.1",
         "marker": {
          "color": "red"
         },
         "name": "dx=0.1",
         "showlegend": false,
         "text": [
          "<br>Git Hash: 19f9c461fbaf4206d48775c151116cff6d661369</br>\n<br>Version: 2023.3.0</br>\n<br>Timestamp 2023-04-12</br>",
          "<br>Git Hash: 00dae0a1bd0b7919dee6ba4d96a4cf63f8949b0c</br>\n<br>Version: 2023.3.0</br>\n<br>Timestamp 2023-04-12</br>",
          "<br>Git Hash: 7c99dbc59c2c38c7c192be00eac500546471bed0</br>\n<br>Version: 2023.3.0</br>\n<br>Timestamp 2023-04-12</br>"
         ],
         "type": "scatter",
         "x": [
          "2023-04-12T20:33:25.502552",
          "2023-04-12T17:17:24.948740",
          "2023-04-12T09:53:30.436212"
         ],
         "xaxis": "x32",
         "y": [
          -108.45228920497729,
          -108.45228920497729,
          -108.45228920497729
         ],
         "yaxis": "y32"
        },
        {
         "hovertemplate": "%{text}",
         "legendgroup": "0.1",
         "marker": {
          "color": "red"
         },
         "name": "dx=0.1",
         "showlegend": false,
         "text": [
          "<br>Git Hash: 19f9c461fbaf4206d48775c151116cff6d661369</br>\n<br>Version: 2023.3.0</br>\n<br>Timestamp 2023-04-12</br>",
          "<br>Git Hash: 00dae0a1bd0b7919dee6ba4d96a4cf63f8949b0c</br>\n<br>Version: 2023.3.0</br>\n<br>Timestamp 2023-04-12</br>",
          "<br>Git Hash: 7c99dbc59c2c38c7c192be00eac500546471bed0</br>\n<br>Version: 2023.3.0</br>\n<br>Timestamp 2023-04-12</br>"
         ],
         "type": "scatter",
         "x": [
          "2023-04-12T20:33:25.502552",
          "2023-04-12T17:17:24.948740",
          "2023-04-12T09:53:30.436212"
         ],
         "xaxis": "x33",
         "y": [
          0.16838426036105913,
          0.16838426036105913,
          0.16838426036105913
         ],
         "yaxis": "y33"
        },
        {
         "hovertemplate": "%{text}",
         "legendgroup": "0.1",
         "marker": {
          "color": "red"
         },
         "name": "dx=0.1",
         "showlegend": false,
         "text": [
          "<br>Git Hash: 19f9c461fbaf4206d48775c151116cff6d661369</br>\n<br>Version: 2023.3.0</br>\n<br>Timestamp 2023-04-12</br>",
          "<br>Git Hash: 00dae0a1bd0b7919dee6ba4d96a4cf63f8949b0c</br>\n<br>Version: 2023.3.0</br>\n<br>Timestamp 2023-04-12</br>",
          "<br>Git Hash: 7c99dbc59c2c38c7c192be00eac500546471bed0</br>\n<br>Version: 2023.3.0</br>\n<br>Timestamp 2023-04-12</br>"
         ],
         "type": "scatter",
         "x": [
          "2023-04-12T20:33:25.502552",
          "2023-04-12T17:17:24.948740",
          "2023-04-12T09:53:30.436212"
         ],
         "xaxis": "x34",
         "y": [
          0.16838426036105913,
          0.16838426036105913,
          0.16838426036105913
         ],
         "yaxis": "y34"
        },
        {
         "hovertemplate": "%{text}",
         "legendgroup": "0.1",
         "marker": {
          "color": "red"
         },
         "name": "dx=0.1",
         "showlegend": false,
         "text": [
          "<br>Git Hash: 19f9c461fbaf4206d48775c151116cff6d661369</br>\n<br>Version: 2023.3.0</br>\n<br>Timestamp 2023-04-12</br>",
          "<br>Git Hash: 00dae0a1bd0b7919dee6ba4d96a4cf63f8949b0c</br>\n<br>Version: 2023.3.0</br>\n<br>Timestamp 2023-04-12</br>",
          "<br>Git Hash: 7c99dbc59c2c38c7c192be00eac500546471bed0</br>\n<br>Version: 2023.3.0</br>\n<br>Timestamp 2023-04-12</br>"
         ],
         "type": "scatter",
         "x": [
          "2023-04-12T20:33:25.502552",
          "2023-04-12T17:17:24.948740",
          "2023-04-12T09:53:30.436212"
         ],
         "xaxis": "x35",
         "y": [
          0.8419213018052958,
          0.8419213018052958,
          0.8419213018052958
         ],
         "yaxis": "y35"
        },
        {
         "hovertemplate": "%{text}",
         "legendgroup": "0.1",
         "marker": {
          "color": "red"
         },
         "name": "dx=0.1",
         "showlegend": false,
         "text": [
          "<br>Git Hash: 19f9c461fbaf4206d48775c151116cff6d661369</br>\n<br>Version: 2023.3.0</br>\n<br>Timestamp 2023-04-12</br>",
          "<br>Git Hash: 00dae0a1bd0b7919dee6ba4d96a4cf63f8949b0c</br>\n<br>Version: 2023.3.0</br>\n<br>Timestamp 2023-04-12</br>",
          "<br>Git Hash: 7c99dbc59c2c38c7c192be00eac500546471bed0</br>\n<br>Version: 2023.3.0</br>\n<br>Timestamp 2023-04-12</br>"
         ],
         "type": "scatter",
         "x": [
          "2023-04-12T20:33:25.502552",
          "2023-04-12T17:17:24.948740",
          "2023-04-12T09:53:30.436212"
         ],
         "xaxis": "x36",
         "y": [
          0.849069801329888,
          0.849069801329888,
          0.849069801329888
         ],
         "yaxis": "y36"
        },
        {
         "hovertemplate": "%{text}",
         "legendgroup": "0.1",
         "marker": {
          "color": "red"
         },
         "name": "dx=0.1",
         "showlegend": false,
         "text": [
          "<br>Git Hash: 19f9c461fbaf4206d48775c151116cff6d661369</br>\n<br>Version: 2023.3.0</br>\n<br>Timestamp 2023-04-12</br>",
          "<br>Git Hash: 00dae0a1bd0b7919dee6ba4d96a4cf63f8949b0c</br>\n<br>Version: 2023.3.0</br>\n<br>Timestamp 2023-04-12</br>",
          "<br>Git Hash: 7c99dbc59c2c38c7c192be00eac500546471bed0</br>\n<br>Version: 2023.3.0</br>\n<br>Timestamp 2023-04-12</br>"
         ],
         "type": "scatter",
         "x": [
          "2023-04-12T20:33:25.502552",
          "2023-04-12T17:17:24.948740",
          "2023-04-12T09:53:30.436212"
         ],
         "xaxis": "x37",
         "y": [
          0.05,
          0.05,
          0.05
         ],
         "yaxis": "y37"
        },
        {
         "hovertemplate": "%{text}",
         "legendgroup": "0.1",
         "marker": {
          "color": "red"
         },
         "name": "dx=0.1",
         "showlegend": false,
         "text": [
          "<br>Git Hash: 19f9c461fbaf4206d48775c151116cff6d661369</br>\n<br>Version: 2023.3.0</br>\n<br>Timestamp 2023-04-12</br>",
          "<br>Git Hash: 00dae0a1bd0b7919dee6ba4d96a4cf63f8949b0c</br>\n<br>Version: 2023.3.0</br>\n<br>Timestamp 2023-04-12</br>",
          "<br>Git Hash: 7c99dbc59c2c38c7c192be00eac500546471bed0</br>\n<br>Version: 2023.3.0</br>\n<br>Timestamp 2023-04-12</br>"
         ],
         "type": "scatter",
         "x": [
          "2023-04-12T20:33:25.502552",
          "2023-04-12T17:17:24.948740",
          "2023-04-12T09:53:30.436212"
         ],
         "xaxis": "x38",
         "y": [
          0.09721669804675352,
          0.09721669804675352,
          0.09721669804675352
         ],
         "yaxis": "y38"
        },
        {
         "hovertemplate": "%{text}",
         "legendgroup": "0.1",
         "marker": {
          "color": "red"
         },
         "name": "dx=0.1",
         "showlegend": false,
         "text": [
          "<br>Git Hash: 19f9c461fbaf4206d48775c151116cff6d661369</br>\n<br>Version: 2023.3.0</br>\n<br>Timestamp 2023-04-12</br>",
          "<br>Git Hash: 00dae0a1bd0b7919dee6ba4d96a4cf63f8949b0c</br>\n<br>Version: 2023.3.0</br>\n<br>Timestamp 2023-04-12</br>",
          "<br>Git Hash: 7c99dbc59c2c38c7c192be00eac500546471bed0</br>\n<br>Version: 2023.3.0</br>\n<br>Timestamp 2023-04-12</br>"
         ],
         "type": "scatter",
         "x": [
          "2023-04-12T20:33:25.502552",
          "2023-04-12T17:17:24.948740",
          "2023-04-12T09:53:30.436212"
         ],
         "xaxis": "x39",
         "y": [
          0.09721669804675352,
          0.09721669804675352,
          0.09721669804675352
         ],
         "yaxis": "y39"
        },
        {
         "hovertemplate": "%{text}",
         "legendgroup": "0.1",
         "marker": {
          "color": "red"
         },
         "name": "dx=0.1",
         "showlegend": false,
         "text": [
          "<br>Git Hash: 19f9c461fbaf4206d48775c151116cff6d661369</br>\n<br>Version: 2023.3.0</br>\n<br>Timestamp 2023-04-12</br>",
          "<br>Git Hash: 00dae0a1bd0b7919dee6ba4d96a4cf63f8949b0c</br>\n<br>Version: 2023.3.0</br>\n<br>Timestamp 2023-04-12</br>",
          "<br>Git Hash: 7c99dbc59c2c38c7c192be00eac500546471bed0</br>\n<br>Version: 2023.3.0</br>\n<br>Timestamp 2023-04-12</br>"
         ],
         "type": "scatter",
         "x": [
          "2023-04-12T20:33:25.502552",
          "2023-04-12T17:17:24.948740",
          "2023-04-12T09:53:30.436212"
         ],
         "xaxis": "x40",
         "y": [
          0.4860834902337676,
          0.4860834902337676,
          0.4860834902337676
         ],
         "yaxis": "y40"
        },
        {
         "hovertemplate": "%{text}",
         "legendgroup": "0.1",
         "marker": {
          "color": "red"
         },
         "name": "dx=0.1",
         "showlegend": false,
         "text": [
          "<br>Git Hash: 19f9c461fbaf4206d48775c151116cff6d661369</br>\n<br>Version: 2023.3.0</br>\n<br>Timestamp 2023-04-12</br>",
          "<br>Git Hash: 00dae0a1bd0b7919dee6ba4d96a4cf63f8949b0c</br>\n<br>Version: 2023.3.0</br>\n<br>Timestamp 2023-04-12</br>",
          "<br>Git Hash: 7c99dbc59c2c38c7c192be00eac500546471bed0</br>\n<br>Version: 2023.3.0</br>\n<br>Timestamp 2023-04-12</br>"
         ],
         "type": "scatter",
         "x": [
          "2023-04-12T20:33:25.502552",
          "2023-04-12T17:17:24.948740",
          "2023-04-12T09:53:30.436212"
         ],
         "xaxis": "x41",
         "y": [
          0.48845780297076713,
          0.48845780297076713,
          0.48845780297076713
         ],
         "yaxis": "y41"
        },
        {
         "hovertemplate": "%{text}",
         "legendgroup": "0.1",
         "marker": {
          "color": "red"
         },
         "name": "dx=0.1",
         "showlegend": false,
         "text": [
          "<br>Git Hash: 19f9c461fbaf4206d48775c151116cff6d661369</br>\n<br>Version: 2023.3.0</br>\n<br>Timestamp 2023-04-12</br>",
          "<br>Git Hash: 00dae0a1bd0b7919dee6ba4d96a4cf63f8949b0c</br>\n<br>Version: 2023.3.0</br>\n<br>Timestamp 2023-04-12</br>",
          "<br>Git Hash: 7c99dbc59c2c38c7c192be00eac500546471bed0</br>\n<br>Version: 2023.3.0</br>\n<br>Timestamp 2023-04-12</br>"
         ],
         "type": "scatter",
         "x": [
          "2023-04-12T20:33:25.502552",
          "2023-04-12T17:17:24.948740",
          "2023-04-12T09:53:30.436212"
         ],
         "xaxis": "x42",
         "y": [
          0.05,
          0.05,
          0.05
         ],
         "yaxis": "y42"
        },
        {
         "hovertemplate": "%{text}",
         "legendgroup": "0.1",
         "marker": {
          "color": "red"
         },
         "name": "dx=0.1",
         "showlegend": false,
         "text": [
          "<br>Git Hash: 19f9c461fbaf4206d48775c151116cff6d661369</br>\n<br>Version: 2023.3.0</br>\n<br>Timestamp 2023-04-12</br>",
          "<br>Git Hash: 00dae0a1bd0b7919dee6ba4d96a4cf63f8949b0c</br>\n<br>Version: 2023.3.0</br>\n<br>Timestamp 2023-04-12</br>",
          "<br>Git Hash: 7c99dbc59c2c38c7c192be00eac500546471bed0</br>\n<br>Version: 2023.3.0</br>\n<br>Timestamp 2023-04-12</br>"
         ],
         "type": "scatter",
         "x": [
          "2023-04-12T20:33:25.502552",
          "2023-04-12T17:17:24.948740",
          "2023-04-12T09:53:30.436212"
         ],
         "xaxis": "x43",
         "y": [
          0.09721669804675352,
          0.09721669804675352,
          0.09721669804675352
         ],
         "yaxis": "y43"
        },
        {
         "hovertemplate": "%{text}",
         "legendgroup": "0.1",
         "marker": {
          "color": "red"
         },
         "name": "dx=0.1",
         "showlegend": false,
         "text": [
          "<br>Git Hash: 19f9c461fbaf4206d48775c151116cff6d661369</br>\n<br>Version: 2023.3.0</br>\n<br>Timestamp 2023-04-12</br>",
          "<br>Git Hash: 00dae0a1bd0b7919dee6ba4d96a4cf63f8949b0c</br>\n<br>Version: 2023.3.0</br>\n<br>Timestamp 2023-04-12</br>",
          "<br>Git Hash: 7c99dbc59c2c38c7c192be00eac500546471bed0</br>\n<br>Version: 2023.3.0</br>\n<br>Timestamp 2023-04-12</br>"
         ],
         "type": "scatter",
         "x": [
          "2023-04-12T20:33:25.502552",
          "2023-04-12T17:17:24.948740",
          "2023-04-12T09:53:30.436212"
         ],
         "xaxis": "x44",
         "y": [
          0.09721669804675352,
          0.09721669804675352,
          0.09721669804675352
         ],
         "yaxis": "y44"
        },
        {
         "hovertemplate": "%{text}",
         "legendgroup": "0.1",
         "marker": {
          "color": "red"
         },
         "name": "dx=0.1",
         "showlegend": false,
         "text": [
          "<br>Git Hash: 19f9c461fbaf4206d48775c151116cff6d661369</br>\n<br>Version: 2023.3.0</br>\n<br>Timestamp 2023-04-12</br>",
          "<br>Git Hash: 00dae0a1bd0b7919dee6ba4d96a4cf63f8949b0c</br>\n<br>Version: 2023.3.0</br>\n<br>Timestamp 2023-04-12</br>",
          "<br>Git Hash: 7c99dbc59c2c38c7c192be00eac500546471bed0</br>\n<br>Version: 2023.3.0</br>\n<br>Timestamp 2023-04-12</br>"
         ],
         "type": "scatter",
         "x": [
          "2023-04-12T20:33:25.502552",
          "2023-04-12T17:17:24.948740",
          "2023-04-12T09:53:30.436212"
         ],
         "xaxis": "x45",
         "y": [
          0.4860834902337676,
          0.4860834902337676,
          0.4860834902337676
         ],
         "yaxis": "y45"
        },
        {
         "hovertemplate": "%{text}",
         "legendgroup": "0.1",
         "marker": {
          "color": "red"
         },
         "name": "dx=0.1",
         "showlegend": false,
         "text": [
          "<br>Git Hash: 19f9c461fbaf4206d48775c151116cff6d661369</br>\n<br>Version: 2023.3.0</br>\n<br>Timestamp 2023-04-12</br>",
          "<br>Git Hash: 00dae0a1bd0b7919dee6ba4d96a4cf63f8949b0c</br>\n<br>Version: 2023.3.0</br>\n<br>Timestamp 2023-04-12</br>",
          "<br>Git Hash: 7c99dbc59c2c38c7c192be00eac500546471bed0</br>\n<br>Version: 2023.3.0</br>\n<br>Timestamp 2023-04-12</br>"
         ],
         "type": "scatter",
         "x": [
          "2023-04-12T20:33:25.502552",
          "2023-04-12T17:17:24.948740",
          "2023-04-12T09:53:30.436212"
         ],
         "xaxis": "x46",
         "y": [
          0.48845780297076713,
          0.48845780297076713,
          0.48845780297076713
         ],
         "yaxis": "y46"
        },
        {
         "hovertemplate": "%{text}",
         "legendgroup": "0.1",
         "marker": {
          "color": "red"
         },
         "name": "dx=0.1",
         "showlegend": false,
         "text": [
          "<br>Git Hash: 19f9c461fbaf4206d48775c151116cff6d661369</br>\n<br>Version: 2023.3.0</br>\n<br>Timestamp 2023-04-12</br>",
          "<br>Git Hash: 00dae0a1bd0b7919dee6ba4d96a4cf63f8949b0c</br>\n<br>Version: 2023.3.0</br>\n<br>Timestamp 2023-04-12</br>",
          "<br>Git Hash: 7c99dbc59c2c38c7c192be00eac500546471bed0</br>\n<br>Version: 2023.3.0</br>\n<br>Timestamp 2023-04-12</br>"
         ],
         "type": "scatter",
         "x": [
          "2023-04-12T20:33:25.502552",
          "2023-04-12T17:17:24.948740",
          "2023-04-12T09:53:30.436212"
         ],
         "xaxis": "x47",
         "y": [
          0.05,
          0.05,
          0.05
         ],
         "yaxis": "y47"
        },
        {
         "hovertemplate": "%{text}",
         "legendgroup": "0.1",
         "marker": {
          "color": "red"
         },
         "name": "dx=0.1",
         "showlegend": false,
         "text": [
          "<br>Git Hash: 19f9c461fbaf4206d48775c151116cff6d661369</br>\n<br>Version: 2023.3.0</br>\n<br>Timestamp 2023-04-12</br>",
          "<br>Git Hash: 00dae0a1bd0b7919dee6ba4d96a4cf63f8949b0c</br>\n<br>Version: 2023.3.0</br>\n<br>Timestamp 2023-04-12</br>",
          "<br>Git Hash: 7c99dbc59c2c38c7c192be00eac500546471bed0</br>\n<br>Version: 2023.3.0</br>\n<br>Timestamp 2023-04-12</br>"
         ],
         "type": "scatter",
         "x": [
          "2023-04-12T20:33:25.502552",
          "2023-04-12T17:17:24.948740",
          "2023-04-12T09:53:30.436212"
         ],
         "xaxis": "x48",
         "y": [
          0.09721669804675352,
          0.09721669804675352,
          0.09721669804675352
         ],
         "yaxis": "y48"
        },
        {
         "hovertemplate": "%{text}",
         "legendgroup": "0.1",
         "marker": {
          "color": "red"
         },
         "name": "dx=0.1",
         "showlegend": false,
         "text": [
          "<br>Git Hash: 19f9c461fbaf4206d48775c151116cff6d661369</br>\n<br>Version: 2023.3.0</br>\n<br>Timestamp 2023-04-12</br>",
          "<br>Git Hash: 00dae0a1bd0b7919dee6ba4d96a4cf63f8949b0c</br>\n<br>Version: 2023.3.0</br>\n<br>Timestamp 2023-04-12</br>",
          "<br>Git Hash: 7c99dbc59c2c38c7c192be00eac500546471bed0</br>\n<br>Version: 2023.3.0</br>\n<br>Timestamp 2023-04-12</br>"
         ],
         "type": "scatter",
         "x": [
          "2023-04-12T20:33:25.502552",
          "2023-04-12T17:17:24.948740",
          "2023-04-12T09:53:30.436212"
         ],
         "xaxis": "x49",
         "y": [
          0.09721669804675352,
          0.09721669804675352,
          0.09721669804675352
         ],
         "yaxis": "y49"
        },
        {
         "hovertemplate": "%{text}",
         "legendgroup": "0.1",
         "marker": {
          "color": "red"
         },
         "name": "dx=0.1",
         "showlegend": false,
         "text": [
          "<br>Git Hash: 19f9c461fbaf4206d48775c151116cff6d661369</br>\n<br>Version: 2023.3.0</br>\n<br>Timestamp 2023-04-12</br>",
          "<br>Git Hash: 00dae0a1bd0b7919dee6ba4d96a4cf63f8949b0c</br>\n<br>Version: 2023.3.0</br>\n<br>Timestamp 2023-04-12</br>",
          "<br>Git Hash: 7c99dbc59c2c38c7c192be00eac500546471bed0</br>\n<br>Version: 2023.3.0</br>\n<br>Timestamp 2023-04-12</br>"
         ],
         "type": "scatter",
         "x": [
          "2023-04-12T20:33:25.502552",
          "2023-04-12T17:17:24.948740",
          "2023-04-12T09:53:30.436212"
         ],
         "xaxis": "x50",
         "y": [
          0.4860834902337676,
          0.4860834902337676,
          0.4860834902337676
         ],
         "yaxis": "y50"
        },
        {
         "hovertemplate": "%{text}",
         "legendgroup": "0.1",
         "marker": {
          "color": "red"
         },
         "name": "dx=0.1",
         "showlegend": false,
         "text": [
          "<br>Git Hash: 19f9c461fbaf4206d48775c151116cff6d661369</br>\n<br>Version: 2023.3.0</br>\n<br>Timestamp 2023-04-12</br>",
          "<br>Git Hash: 00dae0a1bd0b7919dee6ba4d96a4cf63f8949b0c</br>\n<br>Version: 2023.3.0</br>\n<br>Timestamp 2023-04-12</br>",
          "<br>Git Hash: 7c99dbc59c2c38c7c192be00eac500546471bed0</br>\n<br>Version: 2023.3.0</br>\n<br>Timestamp 2023-04-12</br>"
         ],
         "type": "scatter",
         "x": [
          "2023-04-12T20:33:25.502552",
          "2023-04-12T17:17:24.948740",
          "2023-04-12T09:53:30.436212"
         ],
         "xaxis": "x51",
         "y": [
          0.48845780297076713,
          0.48845780297076713,
          0.48845780297076713
         ],
         "yaxis": "y51"
        },
        {
         "hovertemplate": "%{text}",
         "legendgroup": "0.1",
         "marker": {
          "color": "red"
         },
         "name": "dx=0.1",
         "showlegend": false,
         "text": [
          "<br>Git Hash: 19f9c461fbaf4206d48775c151116cff6d661369</br>\n<br>Version: 2023.3.0</br>\n<br>Timestamp 2023-04-12</br>",
          "<br>Git Hash: 00dae0a1bd0b7919dee6ba4d96a4cf63f8949b0c</br>\n<br>Version: 2023.3.0</br>\n<br>Timestamp 2023-04-12</br>",
          "<br>Git Hash: 7c99dbc59c2c38c7c192be00eac500546471bed0</br>\n<br>Version: 2023.3.0</br>\n<br>Timestamp 2023-04-12</br>"
         ],
         "type": "scatter",
         "x": [
          "2023-04-12T20:33:25.502552",
          "2023-04-12T17:17:24.948740",
          "2023-04-12T09:53:30.436212"
         ],
         "xaxis": "x52",
         "y": [
          0.05,
          0.05,
          0.05
         ],
         "yaxis": "y52"
        },
        {
         "hovertemplate": "%{text}",
         "legendgroup": "0.2",
         "marker": {
          "color": "green"
         },
         "name": "dx=0.2",
         "showlegend": true,
         "text": [
          "<br>Git Hash: 19f9c461fbaf4206d48775c151116cff6d661369</br>\n<br>Version: 2023.3.0</br>\n<br>Timestamp 2023-04-12</br>",
          "<br>Git Hash: 00dae0a1bd0b7919dee6ba4d96a4cf63f8949b0c</br>\n<br>Version: 2023.3.0</br>\n<br>Timestamp 2023-04-12</br>",
          "<br>Git Hash: 7c99dbc59c2c38c7c192be00eac500546471bed0</br>\n<br>Version: 2023.3.0</br>\n<br>Timestamp 2023-04-12</br>"
         ],
         "type": "scatter",
         "x": [
          "2023-04-12T20:33:25.203391",
          "2023-04-12T17:17:24.396818",
          "2023-04-12T09:53:34.139318"
         ],
         "xaxis": "x",
         "y": [
          9.000000034120603e-07,
          1.1000000199601345e-06,
          1.3000000080864993e-06
         ],
         "yaxis": "y"
        },
        {
         "hovertemplate": "%{text}",
         "legendgroup": "0.2",
         "marker": {
          "color": "green"
         },
         "name": "dx=0.2",
         "showlegend": false,
         "text": [
          "<br>Git Hash: 19f9c461fbaf4206d48775c151116cff6d661369</br>\n<br>Version: 2023.3.0</br>\n<br>Timestamp 2023-04-12</br>",
          "<br>Git Hash: 00dae0a1bd0b7919dee6ba4d96a4cf63f8949b0c</br>\n<br>Version: 2023.3.0</br>\n<br>Timestamp 2023-04-12</br>",
          "<br>Git Hash: 7c99dbc59c2c38c7c192be00eac500546471bed0</br>\n<br>Version: 2023.3.0</br>\n<br>Timestamp 2023-04-12</br>"
         ],
         "type": "scatter",
         "x": [
          "2023-04-12T20:33:25.203391",
          "2023-04-12T17:17:24.396818",
          "2023-04-12T09:53:34.139318"
         ],
         "xaxis": "x2",
         "y": [
          180,
          180,
          180
         ],
         "yaxis": "y2"
        },
        {
         "hovertemplate": "%{text}",
         "legendgroup": "0.2",
         "marker": {
          "color": "green"
         },
         "name": "dx=0.2",
         "showlegend": false,
         "text": [
          "<br>Git Hash: 19f9c461fbaf4206d48775c151116cff6d661369</br>\n<br>Version: 2023.3.0</br>\n<br>Timestamp 2023-04-12</br>",
          "<br>Git Hash: 00dae0a1bd0b7919dee6ba4d96a4cf63f8949b0c</br>\n<br>Version: 2023.3.0</br>\n<br>Timestamp 2023-04-12</br>",
          "<br>Git Hash: 7c99dbc59c2c38c7c192be00eac500546471bed0</br>\n<br>Version: 2023.3.0</br>\n<br>Timestamp 2023-04-12</br>"
         ],
         "type": "scatter",
         "x": [
          "2023-04-12T20:33:25.203391",
          "2023-04-12T17:17:24.396818",
          "2023-04-12T09:53:34.139318"
         ],
         "xaxis": "x3",
         "y": [
          1440,
          1440,
          1440
         ],
         "yaxis": "y3"
        },
        {
         "hovertemplate": "%{text}",
         "legendgroup": "0.2",
         "marker": {
          "color": "green"
         },
         "name": "dx=0.2",
         "showlegend": false,
         "text": [
          "<br>Git Hash: 19f9c461fbaf4206d48775c151116cff6d661369</br>\n<br>Version: 2023.3.0</br>\n<br>Timestamp 2023-04-12</br>",
          "<br>Git Hash: 00dae0a1bd0b7919dee6ba4d96a4cf63f8949b0c</br>\n<br>Version: 2023.3.0</br>\n<br>Timestamp 2023-04-12</br>",
          "<br>Git Hash: 7c99dbc59c2c38c7c192be00eac500546471bed0</br>\n<br>Version: 2023.3.0</br>\n<br>Timestamp 2023-04-12</br>"
         ],
         "type": "scatter",
         "x": [
          "2023-04-12T20:33:25.203391",
          "2023-04-12T17:17:24.396818",
          "2023-04-12T09:53:34.139318"
         ],
         "xaxis": "x4",
         "y": [
          88,
          88,
          88
         ],
         "yaxis": "y4"
        },
        {
         "hovertemplate": "%{text}",
         "legendgroup": "0.2",
         "marker": {
          "color": "green"
         },
         "name": "dx=0.2",
         "showlegend": false,
         "text": [
          "<br>Git Hash: 19f9c461fbaf4206d48775c151116cff6d661369</br>\n<br>Version: 2023.3.0</br>\n<br>Timestamp 2023-04-12</br>",
          "<br>Git Hash: 00dae0a1bd0b7919dee6ba4d96a4cf63f8949b0c</br>\n<br>Version: 2023.3.0</br>\n<br>Timestamp 2023-04-12</br>",
          "<br>Git Hash: 7c99dbc59c2c38c7c192be00eac500546471bed0</br>\n<br>Version: 2023.3.0</br>\n<br>Timestamp 2023-04-12</br>"
         ],
         "type": "scatter",
         "x": [
          "2023-04-12T20:33:25.203391",
          "2023-04-12T17:17:24.396818",
          "2023-04-12T09:53:34.139318"
         ],
         "xaxis": "x5",
         "y": [
          441,
          441,
          441
         ],
         "yaxis": "y5"
        },
        {
         "hovertemplate": "%{text}",
         "legendgroup": "0.2",
         "marker": {
          "color": "green"
         },
         "name": "dx=0.2",
         "showlegend": false,
         "text": [
          "<br>Git Hash: 19f9c461fbaf4206d48775c151116cff6d661369</br>\n<br>Version: 2023.3.0</br>\n<br>Timestamp 2023-04-12</br>",
          "<br>Git Hash: 00dae0a1bd0b7919dee6ba4d96a4cf63f8949b0c</br>\n<br>Version: 2023.3.0</br>\n<br>Timestamp 2023-04-12</br>",
          "<br>Git Hash: 7c99dbc59c2c38c7c192be00eac500546471bed0</br>\n<br>Version: 2023.3.0</br>\n<br>Timestamp 2023-04-12</br>"
         ],
         "type": "scatter",
         "x": [
          "2023-04-12T20:33:25.203391",
          "2023-04-12T17:17:24.396818",
          "2023-04-12T09:53:34.139318"
         ],
         "xaxis": "x6",
         "y": [
          133.629842307,
          135.61309873399998,
          132.99851071300003
         ],
         "yaxis": "y6"
        },
        {
         "hovertemplate": "%{text}",
         "legendgroup": "0.2",
         "marker": {
          "color": "green"
         },
         "name": "dx=0.2",
         "showlegend": false,
         "text": [
          "<br>Git Hash: 19f9c461fbaf4206d48775c151116cff6d661369</br>\n<br>Version: 2023.3.0</br>\n<br>Timestamp 2023-04-12</br>",
          "<br>Git Hash: 00dae0a1bd0b7919dee6ba4d96a4cf63f8949b0c</br>\n<br>Version: 2023.3.0</br>\n<br>Timestamp 2023-04-12</br>",
          "<br>Git Hash: 7c99dbc59c2c38c7c192be00eac500546471bed0</br>\n<br>Version: 2023.3.0</br>\n<br>Timestamp 2023-04-12</br>"
         ],
         "type": "scatter",
         "x": [
          "2023-04-12T20:33:25.203391",
          "2023-04-12T17:17:24.396818",
          "2023-04-12T09:53:34.139318"
         ],
         "xaxis": "x7",
         "y": [
          1260.6914906880002,
          1225.0240955129998,
          1251.196527563
         ],
         "yaxis": "y7"
        },
        {
         "hovertemplate": "%{text}",
         "legendgroup": "0.2",
         "marker": {
          "color": "green"
         },
         "name": "dx=0.2",
         "showlegend": false,
         "text": [
          "<br>Git Hash: 19f9c461fbaf4206d48775c151116cff6d661369</br>\n<br>Version: 2023.3.0</br>\n<br>Timestamp 2023-04-12</br>",
          "<br>Git Hash: 00dae0a1bd0b7919dee6ba4d96a4cf63f8949b0c</br>\n<br>Version: 2023.3.0</br>\n<br>Timestamp 2023-04-12</br>",
          "<br>Git Hash: 7c99dbc59c2c38c7c192be00eac500546471bed0</br>\n<br>Version: 2023.3.0</br>\n<br>Timestamp 2023-04-12</br>"
         ],
         "type": "scatter",
         "x": [
          "2023-04-12T20:33:25.203391",
          "2023-04-12T17:17:24.396818",
          "2023-04-12T09:53:34.139318"
         ],
         "xaxis": "x8",
         "y": [
          1.1788906071894687,
          1.1788906071894687,
          1.1788906071894687
         ],
         "yaxis": "y8"
        },
        {
         "hovertemplate": "%{text}",
         "legendgroup": "0.2",
         "marker": {
          "color": "green"
         },
         "name": "dx=0.2",
         "showlegend": false,
         "text": [
          "<br>Git Hash: 19f9c461fbaf4206d48775c151116cff6d661369</br>\n<br>Version: 2023.3.0</br>\n<br>Timestamp 2023-04-12</br>",
          "<br>Git Hash: 00dae0a1bd0b7919dee6ba4d96a4cf63f8949b0c</br>\n<br>Version: 2023.3.0</br>\n<br>Timestamp 2023-04-12</br>",
          "<br>Git Hash: 7c99dbc59c2c38c7c192be00eac500546471bed0</br>\n<br>Version: 2023.3.0</br>\n<br>Timestamp 2023-04-12</br>"
         ],
         "type": "scatter",
         "x": [
          "2023-04-12T20:33:25.203391",
          "2023-04-12T17:17:24.396818",
          "2023-04-12T09:53:34.139318"
         ],
         "xaxis": "x9",
         "y": [
          1.1788906071894687,
          1.1788906071894687,
          1.1788906071894687
         ],
         "yaxis": "y9"
        },
        {
         "hovertemplate": "%{text}",
         "legendgroup": "0.2",
         "marker": {
          "color": "green"
         },
         "name": "dx=0.2",
         "showlegend": false,
         "text": [
          "<br>Git Hash: 19f9c461fbaf4206d48775c151116cff6d661369</br>\n<br>Version: 2023.3.0</br>\n<br>Timestamp 2023-04-12</br>",
          "<br>Git Hash: 00dae0a1bd0b7919dee6ba4d96a4cf63f8949b0c</br>\n<br>Version: 2023.3.0</br>\n<br>Timestamp 2023-04-12</br>",
          "<br>Git Hash: 7c99dbc59c2c38c7c192be00eac500546471bed0</br>\n<br>Version: 2023.3.0</br>\n<br>Timestamp 2023-04-12</br>"
         ],
         "type": "scatter",
         "x": [
          "2023-04-12T20:33:25.203391",
          "2023-04-12T17:17:24.396818",
          "2023-04-12T09:53:34.139318"
         ],
         "xaxis": "x10",
         "y": [
          238.880967611606,
          238.880967611606,
          238.880967611606
         ],
         "yaxis": "y10"
        },
        {
         "hovertemplate": "%{text}",
         "legendgroup": "0.2",
         "marker": {
          "color": "green"
         },
         "name": "dx=0.2",
         "showlegend": false,
         "text": [
          "<br>Git Hash: 19f9c461fbaf4206d48775c151116cff6d661369</br>\n<br>Version: 2023.3.0</br>\n<br>Timestamp 2023-04-12</br>",
          "<br>Git Hash: 00dae0a1bd0b7919dee6ba4d96a4cf63f8949b0c</br>\n<br>Version: 2023.3.0</br>\n<br>Timestamp 2023-04-12</br>",
          "<br>Git Hash: 7c99dbc59c2c38c7c192be00eac500546471bed0</br>\n<br>Version: 2023.3.0</br>\n<br>Timestamp 2023-04-12</br>"
         ],
         "type": "scatter",
         "x": [
          "2023-04-12T20:33:25.203391",
          "2023-04-12T17:17:24.396818",
          "2023-04-12T09:53:34.139318"
         ],
         "xaxis": "x11",
         "y": [
          265.40595347521,
          265.40595347521,
          265.40595347521
         ],
         "yaxis": "y11"
        },
        {
         "hovertemplate": "%{text}",
         "legendgroup": "0.2",
         "marker": {
          "color": "green"
         },
         "name": "dx=0.2",
         "showlegend": false,
         "text": [
          "<br>Git Hash: 19f9c461fbaf4206d48775c151116cff6d661369</br>\n<br>Version: 2023.3.0</br>\n<br>Timestamp 2023-04-12</br>",
          "<br>Git Hash: 00dae0a1bd0b7919dee6ba4d96a4cf63f8949b0c</br>\n<br>Version: 2023.3.0</br>\n<br>Timestamp 2023-04-12</br>",
          "<br>Git Hash: 7c99dbc59c2c38c7c192be00eac500546471bed0</br>\n<br>Version: 2023.3.0</br>\n<br>Timestamp 2023-04-12</br>"
         ],
         "type": "scatter",
         "x": [
          "2023-04-12T20:33:25.203391",
          "2023-04-12T17:17:24.396818",
          "2023-04-12T09:53:34.139318"
         ],
         "xaxis": "x12",
         "y": [
          332.35152396272616,
          332.35152396272616,
          332.35152396272616
         ],
         "yaxis": "y12"
        },
        {
         "hovertemplate": "%{text}",
         "legendgroup": "0.2",
         "marker": {
          "color": "green"
         },
         "name": "dx=0.2",
         "showlegend": false,
         "text": [
          "<br>Git Hash: 19f9c461fbaf4206d48775c151116cff6d661369</br>\n<br>Version: 2023.3.0</br>\n<br>Timestamp 2023-04-12</br>",
          "<br>Git Hash: 00dae0a1bd0b7919dee6ba4d96a4cf63f8949b0c</br>\n<br>Version: 2023.3.0</br>\n<br>Timestamp 2023-04-12</br>",
          "<br>Git Hash: 7c99dbc59c2c38c7c192be00eac500546471bed0</br>\n<br>Version: 2023.3.0</br>\n<br>Timestamp 2023-04-12</br>"
         ],
         "type": "scatter",
         "x": [
          "2023-04-12T20:33:25.203391",
          "2023-04-12T17:17:24.396818",
          "2023-04-12T09:53:34.139318"
         ],
         "xaxis": "x13",
         "y": [
          93.47055635112017,
          93.47055635112017,
          93.47055635112017
         ],
         "yaxis": "y13"
        },
        {
         "hovertemplate": "%{text}",
         "legendgroup": "0.2",
         "marker": {
          "color": "green"
         },
         "name": "dx=0.2",
         "showlegend": false,
         "text": [
          "<br>Git Hash: 19f9c461fbaf4206d48775c151116cff6d661369</br>\n<br>Version: 2023.3.0</br>\n<br>Timestamp 2023-04-12</br>",
          "<br>Git Hash: 00dae0a1bd0b7919dee6ba4d96a4cf63f8949b0c</br>\n<br>Version: 2023.3.0</br>\n<br>Timestamp 2023-04-12</br>",
          "<br>Git Hash: 7c99dbc59c2c38c7c192be00eac500546471bed0</br>\n<br>Version: 2023.3.0</br>\n<br>Timestamp 2023-04-12</br>"
         ],
         "type": "scatter",
         "x": [
          "2023-04-12T20:33:25.203391",
          "2023-04-12T17:17:24.396818",
          "2023-04-12T09:53:34.139318"
         ],
         "xaxis": "x14",
         "y": [
          51.119339741833805,
          51.119339741833805,
          51.119339741833805
         ],
         "yaxis": "y14"
        },
        {
         "hovertemplate": "%{text}",
         "legendgroup": "0.2",
         "marker": {
          "color": "green"
         },
         "name": "dx=0.2",
         "showlegend": false,
         "text": [
          "<br>Git Hash: 19f9c461fbaf4206d48775c151116cff6d661369</br>\n<br>Version: 2023.3.0</br>\n<br>Timestamp 2023-04-12</br>",
          "<br>Git Hash: 00dae0a1bd0b7919dee6ba4d96a4cf63f8949b0c</br>\n<br>Version: 2023.3.0</br>\n<br>Timestamp 2023-04-12</br>",
          "<br>Git Hash: 7c99dbc59c2c38c7c192be00eac500546471bed0</br>\n<br>Version: 2023.3.0</br>\n<br>Timestamp 2023-04-12</br>"
         ],
         "type": "scatter",
         "x": [
          "2023-04-12T20:33:25.203391",
          "2023-04-12T17:17:24.396818",
          "2023-04-12T09:53:34.139318"
         ],
         "xaxis": "x15",
         "y": [
          -88.0216343300843,
          -88.0216343300843,
          -88.0216343300843
         ],
         "yaxis": "y15"
        },
        {
         "hovertemplate": "%{text}",
         "legendgroup": "0.2",
         "marker": {
          "color": "green"
         },
         "name": "dx=0.2",
         "showlegend": false,
         "text": [
          "<br>Git Hash: 19f9c461fbaf4206d48775c151116cff6d661369</br>\n<br>Version: 2023.3.0</br>\n<br>Timestamp 2023-04-12</br>",
          "<br>Git Hash: 00dae0a1bd0b7919dee6ba4d96a4cf63f8949b0c</br>\n<br>Version: 2023.3.0</br>\n<br>Timestamp 2023-04-12</br>",
          "<br>Git Hash: 7c99dbc59c2c38c7c192be00eac500546471bed0</br>\n<br>Version: 2023.3.0</br>\n<br>Timestamp 2023-04-12</br>"
         ],
         "type": "scatter",
         "x": [
          "2023-04-12T20:33:25.203391",
          "2023-04-12T17:17:24.396818",
          "2023-04-12T09:53:34.139318"
         ],
         "xaxis": "x16",
         "y": [
          18.018904211557036,
          18.018904211557036,
          18.018904211557036
         ],
         "yaxis": "y16"
        },
        {
         "hovertemplate": "%{text}",
         "legendgroup": "0.2",
         "marker": {
          "color": "green"
         },
         "name": "dx=0.2",
         "showlegend": false,
         "text": [
          "<br>Git Hash: 19f9c461fbaf4206d48775c151116cff6d661369</br>\n<br>Version: 2023.3.0</br>\n<br>Timestamp 2023-04-12</br>",
          "<br>Git Hash: 00dae0a1bd0b7919dee6ba4d96a4cf63f8949b0c</br>\n<br>Version: 2023.3.0</br>\n<br>Timestamp 2023-04-12</br>",
          "<br>Git Hash: 7c99dbc59c2c38c7c192be00eac500546471bed0</br>\n<br>Version: 2023.3.0</br>\n<br>Timestamp 2023-04-12</br>"
         ],
         "type": "scatter",
         "x": [
          "2023-04-12T20:33:25.203391",
          "2023-04-12T17:17:24.396818",
          "2023-04-12T09:53:34.139318"
         ],
         "xaxis": "x17",
         "y": [
          0.0002614958607743183,
          0.0002614958607743183,
          0.0002614958607743183
         ],
         "yaxis": "y17"
        },
        {
         "hovertemplate": "%{text}",
         "legendgroup": "0.2",
         "marker": {
          "color": "green"
         },
         "name": "dx=0.2",
         "showlegend": false,
         "text": [
          "<br>Git Hash: 19f9c461fbaf4206d48775c151116cff6d661369</br>\n<br>Version: 2023.3.0</br>\n<br>Timestamp 2023-04-12</br>",
          "<br>Git Hash: 00dae0a1bd0b7919dee6ba4d96a4cf63f8949b0c</br>\n<br>Version: 2023.3.0</br>\n<br>Timestamp 2023-04-12</br>",
          "<br>Git Hash: 7c99dbc59c2c38c7c192be00eac500546471bed0</br>\n<br>Version: 2023.3.0</br>\n<br>Timestamp 2023-04-12</br>"
         ],
         "type": "scatter",
         "x": [
          "2023-04-12T20:33:25.203391",
          "2023-04-12T17:17:24.396818",
          "2023-04-12T09:53:34.139318"
         ],
         "xaxis": "x18",
         "y": [
          0.0001941577043003715,
          0.0001941577043003715,
          0.0001941577043003715
         ],
         "yaxis": "y18"
        },
        {
         "hovertemplate": "%{text}",
         "legendgroup": "0.2",
         "marker": {
          "color": "green"
         },
         "name": "dx=0.2",
         "showlegend": false,
         "text": [
          "<br>Git Hash: 19f9c461fbaf4206d48775c151116cff6d661369</br>\n<br>Version: 2023.3.0</br>\n<br>Timestamp 2023-04-12</br>",
          "<br>Git Hash: 00dae0a1bd0b7919dee6ba4d96a4cf63f8949b0c</br>\n<br>Version: 2023.3.0</br>\n<br>Timestamp 2023-04-12</br>",
          "<br>Git Hash: 7c99dbc59c2c38c7c192be00eac500546471bed0</br>\n<br>Version: 2023.3.0</br>\n<br>Timestamp 2023-04-12</br>"
         ],
         "type": "scatter",
         "x": [
          "2023-04-12T20:33:25.203391",
          "2023-04-12T17:17:24.396818",
          "2023-04-12T09:53:34.139318"
         ],
         "xaxis": "x19",
         "y": [
          268.71888085586943,
          268.71888085586943,
          268.71888085586943
         ],
         "yaxis": "y19"
        },
        {
         "hovertemplate": "%{text}",
         "legendgroup": "0.2",
         "marker": {
          "color": "green"
         },
         "name": "dx=0.2",
         "showlegend": false,
         "text": [
          "<br>Git Hash: 19f9c461fbaf4206d48775c151116cff6d661369</br>\n<br>Version: 2023.3.0</br>\n<br>Timestamp 2023-04-12</br>",
          "<br>Git Hash: 00dae0a1bd0b7919dee6ba4d96a4cf63f8949b0c</br>\n<br>Version: 2023.3.0</br>\n<br>Timestamp 2023-04-12</br>",
          "<br>Git Hash: 7c99dbc59c2c38c7c192be00eac500546471bed0</br>\n<br>Version: 2023.3.0</br>\n<br>Timestamp 2023-04-12</br>"
         ],
         "type": "scatter",
         "x": [
          "2023-04-12T20:33:25.203391",
          "2023-04-12T17:17:24.396818",
          "2023-04-12T09:53:34.139318"
         ],
         "xaxis": "x20",
         "y": [
          388.2479019142725,
          388.2479019142725,
          388.2479019142725
         ],
         "yaxis": "y20"
        },
        {
         "hovertemplate": "%{text}",
         "legendgroup": "0.2",
         "marker": {
          "color": "green"
         },
         "name": "dx=0.2",
         "showlegend": false,
         "text": [
          "<br>Git Hash: 19f9c461fbaf4206d48775c151116cff6d661369</br>\n<br>Version: 2023.3.0</br>\n<br>Timestamp 2023-04-12</br>",
          "<br>Git Hash: 00dae0a1bd0b7919dee6ba4d96a4cf63f8949b0c</br>\n<br>Version: 2023.3.0</br>\n<br>Timestamp 2023-04-12</br>",
          "<br>Git Hash: 7c99dbc59c2c38c7c192be00eac500546471bed0</br>\n<br>Version: 2023.3.0</br>\n<br>Timestamp 2023-04-12</br>"
         ],
         "type": "scatter",
         "x": [
          "2023-04-12T20:33:25.203391",
          "2023-04-12T17:17:24.396818",
          "2023-04-12T09:53:34.139318"
         ],
         "xaxis": "x21",
         "y": [
          469.9497938229694,
          469.9497938229694,
          469.9497938229694
         ],
         "yaxis": "y21"
        },
        {
         "hovertemplate": "%{text}",
         "legendgroup": "0.2",
         "marker": {
          "color": "green"
         },
         "name": "dx=0.2",
         "showlegend": false,
         "text": [
          "<br>Git Hash: 19f9c461fbaf4206d48775c151116cff6d661369</br>\n<br>Version: 2023.3.0</br>\n<br>Timestamp 2023-04-12</br>",
          "<br>Git Hash: 00dae0a1bd0b7919dee6ba4d96a4cf63f8949b0c</br>\n<br>Version: 2023.3.0</br>\n<br>Timestamp 2023-04-12</br>",
          "<br>Git Hash: 7c99dbc59c2c38c7c192be00eac500546471bed0</br>\n<br>Version: 2023.3.0</br>\n<br>Timestamp 2023-04-12</br>"
         ],
         "type": "scatter",
         "x": [
          "2023-04-12T20:33:25.203391",
          "2023-04-12T17:17:24.396818",
          "2023-04-12T09:53:34.139318"
         ],
         "xaxis": "x22",
         "y": [
          139,
          139,
          139
         ],
         "yaxis": "y22"
        },
        {
         "hovertemplate": "%{text}",
         "legendgroup": "0.2",
         "marker": {
          "color": "green"
         },
         "name": "dx=0.2",
         "showlegend": false,
         "text": [
          "<br>Git Hash: 19f9c461fbaf4206d48775c151116cff6d661369</br>\n<br>Version: 2023.3.0</br>\n<br>Timestamp 2023-04-12</br>",
          "<br>Git Hash: 00dae0a1bd0b7919dee6ba4d96a4cf63f8949b0c</br>\n<br>Version: 2023.3.0</br>\n<br>Timestamp 2023-04-12</br>",
          "<br>Git Hash: 7c99dbc59c2c38c7c192be00eac500546471bed0</br>\n<br>Version: 2023.3.0</br>\n<br>Timestamp 2023-04-12</br>"
         ],
         "type": "scatter",
         "x": [
          "2023-04-12T20:33:25.203391",
          "2023-04-12T17:17:24.396818",
          "2023-04-12T09:53:34.139318"
         ],
         "xaxis": "x23",
         "y": [
          149.33484727777108,
          149.33484727777108,
          149.33484727777108
         ],
         "yaxis": "y23"
        },
        {
         "hovertemplate": "%{text}",
         "legendgroup": "0.2",
         "marker": {
          "color": "green"
         },
         "name": "dx=0.2",
         "showlegend": false,
         "text": [
          "<br>Git Hash: 19f9c461fbaf4206d48775c151116cff6d661369</br>\n<br>Version: 2023.3.0</br>\n<br>Timestamp 2023-04-12</br>",
          "<br>Git Hash: 00dae0a1bd0b7919dee6ba4d96a4cf63f8949b0c</br>\n<br>Version: 2023.3.0</br>\n<br>Timestamp 2023-04-12</br>",
          "<br>Git Hash: 7c99dbc59c2c38c7c192be00eac500546471bed0</br>\n<br>Version: 2023.3.0</br>\n<br>Timestamp 2023-04-12</br>"
         ],
         "type": "scatter",
         "x": [
          "2023-04-12T20:33:25.203391",
          "2023-04-12T17:17:24.396818",
          "2023-04-12T09:53:34.139318"
         ],
         "xaxis": "x24",
         "y": [
          457.3920865808646,
          457.3920865808646,
          457.3920865808646
         ],
         "yaxis": "y24"
        },
        {
         "hovertemplate": "%{text}",
         "legendgroup": "0.2",
         "marker": {
          "color": "green"
         },
         "name": "dx=0.2",
         "showlegend": false,
         "text": [
          "<br>Git Hash: 19f9c461fbaf4206d48775c151116cff6d661369</br>\n<br>Version: 2023.3.0</br>\n<br>Timestamp 2023-04-12</br>",
          "<br>Git Hash: 00dae0a1bd0b7919dee6ba4d96a4cf63f8949b0c</br>\n<br>Version: 2023.3.0</br>\n<br>Timestamp 2023-04-12</br>",
          "<br>Git Hash: 7c99dbc59c2c38c7c192be00eac500546471bed0</br>\n<br>Version: 2023.3.0</br>\n<br>Timestamp 2023-04-12</br>"
         ],
         "type": "scatter",
         "x": [
          "2023-04-12T20:33:25.203391",
          "2023-04-12T17:17:24.396818",
          "2023-04-12T09:53:34.139318"
         ],
         "xaxis": "x25",
         "y": [
          1.0000000000000002,
          1.0000000000000002,
          1.0000000000000002
         ],
         "yaxis": "y25"
        },
        {
         "hovertemplate": "%{text}",
         "legendgroup": "0.2",
         "marker": {
          "color": "green"
         },
         "name": "dx=0.2",
         "showlegend": false,
         "text": [
          "<br>Git Hash: 19f9c461fbaf4206d48775c151116cff6d661369</br>\n<br>Version: 2023.3.0</br>\n<br>Timestamp 2023-04-12</br>",
          "<br>Git Hash: 00dae0a1bd0b7919dee6ba4d96a4cf63f8949b0c</br>\n<br>Version: 2023.3.0</br>\n<br>Timestamp 2023-04-12</br>",
          "<br>Git Hash: 7c99dbc59c2c38c7c192be00eac500546471bed0</br>\n<br>Version: 2023.3.0</br>\n<br>Timestamp 2023-04-12</br>"
         ],
         "type": "scatter",
         "x": [
          "2023-04-12T20:33:25.203391",
          "2023-04-12T17:17:24.396818",
          "2023-04-12T09:53:34.139318"
         ],
         "xaxis": "x26",
         "y": [
          0.9026200778330545,
          0.9026200778330545,
          0.9026200778330545
         ],
         "yaxis": "y26"
        },
        {
         "hovertemplate": "%{text}",
         "legendgroup": "0.2",
         "marker": {
          "color": "green"
         },
         "name": "dx=0.2",
         "showlegend": false,
         "text": [
          "<br>Git Hash: 19f9c461fbaf4206d48775c151116cff6d661369</br>\n<br>Version: 2023.3.0</br>\n<br>Timestamp 2023-04-12</br>",
          "<br>Git Hash: 00dae0a1bd0b7919dee6ba4d96a4cf63f8949b0c</br>\n<br>Version: 2023.3.0</br>\n<br>Timestamp 2023-04-12</br>",
          "<br>Git Hash: 7c99dbc59c2c38c7c192be00eac500546471bed0</br>\n<br>Version: 2023.3.0</br>\n<br>Timestamp 2023-04-12</br>"
         ],
         "type": "scatter",
         "x": [
          "2023-04-12T20:33:25.203391",
          "2023-04-12T17:17:24.396818",
          "2023-04-12T09:53:34.139318"
         ],
         "xaxis": "x27",
         "y": [
          138,
          138,
          138
         ],
         "yaxis": "y27"
        },
        {
         "hovertemplate": "%{text}",
         "legendgroup": "0.2",
         "marker": {
          "color": "green"
         },
         "name": "dx=0.2",
         "showlegend": false,
         "text": [
          "<br>Git Hash: 19f9c461fbaf4206d48775c151116cff6d661369</br>\n<br>Version: 2023.3.0</br>\n<br>Timestamp 2023-04-12</br>",
          "<br>Git Hash: 00dae0a1bd0b7919dee6ba4d96a4cf63f8949b0c</br>\n<br>Version: 2023.3.0</br>\n<br>Timestamp 2023-04-12</br>",
          "<br>Git Hash: 7c99dbc59c2c38c7c192be00eac500546471bed0</br>\n<br>Version: 2023.3.0</br>\n<br>Timestamp 2023-04-12</br>"
         ],
         "type": "scatter",
         "x": [
          "2023-04-12T20:33:25.203391",
          "2023-04-12T17:17:24.396818",
          "2023-04-12T09:53:34.139318"
         ],
         "xaxis": "x28",
         "y": [
          272.29877305280485,
          272.29877305280485,
          272.29877305280485
         ],
         "yaxis": "y28"
        },
        {
         "hovertemplate": "%{text}",
         "legendgroup": "0.2",
         "marker": {
          "color": "green"
         },
         "name": "dx=0.2",
         "showlegend": false,
         "text": [
          "<br>Git Hash: 19f9c461fbaf4206d48775c151116cff6d661369</br>\n<br>Version: 2023.3.0</br>\n<br>Timestamp 2023-04-12</br>",
          "<br>Git Hash: 00dae0a1bd0b7919dee6ba4d96a4cf63f8949b0c</br>\n<br>Version: 2023.3.0</br>\n<br>Timestamp 2023-04-12</br>",
          "<br>Git Hash: 7c99dbc59c2c38c7c192be00eac500546471bed0</br>\n<br>Version: 2023.3.0</br>\n<br>Timestamp 2023-04-12</br>"
         ],
         "type": "scatter",
         "x": [
          "2023-04-12T20:33:25.203391",
          "2023-04-12T17:17:24.396818",
          "2023-04-12T09:53:34.139318"
         ],
         "xaxis": "x29",
         "y": [
          403.21871577148255,
          403.21871577148255,
          403.21871577148255
         ],
         "yaxis": "y29"
        },
        {
         "hovertemplate": "%{text}",
         "legendgroup": "0.2",
         "marker": {
          "color": "green"
         },
         "name": "dx=0.2",
         "showlegend": false,
         "text": [
          "<br>Git Hash: 19f9c461fbaf4206d48775c151116cff6d661369</br>\n<br>Version: 2023.3.0</br>\n<br>Timestamp 2023-04-12</br>",
          "<br>Git Hash: 00dae0a1bd0b7919dee6ba4d96a4cf63f8949b0c</br>\n<br>Version: 2023.3.0</br>\n<br>Timestamp 2023-04-12</br>",
          "<br>Git Hash: 7c99dbc59c2c38c7c192be00eac500546471bed0</br>\n<br>Version: 2023.3.0</br>\n<br>Timestamp 2023-04-12</br>"
         ],
         "type": "scatter",
         "x": [
          "2023-04-12T20:33:25.203391",
          "2023-04-12T17:17:24.396818",
          "2023-04-12T09:53:34.139318"
         ],
         "xaxis": "x30",
         "y": [
          520.5748812157544,
          520.5748812157544,
          520.5748812157544
         ],
         "yaxis": "y30"
        },
        {
         "hovertemplate": "%{text}",
         "legendgroup": "0.2",
         "marker": {
          "color": "green"
         },
         "name": "dx=0.2",
         "showlegend": false,
         "text": [
          "<br>Git Hash: 19f9c461fbaf4206d48775c151116cff6d661369</br>\n<br>Version: 2023.3.0</br>\n<br>Timestamp 2023-04-12</br>",
          "<br>Git Hash: 00dae0a1bd0b7919dee6ba4d96a4cf63f8949b0c</br>\n<br>Version: 2023.3.0</br>\n<br>Timestamp 2023-04-12</br>",
          "<br>Git Hash: 7c99dbc59c2c38c7c192be00eac500546471bed0</br>\n<br>Version: 2023.3.0</br>\n<br>Timestamp 2023-04-12</br>"
         ],
         "type": "scatter",
         "x": [
          "2023-04-12T20:33:25.203391",
          "2023-04-12T17:17:24.396818",
          "2023-04-12T09:53:34.139318"
         ],
         "xaxis": "x31",
         "y": [
          193.10708889236508,
          193.10708889236508,
          193.10708889236508
         ],
         "yaxis": "y31"
        },
        {
         "hovertemplate": "%{text}",
         "legendgroup": "0.2",
         "marker": {
          "color": "green"
         },
         "name": "dx=0.2",
         "showlegend": false,
         "text": [
          "<br>Git Hash: 19f9c461fbaf4206d48775c151116cff6d661369</br>\n<br>Version: 2023.3.0</br>\n<br>Timestamp 2023-04-12</br>",
          "<br>Git Hash: 00dae0a1bd0b7919dee6ba4d96a4cf63f8949b0c</br>\n<br>Version: 2023.3.0</br>\n<br>Timestamp 2023-04-12</br>",
          "<br>Git Hash: 7c99dbc59c2c38c7c192be00eac500546471bed0</br>\n<br>Version: 2023.3.0</br>\n<br>Timestamp 2023-04-12</br>"
         ],
         "type": "scatter",
         "x": [
          "2023-04-12T20:33:25.203391",
          "2023-04-12T17:17:24.396818",
          "2023-04-12T09:53:34.139318"
         ],
         "xaxis": "x32",
         "y": [
          -108.49539275650265,
          -108.49539275650265,
          -108.49539275650265
         ],
         "yaxis": "y32"
        },
        {
         "hovertemplate": "%{text}",
         "legendgroup": "0.2",
         "marker": {
          "color": "green"
         },
         "name": "dx=0.2",
         "showlegend": false,
         "text": [
          "<br>Git Hash: 19f9c461fbaf4206d48775c151116cff6d661369</br>\n<br>Version: 2023.3.0</br>\n<br>Timestamp 2023-04-12</br>",
          "<br>Git Hash: 00dae0a1bd0b7919dee6ba4d96a4cf63f8949b0c</br>\n<br>Version: 2023.3.0</br>\n<br>Timestamp 2023-04-12</br>",
          "<br>Git Hash: 7c99dbc59c2c38c7c192be00eac500546471bed0</br>\n<br>Version: 2023.3.0</br>\n<br>Timestamp 2023-04-12</br>"
         ],
         "type": "scatter",
         "x": [
          "2023-04-12T20:33:25.203391",
          "2023-04-12T17:17:24.396818",
          "2023-04-12T09:53:34.139318"
         ],
         "xaxis": "x33",
         "y": [
          0.16784510470578526,
          0.16784510470578526,
          0.16784510470578526
         ],
         "yaxis": "y33"
        },
        {
         "hovertemplate": "%{text}",
         "legendgroup": "0.2",
         "marker": {
          "color": "green"
         },
         "name": "dx=0.2",
         "showlegend": false,
         "text": [
          "<br>Git Hash: 19f9c461fbaf4206d48775c151116cff6d661369</br>\n<br>Version: 2023.3.0</br>\n<br>Timestamp 2023-04-12</br>",
          "<br>Git Hash: 00dae0a1bd0b7919dee6ba4d96a4cf63f8949b0c</br>\n<br>Version: 2023.3.0</br>\n<br>Timestamp 2023-04-12</br>",
          "<br>Git Hash: 7c99dbc59c2c38c7c192be00eac500546471bed0</br>\n<br>Version: 2023.3.0</br>\n<br>Timestamp 2023-04-12</br>"
         ],
         "type": "scatter",
         "x": [
          "2023-04-12T20:33:25.203391",
          "2023-04-12T17:17:24.396818",
          "2023-04-12T09:53:34.139318"
         ],
         "xaxis": "x34",
         "y": [
          0.16784510470578526,
          0.16784510470578526,
          0.16784510470578526
         ],
         "yaxis": "y34"
        },
        {
         "hovertemplate": "%{text}",
         "legendgroup": "0.2",
         "marker": {
          "color": "green"
         },
         "name": "dx=0.2",
         "showlegend": false,
         "text": [
          "<br>Git Hash: 19f9c461fbaf4206d48775c151116cff6d661369</br>\n<br>Version: 2023.3.0</br>\n<br>Timestamp 2023-04-12</br>",
          "<br>Git Hash: 00dae0a1bd0b7919dee6ba4d96a4cf63f8949b0c</br>\n<br>Version: 2023.3.0</br>\n<br>Timestamp 2023-04-12</br>",
          "<br>Git Hash: 7c99dbc59c2c38c7c192be00eac500546471bed0</br>\n<br>Version: 2023.3.0</br>\n<br>Timestamp 2023-04-12</br>"
         ],
         "type": "scatter",
         "x": [
          "2023-04-12T20:33:25.203391",
          "2023-04-12T17:17:24.396818",
          "2023-04-12T09:53:34.139318"
         ],
         "xaxis": "x35",
         "y": [
          0.8392255235289262,
          0.8392255235289262,
          0.8392255235289262
         ],
         "yaxis": "y35"
        },
        {
         "hovertemplate": "%{text}",
         "legendgroup": "0.2",
         "marker": {
          "color": "green"
         },
         "name": "dx=0.2",
         "showlegend": false,
         "text": [
          "<br>Git Hash: 19f9c461fbaf4206d48775c151116cff6d661369</br>\n<br>Version: 2023.3.0</br>\n<br>Timestamp 2023-04-12</br>",
          "<br>Git Hash: 00dae0a1bd0b7919dee6ba4d96a4cf63f8949b0c</br>\n<br>Version: 2023.3.0</br>\n<br>Timestamp 2023-04-12</br>",
          "<br>Git Hash: 7c99dbc59c2c38c7c192be00eac500546471bed0</br>\n<br>Version: 2023.3.0</br>\n<br>Timestamp 2023-04-12</br>"
         ],
         "type": "scatter",
         "x": [
          "2023-04-12T20:33:25.203391",
          "2023-04-12T17:17:24.396818",
          "2023-04-12T09:53:34.139318"
         ],
         "xaxis": "x36",
         "y": [
          0.8463281251681412,
          0.8463281251681412,
          0.8463281251681412
         ],
         "yaxis": "y36"
        },
        {
         "hovertemplate": "%{text}",
         "legendgroup": "0.2",
         "marker": {
          "color": "green"
         },
         "name": "dx=0.2",
         "showlegend": false,
         "text": [
          "<br>Git Hash: 19f9c461fbaf4206d48775c151116cff6d661369</br>\n<br>Version: 2023.3.0</br>\n<br>Timestamp 2023-04-12</br>",
          "<br>Git Hash: 00dae0a1bd0b7919dee6ba4d96a4cf63f8949b0c</br>\n<br>Version: 2023.3.0</br>\n<br>Timestamp 2023-04-12</br>",
          "<br>Git Hash: 7c99dbc59c2c38c7c192be00eac500546471bed0</br>\n<br>Version: 2023.3.0</br>\n<br>Timestamp 2023-04-12</br>"
         ],
         "type": "scatter",
         "x": [
          "2023-04-12T20:33:25.203391",
          "2023-04-12T17:17:24.396818",
          "2023-04-12T09:53:34.139318"
         ],
         "xaxis": "x37",
         "y": [
          0.05,
          0.05,
          0.05
         ],
         "yaxis": "y37"
        },
        {
         "hovertemplate": "%{text}",
         "legendgroup": "0.2",
         "marker": {
          "color": "green"
         },
         "name": "dx=0.2",
         "showlegend": false,
         "text": [
          "<br>Git Hash: 19f9c461fbaf4206d48775c151116cff6d661369</br>\n<br>Version: 2023.3.0</br>\n<br>Timestamp 2023-04-12</br>",
          "<br>Git Hash: 00dae0a1bd0b7919dee6ba4d96a4cf63f8949b0c</br>\n<br>Version: 2023.3.0</br>\n<br>Timestamp 2023-04-12</br>",
          "<br>Git Hash: 7c99dbc59c2c38c7c192be00eac500546471bed0</br>\n<br>Version: 2023.3.0</br>\n<br>Timestamp 2023-04-12</br>"
         ],
         "type": "scatter",
         "x": [
          "2023-04-12T20:33:25.203391",
          "2023-04-12T17:17:24.396818",
          "2023-04-12T09:53:34.139318"
         ],
         "xaxis": "x38",
         "y": [
          0.09690541638404604,
          0.09690541638404604,
          0.09690541638404604
         ],
         "yaxis": "y38"
        },
        {
         "hovertemplate": "%{text}",
         "legendgroup": "0.2",
         "marker": {
          "color": "green"
         },
         "name": "dx=0.2",
         "showlegend": false,
         "text": [
          "<br>Git Hash: 19f9c461fbaf4206d48775c151116cff6d661369</br>\n<br>Version: 2023.3.0</br>\n<br>Timestamp 2023-04-12</br>",
          "<br>Git Hash: 00dae0a1bd0b7919dee6ba4d96a4cf63f8949b0c</br>\n<br>Version: 2023.3.0</br>\n<br>Timestamp 2023-04-12</br>",
          "<br>Git Hash: 7c99dbc59c2c38c7c192be00eac500546471bed0</br>\n<br>Version: 2023.3.0</br>\n<br>Timestamp 2023-04-12</br>"
         ],
         "type": "scatter",
         "x": [
          "2023-04-12T20:33:25.203391",
          "2023-04-12T17:17:24.396818",
          "2023-04-12T09:53:34.139318"
         ],
         "xaxis": "x39",
         "y": [
          0.09690541638404604,
          0.09690541638404604,
          0.09690541638404604
         ],
         "yaxis": "y39"
        },
        {
         "hovertemplate": "%{text}",
         "legendgroup": "0.2",
         "marker": {
          "color": "green"
         },
         "name": "dx=0.2",
         "showlegend": false,
         "text": [
          "<br>Git Hash: 19f9c461fbaf4206d48775c151116cff6d661369</br>\n<br>Version: 2023.3.0</br>\n<br>Timestamp 2023-04-12</br>",
          "<br>Git Hash: 00dae0a1bd0b7919dee6ba4d96a4cf63f8949b0c</br>\n<br>Version: 2023.3.0</br>\n<br>Timestamp 2023-04-12</br>",
          "<br>Git Hash: 7c99dbc59c2c38c7c192be00eac500546471bed0</br>\n<br>Version: 2023.3.0</br>\n<br>Timestamp 2023-04-12</br>"
         ],
         "type": "scatter",
         "x": [
          "2023-04-12T20:33:25.203391",
          "2023-04-12T17:17:24.396818",
          "2023-04-12T09:53:34.139318"
         ],
         "xaxis": "x40",
         "y": [
          0.4845270819202302,
          0.4845270819202302,
          0.4845270819202302
         ],
         "yaxis": "y40"
        },
        {
         "hovertemplate": "%{text}",
         "legendgroup": "0.2",
         "marker": {
          "color": "green"
         },
         "name": "dx=0.2",
         "showlegend": false,
         "text": [
          "<br>Git Hash: 19f9c461fbaf4206d48775c151116cff6d661369</br>\n<br>Version: 2023.3.0</br>\n<br>Timestamp 2023-04-12</br>",
          "<br>Git Hash: 00dae0a1bd0b7919dee6ba4d96a4cf63f8949b0c</br>\n<br>Version: 2023.3.0</br>\n<br>Timestamp 2023-04-12</br>",
          "<br>Git Hash: 7c99dbc59c2c38c7c192be00eac500546471bed0</br>\n<br>Version: 2023.3.0</br>\n<br>Timestamp 2023-04-12</br>"
         ],
         "type": "scatter",
         "x": [
          "2023-04-12T20:33:25.203391",
          "2023-04-12T17:17:24.396818",
          "2023-04-12T09:53:34.139318"
         ],
         "xaxis": "x41",
         "y": [
          0.48688617730741074,
          0.48688617730741074,
          0.48688617730741074
         ],
         "yaxis": "y41"
        },
        {
         "hovertemplate": "%{text}",
         "legendgroup": "0.2",
         "marker": {
          "color": "green"
         },
         "name": "dx=0.2",
         "showlegend": false,
         "text": [
          "<br>Git Hash: 19f9c461fbaf4206d48775c151116cff6d661369</br>\n<br>Version: 2023.3.0</br>\n<br>Timestamp 2023-04-12</br>",
          "<br>Git Hash: 00dae0a1bd0b7919dee6ba4d96a4cf63f8949b0c</br>\n<br>Version: 2023.3.0</br>\n<br>Timestamp 2023-04-12</br>",
          "<br>Git Hash: 7c99dbc59c2c38c7c192be00eac500546471bed0</br>\n<br>Version: 2023.3.0</br>\n<br>Timestamp 2023-04-12</br>"
         ],
         "type": "scatter",
         "x": [
          "2023-04-12T20:33:25.203391",
          "2023-04-12T17:17:24.396818",
          "2023-04-12T09:53:34.139318"
         ],
         "xaxis": "x42",
         "y": [
          0.05,
          0.05,
          0.05
         ],
         "yaxis": "y42"
        },
        {
         "hovertemplate": "%{text}",
         "legendgroup": "0.2",
         "marker": {
          "color": "green"
         },
         "name": "dx=0.2",
         "showlegend": false,
         "text": [
          "<br>Git Hash: 19f9c461fbaf4206d48775c151116cff6d661369</br>\n<br>Version: 2023.3.0</br>\n<br>Timestamp 2023-04-12</br>",
          "<br>Git Hash: 00dae0a1bd0b7919dee6ba4d96a4cf63f8949b0c</br>\n<br>Version: 2023.3.0</br>\n<br>Timestamp 2023-04-12</br>",
          "<br>Git Hash: 7c99dbc59c2c38c7c192be00eac500546471bed0</br>\n<br>Version: 2023.3.0</br>\n<br>Timestamp 2023-04-12</br>"
         ],
         "type": "scatter",
         "x": [
          "2023-04-12T20:33:25.203391",
          "2023-04-12T17:17:24.396818",
          "2023-04-12T09:53:34.139318"
         ],
         "xaxis": "x43",
         "y": [
          0.09690541638404604,
          0.09690541638404604,
          0.09690541638404604
         ],
         "yaxis": "y43"
        },
        {
         "hovertemplate": "%{text}",
         "legendgroup": "0.2",
         "marker": {
          "color": "green"
         },
         "name": "dx=0.2",
         "showlegend": false,
         "text": [
          "<br>Git Hash: 19f9c461fbaf4206d48775c151116cff6d661369</br>\n<br>Version: 2023.3.0</br>\n<br>Timestamp 2023-04-12</br>",
          "<br>Git Hash: 00dae0a1bd0b7919dee6ba4d96a4cf63f8949b0c</br>\n<br>Version: 2023.3.0</br>\n<br>Timestamp 2023-04-12</br>",
          "<br>Git Hash: 7c99dbc59c2c38c7c192be00eac500546471bed0</br>\n<br>Version: 2023.3.0</br>\n<br>Timestamp 2023-04-12</br>"
         ],
         "type": "scatter",
         "x": [
          "2023-04-12T20:33:25.203391",
          "2023-04-12T17:17:24.396818",
          "2023-04-12T09:53:34.139318"
         ],
         "xaxis": "x44",
         "y": [
          0.09690541638404604,
          0.09690541638404604,
          0.09690541638404604
         ],
         "yaxis": "y44"
        },
        {
         "hovertemplate": "%{text}",
         "legendgroup": "0.2",
         "marker": {
          "color": "green"
         },
         "name": "dx=0.2",
         "showlegend": false,
         "text": [
          "<br>Git Hash: 19f9c461fbaf4206d48775c151116cff6d661369</br>\n<br>Version: 2023.3.0</br>\n<br>Timestamp 2023-04-12</br>",
          "<br>Git Hash: 00dae0a1bd0b7919dee6ba4d96a4cf63f8949b0c</br>\n<br>Version: 2023.3.0</br>\n<br>Timestamp 2023-04-12</br>",
          "<br>Git Hash: 7c99dbc59c2c38c7c192be00eac500546471bed0</br>\n<br>Version: 2023.3.0</br>\n<br>Timestamp 2023-04-12</br>"
         ],
         "type": "scatter",
         "x": [
          "2023-04-12T20:33:25.203391",
          "2023-04-12T17:17:24.396818",
          "2023-04-12T09:53:34.139318"
         ],
         "xaxis": "x45",
         "y": [
          0.4845270819202302,
          0.4845270819202302,
          0.4845270819202302
         ],
         "yaxis": "y45"
        },
        {
         "hovertemplate": "%{text}",
         "legendgroup": "0.2",
         "marker": {
          "color": "green"
         },
         "name": "dx=0.2",
         "showlegend": false,
         "text": [
          "<br>Git Hash: 19f9c461fbaf4206d48775c151116cff6d661369</br>\n<br>Version: 2023.3.0</br>\n<br>Timestamp 2023-04-12</br>",
          "<br>Git Hash: 00dae0a1bd0b7919dee6ba4d96a4cf63f8949b0c</br>\n<br>Version: 2023.3.0</br>\n<br>Timestamp 2023-04-12</br>",
          "<br>Git Hash: 7c99dbc59c2c38c7c192be00eac500546471bed0</br>\n<br>Version: 2023.3.0</br>\n<br>Timestamp 2023-04-12</br>"
         ],
         "type": "scatter",
         "x": [
          "2023-04-12T20:33:25.203391",
          "2023-04-12T17:17:24.396818",
          "2023-04-12T09:53:34.139318"
         ],
         "xaxis": "x46",
         "y": [
          0.48688617730741074,
          0.48688617730741074,
          0.48688617730741074
         ],
         "yaxis": "y46"
        },
        {
         "hovertemplate": "%{text}",
         "legendgroup": "0.2",
         "marker": {
          "color": "green"
         },
         "name": "dx=0.2",
         "showlegend": false,
         "text": [
          "<br>Git Hash: 19f9c461fbaf4206d48775c151116cff6d661369</br>\n<br>Version: 2023.3.0</br>\n<br>Timestamp 2023-04-12</br>",
          "<br>Git Hash: 00dae0a1bd0b7919dee6ba4d96a4cf63f8949b0c</br>\n<br>Version: 2023.3.0</br>\n<br>Timestamp 2023-04-12</br>",
          "<br>Git Hash: 7c99dbc59c2c38c7c192be00eac500546471bed0</br>\n<br>Version: 2023.3.0</br>\n<br>Timestamp 2023-04-12</br>"
         ],
         "type": "scatter",
         "x": [
          "2023-04-12T20:33:25.203391",
          "2023-04-12T17:17:24.396818",
          "2023-04-12T09:53:34.139318"
         ],
         "xaxis": "x47",
         "y": [
          0.05,
          0.05,
          0.05
         ],
         "yaxis": "y47"
        },
        {
         "hovertemplate": "%{text}",
         "legendgroup": "0.2",
         "marker": {
          "color": "green"
         },
         "name": "dx=0.2",
         "showlegend": false,
         "text": [
          "<br>Git Hash: 19f9c461fbaf4206d48775c151116cff6d661369</br>\n<br>Version: 2023.3.0</br>\n<br>Timestamp 2023-04-12</br>",
          "<br>Git Hash: 00dae0a1bd0b7919dee6ba4d96a4cf63f8949b0c</br>\n<br>Version: 2023.3.0</br>\n<br>Timestamp 2023-04-12</br>",
          "<br>Git Hash: 7c99dbc59c2c38c7c192be00eac500546471bed0</br>\n<br>Version: 2023.3.0</br>\n<br>Timestamp 2023-04-12</br>"
         ],
         "type": "scatter",
         "x": [
          "2023-04-12T20:33:25.203391",
          "2023-04-12T17:17:24.396818",
          "2023-04-12T09:53:34.139318"
         ],
         "xaxis": "x48",
         "y": [
          0.09690541638404604,
          0.09690541638404604,
          0.09690541638404604
         ],
         "yaxis": "y48"
        },
        {
         "hovertemplate": "%{text}",
         "legendgroup": "0.2",
         "marker": {
          "color": "green"
         },
         "name": "dx=0.2",
         "showlegend": false,
         "text": [
          "<br>Git Hash: 19f9c461fbaf4206d48775c151116cff6d661369</br>\n<br>Version: 2023.3.0</br>\n<br>Timestamp 2023-04-12</br>",
          "<br>Git Hash: 00dae0a1bd0b7919dee6ba4d96a4cf63f8949b0c</br>\n<br>Version: 2023.3.0</br>\n<br>Timestamp 2023-04-12</br>",
          "<br>Git Hash: 7c99dbc59c2c38c7c192be00eac500546471bed0</br>\n<br>Version: 2023.3.0</br>\n<br>Timestamp 2023-04-12</br>"
         ],
         "type": "scatter",
         "x": [
          "2023-04-12T20:33:25.203391",
          "2023-04-12T17:17:24.396818",
          "2023-04-12T09:53:34.139318"
         ],
         "xaxis": "x49",
         "y": [
          0.09690541638404604,
          0.09690541638404604,
          0.09690541638404604
         ],
         "yaxis": "y49"
        },
        {
         "hovertemplate": "%{text}",
         "legendgroup": "0.2",
         "marker": {
          "color": "green"
         },
         "name": "dx=0.2",
         "showlegend": false,
         "text": [
          "<br>Git Hash: 19f9c461fbaf4206d48775c151116cff6d661369</br>\n<br>Version: 2023.3.0</br>\n<br>Timestamp 2023-04-12</br>",
          "<br>Git Hash: 00dae0a1bd0b7919dee6ba4d96a4cf63f8949b0c</br>\n<br>Version: 2023.3.0</br>\n<br>Timestamp 2023-04-12</br>",
          "<br>Git Hash: 7c99dbc59c2c38c7c192be00eac500546471bed0</br>\n<br>Version: 2023.3.0</br>\n<br>Timestamp 2023-04-12</br>"
         ],
         "type": "scatter",
         "x": [
          "2023-04-12T20:33:25.203391",
          "2023-04-12T17:17:24.396818",
          "2023-04-12T09:53:34.139318"
         ],
         "xaxis": "x50",
         "y": [
          0.4845270819202302,
          0.4845270819202302,
          0.4845270819202302
         ],
         "yaxis": "y50"
        },
        {
         "hovertemplate": "%{text}",
         "legendgroup": "0.2",
         "marker": {
          "color": "green"
         },
         "name": "dx=0.2",
         "showlegend": false,
         "text": [
          "<br>Git Hash: 19f9c461fbaf4206d48775c151116cff6d661369</br>\n<br>Version: 2023.3.0</br>\n<br>Timestamp 2023-04-12</br>",
          "<br>Git Hash: 00dae0a1bd0b7919dee6ba4d96a4cf63f8949b0c</br>\n<br>Version: 2023.3.0</br>\n<br>Timestamp 2023-04-12</br>",
          "<br>Git Hash: 7c99dbc59c2c38c7c192be00eac500546471bed0</br>\n<br>Version: 2023.3.0</br>\n<br>Timestamp 2023-04-12</br>"
         ],
         "type": "scatter",
         "x": [
          "2023-04-12T20:33:25.203391",
          "2023-04-12T17:17:24.396818",
          "2023-04-12T09:53:34.139318"
         ],
         "xaxis": "x51",
         "y": [
          0.48688617730741074,
          0.48688617730741074,
          0.48688617730741074
         ],
         "yaxis": "y51"
        },
        {
         "hovertemplate": "%{text}",
         "legendgroup": "0.2",
         "marker": {
          "color": "green"
         },
         "name": "dx=0.2",
         "showlegend": false,
         "text": [
          "<br>Git Hash: 19f9c461fbaf4206d48775c151116cff6d661369</br>\n<br>Version: 2023.3.0</br>\n<br>Timestamp 2023-04-12</br>",
          "<br>Git Hash: 00dae0a1bd0b7919dee6ba4d96a4cf63f8949b0c</br>\n<br>Version: 2023.3.0</br>\n<br>Timestamp 2023-04-12</br>",
          "<br>Git Hash: 7c99dbc59c2c38c7c192be00eac500546471bed0</br>\n<br>Version: 2023.3.0</br>\n<br>Timestamp 2023-04-12</br>"
         ],
         "type": "scatter",
         "x": [
          "2023-04-12T20:33:25.203391",
          "2023-04-12T17:17:24.396818",
          "2023-04-12T09:53:34.139318"
         ],
         "xaxis": "x52",
         "y": [
          0.05,
          0.05,
          0.05
         ],
         "yaxis": "y52"
        },
        {
         "hovertemplate": "%{text}",
         "legendgroup": "0.4",
         "marker": {
          "color": "blue"
         },
         "name": "dx=0.4",
         "showlegend": true,
         "text": [
          "<br>Git Hash: 19f9c461fbaf4206d48775c151116cff6d661369</br>\n<br>Version: 2023.3.0</br>\n<br>Timestamp 2023-04-12</br>",
          "<br>Git Hash: 00dae0a1bd0b7919dee6ba4d96a4cf63f8949b0c</br>\n<br>Version: 2023.3.0</br>\n<br>Timestamp 2023-04-12</br>",
          "<br>Git Hash: 7c99dbc59c2c38c7c192be00eac500546471bed0</br>\n<br>Version: 2023.3.0</br>\n<br>Timestamp 2023-04-12</br>"
         ],
         "type": "scatter",
         "x": [
          "2023-04-12T20:33:32.537703",
          "2023-04-12T17:17:26.820219",
          "2023-04-12T09:53:31.010237"
         ],
         "xaxis": "x",
         "y": [
          1.0000000116860974e-06,
          9.999999974752427e-07,
          9.999999974752427e-07
         ],
         "yaxis": "y"
        },
        {
         "hovertemplate": "%{text}",
         "legendgroup": "0.4",
         "marker": {
          "color": "blue"
         },
         "name": "dx=0.4",
         "showlegend": false,
         "text": [
          "<br>Git Hash: 19f9c461fbaf4206d48775c151116cff6d661369</br>\n<br>Version: 2023.3.0</br>\n<br>Timestamp 2023-04-12</br>",
          "<br>Git Hash: 00dae0a1bd0b7919dee6ba4d96a4cf63f8949b0c</br>\n<br>Version: 2023.3.0</br>\n<br>Timestamp 2023-04-12</br>",
          "<br>Git Hash: 7c99dbc59c2c38c7c192be00eac500546471bed0</br>\n<br>Version: 2023.3.0</br>\n<br>Timestamp 2023-04-12</br>"
         ],
         "type": "scatter",
         "x": [
          "2023-04-12T20:33:32.537703",
          "2023-04-12T17:17:26.820219",
          "2023-04-12T09:53:31.010237"
         ],
         "xaxis": "x2",
         "y": [
          60,
          60,
          60
         ],
         "yaxis": "y2"
        },
        {
         "hovertemplate": "%{text}",
         "legendgroup": "0.4",
         "marker": {
          "color": "blue"
         },
         "name": "dx=0.4",
         "showlegend": false,
         "text": [
          "<br>Git Hash: 19f9c461fbaf4206d48775c151116cff6d661369</br>\n<br>Version: 2023.3.0</br>\n<br>Timestamp 2023-04-12</br>",
          "<br>Git Hash: 00dae0a1bd0b7919dee6ba4d96a4cf63f8949b0c</br>\n<br>Version: 2023.3.0</br>\n<br>Timestamp 2023-04-12</br>",
          "<br>Git Hash: 7c99dbc59c2c38c7c192be00eac500546471bed0</br>\n<br>Version: 2023.3.0</br>\n<br>Timestamp 2023-04-12</br>"
         ],
         "type": "scatter",
         "x": [
          "2023-04-12T20:33:32.537703",
          "2023-04-12T17:17:26.820219",
          "2023-04-12T09:53:31.010237"
         ],
         "xaxis": "x3",
         "y": [
          480,
          480,
          480
         ],
         "yaxis": "y3"
        },
        {
         "hovertemplate": "%{text}",
         "legendgroup": "0.4",
         "marker": {
          "color": "blue"
         },
         "name": "dx=0.4",
         "showlegend": false,
         "text": [
          "<br>Git Hash: 19f9c461fbaf4206d48775c151116cff6d661369</br>\n<br>Version: 2023.3.0</br>\n<br>Timestamp 2023-04-12</br>",
          "<br>Git Hash: 00dae0a1bd0b7919dee6ba4d96a4cf63f8949b0c</br>\n<br>Version: 2023.3.0</br>\n<br>Timestamp 2023-04-12</br>",
          "<br>Git Hash: 7c99dbc59c2c38c7c192be00eac500546471bed0</br>\n<br>Version: 2023.3.0</br>\n<br>Timestamp 2023-04-12</br>"
         ],
         "type": "scatter",
         "x": [
          "2023-04-12T20:33:32.537703",
          "2023-04-12T17:17:26.820219",
          "2023-04-12T09:53:31.010237"
         ],
         "xaxis": "x4",
         "y": [
          36,
          36,
          36
         ],
         "yaxis": "y4"
        },
        {
         "hovertemplate": "%{text}",
         "legendgroup": "0.4",
         "marker": {
          "color": "blue"
         },
         "name": "dx=0.4",
         "showlegend": false,
         "text": [
          "<br>Git Hash: 19f9c461fbaf4206d48775c151116cff6d661369</br>\n<br>Version: 2023.3.0</br>\n<br>Timestamp 2023-04-12</br>",
          "<br>Git Hash: 00dae0a1bd0b7919dee6ba4d96a4cf63f8949b0c</br>\n<br>Version: 2023.3.0</br>\n<br>Timestamp 2023-04-12</br>",
          "<br>Git Hash: 7c99dbc59c2c38c7c192be00eac500546471bed0</br>\n<br>Version: 2023.3.0</br>\n<br>Timestamp 2023-04-12</br>"
         ],
         "type": "scatter",
         "x": [
          "2023-04-12T20:33:32.537703",
          "2023-04-12T17:17:26.820219",
          "2023-04-12T09:53:31.010237"
         ],
         "xaxis": "x5",
         "y": [
          165,
          165,
          165
         ],
         "yaxis": "y5"
        },
        {
         "hovertemplate": "%{text}",
         "legendgroup": "0.4",
         "marker": {
          "color": "blue"
         },
         "name": "dx=0.4",
         "showlegend": false,
         "text": [
          "<br>Git Hash: 19f9c461fbaf4206d48775c151116cff6d661369</br>\n<br>Version: 2023.3.0</br>\n<br>Timestamp 2023-04-12</br>",
          "<br>Git Hash: 00dae0a1bd0b7919dee6ba4d96a4cf63f8949b0c</br>\n<br>Version: 2023.3.0</br>\n<br>Timestamp 2023-04-12</br>",
          "<br>Git Hash: 7c99dbc59c2c38c7c192be00eac500546471bed0</br>\n<br>Version: 2023.3.0</br>\n<br>Timestamp 2023-04-12</br>"
         ],
         "type": "scatter",
         "x": [
          "2023-04-12T20:33:32.537703",
          "2023-04-12T17:17:26.820219",
          "2023-04-12T09:53:31.010237"
         ],
         "xaxis": "x6",
         "y": [
          165.367050751,
          137.96248828300003,
          134.56070818800004
         ],
         "yaxis": "y6"
        },
        {
         "hovertemplate": "%{text}",
         "legendgroup": "0.4",
         "marker": {
          "color": "blue"
         },
         "name": "dx=0.4",
         "showlegend": false,
         "text": [
          "<br>Git Hash: 19f9c461fbaf4206d48775c151116cff6d661369</br>\n<br>Version: 2023.3.0</br>\n<br>Timestamp 2023-04-12</br>",
          "<br>Git Hash: 00dae0a1bd0b7919dee6ba4d96a4cf63f8949b0c</br>\n<br>Version: 2023.3.0</br>\n<br>Timestamp 2023-04-12</br>",
          "<br>Git Hash: 7c99dbc59c2c38c7c192be00eac500546471bed0</br>\n<br>Version: 2023.3.0</br>\n<br>Timestamp 2023-04-12</br>"
         ],
         "type": "scatter",
         "x": [
          "2023-04-12T20:33:32.537703",
          "2023-04-12T17:17:26.820219",
          "2023-04-12T09:53:31.010237"
         ],
         "xaxis": "x7",
         "y": [
          731.1141966170001,
          599.2139237,
          594.1378821149999
         ],
         "yaxis": "y7"
        },
        {
         "hovertemplate": "%{text}",
         "legendgroup": "0.4",
         "marker": {
          "color": "blue"
         },
         "name": "dx=0.4",
         "showlegend": false,
         "text": [
          "<br>Git Hash: 19f9c461fbaf4206d48775c151116cff6d661369</br>\n<br>Version: 2023.3.0</br>\n<br>Timestamp 2023-04-12</br>",
          "<br>Git Hash: 00dae0a1bd0b7919dee6ba4d96a4cf63f8949b0c</br>\n<br>Version: 2023.3.0</br>\n<br>Timestamp 2023-04-12</br>",
          "<br>Git Hash: 7c99dbc59c2c38c7c192be00eac500546471bed0</br>\n<br>Version: 2023.3.0</br>\n<br>Timestamp 2023-04-12</br>"
         ],
         "type": "scatter",
         "x": [
          "2023-04-12T20:33:32.537703",
          "2023-04-12T17:17:26.820219",
          "2023-04-12T09:53:31.010237"
         ],
         "xaxis": "x8",
         "y": [
          1.1795939114331073,
          1.1795939114331073,
          1.1795939114331073
         ],
         "yaxis": "y8"
        },
        {
         "hovertemplate": "%{text}",
         "legendgroup": "0.4",
         "marker": {
          "color": "blue"
         },
         "name": "dx=0.4",
         "showlegend": false,
         "text": [
          "<br>Git Hash: 19f9c461fbaf4206d48775c151116cff6d661369</br>\n<br>Version: 2023.3.0</br>\n<br>Timestamp 2023-04-12</br>",
          "<br>Git Hash: 00dae0a1bd0b7919dee6ba4d96a4cf63f8949b0c</br>\n<br>Version: 2023.3.0</br>\n<br>Timestamp 2023-04-12</br>",
          "<br>Git Hash: 7c99dbc59c2c38c7c192be00eac500546471bed0</br>\n<br>Version: 2023.3.0</br>\n<br>Timestamp 2023-04-12</br>"
         ],
         "type": "scatter",
         "x": [
          "2023-04-12T20:33:32.537703",
          "2023-04-12T17:17:26.820219",
          "2023-04-12T09:53:31.010237"
         ],
         "xaxis": "x9",
         "y": [
          1.1795939114331073,
          1.1795939114331073,
          1.1795939114331073
         ],
         "yaxis": "y9"
        },
        {
         "hovertemplate": "%{text}",
         "legendgroup": "0.4",
         "marker": {
          "color": "blue"
         },
         "name": "dx=0.4",
         "showlegend": false,
         "text": [
          "<br>Git Hash: 19f9c461fbaf4206d48775c151116cff6d661369</br>\n<br>Version: 2023.3.0</br>\n<br>Timestamp 2023-04-12</br>",
          "<br>Git Hash: 00dae0a1bd0b7919dee6ba4d96a4cf63f8949b0c</br>\n<br>Version: 2023.3.0</br>\n<br>Timestamp 2023-04-12</br>",
          "<br>Git Hash: 7c99dbc59c2c38c7c192be00eac500546471bed0</br>\n<br>Version: 2023.3.0</br>\n<br>Timestamp 2023-04-12</br>"
         ],
         "type": "scatter",
         "x": [
          "2023-04-12T20:33:32.537703",
          "2023-04-12T17:17:26.820219",
          "2023-04-12T09:53:31.010237"
         ],
         "xaxis": "x10",
         "y": [
          238.88180472701407,
          238.88180472701407,
          238.88180472701407
         ],
         "yaxis": "y10"
        },
        {
         "hovertemplate": "%{text}",
         "legendgroup": "0.4",
         "marker": {
          "color": "blue"
         },
         "name": "dx=0.4",
         "showlegend": false,
         "text": [
          "<br>Git Hash: 19f9c461fbaf4206d48775c151116cff6d661369</br>\n<br>Version: 2023.3.0</br>\n<br>Timestamp 2023-04-12</br>",
          "<br>Git Hash: 00dae0a1bd0b7919dee6ba4d96a4cf63f8949b0c</br>\n<br>Version: 2023.3.0</br>\n<br>Timestamp 2023-04-12</br>",
          "<br>Git Hash: 7c99dbc59c2c38c7c192be00eac500546471bed0</br>\n<br>Version: 2023.3.0</br>\n<br>Timestamp 2023-04-12</br>"
         ],
         "type": "scatter",
         "x": [
          "2023-04-12T20:33:32.537703",
          "2023-04-12T17:17:26.820219",
          "2023-04-12T09:53:31.010237"
         ],
         "xaxis": "x11",
         "y": [
          265.40692263982737,
          265.40692263982737,
          265.40692263982737
         ],
         "yaxis": "y11"
        },
        {
         "hovertemplate": "%{text}",
         "legendgroup": "0.4",
         "marker": {
          "color": "blue"
         },
         "name": "dx=0.4",
         "showlegend": false,
         "text": [
          "<br>Git Hash: 19f9c461fbaf4206d48775c151116cff6d661369</br>\n<br>Version: 2023.3.0</br>\n<br>Timestamp 2023-04-12</br>",
          "<br>Git Hash: 00dae0a1bd0b7919dee6ba4d96a4cf63f8949b0c</br>\n<br>Version: 2023.3.0</br>\n<br>Timestamp 2023-04-12</br>",
          "<br>Git Hash: 7c99dbc59c2c38c7c192be00eac500546471bed0</br>\n<br>Version: 2023.3.0</br>\n<br>Timestamp 2023-04-12</br>"
         ],
         "type": "scatter",
         "x": [
          "2023-04-12T20:33:32.537703",
          "2023-04-12T17:17:26.820219",
          "2023-04-12T09:53:31.010237"
         ],
         "xaxis": "x12",
         "y": [
          332.3530714488868,
          332.3530714488868,
          332.3530714488868
         ],
         "yaxis": "y12"
        },
        {
         "hovertemplate": "%{text}",
         "legendgroup": "0.4",
         "marker": {
          "color": "blue"
         },
         "name": "dx=0.4",
         "showlegend": false,
         "text": [
          "<br>Git Hash: 19f9c461fbaf4206d48775c151116cff6d661369</br>\n<br>Version: 2023.3.0</br>\n<br>Timestamp 2023-04-12</br>",
          "<br>Git Hash: 00dae0a1bd0b7919dee6ba4d96a4cf63f8949b0c</br>\n<br>Version: 2023.3.0</br>\n<br>Timestamp 2023-04-12</br>",
          "<br>Git Hash: 7c99dbc59c2c38c7c192be00eac500546471bed0</br>\n<br>Version: 2023.3.0</br>\n<br>Timestamp 2023-04-12</br>"
         ],
         "type": "scatter",
         "x": [
          "2023-04-12T20:33:32.537703",
          "2023-04-12T17:17:26.820219",
          "2023-04-12T09:53:31.010237"
         ],
         "xaxis": "x13",
         "y": [
          93.47126672187272,
          93.47126672187272,
          93.47126672187272
         ],
         "yaxis": "y13"
        },
        {
         "hovertemplate": "%{text}",
         "legendgroup": "0.4",
         "marker": {
          "color": "blue"
         },
         "name": "dx=0.4",
         "showlegend": false,
         "text": [
          "<br>Git Hash: 19f9c461fbaf4206d48775c151116cff6d661369</br>\n<br>Version: 2023.3.0</br>\n<br>Timestamp 2023-04-12</br>",
          "<br>Git Hash: 00dae0a1bd0b7919dee6ba4d96a4cf63f8949b0c</br>\n<br>Version: 2023.3.0</br>\n<br>Timestamp 2023-04-12</br>",
          "<br>Git Hash: 7c99dbc59c2c38c7c192be00eac500546471bed0</br>\n<br>Version: 2023.3.0</br>\n<br>Timestamp 2023-04-12</br>"
         ],
         "type": "scatter",
         "x": [
          "2023-04-12T20:33:32.537703",
          "2023-04-12T17:17:26.820219",
          "2023-04-12T09:53:31.010237"
         ],
         "xaxis": "x14",
         "y": [
          51.119339744528986,
          51.119339744528986,
          51.119339744528986
         ],
         "yaxis": "y14"
        },
        {
         "hovertemplate": "%{text}",
         "legendgroup": "0.4",
         "marker": {
          "color": "blue"
         },
         "name": "dx=0.4",
         "showlegend": false,
         "text": [
          "<br>Git Hash: 19f9c461fbaf4206d48775c151116cff6d661369</br>\n<br>Version: 2023.3.0</br>\n<br>Timestamp 2023-04-12</br>",
          "<br>Git Hash: 00dae0a1bd0b7919dee6ba4d96a4cf63f8949b0c</br>\n<br>Version: 2023.3.0</br>\n<br>Timestamp 2023-04-12</br>",
          "<br>Git Hash: 7c99dbc59c2c38c7c192be00eac500546471bed0</br>\n<br>Version: 2023.3.0</br>\n<br>Timestamp 2023-04-12</br>"
         ],
         "type": "scatter",
         "x": [
          "2023-04-12T20:33:32.537703",
          "2023-04-12T17:17:26.820219",
          "2023-04-12T09:53:31.010237"
         ],
         "xaxis": "x15",
         "y": [
          -88.02163493446695,
          -88.02163493446695,
          -88.02163493446695
         ],
         "yaxis": "y15"
        },
        {
         "hovertemplate": "%{text}",
         "legendgroup": "0.4",
         "marker": {
          "color": "blue"
         },
         "name": "dx=0.4",
         "showlegend": false,
         "text": [
          "<br>Git Hash: 19f9c461fbaf4206d48775c151116cff6d661369</br>\n<br>Version: 2023.3.0</br>\n<br>Timestamp 2023-04-12</br>",
          "<br>Git Hash: 00dae0a1bd0b7919dee6ba4d96a4cf63f8949b0c</br>\n<br>Version: 2023.3.0</br>\n<br>Timestamp 2023-04-12</br>",
          "<br>Git Hash: 7c99dbc59c2c38c7c192be00eac500546471bed0</br>\n<br>Version: 2023.3.0</br>\n<br>Timestamp 2023-04-12</br>"
         ],
         "type": "scatter",
         "x": [
          "2023-04-12T20:33:32.537703",
          "2023-04-12T17:17:26.820219",
          "2023-04-12T09:53:31.010237"
         ],
         "xaxis": "x16",
         "y": [
          18.018904243805178,
          18.018904243805178,
          18.018904243805178
         ],
         "yaxis": "y16"
        },
        {
         "hovertemplate": "%{text}",
         "legendgroup": "0.4",
         "marker": {
          "color": "blue"
         },
         "name": "dx=0.4",
         "showlegend": false,
         "text": [
          "<br>Git Hash: 19f9c461fbaf4206d48775c151116cff6d661369</br>\n<br>Version: 2023.3.0</br>\n<br>Timestamp 2023-04-12</br>",
          "<br>Git Hash: 00dae0a1bd0b7919dee6ba4d96a4cf63f8949b0c</br>\n<br>Version: 2023.3.0</br>\n<br>Timestamp 2023-04-12</br>",
          "<br>Git Hash: 7c99dbc59c2c38c7c192be00eac500546471bed0</br>\n<br>Version: 2023.3.0</br>\n<br>Timestamp 2023-04-12</br>"
         ],
         "type": "scatter",
         "x": [
          "2023-04-12T20:33:32.537703",
          "2023-04-12T17:17:26.820219",
          "2023-04-12T09:53:31.010237"
         ],
         "xaxis": "x17",
         "y": [
          0.00026145398325637235,
          0.00026145398325637235,
          0.00026145398325637235
         ],
         "yaxis": "y17"
        },
        {
         "hovertemplate": "%{text}",
         "legendgroup": "0.4",
         "marker": {
          "color": "blue"
         },
         "name": "dx=0.4",
         "showlegend": false,
         "text": [
          "<br>Git Hash: 19f9c461fbaf4206d48775c151116cff6d661369</br>\n<br>Version: 2023.3.0</br>\n<br>Timestamp 2023-04-12</br>",
          "<br>Git Hash: 00dae0a1bd0b7919dee6ba4d96a4cf63f8949b0c</br>\n<br>Version: 2023.3.0</br>\n<br>Timestamp 2023-04-12</br>",
          "<br>Git Hash: 7c99dbc59c2c38c7c192be00eac500546471bed0</br>\n<br>Version: 2023.3.0</br>\n<br>Timestamp 2023-04-12</br>"
         ],
         "type": "scatter",
         "x": [
          "2023-04-12T20:33:32.537703",
          "2023-04-12T17:17:26.820219",
          "2023-04-12T09:53:31.010237"
         ],
         "xaxis": "x18",
         "y": [
          0.00019411543172479968,
          0.00019411543172479968,
          0.00019411543172479968
         ],
         "yaxis": "y18"
        },
        {
         "hovertemplate": "%{text}",
         "legendgroup": "0.4",
         "marker": {
          "color": "blue"
         },
         "name": "dx=0.4",
         "showlegend": false,
         "text": [
          "<br>Git Hash: 19f9c461fbaf4206d48775c151116cff6d661369</br>\n<br>Version: 2023.3.0</br>\n<br>Timestamp 2023-04-12</br>",
          "<br>Git Hash: 00dae0a1bd0b7919dee6ba4d96a4cf63f8949b0c</br>\n<br>Version: 2023.3.0</br>\n<br>Timestamp 2023-04-12</br>",
          "<br>Git Hash: 7c99dbc59c2c38c7c192be00eac500546471bed0</br>\n<br>Version: 2023.3.0</br>\n<br>Timestamp 2023-04-12</br>"
         ],
         "type": "scatter",
         "x": [
          "2023-04-12T20:33:32.537703",
          "2023-04-12T17:17:26.820219",
          "2023-04-12T09:53:31.010237"
         ],
         "xaxis": "x19",
         "y": [
          268.7757377053,
          268.7757377053,
          268.7757377053
         ],
         "yaxis": "y19"
        },
        {
         "hovertemplate": "%{text}",
         "legendgroup": "0.4",
         "marker": {
          "color": "blue"
         },
         "name": "dx=0.4",
         "showlegend": false,
         "text": [
          "<br>Git Hash: 19f9c461fbaf4206d48775c151116cff6d661369</br>\n<br>Version: 2023.3.0</br>\n<br>Timestamp 2023-04-12</br>",
          "<br>Git Hash: 00dae0a1bd0b7919dee6ba4d96a4cf63f8949b0c</br>\n<br>Version: 2023.3.0</br>\n<br>Timestamp 2023-04-12</br>",
          "<br>Git Hash: 7c99dbc59c2c38c7c192be00eac500546471bed0</br>\n<br>Version: 2023.3.0</br>\n<br>Timestamp 2023-04-12</br>"
         ],
         "type": "scatter",
         "x": [
          "2023-04-12T20:33:32.537703",
          "2023-04-12T17:17:26.820219",
          "2023-04-12T09:53:31.010237"
         ],
         "xaxis": "x20",
         "y": [
          388.2781038876086,
          388.2781038876086,
          388.2781038876086
         ],
         "yaxis": "y20"
        },
        {
         "hovertemplate": "%{text}",
         "legendgroup": "0.4",
         "marker": {
          "color": "blue"
         },
         "name": "dx=0.4",
         "showlegend": false,
         "text": [
          "<br>Git Hash: 19f9c461fbaf4206d48775c151116cff6d661369</br>\n<br>Version: 2023.3.0</br>\n<br>Timestamp 2023-04-12</br>",
          "<br>Git Hash: 00dae0a1bd0b7919dee6ba4d96a4cf63f8949b0c</br>\n<br>Version: 2023.3.0</br>\n<br>Timestamp 2023-04-12</br>",
          "<br>Git Hash: 7c99dbc59c2c38c7c192be00eac500546471bed0</br>\n<br>Version: 2023.3.0</br>\n<br>Timestamp 2023-04-12</br>"
         ],
         "type": "scatter",
         "x": [
          "2023-04-12T20:33:32.537703",
          "2023-04-12T17:17:26.820219",
          "2023-04-12T09:53:31.010237"
         ],
         "xaxis": "x21",
         "y": [
          469.9759357159506,
          469.9759357159506,
          469.9759357159506
         ],
         "yaxis": "y21"
        },
        {
         "hovertemplate": "%{text}",
         "legendgroup": "0.4",
         "marker": {
          "color": "blue"
         },
         "name": "dx=0.4",
         "showlegend": false,
         "text": [
          "<br>Git Hash: 19f9c461fbaf4206d48775c151116cff6d661369</br>\n<br>Version: 2023.3.0</br>\n<br>Timestamp 2023-04-12</br>",
          "<br>Git Hash: 00dae0a1bd0b7919dee6ba4d96a4cf63f8949b0c</br>\n<br>Version: 2023.3.0</br>\n<br>Timestamp 2023-04-12</br>",
          "<br>Git Hash: 7c99dbc59c2c38c7c192be00eac500546471bed0</br>\n<br>Version: 2023.3.0</br>\n<br>Timestamp 2023-04-12</br>"
         ],
         "type": "scatter",
         "x": [
          "2023-04-12T20:33:32.537703",
          "2023-04-12T17:17:26.820219",
          "2023-04-12T09:53:31.010237"
         ],
         "xaxis": "x22",
         "y": [
          139,
          139,
          139
         ],
         "yaxis": "y22"
        },
        {
         "hovertemplate": "%{text}",
         "legendgroup": "0.4",
         "marker": {
          "color": "blue"
         },
         "name": "dx=0.4",
         "showlegend": false,
         "text": [
          "<br>Git Hash: 19f9c461fbaf4206d48775c151116cff6d661369</br>\n<br>Version: 2023.3.0</br>\n<br>Timestamp 2023-04-12</br>",
          "<br>Git Hash: 00dae0a1bd0b7919dee6ba4d96a4cf63f8949b0c</br>\n<br>Version: 2023.3.0</br>\n<br>Timestamp 2023-04-12</br>",
          "<br>Git Hash: 7c99dbc59c2c38c7c192be00eac500546471bed0</br>\n<br>Version: 2023.3.0</br>\n<br>Timestamp 2023-04-12</br>"
         ],
         "type": "scatter",
         "x": [
          "2023-04-12T20:33:32.537703",
          "2023-04-12T17:17:26.820219",
          "2023-04-12T09:53:31.010237"
         ],
         "xaxis": "x23",
         "y": [
          149.11073528755747,
          149.11073528755747,
          149.11073528755747
         ],
         "yaxis": "y23"
        },
        {
         "hovertemplate": "%{text}",
         "legendgroup": "0.4",
         "marker": {
          "color": "blue"
         },
         "name": "dx=0.4",
         "showlegend": false,
         "text": [
          "<br>Git Hash: 19f9c461fbaf4206d48775c151116cff6d661369</br>\n<br>Version: 2023.3.0</br>\n<br>Timestamp 2023-04-12</br>",
          "<br>Git Hash: 00dae0a1bd0b7919dee6ba4d96a4cf63f8949b0c</br>\n<br>Version: 2023.3.0</br>\n<br>Timestamp 2023-04-12</br>",
          "<br>Git Hash: 7c99dbc59c2c38c7c192be00eac500546471bed0</br>\n<br>Version: 2023.3.0</br>\n<br>Timestamp 2023-04-12</br>"
         ],
         "type": "scatter",
         "x": [
          "2023-04-12T20:33:32.537703",
          "2023-04-12T17:17:26.820219",
          "2023-04-12T09:53:31.010237"
         ],
         "xaxis": "x24",
         "y": [
          457.2204029861744,
          457.2204029861744,
          457.2204029861744
         ],
         "yaxis": "y24"
        },
        {
         "hovertemplate": "%{text}",
         "legendgroup": "0.4",
         "marker": {
          "color": "blue"
         },
         "name": "dx=0.4",
         "showlegend": false,
         "text": [
          "<br>Git Hash: 19f9c461fbaf4206d48775c151116cff6d661369</br>\n<br>Version: 2023.3.0</br>\n<br>Timestamp 2023-04-12</br>",
          "<br>Git Hash: 00dae0a1bd0b7919dee6ba4d96a4cf63f8949b0c</br>\n<br>Version: 2023.3.0</br>\n<br>Timestamp 2023-04-12</br>",
          "<br>Git Hash: 7c99dbc59c2c38c7c192be00eac500546471bed0</br>\n<br>Version: 2023.3.0</br>\n<br>Timestamp 2023-04-12</br>"
         ],
         "type": "scatter",
         "x": [
          "2023-04-12T20:33:32.537703",
          "2023-04-12T17:17:26.820219",
          "2023-04-12T09:53:31.010237"
         ],
         "xaxis": "x25",
         "y": [
          1,
          1,
          1
         ],
         "yaxis": "y25"
        },
        {
         "hovertemplate": "%{text}",
         "legendgroup": "0.4",
         "marker": {
          "color": "blue"
         },
         "name": "dx=0.4",
         "showlegend": false,
         "text": [
          "<br>Git Hash: 19f9c461fbaf4206d48775c151116cff6d661369</br>\n<br>Version: 2023.3.0</br>\n<br>Timestamp 2023-04-12</br>",
          "<br>Git Hash: 00dae0a1bd0b7919dee6ba4d96a4cf63f8949b0c</br>\n<br>Version: 2023.3.0</br>\n<br>Timestamp 2023-04-12</br>",
          "<br>Git Hash: 7c99dbc59c2c38c7c192be00eac500546471bed0</br>\n<br>Version: 2023.3.0</br>\n<br>Timestamp 2023-04-12</br>"
         ],
         "type": "scatter",
         "x": [
          "2023-04-12T20:33:32.537703",
          "2023-04-12T17:17:26.820219",
          "2023-04-12T09:53:31.010237"
         ],
         "xaxis": "x26",
         "y": [
          0.9027588573558657,
          0.9027588573558657,
          0.9027588573558657
         ],
         "yaxis": "y26"
        },
        {
         "hovertemplate": "%{text}",
         "legendgroup": "0.4",
         "marker": {
          "color": "blue"
         },
         "name": "dx=0.4",
         "showlegend": false,
         "text": [
          "<br>Git Hash: 19f9c461fbaf4206d48775c151116cff6d661369</br>\n<br>Version: 2023.3.0</br>\n<br>Timestamp 2023-04-12</br>",
          "<br>Git Hash: 00dae0a1bd0b7919dee6ba4d96a4cf63f8949b0c</br>\n<br>Version: 2023.3.0</br>\n<br>Timestamp 2023-04-12</br>",
          "<br>Git Hash: 7c99dbc59c2c38c7c192be00eac500546471bed0</br>\n<br>Version: 2023.3.0</br>\n<br>Timestamp 2023-04-12</br>"
         ],
         "type": "scatter",
         "x": [
          "2023-04-12T20:33:32.537703",
          "2023-04-12T17:17:26.820219",
          "2023-04-12T09:53:31.010237"
         ],
         "xaxis": "x27",
         "y": [
          138,
          138,
          138
         ],
         "yaxis": "y27"
        },
        {
         "hovertemplate": "%{text}",
         "legendgroup": "0.4",
         "marker": {
          "color": "blue"
         },
         "name": "dx=0.4",
         "showlegend": false,
         "text": [
          "<br>Git Hash: 19f9c461fbaf4206d48775c151116cff6d661369</br>\n<br>Version: 2023.3.0</br>\n<br>Timestamp 2023-04-12</br>",
          "<br>Git Hash: 00dae0a1bd0b7919dee6ba4d96a4cf63f8949b0c</br>\n<br>Version: 2023.3.0</br>\n<br>Timestamp 2023-04-12</br>",
          "<br>Git Hash: 7c99dbc59c2c38c7c192be00eac500546471bed0</br>\n<br>Version: 2023.3.0</br>\n<br>Timestamp 2023-04-12</br>"
         ],
         "type": "scatter",
         "x": [
          "2023-04-12T20:33:32.537703",
          "2023-04-12T17:17:26.820219",
          "2023-04-12T09:53:31.010237"
         ],
         "xaxis": "x28",
         "y": [
          272.44308777575327,
          272.44308777575327,
          272.44308777575327
         ],
         "yaxis": "y28"
        },
        {
         "hovertemplate": "%{text}",
         "legendgroup": "0.4",
         "marker": {
          "color": "blue"
         },
         "name": "dx=0.4",
         "showlegend": false,
         "text": [
          "<br>Git Hash: 19f9c461fbaf4206d48775c151116cff6d661369</br>\n<br>Version: 2023.3.0</br>\n<br>Timestamp 2023-04-12</br>",
          "<br>Git Hash: 00dae0a1bd0b7919dee6ba4d96a4cf63f8949b0c</br>\n<br>Version: 2023.3.0</br>\n<br>Timestamp 2023-04-12</br>",
          "<br>Git Hash: 7c99dbc59c2c38c7c192be00eac500546471bed0</br>\n<br>Version: 2023.3.0</br>\n<br>Timestamp 2023-04-12</br>"
         ],
         "type": "scatter",
         "x": [
          "2023-04-12T20:33:32.537703",
          "2023-04-12T17:17:26.820219",
          "2023-04-12T09:53:31.010237"
         ],
         "xaxis": "x29",
         "y": [
          403.3232301910861,
          403.3232301910861,
          403.3232301910861
         ],
         "yaxis": "y29"
        },
        {
         "hovertemplate": "%{text}",
         "legendgroup": "0.4",
         "marker": {
          "color": "blue"
         },
         "name": "dx=0.4",
         "showlegend": false,
         "text": [
          "<br>Git Hash: 19f9c461fbaf4206d48775c151116cff6d661369</br>\n<br>Version: 2023.3.0</br>\n<br>Timestamp 2023-04-12</br>",
          "<br>Git Hash: 00dae0a1bd0b7919dee6ba4d96a4cf63f8949b0c</br>\n<br>Version: 2023.3.0</br>\n<br>Timestamp 2023-04-12</br>",
          "<br>Git Hash: 7c99dbc59c2c38c7c192be00eac500546471bed0</br>\n<br>Version: 2023.3.0</br>\n<br>Timestamp 2023-04-12</br>"
         ],
         "type": "scatter",
         "x": [
          "2023-04-12T20:33:32.537703",
          "2023-04-12T17:17:26.820219",
          "2023-04-12T09:53:31.010237"
         ],
         "xaxis": "x30",
         "y": [
          520.6732880608782,
          520.6732880608782,
          520.6732880608782
         ],
         "yaxis": "y30"
        },
        {
         "hovertemplate": "%{text}",
         "legendgroup": "0.4",
         "marker": {
          "color": "blue"
         },
         "name": "dx=0.4",
         "showlegend": false,
         "text": [
          "<br>Git Hash: 19f9c461fbaf4206d48775c151116cff6d661369</br>\n<br>Version: 2023.3.0</br>\n<br>Timestamp 2023-04-12</br>",
          "<br>Git Hash: 00dae0a1bd0b7919dee6ba4d96a4cf63f8949b0c</br>\n<br>Version: 2023.3.0</br>\n<br>Timestamp 2023-04-12</br>",
          "<br>Git Hash: 7c99dbc59c2c38c7c192be00eac500546471bed0</br>\n<br>Version: 2023.3.0</br>\n<br>Timestamp 2023-04-12</br>"
         ],
         "type": "scatter",
         "x": [
          "2023-04-12T20:33:32.537703",
          "2023-04-12T17:17:26.820219",
          "2023-04-12T09:53:31.010237"
         ],
         "xaxis": "x31",
         "y": [
          193.27237214888277,
          193.27237214888277,
          193.27237214888277
         ],
         "yaxis": "y31"
        },
        {
         "hovertemplate": "%{text}",
         "legendgroup": "0.4",
         "marker": {
          "color": "blue"
         },
         "name": "dx=0.4",
         "showlegend": false,
         "text": [
          "<br>Git Hash: 19f9c461fbaf4206d48775c151116cff6d661369</br>\n<br>Version: 2023.3.0</br>\n<br>Timestamp 2023-04-12</br>",
          "<br>Git Hash: 00dae0a1bd0b7919dee6ba4d96a4cf63f8949b0c</br>\n<br>Version: 2023.3.0</br>\n<br>Timestamp 2023-04-12</br>",
          "<br>Git Hash: 7c99dbc59c2c38c7c192be00eac500546471bed0</br>\n<br>Version: 2023.3.0</br>\n<br>Timestamp 2023-04-12</br>"
         ],
         "type": "scatter",
         "x": [
          "2023-04-12T20:33:32.537703",
          "2023-04-12T17:17:26.820219",
          "2023-04-12T09:53:31.010237"
         ],
         "xaxis": "x32",
         "y": [
          -108.48541463355491,
          -108.48541463355491,
          -108.48541463355491
         ],
         "yaxis": "y32"
        },
        {
         "hovertemplate": "%{text}",
         "legendgroup": "0.4",
         "marker": {
          "color": "blue"
         },
         "name": "dx=0.4",
         "showlegend": false,
         "text": [
          "<br>Git Hash: 19f9c461fbaf4206d48775c151116cff6d661369</br>\n<br>Version: 2023.3.0</br>\n<br>Timestamp 2023-04-12</br>",
          "<br>Git Hash: 00dae0a1bd0b7919dee6ba4d96a4cf63f8949b0c</br>\n<br>Version: 2023.3.0</br>\n<br>Timestamp 2023-04-12</br>",
          "<br>Git Hash: 7c99dbc59c2c38c7c192be00eac500546471bed0</br>\n<br>Version: 2023.3.0</br>\n<br>Timestamp 2023-04-12</br>"
         ],
         "type": "scatter",
         "x": [
          "2023-04-12T20:33:32.537703",
          "2023-04-12T17:17:26.820219",
          "2023-04-12T09:53:31.010237"
         ],
         "xaxis": "x33",
         "y": [
          0.16828491205706192,
          0.16828491205706192,
          0.16828491205706192
         ],
         "yaxis": "y33"
        },
        {
         "hovertemplate": "%{text}",
         "legendgroup": "0.4",
         "marker": {
          "color": "blue"
         },
         "name": "dx=0.4",
         "showlegend": false,
         "text": [
          "<br>Git Hash: 19f9c461fbaf4206d48775c151116cff6d661369</br>\n<br>Version: 2023.3.0</br>\n<br>Timestamp 2023-04-12</br>",
          "<br>Git Hash: 00dae0a1bd0b7919dee6ba4d96a4cf63f8949b0c</br>\n<br>Version: 2023.3.0</br>\n<br>Timestamp 2023-04-12</br>",
          "<br>Git Hash: 7c99dbc59c2c38c7c192be00eac500546471bed0</br>\n<br>Version: 2023.3.0</br>\n<br>Timestamp 2023-04-12</br>"
         ],
         "type": "scatter",
         "x": [
          "2023-04-12T20:33:32.537703",
          "2023-04-12T17:17:26.820219",
          "2023-04-12T09:53:31.010237"
         ],
         "xaxis": "x34",
         "y": [
          0.16828491205706192,
          0.16828491205706192,
          0.16828491205706192
         ],
         "yaxis": "y34"
        },
        {
         "hovertemplate": "%{text}",
         "legendgroup": "0.4",
         "marker": {
          "color": "blue"
         },
         "name": "dx=0.4",
         "showlegend": false,
         "text": [
          "<br>Git Hash: 19f9c461fbaf4206d48775c151116cff6d661369</br>\n<br>Version: 2023.3.0</br>\n<br>Timestamp 2023-04-12</br>",
          "<br>Git Hash: 00dae0a1bd0b7919dee6ba4d96a4cf63f8949b0c</br>\n<br>Version: 2023.3.0</br>\n<br>Timestamp 2023-04-12</br>",
          "<br>Git Hash: 7c99dbc59c2c38c7c192be00eac500546471bed0</br>\n<br>Version: 2023.3.0</br>\n<br>Timestamp 2023-04-12</br>"
         ],
         "type": "scatter",
         "x": [
          "2023-04-12T20:33:32.537703",
          "2023-04-12T17:17:26.820219",
          "2023-04-12T09:53:31.010237"
         ],
         "xaxis": "x35",
         "y": [
          0.8414245602853097,
          0.8414245602853097,
          0.8414245602853097
         ],
         "yaxis": "y35"
        },
        {
         "hovertemplate": "%{text}",
         "legendgroup": "0.4",
         "marker": {
          "color": "blue"
         },
         "name": "dx=0.4",
         "showlegend": false,
         "text": [
          "<br>Git Hash: 19f9c461fbaf4206d48775c151116cff6d661369</br>\n<br>Version: 2023.3.0</br>\n<br>Timestamp 2023-04-12</br>",
          "<br>Git Hash: 00dae0a1bd0b7919dee6ba4d96a4cf63f8949b0c</br>\n<br>Version: 2023.3.0</br>\n<br>Timestamp 2023-04-12</br>",
          "<br>Git Hash: 7c99dbc59c2c38c7c192be00eac500546471bed0</br>\n<br>Version: 2023.3.0</br>\n<br>Timestamp 2023-04-12</br>"
         ],
         "type": "scatter",
         "x": [
          "2023-04-12T20:33:32.537703",
          "2023-04-12T17:17:26.820219",
          "2023-04-12T09:53:31.010237"
         ],
         "xaxis": "x36",
         "y": [
          0.8485645911652587,
          0.8485645911652587,
          0.8485645911652587
         ],
         "yaxis": "y36"
        },
        {
         "hovertemplate": "%{text}",
         "legendgroup": "0.4",
         "marker": {
          "color": "blue"
         },
         "name": "dx=0.4",
         "showlegend": false,
         "text": [
          "<br>Git Hash: 19f9c461fbaf4206d48775c151116cff6d661369</br>\n<br>Version: 2023.3.0</br>\n<br>Timestamp 2023-04-12</br>",
          "<br>Git Hash: 00dae0a1bd0b7919dee6ba4d96a4cf63f8949b0c</br>\n<br>Version: 2023.3.0</br>\n<br>Timestamp 2023-04-12</br>",
          "<br>Git Hash: 7c99dbc59c2c38c7c192be00eac500546471bed0</br>\n<br>Version: 2023.3.0</br>\n<br>Timestamp 2023-04-12</br>"
         ],
         "type": "scatter",
         "x": [
          "2023-04-12T20:33:32.537703",
          "2023-04-12T17:17:26.820219",
          "2023-04-12T09:53:31.010237"
         ],
         "xaxis": "x37",
         "y": [
          0.05,
          0.05,
          0.05
         ],
         "yaxis": "y37"
        },
        {
         "hovertemplate": "%{text}",
         "legendgroup": "0.4",
         "marker": {
          "color": "blue"
         },
         "name": "dx=0.4",
         "showlegend": false,
         "text": [
          "<br>Git Hash: 19f9c461fbaf4206d48775c151116cff6d661369</br>\n<br>Version: 2023.3.0</br>\n<br>Timestamp 2023-04-12</br>",
          "<br>Git Hash: 00dae0a1bd0b7919dee6ba4d96a4cf63f8949b0c</br>\n<br>Version: 2023.3.0</br>\n<br>Timestamp 2023-04-12</br>",
          "<br>Git Hash: 7c99dbc59c2c38c7c192be00eac500546471bed0</br>\n<br>Version: 2023.3.0</br>\n<br>Timestamp 2023-04-12</br>"
         ],
         "type": "scatter",
         "x": [
          "2023-04-12T20:33:32.537703",
          "2023-04-12T17:17:26.820219",
          "2023-04-12T09:53:31.010237"
         ],
         "xaxis": "x38",
         "y": [
          0.09715933927669719,
          0.09715933927669719,
          0.09715933927669719
         ],
         "yaxis": "y38"
        },
        {
         "hovertemplate": "%{text}",
         "legendgroup": "0.4",
         "marker": {
          "color": "blue"
         },
         "name": "dx=0.4",
         "showlegend": false,
         "text": [
          "<br>Git Hash: 19f9c461fbaf4206d48775c151116cff6d661369</br>\n<br>Version: 2023.3.0</br>\n<br>Timestamp 2023-04-12</br>",
          "<br>Git Hash: 00dae0a1bd0b7919dee6ba4d96a4cf63f8949b0c</br>\n<br>Version: 2023.3.0</br>\n<br>Timestamp 2023-04-12</br>",
          "<br>Git Hash: 7c99dbc59c2c38c7c192be00eac500546471bed0</br>\n<br>Version: 2023.3.0</br>\n<br>Timestamp 2023-04-12</br>"
         ],
         "type": "scatter",
         "x": [
          "2023-04-12T20:33:32.537703",
          "2023-04-12T17:17:26.820219",
          "2023-04-12T09:53:31.010237"
         ],
         "xaxis": "x39",
         "y": [
          0.09715933927669719,
          0.09715933927669719,
          0.09715933927669719
         ],
         "yaxis": "y39"
        },
        {
         "hovertemplate": "%{text}",
         "legendgroup": "0.4",
         "marker": {
          "color": "blue"
         },
         "name": "dx=0.4",
         "showlegend": false,
         "text": [
          "<br>Git Hash: 19f9c461fbaf4206d48775c151116cff6d661369</br>\n<br>Version: 2023.3.0</br>\n<br>Timestamp 2023-04-12</br>",
          "<br>Git Hash: 00dae0a1bd0b7919dee6ba4d96a4cf63f8949b0c</br>\n<br>Version: 2023.3.0</br>\n<br>Timestamp 2023-04-12</br>",
          "<br>Git Hash: 7c99dbc59c2c38c7c192be00eac500546471bed0</br>\n<br>Version: 2023.3.0</br>\n<br>Timestamp 2023-04-12</br>"
         ],
         "type": "scatter",
         "x": [
          "2023-04-12T20:33:32.537703",
          "2023-04-12T17:17:26.820219",
          "2023-04-12T09:53:31.010237"
         ],
         "xaxis": "x40",
         "y": [
          0.48579669638348594,
          0.48579669638348594,
          0.48579669638348594
         ],
         "yaxis": "y40"
        },
        {
         "hovertemplate": "%{text}",
         "legendgroup": "0.4",
         "marker": {
          "color": "blue"
         },
         "name": "dx=0.4",
         "showlegend": false,
         "text": [
          "<br>Git Hash: 19f9c461fbaf4206d48775c151116cff6d661369</br>\n<br>Version: 2023.3.0</br>\n<br>Timestamp 2023-04-12</br>",
          "<br>Git Hash: 00dae0a1bd0b7919dee6ba4d96a4cf63f8949b0c</br>\n<br>Version: 2023.3.0</br>\n<br>Timestamp 2023-04-12</br>",
          "<br>Git Hash: 7c99dbc59c2c38c7c192be00eac500546471bed0</br>\n<br>Version: 2023.3.0</br>\n<br>Timestamp 2023-04-12</br>"
         ],
         "type": "scatter",
         "x": [
          "2023-04-12T20:33:32.537703",
          "2023-04-12T17:17:26.820219",
          "2023-04-12T09:53:31.010237"
         ],
         "xaxis": "x41",
         "y": [
          0.48816820137857775,
          0.48816820137857775,
          0.48816820137857775
         ],
         "yaxis": "y41"
        },
        {
         "hovertemplate": "%{text}",
         "legendgroup": "0.4",
         "marker": {
          "color": "blue"
         },
         "name": "dx=0.4",
         "showlegend": false,
         "text": [
          "<br>Git Hash: 19f9c461fbaf4206d48775c151116cff6d661369</br>\n<br>Version: 2023.3.0</br>\n<br>Timestamp 2023-04-12</br>",
          "<br>Git Hash: 00dae0a1bd0b7919dee6ba4d96a4cf63f8949b0c</br>\n<br>Version: 2023.3.0</br>\n<br>Timestamp 2023-04-12</br>",
          "<br>Git Hash: 7c99dbc59c2c38c7c192be00eac500546471bed0</br>\n<br>Version: 2023.3.0</br>\n<br>Timestamp 2023-04-12</br>"
         ],
         "type": "scatter",
         "x": [
          "2023-04-12T20:33:32.537703",
          "2023-04-12T17:17:26.820219",
          "2023-04-12T09:53:31.010237"
         ],
         "xaxis": "x42",
         "y": [
          0.05,
          0.05,
          0.05
         ],
         "yaxis": "y42"
        },
        {
         "hovertemplate": "%{text}",
         "legendgroup": "0.4",
         "marker": {
          "color": "blue"
         },
         "name": "dx=0.4",
         "showlegend": false,
         "text": [
          "<br>Git Hash: 19f9c461fbaf4206d48775c151116cff6d661369</br>\n<br>Version: 2023.3.0</br>\n<br>Timestamp 2023-04-12</br>",
          "<br>Git Hash: 00dae0a1bd0b7919dee6ba4d96a4cf63f8949b0c</br>\n<br>Version: 2023.3.0</br>\n<br>Timestamp 2023-04-12</br>",
          "<br>Git Hash: 7c99dbc59c2c38c7c192be00eac500546471bed0</br>\n<br>Version: 2023.3.0</br>\n<br>Timestamp 2023-04-12</br>"
         ],
         "type": "scatter",
         "x": [
          "2023-04-12T20:33:32.537703",
          "2023-04-12T17:17:26.820219",
          "2023-04-12T09:53:31.010237"
         ],
         "xaxis": "x43",
         "y": [
          0.09715933927669719,
          0.09715933927669719,
          0.09715933927669719
         ],
         "yaxis": "y43"
        },
        {
         "hovertemplate": "%{text}",
         "legendgroup": "0.4",
         "marker": {
          "color": "blue"
         },
         "name": "dx=0.4",
         "showlegend": false,
         "text": [
          "<br>Git Hash: 19f9c461fbaf4206d48775c151116cff6d661369</br>\n<br>Version: 2023.3.0</br>\n<br>Timestamp 2023-04-12</br>",
          "<br>Git Hash: 00dae0a1bd0b7919dee6ba4d96a4cf63f8949b0c</br>\n<br>Version: 2023.3.0</br>\n<br>Timestamp 2023-04-12</br>",
          "<br>Git Hash: 7c99dbc59c2c38c7c192be00eac500546471bed0</br>\n<br>Version: 2023.3.0</br>\n<br>Timestamp 2023-04-12</br>"
         ],
         "type": "scatter",
         "x": [
          "2023-04-12T20:33:32.537703",
          "2023-04-12T17:17:26.820219",
          "2023-04-12T09:53:31.010237"
         ],
         "xaxis": "x44",
         "y": [
          0.09715933927669719,
          0.09715933927669719,
          0.09715933927669719
         ],
         "yaxis": "y44"
        },
        {
         "hovertemplate": "%{text}",
         "legendgroup": "0.4",
         "marker": {
          "color": "blue"
         },
         "name": "dx=0.4",
         "showlegend": false,
         "text": [
          "<br>Git Hash: 19f9c461fbaf4206d48775c151116cff6d661369</br>\n<br>Version: 2023.3.0</br>\n<br>Timestamp 2023-04-12</br>",
          "<br>Git Hash: 00dae0a1bd0b7919dee6ba4d96a4cf63f8949b0c</br>\n<br>Version: 2023.3.0</br>\n<br>Timestamp 2023-04-12</br>",
          "<br>Git Hash: 7c99dbc59c2c38c7c192be00eac500546471bed0</br>\n<br>Version: 2023.3.0</br>\n<br>Timestamp 2023-04-12</br>"
         ],
         "type": "scatter",
         "x": [
          "2023-04-12T20:33:32.537703",
          "2023-04-12T17:17:26.820219",
          "2023-04-12T09:53:31.010237"
         ],
         "xaxis": "x45",
         "y": [
          0.48579669638348594,
          0.48579669638348594,
          0.48579669638348594
         ],
         "yaxis": "y45"
        },
        {
         "hovertemplate": "%{text}",
         "legendgroup": "0.4",
         "marker": {
          "color": "blue"
         },
         "name": "dx=0.4",
         "showlegend": false,
         "text": [
          "<br>Git Hash: 19f9c461fbaf4206d48775c151116cff6d661369</br>\n<br>Version: 2023.3.0</br>\n<br>Timestamp 2023-04-12</br>",
          "<br>Git Hash: 00dae0a1bd0b7919dee6ba4d96a4cf63f8949b0c</br>\n<br>Version: 2023.3.0</br>\n<br>Timestamp 2023-04-12</br>",
          "<br>Git Hash: 7c99dbc59c2c38c7c192be00eac500546471bed0</br>\n<br>Version: 2023.3.0</br>\n<br>Timestamp 2023-04-12</br>"
         ],
         "type": "scatter",
         "x": [
          "2023-04-12T20:33:32.537703",
          "2023-04-12T17:17:26.820219",
          "2023-04-12T09:53:31.010237"
         ],
         "xaxis": "x46",
         "y": [
          0.48816820137857775,
          0.48816820137857775,
          0.48816820137857775
         ],
         "yaxis": "y46"
        },
        {
         "hovertemplate": "%{text}",
         "legendgroup": "0.4",
         "marker": {
          "color": "blue"
         },
         "name": "dx=0.4",
         "showlegend": false,
         "text": [
          "<br>Git Hash: 19f9c461fbaf4206d48775c151116cff6d661369</br>\n<br>Version: 2023.3.0</br>\n<br>Timestamp 2023-04-12</br>",
          "<br>Git Hash: 00dae0a1bd0b7919dee6ba4d96a4cf63f8949b0c</br>\n<br>Version: 2023.3.0</br>\n<br>Timestamp 2023-04-12</br>",
          "<br>Git Hash: 7c99dbc59c2c38c7c192be00eac500546471bed0</br>\n<br>Version: 2023.3.0</br>\n<br>Timestamp 2023-04-12</br>"
         ],
         "type": "scatter",
         "x": [
          "2023-04-12T20:33:32.537703",
          "2023-04-12T17:17:26.820219",
          "2023-04-12T09:53:31.010237"
         ],
         "xaxis": "x47",
         "y": [
          0.05,
          0.05,
          0.05
         ],
         "yaxis": "y47"
        },
        {
         "hovertemplate": "%{text}",
         "legendgroup": "0.4",
         "marker": {
          "color": "blue"
         },
         "name": "dx=0.4",
         "showlegend": false,
         "text": [
          "<br>Git Hash: 19f9c461fbaf4206d48775c151116cff6d661369</br>\n<br>Version: 2023.3.0</br>\n<br>Timestamp 2023-04-12</br>",
          "<br>Git Hash: 00dae0a1bd0b7919dee6ba4d96a4cf63f8949b0c</br>\n<br>Version: 2023.3.0</br>\n<br>Timestamp 2023-04-12</br>",
          "<br>Git Hash: 7c99dbc59c2c38c7c192be00eac500546471bed0</br>\n<br>Version: 2023.3.0</br>\n<br>Timestamp 2023-04-12</br>"
         ],
         "type": "scatter",
         "x": [
          "2023-04-12T20:33:32.537703",
          "2023-04-12T17:17:26.820219",
          "2023-04-12T09:53:31.010237"
         ],
         "xaxis": "x48",
         "y": [
          0.09715933927669719,
          0.09715933927669719,
          0.09715933927669719
         ],
         "yaxis": "y48"
        },
        {
         "hovertemplate": "%{text}",
         "legendgroup": "0.4",
         "marker": {
          "color": "blue"
         },
         "name": "dx=0.4",
         "showlegend": false,
         "text": [
          "<br>Git Hash: 19f9c461fbaf4206d48775c151116cff6d661369</br>\n<br>Version: 2023.3.0</br>\n<br>Timestamp 2023-04-12</br>",
          "<br>Git Hash: 00dae0a1bd0b7919dee6ba4d96a4cf63f8949b0c</br>\n<br>Version: 2023.3.0</br>\n<br>Timestamp 2023-04-12</br>",
          "<br>Git Hash: 7c99dbc59c2c38c7c192be00eac500546471bed0</br>\n<br>Version: 2023.3.0</br>\n<br>Timestamp 2023-04-12</br>"
         ],
         "type": "scatter",
         "x": [
          "2023-04-12T20:33:32.537703",
          "2023-04-12T17:17:26.820219",
          "2023-04-12T09:53:31.010237"
         ],
         "xaxis": "x49",
         "y": [
          0.09715933927669719,
          0.09715933927669719,
          0.09715933927669719
         ],
         "yaxis": "y49"
        },
        {
         "hovertemplate": "%{text}",
         "legendgroup": "0.4",
         "marker": {
          "color": "blue"
         },
         "name": "dx=0.4",
         "showlegend": false,
         "text": [
          "<br>Git Hash: 19f9c461fbaf4206d48775c151116cff6d661369</br>\n<br>Version: 2023.3.0</br>\n<br>Timestamp 2023-04-12</br>",
          "<br>Git Hash: 00dae0a1bd0b7919dee6ba4d96a4cf63f8949b0c</br>\n<br>Version: 2023.3.0</br>\n<br>Timestamp 2023-04-12</br>",
          "<br>Git Hash: 7c99dbc59c2c38c7c192be00eac500546471bed0</br>\n<br>Version: 2023.3.0</br>\n<br>Timestamp 2023-04-12</br>"
         ],
         "type": "scatter",
         "x": [
          "2023-04-12T20:33:32.537703",
          "2023-04-12T17:17:26.820219",
          "2023-04-12T09:53:31.010237"
         ],
         "xaxis": "x50",
         "y": [
          0.48579669638348594,
          0.48579669638348594,
          0.48579669638348594
         ],
         "yaxis": "y50"
        },
        {
         "hovertemplate": "%{text}",
         "legendgroup": "0.4",
         "marker": {
          "color": "blue"
         },
         "name": "dx=0.4",
         "showlegend": false,
         "text": [
          "<br>Git Hash: 19f9c461fbaf4206d48775c151116cff6d661369</br>\n<br>Version: 2023.3.0</br>\n<br>Timestamp 2023-04-12</br>",
          "<br>Git Hash: 00dae0a1bd0b7919dee6ba4d96a4cf63f8949b0c</br>\n<br>Version: 2023.3.0</br>\n<br>Timestamp 2023-04-12</br>",
          "<br>Git Hash: 7c99dbc59c2c38c7c192be00eac500546471bed0</br>\n<br>Version: 2023.3.0</br>\n<br>Timestamp 2023-04-12</br>"
         ],
         "type": "scatter",
         "x": [
          "2023-04-12T20:33:32.537703",
          "2023-04-12T17:17:26.820219",
          "2023-04-12T09:53:31.010237"
         ],
         "xaxis": "x51",
         "y": [
          0.48816820137857775,
          0.48816820137857775,
          0.48816820137857775
         ],
         "yaxis": "y51"
        },
        {
         "hovertemplate": "%{text}",
         "legendgroup": "0.4",
         "marker": {
          "color": "blue"
         },
         "name": "dx=0.4",
         "showlegend": false,
         "text": [
          "<br>Git Hash: 19f9c461fbaf4206d48775c151116cff6d661369</br>\n<br>Version: 2023.3.0</br>\n<br>Timestamp 2023-04-12</br>",
          "<br>Git Hash: 00dae0a1bd0b7919dee6ba4d96a4cf63f8949b0c</br>\n<br>Version: 2023.3.0</br>\n<br>Timestamp 2023-04-12</br>",
          "<br>Git Hash: 7c99dbc59c2c38c7c192be00eac500546471bed0</br>\n<br>Version: 2023.3.0</br>\n<br>Timestamp 2023-04-12</br>"
         ],
         "type": "scatter",
         "x": [
          "2023-04-12T20:33:32.537703",
          "2023-04-12T17:17:26.820219",
          "2023-04-12T09:53:31.010237"
         ],
         "xaxis": "x52",
         "y": [
          0.05,
          0.05,
          0.05
         ],
         "yaxis": "y52"
        }
       ],
       "layout": {
        "annotations": [
         {
          "font": {
           "size": 16
          },
          "showarrow": false,
          "text": "import_time",
          "x": 0.5,
          "xanchor": "center",
          "xref": "paper",
          "y": 0.9999999999999993,
          "yanchor": "bottom",
          "yref": "paper"
         },
         {
          "font": {
           "size": 16
          },
          "showarrow": false,
          "text": "num_cells_mechanics",
          "x": 0.5,
          "xanchor": "center",
          "xref": "paper",
          "y": 0.9805843195266266,
          "yanchor": "bottom",
          "yref": "paper"
         },
         {
          "font": {
           "size": 16
          },
          "showarrow": false,
          "text": "num_cells_ep",
          "x": 0.5,
          "xanchor": "center",
          "xref": "paper",
          "y": 0.9611686390532539,
          "yanchor": "bottom",
          "yref": "paper"
         },
         {
          "font": {
           "size": 16
          },
          "showarrow": false,
          "text": "num_vertices_mechanics",
          "x": 0.5,
          "xanchor": "center",
          "xref": "paper",
          "y": 0.9417529585798811,
          "yanchor": "bottom",
          "yref": "paper"
         },
         {
          "font": {
           "size": 16
          },
          "showarrow": false,
          "text": "num_vertices_ep",
          "x": 0.5,
          "xanchor": "center",
          "xref": "paper",
          "y": 0.9223372781065082,
          "yanchor": "bottom",
          "yref": "paper"
         },
         {
          "font": {
           "size": 16
          },
          "showarrow": false,
          "text": "create_runner_time",
          "x": 0.5,
          "xanchor": "center",
          "xref": "paper",
          "y": 0.9029215976331355,
          "yanchor": "bottom",
          "yref": "paper"
         },
         {
          "font": {
           "size": 16
          },
          "showarrow": false,
          "text": "solve_time",
          "x": 0.5,
          "xanchor": "center",
          "xref": "paper",
          "y": 0.8835059171597628,
          "yanchor": "bottom",
          "yref": "paper"
         },
         {
          "font": {
           "size": 16
          },
          "showarrow": false,
          "text": "maxTa",
          "x": 0.5,
          "xanchor": "center",
          "xref": "paper",
          "y": 0.8640902366863901,
          "yanchor": "bottom",
          "yref": "paper"
         },
         {
          "font": {
           "size": 16
          },
          "showarrow": false,
          "text": "ampTa",
          "x": 0.5,
          "xanchor": "center",
          "xref": "paper",
          "y": 0.8446745562130173,
          "yanchor": "bottom",
          "yref": "paper"
         },
         {
          "font": {
           "size": 16
          },
          "showarrow": false,
          "text": "APD40",
          "x": 0.5,
          "xanchor": "center",
          "xref": "paper",
          "y": 0.8252588757396445,
          "yanchor": "bottom",
          "yref": "paper"
         },
         {
          "font": {
           "size": 16
          },
          "showarrow": false,
          "text": "APD50",
          "x": 0.5,
          "xanchor": "center",
          "xref": "paper",
          "y": 0.8058431952662718,
          "yanchor": "bottom",
          "yref": "paper"
         },
         {
          "font": {
           "size": 16
          },
          "showarrow": false,
          "text": "APD90",
          "x": 0.5,
          "xanchor": "center",
          "xref": "paper",
          "y": 0.786427514792899,
          "yanchor": "bottom",
          "yref": "paper"
         },
         {
          "font": {
           "size": 16
          },
          "showarrow": false,
          "text": "triangulation",
          "x": 0.5,
          "xanchor": "center",
          "xref": "paper",
          "y": 0.7670118343195262,
          "yanchor": "bottom",
          "yref": "paper"
         },
         {
          "font": {
           "size": 16
          },
          "showarrow": false,
          "text": "Vpeak",
          "x": 0.5,
          "xanchor": "center",
          "xref": "paper",
          "y": 0.7475961538461535,
          "yanchor": "bottom",
          "yref": "paper"
         },
         {
          "font": {
           "size": 16
          },
          "showarrow": false,
          "text": "Vmin",
          "x": 0.5,
          "xanchor": "center",
          "xref": "paper",
          "y": 0.7281804733727808,
          "yanchor": "bottom",
          "yref": "paper"
         },
         {
          "font": {
           "size": 16
          },
          "showarrow": false,
          "text": "dvdt",
          "x": 0.5,
          "xanchor": "center",
          "xref": "paper",
          "y": 0.708764792899408,
          "yanchor": "bottom",
          "yref": "paper"
         },
         {
          "font": {
           "size": 16
          },
          "showarrow": false,
          "text": "maxCa",
          "x": 0.5,
          "xanchor": "center",
          "xref": "paper",
          "y": 0.6893491124260352,
          "yanchor": "bottom",
          "yref": "paper"
         },
         {
          "font": {
           "size": 16
          },
          "showarrow": false,
          "text": "ampCa",
          "x": 0.5,
          "xanchor": "center",
          "xref": "paper",
          "y": 0.6699334319526624,
          "yanchor": "bottom",
          "yref": "paper"
         },
         {
          "font": {
           "size": 16
          },
          "showarrow": false,
          "text": "CaTD50",
          "x": 0.5,
          "xanchor": "center",
          "xref": "paper",
          "y": 0.6505177514792897,
          "yanchor": "bottom",
          "yref": "paper"
         },
         {
          "font": {
           "size": 16
          },
          "showarrow": false,
          "text": "CaTD80",
          "x": 0.5,
          "xanchor": "center",
          "xref": "paper",
          "y": 0.631102071005917,
          "yanchor": "bottom",
          "yref": "paper"
         },
         {
          "font": {
           "size": 16
          },
          "showarrow": false,
          "text": "CaTD90",
          "x": 0.5,
          "xanchor": "center",
          "xref": "paper",
          "y": 0.6116863905325443,
          "yanchor": "bottom",
          "yref": "paper"
         },
         {
          "font": {
           "size": 16
          },
          "showarrow": false,
          "text": "ttp_Ta",
          "x": 0.5,
          "xanchor": "center",
          "xref": "paper",
          "y": 0.5922707100591715,
          "yanchor": "bottom",
          "yref": "paper"
         },
         {
          "font": {
           "size": 16
          },
          "showarrow": false,
          "text": "rt50_Ta",
          "x": 0.5,
          "xanchor": "center",
          "xref": "paper",
          "y": 0.5728550295857987,
          "yanchor": "bottom",
          "yref": "paper"
         },
         {
          "font": {
           "size": 16
          },
          "showarrow": false,
          "text": "rt95_Ta",
          "x": 0.5,
          "xanchor": "center",
          "xref": "paper",
          "y": 0.553439349112426,
          "yanchor": "bottom",
          "yref": "paper"
         },
         {
          "font": {
           "size": 16
          },
          "showarrow": false,
          "text": "maxlmbda",
          "x": 0.5,
          "xanchor": "center",
          "xref": "paper",
          "y": 0.5340236686390532,
          "yanchor": "bottom",
          "yref": "paper"
         },
         {
          "font": {
           "size": 16
          },
          "showarrow": false,
          "text": "minlmbda",
          "x": 0.5,
          "xanchor": "center",
          "xref": "paper",
          "y": 0.5146079881656804,
          "yanchor": "bottom",
          "yref": "paper"
         },
         {
          "font": {
           "size": 16
          },
          "showarrow": false,
          "text": "ttplmbda",
          "x": 0.5,
          "xanchor": "center",
          "xref": "paper",
          "y": 0.4951923076923077,
          "yanchor": "bottom",
          "yref": "paper"
         },
         {
          "font": {
           "size": 16
          },
          "showarrow": false,
          "text": "lmbdaD50",
          "x": 0.5,
          "xanchor": "center",
          "xref": "paper",
          "y": 0.4757766272189349,
          "yanchor": "bottom",
          "yref": "paper"
         },
         {
          "font": {
           "size": 16
          },
          "showarrow": false,
          "text": "lmbdaD80",
          "x": 0.5,
          "xanchor": "center",
          "xref": "paper",
          "y": 0.45636094674556216,
          "yanchor": "bottom",
          "yref": "paper"
         },
         {
          "font": {
           "size": 16
          },
          "showarrow": false,
          "text": "lmbdaD90",
          "x": 0.5,
          "xanchor": "center",
          "xref": "paper",
          "y": 0.4369452662721893,
          "yanchor": "bottom",
          "yref": "paper"
         },
         {
          "font": {
           "size": 16
          },
          "showarrow": false,
          "text": "rt50_lmbda",
          "x": 0.5,
          "xanchor": "center",
          "xref": "paper",
          "y": 0.41752958579881655,
          "yanchor": "bottom",
          "yref": "paper"
         },
         {
          "font": {
           "size": 16
          },
          "showarrow": false,
          "text": "rt95_lmbda",
          "x": 0.5,
          "xanchor": "center",
          "xref": "paper",
          "y": 0.3981139053254438,
          "yanchor": "bottom",
          "yref": "paper"
         },
         {
          "font": {
           "size": 16
          },
          "showarrow": false,
          "text": "max_displacement_norm",
          "x": 0.5,
          "xanchor": "center",
          "xref": "paper",
          "y": 0.378698224852071,
          "yanchor": "bottom",
          "yref": "paper"
         },
         {
          "font": {
           "size": 16
          },
          "showarrow": false,
          "text": "rel_max_displacement_norm",
          "x": 0.5,
          "xanchor": "center",
          "xref": "paper",
          "y": 0.3592825443786982,
          "yanchor": "bottom",
          "yref": "paper"
         },
         {
          "font": {
           "size": 16
          },
          "showarrow": false,
          "text": "max_displacement_perc_norm",
          "x": 0.5,
          "xanchor": "center",
          "xref": "paper",
          "y": 0.3398668639053254,
          "yanchor": "bottom",
          "yref": "paper"
         },
         {
          "font": {
           "size": 16
          },
          "showarrow": false,
          "text": "rel_max_displacement_perc_norm",
          "x": 0.5,
          "xanchor": "center",
          "xref": "paper",
          "y": 0.32045118343195267,
          "yanchor": "bottom",
          "yref": "paper"
         },
         {
          "font": {
           "size": 16
          },
          "showarrow": false,
          "text": "time_to_max_displacement_norm",
          "x": 0.5,
          "xanchor": "center",
          "xref": "paper",
          "y": 0.30103550295857984,
          "yanchor": "bottom",
          "yref": "paper"
         },
         {
          "font": {
           "size": 16
          },
          "showarrow": false,
          "text": "max_displacement_x",
          "x": 0.5,
          "xanchor": "center",
          "xref": "paper",
          "y": 0.2816198224852071,
          "yanchor": "bottom",
          "yref": "paper"
         },
         {
          "font": {
           "size": 16
          },
          "showarrow": false,
          "text": "rel_max_displacement_x",
          "x": 0.5,
          "xanchor": "center",
          "xref": "paper",
          "y": 0.2622041420118343,
          "yanchor": "bottom",
          "yref": "paper"
         },
         {
          "font": {
           "size": 16
          },
          "showarrow": false,
          "text": "max_displacement_perc_x",
          "x": 0.5,
          "xanchor": "center",
          "xref": "paper",
          "y": 0.24278846153846154,
          "yanchor": "bottom",
          "yref": "paper"
         },
         {
          "font": {
           "size": 16
          },
          "showarrow": false,
          "text": "rel_max_displacement_perc_x",
          "x": 0.5,
          "xanchor": "center",
          "xref": "paper",
          "y": 0.22337278106508876,
          "yanchor": "bottom",
          "yref": "paper"
         },
         {
          "font": {
           "size": 16
          },
          "showarrow": false,
          "text": "time_to_max_displacement_x",
          "x": 0.5,
          "xanchor": "center",
          "xref": "paper",
          "y": 0.20395710059171598,
          "yanchor": "bottom",
          "yref": "paper"
         },
         {
          "font": {
           "size": 16
          },
          "showarrow": false,
          "text": "max_displacement_y",
          "x": 0.5,
          "xanchor": "center",
          "xref": "paper",
          "y": 0.1845414201183432,
          "yanchor": "bottom",
          "yref": "paper"
         },
         {
          "font": {
           "size": 16
          },
          "showarrow": false,
          "text": "rel_max_displacement_y",
          "x": 0.5,
          "xanchor": "center",
          "xref": "paper",
          "y": 0.16512573964497043,
          "yanchor": "bottom",
          "yref": "paper"
         },
         {
          "font": {
           "size": 16
          },
          "showarrow": false,
          "text": "max_displacement_perc_y",
          "x": 0.5,
          "xanchor": "center",
          "xref": "paper",
          "y": 0.14571005917159766,
          "yanchor": "bottom",
          "yref": "paper"
         },
         {
          "font": {
           "size": 16
          },
          "showarrow": false,
          "text": "rel_max_displacement_perc_y",
          "x": 0.5,
          "xanchor": "center",
          "xref": "paper",
          "y": 0.12629437869822485,
          "yanchor": "bottom",
          "yref": "paper"
         },
         {
          "font": {
           "size": 16
          },
          "showarrow": false,
          "text": "time_to_max_displacement_y",
          "x": 0.5,
          "xanchor": "center",
          "xref": "paper",
          "y": 0.10687869822485208,
          "yanchor": "bottom",
          "yref": "paper"
         },
         {
          "font": {
           "size": 16
          },
          "showarrow": false,
          "text": "max_displacement_z",
          "x": 0.5,
          "xanchor": "center",
          "xref": "paper",
          "y": 0.0874630177514793,
          "yanchor": "bottom",
          "yref": "paper"
         },
         {
          "font": {
           "size": 16
          },
          "showarrow": false,
          "text": "rel_max_displacement_z",
          "x": 0.5,
          "xanchor": "center",
          "xref": "paper",
          "y": 0.06804733727810651,
          "yanchor": "bottom",
          "yref": "paper"
         },
         {
          "font": {
           "size": 16
          },
          "showarrow": false,
          "text": "max_displacement_perc_z",
          "x": 0.5,
          "xanchor": "center",
          "xref": "paper",
          "y": 0.04863165680473373,
          "yanchor": "bottom",
          "yref": "paper"
         },
         {
          "font": {
           "size": 16
          },
          "showarrow": false,
          "text": "rel_max_displacement_perc_z",
          "x": 0.5,
          "xanchor": "center",
          "xref": "paper",
          "y": 0.02921597633136095,
          "yanchor": "bottom",
          "yref": "paper"
         },
         {
          "font": {
           "size": 16
          },
          "showarrow": false,
          "text": "time_to_max_displacement_z",
          "x": 0.5,
          "xanchor": "center",
          "xref": "paper",
          "y": 0.009800295857988165,
          "yanchor": "bottom",
          "yref": "paper"
         }
        ],
        "height": 5000,
        "showlegend": true,
        "template": {
         "data": {
          "bar": [
           {
            "error_x": {
             "color": "#2a3f5f"
            },
            "error_y": {
             "color": "#2a3f5f"
            },
            "marker": {
             "line": {
              "color": "#E5ECF6",
              "width": 0.5
             },
             "pattern": {
              "fillmode": "overlay",
              "size": 10,
              "solidity": 0.2
             }
            },
            "type": "bar"
           }
          ],
          "barpolar": [
           {
            "marker": {
             "line": {
              "color": "#E5ECF6",
              "width": 0.5
             },
             "pattern": {
              "fillmode": "overlay",
              "size": 10,
              "solidity": 0.2
             }
            },
            "type": "barpolar"
           }
          ],
          "carpet": [
           {
            "aaxis": {
             "endlinecolor": "#2a3f5f",
             "gridcolor": "white",
             "linecolor": "white",
             "minorgridcolor": "white",
             "startlinecolor": "#2a3f5f"
            },
            "baxis": {
             "endlinecolor": "#2a3f5f",
             "gridcolor": "white",
             "linecolor": "white",
             "minorgridcolor": "white",
             "startlinecolor": "#2a3f5f"
            },
            "type": "carpet"
           }
          ],
          "choropleth": [
           {
            "colorbar": {
             "outlinewidth": 0,
             "ticks": ""
            },
            "type": "choropleth"
           }
          ],
          "contour": [
           {
            "colorbar": {
             "outlinewidth": 0,
             "ticks": ""
            },
            "colorscale": [
             [
              0,
              "#0d0887"
             ],
             [
              0.1111111111111111,
              "#46039f"
             ],
             [
              0.2222222222222222,
              "#7201a8"
             ],
             [
              0.3333333333333333,
              "#9c179e"
             ],
             [
              0.4444444444444444,
              "#bd3786"
             ],
             [
              0.5555555555555556,
              "#d8576b"
             ],
             [
              0.6666666666666666,
              "#ed7953"
             ],
             [
              0.7777777777777778,
              "#fb9f3a"
             ],
             [
              0.8888888888888888,
              "#fdca26"
             ],
             [
              1,
              "#f0f921"
             ]
            ],
            "type": "contour"
           }
          ],
          "contourcarpet": [
           {
            "colorbar": {
             "outlinewidth": 0,
             "ticks": ""
            },
            "type": "contourcarpet"
           }
          ],
          "heatmap": [
           {
            "colorbar": {
             "outlinewidth": 0,
             "ticks": ""
            },
            "colorscale": [
             [
              0,
              "#0d0887"
             ],
             [
              0.1111111111111111,
              "#46039f"
             ],
             [
              0.2222222222222222,
              "#7201a8"
             ],
             [
              0.3333333333333333,
              "#9c179e"
             ],
             [
              0.4444444444444444,
              "#bd3786"
             ],
             [
              0.5555555555555556,
              "#d8576b"
             ],
             [
              0.6666666666666666,
              "#ed7953"
             ],
             [
              0.7777777777777778,
              "#fb9f3a"
             ],
             [
              0.8888888888888888,
              "#fdca26"
             ],
             [
              1,
              "#f0f921"
             ]
            ],
            "type": "heatmap"
           }
          ],
          "heatmapgl": [
           {
            "colorbar": {
             "outlinewidth": 0,
             "ticks": ""
            },
            "colorscale": [
             [
              0,
              "#0d0887"
             ],
             [
              0.1111111111111111,
              "#46039f"
             ],
             [
              0.2222222222222222,
              "#7201a8"
             ],
             [
              0.3333333333333333,
              "#9c179e"
             ],
             [
              0.4444444444444444,
              "#bd3786"
             ],
             [
              0.5555555555555556,
              "#d8576b"
             ],
             [
              0.6666666666666666,
              "#ed7953"
             ],
             [
              0.7777777777777778,
              "#fb9f3a"
             ],
             [
              0.8888888888888888,
              "#fdca26"
             ],
             [
              1,
              "#f0f921"
             ]
            ],
            "type": "heatmapgl"
           }
          ],
          "histogram": [
           {
            "marker": {
             "pattern": {
              "fillmode": "overlay",
              "size": 10,
              "solidity": 0.2
             }
            },
            "type": "histogram"
           }
          ],
          "histogram2d": [
           {
            "colorbar": {
             "outlinewidth": 0,
             "ticks": ""
            },
            "colorscale": [
             [
              0,
              "#0d0887"
             ],
             [
              0.1111111111111111,
              "#46039f"
             ],
             [
              0.2222222222222222,
              "#7201a8"
             ],
             [
              0.3333333333333333,
              "#9c179e"
             ],
             [
              0.4444444444444444,
              "#bd3786"
             ],
             [
              0.5555555555555556,
              "#d8576b"
             ],
             [
              0.6666666666666666,
              "#ed7953"
             ],
             [
              0.7777777777777778,
              "#fb9f3a"
             ],
             [
              0.8888888888888888,
              "#fdca26"
             ],
             [
              1,
              "#f0f921"
             ]
            ],
            "type": "histogram2d"
           }
          ],
          "histogram2dcontour": [
           {
            "colorbar": {
             "outlinewidth": 0,
             "ticks": ""
            },
            "colorscale": [
             [
              0,
              "#0d0887"
             ],
             [
              0.1111111111111111,
              "#46039f"
             ],
             [
              0.2222222222222222,
              "#7201a8"
             ],
             [
              0.3333333333333333,
              "#9c179e"
             ],
             [
              0.4444444444444444,
              "#bd3786"
             ],
             [
              0.5555555555555556,
              "#d8576b"
             ],
             [
              0.6666666666666666,
              "#ed7953"
             ],
             [
              0.7777777777777778,
              "#fb9f3a"
             ],
             [
              0.8888888888888888,
              "#fdca26"
             ],
             [
              1,
              "#f0f921"
             ]
            ],
            "type": "histogram2dcontour"
           }
          ],
          "mesh3d": [
           {
            "colorbar": {
             "outlinewidth": 0,
             "ticks": ""
            },
            "type": "mesh3d"
           }
          ],
          "parcoords": [
           {
            "line": {
             "colorbar": {
              "outlinewidth": 0,
              "ticks": ""
             }
            },
            "type": "parcoords"
           }
          ],
          "pie": [
           {
            "automargin": true,
            "type": "pie"
           }
          ],
          "scatter": [
           {
            "fillpattern": {
             "fillmode": "overlay",
             "size": 10,
             "solidity": 0.2
            },
            "type": "scatter"
           }
          ],
          "scatter3d": [
           {
            "line": {
             "colorbar": {
              "outlinewidth": 0,
              "ticks": ""
             }
            },
            "marker": {
             "colorbar": {
              "outlinewidth": 0,
              "ticks": ""
             }
            },
            "type": "scatter3d"
           }
          ],
          "scattercarpet": [
           {
            "marker": {
             "colorbar": {
              "outlinewidth": 0,
              "ticks": ""
             }
            },
            "type": "scattercarpet"
           }
          ],
          "scattergeo": [
           {
            "marker": {
             "colorbar": {
              "outlinewidth": 0,
              "ticks": ""
             }
            },
            "type": "scattergeo"
           }
          ],
          "scattergl": [
           {
            "marker": {
             "colorbar": {
              "outlinewidth": 0,
              "ticks": ""
             }
            },
            "type": "scattergl"
           }
          ],
          "scattermapbox": [
           {
            "marker": {
             "colorbar": {
              "outlinewidth": 0,
              "ticks": ""
             }
            },
            "type": "scattermapbox"
           }
          ],
          "scatterpolar": [
           {
            "marker": {
             "colorbar": {
              "outlinewidth": 0,
              "ticks": ""
             }
            },
            "type": "scatterpolar"
           }
          ],
          "scatterpolargl": [
           {
            "marker": {
             "colorbar": {
              "outlinewidth": 0,
              "ticks": ""
             }
            },
            "type": "scatterpolargl"
           }
          ],
          "scatterternary": [
           {
            "marker": {
             "colorbar": {
              "outlinewidth": 0,
              "ticks": ""
             }
            },
            "type": "scatterternary"
           }
          ],
          "surface": [
           {
            "colorbar": {
             "outlinewidth": 0,
             "ticks": ""
            },
            "colorscale": [
             [
              0,
              "#0d0887"
             ],
             [
              0.1111111111111111,
              "#46039f"
             ],
             [
              0.2222222222222222,
              "#7201a8"
             ],
             [
              0.3333333333333333,
              "#9c179e"
             ],
             [
              0.4444444444444444,
              "#bd3786"
             ],
             [
              0.5555555555555556,
              "#d8576b"
             ],
             [
              0.6666666666666666,
              "#ed7953"
             ],
             [
              0.7777777777777778,
              "#fb9f3a"
             ],
             [
              0.8888888888888888,
              "#fdca26"
             ],
             [
              1,
              "#f0f921"
             ]
            ],
            "type": "surface"
           }
          ],
          "table": [
           {
            "cells": {
             "fill": {
              "color": "#EBF0F8"
             },
             "line": {
              "color": "white"
             }
            },
            "header": {
             "fill": {
              "color": "#C8D4E3"
             },
             "line": {
              "color": "white"
             }
            },
            "type": "table"
           }
          ]
         },
         "layout": {
          "annotationdefaults": {
           "arrowcolor": "#2a3f5f",
           "arrowhead": 0,
           "arrowwidth": 1
          },
          "autotypenumbers": "strict",
          "coloraxis": {
           "colorbar": {
            "outlinewidth": 0,
            "ticks": ""
           }
          },
          "colorscale": {
           "diverging": [
            [
             0,
             "#8e0152"
            ],
            [
             0.1,
             "#c51b7d"
            ],
            [
             0.2,
             "#de77ae"
            ],
            [
             0.3,
             "#f1b6da"
            ],
            [
             0.4,
             "#fde0ef"
            ],
            [
             0.5,
             "#f7f7f7"
            ],
            [
             0.6,
             "#e6f5d0"
            ],
            [
             0.7,
             "#b8e186"
            ],
            [
             0.8,
             "#7fbc41"
            ],
            [
             0.9,
             "#4d9221"
            ],
            [
             1,
             "#276419"
            ]
           ],
           "sequential": [
            [
             0,
             "#0d0887"
            ],
            [
             0.1111111111111111,
             "#46039f"
            ],
            [
             0.2222222222222222,
             "#7201a8"
            ],
            [
             0.3333333333333333,
             "#9c179e"
            ],
            [
             0.4444444444444444,
             "#bd3786"
            ],
            [
             0.5555555555555556,
             "#d8576b"
            ],
            [
             0.6666666666666666,
             "#ed7953"
            ],
            [
             0.7777777777777778,
             "#fb9f3a"
            ],
            [
             0.8888888888888888,
             "#fdca26"
            ],
            [
             1,
             "#f0f921"
            ]
           ],
           "sequentialminus": [
            [
             0,
             "#0d0887"
            ],
            [
             0.1111111111111111,
             "#46039f"
            ],
            [
             0.2222222222222222,
             "#7201a8"
            ],
            [
             0.3333333333333333,
             "#9c179e"
            ],
            [
             0.4444444444444444,
             "#bd3786"
            ],
            [
             0.5555555555555556,
             "#d8576b"
            ],
            [
             0.6666666666666666,
             "#ed7953"
            ],
            [
             0.7777777777777778,
             "#fb9f3a"
            ],
            [
             0.8888888888888888,
             "#fdca26"
            ],
            [
             1,
             "#f0f921"
            ]
           ]
          },
          "colorway": [
           "#636efa",
           "#EF553B",
           "#00cc96",
           "#ab63fa",
           "#FFA15A",
           "#19d3f3",
           "#FF6692",
           "#B6E880",
           "#FF97FF",
           "#FECB52"
          ],
          "font": {
           "color": "#2a3f5f"
          },
          "geo": {
           "bgcolor": "white",
           "lakecolor": "white",
           "landcolor": "#E5ECF6",
           "showlakes": true,
           "showland": true,
           "subunitcolor": "white"
          },
          "hoverlabel": {
           "align": "left"
          },
          "hovermode": "closest",
          "mapbox": {
           "style": "light"
          },
          "paper_bgcolor": "white",
          "plot_bgcolor": "#E5ECF6",
          "polar": {
           "angularaxis": {
            "gridcolor": "white",
            "linecolor": "white",
            "ticks": ""
           },
           "bgcolor": "#E5ECF6",
           "radialaxis": {
            "gridcolor": "white",
            "linecolor": "white",
            "ticks": ""
           }
          },
          "scene": {
           "xaxis": {
            "backgroundcolor": "#E5ECF6",
            "gridcolor": "white",
            "gridwidth": 2,
            "linecolor": "white",
            "showbackground": true,
            "ticks": "",
            "zerolinecolor": "white"
           },
           "yaxis": {
            "backgroundcolor": "#E5ECF6",
            "gridcolor": "white",
            "gridwidth": 2,
            "linecolor": "white",
            "showbackground": true,
            "ticks": "",
            "zerolinecolor": "white"
           },
           "zaxis": {
            "backgroundcolor": "#E5ECF6",
            "gridcolor": "white",
            "gridwidth": 2,
            "linecolor": "white",
            "showbackground": true,
            "ticks": "",
            "zerolinecolor": "white"
           }
          },
          "shapedefaults": {
           "line": {
            "color": "#2a3f5f"
           }
          },
          "ternary": {
           "aaxis": {
            "gridcolor": "white",
            "linecolor": "white",
            "ticks": ""
           },
           "baxis": {
            "gridcolor": "white",
            "linecolor": "white",
            "ticks": ""
           },
           "bgcolor": "#E5ECF6",
           "caxis": {
            "gridcolor": "white",
            "linecolor": "white",
            "ticks": ""
           }
          },
          "title": {
           "x": 0.05
          },
          "xaxis": {
           "automargin": true,
           "gridcolor": "white",
           "linecolor": "white",
           "ticks": "",
           "title": {
            "standoff": 15
           },
           "zerolinecolor": "white",
           "zerolinewidth": 2
          },
          "yaxis": {
           "automargin": true,
           "gridcolor": "white",
           "linecolor": "white",
           "ticks": "",
           "title": {
            "standoff": 15
           },
           "zerolinecolor": "white",
           "zerolinewidth": 2
          }
         }
        },
        "xaxis": {
         "anchor": "y",
         "domain": [
          0,
          1
         ],
         "matches": "x52",
         "showticklabels": false
        },
        "xaxis10": {
         "anchor": "y10",
         "domain": [
          0,
          1
         ],
         "matches": "x52",
         "showticklabels": false
        },
        "xaxis11": {
         "anchor": "y11",
         "domain": [
          0,
          1
         ],
         "matches": "x52",
         "showticklabels": false
        },
        "xaxis12": {
         "anchor": "y12",
         "domain": [
          0,
          1
         ],
         "matches": "x52",
         "showticklabels": false
        },
        "xaxis13": {
         "anchor": "y13",
         "domain": [
          0,
          1
         ],
         "matches": "x52",
         "showticklabels": false
        },
        "xaxis14": {
         "anchor": "y14",
         "domain": [
          0,
          1
         ],
         "matches": "x52",
         "showticklabels": false
        },
        "xaxis15": {
         "anchor": "y15",
         "domain": [
          0,
          1
         ],
         "matches": "x52",
         "showticklabels": false
        },
        "xaxis16": {
         "anchor": "y16",
         "domain": [
          0,
          1
         ],
         "matches": "x52",
         "showticklabels": false
        },
        "xaxis17": {
         "anchor": "y17",
         "domain": [
          0,
          1
         ],
         "matches": "x52",
         "showticklabels": false
        },
        "xaxis18": {
         "anchor": "y18",
         "domain": [
          0,
          1
         ],
         "matches": "x52",
         "showticklabels": false
        },
        "xaxis19": {
         "anchor": "y19",
         "domain": [
          0,
          1
         ],
         "matches": "x52",
         "showticklabels": false
        },
        "xaxis2": {
         "anchor": "y2",
         "domain": [
          0,
          1
         ],
         "matches": "x52",
         "showticklabels": false
        },
        "xaxis20": {
         "anchor": "y20",
         "domain": [
          0,
          1
         ],
         "matches": "x52",
         "showticklabels": false
        },
        "xaxis21": {
         "anchor": "y21",
         "domain": [
          0,
          1
         ],
         "matches": "x52",
         "showticklabels": false
        },
        "xaxis22": {
         "anchor": "y22",
         "domain": [
          0,
          1
         ],
         "matches": "x52",
         "showticklabels": false
        },
        "xaxis23": {
         "anchor": "y23",
         "domain": [
          0,
          1
         ],
         "matches": "x52",
         "showticklabels": false
        },
        "xaxis24": {
         "anchor": "y24",
         "domain": [
          0,
          1
         ],
         "matches": "x52",
         "showticklabels": false
        },
        "xaxis25": {
         "anchor": "y25",
         "domain": [
          0,
          1
         ],
         "matches": "x52",
         "showticklabels": false
        },
        "xaxis26": {
         "anchor": "y26",
         "domain": [
          0,
          1
         ],
         "matches": "x52",
         "showticklabels": false
        },
        "xaxis27": {
         "anchor": "y27",
         "domain": [
          0,
          1
         ],
         "matches": "x52",
         "showticklabels": false
        },
        "xaxis28": {
         "anchor": "y28",
         "domain": [
          0,
          1
         ],
         "matches": "x52",
         "showticklabels": false
        },
        "xaxis29": {
         "anchor": "y29",
         "domain": [
          0,
          1
         ],
         "matches": "x52",
         "showticklabels": false
        },
        "xaxis3": {
         "anchor": "y3",
         "domain": [
          0,
          1
         ],
         "matches": "x52",
         "showticklabels": false
        },
        "xaxis30": {
         "anchor": "y30",
         "domain": [
          0,
          1
         ],
         "matches": "x52",
         "showticklabels": false
        },
        "xaxis31": {
         "anchor": "y31",
         "domain": [
          0,
          1
         ],
         "matches": "x52",
         "showticklabels": false
        },
        "xaxis32": {
         "anchor": "y32",
         "domain": [
          0,
          1
         ],
         "matches": "x52",
         "showticklabels": false
        },
        "xaxis33": {
         "anchor": "y33",
         "domain": [
          0,
          1
         ],
         "matches": "x52",
         "showticklabels": false
        },
        "xaxis34": {
         "anchor": "y34",
         "domain": [
          0,
          1
         ],
         "matches": "x52",
         "showticklabels": false
        },
        "xaxis35": {
         "anchor": "y35",
         "domain": [
          0,
          1
         ],
         "matches": "x52",
         "showticklabels": false
        },
        "xaxis36": {
         "anchor": "y36",
         "domain": [
          0,
          1
         ],
         "matches": "x52",
         "showticklabels": false
        },
        "xaxis37": {
         "anchor": "y37",
         "domain": [
          0,
          1
         ],
         "matches": "x52",
         "showticklabels": false
        },
        "xaxis38": {
         "anchor": "y38",
         "domain": [
          0,
          1
         ],
         "matches": "x52",
         "showticklabels": false
        },
        "xaxis39": {
         "anchor": "y39",
         "domain": [
          0,
          1
         ],
         "matches": "x52",
         "showticklabels": false
        },
        "xaxis4": {
         "anchor": "y4",
         "domain": [
          0,
          1
         ],
         "matches": "x52",
         "showticklabels": false
        },
        "xaxis40": {
         "anchor": "y40",
         "domain": [
          0,
          1
         ],
         "matches": "x52",
         "showticklabels": false
        },
        "xaxis41": {
         "anchor": "y41",
         "domain": [
          0,
          1
         ],
         "matches": "x52",
         "showticklabels": false
        },
        "xaxis42": {
         "anchor": "y42",
         "domain": [
          0,
          1
         ],
         "matches": "x52",
         "showticklabels": false
        },
        "xaxis43": {
         "anchor": "y43",
         "domain": [
          0,
          1
         ],
         "matches": "x52",
         "showticklabels": false
        },
        "xaxis44": {
         "anchor": "y44",
         "domain": [
          0,
          1
         ],
         "matches": "x52",
         "showticklabels": false
        },
        "xaxis45": {
         "anchor": "y45",
         "domain": [
          0,
          1
         ],
         "matches": "x52",
         "showticklabels": false
        },
        "xaxis46": {
         "anchor": "y46",
         "domain": [
          0,
          1
         ],
         "matches": "x52",
         "showticklabels": false
        },
        "xaxis47": {
         "anchor": "y47",
         "domain": [
          0,
          1
         ],
         "matches": "x52",
         "showticklabels": false
        },
        "xaxis48": {
         "anchor": "y48",
         "domain": [
          0,
          1
         ],
         "matches": "x52",
         "showticklabels": false
        },
        "xaxis49": {
         "anchor": "y49",
         "domain": [
          0,
          1
         ],
         "matches": "x52",
         "showticklabels": false
        },
        "xaxis5": {
         "anchor": "y5",
         "domain": [
          0,
          1
         ],
         "matches": "x52",
         "showticklabels": false
        },
        "xaxis50": {
         "anchor": "y50",
         "domain": [
          0,
          1
         ],
         "matches": "x52",
         "showticklabels": false
        },
        "xaxis51": {
         "anchor": "y51",
         "domain": [
          0,
          1
         ],
         "matches": "x52",
         "showticklabels": false
        },
        "xaxis52": {
         "anchor": "y52",
         "domain": [
          0,
          1
         ]
        },
        "xaxis6": {
         "anchor": "y6",
         "domain": [
          0,
          1
         ],
         "matches": "x52",
         "showticklabels": false
        },
        "xaxis7": {
         "anchor": "y7",
         "domain": [
          0,
          1
         ],
         "matches": "x52",
         "showticklabels": false
        },
        "xaxis8": {
         "anchor": "y8",
         "domain": [
          0,
          1
         ],
         "matches": "x52",
         "showticklabels": false
        },
        "xaxis9": {
         "anchor": "y9",
         "domain": [
          0,
          1
         ],
         "matches": "x52",
         "showticklabels": false
        },
        "yaxis": {
         "anchor": "x",
         "domain": [
          0.9901997041420112,
          0.9999999999999993
         ]
        },
        "yaxis10": {
         "anchor": "x10",
         "domain": [
          0.8154585798816564,
          0.8252588757396445
         ]
        },
        "yaxis11": {
         "anchor": "x11",
         "domain": [
          0.7960428994082837,
          0.8058431952662718
         ]
        },
        "yaxis12": {
         "anchor": "x12",
         "domain": [
          0.7766272189349108,
          0.786427514792899
         ]
        },
        "yaxis13": {
         "anchor": "x13",
         "domain": [
          0.7572115384615381,
          0.7670118343195262
         ]
        },
        "yaxis14": {
         "anchor": "x14",
         "domain": [
          0.7377958579881654,
          0.7475961538461535
         ]
        },
        "yaxis15": {
         "anchor": "x15",
         "domain": [
          0.7183801775147927,
          0.7281804733727808
         ]
        },
        "yaxis16": {
         "anchor": "x16",
         "domain": [
          0.6989644970414198,
          0.708764792899408
         ]
        },
        "yaxis17": {
         "anchor": "x17",
         "domain": [
          0.6795488165680471,
          0.6893491124260352
         ]
        },
        "yaxis18": {
         "anchor": "x18",
         "domain": [
          0.6601331360946743,
          0.6699334319526624
         ]
        },
        "yaxis19": {
         "anchor": "x19",
         "domain": [
          0.6407174556213016,
          0.6505177514792897
         ]
        },
        "yaxis2": {
         "anchor": "x2",
         "domain": [
          0.9707840236686385,
          0.9805843195266266
         ]
        },
        "yaxis20": {
         "anchor": "x20",
         "domain": [
          0.6213017751479288,
          0.631102071005917
         ]
        },
        "yaxis21": {
         "anchor": "x21",
         "domain": [
          0.6018860946745561,
          0.6116863905325443
         ]
        },
        "yaxis22": {
         "anchor": "x22",
         "domain": [
          0.5824704142011834,
          0.5922707100591715
         ]
        },
        "yaxis23": {
         "anchor": "x23",
         "domain": [
          0.5630547337278106,
          0.5728550295857987
         ]
        },
        "yaxis24": {
         "anchor": "x24",
         "domain": [
          0.5436390532544378,
          0.553439349112426
         ]
        },
        "yaxis25": {
         "anchor": "x25",
         "domain": [
          0.524223372781065,
          0.5340236686390532
         ]
        },
        "yaxis26": {
         "anchor": "x26",
         "domain": [
          0.5048076923076923,
          0.5146079881656804
         ]
        },
        "yaxis27": {
         "anchor": "x27",
         "domain": [
          0.48539201183431957,
          0.4951923076923077
         ]
        },
        "yaxis28": {
         "anchor": "x28",
         "domain": [
          0.46597633136094674,
          0.4757766272189349
         ]
        },
        "yaxis29": {
         "anchor": "x29",
         "domain": [
          0.446560650887574,
          0.45636094674556216
         ]
        },
        "yaxis3": {
         "anchor": "x3",
         "domain": [
          0.9513683431952658,
          0.9611686390532539
         ]
        },
        "yaxis30": {
         "anchor": "x30",
         "domain": [
          0.4271449704142012,
          0.4369452662721893
         ]
        },
        "yaxis31": {
         "anchor": "x31",
         "domain": [
          0.4077292899408284,
          0.41752958579881655
         ]
        },
        "yaxis32": {
         "anchor": "x32",
         "domain": [
          0.38831360946745563,
          0.3981139053254438
         ]
        },
        "yaxis33": {
         "anchor": "x33",
         "domain": [
          0.36889792899408286,
          0.378698224852071
         ]
        },
        "yaxis34": {
         "anchor": "x34",
         "domain": [
          0.3494822485207101,
          0.3592825443786982
         ]
        },
        "yaxis35": {
         "anchor": "x35",
         "domain": [
          0.33006656804733725,
          0.3398668639053254
         ]
        },
        "yaxis36": {
         "anchor": "x36",
         "domain": [
          0.31065088757396453,
          0.32045118343195267
         ]
        },
        "yaxis37": {
         "anchor": "x37",
         "domain": [
          0.2912352071005917,
          0.30103550295857984
         ]
        },
        "yaxis38": {
         "anchor": "x38",
         "domain": [
          0.271819526627219,
          0.2816198224852071
         ]
        },
        "yaxis39": {
         "anchor": "x39",
         "domain": [
          0.25240384615384615,
          0.2622041420118343
         ]
        },
        "yaxis4": {
         "anchor": "x4",
         "domain": [
          0.9319526627218929,
          0.9417529585798811
         ]
        },
        "yaxis40": {
         "anchor": "x40",
         "domain": [
          0.23298816568047337,
          0.24278846153846154
         ]
        },
        "yaxis41": {
         "anchor": "x41",
         "domain": [
          0.2135724852071006,
          0.22337278106508876
         ]
        },
        "yaxis42": {
         "anchor": "x42",
         "domain": [
          0.19415680473372782,
          0.20395710059171598
         ]
        },
        "yaxis43": {
         "anchor": "x43",
         "domain": [
          0.17474112426035504,
          0.1845414201183432
         ]
        },
        "yaxis44": {
         "anchor": "x44",
         "domain": [
          0.15532544378698226,
          0.16512573964497043
         ]
        },
        "yaxis45": {
         "anchor": "x45",
         "domain": [
          0.1359097633136095,
          0.14571005917159766
         ]
        },
        "yaxis46": {
         "anchor": "x46",
         "domain": [
          0.11649408284023668,
          0.12629437869822485
         ]
        },
        "yaxis47": {
         "anchor": "x47",
         "domain": [
          0.09707840236686391,
          0.10687869822485208
         ]
        },
        "yaxis48": {
         "anchor": "x48",
         "domain": [
          0.07766272189349113,
          0.0874630177514793
         ]
        },
        "yaxis49": {
         "anchor": "x49",
         "domain": [
          0.05824704142011834,
          0.06804733727810651
         ]
        },
        "yaxis5": {
         "anchor": "x5",
         "domain": [
          0.9125369822485201,
          0.9223372781065082
         ]
        },
        "yaxis50": {
         "anchor": "x50",
         "domain": [
          0.038831360946745566,
          0.04863165680473373
         ]
        },
        "yaxis51": {
         "anchor": "x51",
         "domain": [
          0.019415680473372783,
          0.02921597633136095
         ]
        },
        "yaxis52": {
         "anchor": "x52",
         "domain": [
          0,
          0.009800295857988165
         ]
        },
        "yaxis6": {
         "anchor": "x6",
         "domain": [
          0.8931213017751474,
          0.9029215976331355
         ]
        },
        "yaxis7": {
         "anchor": "x7",
         "domain": [
          0.8737056213017746,
          0.8835059171597628
         ]
        },
        "yaxis8": {
         "anchor": "x8",
         "domain": [
          0.8542899408284019,
          0.8640902366863901
         ]
        },
        "yaxis9": {
         "anchor": "x9",
         "domain": [
          0.8348742603550292,
          0.8446745562130173
         ]
        }
       }
      },
      "text/html": [
       "<div>                            <div id=\"98d9194f-7f84-44a4-bd37-e0482818e618\" class=\"plotly-graph-div\" style=\"height:5000px; width:100%;\"></div>            <script type=\"text/javascript\">                require([\"plotly\"], function(Plotly) {                    window.PLOTLYENV=window.PLOTLYENV || {};                                    if (document.getElementById(\"98d9194f-7f84-44a4-bd37-e0482818e618\")) {                    Plotly.newPlot(                        \"98d9194f-7f84-44a4-bd37-e0482818e618\",                        [{\"hovertemplate\":\"%{text}\",\"legendgroup\":\"0.1\",\"marker\":{\"color\":\"red\"},\"name\":\"dx=0.1\",\"showlegend\":true,\"text\":[\"<br>Git Hash: 19f9c461fbaf4206d48775c151116cff6d661369</br>\\n<br>Version: 2023.3.0</br>\\n<br>Timestamp 2023-04-12</br>\",\"<br>Git Hash: 00dae0a1bd0b7919dee6ba4d96a4cf63f8949b0c</br>\\n<br>Version: 2023.3.0</br>\\n<br>Timestamp 2023-04-12</br>\",\"<br>Git Hash: 7c99dbc59c2c38c7c192be00eac500546471bed0</br>\\n<br>Version: 2023.3.0</br>\\n<br>Timestamp 2023-04-12</br>\"],\"x\":[\"2023-04-12T20:33:25.502552\",\"2023-04-12T17:17:24.948740\",\"2023-04-12T09:53:30.436212\"],\"y\":[1.000999986899842e-06,9.999999974752427e-07,7.999999809271685e-07],\"type\":\"scatter\",\"xaxis\":\"x\",\"yaxis\":\"y\"},{\"hovertemplate\":\"%{text}\",\"legendgroup\":\"0.1\",\"marker\":{\"color\":\"red\"},\"name\":\"dx=0.1\",\"showlegend\":false,\"text\":[\"<br>Git Hash: 19f9c461fbaf4206d48775c151116cff6d661369</br>\\n<br>Version: 2023.3.0</br>\\n<br>Timestamp 2023-04-12</br>\",\"<br>Git Hash: 00dae0a1bd0b7919dee6ba4d96a4cf63f8949b0c</br>\\n<br>Version: 2023.3.0</br>\\n<br>Timestamp 2023-04-12</br>\",\"<br>Git Hash: 7c99dbc59c2c38c7c192be00eac500546471bed0</br>\\n<br>Version: 2023.3.0</br>\\n<br>Timestamp 2023-04-12</br>\"],\"x\":[\"2023-04-12T20:33:25.502552\",\"2023-04-12T17:17:24.948740\",\"2023-04-12T09:53:30.436212\"],\"y\":[2520,2520,2520],\"type\":\"scatter\",\"xaxis\":\"x2\",\"yaxis\":\"y2\"},{\"hovertemplate\":\"%{text}\",\"legendgroup\":\"0.1\",\"marker\":{\"color\":\"red\"},\"name\":\"dx=0.1\",\"showlegend\":false,\"text\":[\"<br>Git Hash: 19f9c461fbaf4206d48775c151116cff6d661369</br>\\n<br>Version: 2023.3.0</br>\\n<br>Timestamp 2023-04-12</br>\",\"<br>Git Hash: 00dae0a1bd0b7919dee6ba4d96a4cf63f8949b0c</br>\\n<br>Version: 2023.3.0</br>\\n<br>Timestamp 2023-04-12</br>\",\"<br>Git Hash: 7c99dbc59c2c38c7c192be00eac500546471bed0</br>\\n<br>Version: 2023.3.0</br>\\n<br>Timestamp 2023-04-12</br>\"],\"x\":[\"2023-04-12T20:33:25.502552\",\"2023-04-12T17:17:24.948740\",\"2023-04-12T09:53:30.436212\"],\"y\":[20160,20160,20160],\"type\":\"scatter\",\"xaxis\":\"x3\",\"yaxis\":\"y3\"},{\"hovertemplate\":\"%{text}\",\"legendgroup\":\"0.1\",\"marker\":{\"color\":\"red\"},\"name\":\"dx=0.1\",\"showlegend\":false,\"text\":[\"<br>Git Hash: 19f9c461fbaf4206d48775c151116cff6d661369</br>\\n<br>Version: 2023.3.0</br>\\n<br>Timestamp 2023-04-12</br>\",\"<br>Git Hash: 00dae0a1bd0b7919dee6ba4d96a4cf63f8949b0c</br>\\n<br>Version: 2023.3.0</br>\\n<br>Timestamp 2023-04-12</br>\",\"<br>Git Hash: 7c99dbc59c2c38c7c192be00eac500546471bed0</br>\\n<br>Version: 2023.3.0</br>\\n<br>Timestamp 2023-04-12</br>\"],\"x\":[\"2023-04-12T20:33:25.502552\",\"2023-04-12T17:17:24.948740\",\"2023-04-12T09:53:30.436212\"],\"y\":[672,672,672],\"type\":\"scatter\",\"xaxis\":\"x4\",\"yaxis\":\"y4\"},{\"hovertemplate\":\"%{text}\",\"legendgroup\":\"0.1\",\"marker\":{\"color\":\"red\"},\"name\":\"dx=0.1\",\"showlegend\":false,\"text\":[\"<br>Git Hash: 19f9c461fbaf4206d48775c151116cff6d661369</br>\\n<br>Version: 2023.3.0</br>\\n<br>Timestamp 2023-04-12</br>\",\"<br>Git Hash: 00dae0a1bd0b7919dee6ba4d96a4cf63f8949b0c</br>\\n<br>Version: 2023.3.0</br>\\n<br>Timestamp 2023-04-12</br>\",\"<br>Git Hash: 7c99dbc59c2c38c7c192be00eac500546471bed0</br>\\n<br>Version: 2023.3.0</br>\\n<br>Timestamp 2023-04-12</br>\"],\"x\":[\"2023-04-12T20:33:25.502552\",\"2023-04-12T17:17:24.948740\",\"2023-04-12T09:53:30.436212\"],\"y\":[4305,4305,4305],\"type\":\"scatter\",\"xaxis\":\"x5\",\"yaxis\":\"y5\"},{\"hovertemplate\":\"%{text}\",\"legendgroup\":\"0.1\",\"marker\":{\"color\":\"red\"},\"name\":\"dx=0.1\",\"showlegend\":false,\"text\":[\"<br>Git Hash: 19f9c461fbaf4206d48775c151116cff6d661369</br>\\n<br>Version: 2023.3.0</br>\\n<br>Timestamp 2023-04-12</br>\",\"<br>Git Hash: 00dae0a1bd0b7919dee6ba4d96a4cf63f8949b0c</br>\\n<br>Version: 2023.3.0</br>\\n<br>Timestamp 2023-04-12</br>\",\"<br>Git Hash: 7c99dbc59c2c38c7c192be00eac500546471bed0</br>\\n<br>Version: 2023.3.0</br>\\n<br>Timestamp 2023-04-12</br>\"],\"x\":[\"2023-04-12T20:33:25.502552\",\"2023-04-12T17:17:24.948740\",\"2023-04-12T09:53:30.436212\"],\"y\":[140.80696620599997,135.869928147,137.96480052699997],\"type\":\"scatter\",\"xaxis\":\"x6\",\"yaxis\":\"y6\"},{\"hovertemplate\":\"%{text}\",\"legendgroup\":\"0.1\",\"marker\":{\"color\":\"red\"},\"name\":\"dx=0.1\",\"showlegend\":false,\"text\":[\"<br>Git Hash: 19f9c461fbaf4206d48775c151116cff6d661369</br>\\n<br>Version: 2023.3.0</br>\\n<br>Timestamp 2023-04-12</br>\",\"<br>Git Hash: 00dae0a1bd0b7919dee6ba4d96a4cf63f8949b0c</br>\\n<br>Version: 2023.3.0</br>\\n<br>Timestamp 2023-04-12</br>\",\"<br>Git Hash: 7c99dbc59c2c38c7c192be00eac500546471bed0</br>\\n<br>Version: 2023.3.0</br>\\n<br>Timestamp 2023-04-12</br>\"],\"x\":[\"2023-04-12T20:33:25.502552\",\"2023-04-12T17:17:24.948740\",\"2023-04-12T09:53:30.436212\"],\"y\":[13084.182314857,13392.514336015,13424.539180128],\"type\":\"scatter\",\"xaxis\":\"x7\",\"yaxis\":\"y7\"},{\"hovertemplate\":\"%{text}\",\"legendgroup\":\"0.1\",\"marker\":{\"color\":\"red\"},\"name\":\"dx=0.1\",\"showlegend\":false,\"text\":[\"<br>Git Hash: 19f9c461fbaf4206d48775c151116cff6d661369</br>\\n<br>Version: 2023.3.0</br>\\n<br>Timestamp 2023-04-12</br>\",\"<br>Git Hash: 00dae0a1bd0b7919dee6ba4d96a4cf63f8949b0c</br>\\n<br>Version: 2023.3.0</br>\\n<br>Timestamp 2023-04-12</br>\",\"<br>Git Hash: 7c99dbc59c2c38c7c192be00eac500546471bed0</br>\\n<br>Version: 2023.3.0</br>\\n<br>Timestamp 2023-04-12</br>\"],\"x\":[\"2023-04-12T20:33:25.502552\",\"2023-04-12T17:17:24.948740\",\"2023-04-12T09:53:30.436212\"],\"y\":[1.176115252264472,1.176115252264472,1.176115252264472],\"type\":\"scatter\",\"xaxis\":\"x8\",\"yaxis\":\"y8\"},{\"hovertemplate\":\"%{text}\",\"legendgroup\":\"0.1\",\"marker\":{\"color\":\"red\"},\"name\":\"dx=0.1\",\"showlegend\":false,\"text\":[\"<br>Git Hash: 19f9c461fbaf4206d48775c151116cff6d661369</br>\\n<br>Version: 2023.3.0</br>\\n<br>Timestamp 2023-04-12</br>\",\"<br>Git Hash: 00dae0a1bd0b7919dee6ba4d96a4cf63f8949b0c</br>\\n<br>Version: 2023.3.0</br>\\n<br>Timestamp 2023-04-12</br>\",\"<br>Git Hash: 7c99dbc59c2c38c7c192be00eac500546471bed0</br>\\n<br>Version: 2023.3.0</br>\\n<br>Timestamp 2023-04-12</br>\"],\"x\":[\"2023-04-12T20:33:25.502552\",\"2023-04-12T17:17:24.948740\",\"2023-04-12T09:53:30.436212\"],\"y\":[1.176115252264472,1.176115252264472,1.176115252264472],\"type\":\"scatter\",\"xaxis\":\"x9\",\"yaxis\":\"y9\"},{\"hovertemplate\":\"%{text}\",\"legendgroup\":\"0.1\",\"marker\":{\"color\":\"red\"},\"name\":\"dx=0.1\",\"showlegend\":false,\"text\":[\"<br>Git Hash: 19f9c461fbaf4206d48775c151116cff6d661369</br>\\n<br>Version: 2023.3.0</br>\\n<br>Timestamp 2023-04-12</br>\",\"<br>Git Hash: 00dae0a1bd0b7919dee6ba4d96a4cf63f8949b0c</br>\\n<br>Version: 2023.3.0</br>\\n<br>Timestamp 2023-04-12</br>\",\"<br>Git Hash: 7c99dbc59c2c38c7c192be00eac500546471bed0</br>\\n<br>Version: 2023.3.0</br>\\n<br>Timestamp 2023-04-12</br>\"],\"x\":[\"2023-04-12T20:33:25.502552\",\"2023-04-12T17:17:24.948740\",\"2023-04-12T09:53:30.436212\"],\"y\":[238.87751735788927,238.87751735788927,238.87751735788927],\"type\":\"scatter\",\"xaxis\":\"x10\",\"yaxis\":\"y10\"},{\"hovertemplate\":\"%{text}\",\"legendgroup\":\"0.1\",\"marker\":{\"color\":\"red\"},\"name\":\"dx=0.1\",\"showlegend\":false,\"text\":[\"<br>Git Hash: 19f9c461fbaf4206d48775c151116cff6d661369</br>\\n<br>Version: 2023.3.0</br>\\n<br>Timestamp 2023-04-12</br>\",\"<br>Git Hash: 00dae0a1bd0b7919dee6ba4d96a4cf63f8949b0c</br>\\n<br>Version: 2023.3.0</br>\\n<br>Timestamp 2023-04-12</br>\",\"<br>Git Hash: 7c99dbc59c2c38c7c192be00eac500546471bed0</br>\\n<br>Version: 2023.3.0</br>\\n<br>Timestamp 2023-04-12</br>\"],\"x\":[\"2023-04-12T20:33:25.502552\",\"2023-04-12T17:17:24.948740\",\"2023-04-12T09:53:30.436212\"],\"y\":[265.4026389688796,265.4026389688796,265.4026389688796],\"type\":\"scatter\",\"xaxis\":\"x11\",\"yaxis\":\"y11\"},{\"hovertemplate\":\"%{text}\",\"legendgroup\":\"0.1\",\"marker\":{\"color\":\"red\"},\"name\":\"dx=0.1\",\"showlegend\":false,\"text\":[\"<br>Git Hash: 19f9c461fbaf4206d48775c151116cff6d661369</br>\\n<br>Version: 2023.3.0</br>\\n<br>Timestamp 2023-04-12</br>\",\"<br>Git Hash: 00dae0a1bd0b7919dee6ba4d96a4cf63f8949b0c</br>\\n<br>Version: 2023.3.0</br>\\n<br>Timestamp 2023-04-12</br>\",\"<br>Git Hash: 7c99dbc59c2c38c7c192be00eac500546471bed0</br>\\n<br>Version: 2023.3.0</br>\\n<br>Timestamp 2023-04-12</br>\"],\"x\":[\"2023-04-12T20:33:25.502552\",\"2023-04-12T17:17:24.948740\",\"2023-04-12T09:53:30.436212\"],\"y\":[332.3475149814282,332.3475149814282,332.3475149814282],\"type\":\"scatter\",\"xaxis\":\"x12\",\"yaxis\":\"y12\"},{\"hovertemplate\":\"%{text}\",\"legendgroup\":\"0.1\",\"marker\":{\"color\":\"red\"},\"name\":\"dx=0.1\",\"showlegend\":false,\"text\":[\"<br>Git Hash: 19f9c461fbaf4206d48775c151116cff6d661369</br>\\n<br>Version: 2023.3.0</br>\\n<br>Timestamp 2023-04-12</br>\",\"<br>Git Hash: 00dae0a1bd0b7919dee6ba4d96a4cf63f8949b0c</br>\\n<br>Version: 2023.3.0</br>\\n<br>Timestamp 2023-04-12</br>\",\"<br>Git Hash: 7c99dbc59c2c38c7c192be00eac500546471bed0</br>\\n<br>Version: 2023.3.0</br>\\n<br>Timestamp 2023-04-12</br>\"],\"x\":[\"2023-04-12T20:33:25.502552\",\"2023-04-12T17:17:24.948740\",\"2023-04-12T09:53:30.436212\"],\"y\":[93.46999762353894,93.46999762353894,93.46999762353894],\"type\":\"scatter\",\"xaxis\":\"x13\",\"yaxis\":\"y13\"},{\"hovertemplate\":\"%{text}\",\"legendgroup\":\"0.1\",\"marker\":{\"color\":\"red\"},\"name\":\"dx=0.1\",\"showlegend\":false,\"text\":[\"<br>Git Hash: 19f9c461fbaf4206d48775c151116cff6d661369</br>\\n<br>Version: 2023.3.0</br>\\n<br>Timestamp 2023-04-12</br>\",\"<br>Git Hash: 00dae0a1bd0b7919dee6ba4d96a4cf63f8949b0c</br>\\n<br>Version: 2023.3.0</br>\\n<br>Timestamp 2023-04-12</br>\",\"<br>Git Hash: 7c99dbc59c2c38c7c192be00eac500546471bed0</br>\\n<br>Version: 2023.3.0</br>\\n<br>Timestamp 2023-04-12</br>\"],\"x\":[\"2023-04-12T20:33:25.502552\",\"2023-04-12T17:17:24.948740\",\"2023-04-12T09:53:30.436212\"],\"y\":[51.11933974409381,51.11933974409381,51.11933974409381],\"type\":\"scatter\",\"xaxis\":\"x14\",\"yaxis\":\"y14\"},{\"hovertemplate\":\"%{text}\",\"legendgroup\":\"0.1\",\"marker\":{\"color\":\"red\"},\"name\":\"dx=0.1\",\"showlegend\":false,\"text\":[\"<br>Git Hash: 19f9c461fbaf4206d48775c151116cff6d661369</br>\\n<br>Version: 2023.3.0</br>\\n<br>Timestamp 2023-04-12</br>\",\"<br>Git Hash: 00dae0a1bd0b7919dee6ba4d96a4cf63f8949b0c</br>\\n<br>Version: 2023.3.0</br>\\n<br>Timestamp 2023-04-12</br>\",\"<br>Git Hash: 7c99dbc59c2c38c7c192be00eac500546471bed0</br>\\n<br>Version: 2023.3.0</br>\\n<br>Timestamp 2023-04-12</br>\"],\"x\":[\"2023-04-12T20:33:25.502552\",\"2023-04-12T17:17:24.948740\",\"2023-04-12T09:53:30.436212\"],\"y\":[-88.02163380312128,-88.02163380312128,-88.02163380312128],\"type\":\"scatter\",\"xaxis\":\"x15\",\"yaxis\":\"y15\"},{\"hovertemplate\":\"%{text}\",\"legendgroup\":\"0.1\",\"marker\":{\"color\":\"red\"},\"name\":\"dx=0.1\",\"showlegend\":false,\"text\":[\"<br>Git Hash: 19f9c461fbaf4206d48775c151116cff6d661369</br>\\n<br>Version: 2023.3.0</br>\\n<br>Timestamp 2023-04-12</br>\",\"<br>Git Hash: 00dae0a1bd0b7919dee6ba4d96a4cf63f8949b0c</br>\\n<br>Version: 2023.3.0</br>\\n<br>Timestamp 2023-04-12</br>\",\"<br>Git Hash: 7c99dbc59c2c38c7c192be00eac500546471bed0</br>\\n<br>Version: 2023.3.0</br>\\n<br>Timestamp 2023-04-12</br>\"],\"x\":[\"2023-04-12T20:33:25.502552\",\"2023-04-12T17:17:24.948740\",\"2023-04-12T09:53:30.436212\"],\"y\":[18.01890419733565,18.01890419733565,18.01890419733565],\"type\":\"scatter\",\"xaxis\":\"x16\",\"yaxis\":\"y16\"},{\"hovertemplate\":\"%{text}\",\"legendgroup\":\"0.1\",\"marker\":{\"color\":\"red\"},\"name\":\"dx=0.1\",\"showlegend\":false,\"text\":[\"<br>Git Hash: 19f9c461fbaf4206d48775c151116cff6d661369</br>\\n<br>Version: 2023.3.0</br>\\n<br>Timestamp 2023-04-12</br>\",\"<br>Git Hash: 00dae0a1bd0b7919dee6ba4d96a4cf63f8949b0c</br>\\n<br>Version: 2023.3.0</br>\\n<br>Timestamp 2023-04-12</br>\",\"<br>Git Hash: 7c99dbc59c2c38c7c192be00eac500546471bed0</br>\\n<br>Version: 2023.3.0</br>\\n<br>Timestamp 2023-04-12</br>\"],\"x\":[\"2023-04-12T20:33:25.502552\",\"2023-04-12T17:17:24.948740\",\"2023-04-12T09:53:30.436212\"],\"y\":[0.0002615740189351584,0.0002615740189351584,0.0002615740189351584],\"type\":\"scatter\",\"xaxis\":\"x17\",\"yaxis\":\"y17\"},{\"hovertemplate\":\"%{text}\",\"legendgroup\":\"0.1\",\"marker\":{\"color\":\"red\"},\"name\":\"dx=0.1\",\"showlegend\":false,\"text\":[\"<br>Git Hash: 19f9c461fbaf4206d48775c151116cff6d661369</br>\\n<br>Version: 2023.3.0</br>\\n<br>Timestamp 2023-04-12</br>\",\"<br>Git Hash: 00dae0a1bd0b7919dee6ba4d96a4cf63f8949b0c</br>\\n<br>Version: 2023.3.0</br>\\n<br>Timestamp 2023-04-12</br>\",\"<br>Git Hash: 7c99dbc59c2c38c7c192be00eac500546471bed0</br>\\n<br>Version: 2023.3.0</br>\\n<br>Timestamp 2023-04-12</br>\"],\"x\":[\"2023-04-12T20:33:25.502552\",\"2023-04-12T17:17:24.948740\",\"2023-04-12T09:53:30.436212\"],\"y\":[0.0001942344918733592,0.0001942344918733592,0.0001942344918733592],\"type\":\"scatter\",\"xaxis\":\"x18\",\"yaxis\":\"y18\"},{\"hovertemplate\":\"%{text}\",\"legendgroup\":\"0.1\",\"marker\":{\"color\":\"red\"},\"name\":\"dx=0.1\",\"showlegend\":false,\"text\":[\"<br>Git Hash: 19f9c461fbaf4206d48775c151116cff6d661369</br>\\n<br>Version: 2023.3.0</br>\\n<br>Timestamp 2023-04-12</br>\",\"<br>Git Hash: 00dae0a1bd0b7919dee6ba4d96a4cf63f8949b0c</br>\\n<br>Version: 2023.3.0</br>\\n<br>Timestamp 2023-04-12</br>\",\"<br>Git Hash: 7c99dbc59c2c38c7c192be00eac500546471bed0</br>\\n<br>Version: 2023.3.0</br>\\n<br>Timestamp 2023-04-12</br>\"],\"x\":[\"2023-04-12T20:33:25.502552\",\"2023-04-12T17:17:24.948740\",\"2023-04-12T09:53:30.436212\"],\"y\":[268.6151443515614,268.6151443515614,268.6151443515614],\"type\":\"scatter\",\"xaxis\":\"x19\",\"yaxis\":\"y19\"},{\"hovertemplate\":\"%{text}\",\"legendgroup\":\"0.1\",\"marker\":{\"color\":\"red\"},\"name\":\"dx=0.1\",\"showlegend\":false,\"text\":[\"<br>Git Hash: 19f9c461fbaf4206d48775c151116cff6d661369</br>\\n<br>Version: 2023.3.0</br>\\n<br>Timestamp 2023-04-12</br>\",\"<br>Git Hash: 00dae0a1bd0b7919dee6ba4d96a4cf63f8949b0c</br>\\n<br>Version: 2023.3.0</br>\\n<br>Timestamp 2023-04-12</br>\",\"<br>Git Hash: 7c99dbc59c2c38c7c192be00eac500546471bed0</br>\\n<br>Version: 2023.3.0</br>\\n<br>Timestamp 2023-04-12</br>\"],\"x\":[\"2023-04-12T20:33:25.502552\",\"2023-04-12T17:17:24.948740\",\"2023-04-12T09:53:30.436212\"],\"y\":[388.1388627417632,388.1388627417632,388.1388627417632],\"type\":\"scatter\",\"xaxis\":\"x20\",\"yaxis\":\"y20\"},{\"hovertemplate\":\"%{text}\",\"legendgroup\":\"0.1\",\"marker\":{\"color\":\"red\"},\"name\":\"dx=0.1\",\"showlegend\":false,\"text\":[\"<br>Git Hash: 19f9c461fbaf4206d48775c151116cff6d661369</br>\\n<br>Version: 2023.3.0</br>\\n<br>Timestamp 2023-04-12</br>\",\"<br>Git Hash: 00dae0a1bd0b7919dee6ba4d96a4cf63f8949b0c</br>\\n<br>Version: 2023.3.0</br>\\n<br>Timestamp 2023-04-12</br>\",\"<br>Git Hash: 7c99dbc59c2c38c7c192be00eac500546471bed0</br>\\n<br>Version: 2023.3.0</br>\\n<br>Timestamp 2023-04-12</br>\"],\"x\":[\"2023-04-12T20:33:25.502552\",\"2023-04-12T17:17:24.948740\",\"2023-04-12T09:53:30.436212\"],\"y\":[469.8239764855482,469.8239764855482,469.8239764855482],\"type\":\"scatter\",\"xaxis\":\"x21\",\"yaxis\":\"y21\"},{\"hovertemplate\":\"%{text}\",\"legendgroup\":\"0.1\",\"marker\":{\"color\":\"red\"},\"name\":\"dx=0.1\",\"showlegend\":false,\"text\":[\"<br>Git Hash: 19f9c461fbaf4206d48775c151116cff6d661369</br>\\n<br>Version: 2023.3.0</br>\\n<br>Timestamp 2023-04-12</br>\",\"<br>Git Hash: 00dae0a1bd0b7919dee6ba4d96a4cf63f8949b0c</br>\\n<br>Version: 2023.3.0</br>\\n<br>Timestamp 2023-04-12</br>\",\"<br>Git Hash: 7c99dbc59c2c38c7c192be00eac500546471bed0</br>\\n<br>Version: 2023.3.0</br>\\n<br>Timestamp 2023-04-12</br>\"],\"x\":[\"2023-04-12T20:33:25.502552\",\"2023-04-12T17:17:24.948740\",\"2023-04-12T09:53:30.436212\"],\"y\":[139.0,139.0,139.0],\"type\":\"scatter\",\"xaxis\":\"x22\",\"yaxis\":\"y22\"},{\"hovertemplate\":\"%{text}\",\"legendgroup\":\"0.1\",\"marker\":{\"color\":\"red\"},\"name\":\"dx=0.1\",\"showlegend\":false,\"text\":[\"<br>Git Hash: 19f9c461fbaf4206d48775c151116cff6d661369</br>\\n<br>Version: 2023.3.0</br>\\n<br>Timestamp 2023-04-12</br>\",\"<br>Git Hash: 00dae0a1bd0b7919dee6ba4d96a4cf63f8949b0c</br>\\n<br>Version: 2023.3.0</br>\\n<br>Timestamp 2023-04-12</br>\",\"<br>Git Hash: 7c99dbc59c2c38c7c192be00eac500546471bed0</br>\\n<br>Version: 2023.3.0</br>\\n<br>Timestamp 2023-04-12</br>\"],\"x\":[\"2023-04-12T20:33:25.502552\",\"2023-04-12T17:17:24.948740\",\"2023-04-12T09:53:30.436212\"],\"y\":[149.1895269687489,149.1895269687489,149.1895269687489],\"type\":\"scatter\",\"xaxis\":\"x23\",\"yaxis\":\"y23\"},{\"hovertemplate\":\"%{text}\",\"legendgroup\":\"0.1\",\"marker\":{\"color\":\"red\"},\"name\":\"dx=0.1\",\"showlegend\":false,\"text\":[\"<br>Git Hash: 19f9c461fbaf4206d48775c151116cff6d661369</br>\\n<br>Version: 2023.3.0</br>\\n<br>Timestamp 2023-04-12</br>\",\"<br>Git Hash: 00dae0a1bd0b7919dee6ba4d96a4cf63f8949b0c</br>\\n<br>Version: 2023.3.0</br>\\n<br>Timestamp 2023-04-12</br>\",\"<br>Git Hash: 7c99dbc59c2c38c7c192be00eac500546471bed0</br>\\n<br>Version: 2023.3.0</br>\\n<br>Timestamp 2023-04-12</br>\"],\"x\":[\"2023-04-12T20:33:25.502552\",\"2023-04-12T17:17:24.948740\",\"2023-04-12T09:53:30.436212\"],\"y\":[457.7402048498863,457.7402048498863,457.7402048498863],\"type\":\"scatter\",\"xaxis\":\"x24\",\"yaxis\":\"y24\"},{\"hovertemplate\":\"%{text}\",\"legendgroup\":\"0.1\",\"marker\":{\"color\":\"red\"},\"name\":\"dx=0.1\",\"showlegend\":false,\"text\":[\"<br>Git Hash: 19f9c461fbaf4206d48775c151116cff6d661369</br>\\n<br>Version: 2023.3.0</br>\\n<br>Timestamp 2023-04-12</br>\",\"<br>Git Hash: 00dae0a1bd0b7919dee6ba4d96a4cf63f8949b0c</br>\\n<br>Version: 2023.3.0</br>\\n<br>Timestamp 2023-04-12</br>\",\"<br>Git Hash: 7c99dbc59c2c38c7c192be00eac500546471bed0</br>\\n<br>Version: 2023.3.0</br>\\n<br>Timestamp 2023-04-12</br>\"],\"x\":[\"2023-04-12T20:33:25.502552\",\"2023-04-12T17:17:24.948740\",\"2023-04-12T09:53:30.436212\"],\"y\":[1.0,1.0,1.0],\"type\":\"scatter\",\"xaxis\":\"x25\",\"yaxis\":\"y25\"},{\"hovertemplate\":\"%{text}\",\"legendgroup\":\"0.1\",\"marker\":{\"color\":\"red\"},\"name\":\"dx=0.1\",\"showlegend\":false,\"text\":[\"<br>Git Hash: 19f9c461fbaf4206d48775c151116cff6d661369</br>\\n<br>Version: 2023.3.0</br>\\n<br>Timestamp 2023-04-12</br>\",\"<br>Git Hash: 00dae0a1bd0b7919dee6ba4d96a4cf63f8949b0c</br>\\n<br>Version: 2023.3.0</br>\\n<br>Timestamp 2023-04-12</br>\",\"<br>Git Hash: 7c99dbc59c2c38c7c192be00eac500546471bed0</br>\\n<br>Version: 2023.3.0</br>\\n<br>Timestamp 2023-04-12</br>\"],\"x\":[\"2023-04-12T20:33:25.502552\",\"2023-04-12T17:17:24.948740\",\"2023-04-12T09:53:30.436212\"],\"y\":[0.9023825110769322,0.9023825110769322,0.9023825110769322],\"type\":\"scatter\",\"xaxis\":\"x26\",\"yaxis\":\"y26\"},{\"hovertemplate\":\"%{text}\",\"legendgroup\":\"0.1\",\"marker\":{\"color\":\"red\"},\"name\":\"dx=0.1\",\"showlegend\":false,\"text\":[\"<br>Git Hash: 19f9c461fbaf4206d48775c151116cff6d661369</br>\\n<br>Version: 2023.3.0</br>\\n<br>Timestamp 2023-04-12</br>\",\"<br>Git Hash: 00dae0a1bd0b7919dee6ba4d96a4cf63f8949b0c</br>\\n<br>Version: 2023.3.0</br>\\n<br>Timestamp 2023-04-12</br>\",\"<br>Git Hash: 7c99dbc59c2c38c7c192be00eac500546471bed0</br>\\n<br>Version: 2023.3.0</br>\\n<br>Timestamp 2023-04-12</br>\"],\"x\":[\"2023-04-12T20:33:25.502552\",\"2023-04-12T17:17:24.948740\",\"2023-04-12T09:53:30.436212\"],\"y\":[138.0,138.0,138.0],\"type\":\"scatter\",\"xaxis\":\"x27\",\"yaxis\":\"y27\"},{\"hovertemplate\":\"%{text}\",\"legendgroup\":\"0.1\",\"marker\":{\"color\":\"red\"},\"name\":\"dx=0.1\",\"showlegend\":false,\"text\":[\"<br>Git Hash: 19f9c461fbaf4206d48775c151116cff6d661369</br>\\n<br>Version: 2023.3.0</br>\\n<br>Timestamp 2023-04-12</br>\",\"<br>Git Hash: 00dae0a1bd0b7919dee6ba4d96a4cf63f8949b0c</br>\\n<br>Version: 2023.3.0</br>\\n<br>Timestamp 2023-04-12</br>\",\"<br>Git Hash: 7c99dbc59c2c38c7c192be00eac500546471bed0</br>\\n<br>Version: 2023.3.0</br>\\n<br>Timestamp 2023-04-12</br>\"],\"x\":[\"2023-04-12T20:33:25.502552\",\"2023-04-12T17:17:24.948740\",\"2023-04-12T09:53:30.436212\"],\"y\":[272.16049776632275,272.16049776632275,272.16049776632275],\"type\":\"scatter\",\"xaxis\":\"x28\",\"yaxis\":\"y28\"},{\"hovertemplate\":\"%{text}\",\"legendgroup\":\"0.1\",\"marker\":{\"color\":\"red\"},\"name\":\"dx=0.1\",\"showlegend\":false,\"text\":[\"<br>Git Hash: 19f9c461fbaf4206d48775c151116cff6d661369</br>\\n<br>Version: 2023.3.0</br>\\n<br>Timestamp 2023-04-12</br>\",\"<br>Git Hash: 00dae0a1bd0b7919dee6ba4d96a4cf63f8949b0c</br>\\n<br>Version: 2023.3.0</br>\\n<br>Timestamp 2023-04-12</br>\",\"<br>Git Hash: 7c99dbc59c2c38c7c192be00eac500546471bed0</br>\\n<br>Version: 2023.3.0</br>\\n<br>Timestamp 2023-04-12</br>\"],\"x\":[\"2023-04-12T20:33:25.502552\",\"2023-04-12T17:17:24.948740\",\"2023-04-12T09:53:30.436212\"],\"y\":[403.1148689090557,403.1148689090557,403.1148689090557],\"type\":\"scatter\",\"xaxis\":\"x29\",\"yaxis\":\"y29\"},{\"hovertemplate\":\"%{text}\",\"legendgroup\":\"0.1\",\"marker\":{\"color\":\"red\"},\"name\":\"dx=0.1\",\"showlegend\":false,\"text\":[\"<br>Git Hash: 19f9c461fbaf4206d48775c151116cff6d661369</br>\\n<br>Version: 2023.3.0</br>\\n<br>Timestamp 2023-04-12</br>\",\"<br>Git Hash: 00dae0a1bd0b7919dee6ba4d96a4cf63f8949b0c</br>\\n<br>Version: 2023.3.0</br>\\n<br>Timestamp 2023-04-12</br>\",\"<br>Git Hash: 7c99dbc59c2c38c7c192be00eac500546471bed0</br>\\n<br>Version: 2023.3.0</br>\\n<br>Timestamp 2023-04-12</br>\"],\"x\":[\"2023-04-12T20:33:25.502552\",\"2023-04-12T17:17:24.948740\",\"2023-04-12T09:53:30.436212\"],\"y\":[520.7955050767033,520.7955050767033,520.7955050767033],\"type\":\"scatter\",\"xaxis\":\"x30\",\"yaxis\":\"y30\"},{\"hovertemplate\":\"%{text}\",\"legendgroup\":\"0.1\",\"marker\":{\"color\":\"red\"},\"name\":\"dx=0.1\",\"showlegend\":false,\"text\":[\"<br>Git Hash: 19f9c461fbaf4206d48775c151116cff6d661369</br>\\n<br>Version: 2023.3.0</br>\\n<br>Timestamp 2023-04-12</br>\",\"<br>Git Hash: 00dae0a1bd0b7919dee6ba4d96a4cf63f8949b0c</br>\\n<br>Version: 2023.3.0</br>\\n<br>Timestamp 2023-04-12</br>\",\"<br>Git Hash: 7c99dbc59c2c38c7c192be00eac500546471bed0</br>\\n<br>Version: 2023.3.0</br>\\n<br>Timestamp 2023-04-12</br>\"],\"x\":[\"2023-04-12T20:33:25.502552\",\"2023-04-12T17:17:24.948740\",\"2023-04-12T09:53:30.436212\"],\"y\":[192.95059800066878,192.95059800066878,192.95059800066878],\"type\":\"scatter\",\"xaxis\":\"x31\",\"yaxis\":\"y31\"},{\"hovertemplate\":\"%{text}\",\"legendgroup\":\"0.1\",\"marker\":{\"color\":\"red\"},\"name\":\"dx=0.1\",\"showlegend\":false,\"text\":[\"<br>Git Hash: 19f9c461fbaf4206d48775c151116cff6d661369</br>\\n<br>Version: 2023.3.0</br>\\n<br>Timestamp 2023-04-12</br>\",\"<br>Git Hash: 00dae0a1bd0b7919dee6ba4d96a4cf63f8949b0c</br>\\n<br>Version: 2023.3.0</br>\\n<br>Timestamp 2023-04-12</br>\",\"<br>Git Hash: 7c99dbc59c2c38c7c192be00eac500546471bed0</br>\\n<br>Version: 2023.3.0</br>\\n<br>Timestamp 2023-04-12</br>\"],\"x\":[\"2023-04-12T20:33:25.502552\",\"2023-04-12T17:17:24.948740\",\"2023-04-12T09:53:30.436212\"],\"y\":[-108.45228920497729,-108.45228920497729,-108.45228920497729],\"type\":\"scatter\",\"xaxis\":\"x32\",\"yaxis\":\"y32\"},{\"hovertemplate\":\"%{text}\",\"legendgroup\":\"0.1\",\"marker\":{\"color\":\"red\"},\"name\":\"dx=0.1\",\"showlegend\":false,\"text\":[\"<br>Git Hash: 19f9c461fbaf4206d48775c151116cff6d661369</br>\\n<br>Version: 2023.3.0</br>\\n<br>Timestamp 2023-04-12</br>\",\"<br>Git Hash: 00dae0a1bd0b7919dee6ba4d96a4cf63f8949b0c</br>\\n<br>Version: 2023.3.0</br>\\n<br>Timestamp 2023-04-12</br>\",\"<br>Git Hash: 7c99dbc59c2c38c7c192be00eac500546471bed0</br>\\n<br>Version: 2023.3.0</br>\\n<br>Timestamp 2023-04-12</br>\"],\"x\":[\"2023-04-12T20:33:25.502552\",\"2023-04-12T17:17:24.948740\",\"2023-04-12T09:53:30.436212\"],\"y\":[0.16838426036105913,0.16838426036105913,0.16838426036105913],\"type\":\"scatter\",\"xaxis\":\"x33\",\"yaxis\":\"y33\"},{\"hovertemplate\":\"%{text}\",\"legendgroup\":\"0.1\",\"marker\":{\"color\":\"red\"},\"name\":\"dx=0.1\",\"showlegend\":false,\"text\":[\"<br>Git Hash: 19f9c461fbaf4206d48775c151116cff6d661369</br>\\n<br>Version: 2023.3.0</br>\\n<br>Timestamp 2023-04-12</br>\",\"<br>Git Hash: 00dae0a1bd0b7919dee6ba4d96a4cf63f8949b0c</br>\\n<br>Version: 2023.3.0</br>\\n<br>Timestamp 2023-04-12</br>\",\"<br>Git Hash: 7c99dbc59c2c38c7c192be00eac500546471bed0</br>\\n<br>Version: 2023.3.0</br>\\n<br>Timestamp 2023-04-12</br>\"],\"x\":[\"2023-04-12T20:33:25.502552\",\"2023-04-12T17:17:24.948740\",\"2023-04-12T09:53:30.436212\"],\"y\":[0.16838426036105913,0.16838426036105913,0.16838426036105913],\"type\":\"scatter\",\"xaxis\":\"x34\",\"yaxis\":\"y34\"},{\"hovertemplate\":\"%{text}\",\"legendgroup\":\"0.1\",\"marker\":{\"color\":\"red\"},\"name\":\"dx=0.1\",\"showlegend\":false,\"text\":[\"<br>Git Hash: 19f9c461fbaf4206d48775c151116cff6d661369</br>\\n<br>Version: 2023.3.0</br>\\n<br>Timestamp 2023-04-12</br>\",\"<br>Git Hash: 00dae0a1bd0b7919dee6ba4d96a4cf63f8949b0c</br>\\n<br>Version: 2023.3.0</br>\\n<br>Timestamp 2023-04-12</br>\",\"<br>Git Hash: 7c99dbc59c2c38c7c192be00eac500546471bed0</br>\\n<br>Version: 2023.3.0</br>\\n<br>Timestamp 2023-04-12</br>\"],\"x\":[\"2023-04-12T20:33:25.502552\",\"2023-04-12T17:17:24.948740\",\"2023-04-12T09:53:30.436212\"],\"y\":[0.8419213018052958,0.8419213018052958,0.8419213018052958],\"type\":\"scatter\",\"xaxis\":\"x35\",\"yaxis\":\"y35\"},{\"hovertemplate\":\"%{text}\",\"legendgroup\":\"0.1\",\"marker\":{\"color\":\"red\"},\"name\":\"dx=0.1\",\"showlegend\":false,\"text\":[\"<br>Git Hash: 19f9c461fbaf4206d48775c151116cff6d661369</br>\\n<br>Version: 2023.3.0</br>\\n<br>Timestamp 2023-04-12</br>\",\"<br>Git Hash: 00dae0a1bd0b7919dee6ba4d96a4cf63f8949b0c</br>\\n<br>Version: 2023.3.0</br>\\n<br>Timestamp 2023-04-12</br>\",\"<br>Git Hash: 7c99dbc59c2c38c7c192be00eac500546471bed0</br>\\n<br>Version: 2023.3.0</br>\\n<br>Timestamp 2023-04-12</br>\"],\"x\":[\"2023-04-12T20:33:25.502552\",\"2023-04-12T17:17:24.948740\",\"2023-04-12T09:53:30.436212\"],\"y\":[0.849069801329888,0.849069801329888,0.849069801329888],\"type\":\"scatter\",\"xaxis\":\"x36\",\"yaxis\":\"y36\"},{\"hovertemplate\":\"%{text}\",\"legendgroup\":\"0.1\",\"marker\":{\"color\":\"red\"},\"name\":\"dx=0.1\",\"showlegend\":false,\"text\":[\"<br>Git Hash: 19f9c461fbaf4206d48775c151116cff6d661369</br>\\n<br>Version: 2023.3.0</br>\\n<br>Timestamp 2023-04-12</br>\",\"<br>Git Hash: 00dae0a1bd0b7919dee6ba4d96a4cf63f8949b0c</br>\\n<br>Version: 2023.3.0</br>\\n<br>Timestamp 2023-04-12</br>\",\"<br>Git Hash: 7c99dbc59c2c38c7c192be00eac500546471bed0</br>\\n<br>Version: 2023.3.0</br>\\n<br>Timestamp 2023-04-12</br>\"],\"x\":[\"2023-04-12T20:33:25.502552\",\"2023-04-12T17:17:24.948740\",\"2023-04-12T09:53:30.436212\"],\"y\":[0.05,0.05,0.05],\"type\":\"scatter\",\"xaxis\":\"x37\",\"yaxis\":\"y37\"},{\"hovertemplate\":\"%{text}\",\"legendgroup\":\"0.1\",\"marker\":{\"color\":\"red\"},\"name\":\"dx=0.1\",\"showlegend\":false,\"text\":[\"<br>Git Hash: 19f9c461fbaf4206d48775c151116cff6d661369</br>\\n<br>Version: 2023.3.0</br>\\n<br>Timestamp 2023-04-12</br>\",\"<br>Git Hash: 00dae0a1bd0b7919dee6ba4d96a4cf63f8949b0c</br>\\n<br>Version: 2023.3.0</br>\\n<br>Timestamp 2023-04-12</br>\",\"<br>Git Hash: 7c99dbc59c2c38c7c192be00eac500546471bed0</br>\\n<br>Version: 2023.3.0</br>\\n<br>Timestamp 2023-04-12</br>\"],\"x\":[\"2023-04-12T20:33:25.502552\",\"2023-04-12T17:17:24.948740\",\"2023-04-12T09:53:30.436212\"],\"y\":[0.09721669804675352,0.09721669804675352,0.09721669804675352],\"type\":\"scatter\",\"xaxis\":\"x38\",\"yaxis\":\"y38\"},{\"hovertemplate\":\"%{text}\",\"legendgroup\":\"0.1\",\"marker\":{\"color\":\"red\"},\"name\":\"dx=0.1\",\"showlegend\":false,\"text\":[\"<br>Git Hash: 19f9c461fbaf4206d48775c151116cff6d661369</br>\\n<br>Version: 2023.3.0</br>\\n<br>Timestamp 2023-04-12</br>\",\"<br>Git Hash: 00dae0a1bd0b7919dee6ba4d96a4cf63f8949b0c</br>\\n<br>Version: 2023.3.0</br>\\n<br>Timestamp 2023-04-12</br>\",\"<br>Git Hash: 7c99dbc59c2c38c7c192be00eac500546471bed0</br>\\n<br>Version: 2023.3.0</br>\\n<br>Timestamp 2023-04-12</br>\"],\"x\":[\"2023-04-12T20:33:25.502552\",\"2023-04-12T17:17:24.948740\",\"2023-04-12T09:53:30.436212\"],\"y\":[0.09721669804675352,0.09721669804675352,0.09721669804675352],\"type\":\"scatter\",\"xaxis\":\"x39\",\"yaxis\":\"y39\"},{\"hovertemplate\":\"%{text}\",\"legendgroup\":\"0.1\",\"marker\":{\"color\":\"red\"},\"name\":\"dx=0.1\",\"showlegend\":false,\"text\":[\"<br>Git Hash: 19f9c461fbaf4206d48775c151116cff6d661369</br>\\n<br>Version: 2023.3.0</br>\\n<br>Timestamp 2023-04-12</br>\",\"<br>Git Hash: 00dae0a1bd0b7919dee6ba4d96a4cf63f8949b0c</br>\\n<br>Version: 2023.3.0</br>\\n<br>Timestamp 2023-04-12</br>\",\"<br>Git Hash: 7c99dbc59c2c38c7c192be00eac500546471bed0</br>\\n<br>Version: 2023.3.0</br>\\n<br>Timestamp 2023-04-12</br>\"],\"x\":[\"2023-04-12T20:33:25.502552\",\"2023-04-12T17:17:24.948740\",\"2023-04-12T09:53:30.436212\"],\"y\":[0.4860834902337676,0.4860834902337676,0.4860834902337676],\"type\":\"scatter\",\"xaxis\":\"x40\",\"yaxis\":\"y40\"},{\"hovertemplate\":\"%{text}\",\"legendgroup\":\"0.1\",\"marker\":{\"color\":\"red\"},\"name\":\"dx=0.1\",\"showlegend\":false,\"text\":[\"<br>Git Hash: 19f9c461fbaf4206d48775c151116cff6d661369</br>\\n<br>Version: 2023.3.0</br>\\n<br>Timestamp 2023-04-12</br>\",\"<br>Git Hash: 00dae0a1bd0b7919dee6ba4d96a4cf63f8949b0c</br>\\n<br>Version: 2023.3.0</br>\\n<br>Timestamp 2023-04-12</br>\",\"<br>Git Hash: 7c99dbc59c2c38c7c192be00eac500546471bed0</br>\\n<br>Version: 2023.3.0</br>\\n<br>Timestamp 2023-04-12</br>\"],\"x\":[\"2023-04-12T20:33:25.502552\",\"2023-04-12T17:17:24.948740\",\"2023-04-12T09:53:30.436212\"],\"y\":[0.48845780297076713,0.48845780297076713,0.48845780297076713],\"type\":\"scatter\",\"xaxis\":\"x41\",\"yaxis\":\"y41\"},{\"hovertemplate\":\"%{text}\",\"legendgroup\":\"0.1\",\"marker\":{\"color\":\"red\"},\"name\":\"dx=0.1\",\"showlegend\":false,\"text\":[\"<br>Git Hash: 19f9c461fbaf4206d48775c151116cff6d661369</br>\\n<br>Version: 2023.3.0</br>\\n<br>Timestamp 2023-04-12</br>\",\"<br>Git Hash: 00dae0a1bd0b7919dee6ba4d96a4cf63f8949b0c</br>\\n<br>Version: 2023.3.0</br>\\n<br>Timestamp 2023-04-12</br>\",\"<br>Git Hash: 7c99dbc59c2c38c7c192be00eac500546471bed0</br>\\n<br>Version: 2023.3.0</br>\\n<br>Timestamp 2023-04-12</br>\"],\"x\":[\"2023-04-12T20:33:25.502552\",\"2023-04-12T17:17:24.948740\",\"2023-04-12T09:53:30.436212\"],\"y\":[0.05,0.05,0.05],\"type\":\"scatter\",\"xaxis\":\"x42\",\"yaxis\":\"y42\"},{\"hovertemplate\":\"%{text}\",\"legendgroup\":\"0.1\",\"marker\":{\"color\":\"red\"},\"name\":\"dx=0.1\",\"showlegend\":false,\"text\":[\"<br>Git Hash: 19f9c461fbaf4206d48775c151116cff6d661369</br>\\n<br>Version: 2023.3.0</br>\\n<br>Timestamp 2023-04-12</br>\",\"<br>Git Hash: 00dae0a1bd0b7919dee6ba4d96a4cf63f8949b0c</br>\\n<br>Version: 2023.3.0</br>\\n<br>Timestamp 2023-04-12</br>\",\"<br>Git Hash: 7c99dbc59c2c38c7c192be00eac500546471bed0</br>\\n<br>Version: 2023.3.0</br>\\n<br>Timestamp 2023-04-12</br>\"],\"x\":[\"2023-04-12T20:33:25.502552\",\"2023-04-12T17:17:24.948740\",\"2023-04-12T09:53:30.436212\"],\"y\":[0.09721669804675352,0.09721669804675352,0.09721669804675352],\"type\":\"scatter\",\"xaxis\":\"x43\",\"yaxis\":\"y43\"},{\"hovertemplate\":\"%{text}\",\"legendgroup\":\"0.1\",\"marker\":{\"color\":\"red\"},\"name\":\"dx=0.1\",\"showlegend\":false,\"text\":[\"<br>Git Hash: 19f9c461fbaf4206d48775c151116cff6d661369</br>\\n<br>Version: 2023.3.0</br>\\n<br>Timestamp 2023-04-12</br>\",\"<br>Git Hash: 00dae0a1bd0b7919dee6ba4d96a4cf63f8949b0c</br>\\n<br>Version: 2023.3.0</br>\\n<br>Timestamp 2023-04-12</br>\",\"<br>Git Hash: 7c99dbc59c2c38c7c192be00eac500546471bed0</br>\\n<br>Version: 2023.3.0</br>\\n<br>Timestamp 2023-04-12</br>\"],\"x\":[\"2023-04-12T20:33:25.502552\",\"2023-04-12T17:17:24.948740\",\"2023-04-12T09:53:30.436212\"],\"y\":[0.09721669804675352,0.09721669804675352,0.09721669804675352],\"type\":\"scatter\",\"xaxis\":\"x44\",\"yaxis\":\"y44\"},{\"hovertemplate\":\"%{text}\",\"legendgroup\":\"0.1\",\"marker\":{\"color\":\"red\"},\"name\":\"dx=0.1\",\"showlegend\":false,\"text\":[\"<br>Git Hash: 19f9c461fbaf4206d48775c151116cff6d661369</br>\\n<br>Version: 2023.3.0</br>\\n<br>Timestamp 2023-04-12</br>\",\"<br>Git Hash: 00dae0a1bd0b7919dee6ba4d96a4cf63f8949b0c</br>\\n<br>Version: 2023.3.0</br>\\n<br>Timestamp 2023-04-12</br>\",\"<br>Git Hash: 7c99dbc59c2c38c7c192be00eac500546471bed0</br>\\n<br>Version: 2023.3.0</br>\\n<br>Timestamp 2023-04-12</br>\"],\"x\":[\"2023-04-12T20:33:25.502552\",\"2023-04-12T17:17:24.948740\",\"2023-04-12T09:53:30.436212\"],\"y\":[0.4860834902337676,0.4860834902337676,0.4860834902337676],\"type\":\"scatter\",\"xaxis\":\"x45\",\"yaxis\":\"y45\"},{\"hovertemplate\":\"%{text}\",\"legendgroup\":\"0.1\",\"marker\":{\"color\":\"red\"},\"name\":\"dx=0.1\",\"showlegend\":false,\"text\":[\"<br>Git Hash: 19f9c461fbaf4206d48775c151116cff6d661369</br>\\n<br>Version: 2023.3.0</br>\\n<br>Timestamp 2023-04-12</br>\",\"<br>Git Hash: 00dae0a1bd0b7919dee6ba4d96a4cf63f8949b0c</br>\\n<br>Version: 2023.3.0</br>\\n<br>Timestamp 2023-04-12</br>\",\"<br>Git Hash: 7c99dbc59c2c38c7c192be00eac500546471bed0</br>\\n<br>Version: 2023.3.0</br>\\n<br>Timestamp 2023-04-12</br>\"],\"x\":[\"2023-04-12T20:33:25.502552\",\"2023-04-12T17:17:24.948740\",\"2023-04-12T09:53:30.436212\"],\"y\":[0.48845780297076713,0.48845780297076713,0.48845780297076713],\"type\":\"scatter\",\"xaxis\":\"x46\",\"yaxis\":\"y46\"},{\"hovertemplate\":\"%{text}\",\"legendgroup\":\"0.1\",\"marker\":{\"color\":\"red\"},\"name\":\"dx=0.1\",\"showlegend\":false,\"text\":[\"<br>Git Hash: 19f9c461fbaf4206d48775c151116cff6d661369</br>\\n<br>Version: 2023.3.0</br>\\n<br>Timestamp 2023-04-12</br>\",\"<br>Git Hash: 00dae0a1bd0b7919dee6ba4d96a4cf63f8949b0c</br>\\n<br>Version: 2023.3.0</br>\\n<br>Timestamp 2023-04-12</br>\",\"<br>Git Hash: 7c99dbc59c2c38c7c192be00eac500546471bed0</br>\\n<br>Version: 2023.3.0</br>\\n<br>Timestamp 2023-04-12</br>\"],\"x\":[\"2023-04-12T20:33:25.502552\",\"2023-04-12T17:17:24.948740\",\"2023-04-12T09:53:30.436212\"],\"y\":[0.05,0.05,0.05],\"type\":\"scatter\",\"xaxis\":\"x47\",\"yaxis\":\"y47\"},{\"hovertemplate\":\"%{text}\",\"legendgroup\":\"0.1\",\"marker\":{\"color\":\"red\"},\"name\":\"dx=0.1\",\"showlegend\":false,\"text\":[\"<br>Git Hash: 19f9c461fbaf4206d48775c151116cff6d661369</br>\\n<br>Version: 2023.3.0</br>\\n<br>Timestamp 2023-04-12</br>\",\"<br>Git Hash: 00dae0a1bd0b7919dee6ba4d96a4cf63f8949b0c</br>\\n<br>Version: 2023.3.0</br>\\n<br>Timestamp 2023-04-12</br>\",\"<br>Git Hash: 7c99dbc59c2c38c7c192be00eac500546471bed0</br>\\n<br>Version: 2023.3.0</br>\\n<br>Timestamp 2023-04-12</br>\"],\"x\":[\"2023-04-12T20:33:25.502552\",\"2023-04-12T17:17:24.948740\",\"2023-04-12T09:53:30.436212\"],\"y\":[0.09721669804675352,0.09721669804675352,0.09721669804675352],\"type\":\"scatter\",\"xaxis\":\"x48\",\"yaxis\":\"y48\"},{\"hovertemplate\":\"%{text}\",\"legendgroup\":\"0.1\",\"marker\":{\"color\":\"red\"},\"name\":\"dx=0.1\",\"showlegend\":false,\"text\":[\"<br>Git Hash: 19f9c461fbaf4206d48775c151116cff6d661369</br>\\n<br>Version: 2023.3.0</br>\\n<br>Timestamp 2023-04-12</br>\",\"<br>Git Hash: 00dae0a1bd0b7919dee6ba4d96a4cf63f8949b0c</br>\\n<br>Version: 2023.3.0</br>\\n<br>Timestamp 2023-04-12</br>\",\"<br>Git Hash: 7c99dbc59c2c38c7c192be00eac500546471bed0</br>\\n<br>Version: 2023.3.0</br>\\n<br>Timestamp 2023-04-12</br>\"],\"x\":[\"2023-04-12T20:33:25.502552\",\"2023-04-12T17:17:24.948740\",\"2023-04-12T09:53:30.436212\"],\"y\":[0.09721669804675352,0.09721669804675352,0.09721669804675352],\"type\":\"scatter\",\"xaxis\":\"x49\",\"yaxis\":\"y49\"},{\"hovertemplate\":\"%{text}\",\"legendgroup\":\"0.1\",\"marker\":{\"color\":\"red\"},\"name\":\"dx=0.1\",\"showlegend\":false,\"text\":[\"<br>Git Hash: 19f9c461fbaf4206d48775c151116cff6d661369</br>\\n<br>Version: 2023.3.0</br>\\n<br>Timestamp 2023-04-12</br>\",\"<br>Git Hash: 00dae0a1bd0b7919dee6ba4d96a4cf63f8949b0c</br>\\n<br>Version: 2023.3.0</br>\\n<br>Timestamp 2023-04-12</br>\",\"<br>Git Hash: 7c99dbc59c2c38c7c192be00eac500546471bed0</br>\\n<br>Version: 2023.3.0</br>\\n<br>Timestamp 2023-04-12</br>\"],\"x\":[\"2023-04-12T20:33:25.502552\",\"2023-04-12T17:17:24.948740\",\"2023-04-12T09:53:30.436212\"],\"y\":[0.4860834902337676,0.4860834902337676,0.4860834902337676],\"type\":\"scatter\",\"xaxis\":\"x50\",\"yaxis\":\"y50\"},{\"hovertemplate\":\"%{text}\",\"legendgroup\":\"0.1\",\"marker\":{\"color\":\"red\"},\"name\":\"dx=0.1\",\"showlegend\":false,\"text\":[\"<br>Git Hash: 19f9c461fbaf4206d48775c151116cff6d661369</br>\\n<br>Version: 2023.3.0</br>\\n<br>Timestamp 2023-04-12</br>\",\"<br>Git Hash: 00dae0a1bd0b7919dee6ba4d96a4cf63f8949b0c</br>\\n<br>Version: 2023.3.0</br>\\n<br>Timestamp 2023-04-12</br>\",\"<br>Git Hash: 7c99dbc59c2c38c7c192be00eac500546471bed0</br>\\n<br>Version: 2023.3.0</br>\\n<br>Timestamp 2023-04-12</br>\"],\"x\":[\"2023-04-12T20:33:25.502552\",\"2023-04-12T17:17:24.948740\",\"2023-04-12T09:53:30.436212\"],\"y\":[0.48845780297076713,0.48845780297076713,0.48845780297076713],\"type\":\"scatter\",\"xaxis\":\"x51\",\"yaxis\":\"y51\"},{\"hovertemplate\":\"%{text}\",\"legendgroup\":\"0.1\",\"marker\":{\"color\":\"red\"},\"name\":\"dx=0.1\",\"showlegend\":false,\"text\":[\"<br>Git Hash: 19f9c461fbaf4206d48775c151116cff6d661369</br>\\n<br>Version: 2023.3.0</br>\\n<br>Timestamp 2023-04-12</br>\",\"<br>Git Hash: 00dae0a1bd0b7919dee6ba4d96a4cf63f8949b0c</br>\\n<br>Version: 2023.3.0</br>\\n<br>Timestamp 2023-04-12</br>\",\"<br>Git Hash: 7c99dbc59c2c38c7c192be00eac500546471bed0</br>\\n<br>Version: 2023.3.0</br>\\n<br>Timestamp 2023-04-12</br>\"],\"x\":[\"2023-04-12T20:33:25.502552\",\"2023-04-12T17:17:24.948740\",\"2023-04-12T09:53:30.436212\"],\"y\":[0.05,0.05,0.05],\"type\":\"scatter\",\"xaxis\":\"x52\",\"yaxis\":\"y52\"},{\"hovertemplate\":\"%{text}\",\"legendgroup\":\"0.2\",\"marker\":{\"color\":\"green\"},\"name\":\"dx=0.2\",\"showlegend\":true,\"text\":[\"<br>Git Hash: 19f9c461fbaf4206d48775c151116cff6d661369</br>\\n<br>Version: 2023.3.0</br>\\n<br>Timestamp 2023-04-12</br>\",\"<br>Git Hash: 00dae0a1bd0b7919dee6ba4d96a4cf63f8949b0c</br>\\n<br>Version: 2023.3.0</br>\\n<br>Timestamp 2023-04-12</br>\",\"<br>Git Hash: 7c99dbc59c2c38c7c192be00eac500546471bed0</br>\\n<br>Version: 2023.3.0</br>\\n<br>Timestamp 2023-04-12</br>\"],\"x\":[\"2023-04-12T20:33:25.203391\",\"2023-04-12T17:17:24.396818\",\"2023-04-12T09:53:34.139318\"],\"y\":[9.000000034120603e-07,1.1000000199601345e-06,1.3000000080864993e-06],\"type\":\"scatter\",\"xaxis\":\"x\",\"yaxis\":\"y\"},{\"hovertemplate\":\"%{text}\",\"legendgroup\":\"0.2\",\"marker\":{\"color\":\"green\"},\"name\":\"dx=0.2\",\"showlegend\":false,\"text\":[\"<br>Git Hash: 19f9c461fbaf4206d48775c151116cff6d661369</br>\\n<br>Version: 2023.3.0</br>\\n<br>Timestamp 2023-04-12</br>\",\"<br>Git Hash: 00dae0a1bd0b7919dee6ba4d96a4cf63f8949b0c</br>\\n<br>Version: 2023.3.0</br>\\n<br>Timestamp 2023-04-12</br>\",\"<br>Git Hash: 7c99dbc59c2c38c7c192be00eac500546471bed0</br>\\n<br>Version: 2023.3.0</br>\\n<br>Timestamp 2023-04-12</br>\"],\"x\":[\"2023-04-12T20:33:25.203391\",\"2023-04-12T17:17:24.396818\",\"2023-04-12T09:53:34.139318\"],\"y\":[180,180,180],\"type\":\"scatter\",\"xaxis\":\"x2\",\"yaxis\":\"y2\"},{\"hovertemplate\":\"%{text}\",\"legendgroup\":\"0.2\",\"marker\":{\"color\":\"green\"},\"name\":\"dx=0.2\",\"showlegend\":false,\"text\":[\"<br>Git Hash: 19f9c461fbaf4206d48775c151116cff6d661369</br>\\n<br>Version: 2023.3.0</br>\\n<br>Timestamp 2023-04-12</br>\",\"<br>Git Hash: 00dae0a1bd0b7919dee6ba4d96a4cf63f8949b0c</br>\\n<br>Version: 2023.3.0</br>\\n<br>Timestamp 2023-04-12</br>\",\"<br>Git Hash: 7c99dbc59c2c38c7c192be00eac500546471bed0</br>\\n<br>Version: 2023.3.0</br>\\n<br>Timestamp 2023-04-12</br>\"],\"x\":[\"2023-04-12T20:33:25.203391\",\"2023-04-12T17:17:24.396818\",\"2023-04-12T09:53:34.139318\"],\"y\":[1440,1440,1440],\"type\":\"scatter\",\"xaxis\":\"x3\",\"yaxis\":\"y3\"},{\"hovertemplate\":\"%{text}\",\"legendgroup\":\"0.2\",\"marker\":{\"color\":\"green\"},\"name\":\"dx=0.2\",\"showlegend\":false,\"text\":[\"<br>Git Hash: 19f9c461fbaf4206d48775c151116cff6d661369</br>\\n<br>Version: 2023.3.0</br>\\n<br>Timestamp 2023-04-12</br>\",\"<br>Git Hash: 00dae0a1bd0b7919dee6ba4d96a4cf63f8949b0c</br>\\n<br>Version: 2023.3.0</br>\\n<br>Timestamp 2023-04-12</br>\",\"<br>Git Hash: 7c99dbc59c2c38c7c192be00eac500546471bed0</br>\\n<br>Version: 2023.3.0</br>\\n<br>Timestamp 2023-04-12</br>\"],\"x\":[\"2023-04-12T20:33:25.203391\",\"2023-04-12T17:17:24.396818\",\"2023-04-12T09:53:34.139318\"],\"y\":[88,88,88],\"type\":\"scatter\",\"xaxis\":\"x4\",\"yaxis\":\"y4\"},{\"hovertemplate\":\"%{text}\",\"legendgroup\":\"0.2\",\"marker\":{\"color\":\"green\"},\"name\":\"dx=0.2\",\"showlegend\":false,\"text\":[\"<br>Git Hash: 19f9c461fbaf4206d48775c151116cff6d661369</br>\\n<br>Version: 2023.3.0</br>\\n<br>Timestamp 2023-04-12</br>\",\"<br>Git Hash: 00dae0a1bd0b7919dee6ba4d96a4cf63f8949b0c</br>\\n<br>Version: 2023.3.0</br>\\n<br>Timestamp 2023-04-12</br>\",\"<br>Git Hash: 7c99dbc59c2c38c7c192be00eac500546471bed0</br>\\n<br>Version: 2023.3.0</br>\\n<br>Timestamp 2023-04-12</br>\"],\"x\":[\"2023-04-12T20:33:25.203391\",\"2023-04-12T17:17:24.396818\",\"2023-04-12T09:53:34.139318\"],\"y\":[441,441,441],\"type\":\"scatter\",\"xaxis\":\"x5\",\"yaxis\":\"y5\"},{\"hovertemplate\":\"%{text}\",\"legendgroup\":\"0.2\",\"marker\":{\"color\":\"green\"},\"name\":\"dx=0.2\",\"showlegend\":false,\"text\":[\"<br>Git Hash: 19f9c461fbaf4206d48775c151116cff6d661369</br>\\n<br>Version: 2023.3.0</br>\\n<br>Timestamp 2023-04-12</br>\",\"<br>Git Hash: 00dae0a1bd0b7919dee6ba4d96a4cf63f8949b0c</br>\\n<br>Version: 2023.3.0</br>\\n<br>Timestamp 2023-04-12</br>\",\"<br>Git Hash: 7c99dbc59c2c38c7c192be00eac500546471bed0</br>\\n<br>Version: 2023.3.0</br>\\n<br>Timestamp 2023-04-12</br>\"],\"x\":[\"2023-04-12T20:33:25.203391\",\"2023-04-12T17:17:24.396818\",\"2023-04-12T09:53:34.139318\"],\"y\":[133.629842307,135.61309873399998,132.99851071300003],\"type\":\"scatter\",\"xaxis\":\"x6\",\"yaxis\":\"y6\"},{\"hovertemplate\":\"%{text}\",\"legendgroup\":\"0.2\",\"marker\":{\"color\":\"green\"},\"name\":\"dx=0.2\",\"showlegend\":false,\"text\":[\"<br>Git Hash: 19f9c461fbaf4206d48775c151116cff6d661369</br>\\n<br>Version: 2023.3.0</br>\\n<br>Timestamp 2023-04-12</br>\",\"<br>Git Hash: 00dae0a1bd0b7919dee6ba4d96a4cf63f8949b0c</br>\\n<br>Version: 2023.3.0</br>\\n<br>Timestamp 2023-04-12</br>\",\"<br>Git Hash: 7c99dbc59c2c38c7c192be00eac500546471bed0</br>\\n<br>Version: 2023.3.0</br>\\n<br>Timestamp 2023-04-12</br>\"],\"x\":[\"2023-04-12T20:33:25.203391\",\"2023-04-12T17:17:24.396818\",\"2023-04-12T09:53:34.139318\"],\"y\":[1260.6914906880002,1225.0240955129998,1251.196527563],\"type\":\"scatter\",\"xaxis\":\"x7\",\"yaxis\":\"y7\"},{\"hovertemplate\":\"%{text}\",\"legendgroup\":\"0.2\",\"marker\":{\"color\":\"green\"},\"name\":\"dx=0.2\",\"showlegend\":false,\"text\":[\"<br>Git Hash: 19f9c461fbaf4206d48775c151116cff6d661369</br>\\n<br>Version: 2023.3.0</br>\\n<br>Timestamp 2023-04-12</br>\",\"<br>Git Hash: 00dae0a1bd0b7919dee6ba4d96a4cf63f8949b0c</br>\\n<br>Version: 2023.3.0</br>\\n<br>Timestamp 2023-04-12</br>\",\"<br>Git Hash: 7c99dbc59c2c38c7c192be00eac500546471bed0</br>\\n<br>Version: 2023.3.0</br>\\n<br>Timestamp 2023-04-12</br>\"],\"x\":[\"2023-04-12T20:33:25.203391\",\"2023-04-12T17:17:24.396818\",\"2023-04-12T09:53:34.139318\"],\"y\":[1.1788906071894687,1.1788906071894687,1.1788906071894687],\"type\":\"scatter\",\"xaxis\":\"x8\",\"yaxis\":\"y8\"},{\"hovertemplate\":\"%{text}\",\"legendgroup\":\"0.2\",\"marker\":{\"color\":\"green\"},\"name\":\"dx=0.2\",\"showlegend\":false,\"text\":[\"<br>Git Hash: 19f9c461fbaf4206d48775c151116cff6d661369</br>\\n<br>Version: 2023.3.0</br>\\n<br>Timestamp 2023-04-12</br>\",\"<br>Git Hash: 00dae0a1bd0b7919dee6ba4d96a4cf63f8949b0c</br>\\n<br>Version: 2023.3.0</br>\\n<br>Timestamp 2023-04-12</br>\",\"<br>Git Hash: 7c99dbc59c2c38c7c192be00eac500546471bed0</br>\\n<br>Version: 2023.3.0</br>\\n<br>Timestamp 2023-04-12</br>\"],\"x\":[\"2023-04-12T20:33:25.203391\",\"2023-04-12T17:17:24.396818\",\"2023-04-12T09:53:34.139318\"],\"y\":[1.1788906071894687,1.1788906071894687,1.1788906071894687],\"type\":\"scatter\",\"xaxis\":\"x9\",\"yaxis\":\"y9\"},{\"hovertemplate\":\"%{text}\",\"legendgroup\":\"0.2\",\"marker\":{\"color\":\"green\"},\"name\":\"dx=0.2\",\"showlegend\":false,\"text\":[\"<br>Git Hash: 19f9c461fbaf4206d48775c151116cff6d661369</br>\\n<br>Version: 2023.3.0</br>\\n<br>Timestamp 2023-04-12</br>\",\"<br>Git Hash: 00dae0a1bd0b7919dee6ba4d96a4cf63f8949b0c</br>\\n<br>Version: 2023.3.0</br>\\n<br>Timestamp 2023-04-12</br>\",\"<br>Git Hash: 7c99dbc59c2c38c7c192be00eac500546471bed0</br>\\n<br>Version: 2023.3.0</br>\\n<br>Timestamp 2023-04-12</br>\"],\"x\":[\"2023-04-12T20:33:25.203391\",\"2023-04-12T17:17:24.396818\",\"2023-04-12T09:53:34.139318\"],\"y\":[238.880967611606,238.880967611606,238.880967611606],\"type\":\"scatter\",\"xaxis\":\"x10\",\"yaxis\":\"y10\"},{\"hovertemplate\":\"%{text}\",\"legendgroup\":\"0.2\",\"marker\":{\"color\":\"green\"},\"name\":\"dx=0.2\",\"showlegend\":false,\"text\":[\"<br>Git Hash: 19f9c461fbaf4206d48775c151116cff6d661369</br>\\n<br>Version: 2023.3.0</br>\\n<br>Timestamp 2023-04-12</br>\",\"<br>Git Hash: 00dae0a1bd0b7919dee6ba4d96a4cf63f8949b0c</br>\\n<br>Version: 2023.3.0</br>\\n<br>Timestamp 2023-04-12</br>\",\"<br>Git Hash: 7c99dbc59c2c38c7c192be00eac500546471bed0</br>\\n<br>Version: 2023.3.0</br>\\n<br>Timestamp 2023-04-12</br>\"],\"x\":[\"2023-04-12T20:33:25.203391\",\"2023-04-12T17:17:24.396818\",\"2023-04-12T09:53:34.139318\"],\"y\":[265.40595347521,265.40595347521,265.40595347521],\"type\":\"scatter\",\"xaxis\":\"x11\",\"yaxis\":\"y11\"},{\"hovertemplate\":\"%{text}\",\"legendgroup\":\"0.2\",\"marker\":{\"color\":\"green\"},\"name\":\"dx=0.2\",\"showlegend\":false,\"text\":[\"<br>Git Hash: 19f9c461fbaf4206d48775c151116cff6d661369</br>\\n<br>Version: 2023.3.0</br>\\n<br>Timestamp 2023-04-12</br>\",\"<br>Git Hash: 00dae0a1bd0b7919dee6ba4d96a4cf63f8949b0c</br>\\n<br>Version: 2023.3.0</br>\\n<br>Timestamp 2023-04-12</br>\",\"<br>Git Hash: 7c99dbc59c2c38c7c192be00eac500546471bed0</br>\\n<br>Version: 2023.3.0</br>\\n<br>Timestamp 2023-04-12</br>\"],\"x\":[\"2023-04-12T20:33:25.203391\",\"2023-04-12T17:17:24.396818\",\"2023-04-12T09:53:34.139318\"],\"y\":[332.35152396272616,332.35152396272616,332.35152396272616],\"type\":\"scatter\",\"xaxis\":\"x12\",\"yaxis\":\"y12\"},{\"hovertemplate\":\"%{text}\",\"legendgroup\":\"0.2\",\"marker\":{\"color\":\"green\"},\"name\":\"dx=0.2\",\"showlegend\":false,\"text\":[\"<br>Git Hash: 19f9c461fbaf4206d48775c151116cff6d661369</br>\\n<br>Version: 2023.3.0</br>\\n<br>Timestamp 2023-04-12</br>\",\"<br>Git Hash: 00dae0a1bd0b7919dee6ba4d96a4cf63f8949b0c</br>\\n<br>Version: 2023.3.0</br>\\n<br>Timestamp 2023-04-12</br>\",\"<br>Git Hash: 7c99dbc59c2c38c7c192be00eac500546471bed0</br>\\n<br>Version: 2023.3.0</br>\\n<br>Timestamp 2023-04-12</br>\"],\"x\":[\"2023-04-12T20:33:25.203391\",\"2023-04-12T17:17:24.396818\",\"2023-04-12T09:53:34.139318\"],\"y\":[93.47055635112017,93.47055635112017,93.47055635112017],\"type\":\"scatter\",\"xaxis\":\"x13\",\"yaxis\":\"y13\"},{\"hovertemplate\":\"%{text}\",\"legendgroup\":\"0.2\",\"marker\":{\"color\":\"green\"},\"name\":\"dx=0.2\",\"showlegend\":false,\"text\":[\"<br>Git Hash: 19f9c461fbaf4206d48775c151116cff6d661369</br>\\n<br>Version: 2023.3.0</br>\\n<br>Timestamp 2023-04-12</br>\",\"<br>Git Hash: 00dae0a1bd0b7919dee6ba4d96a4cf63f8949b0c</br>\\n<br>Version: 2023.3.0</br>\\n<br>Timestamp 2023-04-12</br>\",\"<br>Git Hash: 7c99dbc59c2c38c7c192be00eac500546471bed0</br>\\n<br>Version: 2023.3.0</br>\\n<br>Timestamp 2023-04-12</br>\"],\"x\":[\"2023-04-12T20:33:25.203391\",\"2023-04-12T17:17:24.396818\",\"2023-04-12T09:53:34.139318\"],\"y\":[51.119339741833805,51.119339741833805,51.119339741833805],\"type\":\"scatter\",\"xaxis\":\"x14\",\"yaxis\":\"y14\"},{\"hovertemplate\":\"%{text}\",\"legendgroup\":\"0.2\",\"marker\":{\"color\":\"green\"},\"name\":\"dx=0.2\",\"showlegend\":false,\"text\":[\"<br>Git Hash: 19f9c461fbaf4206d48775c151116cff6d661369</br>\\n<br>Version: 2023.3.0</br>\\n<br>Timestamp 2023-04-12</br>\",\"<br>Git Hash: 00dae0a1bd0b7919dee6ba4d96a4cf63f8949b0c</br>\\n<br>Version: 2023.3.0</br>\\n<br>Timestamp 2023-04-12</br>\",\"<br>Git Hash: 7c99dbc59c2c38c7c192be00eac500546471bed0</br>\\n<br>Version: 2023.3.0</br>\\n<br>Timestamp 2023-04-12</br>\"],\"x\":[\"2023-04-12T20:33:25.203391\",\"2023-04-12T17:17:24.396818\",\"2023-04-12T09:53:34.139318\"],\"y\":[-88.0216343300843,-88.0216343300843,-88.0216343300843],\"type\":\"scatter\",\"xaxis\":\"x15\",\"yaxis\":\"y15\"},{\"hovertemplate\":\"%{text}\",\"legendgroup\":\"0.2\",\"marker\":{\"color\":\"green\"},\"name\":\"dx=0.2\",\"showlegend\":false,\"text\":[\"<br>Git Hash: 19f9c461fbaf4206d48775c151116cff6d661369</br>\\n<br>Version: 2023.3.0</br>\\n<br>Timestamp 2023-04-12</br>\",\"<br>Git Hash: 00dae0a1bd0b7919dee6ba4d96a4cf63f8949b0c</br>\\n<br>Version: 2023.3.0</br>\\n<br>Timestamp 2023-04-12</br>\",\"<br>Git Hash: 7c99dbc59c2c38c7c192be00eac500546471bed0</br>\\n<br>Version: 2023.3.0</br>\\n<br>Timestamp 2023-04-12</br>\"],\"x\":[\"2023-04-12T20:33:25.203391\",\"2023-04-12T17:17:24.396818\",\"2023-04-12T09:53:34.139318\"],\"y\":[18.018904211557036,18.018904211557036,18.018904211557036],\"type\":\"scatter\",\"xaxis\":\"x16\",\"yaxis\":\"y16\"},{\"hovertemplate\":\"%{text}\",\"legendgroup\":\"0.2\",\"marker\":{\"color\":\"green\"},\"name\":\"dx=0.2\",\"showlegend\":false,\"text\":[\"<br>Git Hash: 19f9c461fbaf4206d48775c151116cff6d661369</br>\\n<br>Version: 2023.3.0</br>\\n<br>Timestamp 2023-04-12</br>\",\"<br>Git Hash: 00dae0a1bd0b7919dee6ba4d96a4cf63f8949b0c</br>\\n<br>Version: 2023.3.0</br>\\n<br>Timestamp 2023-04-12</br>\",\"<br>Git Hash: 7c99dbc59c2c38c7c192be00eac500546471bed0</br>\\n<br>Version: 2023.3.0</br>\\n<br>Timestamp 2023-04-12</br>\"],\"x\":[\"2023-04-12T20:33:25.203391\",\"2023-04-12T17:17:24.396818\",\"2023-04-12T09:53:34.139318\"],\"y\":[0.0002614958607743183,0.0002614958607743183,0.0002614958607743183],\"type\":\"scatter\",\"xaxis\":\"x17\",\"yaxis\":\"y17\"},{\"hovertemplate\":\"%{text}\",\"legendgroup\":\"0.2\",\"marker\":{\"color\":\"green\"},\"name\":\"dx=0.2\",\"showlegend\":false,\"text\":[\"<br>Git Hash: 19f9c461fbaf4206d48775c151116cff6d661369</br>\\n<br>Version: 2023.3.0</br>\\n<br>Timestamp 2023-04-12</br>\",\"<br>Git Hash: 00dae0a1bd0b7919dee6ba4d96a4cf63f8949b0c</br>\\n<br>Version: 2023.3.0</br>\\n<br>Timestamp 2023-04-12</br>\",\"<br>Git Hash: 7c99dbc59c2c38c7c192be00eac500546471bed0</br>\\n<br>Version: 2023.3.0</br>\\n<br>Timestamp 2023-04-12</br>\"],\"x\":[\"2023-04-12T20:33:25.203391\",\"2023-04-12T17:17:24.396818\",\"2023-04-12T09:53:34.139318\"],\"y\":[0.0001941577043003715,0.0001941577043003715,0.0001941577043003715],\"type\":\"scatter\",\"xaxis\":\"x18\",\"yaxis\":\"y18\"},{\"hovertemplate\":\"%{text}\",\"legendgroup\":\"0.2\",\"marker\":{\"color\":\"green\"},\"name\":\"dx=0.2\",\"showlegend\":false,\"text\":[\"<br>Git Hash: 19f9c461fbaf4206d48775c151116cff6d661369</br>\\n<br>Version: 2023.3.0</br>\\n<br>Timestamp 2023-04-12</br>\",\"<br>Git Hash: 00dae0a1bd0b7919dee6ba4d96a4cf63f8949b0c</br>\\n<br>Version: 2023.3.0</br>\\n<br>Timestamp 2023-04-12</br>\",\"<br>Git Hash: 7c99dbc59c2c38c7c192be00eac500546471bed0</br>\\n<br>Version: 2023.3.0</br>\\n<br>Timestamp 2023-04-12</br>\"],\"x\":[\"2023-04-12T20:33:25.203391\",\"2023-04-12T17:17:24.396818\",\"2023-04-12T09:53:34.139318\"],\"y\":[268.71888085586943,268.71888085586943,268.71888085586943],\"type\":\"scatter\",\"xaxis\":\"x19\",\"yaxis\":\"y19\"},{\"hovertemplate\":\"%{text}\",\"legendgroup\":\"0.2\",\"marker\":{\"color\":\"green\"},\"name\":\"dx=0.2\",\"showlegend\":false,\"text\":[\"<br>Git Hash: 19f9c461fbaf4206d48775c151116cff6d661369</br>\\n<br>Version: 2023.3.0</br>\\n<br>Timestamp 2023-04-12</br>\",\"<br>Git Hash: 00dae0a1bd0b7919dee6ba4d96a4cf63f8949b0c</br>\\n<br>Version: 2023.3.0</br>\\n<br>Timestamp 2023-04-12</br>\",\"<br>Git Hash: 7c99dbc59c2c38c7c192be00eac500546471bed0</br>\\n<br>Version: 2023.3.0</br>\\n<br>Timestamp 2023-04-12</br>\"],\"x\":[\"2023-04-12T20:33:25.203391\",\"2023-04-12T17:17:24.396818\",\"2023-04-12T09:53:34.139318\"],\"y\":[388.2479019142725,388.2479019142725,388.2479019142725],\"type\":\"scatter\",\"xaxis\":\"x20\",\"yaxis\":\"y20\"},{\"hovertemplate\":\"%{text}\",\"legendgroup\":\"0.2\",\"marker\":{\"color\":\"green\"},\"name\":\"dx=0.2\",\"showlegend\":false,\"text\":[\"<br>Git Hash: 19f9c461fbaf4206d48775c151116cff6d661369</br>\\n<br>Version: 2023.3.0</br>\\n<br>Timestamp 2023-04-12</br>\",\"<br>Git Hash: 00dae0a1bd0b7919dee6ba4d96a4cf63f8949b0c</br>\\n<br>Version: 2023.3.0</br>\\n<br>Timestamp 2023-04-12</br>\",\"<br>Git Hash: 7c99dbc59c2c38c7c192be00eac500546471bed0</br>\\n<br>Version: 2023.3.0</br>\\n<br>Timestamp 2023-04-12</br>\"],\"x\":[\"2023-04-12T20:33:25.203391\",\"2023-04-12T17:17:24.396818\",\"2023-04-12T09:53:34.139318\"],\"y\":[469.9497938229694,469.9497938229694,469.9497938229694],\"type\":\"scatter\",\"xaxis\":\"x21\",\"yaxis\":\"y21\"},{\"hovertemplate\":\"%{text}\",\"legendgroup\":\"0.2\",\"marker\":{\"color\":\"green\"},\"name\":\"dx=0.2\",\"showlegend\":false,\"text\":[\"<br>Git Hash: 19f9c461fbaf4206d48775c151116cff6d661369</br>\\n<br>Version: 2023.3.0</br>\\n<br>Timestamp 2023-04-12</br>\",\"<br>Git Hash: 00dae0a1bd0b7919dee6ba4d96a4cf63f8949b0c</br>\\n<br>Version: 2023.3.0</br>\\n<br>Timestamp 2023-04-12</br>\",\"<br>Git Hash: 7c99dbc59c2c38c7c192be00eac500546471bed0</br>\\n<br>Version: 2023.3.0</br>\\n<br>Timestamp 2023-04-12</br>\"],\"x\":[\"2023-04-12T20:33:25.203391\",\"2023-04-12T17:17:24.396818\",\"2023-04-12T09:53:34.139318\"],\"y\":[139.0,139.0,139.0],\"type\":\"scatter\",\"xaxis\":\"x22\",\"yaxis\":\"y22\"},{\"hovertemplate\":\"%{text}\",\"legendgroup\":\"0.2\",\"marker\":{\"color\":\"green\"},\"name\":\"dx=0.2\",\"showlegend\":false,\"text\":[\"<br>Git Hash: 19f9c461fbaf4206d48775c151116cff6d661369</br>\\n<br>Version: 2023.3.0</br>\\n<br>Timestamp 2023-04-12</br>\",\"<br>Git Hash: 00dae0a1bd0b7919dee6ba4d96a4cf63f8949b0c</br>\\n<br>Version: 2023.3.0</br>\\n<br>Timestamp 2023-04-12</br>\",\"<br>Git Hash: 7c99dbc59c2c38c7c192be00eac500546471bed0</br>\\n<br>Version: 2023.3.0</br>\\n<br>Timestamp 2023-04-12</br>\"],\"x\":[\"2023-04-12T20:33:25.203391\",\"2023-04-12T17:17:24.396818\",\"2023-04-12T09:53:34.139318\"],\"y\":[149.33484727777108,149.33484727777108,149.33484727777108],\"type\":\"scatter\",\"xaxis\":\"x23\",\"yaxis\":\"y23\"},{\"hovertemplate\":\"%{text}\",\"legendgroup\":\"0.2\",\"marker\":{\"color\":\"green\"},\"name\":\"dx=0.2\",\"showlegend\":false,\"text\":[\"<br>Git Hash: 19f9c461fbaf4206d48775c151116cff6d661369</br>\\n<br>Version: 2023.3.0</br>\\n<br>Timestamp 2023-04-12</br>\",\"<br>Git Hash: 00dae0a1bd0b7919dee6ba4d96a4cf63f8949b0c</br>\\n<br>Version: 2023.3.0</br>\\n<br>Timestamp 2023-04-12</br>\",\"<br>Git Hash: 7c99dbc59c2c38c7c192be00eac500546471bed0</br>\\n<br>Version: 2023.3.0</br>\\n<br>Timestamp 2023-04-12</br>\"],\"x\":[\"2023-04-12T20:33:25.203391\",\"2023-04-12T17:17:24.396818\",\"2023-04-12T09:53:34.139318\"],\"y\":[457.3920865808646,457.3920865808646,457.3920865808646],\"type\":\"scatter\",\"xaxis\":\"x24\",\"yaxis\":\"y24\"},{\"hovertemplate\":\"%{text}\",\"legendgroup\":\"0.2\",\"marker\":{\"color\":\"green\"},\"name\":\"dx=0.2\",\"showlegend\":false,\"text\":[\"<br>Git Hash: 19f9c461fbaf4206d48775c151116cff6d661369</br>\\n<br>Version: 2023.3.0</br>\\n<br>Timestamp 2023-04-12</br>\",\"<br>Git Hash: 00dae0a1bd0b7919dee6ba4d96a4cf63f8949b0c</br>\\n<br>Version: 2023.3.0</br>\\n<br>Timestamp 2023-04-12</br>\",\"<br>Git Hash: 7c99dbc59c2c38c7c192be00eac500546471bed0</br>\\n<br>Version: 2023.3.0</br>\\n<br>Timestamp 2023-04-12</br>\"],\"x\":[\"2023-04-12T20:33:25.203391\",\"2023-04-12T17:17:24.396818\",\"2023-04-12T09:53:34.139318\"],\"y\":[1.0000000000000002,1.0000000000000002,1.0000000000000002],\"type\":\"scatter\",\"xaxis\":\"x25\",\"yaxis\":\"y25\"},{\"hovertemplate\":\"%{text}\",\"legendgroup\":\"0.2\",\"marker\":{\"color\":\"green\"},\"name\":\"dx=0.2\",\"showlegend\":false,\"text\":[\"<br>Git Hash: 19f9c461fbaf4206d48775c151116cff6d661369</br>\\n<br>Version: 2023.3.0</br>\\n<br>Timestamp 2023-04-12</br>\",\"<br>Git Hash: 00dae0a1bd0b7919dee6ba4d96a4cf63f8949b0c</br>\\n<br>Version: 2023.3.0</br>\\n<br>Timestamp 2023-04-12</br>\",\"<br>Git Hash: 7c99dbc59c2c38c7c192be00eac500546471bed0</br>\\n<br>Version: 2023.3.0</br>\\n<br>Timestamp 2023-04-12</br>\"],\"x\":[\"2023-04-12T20:33:25.203391\",\"2023-04-12T17:17:24.396818\",\"2023-04-12T09:53:34.139318\"],\"y\":[0.9026200778330545,0.9026200778330545,0.9026200778330545],\"type\":\"scatter\",\"xaxis\":\"x26\",\"yaxis\":\"y26\"},{\"hovertemplate\":\"%{text}\",\"legendgroup\":\"0.2\",\"marker\":{\"color\":\"green\"},\"name\":\"dx=0.2\",\"showlegend\":false,\"text\":[\"<br>Git Hash: 19f9c461fbaf4206d48775c151116cff6d661369</br>\\n<br>Version: 2023.3.0</br>\\n<br>Timestamp 2023-04-12</br>\",\"<br>Git Hash: 00dae0a1bd0b7919dee6ba4d96a4cf63f8949b0c</br>\\n<br>Version: 2023.3.0</br>\\n<br>Timestamp 2023-04-12</br>\",\"<br>Git Hash: 7c99dbc59c2c38c7c192be00eac500546471bed0</br>\\n<br>Version: 2023.3.0</br>\\n<br>Timestamp 2023-04-12</br>\"],\"x\":[\"2023-04-12T20:33:25.203391\",\"2023-04-12T17:17:24.396818\",\"2023-04-12T09:53:34.139318\"],\"y\":[138.0,138.0,138.0],\"type\":\"scatter\",\"xaxis\":\"x27\",\"yaxis\":\"y27\"},{\"hovertemplate\":\"%{text}\",\"legendgroup\":\"0.2\",\"marker\":{\"color\":\"green\"},\"name\":\"dx=0.2\",\"showlegend\":false,\"text\":[\"<br>Git Hash: 19f9c461fbaf4206d48775c151116cff6d661369</br>\\n<br>Version: 2023.3.0</br>\\n<br>Timestamp 2023-04-12</br>\",\"<br>Git Hash: 00dae0a1bd0b7919dee6ba4d96a4cf63f8949b0c</br>\\n<br>Version: 2023.3.0</br>\\n<br>Timestamp 2023-04-12</br>\",\"<br>Git Hash: 7c99dbc59c2c38c7c192be00eac500546471bed0</br>\\n<br>Version: 2023.3.0</br>\\n<br>Timestamp 2023-04-12</br>\"],\"x\":[\"2023-04-12T20:33:25.203391\",\"2023-04-12T17:17:24.396818\",\"2023-04-12T09:53:34.139318\"],\"y\":[272.29877305280485,272.29877305280485,272.29877305280485],\"type\":\"scatter\",\"xaxis\":\"x28\",\"yaxis\":\"y28\"},{\"hovertemplate\":\"%{text}\",\"legendgroup\":\"0.2\",\"marker\":{\"color\":\"green\"},\"name\":\"dx=0.2\",\"showlegend\":false,\"text\":[\"<br>Git Hash: 19f9c461fbaf4206d48775c151116cff6d661369</br>\\n<br>Version: 2023.3.0</br>\\n<br>Timestamp 2023-04-12</br>\",\"<br>Git Hash: 00dae0a1bd0b7919dee6ba4d96a4cf63f8949b0c</br>\\n<br>Version: 2023.3.0</br>\\n<br>Timestamp 2023-04-12</br>\",\"<br>Git Hash: 7c99dbc59c2c38c7c192be00eac500546471bed0</br>\\n<br>Version: 2023.3.0</br>\\n<br>Timestamp 2023-04-12</br>\"],\"x\":[\"2023-04-12T20:33:25.203391\",\"2023-04-12T17:17:24.396818\",\"2023-04-12T09:53:34.139318\"],\"y\":[403.21871577148255,403.21871577148255,403.21871577148255],\"type\":\"scatter\",\"xaxis\":\"x29\",\"yaxis\":\"y29\"},{\"hovertemplate\":\"%{text}\",\"legendgroup\":\"0.2\",\"marker\":{\"color\":\"green\"},\"name\":\"dx=0.2\",\"showlegend\":false,\"text\":[\"<br>Git Hash: 19f9c461fbaf4206d48775c151116cff6d661369</br>\\n<br>Version: 2023.3.0</br>\\n<br>Timestamp 2023-04-12</br>\",\"<br>Git Hash: 00dae0a1bd0b7919dee6ba4d96a4cf63f8949b0c</br>\\n<br>Version: 2023.3.0</br>\\n<br>Timestamp 2023-04-12</br>\",\"<br>Git Hash: 7c99dbc59c2c38c7c192be00eac500546471bed0</br>\\n<br>Version: 2023.3.0</br>\\n<br>Timestamp 2023-04-12</br>\"],\"x\":[\"2023-04-12T20:33:25.203391\",\"2023-04-12T17:17:24.396818\",\"2023-04-12T09:53:34.139318\"],\"y\":[520.5748812157544,520.5748812157544,520.5748812157544],\"type\":\"scatter\",\"xaxis\":\"x30\",\"yaxis\":\"y30\"},{\"hovertemplate\":\"%{text}\",\"legendgroup\":\"0.2\",\"marker\":{\"color\":\"green\"},\"name\":\"dx=0.2\",\"showlegend\":false,\"text\":[\"<br>Git Hash: 19f9c461fbaf4206d48775c151116cff6d661369</br>\\n<br>Version: 2023.3.0</br>\\n<br>Timestamp 2023-04-12</br>\",\"<br>Git Hash: 00dae0a1bd0b7919dee6ba4d96a4cf63f8949b0c</br>\\n<br>Version: 2023.3.0</br>\\n<br>Timestamp 2023-04-12</br>\",\"<br>Git Hash: 7c99dbc59c2c38c7c192be00eac500546471bed0</br>\\n<br>Version: 2023.3.0</br>\\n<br>Timestamp 2023-04-12</br>\"],\"x\":[\"2023-04-12T20:33:25.203391\",\"2023-04-12T17:17:24.396818\",\"2023-04-12T09:53:34.139318\"],\"y\":[193.10708889236508,193.10708889236508,193.10708889236508],\"type\":\"scatter\",\"xaxis\":\"x31\",\"yaxis\":\"y31\"},{\"hovertemplate\":\"%{text}\",\"legendgroup\":\"0.2\",\"marker\":{\"color\":\"green\"},\"name\":\"dx=0.2\",\"showlegend\":false,\"text\":[\"<br>Git Hash: 19f9c461fbaf4206d48775c151116cff6d661369</br>\\n<br>Version: 2023.3.0</br>\\n<br>Timestamp 2023-04-12</br>\",\"<br>Git Hash: 00dae0a1bd0b7919dee6ba4d96a4cf63f8949b0c</br>\\n<br>Version: 2023.3.0</br>\\n<br>Timestamp 2023-04-12</br>\",\"<br>Git Hash: 7c99dbc59c2c38c7c192be00eac500546471bed0</br>\\n<br>Version: 2023.3.0</br>\\n<br>Timestamp 2023-04-12</br>\"],\"x\":[\"2023-04-12T20:33:25.203391\",\"2023-04-12T17:17:24.396818\",\"2023-04-12T09:53:34.139318\"],\"y\":[-108.49539275650265,-108.49539275650265,-108.49539275650265],\"type\":\"scatter\",\"xaxis\":\"x32\",\"yaxis\":\"y32\"},{\"hovertemplate\":\"%{text}\",\"legendgroup\":\"0.2\",\"marker\":{\"color\":\"green\"},\"name\":\"dx=0.2\",\"showlegend\":false,\"text\":[\"<br>Git Hash: 19f9c461fbaf4206d48775c151116cff6d661369</br>\\n<br>Version: 2023.3.0</br>\\n<br>Timestamp 2023-04-12</br>\",\"<br>Git Hash: 00dae0a1bd0b7919dee6ba4d96a4cf63f8949b0c</br>\\n<br>Version: 2023.3.0</br>\\n<br>Timestamp 2023-04-12</br>\",\"<br>Git Hash: 7c99dbc59c2c38c7c192be00eac500546471bed0</br>\\n<br>Version: 2023.3.0</br>\\n<br>Timestamp 2023-04-12</br>\"],\"x\":[\"2023-04-12T20:33:25.203391\",\"2023-04-12T17:17:24.396818\",\"2023-04-12T09:53:34.139318\"],\"y\":[0.16784510470578526,0.16784510470578526,0.16784510470578526],\"type\":\"scatter\",\"xaxis\":\"x33\",\"yaxis\":\"y33\"},{\"hovertemplate\":\"%{text}\",\"legendgroup\":\"0.2\",\"marker\":{\"color\":\"green\"},\"name\":\"dx=0.2\",\"showlegend\":false,\"text\":[\"<br>Git Hash: 19f9c461fbaf4206d48775c151116cff6d661369</br>\\n<br>Version: 2023.3.0</br>\\n<br>Timestamp 2023-04-12</br>\",\"<br>Git Hash: 00dae0a1bd0b7919dee6ba4d96a4cf63f8949b0c</br>\\n<br>Version: 2023.3.0</br>\\n<br>Timestamp 2023-04-12</br>\",\"<br>Git Hash: 7c99dbc59c2c38c7c192be00eac500546471bed0</br>\\n<br>Version: 2023.3.0</br>\\n<br>Timestamp 2023-04-12</br>\"],\"x\":[\"2023-04-12T20:33:25.203391\",\"2023-04-12T17:17:24.396818\",\"2023-04-12T09:53:34.139318\"],\"y\":[0.16784510470578526,0.16784510470578526,0.16784510470578526],\"type\":\"scatter\",\"xaxis\":\"x34\",\"yaxis\":\"y34\"},{\"hovertemplate\":\"%{text}\",\"legendgroup\":\"0.2\",\"marker\":{\"color\":\"green\"},\"name\":\"dx=0.2\",\"showlegend\":false,\"text\":[\"<br>Git Hash: 19f9c461fbaf4206d48775c151116cff6d661369</br>\\n<br>Version: 2023.3.0</br>\\n<br>Timestamp 2023-04-12</br>\",\"<br>Git Hash: 00dae0a1bd0b7919dee6ba4d96a4cf63f8949b0c</br>\\n<br>Version: 2023.3.0</br>\\n<br>Timestamp 2023-04-12</br>\",\"<br>Git Hash: 7c99dbc59c2c38c7c192be00eac500546471bed0</br>\\n<br>Version: 2023.3.0</br>\\n<br>Timestamp 2023-04-12</br>\"],\"x\":[\"2023-04-12T20:33:25.203391\",\"2023-04-12T17:17:24.396818\",\"2023-04-12T09:53:34.139318\"],\"y\":[0.8392255235289262,0.8392255235289262,0.8392255235289262],\"type\":\"scatter\",\"xaxis\":\"x35\",\"yaxis\":\"y35\"},{\"hovertemplate\":\"%{text}\",\"legendgroup\":\"0.2\",\"marker\":{\"color\":\"green\"},\"name\":\"dx=0.2\",\"showlegend\":false,\"text\":[\"<br>Git Hash: 19f9c461fbaf4206d48775c151116cff6d661369</br>\\n<br>Version: 2023.3.0</br>\\n<br>Timestamp 2023-04-12</br>\",\"<br>Git Hash: 00dae0a1bd0b7919dee6ba4d96a4cf63f8949b0c</br>\\n<br>Version: 2023.3.0</br>\\n<br>Timestamp 2023-04-12</br>\",\"<br>Git Hash: 7c99dbc59c2c38c7c192be00eac500546471bed0</br>\\n<br>Version: 2023.3.0</br>\\n<br>Timestamp 2023-04-12</br>\"],\"x\":[\"2023-04-12T20:33:25.203391\",\"2023-04-12T17:17:24.396818\",\"2023-04-12T09:53:34.139318\"],\"y\":[0.8463281251681412,0.8463281251681412,0.8463281251681412],\"type\":\"scatter\",\"xaxis\":\"x36\",\"yaxis\":\"y36\"},{\"hovertemplate\":\"%{text}\",\"legendgroup\":\"0.2\",\"marker\":{\"color\":\"green\"},\"name\":\"dx=0.2\",\"showlegend\":false,\"text\":[\"<br>Git Hash: 19f9c461fbaf4206d48775c151116cff6d661369</br>\\n<br>Version: 2023.3.0</br>\\n<br>Timestamp 2023-04-12</br>\",\"<br>Git Hash: 00dae0a1bd0b7919dee6ba4d96a4cf63f8949b0c</br>\\n<br>Version: 2023.3.0</br>\\n<br>Timestamp 2023-04-12</br>\",\"<br>Git Hash: 7c99dbc59c2c38c7c192be00eac500546471bed0</br>\\n<br>Version: 2023.3.0</br>\\n<br>Timestamp 2023-04-12</br>\"],\"x\":[\"2023-04-12T20:33:25.203391\",\"2023-04-12T17:17:24.396818\",\"2023-04-12T09:53:34.139318\"],\"y\":[0.05,0.05,0.05],\"type\":\"scatter\",\"xaxis\":\"x37\",\"yaxis\":\"y37\"},{\"hovertemplate\":\"%{text}\",\"legendgroup\":\"0.2\",\"marker\":{\"color\":\"green\"},\"name\":\"dx=0.2\",\"showlegend\":false,\"text\":[\"<br>Git Hash: 19f9c461fbaf4206d48775c151116cff6d661369</br>\\n<br>Version: 2023.3.0</br>\\n<br>Timestamp 2023-04-12</br>\",\"<br>Git Hash: 00dae0a1bd0b7919dee6ba4d96a4cf63f8949b0c</br>\\n<br>Version: 2023.3.0</br>\\n<br>Timestamp 2023-04-12</br>\",\"<br>Git Hash: 7c99dbc59c2c38c7c192be00eac500546471bed0</br>\\n<br>Version: 2023.3.0</br>\\n<br>Timestamp 2023-04-12</br>\"],\"x\":[\"2023-04-12T20:33:25.203391\",\"2023-04-12T17:17:24.396818\",\"2023-04-12T09:53:34.139318\"],\"y\":[0.09690541638404604,0.09690541638404604,0.09690541638404604],\"type\":\"scatter\",\"xaxis\":\"x38\",\"yaxis\":\"y38\"},{\"hovertemplate\":\"%{text}\",\"legendgroup\":\"0.2\",\"marker\":{\"color\":\"green\"},\"name\":\"dx=0.2\",\"showlegend\":false,\"text\":[\"<br>Git Hash: 19f9c461fbaf4206d48775c151116cff6d661369</br>\\n<br>Version: 2023.3.0</br>\\n<br>Timestamp 2023-04-12</br>\",\"<br>Git Hash: 00dae0a1bd0b7919dee6ba4d96a4cf63f8949b0c</br>\\n<br>Version: 2023.3.0</br>\\n<br>Timestamp 2023-04-12</br>\",\"<br>Git Hash: 7c99dbc59c2c38c7c192be00eac500546471bed0</br>\\n<br>Version: 2023.3.0</br>\\n<br>Timestamp 2023-04-12</br>\"],\"x\":[\"2023-04-12T20:33:25.203391\",\"2023-04-12T17:17:24.396818\",\"2023-04-12T09:53:34.139318\"],\"y\":[0.09690541638404604,0.09690541638404604,0.09690541638404604],\"type\":\"scatter\",\"xaxis\":\"x39\",\"yaxis\":\"y39\"},{\"hovertemplate\":\"%{text}\",\"legendgroup\":\"0.2\",\"marker\":{\"color\":\"green\"},\"name\":\"dx=0.2\",\"showlegend\":false,\"text\":[\"<br>Git Hash: 19f9c461fbaf4206d48775c151116cff6d661369</br>\\n<br>Version: 2023.3.0</br>\\n<br>Timestamp 2023-04-12</br>\",\"<br>Git Hash: 00dae0a1bd0b7919dee6ba4d96a4cf63f8949b0c</br>\\n<br>Version: 2023.3.0</br>\\n<br>Timestamp 2023-04-12</br>\",\"<br>Git Hash: 7c99dbc59c2c38c7c192be00eac500546471bed0</br>\\n<br>Version: 2023.3.0</br>\\n<br>Timestamp 2023-04-12</br>\"],\"x\":[\"2023-04-12T20:33:25.203391\",\"2023-04-12T17:17:24.396818\",\"2023-04-12T09:53:34.139318\"],\"y\":[0.4845270819202302,0.4845270819202302,0.4845270819202302],\"type\":\"scatter\",\"xaxis\":\"x40\",\"yaxis\":\"y40\"},{\"hovertemplate\":\"%{text}\",\"legendgroup\":\"0.2\",\"marker\":{\"color\":\"green\"},\"name\":\"dx=0.2\",\"showlegend\":false,\"text\":[\"<br>Git Hash: 19f9c461fbaf4206d48775c151116cff6d661369</br>\\n<br>Version: 2023.3.0</br>\\n<br>Timestamp 2023-04-12</br>\",\"<br>Git Hash: 00dae0a1bd0b7919dee6ba4d96a4cf63f8949b0c</br>\\n<br>Version: 2023.3.0</br>\\n<br>Timestamp 2023-04-12</br>\",\"<br>Git Hash: 7c99dbc59c2c38c7c192be00eac500546471bed0</br>\\n<br>Version: 2023.3.0</br>\\n<br>Timestamp 2023-04-12</br>\"],\"x\":[\"2023-04-12T20:33:25.203391\",\"2023-04-12T17:17:24.396818\",\"2023-04-12T09:53:34.139318\"],\"y\":[0.48688617730741074,0.48688617730741074,0.48688617730741074],\"type\":\"scatter\",\"xaxis\":\"x41\",\"yaxis\":\"y41\"},{\"hovertemplate\":\"%{text}\",\"legendgroup\":\"0.2\",\"marker\":{\"color\":\"green\"},\"name\":\"dx=0.2\",\"showlegend\":false,\"text\":[\"<br>Git Hash: 19f9c461fbaf4206d48775c151116cff6d661369</br>\\n<br>Version: 2023.3.0</br>\\n<br>Timestamp 2023-04-12</br>\",\"<br>Git Hash: 00dae0a1bd0b7919dee6ba4d96a4cf63f8949b0c</br>\\n<br>Version: 2023.3.0</br>\\n<br>Timestamp 2023-04-12</br>\",\"<br>Git Hash: 7c99dbc59c2c38c7c192be00eac500546471bed0</br>\\n<br>Version: 2023.3.0</br>\\n<br>Timestamp 2023-04-12</br>\"],\"x\":[\"2023-04-12T20:33:25.203391\",\"2023-04-12T17:17:24.396818\",\"2023-04-12T09:53:34.139318\"],\"y\":[0.05,0.05,0.05],\"type\":\"scatter\",\"xaxis\":\"x42\",\"yaxis\":\"y42\"},{\"hovertemplate\":\"%{text}\",\"legendgroup\":\"0.2\",\"marker\":{\"color\":\"green\"},\"name\":\"dx=0.2\",\"showlegend\":false,\"text\":[\"<br>Git Hash: 19f9c461fbaf4206d48775c151116cff6d661369</br>\\n<br>Version: 2023.3.0</br>\\n<br>Timestamp 2023-04-12</br>\",\"<br>Git Hash: 00dae0a1bd0b7919dee6ba4d96a4cf63f8949b0c</br>\\n<br>Version: 2023.3.0</br>\\n<br>Timestamp 2023-04-12</br>\",\"<br>Git Hash: 7c99dbc59c2c38c7c192be00eac500546471bed0</br>\\n<br>Version: 2023.3.0</br>\\n<br>Timestamp 2023-04-12</br>\"],\"x\":[\"2023-04-12T20:33:25.203391\",\"2023-04-12T17:17:24.396818\",\"2023-04-12T09:53:34.139318\"],\"y\":[0.09690541638404604,0.09690541638404604,0.09690541638404604],\"type\":\"scatter\",\"xaxis\":\"x43\",\"yaxis\":\"y43\"},{\"hovertemplate\":\"%{text}\",\"legendgroup\":\"0.2\",\"marker\":{\"color\":\"green\"},\"name\":\"dx=0.2\",\"showlegend\":false,\"text\":[\"<br>Git Hash: 19f9c461fbaf4206d48775c151116cff6d661369</br>\\n<br>Version: 2023.3.0</br>\\n<br>Timestamp 2023-04-12</br>\",\"<br>Git Hash: 00dae0a1bd0b7919dee6ba4d96a4cf63f8949b0c</br>\\n<br>Version: 2023.3.0</br>\\n<br>Timestamp 2023-04-12</br>\",\"<br>Git Hash: 7c99dbc59c2c38c7c192be00eac500546471bed0</br>\\n<br>Version: 2023.3.0</br>\\n<br>Timestamp 2023-04-12</br>\"],\"x\":[\"2023-04-12T20:33:25.203391\",\"2023-04-12T17:17:24.396818\",\"2023-04-12T09:53:34.139318\"],\"y\":[0.09690541638404604,0.09690541638404604,0.09690541638404604],\"type\":\"scatter\",\"xaxis\":\"x44\",\"yaxis\":\"y44\"},{\"hovertemplate\":\"%{text}\",\"legendgroup\":\"0.2\",\"marker\":{\"color\":\"green\"},\"name\":\"dx=0.2\",\"showlegend\":false,\"text\":[\"<br>Git Hash: 19f9c461fbaf4206d48775c151116cff6d661369</br>\\n<br>Version: 2023.3.0</br>\\n<br>Timestamp 2023-04-12</br>\",\"<br>Git Hash: 00dae0a1bd0b7919dee6ba4d96a4cf63f8949b0c</br>\\n<br>Version: 2023.3.0</br>\\n<br>Timestamp 2023-04-12</br>\",\"<br>Git Hash: 7c99dbc59c2c38c7c192be00eac500546471bed0</br>\\n<br>Version: 2023.3.0</br>\\n<br>Timestamp 2023-04-12</br>\"],\"x\":[\"2023-04-12T20:33:25.203391\",\"2023-04-12T17:17:24.396818\",\"2023-04-12T09:53:34.139318\"],\"y\":[0.4845270819202302,0.4845270819202302,0.4845270819202302],\"type\":\"scatter\",\"xaxis\":\"x45\",\"yaxis\":\"y45\"},{\"hovertemplate\":\"%{text}\",\"legendgroup\":\"0.2\",\"marker\":{\"color\":\"green\"},\"name\":\"dx=0.2\",\"showlegend\":false,\"text\":[\"<br>Git Hash: 19f9c461fbaf4206d48775c151116cff6d661369</br>\\n<br>Version: 2023.3.0</br>\\n<br>Timestamp 2023-04-12</br>\",\"<br>Git Hash: 00dae0a1bd0b7919dee6ba4d96a4cf63f8949b0c</br>\\n<br>Version: 2023.3.0</br>\\n<br>Timestamp 2023-04-12</br>\",\"<br>Git Hash: 7c99dbc59c2c38c7c192be00eac500546471bed0</br>\\n<br>Version: 2023.3.0</br>\\n<br>Timestamp 2023-04-12</br>\"],\"x\":[\"2023-04-12T20:33:25.203391\",\"2023-04-12T17:17:24.396818\",\"2023-04-12T09:53:34.139318\"],\"y\":[0.48688617730741074,0.48688617730741074,0.48688617730741074],\"type\":\"scatter\",\"xaxis\":\"x46\",\"yaxis\":\"y46\"},{\"hovertemplate\":\"%{text}\",\"legendgroup\":\"0.2\",\"marker\":{\"color\":\"green\"},\"name\":\"dx=0.2\",\"showlegend\":false,\"text\":[\"<br>Git Hash: 19f9c461fbaf4206d48775c151116cff6d661369</br>\\n<br>Version: 2023.3.0</br>\\n<br>Timestamp 2023-04-12</br>\",\"<br>Git Hash: 00dae0a1bd0b7919dee6ba4d96a4cf63f8949b0c</br>\\n<br>Version: 2023.3.0</br>\\n<br>Timestamp 2023-04-12</br>\",\"<br>Git Hash: 7c99dbc59c2c38c7c192be00eac500546471bed0</br>\\n<br>Version: 2023.3.0</br>\\n<br>Timestamp 2023-04-12</br>\"],\"x\":[\"2023-04-12T20:33:25.203391\",\"2023-04-12T17:17:24.396818\",\"2023-04-12T09:53:34.139318\"],\"y\":[0.05,0.05,0.05],\"type\":\"scatter\",\"xaxis\":\"x47\",\"yaxis\":\"y47\"},{\"hovertemplate\":\"%{text}\",\"legendgroup\":\"0.2\",\"marker\":{\"color\":\"green\"},\"name\":\"dx=0.2\",\"showlegend\":false,\"text\":[\"<br>Git Hash: 19f9c461fbaf4206d48775c151116cff6d661369</br>\\n<br>Version: 2023.3.0</br>\\n<br>Timestamp 2023-04-12</br>\",\"<br>Git Hash: 00dae0a1bd0b7919dee6ba4d96a4cf63f8949b0c</br>\\n<br>Version: 2023.3.0</br>\\n<br>Timestamp 2023-04-12</br>\",\"<br>Git Hash: 7c99dbc59c2c38c7c192be00eac500546471bed0</br>\\n<br>Version: 2023.3.0</br>\\n<br>Timestamp 2023-04-12</br>\"],\"x\":[\"2023-04-12T20:33:25.203391\",\"2023-04-12T17:17:24.396818\",\"2023-04-12T09:53:34.139318\"],\"y\":[0.09690541638404604,0.09690541638404604,0.09690541638404604],\"type\":\"scatter\",\"xaxis\":\"x48\",\"yaxis\":\"y48\"},{\"hovertemplate\":\"%{text}\",\"legendgroup\":\"0.2\",\"marker\":{\"color\":\"green\"},\"name\":\"dx=0.2\",\"showlegend\":false,\"text\":[\"<br>Git Hash: 19f9c461fbaf4206d48775c151116cff6d661369</br>\\n<br>Version: 2023.3.0</br>\\n<br>Timestamp 2023-04-12</br>\",\"<br>Git Hash: 00dae0a1bd0b7919dee6ba4d96a4cf63f8949b0c</br>\\n<br>Version: 2023.3.0</br>\\n<br>Timestamp 2023-04-12</br>\",\"<br>Git Hash: 7c99dbc59c2c38c7c192be00eac500546471bed0</br>\\n<br>Version: 2023.3.0</br>\\n<br>Timestamp 2023-04-12</br>\"],\"x\":[\"2023-04-12T20:33:25.203391\",\"2023-04-12T17:17:24.396818\",\"2023-04-12T09:53:34.139318\"],\"y\":[0.09690541638404604,0.09690541638404604,0.09690541638404604],\"type\":\"scatter\",\"xaxis\":\"x49\",\"yaxis\":\"y49\"},{\"hovertemplate\":\"%{text}\",\"legendgroup\":\"0.2\",\"marker\":{\"color\":\"green\"},\"name\":\"dx=0.2\",\"showlegend\":false,\"text\":[\"<br>Git Hash: 19f9c461fbaf4206d48775c151116cff6d661369</br>\\n<br>Version: 2023.3.0</br>\\n<br>Timestamp 2023-04-12</br>\",\"<br>Git Hash: 00dae0a1bd0b7919dee6ba4d96a4cf63f8949b0c</br>\\n<br>Version: 2023.3.0</br>\\n<br>Timestamp 2023-04-12</br>\",\"<br>Git Hash: 7c99dbc59c2c38c7c192be00eac500546471bed0</br>\\n<br>Version: 2023.3.0</br>\\n<br>Timestamp 2023-04-12</br>\"],\"x\":[\"2023-04-12T20:33:25.203391\",\"2023-04-12T17:17:24.396818\",\"2023-04-12T09:53:34.139318\"],\"y\":[0.4845270819202302,0.4845270819202302,0.4845270819202302],\"type\":\"scatter\",\"xaxis\":\"x50\",\"yaxis\":\"y50\"},{\"hovertemplate\":\"%{text}\",\"legendgroup\":\"0.2\",\"marker\":{\"color\":\"green\"},\"name\":\"dx=0.2\",\"showlegend\":false,\"text\":[\"<br>Git Hash: 19f9c461fbaf4206d48775c151116cff6d661369</br>\\n<br>Version: 2023.3.0</br>\\n<br>Timestamp 2023-04-12</br>\",\"<br>Git Hash: 00dae0a1bd0b7919dee6ba4d96a4cf63f8949b0c</br>\\n<br>Version: 2023.3.0</br>\\n<br>Timestamp 2023-04-12</br>\",\"<br>Git Hash: 7c99dbc59c2c38c7c192be00eac500546471bed0</br>\\n<br>Version: 2023.3.0</br>\\n<br>Timestamp 2023-04-12</br>\"],\"x\":[\"2023-04-12T20:33:25.203391\",\"2023-04-12T17:17:24.396818\",\"2023-04-12T09:53:34.139318\"],\"y\":[0.48688617730741074,0.48688617730741074,0.48688617730741074],\"type\":\"scatter\",\"xaxis\":\"x51\",\"yaxis\":\"y51\"},{\"hovertemplate\":\"%{text}\",\"legendgroup\":\"0.2\",\"marker\":{\"color\":\"green\"},\"name\":\"dx=0.2\",\"showlegend\":false,\"text\":[\"<br>Git Hash: 19f9c461fbaf4206d48775c151116cff6d661369</br>\\n<br>Version: 2023.3.0</br>\\n<br>Timestamp 2023-04-12</br>\",\"<br>Git Hash: 00dae0a1bd0b7919dee6ba4d96a4cf63f8949b0c</br>\\n<br>Version: 2023.3.0</br>\\n<br>Timestamp 2023-04-12</br>\",\"<br>Git Hash: 7c99dbc59c2c38c7c192be00eac500546471bed0</br>\\n<br>Version: 2023.3.0</br>\\n<br>Timestamp 2023-04-12</br>\"],\"x\":[\"2023-04-12T20:33:25.203391\",\"2023-04-12T17:17:24.396818\",\"2023-04-12T09:53:34.139318\"],\"y\":[0.05,0.05,0.05],\"type\":\"scatter\",\"xaxis\":\"x52\",\"yaxis\":\"y52\"},{\"hovertemplate\":\"%{text}\",\"legendgroup\":\"0.4\",\"marker\":{\"color\":\"blue\"},\"name\":\"dx=0.4\",\"showlegend\":true,\"text\":[\"<br>Git Hash: 19f9c461fbaf4206d48775c151116cff6d661369</br>\\n<br>Version: 2023.3.0</br>\\n<br>Timestamp 2023-04-12</br>\",\"<br>Git Hash: 00dae0a1bd0b7919dee6ba4d96a4cf63f8949b0c</br>\\n<br>Version: 2023.3.0</br>\\n<br>Timestamp 2023-04-12</br>\",\"<br>Git Hash: 7c99dbc59c2c38c7c192be00eac500546471bed0</br>\\n<br>Version: 2023.3.0</br>\\n<br>Timestamp 2023-04-12</br>\"],\"x\":[\"2023-04-12T20:33:32.537703\",\"2023-04-12T17:17:26.820219\",\"2023-04-12T09:53:31.010237\"],\"y\":[1.0000000116860974e-06,9.999999974752427e-07,9.999999974752427e-07],\"type\":\"scatter\",\"xaxis\":\"x\",\"yaxis\":\"y\"},{\"hovertemplate\":\"%{text}\",\"legendgroup\":\"0.4\",\"marker\":{\"color\":\"blue\"},\"name\":\"dx=0.4\",\"showlegend\":false,\"text\":[\"<br>Git Hash: 19f9c461fbaf4206d48775c151116cff6d661369</br>\\n<br>Version: 2023.3.0</br>\\n<br>Timestamp 2023-04-12</br>\",\"<br>Git Hash: 00dae0a1bd0b7919dee6ba4d96a4cf63f8949b0c</br>\\n<br>Version: 2023.3.0</br>\\n<br>Timestamp 2023-04-12</br>\",\"<br>Git Hash: 7c99dbc59c2c38c7c192be00eac500546471bed0</br>\\n<br>Version: 2023.3.0</br>\\n<br>Timestamp 2023-04-12</br>\"],\"x\":[\"2023-04-12T20:33:32.537703\",\"2023-04-12T17:17:26.820219\",\"2023-04-12T09:53:31.010237\"],\"y\":[60,60,60],\"type\":\"scatter\",\"xaxis\":\"x2\",\"yaxis\":\"y2\"},{\"hovertemplate\":\"%{text}\",\"legendgroup\":\"0.4\",\"marker\":{\"color\":\"blue\"},\"name\":\"dx=0.4\",\"showlegend\":false,\"text\":[\"<br>Git Hash: 19f9c461fbaf4206d48775c151116cff6d661369</br>\\n<br>Version: 2023.3.0</br>\\n<br>Timestamp 2023-04-12</br>\",\"<br>Git Hash: 00dae0a1bd0b7919dee6ba4d96a4cf63f8949b0c</br>\\n<br>Version: 2023.3.0</br>\\n<br>Timestamp 2023-04-12</br>\",\"<br>Git Hash: 7c99dbc59c2c38c7c192be00eac500546471bed0</br>\\n<br>Version: 2023.3.0</br>\\n<br>Timestamp 2023-04-12</br>\"],\"x\":[\"2023-04-12T20:33:32.537703\",\"2023-04-12T17:17:26.820219\",\"2023-04-12T09:53:31.010237\"],\"y\":[480,480,480],\"type\":\"scatter\",\"xaxis\":\"x3\",\"yaxis\":\"y3\"},{\"hovertemplate\":\"%{text}\",\"legendgroup\":\"0.4\",\"marker\":{\"color\":\"blue\"},\"name\":\"dx=0.4\",\"showlegend\":false,\"text\":[\"<br>Git Hash: 19f9c461fbaf4206d48775c151116cff6d661369</br>\\n<br>Version: 2023.3.0</br>\\n<br>Timestamp 2023-04-12</br>\",\"<br>Git Hash: 00dae0a1bd0b7919dee6ba4d96a4cf63f8949b0c</br>\\n<br>Version: 2023.3.0</br>\\n<br>Timestamp 2023-04-12</br>\",\"<br>Git Hash: 7c99dbc59c2c38c7c192be00eac500546471bed0</br>\\n<br>Version: 2023.3.0</br>\\n<br>Timestamp 2023-04-12</br>\"],\"x\":[\"2023-04-12T20:33:32.537703\",\"2023-04-12T17:17:26.820219\",\"2023-04-12T09:53:31.010237\"],\"y\":[36,36,36],\"type\":\"scatter\",\"xaxis\":\"x4\",\"yaxis\":\"y4\"},{\"hovertemplate\":\"%{text}\",\"legendgroup\":\"0.4\",\"marker\":{\"color\":\"blue\"},\"name\":\"dx=0.4\",\"showlegend\":false,\"text\":[\"<br>Git Hash: 19f9c461fbaf4206d48775c151116cff6d661369</br>\\n<br>Version: 2023.3.0</br>\\n<br>Timestamp 2023-04-12</br>\",\"<br>Git Hash: 00dae0a1bd0b7919dee6ba4d96a4cf63f8949b0c</br>\\n<br>Version: 2023.3.0</br>\\n<br>Timestamp 2023-04-12</br>\",\"<br>Git Hash: 7c99dbc59c2c38c7c192be00eac500546471bed0</br>\\n<br>Version: 2023.3.0</br>\\n<br>Timestamp 2023-04-12</br>\"],\"x\":[\"2023-04-12T20:33:32.537703\",\"2023-04-12T17:17:26.820219\",\"2023-04-12T09:53:31.010237\"],\"y\":[165,165,165],\"type\":\"scatter\",\"xaxis\":\"x5\",\"yaxis\":\"y5\"},{\"hovertemplate\":\"%{text}\",\"legendgroup\":\"0.4\",\"marker\":{\"color\":\"blue\"},\"name\":\"dx=0.4\",\"showlegend\":false,\"text\":[\"<br>Git Hash: 19f9c461fbaf4206d48775c151116cff6d661369</br>\\n<br>Version: 2023.3.0</br>\\n<br>Timestamp 2023-04-12</br>\",\"<br>Git Hash: 00dae0a1bd0b7919dee6ba4d96a4cf63f8949b0c</br>\\n<br>Version: 2023.3.0</br>\\n<br>Timestamp 2023-04-12</br>\",\"<br>Git Hash: 7c99dbc59c2c38c7c192be00eac500546471bed0</br>\\n<br>Version: 2023.3.0</br>\\n<br>Timestamp 2023-04-12</br>\"],\"x\":[\"2023-04-12T20:33:32.537703\",\"2023-04-12T17:17:26.820219\",\"2023-04-12T09:53:31.010237\"],\"y\":[165.367050751,137.96248828300003,134.56070818800004],\"type\":\"scatter\",\"xaxis\":\"x6\",\"yaxis\":\"y6\"},{\"hovertemplate\":\"%{text}\",\"legendgroup\":\"0.4\",\"marker\":{\"color\":\"blue\"},\"name\":\"dx=0.4\",\"showlegend\":false,\"text\":[\"<br>Git Hash: 19f9c461fbaf4206d48775c151116cff6d661369</br>\\n<br>Version: 2023.3.0</br>\\n<br>Timestamp 2023-04-12</br>\",\"<br>Git Hash: 00dae0a1bd0b7919dee6ba4d96a4cf63f8949b0c</br>\\n<br>Version: 2023.3.0</br>\\n<br>Timestamp 2023-04-12</br>\",\"<br>Git Hash: 7c99dbc59c2c38c7c192be00eac500546471bed0</br>\\n<br>Version: 2023.3.0</br>\\n<br>Timestamp 2023-04-12</br>\"],\"x\":[\"2023-04-12T20:33:32.537703\",\"2023-04-12T17:17:26.820219\",\"2023-04-12T09:53:31.010237\"],\"y\":[731.1141966170001,599.2139237,594.1378821149999],\"type\":\"scatter\",\"xaxis\":\"x7\",\"yaxis\":\"y7\"},{\"hovertemplate\":\"%{text}\",\"legendgroup\":\"0.4\",\"marker\":{\"color\":\"blue\"},\"name\":\"dx=0.4\",\"showlegend\":false,\"text\":[\"<br>Git Hash: 19f9c461fbaf4206d48775c151116cff6d661369</br>\\n<br>Version: 2023.3.0</br>\\n<br>Timestamp 2023-04-12</br>\",\"<br>Git Hash: 00dae0a1bd0b7919dee6ba4d96a4cf63f8949b0c</br>\\n<br>Version: 2023.3.0</br>\\n<br>Timestamp 2023-04-12</br>\",\"<br>Git Hash: 7c99dbc59c2c38c7c192be00eac500546471bed0</br>\\n<br>Version: 2023.3.0</br>\\n<br>Timestamp 2023-04-12</br>\"],\"x\":[\"2023-04-12T20:33:32.537703\",\"2023-04-12T17:17:26.820219\",\"2023-04-12T09:53:31.010237\"],\"y\":[1.1795939114331073,1.1795939114331073,1.1795939114331073],\"type\":\"scatter\",\"xaxis\":\"x8\",\"yaxis\":\"y8\"},{\"hovertemplate\":\"%{text}\",\"legendgroup\":\"0.4\",\"marker\":{\"color\":\"blue\"},\"name\":\"dx=0.4\",\"showlegend\":false,\"text\":[\"<br>Git Hash: 19f9c461fbaf4206d48775c151116cff6d661369</br>\\n<br>Version: 2023.3.0</br>\\n<br>Timestamp 2023-04-12</br>\",\"<br>Git Hash: 00dae0a1bd0b7919dee6ba4d96a4cf63f8949b0c</br>\\n<br>Version: 2023.3.0</br>\\n<br>Timestamp 2023-04-12</br>\",\"<br>Git Hash: 7c99dbc59c2c38c7c192be00eac500546471bed0</br>\\n<br>Version: 2023.3.0</br>\\n<br>Timestamp 2023-04-12</br>\"],\"x\":[\"2023-04-12T20:33:32.537703\",\"2023-04-12T17:17:26.820219\",\"2023-04-12T09:53:31.010237\"],\"y\":[1.1795939114331073,1.1795939114331073,1.1795939114331073],\"type\":\"scatter\",\"xaxis\":\"x9\",\"yaxis\":\"y9\"},{\"hovertemplate\":\"%{text}\",\"legendgroup\":\"0.4\",\"marker\":{\"color\":\"blue\"},\"name\":\"dx=0.4\",\"showlegend\":false,\"text\":[\"<br>Git Hash: 19f9c461fbaf4206d48775c151116cff6d661369</br>\\n<br>Version: 2023.3.0</br>\\n<br>Timestamp 2023-04-12</br>\",\"<br>Git Hash: 00dae0a1bd0b7919dee6ba4d96a4cf63f8949b0c</br>\\n<br>Version: 2023.3.0</br>\\n<br>Timestamp 2023-04-12</br>\",\"<br>Git Hash: 7c99dbc59c2c38c7c192be00eac500546471bed0</br>\\n<br>Version: 2023.3.0</br>\\n<br>Timestamp 2023-04-12</br>\"],\"x\":[\"2023-04-12T20:33:32.537703\",\"2023-04-12T17:17:26.820219\",\"2023-04-12T09:53:31.010237\"],\"y\":[238.88180472701407,238.88180472701407,238.88180472701407],\"type\":\"scatter\",\"xaxis\":\"x10\",\"yaxis\":\"y10\"},{\"hovertemplate\":\"%{text}\",\"legendgroup\":\"0.4\",\"marker\":{\"color\":\"blue\"},\"name\":\"dx=0.4\",\"showlegend\":false,\"text\":[\"<br>Git Hash: 19f9c461fbaf4206d48775c151116cff6d661369</br>\\n<br>Version: 2023.3.0</br>\\n<br>Timestamp 2023-04-12</br>\",\"<br>Git Hash: 00dae0a1bd0b7919dee6ba4d96a4cf63f8949b0c</br>\\n<br>Version: 2023.3.0</br>\\n<br>Timestamp 2023-04-12</br>\",\"<br>Git Hash: 7c99dbc59c2c38c7c192be00eac500546471bed0</br>\\n<br>Version: 2023.3.0</br>\\n<br>Timestamp 2023-04-12</br>\"],\"x\":[\"2023-04-12T20:33:32.537703\",\"2023-04-12T17:17:26.820219\",\"2023-04-12T09:53:31.010237\"],\"y\":[265.40692263982737,265.40692263982737,265.40692263982737],\"type\":\"scatter\",\"xaxis\":\"x11\",\"yaxis\":\"y11\"},{\"hovertemplate\":\"%{text}\",\"legendgroup\":\"0.4\",\"marker\":{\"color\":\"blue\"},\"name\":\"dx=0.4\",\"showlegend\":false,\"text\":[\"<br>Git Hash: 19f9c461fbaf4206d48775c151116cff6d661369</br>\\n<br>Version: 2023.3.0</br>\\n<br>Timestamp 2023-04-12</br>\",\"<br>Git Hash: 00dae0a1bd0b7919dee6ba4d96a4cf63f8949b0c</br>\\n<br>Version: 2023.3.0</br>\\n<br>Timestamp 2023-04-12</br>\",\"<br>Git Hash: 7c99dbc59c2c38c7c192be00eac500546471bed0</br>\\n<br>Version: 2023.3.0</br>\\n<br>Timestamp 2023-04-12</br>\"],\"x\":[\"2023-04-12T20:33:32.537703\",\"2023-04-12T17:17:26.820219\",\"2023-04-12T09:53:31.010237\"],\"y\":[332.3530714488868,332.3530714488868,332.3530714488868],\"type\":\"scatter\",\"xaxis\":\"x12\",\"yaxis\":\"y12\"},{\"hovertemplate\":\"%{text}\",\"legendgroup\":\"0.4\",\"marker\":{\"color\":\"blue\"},\"name\":\"dx=0.4\",\"showlegend\":false,\"text\":[\"<br>Git Hash: 19f9c461fbaf4206d48775c151116cff6d661369</br>\\n<br>Version: 2023.3.0</br>\\n<br>Timestamp 2023-04-12</br>\",\"<br>Git Hash: 00dae0a1bd0b7919dee6ba4d96a4cf63f8949b0c</br>\\n<br>Version: 2023.3.0</br>\\n<br>Timestamp 2023-04-12</br>\",\"<br>Git Hash: 7c99dbc59c2c38c7c192be00eac500546471bed0</br>\\n<br>Version: 2023.3.0</br>\\n<br>Timestamp 2023-04-12</br>\"],\"x\":[\"2023-04-12T20:33:32.537703\",\"2023-04-12T17:17:26.820219\",\"2023-04-12T09:53:31.010237\"],\"y\":[93.47126672187272,93.47126672187272,93.47126672187272],\"type\":\"scatter\",\"xaxis\":\"x13\",\"yaxis\":\"y13\"},{\"hovertemplate\":\"%{text}\",\"legendgroup\":\"0.4\",\"marker\":{\"color\":\"blue\"},\"name\":\"dx=0.4\",\"showlegend\":false,\"text\":[\"<br>Git Hash: 19f9c461fbaf4206d48775c151116cff6d661369</br>\\n<br>Version: 2023.3.0</br>\\n<br>Timestamp 2023-04-12</br>\",\"<br>Git Hash: 00dae0a1bd0b7919dee6ba4d96a4cf63f8949b0c</br>\\n<br>Version: 2023.3.0</br>\\n<br>Timestamp 2023-04-12</br>\",\"<br>Git Hash: 7c99dbc59c2c38c7c192be00eac500546471bed0</br>\\n<br>Version: 2023.3.0</br>\\n<br>Timestamp 2023-04-12</br>\"],\"x\":[\"2023-04-12T20:33:32.537703\",\"2023-04-12T17:17:26.820219\",\"2023-04-12T09:53:31.010237\"],\"y\":[51.119339744528986,51.119339744528986,51.119339744528986],\"type\":\"scatter\",\"xaxis\":\"x14\",\"yaxis\":\"y14\"},{\"hovertemplate\":\"%{text}\",\"legendgroup\":\"0.4\",\"marker\":{\"color\":\"blue\"},\"name\":\"dx=0.4\",\"showlegend\":false,\"text\":[\"<br>Git Hash: 19f9c461fbaf4206d48775c151116cff6d661369</br>\\n<br>Version: 2023.3.0</br>\\n<br>Timestamp 2023-04-12</br>\",\"<br>Git Hash: 00dae0a1bd0b7919dee6ba4d96a4cf63f8949b0c</br>\\n<br>Version: 2023.3.0</br>\\n<br>Timestamp 2023-04-12</br>\",\"<br>Git Hash: 7c99dbc59c2c38c7c192be00eac500546471bed0</br>\\n<br>Version: 2023.3.0</br>\\n<br>Timestamp 2023-04-12</br>\"],\"x\":[\"2023-04-12T20:33:32.537703\",\"2023-04-12T17:17:26.820219\",\"2023-04-12T09:53:31.010237\"],\"y\":[-88.02163493446695,-88.02163493446695,-88.02163493446695],\"type\":\"scatter\",\"xaxis\":\"x15\",\"yaxis\":\"y15\"},{\"hovertemplate\":\"%{text}\",\"legendgroup\":\"0.4\",\"marker\":{\"color\":\"blue\"},\"name\":\"dx=0.4\",\"showlegend\":false,\"text\":[\"<br>Git Hash: 19f9c461fbaf4206d48775c151116cff6d661369</br>\\n<br>Version: 2023.3.0</br>\\n<br>Timestamp 2023-04-12</br>\",\"<br>Git Hash: 00dae0a1bd0b7919dee6ba4d96a4cf63f8949b0c</br>\\n<br>Version: 2023.3.0</br>\\n<br>Timestamp 2023-04-12</br>\",\"<br>Git Hash: 7c99dbc59c2c38c7c192be00eac500546471bed0</br>\\n<br>Version: 2023.3.0</br>\\n<br>Timestamp 2023-04-12</br>\"],\"x\":[\"2023-04-12T20:33:32.537703\",\"2023-04-12T17:17:26.820219\",\"2023-04-12T09:53:31.010237\"],\"y\":[18.018904243805178,18.018904243805178,18.018904243805178],\"type\":\"scatter\",\"xaxis\":\"x16\",\"yaxis\":\"y16\"},{\"hovertemplate\":\"%{text}\",\"legendgroup\":\"0.4\",\"marker\":{\"color\":\"blue\"},\"name\":\"dx=0.4\",\"showlegend\":false,\"text\":[\"<br>Git Hash: 19f9c461fbaf4206d48775c151116cff6d661369</br>\\n<br>Version: 2023.3.0</br>\\n<br>Timestamp 2023-04-12</br>\",\"<br>Git Hash: 00dae0a1bd0b7919dee6ba4d96a4cf63f8949b0c</br>\\n<br>Version: 2023.3.0</br>\\n<br>Timestamp 2023-04-12</br>\",\"<br>Git Hash: 7c99dbc59c2c38c7c192be00eac500546471bed0</br>\\n<br>Version: 2023.3.0</br>\\n<br>Timestamp 2023-04-12</br>\"],\"x\":[\"2023-04-12T20:33:32.537703\",\"2023-04-12T17:17:26.820219\",\"2023-04-12T09:53:31.010237\"],\"y\":[0.00026145398325637235,0.00026145398325637235,0.00026145398325637235],\"type\":\"scatter\",\"xaxis\":\"x17\",\"yaxis\":\"y17\"},{\"hovertemplate\":\"%{text}\",\"legendgroup\":\"0.4\",\"marker\":{\"color\":\"blue\"},\"name\":\"dx=0.4\",\"showlegend\":false,\"text\":[\"<br>Git Hash: 19f9c461fbaf4206d48775c151116cff6d661369</br>\\n<br>Version: 2023.3.0</br>\\n<br>Timestamp 2023-04-12</br>\",\"<br>Git Hash: 00dae0a1bd0b7919dee6ba4d96a4cf63f8949b0c</br>\\n<br>Version: 2023.3.0</br>\\n<br>Timestamp 2023-04-12</br>\",\"<br>Git Hash: 7c99dbc59c2c38c7c192be00eac500546471bed0</br>\\n<br>Version: 2023.3.0</br>\\n<br>Timestamp 2023-04-12</br>\"],\"x\":[\"2023-04-12T20:33:32.537703\",\"2023-04-12T17:17:26.820219\",\"2023-04-12T09:53:31.010237\"],\"y\":[0.00019411543172479968,0.00019411543172479968,0.00019411543172479968],\"type\":\"scatter\",\"xaxis\":\"x18\",\"yaxis\":\"y18\"},{\"hovertemplate\":\"%{text}\",\"legendgroup\":\"0.4\",\"marker\":{\"color\":\"blue\"},\"name\":\"dx=0.4\",\"showlegend\":false,\"text\":[\"<br>Git Hash: 19f9c461fbaf4206d48775c151116cff6d661369</br>\\n<br>Version: 2023.3.0</br>\\n<br>Timestamp 2023-04-12</br>\",\"<br>Git Hash: 00dae0a1bd0b7919dee6ba4d96a4cf63f8949b0c</br>\\n<br>Version: 2023.3.0</br>\\n<br>Timestamp 2023-04-12</br>\",\"<br>Git Hash: 7c99dbc59c2c38c7c192be00eac500546471bed0</br>\\n<br>Version: 2023.3.0</br>\\n<br>Timestamp 2023-04-12</br>\"],\"x\":[\"2023-04-12T20:33:32.537703\",\"2023-04-12T17:17:26.820219\",\"2023-04-12T09:53:31.010237\"],\"y\":[268.7757377053,268.7757377053,268.7757377053],\"type\":\"scatter\",\"xaxis\":\"x19\",\"yaxis\":\"y19\"},{\"hovertemplate\":\"%{text}\",\"legendgroup\":\"0.4\",\"marker\":{\"color\":\"blue\"},\"name\":\"dx=0.4\",\"showlegend\":false,\"text\":[\"<br>Git Hash: 19f9c461fbaf4206d48775c151116cff6d661369</br>\\n<br>Version: 2023.3.0</br>\\n<br>Timestamp 2023-04-12</br>\",\"<br>Git Hash: 00dae0a1bd0b7919dee6ba4d96a4cf63f8949b0c</br>\\n<br>Version: 2023.3.0</br>\\n<br>Timestamp 2023-04-12</br>\",\"<br>Git Hash: 7c99dbc59c2c38c7c192be00eac500546471bed0</br>\\n<br>Version: 2023.3.0</br>\\n<br>Timestamp 2023-04-12</br>\"],\"x\":[\"2023-04-12T20:33:32.537703\",\"2023-04-12T17:17:26.820219\",\"2023-04-12T09:53:31.010237\"],\"y\":[388.2781038876086,388.2781038876086,388.2781038876086],\"type\":\"scatter\",\"xaxis\":\"x20\",\"yaxis\":\"y20\"},{\"hovertemplate\":\"%{text}\",\"legendgroup\":\"0.4\",\"marker\":{\"color\":\"blue\"},\"name\":\"dx=0.4\",\"showlegend\":false,\"text\":[\"<br>Git Hash: 19f9c461fbaf4206d48775c151116cff6d661369</br>\\n<br>Version: 2023.3.0</br>\\n<br>Timestamp 2023-04-12</br>\",\"<br>Git Hash: 00dae0a1bd0b7919dee6ba4d96a4cf63f8949b0c</br>\\n<br>Version: 2023.3.0</br>\\n<br>Timestamp 2023-04-12</br>\",\"<br>Git Hash: 7c99dbc59c2c38c7c192be00eac500546471bed0</br>\\n<br>Version: 2023.3.0</br>\\n<br>Timestamp 2023-04-12</br>\"],\"x\":[\"2023-04-12T20:33:32.537703\",\"2023-04-12T17:17:26.820219\",\"2023-04-12T09:53:31.010237\"],\"y\":[469.9759357159506,469.9759357159506,469.9759357159506],\"type\":\"scatter\",\"xaxis\":\"x21\",\"yaxis\":\"y21\"},{\"hovertemplate\":\"%{text}\",\"legendgroup\":\"0.4\",\"marker\":{\"color\":\"blue\"},\"name\":\"dx=0.4\",\"showlegend\":false,\"text\":[\"<br>Git Hash: 19f9c461fbaf4206d48775c151116cff6d661369</br>\\n<br>Version: 2023.3.0</br>\\n<br>Timestamp 2023-04-12</br>\",\"<br>Git Hash: 00dae0a1bd0b7919dee6ba4d96a4cf63f8949b0c</br>\\n<br>Version: 2023.3.0</br>\\n<br>Timestamp 2023-04-12</br>\",\"<br>Git Hash: 7c99dbc59c2c38c7c192be00eac500546471bed0</br>\\n<br>Version: 2023.3.0</br>\\n<br>Timestamp 2023-04-12</br>\"],\"x\":[\"2023-04-12T20:33:32.537703\",\"2023-04-12T17:17:26.820219\",\"2023-04-12T09:53:31.010237\"],\"y\":[139.0,139.0,139.0],\"type\":\"scatter\",\"xaxis\":\"x22\",\"yaxis\":\"y22\"},{\"hovertemplate\":\"%{text}\",\"legendgroup\":\"0.4\",\"marker\":{\"color\":\"blue\"},\"name\":\"dx=0.4\",\"showlegend\":false,\"text\":[\"<br>Git Hash: 19f9c461fbaf4206d48775c151116cff6d661369</br>\\n<br>Version: 2023.3.0</br>\\n<br>Timestamp 2023-04-12</br>\",\"<br>Git Hash: 00dae0a1bd0b7919dee6ba4d96a4cf63f8949b0c</br>\\n<br>Version: 2023.3.0</br>\\n<br>Timestamp 2023-04-12</br>\",\"<br>Git Hash: 7c99dbc59c2c38c7c192be00eac500546471bed0</br>\\n<br>Version: 2023.3.0</br>\\n<br>Timestamp 2023-04-12</br>\"],\"x\":[\"2023-04-12T20:33:32.537703\",\"2023-04-12T17:17:26.820219\",\"2023-04-12T09:53:31.010237\"],\"y\":[149.11073528755747,149.11073528755747,149.11073528755747],\"type\":\"scatter\",\"xaxis\":\"x23\",\"yaxis\":\"y23\"},{\"hovertemplate\":\"%{text}\",\"legendgroup\":\"0.4\",\"marker\":{\"color\":\"blue\"},\"name\":\"dx=0.4\",\"showlegend\":false,\"text\":[\"<br>Git Hash: 19f9c461fbaf4206d48775c151116cff6d661369</br>\\n<br>Version: 2023.3.0</br>\\n<br>Timestamp 2023-04-12</br>\",\"<br>Git Hash: 00dae0a1bd0b7919dee6ba4d96a4cf63f8949b0c</br>\\n<br>Version: 2023.3.0</br>\\n<br>Timestamp 2023-04-12</br>\",\"<br>Git Hash: 7c99dbc59c2c38c7c192be00eac500546471bed0</br>\\n<br>Version: 2023.3.0</br>\\n<br>Timestamp 2023-04-12</br>\"],\"x\":[\"2023-04-12T20:33:32.537703\",\"2023-04-12T17:17:26.820219\",\"2023-04-12T09:53:31.010237\"],\"y\":[457.2204029861744,457.2204029861744,457.2204029861744],\"type\":\"scatter\",\"xaxis\":\"x24\",\"yaxis\":\"y24\"},{\"hovertemplate\":\"%{text}\",\"legendgroup\":\"0.4\",\"marker\":{\"color\":\"blue\"},\"name\":\"dx=0.4\",\"showlegend\":false,\"text\":[\"<br>Git Hash: 19f9c461fbaf4206d48775c151116cff6d661369</br>\\n<br>Version: 2023.3.0</br>\\n<br>Timestamp 2023-04-12</br>\",\"<br>Git Hash: 00dae0a1bd0b7919dee6ba4d96a4cf63f8949b0c</br>\\n<br>Version: 2023.3.0</br>\\n<br>Timestamp 2023-04-12</br>\",\"<br>Git Hash: 7c99dbc59c2c38c7c192be00eac500546471bed0</br>\\n<br>Version: 2023.3.0</br>\\n<br>Timestamp 2023-04-12</br>\"],\"x\":[\"2023-04-12T20:33:32.537703\",\"2023-04-12T17:17:26.820219\",\"2023-04-12T09:53:31.010237\"],\"y\":[1.0,1.0,1.0],\"type\":\"scatter\",\"xaxis\":\"x25\",\"yaxis\":\"y25\"},{\"hovertemplate\":\"%{text}\",\"legendgroup\":\"0.4\",\"marker\":{\"color\":\"blue\"},\"name\":\"dx=0.4\",\"showlegend\":false,\"text\":[\"<br>Git Hash: 19f9c461fbaf4206d48775c151116cff6d661369</br>\\n<br>Version: 2023.3.0</br>\\n<br>Timestamp 2023-04-12</br>\",\"<br>Git Hash: 00dae0a1bd0b7919dee6ba4d96a4cf63f8949b0c</br>\\n<br>Version: 2023.3.0</br>\\n<br>Timestamp 2023-04-12</br>\",\"<br>Git Hash: 7c99dbc59c2c38c7c192be00eac500546471bed0</br>\\n<br>Version: 2023.3.0</br>\\n<br>Timestamp 2023-04-12</br>\"],\"x\":[\"2023-04-12T20:33:32.537703\",\"2023-04-12T17:17:26.820219\",\"2023-04-12T09:53:31.010237\"],\"y\":[0.9027588573558657,0.9027588573558657,0.9027588573558657],\"type\":\"scatter\",\"xaxis\":\"x26\",\"yaxis\":\"y26\"},{\"hovertemplate\":\"%{text}\",\"legendgroup\":\"0.4\",\"marker\":{\"color\":\"blue\"},\"name\":\"dx=0.4\",\"showlegend\":false,\"text\":[\"<br>Git Hash: 19f9c461fbaf4206d48775c151116cff6d661369</br>\\n<br>Version: 2023.3.0</br>\\n<br>Timestamp 2023-04-12</br>\",\"<br>Git Hash: 00dae0a1bd0b7919dee6ba4d96a4cf63f8949b0c</br>\\n<br>Version: 2023.3.0</br>\\n<br>Timestamp 2023-04-12</br>\",\"<br>Git Hash: 7c99dbc59c2c38c7c192be00eac500546471bed0</br>\\n<br>Version: 2023.3.0</br>\\n<br>Timestamp 2023-04-12</br>\"],\"x\":[\"2023-04-12T20:33:32.537703\",\"2023-04-12T17:17:26.820219\",\"2023-04-12T09:53:31.010237\"],\"y\":[138.0,138.0,138.0],\"type\":\"scatter\",\"xaxis\":\"x27\",\"yaxis\":\"y27\"},{\"hovertemplate\":\"%{text}\",\"legendgroup\":\"0.4\",\"marker\":{\"color\":\"blue\"},\"name\":\"dx=0.4\",\"showlegend\":false,\"text\":[\"<br>Git Hash: 19f9c461fbaf4206d48775c151116cff6d661369</br>\\n<br>Version: 2023.3.0</br>\\n<br>Timestamp 2023-04-12</br>\",\"<br>Git Hash: 00dae0a1bd0b7919dee6ba4d96a4cf63f8949b0c</br>\\n<br>Version: 2023.3.0</br>\\n<br>Timestamp 2023-04-12</br>\",\"<br>Git Hash: 7c99dbc59c2c38c7c192be00eac500546471bed0</br>\\n<br>Version: 2023.3.0</br>\\n<br>Timestamp 2023-04-12</br>\"],\"x\":[\"2023-04-12T20:33:32.537703\",\"2023-04-12T17:17:26.820219\",\"2023-04-12T09:53:31.010237\"],\"y\":[272.44308777575327,272.44308777575327,272.44308777575327],\"type\":\"scatter\",\"xaxis\":\"x28\",\"yaxis\":\"y28\"},{\"hovertemplate\":\"%{text}\",\"legendgroup\":\"0.4\",\"marker\":{\"color\":\"blue\"},\"name\":\"dx=0.4\",\"showlegend\":false,\"text\":[\"<br>Git Hash: 19f9c461fbaf4206d48775c151116cff6d661369</br>\\n<br>Version: 2023.3.0</br>\\n<br>Timestamp 2023-04-12</br>\",\"<br>Git Hash: 00dae0a1bd0b7919dee6ba4d96a4cf63f8949b0c</br>\\n<br>Version: 2023.3.0</br>\\n<br>Timestamp 2023-04-12</br>\",\"<br>Git Hash: 7c99dbc59c2c38c7c192be00eac500546471bed0</br>\\n<br>Version: 2023.3.0</br>\\n<br>Timestamp 2023-04-12</br>\"],\"x\":[\"2023-04-12T20:33:32.537703\",\"2023-04-12T17:17:26.820219\",\"2023-04-12T09:53:31.010237\"],\"y\":[403.3232301910861,403.3232301910861,403.3232301910861],\"type\":\"scatter\",\"xaxis\":\"x29\",\"yaxis\":\"y29\"},{\"hovertemplate\":\"%{text}\",\"legendgroup\":\"0.4\",\"marker\":{\"color\":\"blue\"},\"name\":\"dx=0.4\",\"showlegend\":false,\"text\":[\"<br>Git Hash: 19f9c461fbaf4206d48775c151116cff6d661369</br>\\n<br>Version: 2023.3.0</br>\\n<br>Timestamp 2023-04-12</br>\",\"<br>Git Hash: 00dae0a1bd0b7919dee6ba4d96a4cf63f8949b0c</br>\\n<br>Version: 2023.3.0</br>\\n<br>Timestamp 2023-04-12</br>\",\"<br>Git Hash: 7c99dbc59c2c38c7c192be00eac500546471bed0</br>\\n<br>Version: 2023.3.0</br>\\n<br>Timestamp 2023-04-12</br>\"],\"x\":[\"2023-04-12T20:33:32.537703\",\"2023-04-12T17:17:26.820219\",\"2023-04-12T09:53:31.010237\"],\"y\":[520.6732880608782,520.6732880608782,520.6732880608782],\"type\":\"scatter\",\"xaxis\":\"x30\",\"yaxis\":\"y30\"},{\"hovertemplate\":\"%{text}\",\"legendgroup\":\"0.4\",\"marker\":{\"color\":\"blue\"},\"name\":\"dx=0.4\",\"showlegend\":false,\"text\":[\"<br>Git Hash: 19f9c461fbaf4206d48775c151116cff6d661369</br>\\n<br>Version: 2023.3.0</br>\\n<br>Timestamp 2023-04-12</br>\",\"<br>Git Hash: 00dae0a1bd0b7919dee6ba4d96a4cf63f8949b0c</br>\\n<br>Version: 2023.3.0</br>\\n<br>Timestamp 2023-04-12</br>\",\"<br>Git Hash: 7c99dbc59c2c38c7c192be00eac500546471bed0</br>\\n<br>Version: 2023.3.0</br>\\n<br>Timestamp 2023-04-12</br>\"],\"x\":[\"2023-04-12T20:33:32.537703\",\"2023-04-12T17:17:26.820219\",\"2023-04-12T09:53:31.010237\"],\"y\":[193.27237214888277,193.27237214888277,193.27237214888277],\"type\":\"scatter\",\"xaxis\":\"x31\",\"yaxis\":\"y31\"},{\"hovertemplate\":\"%{text}\",\"legendgroup\":\"0.4\",\"marker\":{\"color\":\"blue\"},\"name\":\"dx=0.4\",\"showlegend\":false,\"text\":[\"<br>Git Hash: 19f9c461fbaf4206d48775c151116cff6d661369</br>\\n<br>Version: 2023.3.0</br>\\n<br>Timestamp 2023-04-12</br>\",\"<br>Git Hash: 00dae0a1bd0b7919dee6ba4d96a4cf63f8949b0c</br>\\n<br>Version: 2023.3.0</br>\\n<br>Timestamp 2023-04-12</br>\",\"<br>Git Hash: 7c99dbc59c2c38c7c192be00eac500546471bed0</br>\\n<br>Version: 2023.3.0</br>\\n<br>Timestamp 2023-04-12</br>\"],\"x\":[\"2023-04-12T20:33:32.537703\",\"2023-04-12T17:17:26.820219\",\"2023-04-12T09:53:31.010237\"],\"y\":[-108.48541463355491,-108.48541463355491,-108.48541463355491],\"type\":\"scatter\",\"xaxis\":\"x32\",\"yaxis\":\"y32\"},{\"hovertemplate\":\"%{text}\",\"legendgroup\":\"0.4\",\"marker\":{\"color\":\"blue\"},\"name\":\"dx=0.4\",\"showlegend\":false,\"text\":[\"<br>Git Hash: 19f9c461fbaf4206d48775c151116cff6d661369</br>\\n<br>Version: 2023.3.0</br>\\n<br>Timestamp 2023-04-12</br>\",\"<br>Git Hash: 00dae0a1bd0b7919dee6ba4d96a4cf63f8949b0c</br>\\n<br>Version: 2023.3.0</br>\\n<br>Timestamp 2023-04-12</br>\",\"<br>Git Hash: 7c99dbc59c2c38c7c192be00eac500546471bed0</br>\\n<br>Version: 2023.3.0</br>\\n<br>Timestamp 2023-04-12</br>\"],\"x\":[\"2023-04-12T20:33:32.537703\",\"2023-04-12T17:17:26.820219\",\"2023-04-12T09:53:31.010237\"],\"y\":[0.16828491205706192,0.16828491205706192,0.16828491205706192],\"type\":\"scatter\",\"xaxis\":\"x33\",\"yaxis\":\"y33\"},{\"hovertemplate\":\"%{text}\",\"legendgroup\":\"0.4\",\"marker\":{\"color\":\"blue\"},\"name\":\"dx=0.4\",\"showlegend\":false,\"text\":[\"<br>Git Hash: 19f9c461fbaf4206d48775c151116cff6d661369</br>\\n<br>Version: 2023.3.0</br>\\n<br>Timestamp 2023-04-12</br>\",\"<br>Git Hash: 00dae0a1bd0b7919dee6ba4d96a4cf63f8949b0c</br>\\n<br>Version: 2023.3.0</br>\\n<br>Timestamp 2023-04-12</br>\",\"<br>Git Hash: 7c99dbc59c2c38c7c192be00eac500546471bed0</br>\\n<br>Version: 2023.3.0</br>\\n<br>Timestamp 2023-04-12</br>\"],\"x\":[\"2023-04-12T20:33:32.537703\",\"2023-04-12T17:17:26.820219\",\"2023-04-12T09:53:31.010237\"],\"y\":[0.16828491205706192,0.16828491205706192,0.16828491205706192],\"type\":\"scatter\",\"xaxis\":\"x34\",\"yaxis\":\"y34\"},{\"hovertemplate\":\"%{text}\",\"legendgroup\":\"0.4\",\"marker\":{\"color\":\"blue\"},\"name\":\"dx=0.4\",\"showlegend\":false,\"text\":[\"<br>Git Hash: 19f9c461fbaf4206d48775c151116cff6d661369</br>\\n<br>Version: 2023.3.0</br>\\n<br>Timestamp 2023-04-12</br>\",\"<br>Git Hash: 00dae0a1bd0b7919dee6ba4d96a4cf63f8949b0c</br>\\n<br>Version: 2023.3.0</br>\\n<br>Timestamp 2023-04-12</br>\",\"<br>Git Hash: 7c99dbc59c2c38c7c192be00eac500546471bed0</br>\\n<br>Version: 2023.3.0</br>\\n<br>Timestamp 2023-04-12</br>\"],\"x\":[\"2023-04-12T20:33:32.537703\",\"2023-04-12T17:17:26.820219\",\"2023-04-12T09:53:31.010237\"],\"y\":[0.8414245602853097,0.8414245602853097,0.8414245602853097],\"type\":\"scatter\",\"xaxis\":\"x35\",\"yaxis\":\"y35\"},{\"hovertemplate\":\"%{text}\",\"legendgroup\":\"0.4\",\"marker\":{\"color\":\"blue\"},\"name\":\"dx=0.4\",\"showlegend\":false,\"text\":[\"<br>Git Hash: 19f9c461fbaf4206d48775c151116cff6d661369</br>\\n<br>Version: 2023.3.0</br>\\n<br>Timestamp 2023-04-12</br>\",\"<br>Git Hash: 00dae0a1bd0b7919dee6ba4d96a4cf63f8949b0c</br>\\n<br>Version: 2023.3.0</br>\\n<br>Timestamp 2023-04-12</br>\",\"<br>Git Hash: 7c99dbc59c2c38c7c192be00eac500546471bed0</br>\\n<br>Version: 2023.3.0</br>\\n<br>Timestamp 2023-04-12</br>\"],\"x\":[\"2023-04-12T20:33:32.537703\",\"2023-04-12T17:17:26.820219\",\"2023-04-12T09:53:31.010237\"],\"y\":[0.8485645911652587,0.8485645911652587,0.8485645911652587],\"type\":\"scatter\",\"xaxis\":\"x36\",\"yaxis\":\"y36\"},{\"hovertemplate\":\"%{text}\",\"legendgroup\":\"0.4\",\"marker\":{\"color\":\"blue\"},\"name\":\"dx=0.4\",\"showlegend\":false,\"text\":[\"<br>Git Hash: 19f9c461fbaf4206d48775c151116cff6d661369</br>\\n<br>Version: 2023.3.0</br>\\n<br>Timestamp 2023-04-12</br>\",\"<br>Git Hash: 00dae0a1bd0b7919dee6ba4d96a4cf63f8949b0c</br>\\n<br>Version: 2023.3.0</br>\\n<br>Timestamp 2023-04-12</br>\",\"<br>Git Hash: 7c99dbc59c2c38c7c192be00eac500546471bed0</br>\\n<br>Version: 2023.3.0</br>\\n<br>Timestamp 2023-04-12</br>\"],\"x\":[\"2023-04-12T20:33:32.537703\",\"2023-04-12T17:17:26.820219\",\"2023-04-12T09:53:31.010237\"],\"y\":[0.05,0.05,0.05],\"type\":\"scatter\",\"xaxis\":\"x37\",\"yaxis\":\"y37\"},{\"hovertemplate\":\"%{text}\",\"legendgroup\":\"0.4\",\"marker\":{\"color\":\"blue\"},\"name\":\"dx=0.4\",\"showlegend\":false,\"text\":[\"<br>Git Hash: 19f9c461fbaf4206d48775c151116cff6d661369</br>\\n<br>Version: 2023.3.0</br>\\n<br>Timestamp 2023-04-12</br>\",\"<br>Git Hash: 00dae0a1bd0b7919dee6ba4d96a4cf63f8949b0c</br>\\n<br>Version: 2023.3.0</br>\\n<br>Timestamp 2023-04-12</br>\",\"<br>Git Hash: 7c99dbc59c2c38c7c192be00eac500546471bed0</br>\\n<br>Version: 2023.3.0</br>\\n<br>Timestamp 2023-04-12</br>\"],\"x\":[\"2023-04-12T20:33:32.537703\",\"2023-04-12T17:17:26.820219\",\"2023-04-12T09:53:31.010237\"],\"y\":[0.09715933927669719,0.09715933927669719,0.09715933927669719],\"type\":\"scatter\",\"xaxis\":\"x38\",\"yaxis\":\"y38\"},{\"hovertemplate\":\"%{text}\",\"legendgroup\":\"0.4\",\"marker\":{\"color\":\"blue\"},\"name\":\"dx=0.4\",\"showlegend\":false,\"text\":[\"<br>Git Hash: 19f9c461fbaf4206d48775c151116cff6d661369</br>\\n<br>Version: 2023.3.0</br>\\n<br>Timestamp 2023-04-12</br>\",\"<br>Git Hash: 00dae0a1bd0b7919dee6ba4d96a4cf63f8949b0c</br>\\n<br>Version: 2023.3.0</br>\\n<br>Timestamp 2023-04-12</br>\",\"<br>Git Hash: 7c99dbc59c2c38c7c192be00eac500546471bed0</br>\\n<br>Version: 2023.3.0</br>\\n<br>Timestamp 2023-04-12</br>\"],\"x\":[\"2023-04-12T20:33:32.537703\",\"2023-04-12T17:17:26.820219\",\"2023-04-12T09:53:31.010237\"],\"y\":[0.09715933927669719,0.09715933927669719,0.09715933927669719],\"type\":\"scatter\",\"xaxis\":\"x39\",\"yaxis\":\"y39\"},{\"hovertemplate\":\"%{text}\",\"legendgroup\":\"0.4\",\"marker\":{\"color\":\"blue\"},\"name\":\"dx=0.4\",\"showlegend\":false,\"text\":[\"<br>Git Hash: 19f9c461fbaf4206d48775c151116cff6d661369</br>\\n<br>Version: 2023.3.0</br>\\n<br>Timestamp 2023-04-12</br>\",\"<br>Git Hash: 00dae0a1bd0b7919dee6ba4d96a4cf63f8949b0c</br>\\n<br>Version: 2023.3.0</br>\\n<br>Timestamp 2023-04-12</br>\",\"<br>Git Hash: 7c99dbc59c2c38c7c192be00eac500546471bed0</br>\\n<br>Version: 2023.3.0</br>\\n<br>Timestamp 2023-04-12</br>\"],\"x\":[\"2023-04-12T20:33:32.537703\",\"2023-04-12T17:17:26.820219\",\"2023-04-12T09:53:31.010237\"],\"y\":[0.48579669638348594,0.48579669638348594,0.48579669638348594],\"type\":\"scatter\",\"xaxis\":\"x40\",\"yaxis\":\"y40\"},{\"hovertemplate\":\"%{text}\",\"legendgroup\":\"0.4\",\"marker\":{\"color\":\"blue\"},\"name\":\"dx=0.4\",\"showlegend\":false,\"text\":[\"<br>Git Hash: 19f9c461fbaf4206d48775c151116cff6d661369</br>\\n<br>Version: 2023.3.0</br>\\n<br>Timestamp 2023-04-12</br>\",\"<br>Git Hash: 00dae0a1bd0b7919dee6ba4d96a4cf63f8949b0c</br>\\n<br>Version: 2023.3.0</br>\\n<br>Timestamp 2023-04-12</br>\",\"<br>Git Hash: 7c99dbc59c2c38c7c192be00eac500546471bed0</br>\\n<br>Version: 2023.3.0</br>\\n<br>Timestamp 2023-04-12</br>\"],\"x\":[\"2023-04-12T20:33:32.537703\",\"2023-04-12T17:17:26.820219\",\"2023-04-12T09:53:31.010237\"],\"y\":[0.48816820137857775,0.48816820137857775,0.48816820137857775],\"type\":\"scatter\",\"xaxis\":\"x41\",\"yaxis\":\"y41\"},{\"hovertemplate\":\"%{text}\",\"legendgroup\":\"0.4\",\"marker\":{\"color\":\"blue\"},\"name\":\"dx=0.4\",\"showlegend\":false,\"text\":[\"<br>Git Hash: 19f9c461fbaf4206d48775c151116cff6d661369</br>\\n<br>Version: 2023.3.0</br>\\n<br>Timestamp 2023-04-12</br>\",\"<br>Git Hash: 00dae0a1bd0b7919dee6ba4d96a4cf63f8949b0c</br>\\n<br>Version: 2023.3.0</br>\\n<br>Timestamp 2023-04-12</br>\",\"<br>Git Hash: 7c99dbc59c2c38c7c192be00eac500546471bed0</br>\\n<br>Version: 2023.3.0</br>\\n<br>Timestamp 2023-04-12</br>\"],\"x\":[\"2023-04-12T20:33:32.537703\",\"2023-04-12T17:17:26.820219\",\"2023-04-12T09:53:31.010237\"],\"y\":[0.05,0.05,0.05],\"type\":\"scatter\",\"xaxis\":\"x42\",\"yaxis\":\"y42\"},{\"hovertemplate\":\"%{text}\",\"legendgroup\":\"0.4\",\"marker\":{\"color\":\"blue\"},\"name\":\"dx=0.4\",\"showlegend\":false,\"text\":[\"<br>Git Hash: 19f9c461fbaf4206d48775c151116cff6d661369</br>\\n<br>Version: 2023.3.0</br>\\n<br>Timestamp 2023-04-12</br>\",\"<br>Git Hash: 00dae0a1bd0b7919dee6ba4d96a4cf63f8949b0c</br>\\n<br>Version: 2023.3.0</br>\\n<br>Timestamp 2023-04-12</br>\",\"<br>Git Hash: 7c99dbc59c2c38c7c192be00eac500546471bed0</br>\\n<br>Version: 2023.3.0</br>\\n<br>Timestamp 2023-04-12</br>\"],\"x\":[\"2023-04-12T20:33:32.537703\",\"2023-04-12T17:17:26.820219\",\"2023-04-12T09:53:31.010237\"],\"y\":[0.09715933927669719,0.09715933927669719,0.09715933927669719],\"type\":\"scatter\",\"xaxis\":\"x43\",\"yaxis\":\"y43\"},{\"hovertemplate\":\"%{text}\",\"legendgroup\":\"0.4\",\"marker\":{\"color\":\"blue\"},\"name\":\"dx=0.4\",\"showlegend\":false,\"text\":[\"<br>Git Hash: 19f9c461fbaf4206d48775c151116cff6d661369</br>\\n<br>Version: 2023.3.0</br>\\n<br>Timestamp 2023-04-12</br>\",\"<br>Git Hash: 00dae0a1bd0b7919dee6ba4d96a4cf63f8949b0c</br>\\n<br>Version: 2023.3.0</br>\\n<br>Timestamp 2023-04-12</br>\",\"<br>Git Hash: 7c99dbc59c2c38c7c192be00eac500546471bed0</br>\\n<br>Version: 2023.3.0</br>\\n<br>Timestamp 2023-04-12</br>\"],\"x\":[\"2023-04-12T20:33:32.537703\",\"2023-04-12T17:17:26.820219\",\"2023-04-12T09:53:31.010237\"],\"y\":[0.09715933927669719,0.09715933927669719,0.09715933927669719],\"type\":\"scatter\",\"xaxis\":\"x44\",\"yaxis\":\"y44\"},{\"hovertemplate\":\"%{text}\",\"legendgroup\":\"0.4\",\"marker\":{\"color\":\"blue\"},\"name\":\"dx=0.4\",\"showlegend\":false,\"text\":[\"<br>Git Hash: 19f9c461fbaf4206d48775c151116cff6d661369</br>\\n<br>Version: 2023.3.0</br>\\n<br>Timestamp 2023-04-12</br>\",\"<br>Git Hash: 00dae0a1bd0b7919dee6ba4d96a4cf63f8949b0c</br>\\n<br>Version: 2023.3.0</br>\\n<br>Timestamp 2023-04-12</br>\",\"<br>Git Hash: 7c99dbc59c2c38c7c192be00eac500546471bed0</br>\\n<br>Version: 2023.3.0</br>\\n<br>Timestamp 2023-04-12</br>\"],\"x\":[\"2023-04-12T20:33:32.537703\",\"2023-04-12T17:17:26.820219\",\"2023-04-12T09:53:31.010237\"],\"y\":[0.48579669638348594,0.48579669638348594,0.48579669638348594],\"type\":\"scatter\",\"xaxis\":\"x45\",\"yaxis\":\"y45\"},{\"hovertemplate\":\"%{text}\",\"legendgroup\":\"0.4\",\"marker\":{\"color\":\"blue\"},\"name\":\"dx=0.4\",\"showlegend\":false,\"text\":[\"<br>Git Hash: 19f9c461fbaf4206d48775c151116cff6d661369</br>\\n<br>Version: 2023.3.0</br>\\n<br>Timestamp 2023-04-12</br>\",\"<br>Git Hash: 00dae0a1bd0b7919dee6ba4d96a4cf63f8949b0c</br>\\n<br>Version: 2023.3.0</br>\\n<br>Timestamp 2023-04-12</br>\",\"<br>Git Hash: 7c99dbc59c2c38c7c192be00eac500546471bed0</br>\\n<br>Version: 2023.3.0</br>\\n<br>Timestamp 2023-04-12</br>\"],\"x\":[\"2023-04-12T20:33:32.537703\",\"2023-04-12T17:17:26.820219\",\"2023-04-12T09:53:31.010237\"],\"y\":[0.48816820137857775,0.48816820137857775,0.48816820137857775],\"type\":\"scatter\",\"xaxis\":\"x46\",\"yaxis\":\"y46\"},{\"hovertemplate\":\"%{text}\",\"legendgroup\":\"0.4\",\"marker\":{\"color\":\"blue\"},\"name\":\"dx=0.4\",\"showlegend\":false,\"text\":[\"<br>Git Hash: 19f9c461fbaf4206d48775c151116cff6d661369</br>\\n<br>Version: 2023.3.0</br>\\n<br>Timestamp 2023-04-12</br>\",\"<br>Git Hash: 00dae0a1bd0b7919dee6ba4d96a4cf63f8949b0c</br>\\n<br>Version: 2023.3.0</br>\\n<br>Timestamp 2023-04-12</br>\",\"<br>Git Hash: 7c99dbc59c2c38c7c192be00eac500546471bed0</br>\\n<br>Version: 2023.3.0</br>\\n<br>Timestamp 2023-04-12</br>\"],\"x\":[\"2023-04-12T20:33:32.537703\",\"2023-04-12T17:17:26.820219\",\"2023-04-12T09:53:31.010237\"],\"y\":[0.05,0.05,0.05],\"type\":\"scatter\",\"xaxis\":\"x47\",\"yaxis\":\"y47\"},{\"hovertemplate\":\"%{text}\",\"legendgroup\":\"0.4\",\"marker\":{\"color\":\"blue\"},\"name\":\"dx=0.4\",\"showlegend\":false,\"text\":[\"<br>Git Hash: 19f9c461fbaf4206d48775c151116cff6d661369</br>\\n<br>Version: 2023.3.0</br>\\n<br>Timestamp 2023-04-12</br>\",\"<br>Git Hash: 00dae0a1bd0b7919dee6ba4d96a4cf63f8949b0c</br>\\n<br>Version: 2023.3.0</br>\\n<br>Timestamp 2023-04-12</br>\",\"<br>Git Hash: 7c99dbc59c2c38c7c192be00eac500546471bed0</br>\\n<br>Version: 2023.3.0</br>\\n<br>Timestamp 2023-04-12</br>\"],\"x\":[\"2023-04-12T20:33:32.537703\",\"2023-04-12T17:17:26.820219\",\"2023-04-12T09:53:31.010237\"],\"y\":[0.09715933927669719,0.09715933927669719,0.09715933927669719],\"type\":\"scatter\",\"xaxis\":\"x48\",\"yaxis\":\"y48\"},{\"hovertemplate\":\"%{text}\",\"legendgroup\":\"0.4\",\"marker\":{\"color\":\"blue\"},\"name\":\"dx=0.4\",\"showlegend\":false,\"text\":[\"<br>Git Hash: 19f9c461fbaf4206d48775c151116cff6d661369</br>\\n<br>Version: 2023.3.0</br>\\n<br>Timestamp 2023-04-12</br>\",\"<br>Git Hash: 00dae0a1bd0b7919dee6ba4d96a4cf63f8949b0c</br>\\n<br>Version: 2023.3.0</br>\\n<br>Timestamp 2023-04-12</br>\",\"<br>Git Hash: 7c99dbc59c2c38c7c192be00eac500546471bed0</br>\\n<br>Version: 2023.3.0</br>\\n<br>Timestamp 2023-04-12</br>\"],\"x\":[\"2023-04-12T20:33:32.537703\",\"2023-04-12T17:17:26.820219\",\"2023-04-12T09:53:31.010237\"],\"y\":[0.09715933927669719,0.09715933927669719,0.09715933927669719],\"type\":\"scatter\",\"xaxis\":\"x49\",\"yaxis\":\"y49\"},{\"hovertemplate\":\"%{text}\",\"legendgroup\":\"0.4\",\"marker\":{\"color\":\"blue\"},\"name\":\"dx=0.4\",\"showlegend\":false,\"text\":[\"<br>Git Hash: 19f9c461fbaf4206d48775c151116cff6d661369</br>\\n<br>Version: 2023.3.0</br>\\n<br>Timestamp 2023-04-12</br>\",\"<br>Git Hash: 00dae0a1bd0b7919dee6ba4d96a4cf63f8949b0c</br>\\n<br>Version: 2023.3.0</br>\\n<br>Timestamp 2023-04-12</br>\",\"<br>Git Hash: 7c99dbc59c2c38c7c192be00eac500546471bed0</br>\\n<br>Version: 2023.3.0</br>\\n<br>Timestamp 2023-04-12</br>\"],\"x\":[\"2023-04-12T20:33:32.537703\",\"2023-04-12T17:17:26.820219\",\"2023-04-12T09:53:31.010237\"],\"y\":[0.48579669638348594,0.48579669638348594,0.48579669638348594],\"type\":\"scatter\",\"xaxis\":\"x50\",\"yaxis\":\"y50\"},{\"hovertemplate\":\"%{text}\",\"legendgroup\":\"0.4\",\"marker\":{\"color\":\"blue\"},\"name\":\"dx=0.4\",\"showlegend\":false,\"text\":[\"<br>Git Hash: 19f9c461fbaf4206d48775c151116cff6d661369</br>\\n<br>Version: 2023.3.0</br>\\n<br>Timestamp 2023-04-12</br>\",\"<br>Git Hash: 00dae0a1bd0b7919dee6ba4d96a4cf63f8949b0c</br>\\n<br>Version: 2023.3.0</br>\\n<br>Timestamp 2023-04-12</br>\",\"<br>Git Hash: 7c99dbc59c2c38c7c192be00eac500546471bed0</br>\\n<br>Version: 2023.3.0</br>\\n<br>Timestamp 2023-04-12</br>\"],\"x\":[\"2023-04-12T20:33:32.537703\",\"2023-04-12T17:17:26.820219\",\"2023-04-12T09:53:31.010237\"],\"y\":[0.48816820137857775,0.48816820137857775,0.48816820137857775],\"type\":\"scatter\",\"xaxis\":\"x51\",\"yaxis\":\"y51\"},{\"hovertemplate\":\"%{text}\",\"legendgroup\":\"0.4\",\"marker\":{\"color\":\"blue\"},\"name\":\"dx=0.4\",\"showlegend\":false,\"text\":[\"<br>Git Hash: 19f9c461fbaf4206d48775c151116cff6d661369</br>\\n<br>Version: 2023.3.0</br>\\n<br>Timestamp 2023-04-12</br>\",\"<br>Git Hash: 00dae0a1bd0b7919dee6ba4d96a4cf63f8949b0c</br>\\n<br>Version: 2023.3.0</br>\\n<br>Timestamp 2023-04-12</br>\",\"<br>Git Hash: 7c99dbc59c2c38c7c192be00eac500546471bed0</br>\\n<br>Version: 2023.3.0</br>\\n<br>Timestamp 2023-04-12</br>\"],\"x\":[\"2023-04-12T20:33:32.537703\",\"2023-04-12T17:17:26.820219\",\"2023-04-12T09:53:31.010237\"],\"y\":[0.05,0.05,0.05],\"type\":\"scatter\",\"xaxis\":\"x52\",\"yaxis\":\"y52\"}],                        {\"template\":{\"data\":{\"histogram2dcontour\":[{\"type\":\"histogram2dcontour\",\"colorbar\":{\"outlinewidth\":0,\"ticks\":\"\"},\"colorscale\":[[0.0,\"#0d0887\"],[0.1111111111111111,\"#46039f\"],[0.2222222222222222,\"#7201a8\"],[0.3333333333333333,\"#9c179e\"],[0.4444444444444444,\"#bd3786\"],[0.5555555555555556,\"#d8576b\"],[0.6666666666666666,\"#ed7953\"],[0.7777777777777778,\"#fb9f3a\"],[0.8888888888888888,\"#fdca26\"],[1.0,\"#f0f921\"]]}],\"choropleth\":[{\"type\":\"choropleth\",\"colorbar\":{\"outlinewidth\":0,\"ticks\":\"\"}}],\"histogram2d\":[{\"type\":\"histogram2d\",\"colorbar\":{\"outlinewidth\":0,\"ticks\":\"\"},\"colorscale\":[[0.0,\"#0d0887\"],[0.1111111111111111,\"#46039f\"],[0.2222222222222222,\"#7201a8\"],[0.3333333333333333,\"#9c179e\"],[0.4444444444444444,\"#bd3786\"],[0.5555555555555556,\"#d8576b\"],[0.6666666666666666,\"#ed7953\"],[0.7777777777777778,\"#fb9f3a\"],[0.8888888888888888,\"#fdca26\"],[1.0,\"#f0f921\"]]}],\"heatmap\":[{\"type\":\"heatmap\",\"colorbar\":{\"outlinewidth\":0,\"ticks\":\"\"},\"colorscale\":[[0.0,\"#0d0887\"],[0.1111111111111111,\"#46039f\"],[0.2222222222222222,\"#7201a8\"],[0.3333333333333333,\"#9c179e\"],[0.4444444444444444,\"#bd3786\"],[0.5555555555555556,\"#d8576b\"],[0.6666666666666666,\"#ed7953\"],[0.7777777777777778,\"#fb9f3a\"],[0.8888888888888888,\"#fdca26\"],[1.0,\"#f0f921\"]]}],\"heatmapgl\":[{\"type\":\"heatmapgl\",\"colorbar\":{\"outlinewidth\":0,\"ticks\":\"\"},\"colorscale\":[[0.0,\"#0d0887\"],[0.1111111111111111,\"#46039f\"],[0.2222222222222222,\"#7201a8\"],[0.3333333333333333,\"#9c179e\"],[0.4444444444444444,\"#bd3786\"],[0.5555555555555556,\"#d8576b\"],[0.6666666666666666,\"#ed7953\"],[0.7777777777777778,\"#fb9f3a\"],[0.8888888888888888,\"#fdca26\"],[1.0,\"#f0f921\"]]}],\"contourcarpet\":[{\"type\":\"contourcarpet\",\"colorbar\":{\"outlinewidth\":0,\"ticks\":\"\"}}],\"contour\":[{\"type\":\"contour\",\"colorbar\":{\"outlinewidth\":0,\"ticks\":\"\"},\"colorscale\":[[0.0,\"#0d0887\"],[0.1111111111111111,\"#46039f\"],[0.2222222222222222,\"#7201a8\"],[0.3333333333333333,\"#9c179e\"],[0.4444444444444444,\"#bd3786\"],[0.5555555555555556,\"#d8576b\"],[0.6666666666666666,\"#ed7953\"],[0.7777777777777778,\"#fb9f3a\"],[0.8888888888888888,\"#fdca26\"],[1.0,\"#f0f921\"]]}],\"surface\":[{\"type\":\"surface\",\"colorbar\":{\"outlinewidth\":0,\"ticks\":\"\"},\"colorscale\":[[0.0,\"#0d0887\"],[0.1111111111111111,\"#46039f\"],[0.2222222222222222,\"#7201a8\"],[0.3333333333333333,\"#9c179e\"],[0.4444444444444444,\"#bd3786\"],[0.5555555555555556,\"#d8576b\"],[0.6666666666666666,\"#ed7953\"],[0.7777777777777778,\"#fb9f3a\"],[0.8888888888888888,\"#fdca26\"],[1.0,\"#f0f921\"]]}],\"mesh3d\":[{\"type\":\"mesh3d\",\"colorbar\":{\"outlinewidth\":0,\"ticks\":\"\"}}],\"scatter\":[{\"fillpattern\":{\"fillmode\":\"overlay\",\"size\":10,\"solidity\":0.2},\"type\":\"scatter\"}],\"parcoords\":[{\"type\":\"parcoords\",\"line\":{\"colorbar\":{\"outlinewidth\":0,\"ticks\":\"\"}}}],\"scatterpolargl\":[{\"type\":\"scatterpolargl\",\"marker\":{\"colorbar\":{\"outlinewidth\":0,\"ticks\":\"\"}}}],\"bar\":[{\"error_x\":{\"color\":\"#2a3f5f\"},\"error_y\":{\"color\":\"#2a3f5f\"},\"marker\":{\"line\":{\"color\":\"#E5ECF6\",\"width\":0.5},\"pattern\":{\"fillmode\":\"overlay\",\"size\":10,\"solidity\":0.2}},\"type\":\"bar\"}],\"scattergeo\":[{\"type\":\"scattergeo\",\"marker\":{\"colorbar\":{\"outlinewidth\":0,\"ticks\":\"\"}}}],\"scatterpolar\":[{\"type\":\"scatterpolar\",\"marker\":{\"colorbar\":{\"outlinewidth\":0,\"ticks\":\"\"}}}],\"histogram\":[{\"marker\":{\"pattern\":{\"fillmode\":\"overlay\",\"size\":10,\"solidity\":0.2}},\"type\":\"histogram\"}],\"scattergl\":[{\"type\":\"scattergl\",\"marker\":{\"colorbar\":{\"outlinewidth\":0,\"ticks\":\"\"}}}],\"scatter3d\":[{\"type\":\"scatter3d\",\"line\":{\"colorbar\":{\"outlinewidth\":0,\"ticks\":\"\"}},\"marker\":{\"colorbar\":{\"outlinewidth\":0,\"ticks\":\"\"}}}],\"scattermapbox\":[{\"type\":\"scattermapbox\",\"marker\":{\"colorbar\":{\"outlinewidth\":0,\"ticks\":\"\"}}}],\"scatterternary\":[{\"type\":\"scatterternary\",\"marker\":{\"colorbar\":{\"outlinewidth\":0,\"ticks\":\"\"}}}],\"scattercarpet\":[{\"type\":\"scattercarpet\",\"marker\":{\"colorbar\":{\"outlinewidth\":0,\"ticks\":\"\"}}}],\"carpet\":[{\"aaxis\":{\"endlinecolor\":\"#2a3f5f\",\"gridcolor\":\"white\",\"linecolor\":\"white\",\"minorgridcolor\":\"white\",\"startlinecolor\":\"#2a3f5f\"},\"baxis\":{\"endlinecolor\":\"#2a3f5f\",\"gridcolor\":\"white\",\"linecolor\":\"white\",\"minorgridcolor\":\"white\",\"startlinecolor\":\"#2a3f5f\"},\"type\":\"carpet\"}],\"table\":[{\"cells\":{\"fill\":{\"color\":\"#EBF0F8\"},\"line\":{\"color\":\"white\"}},\"header\":{\"fill\":{\"color\":\"#C8D4E3\"},\"line\":{\"color\":\"white\"}},\"type\":\"table\"}],\"barpolar\":[{\"marker\":{\"line\":{\"color\":\"#E5ECF6\",\"width\":0.5},\"pattern\":{\"fillmode\":\"overlay\",\"size\":10,\"solidity\":0.2}},\"type\":\"barpolar\"}],\"pie\":[{\"automargin\":true,\"type\":\"pie\"}]},\"layout\":{\"autotypenumbers\":\"strict\",\"colorway\":[\"#636efa\",\"#EF553B\",\"#00cc96\",\"#ab63fa\",\"#FFA15A\",\"#19d3f3\",\"#FF6692\",\"#B6E880\",\"#FF97FF\",\"#FECB52\"],\"font\":{\"color\":\"#2a3f5f\"},\"hovermode\":\"closest\",\"hoverlabel\":{\"align\":\"left\"},\"paper_bgcolor\":\"white\",\"plot_bgcolor\":\"#E5ECF6\",\"polar\":{\"bgcolor\":\"#E5ECF6\",\"angularaxis\":{\"gridcolor\":\"white\",\"linecolor\":\"white\",\"ticks\":\"\"},\"radialaxis\":{\"gridcolor\":\"white\",\"linecolor\":\"white\",\"ticks\":\"\"}},\"ternary\":{\"bgcolor\":\"#E5ECF6\",\"aaxis\":{\"gridcolor\":\"white\",\"linecolor\":\"white\",\"ticks\":\"\"},\"baxis\":{\"gridcolor\":\"white\",\"linecolor\":\"white\",\"ticks\":\"\"},\"caxis\":{\"gridcolor\":\"white\",\"linecolor\":\"white\",\"ticks\":\"\"}},\"coloraxis\":{\"colorbar\":{\"outlinewidth\":0,\"ticks\":\"\"}},\"colorscale\":{\"sequential\":[[0.0,\"#0d0887\"],[0.1111111111111111,\"#46039f\"],[0.2222222222222222,\"#7201a8\"],[0.3333333333333333,\"#9c179e\"],[0.4444444444444444,\"#bd3786\"],[0.5555555555555556,\"#d8576b\"],[0.6666666666666666,\"#ed7953\"],[0.7777777777777778,\"#fb9f3a\"],[0.8888888888888888,\"#fdca26\"],[1.0,\"#f0f921\"]],\"sequentialminus\":[[0.0,\"#0d0887\"],[0.1111111111111111,\"#46039f\"],[0.2222222222222222,\"#7201a8\"],[0.3333333333333333,\"#9c179e\"],[0.4444444444444444,\"#bd3786\"],[0.5555555555555556,\"#d8576b\"],[0.6666666666666666,\"#ed7953\"],[0.7777777777777778,\"#fb9f3a\"],[0.8888888888888888,\"#fdca26\"],[1.0,\"#f0f921\"]],\"diverging\":[[0,\"#8e0152\"],[0.1,\"#c51b7d\"],[0.2,\"#de77ae\"],[0.3,\"#f1b6da\"],[0.4,\"#fde0ef\"],[0.5,\"#f7f7f7\"],[0.6,\"#e6f5d0\"],[0.7,\"#b8e186\"],[0.8,\"#7fbc41\"],[0.9,\"#4d9221\"],[1,\"#276419\"]]},\"xaxis\":{\"gridcolor\":\"white\",\"linecolor\":\"white\",\"ticks\":\"\",\"title\":{\"standoff\":15},\"zerolinecolor\":\"white\",\"automargin\":true,\"zerolinewidth\":2},\"yaxis\":{\"gridcolor\":\"white\",\"linecolor\":\"white\",\"ticks\":\"\",\"title\":{\"standoff\":15},\"zerolinecolor\":\"white\",\"automargin\":true,\"zerolinewidth\":2},\"scene\":{\"xaxis\":{\"backgroundcolor\":\"#E5ECF6\",\"gridcolor\":\"white\",\"linecolor\":\"white\",\"showbackground\":true,\"ticks\":\"\",\"zerolinecolor\":\"white\",\"gridwidth\":2},\"yaxis\":{\"backgroundcolor\":\"#E5ECF6\",\"gridcolor\":\"white\",\"linecolor\":\"white\",\"showbackground\":true,\"ticks\":\"\",\"zerolinecolor\":\"white\",\"gridwidth\":2},\"zaxis\":{\"backgroundcolor\":\"#E5ECF6\",\"gridcolor\":\"white\",\"linecolor\":\"white\",\"showbackground\":true,\"ticks\":\"\",\"zerolinecolor\":\"white\",\"gridwidth\":2}},\"shapedefaults\":{\"line\":{\"color\":\"#2a3f5f\"}},\"annotationdefaults\":{\"arrowcolor\":\"#2a3f5f\",\"arrowhead\":0,\"arrowwidth\":1},\"geo\":{\"bgcolor\":\"white\",\"landcolor\":\"#E5ECF6\",\"subunitcolor\":\"white\",\"showland\":true,\"showlakes\":true,\"lakecolor\":\"white\"},\"title\":{\"x\":0.05},\"mapbox\":{\"style\":\"light\"}}},\"xaxis\":{\"anchor\":\"y\",\"domain\":[0.0,1.0],\"matches\":\"x52\",\"showticklabels\":false},\"yaxis\":{\"anchor\":\"x\",\"domain\":[0.9901997041420112,0.9999999999999993]},\"xaxis2\":{\"anchor\":\"y2\",\"domain\":[0.0,1.0],\"matches\":\"x52\",\"showticklabels\":false},\"yaxis2\":{\"anchor\":\"x2\",\"domain\":[0.9707840236686385,0.9805843195266266]},\"xaxis3\":{\"anchor\":\"y3\",\"domain\":[0.0,1.0],\"matches\":\"x52\",\"showticklabels\":false},\"yaxis3\":{\"anchor\":\"x3\",\"domain\":[0.9513683431952658,0.9611686390532539]},\"xaxis4\":{\"anchor\":\"y4\",\"domain\":[0.0,1.0],\"matches\":\"x52\",\"showticklabels\":false},\"yaxis4\":{\"anchor\":\"x4\",\"domain\":[0.9319526627218929,0.9417529585798811]},\"xaxis5\":{\"anchor\":\"y5\",\"domain\":[0.0,1.0],\"matches\":\"x52\",\"showticklabels\":false},\"yaxis5\":{\"anchor\":\"x5\",\"domain\":[0.9125369822485201,0.9223372781065082]},\"xaxis6\":{\"anchor\":\"y6\",\"domain\":[0.0,1.0],\"matches\":\"x52\",\"showticklabels\":false},\"yaxis6\":{\"anchor\":\"x6\",\"domain\":[0.8931213017751474,0.9029215976331355]},\"xaxis7\":{\"anchor\":\"y7\",\"domain\":[0.0,1.0],\"matches\":\"x52\",\"showticklabels\":false},\"yaxis7\":{\"anchor\":\"x7\",\"domain\":[0.8737056213017746,0.8835059171597628]},\"xaxis8\":{\"anchor\":\"y8\",\"domain\":[0.0,1.0],\"matches\":\"x52\",\"showticklabels\":false},\"yaxis8\":{\"anchor\":\"x8\",\"domain\":[0.8542899408284019,0.8640902366863901]},\"xaxis9\":{\"anchor\":\"y9\",\"domain\":[0.0,1.0],\"matches\":\"x52\",\"showticklabels\":false},\"yaxis9\":{\"anchor\":\"x9\",\"domain\":[0.8348742603550292,0.8446745562130173]},\"xaxis10\":{\"anchor\":\"y10\",\"domain\":[0.0,1.0],\"matches\":\"x52\",\"showticklabels\":false},\"yaxis10\":{\"anchor\":\"x10\",\"domain\":[0.8154585798816564,0.8252588757396445]},\"xaxis11\":{\"anchor\":\"y11\",\"domain\":[0.0,1.0],\"matches\":\"x52\",\"showticklabels\":false},\"yaxis11\":{\"anchor\":\"x11\",\"domain\":[0.7960428994082837,0.8058431952662718]},\"xaxis12\":{\"anchor\":\"y12\",\"domain\":[0.0,1.0],\"matches\":\"x52\",\"showticklabels\":false},\"yaxis12\":{\"anchor\":\"x12\",\"domain\":[0.7766272189349108,0.786427514792899]},\"xaxis13\":{\"anchor\":\"y13\",\"domain\":[0.0,1.0],\"matches\":\"x52\",\"showticklabels\":false},\"yaxis13\":{\"anchor\":\"x13\",\"domain\":[0.7572115384615381,0.7670118343195262]},\"xaxis14\":{\"anchor\":\"y14\",\"domain\":[0.0,1.0],\"matches\":\"x52\",\"showticklabels\":false},\"yaxis14\":{\"anchor\":\"x14\",\"domain\":[0.7377958579881654,0.7475961538461535]},\"xaxis15\":{\"anchor\":\"y15\",\"domain\":[0.0,1.0],\"matches\":\"x52\",\"showticklabels\":false},\"yaxis15\":{\"anchor\":\"x15\",\"domain\":[0.7183801775147927,0.7281804733727808]},\"xaxis16\":{\"anchor\":\"y16\",\"domain\":[0.0,1.0],\"matches\":\"x52\",\"showticklabels\":false},\"yaxis16\":{\"anchor\":\"x16\",\"domain\":[0.6989644970414198,0.708764792899408]},\"xaxis17\":{\"anchor\":\"y17\",\"domain\":[0.0,1.0],\"matches\":\"x52\",\"showticklabels\":false},\"yaxis17\":{\"anchor\":\"x17\",\"domain\":[0.6795488165680471,0.6893491124260352]},\"xaxis18\":{\"anchor\":\"y18\",\"domain\":[0.0,1.0],\"matches\":\"x52\",\"showticklabels\":false},\"yaxis18\":{\"anchor\":\"x18\",\"domain\":[0.6601331360946743,0.6699334319526624]},\"xaxis19\":{\"anchor\":\"y19\",\"domain\":[0.0,1.0],\"matches\":\"x52\",\"showticklabels\":false},\"yaxis19\":{\"anchor\":\"x19\",\"domain\":[0.6407174556213016,0.6505177514792897]},\"xaxis20\":{\"anchor\":\"y20\",\"domain\":[0.0,1.0],\"matches\":\"x52\",\"showticklabels\":false},\"yaxis20\":{\"anchor\":\"x20\",\"domain\":[0.6213017751479288,0.631102071005917]},\"xaxis21\":{\"anchor\":\"y21\",\"domain\":[0.0,1.0],\"matches\":\"x52\",\"showticklabels\":false},\"yaxis21\":{\"anchor\":\"x21\",\"domain\":[0.6018860946745561,0.6116863905325443]},\"xaxis22\":{\"anchor\":\"y22\",\"domain\":[0.0,1.0],\"matches\":\"x52\",\"showticklabels\":false},\"yaxis22\":{\"anchor\":\"x22\",\"domain\":[0.5824704142011834,0.5922707100591715]},\"xaxis23\":{\"anchor\":\"y23\",\"domain\":[0.0,1.0],\"matches\":\"x52\",\"showticklabels\":false},\"yaxis23\":{\"anchor\":\"x23\",\"domain\":[0.5630547337278106,0.5728550295857987]},\"xaxis24\":{\"anchor\":\"y24\",\"domain\":[0.0,1.0],\"matches\":\"x52\",\"showticklabels\":false},\"yaxis24\":{\"anchor\":\"x24\",\"domain\":[0.5436390532544378,0.553439349112426]},\"xaxis25\":{\"anchor\":\"y25\",\"domain\":[0.0,1.0],\"matches\":\"x52\",\"showticklabels\":false},\"yaxis25\":{\"anchor\":\"x25\",\"domain\":[0.524223372781065,0.5340236686390532]},\"xaxis26\":{\"anchor\":\"y26\",\"domain\":[0.0,1.0],\"matches\":\"x52\",\"showticklabels\":false},\"yaxis26\":{\"anchor\":\"x26\",\"domain\":[0.5048076923076923,0.5146079881656804]},\"xaxis27\":{\"anchor\":\"y27\",\"domain\":[0.0,1.0],\"matches\":\"x52\",\"showticklabels\":false},\"yaxis27\":{\"anchor\":\"x27\",\"domain\":[0.48539201183431957,0.4951923076923077]},\"xaxis28\":{\"anchor\":\"y28\",\"domain\":[0.0,1.0],\"matches\":\"x52\",\"showticklabels\":false},\"yaxis28\":{\"anchor\":\"x28\",\"domain\":[0.46597633136094674,0.4757766272189349]},\"xaxis29\":{\"anchor\":\"y29\",\"domain\":[0.0,1.0],\"matches\":\"x52\",\"showticklabels\":false},\"yaxis29\":{\"anchor\":\"x29\",\"domain\":[0.446560650887574,0.45636094674556216]},\"xaxis30\":{\"anchor\":\"y30\",\"domain\":[0.0,1.0],\"matches\":\"x52\",\"showticklabels\":false},\"yaxis30\":{\"anchor\":\"x30\",\"domain\":[0.4271449704142012,0.4369452662721893]},\"xaxis31\":{\"anchor\":\"y31\",\"domain\":[0.0,1.0],\"matches\":\"x52\",\"showticklabels\":false},\"yaxis31\":{\"anchor\":\"x31\",\"domain\":[0.4077292899408284,0.41752958579881655]},\"xaxis32\":{\"anchor\":\"y32\",\"domain\":[0.0,1.0],\"matches\":\"x52\",\"showticklabels\":false},\"yaxis32\":{\"anchor\":\"x32\",\"domain\":[0.38831360946745563,0.3981139053254438]},\"xaxis33\":{\"anchor\":\"y33\",\"domain\":[0.0,1.0],\"matches\":\"x52\",\"showticklabels\":false},\"yaxis33\":{\"anchor\":\"x33\",\"domain\":[0.36889792899408286,0.378698224852071]},\"xaxis34\":{\"anchor\":\"y34\",\"domain\":[0.0,1.0],\"matches\":\"x52\",\"showticklabels\":false},\"yaxis34\":{\"anchor\":\"x34\",\"domain\":[0.3494822485207101,0.3592825443786982]},\"xaxis35\":{\"anchor\":\"y35\",\"domain\":[0.0,1.0],\"matches\":\"x52\",\"showticklabels\":false},\"yaxis35\":{\"anchor\":\"x35\",\"domain\":[0.33006656804733725,0.3398668639053254]},\"xaxis36\":{\"anchor\":\"y36\",\"domain\":[0.0,1.0],\"matches\":\"x52\",\"showticklabels\":false},\"yaxis36\":{\"anchor\":\"x36\",\"domain\":[0.31065088757396453,0.32045118343195267]},\"xaxis37\":{\"anchor\":\"y37\",\"domain\":[0.0,1.0],\"matches\":\"x52\",\"showticklabels\":false},\"yaxis37\":{\"anchor\":\"x37\",\"domain\":[0.2912352071005917,0.30103550295857984]},\"xaxis38\":{\"anchor\":\"y38\",\"domain\":[0.0,1.0],\"matches\":\"x52\",\"showticklabels\":false},\"yaxis38\":{\"anchor\":\"x38\",\"domain\":[0.271819526627219,0.2816198224852071]},\"xaxis39\":{\"anchor\":\"y39\",\"domain\":[0.0,1.0],\"matches\":\"x52\",\"showticklabels\":false},\"yaxis39\":{\"anchor\":\"x39\",\"domain\":[0.25240384615384615,0.2622041420118343]},\"xaxis40\":{\"anchor\":\"y40\",\"domain\":[0.0,1.0],\"matches\":\"x52\",\"showticklabels\":false},\"yaxis40\":{\"anchor\":\"x40\",\"domain\":[0.23298816568047337,0.24278846153846154]},\"xaxis41\":{\"anchor\":\"y41\",\"domain\":[0.0,1.0],\"matches\":\"x52\",\"showticklabels\":false},\"yaxis41\":{\"anchor\":\"x41\",\"domain\":[0.2135724852071006,0.22337278106508876]},\"xaxis42\":{\"anchor\":\"y42\",\"domain\":[0.0,1.0],\"matches\":\"x52\",\"showticklabels\":false},\"yaxis42\":{\"anchor\":\"x42\",\"domain\":[0.19415680473372782,0.20395710059171598]},\"xaxis43\":{\"anchor\":\"y43\",\"domain\":[0.0,1.0],\"matches\":\"x52\",\"showticklabels\":false},\"yaxis43\":{\"anchor\":\"x43\",\"domain\":[0.17474112426035504,0.1845414201183432]},\"xaxis44\":{\"anchor\":\"y44\",\"domain\":[0.0,1.0],\"matches\":\"x52\",\"showticklabels\":false},\"yaxis44\":{\"anchor\":\"x44\",\"domain\":[0.15532544378698226,0.16512573964497043]},\"xaxis45\":{\"anchor\":\"y45\",\"domain\":[0.0,1.0],\"matches\":\"x52\",\"showticklabels\":false},\"yaxis45\":{\"anchor\":\"x45\",\"domain\":[0.1359097633136095,0.14571005917159766]},\"xaxis46\":{\"anchor\":\"y46\",\"domain\":[0.0,1.0],\"matches\":\"x52\",\"showticklabels\":false},\"yaxis46\":{\"anchor\":\"x46\",\"domain\":[0.11649408284023668,0.12629437869822485]},\"xaxis47\":{\"anchor\":\"y47\",\"domain\":[0.0,1.0],\"matches\":\"x52\",\"showticklabels\":false},\"yaxis47\":{\"anchor\":\"x47\",\"domain\":[0.09707840236686391,0.10687869822485208]},\"xaxis48\":{\"anchor\":\"y48\",\"domain\":[0.0,1.0],\"matches\":\"x52\",\"showticklabels\":false},\"yaxis48\":{\"anchor\":\"x48\",\"domain\":[0.07766272189349113,0.0874630177514793]},\"xaxis49\":{\"anchor\":\"y49\",\"domain\":[0.0,1.0],\"matches\":\"x52\",\"showticklabels\":false},\"yaxis49\":{\"anchor\":\"x49\",\"domain\":[0.05824704142011834,0.06804733727810651]},\"xaxis50\":{\"anchor\":\"y50\",\"domain\":[0.0,1.0],\"matches\":\"x52\",\"showticklabels\":false},\"yaxis50\":{\"anchor\":\"x50\",\"domain\":[0.038831360946745566,0.04863165680473373]},\"xaxis51\":{\"anchor\":\"y51\",\"domain\":[0.0,1.0],\"matches\":\"x52\",\"showticklabels\":false},\"yaxis51\":{\"anchor\":\"x51\",\"domain\":[0.019415680473372783,0.02921597633136095]},\"xaxis52\":{\"anchor\":\"y52\",\"domain\":[0.0,1.0]},\"yaxis52\":{\"anchor\":\"x52\",\"domain\":[0.0,0.009800295857988165]},\"annotations\":[{\"font\":{\"size\":16},\"showarrow\":false,\"text\":\"import_time\",\"x\":0.5,\"xanchor\":\"center\",\"xref\":\"paper\",\"y\":0.9999999999999993,\"yanchor\":\"bottom\",\"yref\":\"paper\"},{\"font\":{\"size\":16},\"showarrow\":false,\"text\":\"num_cells_mechanics\",\"x\":0.5,\"xanchor\":\"center\",\"xref\":\"paper\",\"y\":0.9805843195266266,\"yanchor\":\"bottom\",\"yref\":\"paper\"},{\"font\":{\"size\":16},\"showarrow\":false,\"text\":\"num_cells_ep\",\"x\":0.5,\"xanchor\":\"center\",\"xref\":\"paper\",\"y\":0.9611686390532539,\"yanchor\":\"bottom\",\"yref\":\"paper\"},{\"font\":{\"size\":16},\"showarrow\":false,\"text\":\"num_vertices_mechanics\",\"x\":0.5,\"xanchor\":\"center\",\"xref\":\"paper\",\"y\":0.9417529585798811,\"yanchor\":\"bottom\",\"yref\":\"paper\"},{\"font\":{\"size\":16},\"showarrow\":false,\"text\":\"num_vertices_ep\",\"x\":0.5,\"xanchor\":\"center\",\"xref\":\"paper\",\"y\":0.9223372781065082,\"yanchor\":\"bottom\",\"yref\":\"paper\"},{\"font\":{\"size\":16},\"showarrow\":false,\"text\":\"create_runner_time\",\"x\":0.5,\"xanchor\":\"center\",\"xref\":\"paper\",\"y\":0.9029215976331355,\"yanchor\":\"bottom\",\"yref\":\"paper\"},{\"font\":{\"size\":16},\"showarrow\":false,\"text\":\"solve_time\",\"x\":0.5,\"xanchor\":\"center\",\"xref\":\"paper\",\"y\":0.8835059171597628,\"yanchor\":\"bottom\",\"yref\":\"paper\"},{\"font\":{\"size\":16},\"showarrow\":false,\"text\":\"maxTa\",\"x\":0.5,\"xanchor\":\"center\",\"xref\":\"paper\",\"y\":0.8640902366863901,\"yanchor\":\"bottom\",\"yref\":\"paper\"},{\"font\":{\"size\":16},\"showarrow\":false,\"text\":\"ampTa\",\"x\":0.5,\"xanchor\":\"center\",\"xref\":\"paper\",\"y\":0.8446745562130173,\"yanchor\":\"bottom\",\"yref\":\"paper\"},{\"font\":{\"size\":16},\"showarrow\":false,\"text\":\"APD40\",\"x\":0.5,\"xanchor\":\"center\",\"xref\":\"paper\",\"y\":0.8252588757396445,\"yanchor\":\"bottom\",\"yref\":\"paper\"},{\"font\":{\"size\":16},\"showarrow\":false,\"text\":\"APD50\",\"x\":0.5,\"xanchor\":\"center\",\"xref\":\"paper\",\"y\":0.8058431952662718,\"yanchor\":\"bottom\",\"yref\":\"paper\"},{\"font\":{\"size\":16},\"showarrow\":false,\"text\":\"APD90\",\"x\":0.5,\"xanchor\":\"center\",\"xref\":\"paper\",\"y\":0.786427514792899,\"yanchor\":\"bottom\",\"yref\":\"paper\"},{\"font\":{\"size\":16},\"showarrow\":false,\"text\":\"triangulation\",\"x\":0.5,\"xanchor\":\"center\",\"xref\":\"paper\",\"y\":0.7670118343195262,\"yanchor\":\"bottom\",\"yref\":\"paper\"},{\"font\":{\"size\":16},\"showarrow\":false,\"text\":\"Vpeak\",\"x\":0.5,\"xanchor\":\"center\",\"xref\":\"paper\",\"y\":0.7475961538461535,\"yanchor\":\"bottom\",\"yref\":\"paper\"},{\"font\":{\"size\":16},\"showarrow\":false,\"text\":\"Vmin\",\"x\":0.5,\"xanchor\":\"center\",\"xref\":\"paper\",\"y\":0.7281804733727808,\"yanchor\":\"bottom\",\"yref\":\"paper\"},{\"font\":{\"size\":16},\"showarrow\":false,\"text\":\"dvdt\",\"x\":0.5,\"xanchor\":\"center\",\"xref\":\"paper\",\"y\":0.708764792899408,\"yanchor\":\"bottom\",\"yref\":\"paper\"},{\"font\":{\"size\":16},\"showarrow\":false,\"text\":\"maxCa\",\"x\":0.5,\"xanchor\":\"center\",\"xref\":\"paper\",\"y\":0.6893491124260352,\"yanchor\":\"bottom\",\"yref\":\"paper\"},{\"font\":{\"size\":16},\"showarrow\":false,\"text\":\"ampCa\",\"x\":0.5,\"xanchor\":\"center\",\"xref\":\"paper\",\"y\":0.6699334319526624,\"yanchor\":\"bottom\",\"yref\":\"paper\"},{\"font\":{\"size\":16},\"showarrow\":false,\"text\":\"CaTD50\",\"x\":0.5,\"xanchor\":\"center\",\"xref\":\"paper\",\"y\":0.6505177514792897,\"yanchor\":\"bottom\",\"yref\":\"paper\"},{\"font\":{\"size\":16},\"showarrow\":false,\"text\":\"CaTD80\",\"x\":0.5,\"xanchor\":\"center\",\"xref\":\"paper\",\"y\":0.631102071005917,\"yanchor\":\"bottom\",\"yref\":\"paper\"},{\"font\":{\"size\":16},\"showarrow\":false,\"text\":\"CaTD90\",\"x\":0.5,\"xanchor\":\"center\",\"xref\":\"paper\",\"y\":0.6116863905325443,\"yanchor\":\"bottom\",\"yref\":\"paper\"},{\"font\":{\"size\":16},\"showarrow\":false,\"text\":\"ttp_Ta\",\"x\":0.5,\"xanchor\":\"center\",\"xref\":\"paper\",\"y\":0.5922707100591715,\"yanchor\":\"bottom\",\"yref\":\"paper\"},{\"font\":{\"size\":16},\"showarrow\":false,\"text\":\"rt50_Ta\",\"x\":0.5,\"xanchor\":\"center\",\"xref\":\"paper\",\"y\":0.5728550295857987,\"yanchor\":\"bottom\",\"yref\":\"paper\"},{\"font\":{\"size\":16},\"showarrow\":false,\"text\":\"rt95_Ta\",\"x\":0.5,\"xanchor\":\"center\",\"xref\":\"paper\",\"y\":0.553439349112426,\"yanchor\":\"bottom\",\"yref\":\"paper\"},{\"font\":{\"size\":16},\"showarrow\":false,\"text\":\"maxlmbda\",\"x\":0.5,\"xanchor\":\"center\",\"xref\":\"paper\",\"y\":0.5340236686390532,\"yanchor\":\"bottom\",\"yref\":\"paper\"},{\"font\":{\"size\":16},\"showarrow\":false,\"text\":\"minlmbda\",\"x\":0.5,\"xanchor\":\"center\",\"xref\":\"paper\",\"y\":0.5146079881656804,\"yanchor\":\"bottom\",\"yref\":\"paper\"},{\"font\":{\"size\":16},\"showarrow\":false,\"text\":\"ttplmbda\",\"x\":0.5,\"xanchor\":\"center\",\"xref\":\"paper\",\"y\":0.4951923076923077,\"yanchor\":\"bottom\",\"yref\":\"paper\"},{\"font\":{\"size\":16},\"showarrow\":false,\"text\":\"lmbdaD50\",\"x\":0.5,\"xanchor\":\"center\",\"xref\":\"paper\",\"y\":0.4757766272189349,\"yanchor\":\"bottom\",\"yref\":\"paper\"},{\"font\":{\"size\":16},\"showarrow\":false,\"text\":\"lmbdaD80\",\"x\":0.5,\"xanchor\":\"center\",\"xref\":\"paper\",\"y\":0.45636094674556216,\"yanchor\":\"bottom\",\"yref\":\"paper\"},{\"font\":{\"size\":16},\"showarrow\":false,\"text\":\"lmbdaD90\",\"x\":0.5,\"xanchor\":\"center\",\"xref\":\"paper\",\"y\":0.4369452662721893,\"yanchor\":\"bottom\",\"yref\":\"paper\"},{\"font\":{\"size\":16},\"showarrow\":false,\"text\":\"rt50_lmbda\",\"x\":0.5,\"xanchor\":\"center\",\"xref\":\"paper\",\"y\":0.41752958579881655,\"yanchor\":\"bottom\",\"yref\":\"paper\"},{\"font\":{\"size\":16},\"showarrow\":false,\"text\":\"rt95_lmbda\",\"x\":0.5,\"xanchor\":\"center\",\"xref\":\"paper\",\"y\":0.3981139053254438,\"yanchor\":\"bottom\",\"yref\":\"paper\"},{\"font\":{\"size\":16},\"showarrow\":false,\"text\":\"max_displacement_norm\",\"x\":0.5,\"xanchor\":\"center\",\"xref\":\"paper\",\"y\":0.378698224852071,\"yanchor\":\"bottom\",\"yref\":\"paper\"},{\"font\":{\"size\":16},\"showarrow\":false,\"text\":\"rel_max_displacement_norm\",\"x\":0.5,\"xanchor\":\"center\",\"xref\":\"paper\",\"y\":0.3592825443786982,\"yanchor\":\"bottom\",\"yref\":\"paper\"},{\"font\":{\"size\":16},\"showarrow\":false,\"text\":\"max_displacement_perc_norm\",\"x\":0.5,\"xanchor\":\"center\",\"xref\":\"paper\",\"y\":0.3398668639053254,\"yanchor\":\"bottom\",\"yref\":\"paper\"},{\"font\":{\"size\":16},\"showarrow\":false,\"text\":\"rel_max_displacement_perc_norm\",\"x\":0.5,\"xanchor\":\"center\",\"xref\":\"paper\",\"y\":0.32045118343195267,\"yanchor\":\"bottom\",\"yref\":\"paper\"},{\"font\":{\"size\":16},\"showarrow\":false,\"text\":\"time_to_max_displacement_norm\",\"x\":0.5,\"xanchor\":\"center\",\"xref\":\"paper\",\"y\":0.30103550295857984,\"yanchor\":\"bottom\",\"yref\":\"paper\"},{\"font\":{\"size\":16},\"showarrow\":false,\"text\":\"max_displacement_x\",\"x\":0.5,\"xanchor\":\"center\",\"xref\":\"paper\",\"y\":0.2816198224852071,\"yanchor\":\"bottom\",\"yref\":\"paper\"},{\"font\":{\"size\":16},\"showarrow\":false,\"text\":\"rel_max_displacement_x\",\"x\":0.5,\"xanchor\":\"center\",\"xref\":\"paper\",\"y\":0.2622041420118343,\"yanchor\":\"bottom\",\"yref\":\"paper\"},{\"font\":{\"size\":16},\"showarrow\":false,\"text\":\"max_displacement_perc_x\",\"x\":0.5,\"xanchor\":\"center\",\"xref\":\"paper\",\"y\":0.24278846153846154,\"yanchor\":\"bottom\",\"yref\":\"paper\"},{\"font\":{\"size\":16},\"showarrow\":false,\"text\":\"rel_max_displacement_perc_x\",\"x\":0.5,\"xanchor\":\"center\",\"xref\":\"paper\",\"y\":0.22337278106508876,\"yanchor\":\"bottom\",\"yref\":\"paper\"},{\"font\":{\"size\":16},\"showarrow\":false,\"text\":\"time_to_max_displacement_x\",\"x\":0.5,\"xanchor\":\"center\",\"xref\":\"paper\",\"y\":0.20395710059171598,\"yanchor\":\"bottom\",\"yref\":\"paper\"},{\"font\":{\"size\":16},\"showarrow\":false,\"text\":\"max_displacement_y\",\"x\":0.5,\"xanchor\":\"center\",\"xref\":\"paper\",\"y\":0.1845414201183432,\"yanchor\":\"bottom\",\"yref\":\"paper\"},{\"font\":{\"size\":16},\"showarrow\":false,\"text\":\"rel_max_displacement_y\",\"x\":0.5,\"xanchor\":\"center\",\"xref\":\"paper\",\"y\":0.16512573964497043,\"yanchor\":\"bottom\",\"yref\":\"paper\"},{\"font\":{\"size\":16},\"showarrow\":false,\"text\":\"max_displacement_perc_y\",\"x\":0.5,\"xanchor\":\"center\",\"xref\":\"paper\",\"y\":0.14571005917159766,\"yanchor\":\"bottom\",\"yref\":\"paper\"},{\"font\":{\"size\":16},\"showarrow\":false,\"text\":\"rel_max_displacement_perc_y\",\"x\":0.5,\"xanchor\":\"center\",\"xref\":\"paper\",\"y\":0.12629437869822485,\"yanchor\":\"bottom\",\"yref\":\"paper\"},{\"font\":{\"size\":16},\"showarrow\":false,\"text\":\"time_to_max_displacement_y\",\"x\":0.5,\"xanchor\":\"center\",\"xref\":\"paper\",\"y\":0.10687869822485208,\"yanchor\":\"bottom\",\"yref\":\"paper\"},{\"font\":{\"size\":16},\"showarrow\":false,\"text\":\"max_displacement_z\",\"x\":0.5,\"xanchor\":\"center\",\"xref\":\"paper\",\"y\":0.0874630177514793,\"yanchor\":\"bottom\",\"yref\":\"paper\"},{\"font\":{\"size\":16},\"showarrow\":false,\"text\":\"rel_max_displacement_z\",\"x\":0.5,\"xanchor\":\"center\",\"xref\":\"paper\",\"y\":0.06804733727810651,\"yanchor\":\"bottom\",\"yref\":\"paper\"},{\"font\":{\"size\":16},\"showarrow\":false,\"text\":\"max_displacement_perc_z\",\"x\":0.5,\"xanchor\":\"center\",\"xref\":\"paper\",\"y\":0.04863165680473373,\"yanchor\":\"bottom\",\"yref\":\"paper\"},{\"font\":{\"size\":16},\"showarrow\":false,\"text\":\"rel_max_displacement_perc_z\",\"x\":0.5,\"xanchor\":\"center\",\"xref\":\"paper\",\"y\":0.02921597633136095,\"yanchor\":\"bottom\",\"yref\":\"paper\"},{\"font\":{\"size\":16},\"showarrow\":false,\"text\":\"time_to_max_displacement_z\",\"x\":0.5,\"xanchor\":\"center\",\"xref\":\"paper\",\"y\":0.009800295857988165,\"yanchor\":\"bottom\",\"yref\":\"paper\"}],\"height\":5000,\"showlegend\":true},                        {\"responsive\": true}                    ).then(function(){\n",
       "                            \n",
       "var gd = document.getElementById('98d9194f-7f84-44a4-bd37-e0482818e618');\n",
       "var x = new MutationObserver(function (mutations, observer) {{\n",
       "        var display = window.getComputedStyle(gd).display;\n",
       "        if (!display || display === 'none') {{\n",
       "            console.log([gd, 'removed!']);\n",
       "            Plotly.purge(gd);\n",
       "            observer.disconnect();\n",
       "        }}\n",
       "}});\n",
       "\n",
       "// Listen for the removal of the full notebook cells\n",
       "var notebookContainer = gd.closest('#notebook-container');\n",
       "if (notebookContainer) {{\n",
       "    x.observe(notebookContainer, {childList: true});\n",
       "}}\n",
       "\n",
       "// Listen for the clearing of the current output cell\n",
       "var outputEl = gd.closest('.output');\n",
       "if (outputEl) {{\n",
       "    x.observe(outputEl, {childList: true});\n",
       "}}\n",
       "\n",
       "                        })                };                });            </script>        </div>"
      ]
     },
     "metadata": {},
     "output_type": "display_data"
    }
   ],
   "source": [
    "columns = [c for c in df.columns if c not in [\"timestamp\", \"simcardems_version\", \"sha\", \"dx\", \"dt\"]]\n",
    "git_hash = df[\"sha\"]\n",
    "versions = df[\"simcardems_version\"]\n",
    "dxs = df[\"dx\"].unique()\n",
    "dates = [t.date() for t in df[\"timestamp\"]]\n",
    "\n",
    "\n",
    "    \n",
    "fig = make_subplots(rows=len(columns), cols=1, subplot_titles=columns, shared_xaxes=True)\n",
    "\n",
    "yranges = []\n",
    "colors = ['red', 'green', 'blue']\n",
    "for color, dx in zip(colors, sorted(dxs)):\n",
    "    df_dx = df[df[\"dx\"] == dx]\n",
    "    df_dx.sort_values(by='timestamp')\n",
    "    \n",
    "    git_hash = df_dx[\"sha\"]\n",
    "    versions = df_dx[\"simcardems_version\"]\n",
    "    dates = [t.date() for t in df_dx[\"timestamp\"]]\n",
    "    \n",
    "    text = []\n",
    "    for h,v, t in zip(git_hash, versions, dates):\n",
    "        text.append(\"\\n\".join([\n",
    "            f\"<br>Git Hash: {h}</br>\",\n",
    "            f\"<br>Version: {v}</br>\",\n",
    "            f\"<br>Timestamp {t}</br>\",\n",
    "        ]))\n",
    " \n",
    "    for i, c in enumerate(columns):\n",
    "    \n",
    "        row = i + 1\n",
    "        col = 1\n",
    "        showlegend=i==0\n",
    "        fig.add_trace(\n",
    "            go.Scatter(\n",
    "                x=df_dx[\"timestamp\"], \n",
    "                y=df_dx[c], \n",
    "                text=text, \n",
    "                hovertemplate=\"%{text}\",\n",
    "                name=f\"dx={dx}\", \n",
    "                legendgroup=str(dx),\n",
    "                showlegend=i==0,\n",
    "                marker_color=color\n",
    "            ),\n",
    "            row=row, col=col\n",
    "        )\n",
    "        fig.update_yaxes(row=row, col=col)\n",
    "\n",
    "fig.update_layout(\n",
    "    height=5000,\n",
    "    showlegend=True\n",
    ")\n",
    "fig.show()"
   ]
  },
  {
   "cell_type": "code",
   "execution_count": null,
   "id": "62daa810",
   "metadata": {},
   "outputs": [],
   "source": []
  }
 ],
 "metadata": {
  "kernelspec": {
   "display_name": "Python 3 (ipykernel)",
   "language": "python",
   "name": "python3"
  },
  "language_info": {
   "codemirror_mode": {
    "name": "ipython",
    "version": 3
   },
   "file_extension": ".py",
   "mimetype": "text/x-python",
   "name": "python",
   "nbconvert_exporter": "python",
   "pygments_lexer": "ipython3",
   "version": "3.10.6"
  }
 },
 "nbformat": 4,
 "nbformat_minor": 5
}
