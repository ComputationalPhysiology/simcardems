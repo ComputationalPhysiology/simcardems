{
 "cells": [
  {
   "cell_type": "markdown",
   "id": "6d9e2805",
   "metadata": {},
   "source": [
    "# Spatial convergence test"
   ]
  },
  {
   "cell_type": "code",
   "execution_count": 1,
   "id": "6d7a5935",
   "metadata": {},
   "outputs": [],
   "source": [
    "from pathlib import Path\n",
    "import json\n",
    "import matplotlib.pyplot as plt\n",
    "import numpy as np\n",
    "from collections import defaultdict\n",
    "import pandas as pd\n",
    "import plotly.graph_objects as go\n",
    "from plotly.subplots import make_subplots\n",
    "import requests\n",
    "\n",
    "pd.options.display.max_columns = 5"
   ]
  },
  {
   "cell_type": "code",
   "execution_count": 2,
   "id": "ea6686e3",
   "metadata": {},
   "outputs": [
    {
     "name": "stdout",
     "output_type": "stream",
     "text": [
      "Get existing data from gist\n"
     ]
    }
   ],
   "source": [
    "headers = {\n",
    "    \"Accept\": \"application/vnd.github+json\",\n",
    "    \"X-GitHub-Api-Version\": \"2022-11-28\",\n",
    "}\n",
    "print(\"Get existing data from gist\")\n",
    "response = requests.get(\n",
    "    f\"https://api.github.com/gists/73fa6531f28da2b3633a7ddaca38a7cd\",\n",
    "    headers=headers,\n",
    ")\n",
    "data = json.loads(response.json()[\"files\"][\"convergence_test.json\"][\"content\"])"
   ]
  },
  {
   "cell_type": "code",
   "execution_count": 9,
   "id": "912103ff",
   "metadata": {},
   "outputs": [
    {
     "data": {
      "text/html": [
       "<div>\n",
       "<style scoped>\n",
       "    .dataframe tbody tr th:only-of-type {\n",
       "        vertical-align: middle;\n",
       "    }\n",
       "\n",
       "    .dataframe tbody tr th {\n",
       "        vertical-align: top;\n",
       "    }\n",
       "\n",
       "    .dataframe thead th {\n",
       "        text-align: right;\n",
       "    }\n",
       "</style>\n",
       "<table border=\"1\" class=\"dataframe\">\n",
       "  <thead>\n",
       "    <tr style=\"text-align: right;\">\n",
       "      <th></th>\n",
       "      <th>import_time</th>\n",
       "      <th>timestamp</th>\n",
       "      <th>...</th>\n",
       "      <th>rel_max_displacement_perc_z</th>\n",
       "      <th>time_to_max_displacement_z</th>\n",
       "    </tr>\n",
       "  </thead>\n",
       "  <tbody>\n",
       "    <tr>\n",
       "      <th>0</th>\n",
       "      <td>1.300000e-06</td>\n",
       "      <td>2023-04-12 09:53:34.139318</td>\n",
       "      <td>...</td>\n",
       "      <td>0.486886</td>\n",
       "      <td>0.05</td>\n",
       "    </tr>\n",
       "    <tr>\n",
       "      <th>1</th>\n",
       "      <td>8.000000e-07</td>\n",
       "      <td>2023-04-12 09:53:30.436212</td>\n",
       "      <td>...</td>\n",
       "      <td>0.488458</td>\n",
       "      <td>0.05</td>\n",
       "    </tr>\n",
       "    <tr>\n",
       "      <th>2</th>\n",
       "      <td>1.000000e-06</td>\n",
       "      <td>2023-04-12 09:53:31.010237</td>\n",
       "      <td>...</td>\n",
       "      <td>0.488168</td>\n",
       "      <td>0.05</td>\n",
       "    </tr>\n",
       "  </tbody>\n",
       "</table>\n",
       "<p>3 rows × 57 columns</p>\n",
       "</div>"
      ],
      "text/plain": [
       "    import_time                  timestamp  ... rel_max_displacement_perc_z  \\\n",
       "0  1.300000e-06 2023-04-12 09:53:34.139318  ...                    0.486886   \n",
       "1  8.000000e-07 2023-04-12 09:53:30.436212  ...                    0.488458   \n",
       "2  1.000000e-06 2023-04-12 09:53:31.010237  ...                    0.488168   \n",
       "\n",
       "   time_to_max_displacement_z  \n",
       "0                        0.05  \n",
       "1                        0.05  \n",
       "2                        0.05  \n",
       "\n",
       "[3 rows x 57 columns]"
      ]
     },
     "execution_count": 9,
     "metadata": {},
     "output_type": "execute_result"
    }
   ],
   "source": [
    "runs = set()\n",
    "results = defaultdict(list)\n",
    "spatial_convergence = []\n",
    "for git_hash, d in data.items():\n",
    "    runs |= set(d.keys())\n",
    "    if \"dx0.1_dt0.05\" not in d:\n",
    "        # We have not spatial convergence data\n",
    "        continue\n",
    "\n",
    "    for key1, d1 in d.items():\n",
    "        if \"dt0.05\" not in key1:\n",
    "            continue  # Only select data with \"dt0.05\"\n",
    "        for key, value in d1.items():\n",
    "            results[key].append(value)\n",
    "\n",
    "df = pd.DataFrame(results)\n",
    "df[\"timestamp\"] = pd.to_datetime(df[\"timestamp\"])\n",
    "df"
   ]
  },
  {
   "cell_type": "code",
   "execution_count": 29,
   "id": "810bc713",
   "metadata": {},
   "outputs": [
    {
     "data": {
      "text/plain": [
       "array([0.2, 0.1, 0.4])"
      ]
     },
     "execution_count": 29,
     "metadata": {},
     "output_type": "execute_result"
    }
   ],
   "source": [
    "df[\"timestamp\"]\n",
    "df.keys()\n",
    "df[\"dx\"].unique()"
   ]
  },
  {
   "cell_type": "code",
   "execution_count": 18,
   "id": "ba4f1586",
   "metadata": {},
   "outputs": [],
   "source": [
    "def get_ylim(values):\n",
    "    if np.isclose(values, 0).all():\n",
    "        return (-0.01, 0.01)\n",
    "    y_mean = np.mean(values)\n",
    "    y_max = max(np.max(values), y_mean + 0.01 * abs(y_mean))\n",
    "    y_min = min(np.min(values), y_mean - 0.01 * abs(y_mean))\n",
    "    return (y_min, y_max)\n"
   ]
  },
  {
   "cell_type": "code",
   "execution_count": 40,
   "id": "2768b0b0",
   "metadata": {},
   "outputs": [
    {
     "data": {
      "application/vnd.plotly.v1+json": {
       "config": {
        "plotlyServerURL": "https://plot.ly"
       },
       "data": [
        {
         "hovertemplate": "%{text}",
         "legendgroup": "0.1",
         "marker": {
          "color": "red"
         },
         "mode": "markers",
         "name": "dx=0.1",
         "showlegend": true,
         "text": [
          "<br>Git Hash: 7c99dbc59c2c38c7c192be00eac500546471bed0</br>\n<br>Version: 2023.3.0</br>\n<br>Timestamp 2023-04-12</br>"
         ],
         "type": "scatter",
         "x": [
          "2023-04-12T09:53:30.436212"
         ],
         "xaxis": "x",
         "y": [
          7.999999809271685e-07
         ],
         "yaxis": "y"
        },
        {
         "hovertemplate": "%{text}",
         "legendgroup": "0.1",
         "marker": {
          "color": "red"
         },
         "mode": "markers",
         "name": "dx=0.1",
         "showlegend": false,
         "text": [
          "<br>Git Hash: 7c99dbc59c2c38c7c192be00eac500546471bed0</br>\n<br>Version: 2023.3.0</br>\n<br>Timestamp 2023-04-12</br>"
         ],
         "type": "scatter",
         "x": [
          "2023-04-12T09:53:30.436212"
         ],
         "xaxis": "x2",
         "y": [
          0.05
         ],
         "yaxis": "y2"
        },
        {
         "hovertemplate": "%{text}",
         "legendgroup": "0.1",
         "marker": {
          "color": "red"
         },
         "mode": "markers",
         "name": "dx=0.1",
         "showlegend": false,
         "text": [
          "<br>Git Hash: 7c99dbc59c2c38c7c192be00eac500546471bed0</br>\n<br>Version: 2023.3.0</br>\n<br>Timestamp 2023-04-12</br>"
         ],
         "type": "scatter",
         "x": [
          "2023-04-12T09:53:30.436212"
         ],
         "xaxis": "x3",
         "y": [
          0.1
         ],
         "yaxis": "y3"
        },
        {
         "hovertemplate": "%{text}",
         "legendgroup": "0.1",
         "marker": {
          "color": "red"
         },
         "mode": "markers",
         "name": "dx=0.1",
         "showlegend": false,
         "text": [
          "<br>Git Hash: 7c99dbc59c2c38c7c192be00eac500546471bed0</br>\n<br>Version: 2023.3.0</br>\n<br>Timestamp 2023-04-12</br>"
         ],
         "type": "scatter",
         "x": [
          "2023-04-12T09:53:30.436212"
         ],
         "xaxis": "x4",
         "y": [
          2520
         ],
         "yaxis": "y4"
        },
        {
         "hovertemplate": "%{text}",
         "legendgroup": "0.1",
         "marker": {
          "color": "red"
         },
         "mode": "markers",
         "name": "dx=0.1",
         "showlegend": false,
         "text": [
          "<br>Git Hash: 7c99dbc59c2c38c7c192be00eac500546471bed0</br>\n<br>Version: 2023.3.0</br>\n<br>Timestamp 2023-04-12</br>"
         ],
         "type": "scatter",
         "x": [
          "2023-04-12T09:53:30.436212"
         ],
         "xaxis": "x5",
         "y": [
          20160
         ],
         "yaxis": "y5"
        },
        {
         "hovertemplate": "%{text}",
         "legendgroup": "0.1",
         "marker": {
          "color": "red"
         },
         "mode": "markers",
         "name": "dx=0.1",
         "showlegend": false,
         "text": [
          "<br>Git Hash: 7c99dbc59c2c38c7c192be00eac500546471bed0</br>\n<br>Version: 2023.3.0</br>\n<br>Timestamp 2023-04-12</br>"
         ],
         "type": "scatter",
         "x": [
          "2023-04-12T09:53:30.436212"
         ],
         "xaxis": "x6",
         "y": [
          672
         ],
         "yaxis": "y6"
        },
        {
         "hovertemplate": "%{text}",
         "legendgroup": "0.1",
         "marker": {
          "color": "red"
         },
         "mode": "markers",
         "name": "dx=0.1",
         "showlegend": false,
         "text": [
          "<br>Git Hash: 7c99dbc59c2c38c7c192be00eac500546471bed0</br>\n<br>Version: 2023.3.0</br>\n<br>Timestamp 2023-04-12</br>"
         ],
         "type": "scatter",
         "x": [
          "2023-04-12T09:53:30.436212"
         ],
         "xaxis": "x7",
         "y": [
          4305
         ],
         "yaxis": "y7"
        },
        {
         "hovertemplate": "%{text}",
         "legendgroup": "0.1",
         "marker": {
          "color": "red"
         },
         "mode": "markers",
         "name": "dx=0.1",
         "showlegend": false,
         "text": [
          "<br>Git Hash: 7c99dbc59c2c38c7c192be00eac500546471bed0</br>\n<br>Version: 2023.3.0</br>\n<br>Timestamp 2023-04-12</br>"
         ],
         "type": "scatter",
         "x": [
          "2023-04-12T09:53:30.436212"
         ],
         "xaxis": "x8",
         "y": [
          137.96480052699997
         ],
         "yaxis": "y8"
        },
        {
         "hovertemplate": "%{text}",
         "legendgroup": "0.1",
         "marker": {
          "color": "red"
         },
         "mode": "markers",
         "name": "dx=0.1",
         "showlegend": false,
         "text": [
          "<br>Git Hash: 7c99dbc59c2c38c7c192be00eac500546471bed0</br>\n<br>Version: 2023.3.0</br>\n<br>Timestamp 2023-04-12</br>"
         ],
         "type": "scatter",
         "x": [
          "2023-04-12T09:53:30.436212"
         ],
         "xaxis": "x9",
         "y": [
          13424.539180128
         ],
         "yaxis": "y9"
        },
        {
         "hovertemplate": "%{text}",
         "legendgroup": "0.1",
         "marker": {
          "color": "red"
         },
         "mode": "markers",
         "name": "dx=0.1",
         "showlegend": false,
         "text": [
          "<br>Git Hash: 7c99dbc59c2c38c7c192be00eac500546471bed0</br>\n<br>Version: 2023.3.0</br>\n<br>Timestamp 2023-04-12</br>"
         ],
         "type": "scatter",
         "x": [
          "2023-04-12T09:53:30.436212"
         ],
         "xaxis": "x10",
         "y": [
          1.176115252264472
         ],
         "yaxis": "y10"
        },
        {
         "hovertemplate": "%{text}",
         "legendgroup": "0.1",
         "marker": {
          "color": "red"
         },
         "mode": "markers",
         "name": "dx=0.1",
         "showlegend": false,
         "text": [
          "<br>Git Hash: 7c99dbc59c2c38c7c192be00eac500546471bed0</br>\n<br>Version: 2023.3.0</br>\n<br>Timestamp 2023-04-12</br>"
         ],
         "type": "scatter",
         "x": [
          "2023-04-12T09:53:30.436212"
         ],
         "xaxis": "x11",
         "y": [
          1.176115252264472
         ],
         "yaxis": "y11"
        },
        {
         "hovertemplate": "%{text}",
         "legendgroup": "0.1",
         "marker": {
          "color": "red"
         },
         "mode": "markers",
         "name": "dx=0.1",
         "showlegend": false,
         "text": [
          "<br>Git Hash: 7c99dbc59c2c38c7c192be00eac500546471bed0</br>\n<br>Version: 2023.3.0</br>\n<br>Timestamp 2023-04-12</br>"
         ],
         "type": "scatter",
         "x": [
          "2023-04-12T09:53:30.436212"
         ],
         "xaxis": "x12",
         "y": [
          238.87751735788927
         ],
         "yaxis": "y12"
        },
        {
         "hovertemplate": "%{text}",
         "legendgroup": "0.1",
         "marker": {
          "color": "red"
         },
         "mode": "markers",
         "name": "dx=0.1",
         "showlegend": false,
         "text": [
          "<br>Git Hash: 7c99dbc59c2c38c7c192be00eac500546471bed0</br>\n<br>Version: 2023.3.0</br>\n<br>Timestamp 2023-04-12</br>"
         ],
         "type": "scatter",
         "x": [
          "2023-04-12T09:53:30.436212"
         ],
         "xaxis": "x13",
         "y": [
          265.4026389688796
         ],
         "yaxis": "y13"
        },
        {
         "hovertemplate": "%{text}",
         "legendgroup": "0.1",
         "marker": {
          "color": "red"
         },
         "mode": "markers",
         "name": "dx=0.1",
         "showlegend": false,
         "text": [
          "<br>Git Hash: 7c99dbc59c2c38c7c192be00eac500546471bed0</br>\n<br>Version: 2023.3.0</br>\n<br>Timestamp 2023-04-12</br>"
         ],
         "type": "scatter",
         "x": [
          "2023-04-12T09:53:30.436212"
         ],
         "xaxis": "x14",
         "y": [
          332.3475149814282
         ],
         "yaxis": "y14"
        },
        {
         "hovertemplate": "%{text}",
         "legendgroup": "0.1",
         "marker": {
          "color": "red"
         },
         "mode": "markers",
         "name": "dx=0.1",
         "showlegend": false,
         "text": [
          "<br>Git Hash: 7c99dbc59c2c38c7c192be00eac500546471bed0</br>\n<br>Version: 2023.3.0</br>\n<br>Timestamp 2023-04-12</br>"
         ],
         "type": "scatter",
         "x": [
          "2023-04-12T09:53:30.436212"
         ],
         "xaxis": "x15",
         "y": [
          93.46999762353894
         ],
         "yaxis": "y15"
        },
        {
         "hovertemplate": "%{text}",
         "legendgroup": "0.1",
         "marker": {
          "color": "red"
         },
         "mode": "markers",
         "name": "dx=0.1",
         "showlegend": false,
         "text": [
          "<br>Git Hash: 7c99dbc59c2c38c7c192be00eac500546471bed0</br>\n<br>Version: 2023.3.0</br>\n<br>Timestamp 2023-04-12</br>"
         ],
         "type": "scatter",
         "x": [
          "2023-04-12T09:53:30.436212"
         ],
         "xaxis": "x16",
         "y": [
          51.11933974409381
         ],
         "yaxis": "y16"
        },
        {
         "hovertemplate": "%{text}",
         "legendgroup": "0.1",
         "marker": {
          "color": "red"
         },
         "mode": "markers",
         "name": "dx=0.1",
         "showlegend": false,
         "text": [
          "<br>Git Hash: 7c99dbc59c2c38c7c192be00eac500546471bed0</br>\n<br>Version: 2023.3.0</br>\n<br>Timestamp 2023-04-12</br>"
         ],
         "type": "scatter",
         "x": [
          "2023-04-12T09:53:30.436212"
         ],
         "xaxis": "x17",
         "y": [
          -88.02163380312128
         ],
         "yaxis": "y17"
        },
        {
         "hovertemplate": "%{text}",
         "legendgroup": "0.1",
         "marker": {
          "color": "red"
         },
         "mode": "markers",
         "name": "dx=0.1",
         "showlegend": false,
         "text": [
          "<br>Git Hash: 7c99dbc59c2c38c7c192be00eac500546471bed0</br>\n<br>Version: 2023.3.0</br>\n<br>Timestamp 2023-04-12</br>"
         ],
         "type": "scatter",
         "x": [
          "2023-04-12T09:53:30.436212"
         ],
         "xaxis": "x18",
         "y": [
          18.01890419733565
         ],
         "yaxis": "y18"
        },
        {
         "hovertemplate": "%{text}",
         "legendgroup": "0.1",
         "marker": {
          "color": "red"
         },
         "mode": "markers",
         "name": "dx=0.1",
         "showlegend": false,
         "text": [
          "<br>Git Hash: 7c99dbc59c2c38c7c192be00eac500546471bed0</br>\n<br>Version: 2023.3.0</br>\n<br>Timestamp 2023-04-12</br>"
         ],
         "type": "scatter",
         "x": [
          "2023-04-12T09:53:30.436212"
         ],
         "xaxis": "x19",
         "y": [
          0.0002615740189351584
         ],
         "yaxis": "y19"
        },
        {
         "hovertemplate": "%{text}",
         "legendgroup": "0.1",
         "marker": {
          "color": "red"
         },
         "mode": "markers",
         "name": "dx=0.1",
         "showlegend": false,
         "text": [
          "<br>Git Hash: 7c99dbc59c2c38c7c192be00eac500546471bed0</br>\n<br>Version: 2023.3.0</br>\n<br>Timestamp 2023-04-12</br>"
         ],
         "type": "scatter",
         "x": [
          "2023-04-12T09:53:30.436212"
         ],
         "xaxis": "x20",
         "y": [
          0.0001942344918733592
         ],
         "yaxis": "y20"
        },
        {
         "hovertemplate": "%{text}",
         "legendgroup": "0.1",
         "marker": {
          "color": "red"
         },
         "mode": "markers",
         "name": "dx=0.1",
         "showlegend": false,
         "text": [
          "<br>Git Hash: 7c99dbc59c2c38c7c192be00eac500546471bed0</br>\n<br>Version: 2023.3.0</br>\n<br>Timestamp 2023-04-12</br>"
         ],
         "type": "scatter",
         "x": [
          "2023-04-12T09:53:30.436212"
         ],
         "xaxis": "x21",
         "y": [
          268.6151443515614
         ],
         "yaxis": "y21"
        },
        {
         "hovertemplate": "%{text}",
         "legendgroup": "0.1",
         "marker": {
          "color": "red"
         },
         "mode": "markers",
         "name": "dx=0.1",
         "showlegend": false,
         "text": [
          "<br>Git Hash: 7c99dbc59c2c38c7c192be00eac500546471bed0</br>\n<br>Version: 2023.3.0</br>\n<br>Timestamp 2023-04-12</br>"
         ],
         "type": "scatter",
         "x": [
          "2023-04-12T09:53:30.436212"
         ],
         "xaxis": "x22",
         "y": [
          388.1388627417632
         ],
         "yaxis": "y22"
        },
        {
         "hovertemplate": "%{text}",
         "legendgroup": "0.1",
         "marker": {
          "color": "red"
         },
         "mode": "markers",
         "name": "dx=0.1",
         "showlegend": false,
         "text": [
          "<br>Git Hash: 7c99dbc59c2c38c7c192be00eac500546471bed0</br>\n<br>Version: 2023.3.0</br>\n<br>Timestamp 2023-04-12</br>"
         ],
         "type": "scatter",
         "x": [
          "2023-04-12T09:53:30.436212"
         ],
         "xaxis": "x23",
         "y": [
          469.8239764855482
         ],
         "yaxis": "y23"
        },
        {
         "hovertemplate": "%{text}",
         "legendgroup": "0.1",
         "marker": {
          "color": "red"
         },
         "mode": "markers",
         "name": "dx=0.1",
         "showlegend": false,
         "text": [
          "<br>Git Hash: 7c99dbc59c2c38c7c192be00eac500546471bed0</br>\n<br>Version: 2023.3.0</br>\n<br>Timestamp 2023-04-12</br>"
         ],
         "type": "scatter",
         "x": [
          "2023-04-12T09:53:30.436212"
         ],
         "xaxis": "x24",
         "y": [
          139
         ],
         "yaxis": "y24"
        },
        {
         "hovertemplate": "%{text}",
         "legendgroup": "0.1",
         "marker": {
          "color": "red"
         },
         "mode": "markers",
         "name": "dx=0.1",
         "showlegend": false,
         "text": [
          "<br>Git Hash: 7c99dbc59c2c38c7c192be00eac500546471bed0</br>\n<br>Version: 2023.3.0</br>\n<br>Timestamp 2023-04-12</br>"
         ],
         "type": "scatter",
         "x": [
          "2023-04-12T09:53:30.436212"
         ],
         "xaxis": "x25",
         "y": [
          149.1895269687489
         ],
         "yaxis": "y25"
        },
        {
         "hovertemplate": "%{text}",
         "legendgroup": "0.1",
         "marker": {
          "color": "red"
         },
         "mode": "markers",
         "name": "dx=0.1",
         "showlegend": false,
         "text": [
          "<br>Git Hash: 7c99dbc59c2c38c7c192be00eac500546471bed0</br>\n<br>Version: 2023.3.0</br>\n<br>Timestamp 2023-04-12</br>"
         ],
         "type": "scatter",
         "x": [
          "2023-04-12T09:53:30.436212"
         ],
         "xaxis": "x26",
         "y": [
          457.7402048498863
         ],
         "yaxis": "y26"
        },
        {
         "hovertemplate": "%{text}",
         "legendgroup": "0.1",
         "marker": {
          "color": "red"
         },
         "mode": "markers",
         "name": "dx=0.1",
         "showlegend": false,
         "text": [
          "<br>Git Hash: 7c99dbc59c2c38c7c192be00eac500546471bed0</br>\n<br>Version: 2023.3.0</br>\n<br>Timestamp 2023-04-12</br>"
         ],
         "type": "scatter",
         "x": [
          "2023-04-12T09:53:30.436212"
         ],
         "xaxis": "x27",
         "y": [
          1
         ],
         "yaxis": "y27"
        },
        {
         "hovertemplate": "%{text}",
         "legendgroup": "0.1",
         "marker": {
          "color": "red"
         },
         "mode": "markers",
         "name": "dx=0.1",
         "showlegend": false,
         "text": [
          "<br>Git Hash: 7c99dbc59c2c38c7c192be00eac500546471bed0</br>\n<br>Version: 2023.3.0</br>\n<br>Timestamp 2023-04-12</br>"
         ],
         "type": "scatter",
         "x": [
          "2023-04-12T09:53:30.436212"
         ],
         "xaxis": "x28",
         "y": [
          0.9023825110769322
         ],
         "yaxis": "y28"
        },
        {
         "hovertemplate": "%{text}",
         "legendgroup": "0.1",
         "marker": {
          "color": "red"
         },
         "mode": "markers",
         "name": "dx=0.1",
         "showlegend": false,
         "text": [
          "<br>Git Hash: 7c99dbc59c2c38c7c192be00eac500546471bed0</br>\n<br>Version: 2023.3.0</br>\n<br>Timestamp 2023-04-12</br>"
         ],
         "type": "scatter",
         "x": [
          "2023-04-12T09:53:30.436212"
         ],
         "xaxis": "x29",
         "y": [
          138
         ],
         "yaxis": "y29"
        },
        {
         "hovertemplate": "%{text}",
         "legendgroup": "0.1",
         "marker": {
          "color": "red"
         },
         "mode": "markers",
         "name": "dx=0.1",
         "showlegend": false,
         "text": [
          "<br>Git Hash: 7c99dbc59c2c38c7c192be00eac500546471bed0</br>\n<br>Version: 2023.3.0</br>\n<br>Timestamp 2023-04-12</br>"
         ],
         "type": "scatter",
         "x": [
          "2023-04-12T09:53:30.436212"
         ],
         "xaxis": "x30",
         "y": [
          272.16049776632275
         ],
         "yaxis": "y30"
        },
        {
         "hovertemplate": "%{text}",
         "legendgroup": "0.1",
         "marker": {
          "color": "red"
         },
         "mode": "markers",
         "name": "dx=0.1",
         "showlegend": false,
         "text": [
          "<br>Git Hash: 7c99dbc59c2c38c7c192be00eac500546471bed0</br>\n<br>Version: 2023.3.0</br>\n<br>Timestamp 2023-04-12</br>"
         ],
         "type": "scatter",
         "x": [
          "2023-04-12T09:53:30.436212"
         ],
         "xaxis": "x31",
         "y": [
          403.1148689090557
         ],
         "yaxis": "y31"
        },
        {
         "hovertemplate": "%{text}",
         "legendgroup": "0.1",
         "marker": {
          "color": "red"
         },
         "mode": "markers",
         "name": "dx=0.1",
         "showlegend": false,
         "text": [
          "<br>Git Hash: 7c99dbc59c2c38c7c192be00eac500546471bed0</br>\n<br>Version: 2023.3.0</br>\n<br>Timestamp 2023-04-12</br>"
         ],
         "type": "scatter",
         "x": [
          "2023-04-12T09:53:30.436212"
         ],
         "xaxis": "x32",
         "y": [
          520.7955050767033
         ],
         "yaxis": "y32"
        },
        {
         "hovertemplate": "%{text}",
         "legendgroup": "0.1",
         "marker": {
          "color": "red"
         },
         "mode": "markers",
         "name": "dx=0.1",
         "showlegend": false,
         "text": [
          "<br>Git Hash: 7c99dbc59c2c38c7c192be00eac500546471bed0</br>\n<br>Version: 2023.3.0</br>\n<br>Timestamp 2023-04-12</br>"
         ],
         "type": "scatter",
         "x": [
          "2023-04-12T09:53:30.436212"
         ],
         "xaxis": "x33",
         "y": [
          192.95059800066878
         ],
         "yaxis": "y33"
        },
        {
         "hovertemplate": "%{text}",
         "legendgroup": "0.1",
         "marker": {
          "color": "red"
         },
         "mode": "markers",
         "name": "dx=0.1",
         "showlegend": false,
         "text": [
          "<br>Git Hash: 7c99dbc59c2c38c7c192be00eac500546471bed0</br>\n<br>Version: 2023.3.0</br>\n<br>Timestamp 2023-04-12</br>"
         ],
         "type": "scatter",
         "x": [
          "2023-04-12T09:53:30.436212"
         ],
         "xaxis": "x34",
         "y": [
          -108.45228920497729
         ],
         "yaxis": "y34"
        },
        {
         "hovertemplate": "%{text}",
         "legendgroup": "0.1",
         "marker": {
          "color": "red"
         },
         "mode": "markers",
         "name": "dx=0.1",
         "showlegend": false,
         "text": [
          "<br>Git Hash: 7c99dbc59c2c38c7c192be00eac500546471bed0</br>\n<br>Version: 2023.3.0</br>\n<br>Timestamp 2023-04-12</br>"
         ],
         "type": "scatter",
         "x": [
          "2023-04-12T09:53:30.436212"
         ],
         "xaxis": "x35",
         "y": [
          0.16838426036105913
         ],
         "yaxis": "y35"
        },
        {
         "hovertemplate": "%{text}",
         "legendgroup": "0.1",
         "marker": {
          "color": "red"
         },
         "mode": "markers",
         "name": "dx=0.1",
         "showlegend": false,
         "text": [
          "<br>Git Hash: 7c99dbc59c2c38c7c192be00eac500546471bed0</br>\n<br>Version: 2023.3.0</br>\n<br>Timestamp 2023-04-12</br>"
         ],
         "type": "scatter",
         "x": [
          "2023-04-12T09:53:30.436212"
         ],
         "xaxis": "x36",
         "y": [
          0.16838426036105913
         ],
         "yaxis": "y36"
        },
        {
         "hovertemplate": "%{text}",
         "legendgroup": "0.1",
         "marker": {
          "color": "red"
         },
         "mode": "markers",
         "name": "dx=0.1",
         "showlegend": false,
         "text": [
          "<br>Git Hash: 7c99dbc59c2c38c7c192be00eac500546471bed0</br>\n<br>Version: 2023.3.0</br>\n<br>Timestamp 2023-04-12</br>"
         ],
         "type": "scatter",
         "x": [
          "2023-04-12T09:53:30.436212"
         ],
         "xaxis": "x37",
         "y": [
          0.8419213018052958
         ],
         "yaxis": "y37"
        },
        {
         "hovertemplate": "%{text}",
         "legendgroup": "0.1",
         "marker": {
          "color": "red"
         },
         "mode": "markers",
         "name": "dx=0.1",
         "showlegend": false,
         "text": [
          "<br>Git Hash: 7c99dbc59c2c38c7c192be00eac500546471bed0</br>\n<br>Version: 2023.3.0</br>\n<br>Timestamp 2023-04-12</br>"
         ],
         "type": "scatter",
         "x": [
          "2023-04-12T09:53:30.436212"
         ],
         "xaxis": "x38",
         "y": [
          0.849069801329888
         ],
         "yaxis": "y38"
        },
        {
         "hovertemplate": "%{text}",
         "legendgroup": "0.1",
         "marker": {
          "color": "red"
         },
         "mode": "markers",
         "name": "dx=0.1",
         "showlegend": false,
         "text": [
          "<br>Git Hash: 7c99dbc59c2c38c7c192be00eac500546471bed0</br>\n<br>Version: 2023.3.0</br>\n<br>Timestamp 2023-04-12</br>"
         ],
         "type": "scatter",
         "x": [
          "2023-04-12T09:53:30.436212"
         ],
         "xaxis": "x39",
         "y": [
          0.05
         ],
         "yaxis": "y39"
        },
        {
         "hovertemplate": "%{text}",
         "legendgroup": "0.1",
         "marker": {
          "color": "red"
         },
         "mode": "markers",
         "name": "dx=0.1",
         "showlegend": false,
         "text": [
          "<br>Git Hash: 7c99dbc59c2c38c7c192be00eac500546471bed0</br>\n<br>Version: 2023.3.0</br>\n<br>Timestamp 2023-04-12</br>"
         ],
         "type": "scatter",
         "x": [
          "2023-04-12T09:53:30.436212"
         ],
         "xaxis": "x40",
         "y": [
          0.09721669804675352
         ],
         "yaxis": "y40"
        },
        {
         "hovertemplate": "%{text}",
         "legendgroup": "0.1",
         "marker": {
          "color": "red"
         },
         "mode": "markers",
         "name": "dx=0.1",
         "showlegend": false,
         "text": [
          "<br>Git Hash: 7c99dbc59c2c38c7c192be00eac500546471bed0</br>\n<br>Version: 2023.3.0</br>\n<br>Timestamp 2023-04-12</br>"
         ],
         "type": "scatter",
         "x": [
          "2023-04-12T09:53:30.436212"
         ],
         "xaxis": "x41",
         "y": [
          0.09721669804675352
         ],
         "yaxis": "y41"
        },
        {
         "hovertemplate": "%{text}",
         "legendgroup": "0.1",
         "marker": {
          "color": "red"
         },
         "mode": "markers",
         "name": "dx=0.1",
         "showlegend": false,
         "text": [
          "<br>Git Hash: 7c99dbc59c2c38c7c192be00eac500546471bed0</br>\n<br>Version: 2023.3.0</br>\n<br>Timestamp 2023-04-12</br>"
         ],
         "type": "scatter",
         "x": [
          "2023-04-12T09:53:30.436212"
         ],
         "xaxis": "x42",
         "y": [
          0.4860834902337676
         ],
         "yaxis": "y42"
        },
        {
         "hovertemplate": "%{text}",
         "legendgroup": "0.1",
         "marker": {
          "color": "red"
         },
         "mode": "markers",
         "name": "dx=0.1",
         "showlegend": false,
         "text": [
          "<br>Git Hash: 7c99dbc59c2c38c7c192be00eac500546471bed0</br>\n<br>Version: 2023.3.0</br>\n<br>Timestamp 2023-04-12</br>"
         ],
         "type": "scatter",
         "x": [
          "2023-04-12T09:53:30.436212"
         ],
         "xaxis": "x43",
         "y": [
          0.48845780297076713
         ],
         "yaxis": "y43"
        },
        {
         "hovertemplate": "%{text}",
         "legendgroup": "0.1",
         "marker": {
          "color": "red"
         },
         "mode": "markers",
         "name": "dx=0.1",
         "showlegend": false,
         "text": [
          "<br>Git Hash: 7c99dbc59c2c38c7c192be00eac500546471bed0</br>\n<br>Version: 2023.3.0</br>\n<br>Timestamp 2023-04-12</br>"
         ],
         "type": "scatter",
         "x": [
          "2023-04-12T09:53:30.436212"
         ],
         "xaxis": "x44",
         "y": [
          0.05
         ],
         "yaxis": "y44"
        },
        {
         "hovertemplate": "%{text}",
         "legendgroup": "0.1",
         "marker": {
          "color": "red"
         },
         "mode": "markers",
         "name": "dx=0.1",
         "showlegend": false,
         "text": [
          "<br>Git Hash: 7c99dbc59c2c38c7c192be00eac500546471bed0</br>\n<br>Version: 2023.3.0</br>\n<br>Timestamp 2023-04-12</br>"
         ],
         "type": "scatter",
         "x": [
          "2023-04-12T09:53:30.436212"
         ],
         "xaxis": "x45",
         "y": [
          0.09721669804675352
         ],
         "yaxis": "y45"
        },
        {
         "hovertemplate": "%{text}",
         "legendgroup": "0.1",
         "marker": {
          "color": "red"
         },
         "mode": "markers",
         "name": "dx=0.1",
         "showlegend": false,
         "text": [
          "<br>Git Hash: 7c99dbc59c2c38c7c192be00eac500546471bed0</br>\n<br>Version: 2023.3.0</br>\n<br>Timestamp 2023-04-12</br>"
         ],
         "type": "scatter",
         "x": [
          "2023-04-12T09:53:30.436212"
         ],
         "xaxis": "x46",
         "y": [
          0.09721669804675352
         ],
         "yaxis": "y46"
        },
        {
         "hovertemplate": "%{text}",
         "legendgroup": "0.1",
         "marker": {
          "color": "red"
         },
         "mode": "markers",
         "name": "dx=0.1",
         "showlegend": false,
         "text": [
          "<br>Git Hash: 7c99dbc59c2c38c7c192be00eac500546471bed0</br>\n<br>Version: 2023.3.0</br>\n<br>Timestamp 2023-04-12</br>"
         ],
         "type": "scatter",
         "x": [
          "2023-04-12T09:53:30.436212"
         ],
         "xaxis": "x47",
         "y": [
          0.4860834902337676
         ],
         "yaxis": "y47"
        },
        {
         "hovertemplate": "%{text}",
         "legendgroup": "0.1",
         "marker": {
          "color": "red"
         },
         "mode": "markers",
         "name": "dx=0.1",
         "showlegend": false,
         "text": [
          "<br>Git Hash: 7c99dbc59c2c38c7c192be00eac500546471bed0</br>\n<br>Version: 2023.3.0</br>\n<br>Timestamp 2023-04-12</br>"
         ],
         "type": "scatter",
         "x": [
          "2023-04-12T09:53:30.436212"
         ],
         "xaxis": "x48",
         "y": [
          0.48845780297076713
         ],
         "yaxis": "y48"
        },
        {
         "hovertemplate": "%{text}",
         "legendgroup": "0.1",
         "marker": {
          "color": "red"
         },
         "mode": "markers",
         "name": "dx=0.1",
         "showlegend": false,
         "text": [
          "<br>Git Hash: 7c99dbc59c2c38c7c192be00eac500546471bed0</br>\n<br>Version: 2023.3.0</br>\n<br>Timestamp 2023-04-12</br>"
         ],
         "type": "scatter",
         "x": [
          "2023-04-12T09:53:30.436212"
         ],
         "xaxis": "x49",
         "y": [
          0.05
         ],
         "yaxis": "y49"
        },
        {
         "hovertemplate": "%{text}",
         "legendgroup": "0.1",
         "marker": {
          "color": "red"
         },
         "mode": "markers",
         "name": "dx=0.1",
         "showlegend": false,
         "text": [
          "<br>Git Hash: 7c99dbc59c2c38c7c192be00eac500546471bed0</br>\n<br>Version: 2023.3.0</br>\n<br>Timestamp 2023-04-12</br>"
         ],
         "type": "scatter",
         "x": [
          "2023-04-12T09:53:30.436212"
         ],
         "xaxis": "x50",
         "y": [
          0.09721669804675352
         ],
         "yaxis": "y50"
        },
        {
         "hovertemplate": "%{text}",
         "legendgroup": "0.1",
         "marker": {
          "color": "red"
         },
         "mode": "markers",
         "name": "dx=0.1",
         "showlegend": false,
         "text": [
          "<br>Git Hash: 7c99dbc59c2c38c7c192be00eac500546471bed0</br>\n<br>Version: 2023.3.0</br>\n<br>Timestamp 2023-04-12</br>"
         ],
         "type": "scatter",
         "x": [
          "2023-04-12T09:53:30.436212"
         ],
         "xaxis": "x51",
         "y": [
          0.09721669804675352
         ],
         "yaxis": "y51"
        },
        {
         "hovertemplate": "%{text}",
         "legendgroup": "0.1",
         "marker": {
          "color": "red"
         },
         "mode": "markers",
         "name": "dx=0.1",
         "showlegend": false,
         "text": [
          "<br>Git Hash: 7c99dbc59c2c38c7c192be00eac500546471bed0</br>\n<br>Version: 2023.3.0</br>\n<br>Timestamp 2023-04-12</br>"
         ],
         "type": "scatter",
         "x": [
          "2023-04-12T09:53:30.436212"
         ],
         "xaxis": "x52",
         "y": [
          0.4860834902337676
         ],
         "yaxis": "y52"
        },
        {
         "hovertemplate": "%{text}",
         "legendgroup": "0.1",
         "marker": {
          "color": "red"
         },
         "mode": "markers",
         "name": "dx=0.1",
         "showlegend": false,
         "text": [
          "<br>Git Hash: 7c99dbc59c2c38c7c192be00eac500546471bed0</br>\n<br>Version: 2023.3.0</br>\n<br>Timestamp 2023-04-12</br>"
         ],
         "type": "scatter",
         "x": [
          "2023-04-12T09:53:30.436212"
         ],
         "xaxis": "x53",
         "y": [
          0.48845780297076713
         ],
         "yaxis": "y53"
        },
        {
         "hovertemplate": "%{text}",
         "legendgroup": "0.1",
         "marker": {
          "color": "red"
         },
         "mode": "markers",
         "name": "dx=0.1",
         "showlegend": false,
         "text": [
          "<br>Git Hash: 7c99dbc59c2c38c7c192be00eac500546471bed0</br>\n<br>Version: 2023.3.0</br>\n<br>Timestamp 2023-04-12</br>"
         ],
         "type": "scatter",
         "x": [
          "2023-04-12T09:53:30.436212"
         ],
         "xaxis": "x54",
         "y": [
          0.05
         ],
         "yaxis": "y54"
        },
        {
         "hovertemplate": "%{text}",
         "legendgroup": "0.2",
         "marker": {
          "color": "green"
         },
         "mode": "markers",
         "name": "dx=0.2",
         "showlegend": true,
         "text": [
          "<br>Git Hash: 7c99dbc59c2c38c7c192be00eac500546471bed0</br>\n<br>Version: 2023.3.0</br>\n<br>Timestamp 2023-04-12</br>"
         ],
         "type": "scatter",
         "x": [
          "2023-04-12T09:53:34.139318"
         ],
         "xaxis": "x",
         "y": [
          1.3000000080864993e-06
         ],
         "yaxis": "y"
        },
        {
         "hovertemplate": "%{text}",
         "legendgroup": "0.2",
         "marker": {
          "color": "green"
         },
         "mode": "markers",
         "name": "dx=0.2",
         "showlegend": false,
         "text": [
          "<br>Git Hash: 7c99dbc59c2c38c7c192be00eac500546471bed0</br>\n<br>Version: 2023.3.0</br>\n<br>Timestamp 2023-04-12</br>"
         ],
         "type": "scatter",
         "x": [
          "2023-04-12T09:53:34.139318"
         ],
         "xaxis": "x2",
         "y": [
          0.05
         ],
         "yaxis": "y2"
        },
        {
         "hovertemplate": "%{text}",
         "legendgroup": "0.2",
         "marker": {
          "color": "green"
         },
         "mode": "markers",
         "name": "dx=0.2",
         "showlegend": false,
         "text": [
          "<br>Git Hash: 7c99dbc59c2c38c7c192be00eac500546471bed0</br>\n<br>Version: 2023.3.0</br>\n<br>Timestamp 2023-04-12</br>"
         ],
         "type": "scatter",
         "x": [
          "2023-04-12T09:53:34.139318"
         ],
         "xaxis": "x3",
         "y": [
          0.2
         ],
         "yaxis": "y3"
        },
        {
         "hovertemplate": "%{text}",
         "legendgroup": "0.2",
         "marker": {
          "color": "green"
         },
         "mode": "markers",
         "name": "dx=0.2",
         "showlegend": false,
         "text": [
          "<br>Git Hash: 7c99dbc59c2c38c7c192be00eac500546471bed0</br>\n<br>Version: 2023.3.0</br>\n<br>Timestamp 2023-04-12</br>"
         ],
         "type": "scatter",
         "x": [
          "2023-04-12T09:53:34.139318"
         ],
         "xaxis": "x4",
         "y": [
          180
         ],
         "yaxis": "y4"
        },
        {
         "hovertemplate": "%{text}",
         "legendgroup": "0.2",
         "marker": {
          "color": "green"
         },
         "mode": "markers",
         "name": "dx=0.2",
         "showlegend": false,
         "text": [
          "<br>Git Hash: 7c99dbc59c2c38c7c192be00eac500546471bed0</br>\n<br>Version: 2023.3.0</br>\n<br>Timestamp 2023-04-12</br>"
         ],
         "type": "scatter",
         "x": [
          "2023-04-12T09:53:34.139318"
         ],
         "xaxis": "x5",
         "y": [
          1440
         ],
         "yaxis": "y5"
        },
        {
         "hovertemplate": "%{text}",
         "legendgroup": "0.2",
         "marker": {
          "color": "green"
         },
         "mode": "markers",
         "name": "dx=0.2",
         "showlegend": false,
         "text": [
          "<br>Git Hash: 7c99dbc59c2c38c7c192be00eac500546471bed0</br>\n<br>Version: 2023.3.0</br>\n<br>Timestamp 2023-04-12</br>"
         ],
         "type": "scatter",
         "x": [
          "2023-04-12T09:53:34.139318"
         ],
         "xaxis": "x6",
         "y": [
          88
         ],
         "yaxis": "y6"
        },
        {
         "hovertemplate": "%{text}",
         "legendgroup": "0.2",
         "marker": {
          "color": "green"
         },
         "mode": "markers",
         "name": "dx=0.2",
         "showlegend": false,
         "text": [
          "<br>Git Hash: 7c99dbc59c2c38c7c192be00eac500546471bed0</br>\n<br>Version: 2023.3.0</br>\n<br>Timestamp 2023-04-12</br>"
         ],
         "type": "scatter",
         "x": [
          "2023-04-12T09:53:34.139318"
         ],
         "xaxis": "x7",
         "y": [
          441
         ],
         "yaxis": "y7"
        },
        {
         "hovertemplate": "%{text}",
         "legendgroup": "0.2",
         "marker": {
          "color": "green"
         },
         "mode": "markers",
         "name": "dx=0.2",
         "showlegend": false,
         "text": [
          "<br>Git Hash: 7c99dbc59c2c38c7c192be00eac500546471bed0</br>\n<br>Version: 2023.3.0</br>\n<br>Timestamp 2023-04-12</br>"
         ],
         "type": "scatter",
         "x": [
          "2023-04-12T09:53:34.139318"
         ],
         "xaxis": "x8",
         "y": [
          132.99851071300003
         ],
         "yaxis": "y8"
        },
        {
         "hovertemplate": "%{text}",
         "legendgroup": "0.2",
         "marker": {
          "color": "green"
         },
         "mode": "markers",
         "name": "dx=0.2",
         "showlegend": false,
         "text": [
          "<br>Git Hash: 7c99dbc59c2c38c7c192be00eac500546471bed0</br>\n<br>Version: 2023.3.0</br>\n<br>Timestamp 2023-04-12</br>"
         ],
         "type": "scatter",
         "x": [
          "2023-04-12T09:53:34.139318"
         ],
         "xaxis": "x9",
         "y": [
          1251.196527563
         ],
         "yaxis": "y9"
        },
        {
         "hovertemplate": "%{text}",
         "legendgroup": "0.2",
         "marker": {
          "color": "green"
         },
         "mode": "markers",
         "name": "dx=0.2",
         "showlegend": false,
         "text": [
          "<br>Git Hash: 7c99dbc59c2c38c7c192be00eac500546471bed0</br>\n<br>Version: 2023.3.0</br>\n<br>Timestamp 2023-04-12</br>"
         ],
         "type": "scatter",
         "x": [
          "2023-04-12T09:53:34.139318"
         ],
         "xaxis": "x10",
         "y": [
          1.1788906071894687
         ],
         "yaxis": "y10"
        },
        {
         "hovertemplate": "%{text}",
         "legendgroup": "0.2",
         "marker": {
          "color": "green"
         },
         "mode": "markers",
         "name": "dx=0.2",
         "showlegend": false,
         "text": [
          "<br>Git Hash: 7c99dbc59c2c38c7c192be00eac500546471bed0</br>\n<br>Version: 2023.3.0</br>\n<br>Timestamp 2023-04-12</br>"
         ],
         "type": "scatter",
         "x": [
          "2023-04-12T09:53:34.139318"
         ],
         "xaxis": "x11",
         "y": [
          1.1788906071894687
         ],
         "yaxis": "y11"
        },
        {
         "hovertemplate": "%{text}",
         "legendgroup": "0.2",
         "marker": {
          "color": "green"
         },
         "mode": "markers",
         "name": "dx=0.2",
         "showlegend": false,
         "text": [
          "<br>Git Hash: 7c99dbc59c2c38c7c192be00eac500546471bed0</br>\n<br>Version: 2023.3.0</br>\n<br>Timestamp 2023-04-12</br>"
         ],
         "type": "scatter",
         "x": [
          "2023-04-12T09:53:34.139318"
         ],
         "xaxis": "x12",
         "y": [
          238.880967611606
         ],
         "yaxis": "y12"
        },
        {
         "hovertemplate": "%{text}",
         "legendgroup": "0.2",
         "marker": {
          "color": "green"
         },
         "mode": "markers",
         "name": "dx=0.2",
         "showlegend": false,
         "text": [
          "<br>Git Hash: 7c99dbc59c2c38c7c192be00eac500546471bed0</br>\n<br>Version: 2023.3.0</br>\n<br>Timestamp 2023-04-12</br>"
         ],
         "type": "scatter",
         "x": [
          "2023-04-12T09:53:34.139318"
         ],
         "xaxis": "x13",
         "y": [
          265.40595347521
         ],
         "yaxis": "y13"
        },
        {
         "hovertemplate": "%{text}",
         "legendgroup": "0.2",
         "marker": {
          "color": "green"
         },
         "mode": "markers",
         "name": "dx=0.2",
         "showlegend": false,
         "text": [
          "<br>Git Hash: 7c99dbc59c2c38c7c192be00eac500546471bed0</br>\n<br>Version: 2023.3.0</br>\n<br>Timestamp 2023-04-12</br>"
         ],
         "type": "scatter",
         "x": [
          "2023-04-12T09:53:34.139318"
         ],
         "xaxis": "x14",
         "y": [
          332.35152396272616
         ],
         "yaxis": "y14"
        },
        {
         "hovertemplate": "%{text}",
         "legendgroup": "0.2",
         "marker": {
          "color": "green"
         },
         "mode": "markers",
         "name": "dx=0.2",
         "showlegend": false,
         "text": [
          "<br>Git Hash: 7c99dbc59c2c38c7c192be00eac500546471bed0</br>\n<br>Version: 2023.3.0</br>\n<br>Timestamp 2023-04-12</br>"
         ],
         "type": "scatter",
         "x": [
          "2023-04-12T09:53:34.139318"
         ],
         "xaxis": "x15",
         "y": [
          93.47055635112017
         ],
         "yaxis": "y15"
        },
        {
         "hovertemplate": "%{text}",
         "legendgroup": "0.2",
         "marker": {
          "color": "green"
         },
         "mode": "markers",
         "name": "dx=0.2",
         "showlegend": false,
         "text": [
          "<br>Git Hash: 7c99dbc59c2c38c7c192be00eac500546471bed0</br>\n<br>Version: 2023.3.0</br>\n<br>Timestamp 2023-04-12</br>"
         ],
         "type": "scatter",
         "x": [
          "2023-04-12T09:53:34.139318"
         ],
         "xaxis": "x16",
         "y": [
          51.119339741833805
         ],
         "yaxis": "y16"
        },
        {
         "hovertemplate": "%{text}",
         "legendgroup": "0.2",
         "marker": {
          "color": "green"
         },
         "mode": "markers",
         "name": "dx=0.2",
         "showlegend": false,
         "text": [
          "<br>Git Hash: 7c99dbc59c2c38c7c192be00eac500546471bed0</br>\n<br>Version: 2023.3.0</br>\n<br>Timestamp 2023-04-12</br>"
         ],
         "type": "scatter",
         "x": [
          "2023-04-12T09:53:34.139318"
         ],
         "xaxis": "x17",
         "y": [
          -88.0216343300843
         ],
         "yaxis": "y17"
        },
        {
         "hovertemplate": "%{text}",
         "legendgroup": "0.2",
         "marker": {
          "color": "green"
         },
         "mode": "markers",
         "name": "dx=0.2",
         "showlegend": false,
         "text": [
          "<br>Git Hash: 7c99dbc59c2c38c7c192be00eac500546471bed0</br>\n<br>Version: 2023.3.0</br>\n<br>Timestamp 2023-04-12</br>"
         ],
         "type": "scatter",
         "x": [
          "2023-04-12T09:53:34.139318"
         ],
         "xaxis": "x18",
         "y": [
          18.018904211557036
         ],
         "yaxis": "y18"
        },
        {
         "hovertemplate": "%{text}",
         "legendgroup": "0.2",
         "marker": {
          "color": "green"
         },
         "mode": "markers",
         "name": "dx=0.2",
         "showlegend": false,
         "text": [
          "<br>Git Hash: 7c99dbc59c2c38c7c192be00eac500546471bed0</br>\n<br>Version: 2023.3.0</br>\n<br>Timestamp 2023-04-12</br>"
         ],
         "type": "scatter",
         "x": [
          "2023-04-12T09:53:34.139318"
         ],
         "xaxis": "x19",
         "y": [
          0.0002614958607743183
         ],
         "yaxis": "y19"
        },
        {
         "hovertemplate": "%{text}",
         "legendgroup": "0.2",
         "marker": {
          "color": "green"
         },
         "mode": "markers",
         "name": "dx=0.2",
         "showlegend": false,
         "text": [
          "<br>Git Hash: 7c99dbc59c2c38c7c192be00eac500546471bed0</br>\n<br>Version: 2023.3.0</br>\n<br>Timestamp 2023-04-12</br>"
         ],
         "type": "scatter",
         "x": [
          "2023-04-12T09:53:34.139318"
         ],
         "xaxis": "x20",
         "y": [
          0.0001941577043003715
         ],
         "yaxis": "y20"
        },
        {
         "hovertemplate": "%{text}",
         "legendgroup": "0.2",
         "marker": {
          "color": "green"
         },
         "mode": "markers",
         "name": "dx=0.2",
         "showlegend": false,
         "text": [
          "<br>Git Hash: 7c99dbc59c2c38c7c192be00eac500546471bed0</br>\n<br>Version: 2023.3.0</br>\n<br>Timestamp 2023-04-12</br>"
         ],
         "type": "scatter",
         "x": [
          "2023-04-12T09:53:34.139318"
         ],
         "xaxis": "x21",
         "y": [
          268.71888085586943
         ],
         "yaxis": "y21"
        },
        {
         "hovertemplate": "%{text}",
         "legendgroup": "0.2",
         "marker": {
          "color": "green"
         },
         "mode": "markers",
         "name": "dx=0.2",
         "showlegend": false,
         "text": [
          "<br>Git Hash: 7c99dbc59c2c38c7c192be00eac500546471bed0</br>\n<br>Version: 2023.3.0</br>\n<br>Timestamp 2023-04-12</br>"
         ],
         "type": "scatter",
         "x": [
          "2023-04-12T09:53:34.139318"
         ],
         "xaxis": "x22",
         "y": [
          388.2479019142725
         ],
         "yaxis": "y22"
        },
        {
         "hovertemplate": "%{text}",
         "legendgroup": "0.2",
         "marker": {
          "color": "green"
         },
         "mode": "markers",
         "name": "dx=0.2",
         "showlegend": false,
         "text": [
          "<br>Git Hash: 7c99dbc59c2c38c7c192be00eac500546471bed0</br>\n<br>Version: 2023.3.0</br>\n<br>Timestamp 2023-04-12</br>"
         ],
         "type": "scatter",
         "x": [
          "2023-04-12T09:53:34.139318"
         ],
         "xaxis": "x23",
         "y": [
          469.9497938229694
         ],
         "yaxis": "y23"
        },
        {
         "hovertemplate": "%{text}",
         "legendgroup": "0.2",
         "marker": {
          "color": "green"
         },
         "mode": "markers",
         "name": "dx=0.2",
         "showlegend": false,
         "text": [
          "<br>Git Hash: 7c99dbc59c2c38c7c192be00eac500546471bed0</br>\n<br>Version: 2023.3.0</br>\n<br>Timestamp 2023-04-12</br>"
         ],
         "type": "scatter",
         "x": [
          "2023-04-12T09:53:34.139318"
         ],
         "xaxis": "x24",
         "y": [
          139
         ],
         "yaxis": "y24"
        },
        {
         "hovertemplate": "%{text}",
         "legendgroup": "0.2",
         "marker": {
          "color": "green"
         },
         "mode": "markers",
         "name": "dx=0.2",
         "showlegend": false,
         "text": [
          "<br>Git Hash: 7c99dbc59c2c38c7c192be00eac500546471bed0</br>\n<br>Version: 2023.3.0</br>\n<br>Timestamp 2023-04-12</br>"
         ],
         "type": "scatter",
         "x": [
          "2023-04-12T09:53:34.139318"
         ],
         "xaxis": "x25",
         "y": [
          149.33484727777108
         ],
         "yaxis": "y25"
        },
        {
         "hovertemplate": "%{text}",
         "legendgroup": "0.2",
         "marker": {
          "color": "green"
         },
         "mode": "markers",
         "name": "dx=0.2",
         "showlegend": false,
         "text": [
          "<br>Git Hash: 7c99dbc59c2c38c7c192be00eac500546471bed0</br>\n<br>Version: 2023.3.0</br>\n<br>Timestamp 2023-04-12</br>"
         ],
         "type": "scatter",
         "x": [
          "2023-04-12T09:53:34.139318"
         ],
         "xaxis": "x26",
         "y": [
          457.3920865808646
         ],
         "yaxis": "y26"
        },
        {
         "hovertemplate": "%{text}",
         "legendgroup": "0.2",
         "marker": {
          "color": "green"
         },
         "mode": "markers",
         "name": "dx=0.2",
         "showlegend": false,
         "text": [
          "<br>Git Hash: 7c99dbc59c2c38c7c192be00eac500546471bed0</br>\n<br>Version: 2023.3.0</br>\n<br>Timestamp 2023-04-12</br>"
         ],
         "type": "scatter",
         "x": [
          "2023-04-12T09:53:34.139318"
         ],
         "xaxis": "x27",
         "y": [
          1.0000000000000002
         ],
         "yaxis": "y27"
        },
        {
         "hovertemplate": "%{text}",
         "legendgroup": "0.2",
         "marker": {
          "color": "green"
         },
         "mode": "markers",
         "name": "dx=0.2",
         "showlegend": false,
         "text": [
          "<br>Git Hash: 7c99dbc59c2c38c7c192be00eac500546471bed0</br>\n<br>Version: 2023.3.0</br>\n<br>Timestamp 2023-04-12</br>"
         ],
         "type": "scatter",
         "x": [
          "2023-04-12T09:53:34.139318"
         ],
         "xaxis": "x28",
         "y": [
          0.9026200778330545
         ],
         "yaxis": "y28"
        },
        {
         "hovertemplate": "%{text}",
         "legendgroup": "0.2",
         "marker": {
          "color": "green"
         },
         "mode": "markers",
         "name": "dx=0.2",
         "showlegend": false,
         "text": [
          "<br>Git Hash: 7c99dbc59c2c38c7c192be00eac500546471bed0</br>\n<br>Version: 2023.3.0</br>\n<br>Timestamp 2023-04-12</br>"
         ],
         "type": "scatter",
         "x": [
          "2023-04-12T09:53:34.139318"
         ],
         "xaxis": "x29",
         "y": [
          138
         ],
         "yaxis": "y29"
        },
        {
         "hovertemplate": "%{text}",
         "legendgroup": "0.2",
         "marker": {
          "color": "green"
         },
         "mode": "markers",
         "name": "dx=0.2",
         "showlegend": false,
         "text": [
          "<br>Git Hash: 7c99dbc59c2c38c7c192be00eac500546471bed0</br>\n<br>Version: 2023.3.0</br>\n<br>Timestamp 2023-04-12</br>"
         ],
         "type": "scatter",
         "x": [
          "2023-04-12T09:53:34.139318"
         ],
         "xaxis": "x30",
         "y": [
          272.29877305280485
         ],
         "yaxis": "y30"
        },
        {
         "hovertemplate": "%{text}",
         "legendgroup": "0.2",
         "marker": {
          "color": "green"
         },
         "mode": "markers",
         "name": "dx=0.2",
         "showlegend": false,
         "text": [
          "<br>Git Hash: 7c99dbc59c2c38c7c192be00eac500546471bed0</br>\n<br>Version: 2023.3.0</br>\n<br>Timestamp 2023-04-12</br>"
         ],
         "type": "scatter",
         "x": [
          "2023-04-12T09:53:34.139318"
         ],
         "xaxis": "x31",
         "y": [
          403.21871577148255
         ],
         "yaxis": "y31"
        },
        {
         "hovertemplate": "%{text}",
         "legendgroup": "0.2",
         "marker": {
          "color": "green"
         },
         "mode": "markers",
         "name": "dx=0.2",
         "showlegend": false,
         "text": [
          "<br>Git Hash: 7c99dbc59c2c38c7c192be00eac500546471bed0</br>\n<br>Version: 2023.3.0</br>\n<br>Timestamp 2023-04-12</br>"
         ],
         "type": "scatter",
         "x": [
          "2023-04-12T09:53:34.139318"
         ],
         "xaxis": "x32",
         "y": [
          520.5748812157544
         ],
         "yaxis": "y32"
        },
        {
         "hovertemplate": "%{text}",
         "legendgroup": "0.2",
         "marker": {
          "color": "green"
         },
         "mode": "markers",
         "name": "dx=0.2",
         "showlegend": false,
         "text": [
          "<br>Git Hash: 7c99dbc59c2c38c7c192be00eac500546471bed0</br>\n<br>Version: 2023.3.0</br>\n<br>Timestamp 2023-04-12</br>"
         ],
         "type": "scatter",
         "x": [
          "2023-04-12T09:53:34.139318"
         ],
         "xaxis": "x33",
         "y": [
          193.10708889236508
         ],
         "yaxis": "y33"
        },
        {
         "hovertemplate": "%{text}",
         "legendgroup": "0.2",
         "marker": {
          "color": "green"
         },
         "mode": "markers",
         "name": "dx=0.2",
         "showlegend": false,
         "text": [
          "<br>Git Hash: 7c99dbc59c2c38c7c192be00eac500546471bed0</br>\n<br>Version: 2023.3.0</br>\n<br>Timestamp 2023-04-12</br>"
         ],
         "type": "scatter",
         "x": [
          "2023-04-12T09:53:34.139318"
         ],
         "xaxis": "x34",
         "y": [
          -108.49539275650265
         ],
         "yaxis": "y34"
        },
        {
         "hovertemplate": "%{text}",
         "legendgroup": "0.2",
         "marker": {
          "color": "green"
         },
         "mode": "markers",
         "name": "dx=0.2",
         "showlegend": false,
         "text": [
          "<br>Git Hash: 7c99dbc59c2c38c7c192be00eac500546471bed0</br>\n<br>Version: 2023.3.0</br>\n<br>Timestamp 2023-04-12</br>"
         ],
         "type": "scatter",
         "x": [
          "2023-04-12T09:53:34.139318"
         ],
         "xaxis": "x35",
         "y": [
          0.16784510470578526
         ],
         "yaxis": "y35"
        },
        {
         "hovertemplate": "%{text}",
         "legendgroup": "0.2",
         "marker": {
          "color": "green"
         },
         "mode": "markers",
         "name": "dx=0.2",
         "showlegend": false,
         "text": [
          "<br>Git Hash: 7c99dbc59c2c38c7c192be00eac500546471bed0</br>\n<br>Version: 2023.3.0</br>\n<br>Timestamp 2023-04-12</br>"
         ],
         "type": "scatter",
         "x": [
          "2023-04-12T09:53:34.139318"
         ],
         "xaxis": "x36",
         "y": [
          0.16784510470578526
         ],
         "yaxis": "y36"
        },
        {
         "hovertemplate": "%{text}",
         "legendgroup": "0.2",
         "marker": {
          "color": "green"
         },
         "mode": "markers",
         "name": "dx=0.2",
         "showlegend": false,
         "text": [
          "<br>Git Hash: 7c99dbc59c2c38c7c192be00eac500546471bed0</br>\n<br>Version: 2023.3.0</br>\n<br>Timestamp 2023-04-12</br>"
         ],
         "type": "scatter",
         "x": [
          "2023-04-12T09:53:34.139318"
         ],
         "xaxis": "x37",
         "y": [
          0.8392255235289262
         ],
         "yaxis": "y37"
        },
        {
         "hovertemplate": "%{text}",
         "legendgroup": "0.2",
         "marker": {
          "color": "green"
         },
         "mode": "markers",
         "name": "dx=0.2",
         "showlegend": false,
         "text": [
          "<br>Git Hash: 7c99dbc59c2c38c7c192be00eac500546471bed0</br>\n<br>Version: 2023.3.0</br>\n<br>Timestamp 2023-04-12</br>"
         ],
         "type": "scatter",
         "x": [
          "2023-04-12T09:53:34.139318"
         ],
         "xaxis": "x38",
         "y": [
          0.8463281251681412
         ],
         "yaxis": "y38"
        },
        {
         "hovertemplate": "%{text}",
         "legendgroup": "0.2",
         "marker": {
          "color": "green"
         },
         "mode": "markers",
         "name": "dx=0.2",
         "showlegend": false,
         "text": [
          "<br>Git Hash: 7c99dbc59c2c38c7c192be00eac500546471bed0</br>\n<br>Version: 2023.3.0</br>\n<br>Timestamp 2023-04-12</br>"
         ],
         "type": "scatter",
         "x": [
          "2023-04-12T09:53:34.139318"
         ],
         "xaxis": "x39",
         "y": [
          0.05
         ],
         "yaxis": "y39"
        },
        {
         "hovertemplate": "%{text}",
         "legendgroup": "0.2",
         "marker": {
          "color": "green"
         },
         "mode": "markers",
         "name": "dx=0.2",
         "showlegend": false,
         "text": [
          "<br>Git Hash: 7c99dbc59c2c38c7c192be00eac500546471bed0</br>\n<br>Version: 2023.3.0</br>\n<br>Timestamp 2023-04-12</br>"
         ],
         "type": "scatter",
         "x": [
          "2023-04-12T09:53:34.139318"
         ],
         "xaxis": "x40",
         "y": [
          0.09690541638404604
         ],
         "yaxis": "y40"
        },
        {
         "hovertemplate": "%{text}",
         "legendgroup": "0.2",
         "marker": {
          "color": "green"
         },
         "mode": "markers",
         "name": "dx=0.2",
         "showlegend": false,
         "text": [
          "<br>Git Hash: 7c99dbc59c2c38c7c192be00eac500546471bed0</br>\n<br>Version: 2023.3.0</br>\n<br>Timestamp 2023-04-12</br>"
         ],
         "type": "scatter",
         "x": [
          "2023-04-12T09:53:34.139318"
         ],
         "xaxis": "x41",
         "y": [
          0.09690541638404604
         ],
         "yaxis": "y41"
        },
        {
         "hovertemplate": "%{text}",
         "legendgroup": "0.2",
         "marker": {
          "color": "green"
         },
         "mode": "markers",
         "name": "dx=0.2",
         "showlegend": false,
         "text": [
          "<br>Git Hash: 7c99dbc59c2c38c7c192be00eac500546471bed0</br>\n<br>Version: 2023.3.0</br>\n<br>Timestamp 2023-04-12</br>"
         ],
         "type": "scatter",
         "x": [
          "2023-04-12T09:53:34.139318"
         ],
         "xaxis": "x42",
         "y": [
          0.4845270819202302
         ],
         "yaxis": "y42"
        },
        {
         "hovertemplate": "%{text}",
         "legendgroup": "0.2",
         "marker": {
          "color": "green"
         },
         "mode": "markers",
         "name": "dx=0.2",
         "showlegend": false,
         "text": [
          "<br>Git Hash: 7c99dbc59c2c38c7c192be00eac500546471bed0</br>\n<br>Version: 2023.3.0</br>\n<br>Timestamp 2023-04-12</br>"
         ],
         "type": "scatter",
         "x": [
          "2023-04-12T09:53:34.139318"
         ],
         "xaxis": "x43",
         "y": [
          0.48688617730741074
         ],
         "yaxis": "y43"
        },
        {
         "hovertemplate": "%{text}",
         "legendgroup": "0.2",
         "marker": {
          "color": "green"
         },
         "mode": "markers",
         "name": "dx=0.2",
         "showlegend": false,
         "text": [
          "<br>Git Hash: 7c99dbc59c2c38c7c192be00eac500546471bed0</br>\n<br>Version: 2023.3.0</br>\n<br>Timestamp 2023-04-12</br>"
         ],
         "type": "scatter",
         "x": [
          "2023-04-12T09:53:34.139318"
         ],
         "xaxis": "x44",
         "y": [
          0.05
         ],
         "yaxis": "y44"
        },
        {
         "hovertemplate": "%{text}",
         "legendgroup": "0.2",
         "marker": {
          "color": "green"
         },
         "mode": "markers",
         "name": "dx=0.2",
         "showlegend": false,
         "text": [
          "<br>Git Hash: 7c99dbc59c2c38c7c192be00eac500546471bed0</br>\n<br>Version: 2023.3.0</br>\n<br>Timestamp 2023-04-12</br>"
         ],
         "type": "scatter",
         "x": [
          "2023-04-12T09:53:34.139318"
         ],
         "xaxis": "x45",
         "y": [
          0.09690541638404604
         ],
         "yaxis": "y45"
        },
        {
         "hovertemplate": "%{text}",
         "legendgroup": "0.2",
         "marker": {
          "color": "green"
         },
         "mode": "markers",
         "name": "dx=0.2",
         "showlegend": false,
         "text": [
          "<br>Git Hash: 7c99dbc59c2c38c7c192be00eac500546471bed0</br>\n<br>Version: 2023.3.0</br>\n<br>Timestamp 2023-04-12</br>"
         ],
         "type": "scatter",
         "x": [
          "2023-04-12T09:53:34.139318"
         ],
         "xaxis": "x46",
         "y": [
          0.09690541638404604
         ],
         "yaxis": "y46"
        },
        {
         "hovertemplate": "%{text}",
         "legendgroup": "0.2",
         "marker": {
          "color": "green"
         },
         "mode": "markers",
         "name": "dx=0.2",
         "showlegend": false,
         "text": [
          "<br>Git Hash: 7c99dbc59c2c38c7c192be00eac500546471bed0</br>\n<br>Version: 2023.3.0</br>\n<br>Timestamp 2023-04-12</br>"
         ],
         "type": "scatter",
         "x": [
          "2023-04-12T09:53:34.139318"
         ],
         "xaxis": "x47",
         "y": [
          0.4845270819202302
         ],
         "yaxis": "y47"
        },
        {
         "hovertemplate": "%{text}",
         "legendgroup": "0.2",
         "marker": {
          "color": "green"
         },
         "mode": "markers",
         "name": "dx=0.2",
         "showlegend": false,
         "text": [
          "<br>Git Hash: 7c99dbc59c2c38c7c192be00eac500546471bed0</br>\n<br>Version: 2023.3.0</br>\n<br>Timestamp 2023-04-12</br>"
         ],
         "type": "scatter",
         "x": [
          "2023-04-12T09:53:34.139318"
         ],
         "xaxis": "x48",
         "y": [
          0.48688617730741074
         ],
         "yaxis": "y48"
        },
        {
         "hovertemplate": "%{text}",
         "legendgroup": "0.2",
         "marker": {
          "color": "green"
         },
         "mode": "markers",
         "name": "dx=0.2",
         "showlegend": false,
         "text": [
          "<br>Git Hash: 7c99dbc59c2c38c7c192be00eac500546471bed0</br>\n<br>Version: 2023.3.0</br>\n<br>Timestamp 2023-04-12</br>"
         ],
         "type": "scatter",
         "x": [
          "2023-04-12T09:53:34.139318"
         ],
         "xaxis": "x49",
         "y": [
          0.05
         ],
         "yaxis": "y49"
        },
        {
         "hovertemplate": "%{text}",
         "legendgroup": "0.2",
         "marker": {
          "color": "green"
         },
         "mode": "markers",
         "name": "dx=0.2",
         "showlegend": false,
         "text": [
          "<br>Git Hash: 7c99dbc59c2c38c7c192be00eac500546471bed0</br>\n<br>Version: 2023.3.0</br>\n<br>Timestamp 2023-04-12</br>"
         ],
         "type": "scatter",
         "x": [
          "2023-04-12T09:53:34.139318"
         ],
         "xaxis": "x50",
         "y": [
          0.09690541638404604
         ],
         "yaxis": "y50"
        },
        {
         "hovertemplate": "%{text}",
         "legendgroup": "0.2",
         "marker": {
          "color": "green"
         },
         "mode": "markers",
         "name": "dx=0.2",
         "showlegend": false,
         "text": [
          "<br>Git Hash: 7c99dbc59c2c38c7c192be00eac500546471bed0</br>\n<br>Version: 2023.3.0</br>\n<br>Timestamp 2023-04-12</br>"
         ],
         "type": "scatter",
         "x": [
          "2023-04-12T09:53:34.139318"
         ],
         "xaxis": "x51",
         "y": [
          0.09690541638404604
         ],
         "yaxis": "y51"
        },
        {
         "hovertemplate": "%{text}",
         "legendgroup": "0.2",
         "marker": {
          "color": "green"
         },
         "mode": "markers",
         "name": "dx=0.2",
         "showlegend": false,
         "text": [
          "<br>Git Hash: 7c99dbc59c2c38c7c192be00eac500546471bed0</br>\n<br>Version: 2023.3.0</br>\n<br>Timestamp 2023-04-12</br>"
         ],
         "type": "scatter",
         "x": [
          "2023-04-12T09:53:34.139318"
         ],
         "xaxis": "x52",
         "y": [
          0.4845270819202302
         ],
         "yaxis": "y52"
        },
        {
         "hovertemplate": "%{text}",
         "legendgroup": "0.2",
         "marker": {
          "color": "green"
         },
         "mode": "markers",
         "name": "dx=0.2",
         "showlegend": false,
         "text": [
          "<br>Git Hash: 7c99dbc59c2c38c7c192be00eac500546471bed0</br>\n<br>Version: 2023.3.0</br>\n<br>Timestamp 2023-04-12</br>"
         ],
         "type": "scatter",
         "x": [
          "2023-04-12T09:53:34.139318"
         ],
         "xaxis": "x53",
         "y": [
          0.48688617730741074
         ],
         "yaxis": "y53"
        },
        {
         "hovertemplate": "%{text}",
         "legendgroup": "0.2",
         "marker": {
          "color": "green"
         },
         "mode": "markers",
         "name": "dx=0.2",
         "showlegend": false,
         "text": [
          "<br>Git Hash: 7c99dbc59c2c38c7c192be00eac500546471bed0</br>\n<br>Version: 2023.3.0</br>\n<br>Timestamp 2023-04-12</br>"
         ],
         "type": "scatter",
         "x": [
          "2023-04-12T09:53:34.139318"
         ],
         "xaxis": "x54",
         "y": [
          0.05
         ],
         "yaxis": "y54"
        },
        {
         "hovertemplate": "%{text}",
         "legendgroup": "0.4",
         "marker": {
          "color": "blue"
         },
         "mode": "markers",
         "name": "dx=0.4",
         "showlegend": true,
         "text": [
          "<br>Git Hash: 7c99dbc59c2c38c7c192be00eac500546471bed0</br>\n<br>Version: 2023.3.0</br>\n<br>Timestamp 2023-04-12</br>"
         ],
         "type": "scatter",
         "x": [
          "2023-04-12T09:53:31.010237"
         ],
         "xaxis": "x",
         "y": [
          9.999999974752427e-07
         ],
         "yaxis": "y"
        },
        {
         "hovertemplate": "%{text}",
         "legendgroup": "0.4",
         "marker": {
          "color": "blue"
         },
         "mode": "markers",
         "name": "dx=0.4",
         "showlegend": false,
         "text": [
          "<br>Git Hash: 7c99dbc59c2c38c7c192be00eac500546471bed0</br>\n<br>Version: 2023.3.0</br>\n<br>Timestamp 2023-04-12</br>"
         ],
         "type": "scatter",
         "x": [
          "2023-04-12T09:53:31.010237"
         ],
         "xaxis": "x2",
         "y": [
          0.05
         ],
         "yaxis": "y2"
        },
        {
         "hovertemplate": "%{text}",
         "legendgroup": "0.4",
         "marker": {
          "color": "blue"
         },
         "mode": "markers",
         "name": "dx=0.4",
         "showlegend": false,
         "text": [
          "<br>Git Hash: 7c99dbc59c2c38c7c192be00eac500546471bed0</br>\n<br>Version: 2023.3.0</br>\n<br>Timestamp 2023-04-12</br>"
         ],
         "type": "scatter",
         "x": [
          "2023-04-12T09:53:31.010237"
         ],
         "xaxis": "x3",
         "y": [
          0.4
         ],
         "yaxis": "y3"
        },
        {
         "hovertemplate": "%{text}",
         "legendgroup": "0.4",
         "marker": {
          "color": "blue"
         },
         "mode": "markers",
         "name": "dx=0.4",
         "showlegend": false,
         "text": [
          "<br>Git Hash: 7c99dbc59c2c38c7c192be00eac500546471bed0</br>\n<br>Version: 2023.3.0</br>\n<br>Timestamp 2023-04-12</br>"
         ],
         "type": "scatter",
         "x": [
          "2023-04-12T09:53:31.010237"
         ],
         "xaxis": "x4",
         "y": [
          60
         ],
         "yaxis": "y4"
        },
        {
         "hovertemplate": "%{text}",
         "legendgroup": "0.4",
         "marker": {
          "color": "blue"
         },
         "mode": "markers",
         "name": "dx=0.4",
         "showlegend": false,
         "text": [
          "<br>Git Hash: 7c99dbc59c2c38c7c192be00eac500546471bed0</br>\n<br>Version: 2023.3.0</br>\n<br>Timestamp 2023-04-12</br>"
         ],
         "type": "scatter",
         "x": [
          "2023-04-12T09:53:31.010237"
         ],
         "xaxis": "x5",
         "y": [
          480
         ],
         "yaxis": "y5"
        },
        {
         "hovertemplate": "%{text}",
         "legendgroup": "0.4",
         "marker": {
          "color": "blue"
         },
         "mode": "markers",
         "name": "dx=0.4",
         "showlegend": false,
         "text": [
          "<br>Git Hash: 7c99dbc59c2c38c7c192be00eac500546471bed0</br>\n<br>Version: 2023.3.0</br>\n<br>Timestamp 2023-04-12</br>"
         ],
         "type": "scatter",
         "x": [
          "2023-04-12T09:53:31.010237"
         ],
         "xaxis": "x6",
         "y": [
          36
         ],
         "yaxis": "y6"
        },
        {
         "hovertemplate": "%{text}",
         "legendgroup": "0.4",
         "marker": {
          "color": "blue"
         },
         "mode": "markers",
         "name": "dx=0.4",
         "showlegend": false,
         "text": [
          "<br>Git Hash: 7c99dbc59c2c38c7c192be00eac500546471bed0</br>\n<br>Version: 2023.3.0</br>\n<br>Timestamp 2023-04-12</br>"
         ],
         "type": "scatter",
         "x": [
          "2023-04-12T09:53:31.010237"
         ],
         "xaxis": "x7",
         "y": [
          165
         ],
         "yaxis": "y7"
        },
        {
         "hovertemplate": "%{text}",
         "legendgroup": "0.4",
         "marker": {
          "color": "blue"
         },
         "mode": "markers",
         "name": "dx=0.4",
         "showlegend": false,
         "text": [
          "<br>Git Hash: 7c99dbc59c2c38c7c192be00eac500546471bed0</br>\n<br>Version: 2023.3.0</br>\n<br>Timestamp 2023-04-12</br>"
         ],
         "type": "scatter",
         "x": [
          "2023-04-12T09:53:31.010237"
         ],
         "xaxis": "x8",
         "y": [
          134.56070818800004
         ],
         "yaxis": "y8"
        },
        {
         "hovertemplate": "%{text}",
         "legendgroup": "0.4",
         "marker": {
          "color": "blue"
         },
         "mode": "markers",
         "name": "dx=0.4",
         "showlegend": false,
         "text": [
          "<br>Git Hash: 7c99dbc59c2c38c7c192be00eac500546471bed0</br>\n<br>Version: 2023.3.0</br>\n<br>Timestamp 2023-04-12</br>"
         ],
         "type": "scatter",
         "x": [
          "2023-04-12T09:53:31.010237"
         ],
         "xaxis": "x9",
         "y": [
          594.1378821149999
         ],
         "yaxis": "y9"
        },
        {
         "hovertemplate": "%{text}",
         "legendgroup": "0.4",
         "marker": {
          "color": "blue"
         },
         "mode": "markers",
         "name": "dx=0.4",
         "showlegend": false,
         "text": [
          "<br>Git Hash: 7c99dbc59c2c38c7c192be00eac500546471bed0</br>\n<br>Version: 2023.3.0</br>\n<br>Timestamp 2023-04-12</br>"
         ],
         "type": "scatter",
         "x": [
          "2023-04-12T09:53:31.010237"
         ],
         "xaxis": "x10",
         "y": [
          1.1795939114331073
         ],
         "yaxis": "y10"
        },
        {
         "hovertemplate": "%{text}",
         "legendgroup": "0.4",
         "marker": {
          "color": "blue"
         },
         "mode": "markers",
         "name": "dx=0.4",
         "showlegend": false,
         "text": [
          "<br>Git Hash: 7c99dbc59c2c38c7c192be00eac500546471bed0</br>\n<br>Version: 2023.3.0</br>\n<br>Timestamp 2023-04-12</br>"
         ],
         "type": "scatter",
         "x": [
          "2023-04-12T09:53:31.010237"
         ],
         "xaxis": "x11",
         "y": [
          1.1795939114331073
         ],
         "yaxis": "y11"
        },
        {
         "hovertemplate": "%{text}",
         "legendgroup": "0.4",
         "marker": {
          "color": "blue"
         },
         "mode": "markers",
         "name": "dx=0.4",
         "showlegend": false,
         "text": [
          "<br>Git Hash: 7c99dbc59c2c38c7c192be00eac500546471bed0</br>\n<br>Version: 2023.3.0</br>\n<br>Timestamp 2023-04-12</br>"
         ],
         "type": "scatter",
         "x": [
          "2023-04-12T09:53:31.010237"
         ],
         "xaxis": "x12",
         "y": [
          238.88180472701407
         ],
         "yaxis": "y12"
        },
        {
         "hovertemplate": "%{text}",
         "legendgroup": "0.4",
         "marker": {
          "color": "blue"
         },
         "mode": "markers",
         "name": "dx=0.4",
         "showlegend": false,
         "text": [
          "<br>Git Hash: 7c99dbc59c2c38c7c192be00eac500546471bed0</br>\n<br>Version: 2023.3.0</br>\n<br>Timestamp 2023-04-12</br>"
         ],
         "type": "scatter",
         "x": [
          "2023-04-12T09:53:31.010237"
         ],
         "xaxis": "x13",
         "y": [
          265.40692263982737
         ],
         "yaxis": "y13"
        },
        {
         "hovertemplate": "%{text}",
         "legendgroup": "0.4",
         "marker": {
          "color": "blue"
         },
         "mode": "markers",
         "name": "dx=0.4",
         "showlegend": false,
         "text": [
          "<br>Git Hash: 7c99dbc59c2c38c7c192be00eac500546471bed0</br>\n<br>Version: 2023.3.0</br>\n<br>Timestamp 2023-04-12</br>"
         ],
         "type": "scatter",
         "x": [
          "2023-04-12T09:53:31.010237"
         ],
         "xaxis": "x14",
         "y": [
          332.3530714488868
         ],
         "yaxis": "y14"
        },
        {
         "hovertemplate": "%{text}",
         "legendgroup": "0.4",
         "marker": {
          "color": "blue"
         },
         "mode": "markers",
         "name": "dx=0.4",
         "showlegend": false,
         "text": [
          "<br>Git Hash: 7c99dbc59c2c38c7c192be00eac500546471bed0</br>\n<br>Version: 2023.3.0</br>\n<br>Timestamp 2023-04-12</br>"
         ],
         "type": "scatter",
         "x": [
          "2023-04-12T09:53:31.010237"
         ],
         "xaxis": "x15",
         "y": [
          93.47126672187272
         ],
         "yaxis": "y15"
        },
        {
         "hovertemplate": "%{text}",
         "legendgroup": "0.4",
         "marker": {
          "color": "blue"
         },
         "mode": "markers",
         "name": "dx=0.4",
         "showlegend": false,
         "text": [
          "<br>Git Hash: 7c99dbc59c2c38c7c192be00eac500546471bed0</br>\n<br>Version: 2023.3.0</br>\n<br>Timestamp 2023-04-12</br>"
         ],
         "type": "scatter",
         "x": [
          "2023-04-12T09:53:31.010237"
         ],
         "xaxis": "x16",
         "y": [
          51.119339744528986
         ],
         "yaxis": "y16"
        },
        {
         "hovertemplate": "%{text}",
         "legendgroup": "0.4",
         "marker": {
          "color": "blue"
         },
         "mode": "markers",
         "name": "dx=0.4",
         "showlegend": false,
         "text": [
          "<br>Git Hash: 7c99dbc59c2c38c7c192be00eac500546471bed0</br>\n<br>Version: 2023.3.0</br>\n<br>Timestamp 2023-04-12</br>"
         ],
         "type": "scatter",
         "x": [
          "2023-04-12T09:53:31.010237"
         ],
         "xaxis": "x17",
         "y": [
          -88.02163493446695
         ],
         "yaxis": "y17"
        },
        {
         "hovertemplate": "%{text}",
         "legendgroup": "0.4",
         "marker": {
          "color": "blue"
         },
         "mode": "markers",
         "name": "dx=0.4",
         "showlegend": false,
         "text": [
          "<br>Git Hash: 7c99dbc59c2c38c7c192be00eac500546471bed0</br>\n<br>Version: 2023.3.0</br>\n<br>Timestamp 2023-04-12</br>"
         ],
         "type": "scatter",
         "x": [
          "2023-04-12T09:53:31.010237"
         ],
         "xaxis": "x18",
         "y": [
          18.018904243805178
         ],
         "yaxis": "y18"
        },
        {
         "hovertemplate": "%{text}",
         "legendgroup": "0.4",
         "marker": {
          "color": "blue"
         },
         "mode": "markers",
         "name": "dx=0.4",
         "showlegend": false,
         "text": [
          "<br>Git Hash: 7c99dbc59c2c38c7c192be00eac500546471bed0</br>\n<br>Version: 2023.3.0</br>\n<br>Timestamp 2023-04-12</br>"
         ],
         "type": "scatter",
         "x": [
          "2023-04-12T09:53:31.010237"
         ],
         "xaxis": "x19",
         "y": [
          0.00026145398325637235
         ],
         "yaxis": "y19"
        },
        {
         "hovertemplate": "%{text}",
         "legendgroup": "0.4",
         "marker": {
          "color": "blue"
         },
         "mode": "markers",
         "name": "dx=0.4",
         "showlegend": false,
         "text": [
          "<br>Git Hash: 7c99dbc59c2c38c7c192be00eac500546471bed0</br>\n<br>Version: 2023.3.0</br>\n<br>Timestamp 2023-04-12</br>"
         ],
         "type": "scatter",
         "x": [
          "2023-04-12T09:53:31.010237"
         ],
         "xaxis": "x20",
         "y": [
          0.00019411543172479968
         ],
         "yaxis": "y20"
        },
        {
         "hovertemplate": "%{text}",
         "legendgroup": "0.4",
         "marker": {
          "color": "blue"
         },
         "mode": "markers",
         "name": "dx=0.4",
         "showlegend": false,
         "text": [
          "<br>Git Hash: 7c99dbc59c2c38c7c192be00eac500546471bed0</br>\n<br>Version: 2023.3.0</br>\n<br>Timestamp 2023-04-12</br>"
         ],
         "type": "scatter",
         "x": [
          "2023-04-12T09:53:31.010237"
         ],
         "xaxis": "x21",
         "y": [
          268.7757377053
         ],
         "yaxis": "y21"
        },
        {
         "hovertemplate": "%{text}",
         "legendgroup": "0.4",
         "marker": {
          "color": "blue"
         },
         "mode": "markers",
         "name": "dx=0.4",
         "showlegend": false,
         "text": [
          "<br>Git Hash: 7c99dbc59c2c38c7c192be00eac500546471bed0</br>\n<br>Version: 2023.3.0</br>\n<br>Timestamp 2023-04-12</br>"
         ],
         "type": "scatter",
         "x": [
          "2023-04-12T09:53:31.010237"
         ],
         "xaxis": "x22",
         "y": [
          388.2781038876086
         ],
         "yaxis": "y22"
        },
        {
         "hovertemplate": "%{text}",
         "legendgroup": "0.4",
         "marker": {
          "color": "blue"
         },
         "mode": "markers",
         "name": "dx=0.4",
         "showlegend": false,
         "text": [
          "<br>Git Hash: 7c99dbc59c2c38c7c192be00eac500546471bed0</br>\n<br>Version: 2023.3.0</br>\n<br>Timestamp 2023-04-12</br>"
         ],
         "type": "scatter",
         "x": [
          "2023-04-12T09:53:31.010237"
         ],
         "xaxis": "x23",
         "y": [
          469.9759357159506
         ],
         "yaxis": "y23"
        },
        {
         "hovertemplate": "%{text}",
         "legendgroup": "0.4",
         "marker": {
          "color": "blue"
         },
         "mode": "markers",
         "name": "dx=0.4",
         "showlegend": false,
         "text": [
          "<br>Git Hash: 7c99dbc59c2c38c7c192be00eac500546471bed0</br>\n<br>Version: 2023.3.0</br>\n<br>Timestamp 2023-04-12</br>"
         ],
         "type": "scatter",
         "x": [
          "2023-04-12T09:53:31.010237"
         ],
         "xaxis": "x24",
         "y": [
          139
         ],
         "yaxis": "y24"
        },
        {
         "hovertemplate": "%{text}",
         "legendgroup": "0.4",
         "marker": {
          "color": "blue"
         },
         "mode": "markers",
         "name": "dx=0.4",
         "showlegend": false,
         "text": [
          "<br>Git Hash: 7c99dbc59c2c38c7c192be00eac500546471bed0</br>\n<br>Version: 2023.3.0</br>\n<br>Timestamp 2023-04-12</br>"
         ],
         "type": "scatter",
         "x": [
          "2023-04-12T09:53:31.010237"
         ],
         "xaxis": "x25",
         "y": [
          149.11073528755747
         ],
         "yaxis": "y25"
        },
        {
         "hovertemplate": "%{text}",
         "legendgroup": "0.4",
         "marker": {
          "color": "blue"
         },
         "mode": "markers",
         "name": "dx=0.4",
         "showlegend": false,
         "text": [
          "<br>Git Hash: 7c99dbc59c2c38c7c192be00eac500546471bed0</br>\n<br>Version: 2023.3.0</br>\n<br>Timestamp 2023-04-12</br>"
         ],
         "type": "scatter",
         "x": [
          "2023-04-12T09:53:31.010237"
         ],
         "xaxis": "x26",
         "y": [
          457.2204029861744
         ],
         "yaxis": "y26"
        },
        {
         "hovertemplate": "%{text}",
         "legendgroup": "0.4",
         "marker": {
          "color": "blue"
         },
         "mode": "markers",
         "name": "dx=0.4",
         "showlegend": false,
         "text": [
          "<br>Git Hash: 7c99dbc59c2c38c7c192be00eac500546471bed0</br>\n<br>Version: 2023.3.0</br>\n<br>Timestamp 2023-04-12</br>"
         ],
         "type": "scatter",
         "x": [
          "2023-04-12T09:53:31.010237"
         ],
         "xaxis": "x27",
         "y": [
          1
         ],
         "yaxis": "y27"
        },
        {
         "hovertemplate": "%{text}",
         "legendgroup": "0.4",
         "marker": {
          "color": "blue"
         },
         "mode": "markers",
         "name": "dx=0.4",
         "showlegend": false,
         "text": [
          "<br>Git Hash: 7c99dbc59c2c38c7c192be00eac500546471bed0</br>\n<br>Version: 2023.3.0</br>\n<br>Timestamp 2023-04-12</br>"
         ],
         "type": "scatter",
         "x": [
          "2023-04-12T09:53:31.010237"
         ],
         "xaxis": "x28",
         "y": [
          0.9027588573558657
         ],
         "yaxis": "y28"
        },
        {
         "hovertemplate": "%{text}",
         "legendgroup": "0.4",
         "marker": {
          "color": "blue"
         },
         "mode": "markers",
         "name": "dx=0.4",
         "showlegend": false,
         "text": [
          "<br>Git Hash: 7c99dbc59c2c38c7c192be00eac500546471bed0</br>\n<br>Version: 2023.3.0</br>\n<br>Timestamp 2023-04-12</br>"
         ],
         "type": "scatter",
         "x": [
          "2023-04-12T09:53:31.010237"
         ],
         "xaxis": "x29",
         "y": [
          138
         ],
         "yaxis": "y29"
        },
        {
         "hovertemplate": "%{text}",
         "legendgroup": "0.4",
         "marker": {
          "color": "blue"
         },
         "mode": "markers",
         "name": "dx=0.4",
         "showlegend": false,
         "text": [
          "<br>Git Hash: 7c99dbc59c2c38c7c192be00eac500546471bed0</br>\n<br>Version: 2023.3.0</br>\n<br>Timestamp 2023-04-12</br>"
         ],
         "type": "scatter",
         "x": [
          "2023-04-12T09:53:31.010237"
         ],
         "xaxis": "x30",
         "y": [
          272.44308777575327
         ],
         "yaxis": "y30"
        },
        {
         "hovertemplate": "%{text}",
         "legendgroup": "0.4",
         "marker": {
          "color": "blue"
         },
         "mode": "markers",
         "name": "dx=0.4",
         "showlegend": false,
         "text": [
          "<br>Git Hash: 7c99dbc59c2c38c7c192be00eac500546471bed0</br>\n<br>Version: 2023.3.0</br>\n<br>Timestamp 2023-04-12</br>"
         ],
         "type": "scatter",
         "x": [
          "2023-04-12T09:53:31.010237"
         ],
         "xaxis": "x31",
         "y": [
          403.3232301910861
         ],
         "yaxis": "y31"
        },
        {
         "hovertemplate": "%{text}",
         "legendgroup": "0.4",
         "marker": {
          "color": "blue"
         },
         "mode": "markers",
         "name": "dx=0.4",
         "showlegend": false,
         "text": [
          "<br>Git Hash: 7c99dbc59c2c38c7c192be00eac500546471bed0</br>\n<br>Version: 2023.3.0</br>\n<br>Timestamp 2023-04-12</br>"
         ],
         "type": "scatter",
         "x": [
          "2023-04-12T09:53:31.010237"
         ],
         "xaxis": "x32",
         "y": [
          520.6732880608782
         ],
         "yaxis": "y32"
        },
        {
         "hovertemplate": "%{text}",
         "legendgroup": "0.4",
         "marker": {
          "color": "blue"
         },
         "mode": "markers",
         "name": "dx=0.4",
         "showlegend": false,
         "text": [
          "<br>Git Hash: 7c99dbc59c2c38c7c192be00eac500546471bed0</br>\n<br>Version: 2023.3.0</br>\n<br>Timestamp 2023-04-12</br>"
         ],
         "type": "scatter",
         "x": [
          "2023-04-12T09:53:31.010237"
         ],
         "xaxis": "x33",
         "y": [
          193.27237214888277
         ],
         "yaxis": "y33"
        },
        {
         "hovertemplate": "%{text}",
         "legendgroup": "0.4",
         "marker": {
          "color": "blue"
         },
         "mode": "markers",
         "name": "dx=0.4",
         "showlegend": false,
         "text": [
          "<br>Git Hash: 7c99dbc59c2c38c7c192be00eac500546471bed0</br>\n<br>Version: 2023.3.0</br>\n<br>Timestamp 2023-04-12</br>"
         ],
         "type": "scatter",
         "x": [
          "2023-04-12T09:53:31.010237"
         ],
         "xaxis": "x34",
         "y": [
          -108.48541463355491
         ],
         "yaxis": "y34"
        },
        {
         "hovertemplate": "%{text}",
         "legendgroup": "0.4",
         "marker": {
          "color": "blue"
         },
         "mode": "markers",
         "name": "dx=0.4",
         "showlegend": false,
         "text": [
          "<br>Git Hash: 7c99dbc59c2c38c7c192be00eac500546471bed0</br>\n<br>Version: 2023.3.0</br>\n<br>Timestamp 2023-04-12</br>"
         ],
         "type": "scatter",
         "x": [
          "2023-04-12T09:53:31.010237"
         ],
         "xaxis": "x35",
         "y": [
          0.16828491205706192
         ],
         "yaxis": "y35"
        },
        {
         "hovertemplate": "%{text}",
         "legendgroup": "0.4",
         "marker": {
          "color": "blue"
         },
         "mode": "markers",
         "name": "dx=0.4",
         "showlegend": false,
         "text": [
          "<br>Git Hash: 7c99dbc59c2c38c7c192be00eac500546471bed0</br>\n<br>Version: 2023.3.0</br>\n<br>Timestamp 2023-04-12</br>"
         ],
         "type": "scatter",
         "x": [
          "2023-04-12T09:53:31.010237"
         ],
         "xaxis": "x36",
         "y": [
          0.16828491205706192
         ],
         "yaxis": "y36"
        },
        {
         "hovertemplate": "%{text}",
         "legendgroup": "0.4",
         "marker": {
          "color": "blue"
         },
         "mode": "markers",
         "name": "dx=0.4",
         "showlegend": false,
         "text": [
          "<br>Git Hash: 7c99dbc59c2c38c7c192be00eac500546471bed0</br>\n<br>Version: 2023.3.0</br>\n<br>Timestamp 2023-04-12</br>"
         ],
         "type": "scatter",
         "x": [
          "2023-04-12T09:53:31.010237"
         ],
         "xaxis": "x37",
         "y": [
          0.8414245602853097
         ],
         "yaxis": "y37"
        },
        {
         "hovertemplate": "%{text}",
         "legendgroup": "0.4",
         "marker": {
          "color": "blue"
         },
         "mode": "markers",
         "name": "dx=0.4",
         "showlegend": false,
         "text": [
          "<br>Git Hash: 7c99dbc59c2c38c7c192be00eac500546471bed0</br>\n<br>Version: 2023.3.0</br>\n<br>Timestamp 2023-04-12</br>"
         ],
         "type": "scatter",
         "x": [
          "2023-04-12T09:53:31.010237"
         ],
         "xaxis": "x38",
         "y": [
          0.8485645911652587
         ],
         "yaxis": "y38"
        },
        {
         "hovertemplate": "%{text}",
         "legendgroup": "0.4",
         "marker": {
          "color": "blue"
         },
         "mode": "markers",
         "name": "dx=0.4",
         "showlegend": false,
         "text": [
          "<br>Git Hash: 7c99dbc59c2c38c7c192be00eac500546471bed0</br>\n<br>Version: 2023.3.0</br>\n<br>Timestamp 2023-04-12</br>"
         ],
         "type": "scatter",
         "x": [
          "2023-04-12T09:53:31.010237"
         ],
         "xaxis": "x39",
         "y": [
          0.05
         ],
         "yaxis": "y39"
        },
        {
         "hovertemplate": "%{text}",
         "legendgroup": "0.4",
         "marker": {
          "color": "blue"
         },
         "mode": "markers",
         "name": "dx=0.4",
         "showlegend": false,
         "text": [
          "<br>Git Hash: 7c99dbc59c2c38c7c192be00eac500546471bed0</br>\n<br>Version: 2023.3.0</br>\n<br>Timestamp 2023-04-12</br>"
         ],
         "type": "scatter",
         "x": [
          "2023-04-12T09:53:31.010237"
         ],
         "xaxis": "x40",
         "y": [
          0.09715933927669719
         ],
         "yaxis": "y40"
        },
        {
         "hovertemplate": "%{text}",
         "legendgroup": "0.4",
         "marker": {
          "color": "blue"
         },
         "mode": "markers",
         "name": "dx=0.4",
         "showlegend": false,
         "text": [
          "<br>Git Hash: 7c99dbc59c2c38c7c192be00eac500546471bed0</br>\n<br>Version: 2023.3.0</br>\n<br>Timestamp 2023-04-12</br>"
         ],
         "type": "scatter",
         "x": [
          "2023-04-12T09:53:31.010237"
         ],
         "xaxis": "x41",
         "y": [
          0.09715933927669719
         ],
         "yaxis": "y41"
        },
        {
         "hovertemplate": "%{text}",
         "legendgroup": "0.4",
         "marker": {
          "color": "blue"
         },
         "mode": "markers",
         "name": "dx=0.4",
         "showlegend": false,
         "text": [
          "<br>Git Hash: 7c99dbc59c2c38c7c192be00eac500546471bed0</br>\n<br>Version: 2023.3.0</br>\n<br>Timestamp 2023-04-12</br>"
         ],
         "type": "scatter",
         "x": [
          "2023-04-12T09:53:31.010237"
         ],
         "xaxis": "x42",
         "y": [
          0.48579669638348594
         ],
         "yaxis": "y42"
        },
        {
         "hovertemplate": "%{text}",
         "legendgroup": "0.4",
         "marker": {
          "color": "blue"
         },
         "mode": "markers",
         "name": "dx=0.4",
         "showlegend": false,
         "text": [
          "<br>Git Hash: 7c99dbc59c2c38c7c192be00eac500546471bed0</br>\n<br>Version: 2023.3.0</br>\n<br>Timestamp 2023-04-12</br>"
         ],
         "type": "scatter",
         "x": [
          "2023-04-12T09:53:31.010237"
         ],
         "xaxis": "x43",
         "y": [
          0.48816820137857775
         ],
         "yaxis": "y43"
        },
        {
         "hovertemplate": "%{text}",
         "legendgroup": "0.4",
         "marker": {
          "color": "blue"
         },
         "mode": "markers",
         "name": "dx=0.4",
         "showlegend": false,
         "text": [
          "<br>Git Hash: 7c99dbc59c2c38c7c192be00eac500546471bed0</br>\n<br>Version: 2023.3.0</br>\n<br>Timestamp 2023-04-12</br>"
         ],
         "type": "scatter",
         "x": [
          "2023-04-12T09:53:31.010237"
         ],
         "xaxis": "x44",
         "y": [
          0.05
         ],
         "yaxis": "y44"
        },
        {
         "hovertemplate": "%{text}",
         "legendgroup": "0.4",
         "marker": {
          "color": "blue"
         },
         "mode": "markers",
         "name": "dx=0.4",
         "showlegend": false,
         "text": [
          "<br>Git Hash: 7c99dbc59c2c38c7c192be00eac500546471bed0</br>\n<br>Version: 2023.3.0</br>\n<br>Timestamp 2023-04-12</br>"
         ],
         "type": "scatter",
         "x": [
          "2023-04-12T09:53:31.010237"
         ],
         "xaxis": "x45",
         "y": [
          0.09715933927669719
         ],
         "yaxis": "y45"
        },
        {
         "hovertemplate": "%{text}",
         "legendgroup": "0.4",
         "marker": {
          "color": "blue"
         },
         "mode": "markers",
         "name": "dx=0.4",
         "showlegend": false,
         "text": [
          "<br>Git Hash: 7c99dbc59c2c38c7c192be00eac500546471bed0</br>\n<br>Version: 2023.3.0</br>\n<br>Timestamp 2023-04-12</br>"
         ],
         "type": "scatter",
         "x": [
          "2023-04-12T09:53:31.010237"
         ],
         "xaxis": "x46",
         "y": [
          0.09715933927669719
         ],
         "yaxis": "y46"
        },
        {
         "hovertemplate": "%{text}",
         "legendgroup": "0.4",
         "marker": {
          "color": "blue"
         },
         "mode": "markers",
         "name": "dx=0.4",
         "showlegend": false,
         "text": [
          "<br>Git Hash: 7c99dbc59c2c38c7c192be00eac500546471bed0</br>\n<br>Version: 2023.3.0</br>\n<br>Timestamp 2023-04-12</br>"
         ],
         "type": "scatter",
         "x": [
          "2023-04-12T09:53:31.010237"
         ],
         "xaxis": "x47",
         "y": [
          0.48579669638348594
         ],
         "yaxis": "y47"
        },
        {
         "hovertemplate": "%{text}",
         "legendgroup": "0.4",
         "marker": {
          "color": "blue"
         },
         "mode": "markers",
         "name": "dx=0.4",
         "showlegend": false,
         "text": [
          "<br>Git Hash: 7c99dbc59c2c38c7c192be00eac500546471bed0</br>\n<br>Version: 2023.3.0</br>\n<br>Timestamp 2023-04-12</br>"
         ],
         "type": "scatter",
         "x": [
          "2023-04-12T09:53:31.010237"
         ],
         "xaxis": "x48",
         "y": [
          0.48816820137857775
         ],
         "yaxis": "y48"
        },
        {
         "hovertemplate": "%{text}",
         "legendgroup": "0.4",
         "marker": {
          "color": "blue"
         },
         "mode": "markers",
         "name": "dx=0.4",
         "showlegend": false,
         "text": [
          "<br>Git Hash: 7c99dbc59c2c38c7c192be00eac500546471bed0</br>\n<br>Version: 2023.3.0</br>\n<br>Timestamp 2023-04-12</br>"
         ],
         "type": "scatter",
         "x": [
          "2023-04-12T09:53:31.010237"
         ],
         "xaxis": "x49",
         "y": [
          0.05
         ],
         "yaxis": "y49"
        },
        {
         "hovertemplate": "%{text}",
         "legendgroup": "0.4",
         "marker": {
          "color": "blue"
         },
         "mode": "markers",
         "name": "dx=0.4",
         "showlegend": false,
         "text": [
          "<br>Git Hash: 7c99dbc59c2c38c7c192be00eac500546471bed0</br>\n<br>Version: 2023.3.0</br>\n<br>Timestamp 2023-04-12</br>"
         ],
         "type": "scatter",
         "x": [
          "2023-04-12T09:53:31.010237"
         ],
         "xaxis": "x50",
         "y": [
          0.09715933927669719
         ],
         "yaxis": "y50"
        },
        {
         "hovertemplate": "%{text}",
         "legendgroup": "0.4",
         "marker": {
          "color": "blue"
         },
         "mode": "markers",
         "name": "dx=0.4",
         "showlegend": false,
         "text": [
          "<br>Git Hash: 7c99dbc59c2c38c7c192be00eac500546471bed0</br>\n<br>Version: 2023.3.0</br>\n<br>Timestamp 2023-04-12</br>"
         ],
         "type": "scatter",
         "x": [
          "2023-04-12T09:53:31.010237"
         ],
         "xaxis": "x51",
         "y": [
          0.09715933927669719
         ],
         "yaxis": "y51"
        },
        {
         "hovertemplate": "%{text}",
         "legendgroup": "0.4",
         "marker": {
          "color": "blue"
         },
         "mode": "markers",
         "name": "dx=0.4",
         "showlegend": false,
         "text": [
          "<br>Git Hash: 7c99dbc59c2c38c7c192be00eac500546471bed0</br>\n<br>Version: 2023.3.0</br>\n<br>Timestamp 2023-04-12</br>"
         ],
         "type": "scatter",
         "x": [
          "2023-04-12T09:53:31.010237"
         ],
         "xaxis": "x52",
         "y": [
          0.48579669638348594
         ],
         "yaxis": "y52"
        },
        {
         "hovertemplate": "%{text}",
         "legendgroup": "0.4",
         "marker": {
          "color": "blue"
         },
         "mode": "markers",
         "name": "dx=0.4",
         "showlegend": false,
         "text": [
          "<br>Git Hash: 7c99dbc59c2c38c7c192be00eac500546471bed0</br>\n<br>Version: 2023.3.0</br>\n<br>Timestamp 2023-04-12</br>"
         ],
         "type": "scatter",
         "x": [
          "2023-04-12T09:53:31.010237"
         ],
         "xaxis": "x53",
         "y": [
          0.48816820137857775
         ],
         "yaxis": "y53"
        },
        {
         "hovertemplate": "%{text}",
         "legendgroup": "0.4",
         "marker": {
          "color": "blue"
         },
         "mode": "markers",
         "name": "dx=0.4",
         "showlegend": false,
         "text": [
          "<br>Git Hash: 7c99dbc59c2c38c7c192be00eac500546471bed0</br>\n<br>Version: 2023.3.0</br>\n<br>Timestamp 2023-04-12</br>"
         ],
         "type": "scatter",
         "x": [
          "2023-04-12T09:53:31.010237"
         ],
         "xaxis": "x54",
         "y": [
          0.05
         ],
         "yaxis": "y54"
        }
       ],
       "layout": {
        "annotations": [
         {
          "font": {
           "size": 16
          },
          "showarrow": false,
          "text": "import_time",
          "x": 0.5,
          "xanchor": "center",
          "xref": "paper",
          "y": 0.9999999999999996,
          "yanchor": "bottom",
          "yref": "paper"
         },
         {
          "font": {
           "size": 16
          },
          "showarrow": false,
          "text": "dt",
          "x": 0.5,
          "xanchor": "center",
          "xref": "paper",
          "y": 0.9813100137174207,
          "yanchor": "bottom",
          "yref": "paper"
         },
         {
          "font": {
           "size": 16
          },
          "showarrow": false,
          "text": "dx",
          "x": 0.5,
          "xanchor": "center",
          "xref": "paper",
          "y": 0.9626200274348419,
          "yanchor": "bottom",
          "yref": "paper"
         },
         {
          "font": {
           "size": 16
          },
          "showarrow": false,
          "text": "num_cells_mechanics",
          "x": 0.5,
          "xanchor": "center",
          "xref": "paper",
          "y": 0.943930041152263,
          "yanchor": "bottom",
          "yref": "paper"
         },
         {
          "font": {
           "size": 16
          },
          "showarrow": false,
          "text": "num_cells_ep",
          "x": 0.5,
          "xanchor": "center",
          "xref": "paper",
          "y": 0.9252400548696842,
          "yanchor": "bottom",
          "yref": "paper"
         },
         {
          "font": {
           "size": 16
          },
          "showarrow": false,
          "text": "num_vertices_mechanics",
          "x": 0.5,
          "xanchor": "center",
          "xref": "paper",
          "y": 0.9065500685871053,
          "yanchor": "bottom",
          "yref": "paper"
         },
         {
          "font": {
           "size": 16
          },
          "showarrow": false,
          "text": "num_vertices_ep",
          "x": 0.5,
          "xanchor": "center",
          "xref": "paper",
          "y": 0.8878600823045264,
          "yanchor": "bottom",
          "yref": "paper"
         },
         {
          "font": {
           "size": 16
          },
          "showarrow": false,
          "text": "create_runner_time",
          "x": 0.5,
          "xanchor": "center",
          "xref": "paper",
          "y": 0.8691700960219476,
          "yanchor": "bottom",
          "yref": "paper"
         },
         {
          "font": {
           "size": 16
          },
          "showarrow": false,
          "text": "solve_time",
          "x": 0.5,
          "xanchor": "center",
          "xref": "paper",
          "y": 0.8504801097393687,
          "yanchor": "bottom",
          "yref": "paper"
         },
         {
          "font": {
           "size": 16
          },
          "showarrow": false,
          "text": "maxTa",
          "x": 0.5,
          "xanchor": "center",
          "xref": "paper",
          "y": 0.8317901234567899,
          "yanchor": "bottom",
          "yref": "paper"
         },
         {
          "font": {
           "size": 16
          },
          "showarrow": false,
          "text": "ampTa",
          "x": 0.5,
          "xanchor": "center",
          "xref": "paper",
          "y": 0.813100137174211,
          "yanchor": "bottom",
          "yref": "paper"
         },
         {
          "font": {
           "size": 16
          },
          "showarrow": false,
          "text": "APD40",
          "x": 0.5,
          "xanchor": "center",
          "xref": "paper",
          "y": 0.7944101508916321,
          "yanchor": "bottom",
          "yref": "paper"
         },
         {
          "font": {
           "size": 16
          },
          "showarrow": false,
          "text": "APD50",
          "x": 0.5,
          "xanchor": "center",
          "xref": "paper",
          "y": 0.7757201646090532,
          "yanchor": "bottom",
          "yref": "paper"
         },
         {
          "font": {
           "size": 16
          },
          "showarrow": false,
          "text": "APD90",
          "x": 0.5,
          "xanchor": "center",
          "xref": "paper",
          "y": 0.7570301783264745,
          "yanchor": "bottom",
          "yref": "paper"
         },
         {
          "font": {
           "size": 16
          },
          "showarrow": false,
          "text": "triangulation",
          "x": 0.5,
          "xanchor": "center",
          "xref": "paper",
          "y": 0.7383401920438957,
          "yanchor": "bottom",
          "yref": "paper"
         },
         {
          "font": {
           "size": 16
          },
          "showarrow": false,
          "text": "Vpeak",
          "x": 0.5,
          "xanchor": "center",
          "xref": "paper",
          "y": 0.7196502057613168,
          "yanchor": "bottom",
          "yref": "paper"
         },
         {
          "font": {
           "size": 16
          },
          "showarrow": false,
          "text": "Vmin",
          "x": 0.5,
          "xanchor": "center",
          "xref": "paper",
          "y": 0.7009602194787379,
          "yanchor": "bottom",
          "yref": "paper"
         },
         {
          "font": {
           "size": 16
          },
          "showarrow": false,
          "text": "dvdt",
          "x": 0.5,
          "xanchor": "center",
          "xref": "paper",
          "y": 0.682270233196159,
          "yanchor": "bottom",
          "yref": "paper"
         },
         {
          "font": {
           "size": 16
          },
          "showarrow": false,
          "text": "maxCa",
          "x": 0.5,
          "xanchor": "center",
          "xref": "paper",
          "y": 0.6635802469135802,
          "yanchor": "bottom",
          "yref": "paper"
         },
         {
          "font": {
           "size": 16
          },
          "showarrow": false,
          "text": "ampCa",
          "x": 0.5,
          "xanchor": "center",
          "xref": "paper",
          "y": 0.6448902606310013,
          "yanchor": "bottom",
          "yref": "paper"
         },
         {
          "font": {
           "size": 16
          },
          "showarrow": false,
          "text": "CaTD50",
          "x": 0.5,
          "xanchor": "center",
          "xref": "paper",
          "y": 0.6262002743484225,
          "yanchor": "bottom",
          "yref": "paper"
         },
         {
          "font": {
           "size": 16
          },
          "showarrow": false,
          "text": "CaTD80",
          "x": 0.5,
          "xanchor": "center",
          "xref": "paper",
          "y": 0.6075102880658436,
          "yanchor": "bottom",
          "yref": "paper"
         },
         {
          "font": {
           "size": 16
          },
          "showarrow": false,
          "text": "CaTD90",
          "x": 0.5,
          "xanchor": "center",
          "xref": "paper",
          "y": 0.5888203017832647,
          "yanchor": "bottom",
          "yref": "paper"
         },
         {
          "font": {
           "size": 16
          },
          "showarrow": false,
          "text": "ttp_Ta",
          "x": 0.5,
          "xanchor": "center",
          "xref": "paper",
          "y": 0.5701303155006859,
          "yanchor": "bottom",
          "yref": "paper"
         },
         {
          "font": {
           "size": 16
          },
          "showarrow": false,
          "text": "rt50_Ta",
          "x": 0.5,
          "xanchor": "center",
          "xref": "paper",
          "y": 0.551440329218107,
          "yanchor": "bottom",
          "yref": "paper"
         },
         {
          "font": {
           "size": 16
          },
          "showarrow": false,
          "text": "rt95_Ta",
          "x": 0.5,
          "xanchor": "center",
          "xref": "paper",
          "y": 0.5327503429355283,
          "yanchor": "bottom",
          "yref": "paper"
         },
         {
          "font": {
           "size": 16
          },
          "showarrow": false,
          "text": "maxlmbda",
          "x": 0.5,
          "xanchor": "center",
          "xref": "paper",
          "y": 0.5140603566529494,
          "yanchor": "bottom",
          "yref": "paper"
         },
         {
          "font": {
           "size": 16
          },
          "showarrow": false,
          "text": "minlmbda",
          "x": 0.5,
          "xanchor": "center",
          "xref": "paper",
          "y": 0.49537037037037046,
          "yanchor": "bottom",
          "yref": "paper"
         },
         {
          "font": {
           "size": 16
          },
          "showarrow": false,
          "text": "ttplmbda",
          "x": 0.5,
          "xanchor": "center",
          "xref": "paper",
          "y": 0.47668038408779156,
          "yanchor": "bottom",
          "yref": "paper"
         },
         {
          "font": {
           "size": 16
          },
          "showarrow": false,
          "text": "lmbdaD50",
          "x": 0.5,
          "xanchor": "center",
          "xref": "paper",
          "y": 0.4579903978052127,
          "yanchor": "bottom",
          "yref": "paper"
         },
         {
          "font": {
           "size": 16
          },
          "showarrow": false,
          "text": "lmbdaD80",
          "x": 0.5,
          "xanchor": "center",
          "xref": "paper",
          "y": 0.4393004115226339,
          "yanchor": "bottom",
          "yref": "paper"
         },
         {
          "font": {
           "size": 16
          },
          "showarrow": false,
          "text": "lmbdaD90",
          "x": 0.5,
          "xanchor": "center",
          "xref": "paper",
          "y": 0.420610425240055,
          "yanchor": "bottom",
          "yref": "paper"
         },
         {
          "font": {
           "size": 16
          },
          "showarrow": false,
          "text": "rt50_lmbda",
          "x": 0.5,
          "xanchor": "center",
          "xref": "paper",
          "y": 0.4019204389574761,
          "yanchor": "bottom",
          "yref": "paper"
         },
         {
          "font": {
           "size": 16
          },
          "showarrow": false,
          "text": "rt95_lmbda",
          "x": 0.5,
          "xanchor": "center",
          "xref": "paper",
          "y": 0.3832304526748972,
          "yanchor": "bottom",
          "yref": "paper"
         },
         {
          "font": {
           "size": 16
          },
          "showarrow": false,
          "text": "max_displacement_norm",
          "x": 0.5,
          "xanchor": "center",
          "xref": "paper",
          "y": 0.3645404663923183,
          "yanchor": "bottom",
          "yref": "paper"
         },
         {
          "font": {
           "size": 16
          },
          "showarrow": false,
          "text": "rel_max_displacement_norm",
          "x": 0.5,
          "xanchor": "center",
          "xref": "paper",
          "y": 0.3458504801097394,
          "yanchor": "bottom",
          "yref": "paper"
         },
         {
          "font": {
           "size": 16
          },
          "showarrow": false,
          "text": "max_displacement_perc_norm",
          "x": 0.5,
          "xanchor": "center",
          "xref": "paper",
          "y": 0.3271604938271605,
          "yanchor": "bottom",
          "yref": "paper"
         },
         {
          "font": {
           "size": 16
          },
          "showarrow": false,
          "text": "rel_max_displacement_perc_norm",
          "x": 0.5,
          "xanchor": "center",
          "xref": "paper",
          "y": 0.30847050754458166,
          "yanchor": "bottom",
          "yref": "paper"
         },
         {
          "font": {
           "size": 16
          },
          "showarrow": false,
          "text": "time_to_max_displacement_norm",
          "x": 0.5,
          "xanchor": "center",
          "xref": "paper",
          "y": 0.2897805212620028,
          "yanchor": "bottom",
          "yref": "paper"
         },
         {
          "font": {
           "size": 16
          },
          "showarrow": false,
          "text": "max_displacement_x",
          "x": 0.5,
          "xanchor": "center",
          "xref": "paper",
          "y": 0.2710905349794239,
          "yanchor": "bottom",
          "yref": "paper"
         },
         {
          "font": {
           "size": 16
          },
          "showarrow": false,
          "text": "rel_max_displacement_x",
          "x": 0.5,
          "xanchor": "center",
          "xref": "paper",
          "y": 0.25240054869684503,
          "yanchor": "bottom",
          "yref": "paper"
         },
         {
          "font": {
           "size": 16
          },
          "showarrow": false,
          "text": "max_displacement_perc_x",
          "x": 0.5,
          "xanchor": "center",
          "xref": "paper",
          "y": 0.23371056241426616,
          "yanchor": "bottom",
          "yref": "paper"
         },
         {
          "font": {
           "size": 16
          },
          "showarrow": false,
          "text": "rel_max_displacement_perc_x",
          "x": 0.5,
          "xanchor": "center",
          "xref": "paper",
          "y": 0.21502057613168726,
          "yanchor": "bottom",
          "yref": "paper"
         },
         {
          "font": {
           "size": 16
          },
          "showarrow": false,
          "text": "time_to_max_displacement_x",
          "x": 0.5,
          "xanchor": "center",
          "xref": "paper",
          "y": 0.1963305898491084,
          "yanchor": "bottom",
          "yref": "paper"
         },
         {
          "font": {
           "size": 16
          },
          "showarrow": false,
          "text": "max_displacement_y",
          "x": 0.5,
          "xanchor": "center",
          "xref": "paper",
          "y": 0.17764060356652953,
          "yanchor": "bottom",
          "yref": "paper"
         },
         {
          "font": {
           "size": 16
          },
          "showarrow": false,
          "text": "rel_max_displacement_y",
          "x": 0.5,
          "xanchor": "center",
          "xref": "paper",
          "y": 0.15895061728395063,
          "yanchor": "bottom",
          "yref": "paper"
         },
         {
          "font": {
           "size": 16
          },
          "showarrow": false,
          "text": "max_displacement_perc_y",
          "x": 0.5,
          "xanchor": "center",
          "xref": "paper",
          "y": 0.14026063100137173,
          "yanchor": "bottom",
          "yref": "paper"
         },
         {
          "font": {
           "size": 16
          },
          "showarrow": false,
          "text": "rel_max_displacement_perc_y",
          "x": 0.5,
          "xanchor": "center",
          "xref": "paper",
          "y": 0.12157064471879286,
          "yanchor": "bottom",
          "yref": "paper"
         },
         {
          "font": {
           "size": 16
          },
          "showarrow": false,
          "text": "time_to_max_displacement_y",
          "x": 0.5,
          "xanchor": "center",
          "xref": "paper",
          "y": 0.102880658436214,
          "yanchor": "bottom",
          "yref": "paper"
         },
         {
          "font": {
           "size": 16
          },
          "showarrow": false,
          "text": "max_displacement_z",
          "x": 0.5,
          "xanchor": "center",
          "xref": "paper",
          "y": 0.08419067215363513,
          "yanchor": "bottom",
          "yref": "paper"
         },
         {
          "font": {
           "size": 16
          },
          "showarrow": false,
          "text": "rel_max_displacement_z",
          "x": 0.5,
          "xanchor": "center",
          "xref": "paper",
          "y": 0.06550068587105624,
          "yanchor": "bottom",
          "yref": "paper"
         },
         {
          "font": {
           "size": 16
          },
          "showarrow": false,
          "text": "max_displacement_perc_z",
          "x": 0.5,
          "xanchor": "center",
          "xref": "paper",
          "y": 0.04681069958847737,
          "yanchor": "bottom",
          "yref": "paper"
         },
         {
          "font": {
           "size": 16
          },
          "showarrow": false,
          "text": "rel_max_displacement_perc_z",
          "x": 0.5,
          "xanchor": "center",
          "xref": "paper",
          "y": 0.028120713305898493,
          "yanchor": "bottom",
          "yref": "paper"
         },
         {
          "font": {
           "size": 16
          },
          "showarrow": false,
          "text": "time_to_max_displacement_z",
          "x": 0.5,
          "xanchor": "center",
          "xref": "paper",
          "y": 0.009430727023319617,
          "yanchor": "bottom",
          "yref": "paper"
         }
        ],
        "height": 5000,
        "showlegend": true,
        "template": {
         "data": {
          "bar": [
           {
            "error_x": {
             "color": "#2a3f5f"
            },
            "error_y": {
             "color": "#2a3f5f"
            },
            "marker": {
             "line": {
              "color": "#E5ECF6",
              "width": 0.5
             },
             "pattern": {
              "fillmode": "overlay",
              "size": 10,
              "solidity": 0.2
             }
            },
            "type": "bar"
           }
          ],
          "barpolar": [
           {
            "marker": {
             "line": {
              "color": "#E5ECF6",
              "width": 0.5
             },
             "pattern": {
              "fillmode": "overlay",
              "size": 10,
              "solidity": 0.2
             }
            },
            "type": "barpolar"
           }
          ],
          "carpet": [
           {
            "aaxis": {
             "endlinecolor": "#2a3f5f",
             "gridcolor": "white",
             "linecolor": "white",
             "minorgridcolor": "white",
             "startlinecolor": "#2a3f5f"
            },
            "baxis": {
             "endlinecolor": "#2a3f5f",
             "gridcolor": "white",
             "linecolor": "white",
             "minorgridcolor": "white",
             "startlinecolor": "#2a3f5f"
            },
            "type": "carpet"
           }
          ],
          "choropleth": [
           {
            "colorbar": {
             "outlinewidth": 0,
             "ticks": ""
            },
            "type": "choropleth"
           }
          ],
          "contour": [
           {
            "colorbar": {
             "outlinewidth": 0,
             "ticks": ""
            },
            "colorscale": [
             [
              0,
              "#0d0887"
             ],
             [
              0.1111111111111111,
              "#46039f"
             ],
             [
              0.2222222222222222,
              "#7201a8"
             ],
             [
              0.3333333333333333,
              "#9c179e"
             ],
             [
              0.4444444444444444,
              "#bd3786"
             ],
             [
              0.5555555555555556,
              "#d8576b"
             ],
             [
              0.6666666666666666,
              "#ed7953"
             ],
             [
              0.7777777777777778,
              "#fb9f3a"
             ],
             [
              0.8888888888888888,
              "#fdca26"
             ],
             [
              1,
              "#f0f921"
             ]
            ],
            "type": "contour"
           }
          ],
          "contourcarpet": [
           {
            "colorbar": {
             "outlinewidth": 0,
             "ticks": ""
            },
            "type": "contourcarpet"
           }
          ],
          "heatmap": [
           {
            "colorbar": {
             "outlinewidth": 0,
             "ticks": ""
            },
            "colorscale": [
             [
              0,
              "#0d0887"
             ],
             [
              0.1111111111111111,
              "#46039f"
             ],
             [
              0.2222222222222222,
              "#7201a8"
             ],
             [
              0.3333333333333333,
              "#9c179e"
             ],
             [
              0.4444444444444444,
              "#bd3786"
             ],
             [
              0.5555555555555556,
              "#d8576b"
             ],
             [
              0.6666666666666666,
              "#ed7953"
             ],
             [
              0.7777777777777778,
              "#fb9f3a"
             ],
             [
              0.8888888888888888,
              "#fdca26"
             ],
             [
              1,
              "#f0f921"
             ]
            ],
            "type": "heatmap"
           }
          ],
          "heatmapgl": [
           {
            "colorbar": {
             "outlinewidth": 0,
             "ticks": ""
            },
            "colorscale": [
             [
              0,
              "#0d0887"
             ],
             [
              0.1111111111111111,
              "#46039f"
             ],
             [
              0.2222222222222222,
              "#7201a8"
             ],
             [
              0.3333333333333333,
              "#9c179e"
             ],
             [
              0.4444444444444444,
              "#bd3786"
             ],
             [
              0.5555555555555556,
              "#d8576b"
             ],
             [
              0.6666666666666666,
              "#ed7953"
             ],
             [
              0.7777777777777778,
              "#fb9f3a"
             ],
             [
              0.8888888888888888,
              "#fdca26"
             ],
             [
              1,
              "#f0f921"
             ]
            ],
            "type": "heatmapgl"
           }
          ],
          "histogram": [
           {
            "marker": {
             "pattern": {
              "fillmode": "overlay",
              "size": 10,
              "solidity": 0.2
             }
            },
            "type": "histogram"
           }
          ],
          "histogram2d": [
           {
            "colorbar": {
             "outlinewidth": 0,
             "ticks": ""
            },
            "colorscale": [
             [
              0,
              "#0d0887"
             ],
             [
              0.1111111111111111,
              "#46039f"
             ],
             [
              0.2222222222222222,
              "#7201a8"
             ],
             [
              0.3333333333333333,
              "#9c179e"
             ],
             [
              0.4444444444444444,
              "#bd3786"
             ],
             [
              0.5555555555555556,
              "#d8576b"
             ],
             [
              0.6666666666666666,
              "#ed7953"
             ],
             [
              0.7777777777777778,
              "#fb9f3a"
             ],
             [
              0.8888888888888888,
              "#fdca26"
             ],
             [
              1,
              "#f0f921"
             ]
            ],
            "type": "histogram2d"
           }
          ],
          "histogram2dcontour": [
           {
            "colorbar": {
             "outlinewidth": 0,
             "ticks": ""
            },
            "colorscale": [
             [
              0,
              "#0d0887"
             ],
             [
              0.1111111111111111,
              "#46039f"
             ],
             [
              0.2222222222222222,
              "#7201a8"
             ],
             [
              0.3333333333333333,
              "#9c179e"
             ],
             [
              0.4444444444444444,
              "#bd3786"
             ],
             [
              0.5555555555555556,
              "#d8576b"
             ],
             [
              0.6666666666666666,
              "#ed7953"
             ],
             [
              0.7777777777777778,
              "#fb9f3a"
             ],
             [
              0.8888888888888888,
              "#fdca26"
             ],
             [
              1,
              "#f0f921"
             ]
            ],
            "type": "histogram2dcontour"
           }
          ],
          "mesh3d": [
           {
            "colorbar": {
             "outlinewidth": 0,
             "ticks": ""
            },
            "type": "mesh3d"
           }
          ],
          "parcoords": [
           {
            "line": {
             "colorbar": {
              "outlinewidth": 0,
              "ticks": ""
             }
            },
            "type": "parcoords"
           }
          ],
          "pie": [
           {
            "automargin": true,
            "type": "pie"
           }
          ],
          "scatter": [
           {
            "fillpattern": {
             "fillmode": "overlay",
             "size": 10,
             "solidity": 0.2
            },
            "type": "scatter"
           }
          ],
          "scatter3d": [
           {
            "line": {
             "colorbar": {
              "outlinewidth": 0,
              "ticks": ""
             }
            },
            "marker": {
             "colorbar": {
              "outlinewidth": 0,
              "ticks": ""
             }
            },
            "type": "scatter3d"
           }
          ],
          "scattercarpet": [
           {
            "marker": {
             "colorbar": {
              "outlinewidth": 0,
              "ticks": ""
             }
            },
            "type": "scattercarpet"
           }
          ],
          "scattergeo": [
           {
            "marker": {
             "colorbar": {
              "outlinewidth": 0,
              "ticks": ""
             }
            },
            "type": "scattergeo"
           }
          ],
          "scattergl": [
           {
            "marker": {
             "colorbar": {
              "outlinewidth": 0,
              "ticks": ""
             }
            },
            "type": "scattergl"
           }
          ],
          "scattermapbox": [
           {
            "marker": {
             "colorbar": {
              "outlinewidth": 0,
              "ticks": ""
             }
            },
            "type": "scattermapbox"
           }
          ],
          "scatterpolar": [
           {
            "marker": {
             "colorbar": {
              "outlinewidth": 0,
              "ticks": ""
             }
            },
            "type": "scatterpolar"
           }
          ],
          "scatterpolargl": [
           {
            "marker": {
             "colorbar": {
              "outlinewidth": 0,
              "ticks": ""
             }
            },
            "type": "scatterpolargl"
           }
          ],
          "scatterternary": [
           {
            "marker": {
             "colorbar": {
              "outlinewidth": 0,
              "ticks": ""
             }
            },
            "type": "scatterternary"
           }
          ],
          "surface": [
           {
            "colorbar": {
             "outlinewidth": 0,
             "ticks": ""
            },
            "colorscale": [
             [
              0,
              "#0d0887"
             ],
             [
              0.1111111111111111,
              "#46039f"
             ],
             [
              0.2222222222222222,
              "#7201a8"
             ],
             [
              0.3333333333333333,
              "#9c179e"
             ],
             [
              0.4444444444444444,
              "#bd3786"
             ],
             [
              0.5555555555555556,
              "#d8576b"
             ],
             [
              0.6666666666666666,
              "#ed7953"
             ],
             [
              0.7777777777777778,
              "#fb9f3a"
             ],
             [
              0.8888888888888888,
              "#fdca26"
             ],
             [
              1,
              "#f0f921"
             ]
            ],
            "type": "surface"
           }
          ],
          "table": [
           {
            "cells": {
             "fill": {
              "color": "#EBF0F8"
             },
             "line": {
              "color": "white"
             }
            },
            "header": {
             "fill": {
              "color": "#C8D4E3"
             },
             "line": {
              "color": "white"
             }
            },
            "type": "table"
           }
          ]
         },
         "layout": {
          "annotationdefaults": {
           "arrowcolor": "#2a3f5f",
           "arrowhead": 0,
           "arrowwidth": 1
          },
          "autotypenumbers": "strict",
          "coloraxis": {
           "colorbar": {
            "outlinewidth": 0,
            "ticks": ""
           }
          },
          "colorscale": {
           "diverging": [
            [
             0,
             "#8e0152"
            ],
            [
             0.1,
             "#c51b7d"
            ],
            [
             0.2,
             "#de77ae"
            ],
            [
             0.3,
             "#f1b6da"
            ],
            [
             0.4,
             "#fde0ef"
            ],
            [
             0.5,
             "#f7f7f7"
            ],
            [
             0.6,
             "#e6f5d0"
            ],
            [
             0.7,
             "#b8e186"
            ],
            [
             0.8,
             "#7fbc41"
            ],
            [
             0.9,
             "#4d9221"
            ],
            [
             1,
             "#276419"
            ]
           ],
           "sequential": [
            [
             0,
             "#0d0887"
            ],
            [
             0.1111111111111111,
             "#46039f"
            ],
            [
             0.2222222222222222,
             "#7201a8"
            ],
            [
             0.3333333333333333,
             "#9c179e"
            ],
            [
             0.4444444444444444,
             "#bd3786"
            ],
            [
             0.5555555555555556,
             "#d8576b"
            ],
            [
             0.6666666666666666,
             "#ed7953"
            ],
            [
             0.7777777777777778,
             "#fb9f3a"
            ],
            [
             0.8888888888888888,
             "#fdca26"
            ],
            [
             1,
             "#f0f921"
            ]
           ],
           "sequentialminus": [
            [
             0,
             "#0d0887"
            ],
            [
             0.1111111111111111,
             "#46039f"
            ],
            [
             0.2222222222222222,
             "#7201a8"
            ],
            [
             0.3333333333333333,
             "#9c179e"
            ],
            [
             0.4444444444444444,
             "#bd3786"
            ],
            [
             0.5555555555555556,
             "#d8576b"
            ],
            [
             0.6666666666666666,
             "#ed7953"
            ],
            [
             0.7777777777777778,
             "#fb9f3a"
            ],
            [
             0.8888888888888888,
             "#fdca26"
            ],
            [
             1,
             "#f0f921"
            ]
           ]
          },
          "colorway": [
           "#636efa",
           "#EF553B",
           "#00cc96",
           "#ab63fa",
           "#FFA15A",
           "#19d3f3",
           "#FF6692",
           "#B6E880",
           "#FF97FF",
           "#FECB52"
          ],
          "font": {
           "color": "#2a3f5f"
          },
          "geo": {
           "bgcolor": "white",
           "lakecolor": "white",
           "landcolor": "#E5ECF6",
           "showlakes": true,
           "showland": true,
           "subunitcolor": "white"
          },
          "hoverlabel": {
           "align": "left"
          },
          "hovermode": "closest",
          "mapbox": {
           "style": "light"
          },
          "paper_bgcolor": "white",
          "plot_bgcolor": "#E5ECF6",
          "polar": {
           "angularaxis": {
            "gridcolor": "white",
            "linecolor": "white",
            "ticks": ""
           },
           "bgcolor": "#E5ECF6",
           "radialaxis": {
            "gridcolor": "white",
            "linecolor": "white",
            "ticks": ""
           }
          },
          "scene": {
           "xaxis": {
            "backgroundcolor": "#E5ECF6",
            "gridcolor": "white",
            "gridwidth": 2,
            "linecolor": "white",
            "showbackground": true,
            "ticks": "",
            "zerolinecolor": "white"
           },
           "yaxis": {
            "backgroundcolor": "#E5ECF6",
            "gridcolor": "white",
            "gridwidth": 2,
            "linecolor": "white",
            "showbackground": true,
            "ticks": "",
            "zerolinecolor": "white"
           },
           "zaxis": {
            "backgroundcolor": "#E5ECF6",
            "gridcolor": "white",
            "gridwidth": 2,
            "linecolor": "white",
            "showbackground": true,
            "ticks": "",
            "zerolinecolor": "white"
           }
          },
          "shapedefaults": {
           "line": {
            "color": "#2a3f5f"
           }
          },
          "ternary": {
           "aaxis": {
            "gridcolor": "white",
            "linecolor": "white",
            "ticks": ""
           },
           "baxis": {
            "gridcolor": "white",
            "linecolor": "white",
            "ticks": ""
           },
           "bgcolor": "#E5ECF6",
           "caxis": {
            "gridcolor": "white",
            "linecolor": "white",
            "ticks": ""
           }
          },
          "title": {
           "x": 0.05
          },
          "xaxis": {
           "automargin": true,
           "gridcolor": "white",
           "linecolor": "white",
           "ticks": "",
           "title": {
            "standoff": 15
           },
           "zerolinecolor": "white",
           "zerolinewidth": 2
          },
          "yaxis": {
           "automargin": true,
           "gridcolor": "white",
           "linecolor": "white",
           "ticks": "",
           "title": {
            "standoff": 15
           },
           "zerolinecolor": "white",
           "zerolinewidth": 2
          }
         }
        },
        "xaxis": {
         "anchor": "y",
         "domain": [
          0,
          1
         ],
         "matches": "x54",
         "showticklabels": false
        },
        "xaxis10": {
         "anchor": "y10",
         "domain": [
          0,
          1
         ],
         "matches": "x54",
         "showticklabels": false
        },
        "xaxis11": {
         "anchor": "y11",
         "domain": [
          0,
          1
         ],
         "matches": "x54",
         "showticklabels": false
        },
        "xaxis12": {
         "anchor": "y12",
         "domain": [
          0,
          1
         ],
         "matches": "x54",
         "showticklabels": false
        },
        "xaxis13": {
         "anchor": "y13",
         "domain": [
          0,
          1
         ],
         "matches": "x54",
         "showticklabels": false
        },
        "xaxis14": {
         "anchor": "y14",
         "domain": [
          0,
          1
         ],
         "matches": "x54",
         "showticklabels": false
        },
        "xaxis15": {
         "anchor": "y15",
         "domain": [
          0,
          1
         ],
         "matches": "x54",
         "showticklabels": false
        },
        "xaxis16": {
         "anchor": "y16",
         "domain": [
          0,
          1
         ],
         "matches": "x54",
         "showticklabels": false
        },
        "xaxis17": {
         "anchor": "y17",
         "domain": [
          0,
          1
         ],
         "matches": "x54",
         "showticklabels": false
        },
        "xaxis18": {
         "anchor": "y18",
         "domain": [
          0,
          1
         ],
         "matches": "x54",
         "showticklabels": false
        },
        "xaxis19": {
         "anchor": "y19",
         "domain": [
          0,
          1
         ],
         "matches": "x54",
         "showticklabels": false
        },
        "xaxis2": {
         "anchor": "y2",
         "domain": [
          0,
          1
         ],
         "matches": "x54",
         "showticklabels": false
        },
        "xaxis20": {
         "anchor": "y20",
         "domain": [
          0,
          1
         ],
         "matches": "x54",
         "showticklabels": false
        },
        "xaxis21": {
         "anchor": "y21",
         "domain": [
          0,
          1
         ],
         "matches": "x54",
         "showticklabels": false
        },
        "xaxis22": {
         "anchor": "y22",
         "domain": [
          0,
          1
         ],
         "matches": "x54",
         "showticklabels": false
        },
        "xaxis23": {
         "anchor": "y23",
         "domain": [
          0,
          1
         ],
         "matches": "x54",
         "showticklabels": false
        },
        "xaxis24": {
         "anchor": "y24",
         "domain": [
          0,
          1
         ],
         "matches": "x54",
         "showticklabels": false
        },
        "xaxis25": {
         "anchor": "y25",
         "domain": [
          0,
          1
         ],
         "matches": "x54",
         "showticklabels": false
        },
        "xaxis26": {
         "anchor": "y26",
         "domain": [
          0,
          1
         ],
         "matches": "x54",
         "showticklabels": false
        },
        "xaxis27": {
         "anchor": "y27",
         "domain": [
          0,
          1
         ],
         "matches": "x54",
         "showticklabels": false
        },
        "xaxis28": {
         "anchor": "y28",
         "domain": [
          0,
          1
         ],
         "matches": "x54",
         "showticklabels": false
        },
        "xaxis29": {
         "anchor": "y29",
         "domain": [
          0,
          1
         ],
         "matches": "x54",
         "showticklabels": false
        },
        "xaxis3": {
         "anchor": "y3",
         "domain": [
          0,
          1
         ],
         "matches": "x54",
         "showticklabels": false
        },
        "xaxis30": {
         "anchor": "y30",
         "domain": [
          0,
          1
         ],
         "matches": "x54",
         "showticklabels": false
        },
        "xaxis31": {
         "anchor": "y31",
         "domain": [
          0,
          1
         ],
         "matches": "x54",
         "showticklabels": false
        },
        "xaxis32": {
         "anchor": "y32",
         "domain": [
          0,
          1
         ],
         "matches": "x54",
         "showticklabels": false
        },
        "xaxis33": {
         "anchor": "y33",
         "domain": [
          0,
          1
         ],
         "matches": "x54",
         "showticklabels": false
        },
        "xaxis34": {
         "anchor": "y34",
         "domain": [
          0,
          1
         ],
         "matches": "x54",
         "showticklabels": false
        },
        "xaxis35": {
         "anchor": "y35",
         "domain": [
          0,
          1
         ],
         "matches": "x54",
         "showticklabels": false
        },
        "xaxis36": {
         "anchor": "y36",
         "domain": [
          0,
          1
         ],
         "matches": "x54",
         "showticklabels": false
        },
        "xaxis37": {
         "anchor": "y37",
         "domain": [
          0,
          1
         ],
         "matches": "x54",
         "showticklabels": false
        },
        "xaxis38": {
         "anchor": "y38",
         "domain": [
          0,
          1
         ],
         "matches": "x54",
         "showticklabels": false
        },
        "xaxis39": {
         "anchor": "y39",
         "domain": [
          0,
          1
         ],
         "matches": "x54",
         "showticklabels": false
        },
        "xaxis4": {
         "anchor": "y4",
         "domain": [
          0,
          1
         ],
         "matches": "x54",
         "showticklabels": false
        },
        "xaxis40": {
         "anchor": "y40",
         "domain": [
          0,
          1
         ],
         "matches": "x54",
         "showticklabels": false
        },
        "xaxis41": {
         "anchor": "y41",
         "domain": [
          0,
          1
         ],
         "matches": "x54",
         "showticklabels": false
        },
        "xaxis42": {
         "anchor": "y42",
         "domain": [
          0,
          1
         ],
         "matches": "x54",
         "showticklabels": false
        },
        "xaxis43": {
         "anchor": "y43",
         "domain": [
          0,
          1
         ],
         "matches": "x54",
         "showticklabels": false
        },
        "xaxis44": {
         "anchor": "y44",
         "domain": [
          0,
          1
         ],
         "matches": "x54",
         "showticklabels": false
        },
        "xaxis45": {
         "anchor": "y45",
         "domain": [
          0,
          1
         ],
         "matches": "x54",
         "showticklabels": false
        },
        "xaxis46": {
         "anchor": "y46",
         "domain": [
          0,
          1
         ],
         "matches": "x54",
         "showticklabels": false
        },
        "xaxis47": {
         "anchor": "y47",
         "domain": [
          0,
          1
         ],
         "matches": "x54",
         "showticklabels": false
        },
        "xaxis48": {
         "anchor": "y48",
         "domain": [
          0,
          1
         ],
         "matches": "x54",
         "showticklabels": false
        },
        "xaxis49": {
         "anchor": "y49",
         "domain": [
          0,
          1
         ],
         "matches": "x54",
         "showticklabels": false
        },
        "xaxis5": {
         "anchor": "y5",
         "domain": [
          0,
          1
         ],
         "matches": "x54",
         "showticklabels": false
        },
        "xaxis50": {
         "anchor": "y50",
         "domain": [
          0,
          1
         ],
         "matches": "x54",
         "showticklabels": false
        },
        "xaxis51": {
         "anchor": "y51",
         "domain": [
          0,
          1
         ],
         "matches": "x54",
         "showticklabels": false
        },
        "xaxis52": {
         "anchor": "y52",
         "domain": [
          0,
          1
         ],
         "matches": "x54",
         "showticklabels": false
        },
        "xaxis53": {
         "anchor": "y53",
         "domain": [
          0,
          1
         ],
         "matches": "x54",
         "showticklabels": false
        },
        "xaxis54": {
         "anchor": "y54",
         "domain": [
          0,
          1
         ]
        },
        "xaxis6": {
         "anchor": "y6",
         "domain": [
          0,
          1
         ],
         "matches": "x54",
         "showticklabels": false
        },
        "xaxis7": {
         "anchor": "y7",
         "domain": [
          0,
          1
         ],
         "matches": "x54",
         "showticklabels": false
        },
        "xaxis8": {
         "anchor": "y8",
         "domain": [
          0,
          1
         ],
         "matches": "x54",
         "showticklabels": false
        },
        "xaxis9": {
         "anchor": "y9",
         "domain": [
          0,
          1
         ],
         "matches": "x54",
         "showticklabels": false
        },
        "yaxis": {
         "anchor": "x",
         "domain": [
          0.99056927297668,
          0.9999999999999996
         ]
        },
        "yaxis10": {
         "anchor": "x10",
         "domain": [
          0.8223593964334703,
          0.8317901234567899
         ]
        },
        "yaxis11": {
         "anchor": "x11",
         "domain": [
          0.8036694101508914,
          0.813100137174211
         ]
        },
        "yaxis12": {
         "anchor": "x12",
         "domain": [
          0.7849794238683125,
          0.7944101508916321
         ]
        },
        "yaxis13": {
         "anchor": "x13",
         "domain": [
          0.7662894375857336,
          0.7757201646090532
         ]
        },
        "yaxis14": {
         "anchor": "x14",
         "domain": [
          0.7475994513031549,
          0.7570301783264745
         ]
        },
        "yaxis15": {
         "anchor": "x15",
         "domain": [
          0.7289094650205761,
          0.7383401920438957
         ]
        },
        "yaxis16": {
         "anchor": "x16",
         "domain": [
          0.7102194787379972,
          0.7196502057613168
         ]
        },
        "yaxis17": {
         "anchor": "x17",
         "domain": [
          0.6915294924554183,
          0.7009602194787379
         ]
        },
        "yaxis18": {
         "anchor": "x18",
         "domain": [
          0.6728395061728394,
          0.682270233196159
         ]
        },
        "yaxis19": {
         "anchor": "x19",
         "domain": [
          0.6541495198902606,
          0.6635802469135802
         ]
        },
        "yaxis2": {
         "anchor": "x2",
         "domain": [
          0.9718792866941011,
          0.9813100137174207
         ]
        },
        "yaxis20": {
         "anchor": "x20",
         "domain": [
          0.6354595336076817,
          0.6448902606310013
         ]
        },
        "yaxis21": {
         "anchor": "x21",
         "domain": [
          0.6167695473251029,
          0.6262002743484225
         ]
        },
        "yaxis22": {
         "anchor": "x22",
         "domain": [
          0.598079561042524,
          0.6075102880658436
         ]
        },
        "yaxis23": {
         "anchor": "x23",
         "domain": [
          0.5793895747599451,
          0.5888203017832647
         ]
        },
        "yaxis24": {
         "anchor": "x24",
         "domain": [
          0.5606995884773663,
          0.5701303155006859
         ]
        },
        "yaxis25": {
         "anchor": "x25",
         "domain": [
          0.5420096021947874,
          0.551440329218107
         ]
        },
        "yaxis26": {
         "anchor": "x26",
         "domain": [
          0.5233196159122087,
          0.5327503429355283
         ]
        },
        "yaxis27": {
         "anchor": "x27",
         "domain": [
          0.5046296296296298,
          0.5140603566529494
         ]
        },
        "yaxis28": {
         "anchor": "x28",
         "domain": [
          0.48593964334705086,
          0.49537037037037046
         ]
        },
        "yaxis29": {
         "anchor": "x29",
         "domain": [
          0.46724965706447197,
          0.47668038408779156
         ]
        },
        "yaxis3": {
         "anchor": "x3",
         "domain": [
          0.9531893004115223,
          0.9626200274348419
         ]
        },
        "yaxis30": {
         "anchor": "x30",
         "domain": [
          0.4485596707818931,
          0.4579903978052127
         ]
        },
        "yaxis31": {
         "anchor": "x31",
         "domain": [
          0.4298696844993143,
          0.4393004115226339
         ]
        },
        "yaxis32": {
         "anchor": "x32",
         "domain": [
          0.4111796982167354,
          0.420610425240055
         ]
        },
        "yaxis33": {
         "anchor": "x33",
         "domain": [
          0.3924897119341565,
          0.4019204389574761
         ]
        },
        "yaxis34": {
         "anchor": "x34",
         "domain": [
          0.3737997256515776,
          0.3832304526748972
         ]
        },
        "yaxis35": {
         "anchor": "x35",
         "domain": [
          0.3551097393689987,
          0.3645404663923183
         ]
        },
        "yaxis36": {
         "anchor": "x36",
         "domain": [
          0.3364197530864198,
          0.3458504801097394
         ]
        },
        "yaxis37": {
         "anchor": "x37",
         "domain": [
          0.3177297668038409,
          0.3271604938271605
         ]
        },
        "yaxis38": {
         "anchor": "x38",
         "domain": [
          0.29903978052126207,
          0.30847050754458166
         ]
        },
        "yaxis39": {
         "anchor": "x39",
         "domain": [
          0.2803497942386832,
          0.2897805212620028
         ]
        },
        "yaxis4": {
         "anchor": "x4",
         "domain": [
          0.9344993141289434,
          0.943930041152263
         ]
        },
        "yaxis40": {
         "anchor": "x40",
         "domain": [
          0.26165980795610433,
          0.2710905349794239
         ]
        },
        "yaxis41": {
         "anchor": "x41",
         "domain": [
          0.24296982167352543,
          0.25240054869684503
         ]
        },
        "yaxis42": {
         "anchor": "x42",
         "domain": [
          0.22427983539094654,
          0.23371056241426616
         ]
        },
        "yaxis43": {
         "anchor": "x43",
         "domain": [
          0.20558984910836764,
          0.21502057613168726
         ]
        },
        "yaxis44": {
         "anchor": "x44",
         "domain": [
          0.18689986282578877,
          0.1963305898491084
         ]
        },
        "yaxis45": {
         "anchor": "x45",
         "domain": [
          0.1682098765432099,
          0.17764060356652953
         ]
        },
        "yaxis46": {
         "anchor": "x46",
         "domain": [
          0.149519890260631,
          0.15895061728395063
         ]
        },
        "yaxis47": {
         "anchor": "x47",
         "domain": [
          0.1308299039780521,
          0.14026063100137173
         ]
        },
        "yaxis48": {
         "anchor": "x48",
         "domain": [
          0.11213991769547325,
          0.12157064471879286
         ]
        },
        "yaxis49": {
         "anchor": "x49",
         "domain": [
          0.09344993141289437,
          0.102880658436214
         ]
        },
        "yaxis5": {
         "anchor": "x5",
         "domain": [
          0.9158093278463646,
          0.9252400548696842
         ]
        },
        "yaxis50": {
         "anchor": "x50",
         "domain": [
          0.0747599451303155,
          0.08419067215363513
         ]
        },
        "yaxis51": {
         "anchor": "x51",
         "domain": [
          0.05606995884773663,
          0.06550068587105624
         ]
        },
        "yaxis52": {
         "anchor": "x52",
         "domain": [
          0.03737997256515775,
          0.04681069958847737
         ]
        },
        "yaxis53": {
         "anchor": "x53",
         "domain": [
          0.018689986282578876,
          0.028120713305898493
         ]
        },
        "yaxis54": {
         "anchor": "x54",
         "domain": [
          0,
          0.009430727023319617
         ]
        },
        "yaxis6": {
         "anchor": "x6",
         "domain": [
          0.8971193415637857,
          0.9065500685871053
         ]
        },
        "yaxis7": {
         "anchor": "x7",
         "domain": [
          0.8784293552812068,
          0.8878600823045264
         ]
        },
        "yaxis8": {
         "anchor": "x8",
         "domain": [
          0.859739368998628,
          0.8691700960219476
         ]
        },
        "yaxis9": {
         "anchor": "x9",
         "domain": [
          0.8410493827160491,
          0.8504801097393687
         ]
        }
       }
      },
      "text/html": [
       "<div>                            <div id=\"406c6264-ba3a-4d42-9c9a-1607d830145e\" class=\"plotly-graph-div\" style=\"height:5000px; width:100%;\"></div>            <script type=\"text/javascript\">                require([\"plotly\"], function(Plotly) {                    window.PLOTLYENV=window.PLOTLYENV || {};                                    if (document.getElementById(\"406c6264-ba3a-4d42-9c9a-1607d830145e\")) {                    Plotly.newPlot(                        \"406c6264-ba3a-4d42-9c9a-1607d830145e\",                        [{\"hovertemplate\":\"%{text}\",\"legendgroup\":\"0.1\",\"marker\":{\"color\":\"red\"},\"mode\":\"markers\",\"name\":\"dx=0.1\",\"showlegend\":true,\"text\":[\"<br>Git Hash: 7c99dbc59c2c38c7c192be00eac500546471bed0</br>\\n<br>Version: 2023.3.0</br>\\n<br>Timestamp 2023-04-12</br>\"],\"x\":[\"2023-04-12T09:53:30.436212\"],\"y\":[7.999999809271685e-07],\"type\":\"scatter\",\"xaxis\":\"x\",\"yaxis\":\"y\"},{\"hovertemplate\":\"%{text}\",\"legendgroup\":\"0.1\",\"marker\":{\"color\":\"red\"},\"mode\":\"markers\",\"name\":\"dx=0.1\",\"showlegend\":false,\"text\":[\"<br>Git Hash: 7c99dbc59c2c38c7c192be00eac500546471bed0</br>\\n<br>Version: 2023.3.0</br>\\n<br>Timestamp 2023-04-12</br>\"],\"x\":[\"2023-04-12T09:53:30.436212\"],\"y\":[0.05],\"type\":\"scatter\",\"xaxis\":\"x2\",\"yaxis\":\"y2\"},{\"hovertemplate\":\"%{text}\",\"legendgroup\":\"0.1\",\"marker\":{\"color\":\"red\"},\"mode\":\"markers\",\"name\":\"dx=0.1\",\"showlegend\":false,\"text\":[\"<br>Git Hash: 7c99dbc59c2c38c7c192be00eac500546471bed0</br>\\n<br>Version: 2023.3.0</br>\\n<br>Timestamp 2023-04-12</br>\"],\"x\":[\"2023-04-12T09:53:30.436212\"],\"y\":[0.1],\"type\":\"scatter\",\"xaxis\":\"x3\",\"yaxis\":\"y3\"},{\"hovertemplate\":\"%{text}\",\"legendgroup\":\"0.1\",\"marker\":{\"color\":\"red\"},\"mode\":\"markers\",\"name\":\"dx=0.1\",\"showlegend\":false,\"text\":[\"<br>Git Hash: 7c99dbc59c2c38c7c192be00eac500546471bed0</br>\\n<br>Version: 2023.3.0</br>\\n<br>Timestamp 2023-04-12</br>\"],\"x\":[\"2023-04-12T09:53:30.436212\"],\"y\":[2520],\"type\":\"scatter\",\"xaxis\":\"x4\",\"yaxis\":\"y4\"},{\"hovertemplate\":\"%{text}\",\"legendgroup\":\"0.1\",\"marker\":{\"color\":\"red\"},\"mode\":\"markers\",\"name\":\"dx=0.1\",\"showlegend\":false,\"text\":[\"<br>Git Hash: 7c99dbc59c2c38c7c192be00eac500546471bed0</br>\\n<br>Version: 2023.3.0</br>\\n<br>Timestamp 2023-04-12</br>\"],\"x\":[\"2023-04-12T09:53:30.436212\"],\"y\":[20160],\"type\":\"scatter\",\"xaxis\":\"x5\",\"yaxis\":\"y5\"},{\"hovertemplate\":\"%{text}\",\"legendgroup\":\"0.1\",\"marker\":{\"color\":\"red\"},\"mode\":\"markers\",\"name\":\"dx=0.1\",\"showlegend\":false,\"text\":[\"<br>Git Hash: 7c99dbc59c2c38c7c192be00eac500546471bed0</br>\\n<br>Version: 2023.3.0</br>\\n<br>Timestamp 2023-04-12</br>\"],\"x\":[\"2023-04-12T09:53:30.436212\"],\"y\":[672],\"type\":\"scatter\",\"xaxis\":\"x6\",\"yaxis\":\"y6\"},{\"hovertemplate\":\"%{text}\",\"legendgroup\":\"0.1\",\"marker\":{\"color\":\"red\"},\"mode\":\"markers\",\"name\":\"dx=0.1\",\"showlegend\":false,\"text\":[\"<br>Git Hash: 7c99dbc59c2c38c7c192be00eac500546471bed0</br>\\n<br>Version: 2023.3.0</br>\\n<br>Timestamp 2023-04-12</br>\"],\"x\":[\"2023-04-12T09:53:30.436212\"],\"y\":[4305],\"type\":\"scatter\",\"xaxis\":\"x7\",\"yaxis\":\"y7\"},{\"hovertemplate\":\"%{text}\",\"legendgroup\":\"0.1\",\"marker\":{\"color\":\"red\"},\"mode\":\"markers\",\"name\":\"dx=0.1\",\"showlegend\":false,\"text\":[\"<br>Git Hash: 7c99dbc59c2c38c7c192be00eac500546471bed0</br>\\n<br>Version: 2023.3.0</br>\\n<br>Timestamp 2023-04-12</br>\"],\"x\":[\"2023-04-12T09:53:30.436212\"],\"y\":[137.96480052699997],\"type\":\"scatter\",\"xaxis\":\"x8\",\"yaxis\":\"y8\"},{\"hovertemplate\":\"%{text}\",\"legendgroup\":\"0.1\",\"marker\":{\"color\":\"red\"},\"mode\":\"markers\",\"name\":\"dx=0.1\",\"showlegend\":false,\"text\":[\"<br>Git Hash: 7c99dbc59c2c38c7c192be00eac500546471bed0</br>\\n<br>Version: 2023.3.0</br>\\n<br>Timestamp 2023-04-12</br>\"],\"x\":[\"2023-04-12T09:53:30.436212\"],\"y\":[13424.539180128],\"type\":\"scatter\",\"xaxis\":\"x9\",\"yaxis\":\"y9\"},{\"hovertemplate\":\"%{text}\",\"legendgroup\":\"0.1\",\"marker\":{\"color\":\"red\"},\"mode\":\"markers\",\"name\":\"dx=0.1\",\"showlegend\":false,\"text\":[\"<br>Git Hash: 7c99dbc59c2c38c7c192be00eac500546471bed0</br>\\n<br>Version: 2023.3.0</br>\\n<br>Timestamp 2023-04-12</br>\"],\"x\":[\"2023-04-12T09:53:30.436212\"],\"y\":[1.176115252264472],\"type\":\"scatter\",\"xaxis\":\"x10\",\"yaxis\":\"y10\"},{\"hovertemplate\":\"%{text}\",\"legendgroup\":\"0.1\",\"marker\":{\"color\":\"red\"},\"mode\":\"markers\",\"name\":\"dx=0.1\",\"showlegend\":false,\"text\":[\"<br>Git Hash: 7c99dbc59c2c38c7c192be00eac500546471bed0</br>\\n<br>Version: 2023.3.0</br>\\n<br>Timestamp 2023-04-12</br>\"],\"x\":[\"2023-04-12T09:53:30.436212\"],\"y\":[1.176115252264472],\"type\":\"scatter\",\"xaxis\":\"x11\",\"yaxis\":\"y11\"},{\"hovertemplate\":\"%{text}\",\"legendgroup\":\"0.1\",\"marker\":{\"color\":\"red\"},\"mode\":\"markers\",\"name\":\"dx=0.1\",\"showlegend\":false,\"text\":[\"<br>Git Hash: 7c99dbc59c2c38c7c192be00eac500546471bed0</br>\\n<br>Version: 2023.3.0</br>\\n<br>Timestamp 2023-04-12</br>\"],\"x\":[\"2023-04-12T09:53:30.436212\"],\"y\":[238.87751735788927],\"type\":\"scatter\",\"xaxis\":\"x12\",\"yaxis\":\"y12\"},{\"hovertemplate\":\"%{text}\",\"legendgroup\":\"0.1\",\"marker\":{\"color\":\"red\"},\"mode\":\"markers\",\"name\":\"dx=0.1\",\"showlegend\":false,\"text\":[\"<br>Git Hash: 7c99dbc59c2c38c7c192be00eac500546471bed0</br>\\n<br>Version: 2023.3.0</br>\\n<br>Timestamp 2023-04-12</br>\"],\"x\":[\"2023-04-12T09:53:30.436212\"],\"y\":[265.4026389688796],\"type\":\"scatter\",\"xaxis\":\"x13\",\"yaxis\":\"y13\"},{\"hovertemplate\":\"%{text}\",\"legendgroup\":\"0.1\",\"marker\":{\"color\":\"red\"},\"mode\":\"markers\",\"name\":\"dx=0.1\",\"showlegend\":false,\"text\":[\"<br>Git Hash: 7c99dbc59c2c38c7c192be00eac500546471bed0</br>\\n<br>Version: 2023.3.0</br>\\n<br>Timestamp 2023-04-12</br>\"],\"x\":[\"2023-04-12T09:53:30.436212\"],\"y\":[332.3475149814282],\"type\":\"scatter\",\"xaxis\":\"x14\",\"yaxis\":\"y14\"},{\"hovertemplate\":\"%{text}\",\"legendgroup\":\"0.1\",\"marker\":{\"color\":\"red\"},\"mode\":\"markers\",\"name\":\"dx=0.1\",\"showlegend\":false,\"text\":[\"<br>Git Hash: 7c99dbc59c2c38c7c192be00eac500546471bed0</br>\\n<br>Version: 2023.3.0</br>\\n<br>Timestamp 2023-04-12</br>\"],\"x\":[\"2023-04-12T09:53:30.436212\"],\"y\":[93.46999762353894],\"type\":\"scatter\",\"xaxis\":\"x15\",\"yaxis\":\"y15\"},{\"hovertemplate\":\"%{text}\",\"legendgroup\":\"0.1\",\"marker\":{\"color\":\"red\"},\"mode\":\"markers\",\"name\":\"dx=0.1\",\"showlegend\":false,\"text\":[\"<br>Git Hash: 7c99dbc59c2c38c7c192be00eac500546471bed0</br>\\n<br>Version: 2023.3.0</br>\\n<br>Timestamp 2023-04-12</br>\"],\"x\":[\"2023-04-12T09:53:30.436212\"],\"y\":[51.11933974409381],\"type\":\"scatter\",\"xaxis\":\"x16\",\"yaxis\":\"y16\"},{\"hovertemplate\":\"%{text}\",\"legendgroup\":\"0.1\",\"marker\":{\"color\":\"red\"},\"mode\":\"markers\",\"name\":\"dx=0.1\",\"showlegend\":false,\"text\":[\"<br>Git Hash: 7c99dbc59c2c38c7c192be00eac500546471bed0</br>\\n<br>Version: 2023.3.0</br>\\n<br>Timestamp 2023-04-12</br>\"],\"x\":[\"2023-04-12T09:53:30.436212\"],\"y\":[-88.02163380312128],\"type\":\"scatter\",\"xaxis\":\"x17\",\"yaxis\":\"y17\"},{\"hovertemplate\":\"%{text}\",\"legendgroup\":\"0.1\",\"marker\":{\"color\":\"red\"},\"mode\":\"markers\",\"name\":\"dx=0.1\",\"showlegend\":false,\"text\":[\"<br>Git Hash: 7c99dbc59c2c38c7c192be00eac500546471bed0</br>\\n<br>Version: 2023.3.0</br>\\n<br>Timestamp 2023-04-12</br>\"],\"x\":[\"2023-04-12T09:53:30.436212\"],\"y\":[18.01890419733565],\"type\":\"scatter\",\"xaxis\":\"x18\",\"yaxis\":\"y18\"},{\"hovertemplate\":\"%{text}\",\"legendgroup\":\"0.1\",\"marker\":{\"color\":\"red\"},\"mode\":\"markers\",\"name\":\"dx=0.1\",\"showlegend\":false,\"text\":[\"<br>Git Hash: 7c99dbc59c2c38c7c192be00eac500546471bed0</br>\\n<br>Version: 2023.3.0</br>\\n<br>Timestamp 2023-04-12</br>\"],\"x\":[\"2023-04-12T09:53:30.436212\"],\"y\":[0.0002615740189351584],\"type\":\"scatter\",\"xaxis\":\"x19\",\"yaxis\":\"y19\"},{\"hovertemplate\":\"%{text}\",\"legendgroup\":\"0.1\",\"marker\":{\"color\":\"red\"},\"mode\":\"markers\",\"name\":\"dx=0.1\",\"showlegend\":false,\"text\":[\"<br>Git Hash: 7c99dbc59c2c38c7c192be00eac500546471bed0</br>\\n<br>Version: 2023.3.0</br>\\n<br>Timestamp 2023-04-12</br>\"],\"x\":[\"2023-04-12T09:53:30.436212\"],\"y\":[0.0001942344918733592],\"type\":\"scatter\",\"xaxis\":\"x20\",\"yaxis\":\"y20\"},{\"hovertemplate\":\"%{text}\",\"legendgroup\":\"0.1\",\"marker\":{\"color\":\"red\"},\"mode\":\"markers\",\"name\":\"dx=0.1\",\"showlegend\":false,\"text\":[\"<br>Git Hash: 7c99dbc59c2c38c7c192be00eac500546471bed0</br>\\n<br>Version: 2023.3.0</br>\\n<br>Timestamp 2023-04-12</br>\"],\"x\":[\"2023-04-12T09:53:30.436212\"],\"y\":[268.6151443515614],\"type\":\"scatter\",\"xaxis\":\"x21\",\"yaxis\":\"y21\"},{\"hovertemplate\":\"%{text}\",\"legendgroup\":\"0.1\",\"marker\":{\"color\":\"red\"},\"mode\":\"markers\",\"name\":\"dx=0.1\",\"showlegend\":false,\"text\":[\"<br>Git Hash: 7c99dbc59c2c38c7c192be00eac500546471bed0</br>\\n<br>Version: 2023.3.0</br>\\n<br>Timestamp 2023-04-12</br>\"],\"x\":[\"2023-04-12T09:53:30.436212\"],\"y\":[388.1388627417632],\"type\":\"scatter\",\"xaxis\":\"x22\",\"yaxis\":\"y22\"},{\"hovertemplate\":\"%{text}\",\"legendgroup\":\"0.1\",\"marker\":{\"color\":\"red\"},\"mode\":\"markers\",\"name\":\"dx=0.1\",\"showlegend\":false,\"text\":[\"<br>Git Hash: 7c99dbc59c2c38c7c192be00eac500546471bed0</br>\\n<br>Version: 2023.3.0</br>\\n<br>Timestamp 2023-04-12</br>\"],\"x\":[\"2023-04-12T09:53:30.436212\"],\"y\":[469.8239764855482],\"type\":\"scatter\",\"xaxis\":\"x23\",\"yaxis\":\"y23\"},{\"hovertemplate\":\"%{text}\",\"legendgroup\":\"0.1\",\"marker\":{\"color\":\"red\"},\"mode\":\"markers\",\"name\":\"dx=0.1\",\"showlegend\":false,\"text\":[\"<br>Git Hash: 7c99dbc59c2c38c7c192be00eac500546471bed0</br>\\n<br>Version: 2023.3.0</br>\\n<br>Timestamp 2023-04-12</br>\"],\"x\":[\"2023-04-12T09:53:30.436212\"],\"y\":[139.0],\"type\":\"scatter\",\"xaxis\":\"x24\",\"yaxis\":\"y24\"},{\"hovertemplate\":\"%{text}\",\"legendgroup\":\"0.1\",\"marker\":{\"color\":\"red\"},\"mode\":\"markers\",\"name\":\"dx=0.1\",\"showlegend\":false,\"text\":[\"<br>Git Hash: 7c99dbc59c2c38c7c192be00eac500546471bed0</br>\\n<br>Version: 2023.3.0</br>\\n<br>Timestamp 2023-04-12</br>\"],\"x\":[\"2023-04-12T09:53:30.436212\"],\"y\":[149.1895269687489],\"type\":\"scatter\",\"xaxis\":\"x25\",\"yaxis\":\"y25\"},{\"hovertemplate\":\"%{text}\",\"legendgroup\":\"0.1\",\"marker\":{\"color\":\"red\"},\"mode\":\"markers\",\"name\":\"dx=0.1\",\"showlegend\":false,\"text\":[\"<br>Git Hash: 7c99dbc59c2c38c7c192be00eac500546471bed0</br>\\n<br>Version: 2023.3.0</br>\\n<br>Timestamp 2023-04-12</br>\"],\"x\":[\"2023-04-12T09:53:30.436212\"],\"y\":[457.7402048498863],\"type\":\"scatter\",\"xaxis\":\"x26\",\"yaxis\":\"y26\"},{\"hovertemplate\":\"%{text}\",\"legendgroup\":\"0.1\",\"marker\":{\"color\":\"red\"},\"mode\":\"markers\",\"name\":\"dx=0.1\",\"showlegend\":false,\"text\":[\"<br>Git Hash: 7c99dbc59c2c38c7c192be00eac500546471bed0</br>\\n<br>Version: 2023.3.0</br>\\n<br>Timestamp 2023-04-12</br>\"],\"x\":[\"2023-04-12T09:53:30.436212\"],\"y\":[1.0],\"type\":\"scatter\",\"xaxis\":\"x27\",\"yaxis\":\"y27\"},{\"hovertemplate\":\"%{text}\",\"legendgroup\":\"0.1\",\"marker\":{\"color\":\"red\"},\"mode\":\"markers\",\"name\":\"dx=0.1\",\"showlegend\":false,\"text\":[\"<br>Git Hash: 7c99dbc59c2c38c7c192be00eac500546471bed0</br>\\n<br>Version: 2023.3.0</br>\\n<br>Timestamp 2023-04-12</br>\"],\"x\":[\"2023-04-12T09:53:30.436212\"],\"y\":[0.9023825110769322],\"type\":\"scatter\",\"xaxis\":\"x28\",\"yaxis\":\"y28\"},{\"hovertemplate\":\"%{text}\",\"legendgroup\":\"0.1\",\"marker\":{\"color\":\"red\"},\"mode\":\"markers\",\"name\":\"dx=0.1\",\"showlegend\":false,\"text\":[\"<br>Git Hash: 7c99dbc59c2c38c7c192be00eac500546471bed0</br>\\n<br>Version: 2023.3.0</br>\\n<br>Timestamp 2023-04-12</br>\"],\"x\":[\"2023-04-12T09:53:30.436212\"],\"y\":[138.0],\"type\":\"scatter\",\"xaxis\":\"x29\",\"yaxis\":\"y29\"},{\"hovertemplate\":\"%{text}\",\"legendgroup\":\"0.1\",\"marker\":{\"color\":\"red\"},\"mode\":\"markers\",\"name\":\"dx=0.1\",\"showlegend\":false,\"text\":[\"<br>Git Hash: 7c99dbc59c2c38c7c192be00eac500546471bed0</br>\\n<br>Version: 2023.3.0</br>\\n<br>Timestamp 2023-04-12</br>\"],\"x\":[\"2023-04-12T09:53:30.436212\"],\"y\":[272.16049776632275],\"type\":\"scatter\",\"xaxis\":\"x30\",\"yaxis\":\"y30\"},{\"hovertemplate\":\"%{text}\",\"legendgroup\":\"0.1\",\"marker\":{\"color\":\"red\"},\"mode\":\"markers\",\"name\":\"dx=0.1\",\"showlegend\":false,\"text\":[\"<br>Git Hash: 7c99dbc59c2c38c7c192be00eac500546471bed0</br>\\n<br>Version: 2023.3.0</br>\\n<br>Timestamp 2023-04-12</br>\"],\"x\":[\"2023-04-12T09:53:30.436212\"],\"y\":[403.1148689090557],\"type\":\"scatter\",\"xaxis\":\"x31\",\"yaxis\":\"y31\"},{\"hovertemplate\":\"%{text}\",\"legendgroup\":\"0.1\",\"marker\":{\"color\":\"red\"},\"mode\":\"markers\",\"name\":\"dx=0.1\",\"showlegend\":false,\"text\":[\"<br>Git Hash: 7c99dbc59c2c38c7c192be00eac500546471bed0</br>\\n<br>Version: 2023.3.0</br>\\n<br>Timestamp 2023-04-12</br>\"],\"x\":[\"2023-04-12T09:53:30.436212\"],\"y\":[520.7955050767033],\"type\":\"scatter\",\"xaxis\":\"x32\",\"yaxis\":\"y32\"},{\"hovertemplate\":\"%{text}\",\"legendgroup\":\"0.1\",\"marker\":{\"color\":\"red\"},\"mode\":\"markers\",\"name\":\"dx=0.1\",\"showlegend\":false,\"text\":[\"<br>Git Hash: 7c99dbc59c2c38c7c192be00eac500546471bed0</br>\\n<br>Version: 2023.3.0</br>\\n<br>Timestamp 2023-04-12</br>\"],\"x\":[\"2023-04-12T09:53:30.436212\"],\"y\":[192.95059800066878],\"type\":\"scatter\",\"xaxis\":\"x33\",\"yaxis\":\"y33\"},{\"hovertemplate\":\"%{text}\",\"legendgroup\":\"0.1\",\"marker\":{\"color\":\"red\"},\"mode\":\"markers\",\"name\":\"dx=0.1\",\"showlegend\":false,\"text\":[\"<br>Git Hash: 7c99dbc59c2c38c7c192be00eac500546471bed0</br>\\n<br>Version: 2023.3.0</br>\\n<br>Timestamp 2023-04-12</br>\"],\"x\":[\"2023-04-12T09:53:30.436212\"],\"y\":[-108.45228920497729],\"type\":\"scatter\",\"xaxis\":\"x34\",\"yaxis\":\"y34\"},{\"hovertemplate\":\"%{text}\",\"legendgroup\":\"0.1\",\"marker\":{\"color\":\"red\"},\"mode\":\"markers\",\"name\":\"dx=0.1\",\"showlegend\":false,\"text\":[\"<br>Git Hash: 7c99dbc59c2c38c7c192be00eac500546471bed0</br>\\n<br>Version: 2023.3.0</br>\\n<br>Timestamp 2023-04-12</br>\"],\"x\":[\"2023-04-12T09:53:30.436212\"],\"y\":[0.16838426036105913],\"type\":\"scatter\",\"xaxis\":\"x35\",\"yaxis\":\"y35\"},{\"hovertemplate\":\"%{text}\",\"legendgroup\":\"0.1\",\"marker\":{\"color\":\"red\"},\"mode\":\"markers\",\"name\":\"dx=0.1\",\"showlegend\":false,\"text\":[\"<br>Git Hash: 7c99dbc59c2c38c7c192be00eac500546471bed0</br>\\n<br>Version: 2023.3.0</br>\\n<br>Timestamp 2023-04-12</br>\"],\"x\":[\"2023-04-12T09:53:30.436212\"],\"y\":[0.16838426036105913],\"type\":\"scatter\",\"xaxis\":\"x36\",\"yaxis\":\"y36\"},{\"hovertemplate\":\"%{text}\",\"legendgroup\":\"0.1\",\"marker\":{\"color\":\"red\"},\"mode\":\"markers\",\"name\":\"dx=0.1\",\"showlegend\":false,\"text\":[\"<br>Git Hash: 7c99dbc59c2c38c7c192be00eac500546471bed0</br>\\n<br>Version: 2023.3.0</br>\\n<br>Timestamp 2023-04-12</br>\"],\"x\":[\"2023-04-12T09:53:30.436212\"],\"y\":[0.8419213018052958],\"type\":\"scatter\",\"xaxis\":\"x37\",\"yaxis\":\"y37\"},{\"hovertemplate\":\"%{text}\",\"legendgroup\":\"0.1\",\"marker\":{\"color\":\"red\"},\"mode\":\"markers\",\"name\":\"dx=0.1\",\"showlegend\":false,\"text\":[\"<br>Git Hash: 7c99dbc59c2c38c7c192be00eac500546471bed0</br>\\n<br>Version: 2023.3.0</br>\\n<br>Timestamp 2023-04-12</br>\"],\"x\":[\"2023-04-12T09:53:30.436212\"],\"y\":[0.849069801329888],\"type\":\"scatter\",\"xaxis\":\"x38\",\"yaxis\":\"y38\"},{\"hovertemplate\":\"%{text}\",\"legendgroup\":\"0.1\",\"marker\":{\"color\":\"red\"},\"mode\":\"markers\",\"name\":\"dx=0.1\",\"showlegend\":false,\"text\":[\"<br>Git Hash: 7c99dbc59c2c38c7c192be00eac500546471bed0</br>\\n<br>Version: 2023.3.0</br>\\n<br>Timestamp 2023-04-12</br>\"],\"x\":[\"2023-04-12T09:53:30.436212\"],\"y\":[0.05],\"type\":\"scatter\",\"xaxis\":\"x39\",\"yaxis\":\"y39\"},{\"hovertemplate\":\"%{text}\",\"legendgroup\":\"0.1\",\"marker\":{\"color\":\"red\"},\"mode\":\"markers\",\"name\":\"dx=0.1\",\"showlegend\":false,\"text\":[\"<br>Git Hash: 7c99dbc59c2c38c7c192be00eac500546471bed0</br>\\n<br>Version: 2023.3.0</br>\\n<br>Timestamp 2023-04-12</br>\"],\"x\":[\"2023-04-12T09:53:30.436212\"],\"y\":[0.09721669804675352],\"type\":\"scatter\",\"xaxis\":\"x40\",\"yaxis\":\"y40\"},{\"hovertemplate\":\"%{text}\",\"legendgroup\":\"0.1\",\"marker\":{\"color\":\"red\"},\"mode\":\"markers\",\"name\":\"dx=0.1\",\"showlegend\":false,\"text\":[\"<br>Git Hash: 7c99dbc59c2c38c7c192be00eac500546471bed0</br>\\n<br>Version: 2023.3.0</br>\\n<br>Timestamp 2023-04-12</br>\"],\"x\":[\"2023-04-12T09:53:30.436212\"],\"y\":[0.09721669804675352],\"type\":\"scatter\",\"xaxis\":\"x41\",\"yaxis\":\"y41\"},{\"hovertemplate\":\"%{text}\",\"legendgroup\":\"0.1\",\"marker\":{\"color\":\"red\"},\"mode\":\"markers\",\"name\":\"dx=0.1\",\"showlegend\":false,\"text\":[\"<br>Git Hash: 7c99dbc59c2c38c7c192be00eac500546471bed0</br>\\n<br>Version: 2023.3.0</br>\\n<br>Timestamp 2023-04-12</br>\"],\"x\":[\"2023-04-12T09:53:30.436212\"],\"y\":[0.4860834902337676],\"type\":\"scatter\",\"xaxis\":\"x42\",\"yaxis\":\"y42\"},{\"hovertemplate\":\"%{text}\",\"legendgroup\":\"0.1\",\"marker\":{\"color\":\"red\"},\"mode\":\"markers\",\"name\":\"dx=0.1\",\"showlegend\":false,\"text\":[\"<br>Git Hash: 7c99dbc59c2c38c7c192be00eac500546471bed0</br>\\n<br>Version: 2023.3.0</br>\\n<br>Timestamp 2023-04-12</br>\"],\"x\":[\"2023-04-12T09:53:30.436212\"],\"y\":[0.48845780297076713],\"type\":\"scatter\",\"xaxis\":\"x43\",\"yaxis\":\"y43\"},{\"hovertemplate\":\"%{text}\",\"legendgroup\":\"0.1\",\"marker\":{\"color\":\"red\"},\"mode\":\"markers\",\"name\":\"dx=0.1\",\"showlegend\":false,\"text\":[\"<br>Git Hash: 7c99dbc59c2c38c7c192be00eac500546471bed0</br>\\n<br>Version: 2023.3.0</br>\\n<br>Timestamp 2023-04-12</br>\"],\"x\":[\"2023-04-12T09:53:30.436212\"],\"y\":[0.05],\"type\":\"scatter\",\"xaxis\":\"x44\",\"yaxis\":\"y44\"},{\"hovertemplate\":\"%{text}\",\"legendgroup\":\"0.1\",\"marker\":{\"color\":\"red\"},\"mode\":\"markers\",\"name\":\"dx=0.1\",\"showlegend\":false,\"text\":[\"<br>Git Hash: 7c99dbc59c2c38c7c192be00eac500546471bed0</br>\\n<br>Version: 2023.3.0</br>\\n<br>Timestamp 2023-04-12</br>\"],\"x\":[\"2023-04-12T09:53:30.436212\"],\"y\":[0.09721669804675352],\"type\":\"scatter\",\"xaxis\":\"x45\",\"yaxis\":\"y45\"},{\"hovertemplate\":\"%{text}\",\"legendgroup\":\"0.1\",\"marker\":{\"color\":\"red\"},\"mode\":\"markers\",\"name\":\"dx=0.1\",\"showlegend\":false,\"text\":[\"<br>Git Hash: 7c99dbc59c2c38c7c192be00eac500546471bed0</br>\\n<br>Version: 2023.3.0</br>\\n<br>Timestamp 2023-04-12</br>\"],\"x\":[\"2023-04-12T09:53:30.436212\"],\"y\":[0.09721669804675352],\"type\":\"scatter\",\"xaxis\":\"x46\",\"yaxis\":\"y46\"},{\"hovertemplate\":\"%{text}\",\"legendgroup\":\"0.1\",\"marker\":{\"color\":\"red\"},\"mode\":\"markers\",\"name\":\"dx=0.1\",\"showlegend\":false,\"text\":[\"<br>Git Hash: 7c99dbc59c2c38c7c192be00eac500546471bed0</br>\\n<br>Version: 2023.3.0</br>\\n<br>Timestamp 2023-04-12</br>\"],\"x\":[\"2023-04-12T09:53:30.436212\"],\"y\":[0.4860834902337676],\"type\":\"scatter\",\"xaxis\":\"x47\",\"yaxis\":\"y47\"},{\"hovertemplate\":\"%{text}\",\"legendgroup\":\"0.1\",\"marker\":{\"color\":\"red\"},\"mode\":\"markers\",\"name\":\"dx=0.1\",\"showlegend\":false,\"text\":[\"<br>Git Hash: 7c99dbc59c2c38c7c192be00eac500546471bed0</br>\\n<br>Version: 2023.3.0</br>\\n<br>Timestamp 2023-04-12</br>\"],\"x\":[\"2023-04-12T09:53:30.436212\"],\"y\":[0.48845780297076713],\"type\":\"scatter\",\"xaxis\":\"x48\",\"yaxis\":\"y48\"},{\"hovertemplate\":\"%{text}\",\"legendgroup\":\"0.1\",\"marker\":{\"color\":\"red\"},\"mode\":\"markers\",\"name\":\"dx=0.1\",\"showlegend\":false,\"text\":[\"<br>Git Hash: 7c99dbc59c2c38c7c192be00eac500546471bed0</br>\\n<br>Version: 2023.3.0</br>\\n<br>Timestamp 2023-04-12</br>\"],\"x\":[\"2023-04-12T09:53:30.436212\"],\"y\":[0.05],\"type\":\"scatter\",\"xaxis\":\"x49\",\"yaxis\":\"y49\"},{\"hovertemplate\":\"%{text}\",\"legendgroup\":\"0.1\",\"marker\":{\"color\":\"red\"},\"mode\":\"markers\",\"name\":\"dx=0.1\",\"showlegend\":false,\"text\":[\"<br>Git Hash: 7c99dbc59c2c38c7c192be00eac500546471bed0</br>\\n<br>Version: 2023.3.0</br>\\n<br>Timestamp 2023-04-12</br>\"],\"x\":[\"2023-04-12T09:53:30.436212\"],\"y\":[0.09721669804675352],\"type\":\"scatter\",\"xaxis\":\"x50\",\"yaxis\":\"y50\"},{\"hovertemplate\":\"%{text}\",\"legendgroup\":\"0.1\",\"marker\":{\"color\":\"red\"},\"mode\":\"markers\",\"name\":\"dx=0.1\",\"showlegend\":false,\"text\":[\"<br>Git Hash: 7c99dbc59c2c38c7c192be00eac500546471bed0</br>\\n<br>Version: 2023.3.0</br>\\n<br>Timestamp 2023-04-12</br>\"],\"x\":[\"2023-04-12T09:53:30.436212\"],\"y\":[0.09721669804675352],\"type\":\"scatter\",\"xaxis\":\"x51\",\"yaxis\":\"y51\"},{\"hovertemplate\":\"%{text}\",\"legendgroup\":\"0.1\",\"marker\":{\"color\":\"red\"},\"mode\":\"markers\",\"name\":\"dx=0.1\",\"showlegend\":false,\"text\":[\"<br>Git Hash: 7c99dbc59c2c38c7c192be00eac500546471bed0</br>\\n<br>Version: 2023.3.0</br>\\n<br>Timestamp 2023-04-12</br>\"],\"x\":[\"2023-04-12T09:53:30.436212\"],\"y\":[0.4860834902337676],\"type\":\"scatter\",\"xaxis\":\"x52\",\"yaxis\":\"y52\"},{\"hovertemplate\":\"%{text}\",\"legendgroup\":\"0.1\",\"marker\":{\"color\":\"red\"},\"mode\":\"markers\",\"name\":\"dx=0.1\",\"showlegend\":false,\"text\":[\"<br>Git Hash: 7c99dbc59c2c38c7c192be00eac500546471bed0</br>\\n<br>Version: 2023.3.0</br>\\n<br>Timestamp 2023-04-12</br>\"],\"x\":[\"2023-04-12T09:53:30.436212\"],\"y\":[0.48845780297076713],\"type\":\"scatter\",\"xaxis\":\"x53\",\"yaxis\":\"y53\"},{\"hovertemplate\":\"%{text}\",\"legendgroup\":\"0.1\",\"marker\":{\"color\":\"red\"},\"mode\":\"markers\",\"name\":\"dx=0.1\",\"showlegend\":false,\"text\":[\"<br>Git Hash: 7c99dbc59c2c38c7c192be00eac500546471bed0</br>\\n<br>Version: 2023.3.0</br>\\n<br>Timestamp 2023-04-12</br>\"],\"x\":[\"2023-04-12T09:53:30.436212\"],\"y\":[0.05],\"type\":\"scatter\",\"xaxis\":\"x54\",\"yaxis\":\"y54\"},{\"hovertemplate\":\"%{text}\",\"legendgroup\":\"0.2\",\"marker\":{\"color\":\"green\"},\"mode\":\"markers\",\"name\":\"dx=0.2\",\"showlegend\":true,\"text\":[\"<br>Git Hash: 7c99dbc59c2c38c7c192be00eac500546471bed0</br>\\n<br>Version: 2023.3.0</br>\\n<br>Timestamp 2023-04-12</br>\"],\"x\":[\"2023-04-12T09:53:34.139318\"],\"y\":[1.3000000080864993e-06],\"type\":\"scatter\",\"xaxis\":\"x\",\"yaxis\":\"y\"},{\"hovertemplate\":\"%{text}\",\"legendgroup\":\"0.2\",\"marker\":{\"color\":\"green\"},\"mode\":\"markers\",\"name\":\"dx=0.2\",\"showlegend\":false,\"text\":[\"<br>Git Hash: 7c99dbc59c2c38c7c192be00eac500546471bed0</br>\\n<br>Version: 2023.3.0</br>\\n<br>Timestamp 2023-04-12</br>\"],\"x\":[\"2023-04-12T09:53:34.139318\"],\"y\":[0.05],\"type\":\"scatter\",\"xaxis\":\"x2\",\"yaxis\":\"y2\"},{\"hovertemplate\":\"%{text}\",\"legendgroup\":\"0.2\",\"marker\":{\"color\":\"green\"},\"mode\":\"markers\",\"name\":\"dx=0.2\",\"showlegend\":false,\"text\":[\"<br>Git Hash: 7c99dbc59c2c38c7c192be00eac500546471bed0</br>\\n<br>Version: 2023.3.0</br>\\n<br>Timestamp 2023-04-12</br>\"],\"x\":[\"2023-04-12T09:53:34.139318\"],\"y\":[0.2],\"type\":\"scatter\",\"xaxis\":\"x3\",\"yaxis\":\"y3\"},{\"hovertemplate\":\"%{text}\",\"legendgroup\":\"0.2\",\"marker\":{\"color\":\"green\"},\"mode\":\"markers\",\"name\":\"dx=0.2\",\"showlegend\":false,\"text\":[\"<br>Git Hash: 7c99dbc59c2c38c7c192be00eac500546471bed0</br>\\n<br>Version: 2023.3.0</br>\\n<br>Timestamp 2023-04-12</br>\"],\"x\":[\"2023-04-12T09:53:34.139318\"],\"y\":[180],\"type\":\"scatter\",\"xaxis\":\"x4\",\"yaxis\":\"y4\"},{\"hovertemplate\":\"%{text}\",\"legendgroup\":\"0.2\",\"marker\":{\"color\":\"green\"},\"mode\":\"markers\",\"name\":\"dx=0.2\",\"showlegend\":false,\"text\":[\"<br>Git Hash: 7c99dbc59c2c38c7c192be00eac500546471bed0</br>\\n<br>Version: 2023.3.0</br>\\n<br>Timestamp 2023-04-12</br>\"],\"x\":[\"2023-04-12T09:53:34.139318\"],\"y\":[1440],\"type\":\"scatter\",\"xaxis\":\"x5\",\"yaxis\":\"y5\"},{\"hovertemplate\":\"%{text}\",\"legendgroup\":\"0.2\",\"marker\":{\"color\":\"green\"},\"mode\":\"markers\",\"name\":\"dx=0.2\",\"showlegend\":false,\"text\":[\"<br>Git Hash: 7c99dbc59c2c38c7c192be00eac500546471bed0</br>\\n<br>Version: 2023.3.0</br>\\n<br>Timestamp 2023-04-12</br>\"],\"x\":[\"2023-04-12T09:53:34.139318\"],\"y\":[88],\"type\":\"scatter\",\"xaxis\":\"x6\",\"yaxis\":\"y6\"},{\"hovertemplate\":\"%{text}\",\"legendgroup\":\"0.2\",\"marker\":{\"color\":\"green\"},\"mode\":\"markers\",\"name\":\"dx=0.2\",\"showlegend\":false,\"text\":[\"<br>Git Hash: 7c99dbc59c2c38c7c192be00eac500546471bed0</br>\\n<br>Version: 2023.3.0</br>\\n<br>Timestamp 2023-04-12</br>\"],\"x\":[\"2023-04-12T09:53:34.139318\"],\"y\":[441],\"type\":\"scatter\",\"xaxis\":\"x7\",\"yaxis\":\"y7\"},{\"hovertemplate\":\"%{text}\",\"legendgroup\":\"0.2\",\"marker\":{\"color\":\"green\"},\"mode\":\"markers\",\"name\":\"dx=0.2\",\"showlegend\":false,\"text\":[\"<br>Git Hash: 7c99dbc59c2c38c7c192be00eac500546471bed0</br>\\n<br>Version: 2023.3.0</br>\\n<br>Timestamp 2023-04-12</br>\"],\"x\":[\"2023-04-12T09:53:34.139318\"],\"y\":[132.99851071300003],\"type\":\"scatter\",\"xaxis\":\"x8\",\"yaxis\":\"y8\"},{\"hovertemplate\":\"%{text}\",\"legendgroup\":\"0.2\",\"marker\":{\"color\":\"green\"},\"mode\":\"markers\",\"name\":\"dx=0.2\",\"showlegend\":false,\"text\":[\"<br>Git Hash: 7c99dbc59c2c38c7c192be00eac500546471bed0</br>\\n<br>Version: 2023.3.0</br>\\n<br>Timestamp 2023-04-12</br>\"],\"x\":[\"2023-04-12T09:53:34.139318\"],\"y\":[1251.196527563],\"type\":\"scatter\",\"xaxis\":\"x9\",\"yaxis\":\"y9\"},{\"hovertemplate\":\"%{text}\",\"legendgroup\":\"0.2\",\"marker\":{\"color\":\"green\"},\"mode\":\"markers\",\"name\":\"dx=0.2\",\"showlegend\":false,\"text\":[\"<br>Git Hash: 7c99dbc59c2c38c7c192be00eac500546471bed0</br>\\n<br>Version: 2023.3.0</br>\\n<br>Timestamp 2023-04-12</br>\"],\"x\":[\"2023-04-12T09:53:34.139318\"],\"y\":[1.1788906071894687],\"type\":\"scatter\",\"xaxis\":\"x10\",\"yaxis\":\"y10\"},{\"hovertemplate\":\"%{text}\",\"legendgroup\":\"0.2\",\"marker\":{\"color\":\"green\"},\"mode\":\"markers\",\"name\":\"dx=0.2\",\"showlegend\":false,\"text\":[\"<br>Git Hash: 7c99dbc59c2c38c7c192be00eac500546471bed0</br>\\n<br>Version: 2023.3.0</br>\\n<br>Timestamp 2023-04-12</br>\"],\"x\":[\"2023-04-12T09:53:34.139318\"],\"y\":[1.1788906071894687],\"type\":\"scatter\",\"xaxis\":\"x11\",\"yaxis\":\"y11\"},{\"hovertemplate\":\"%{text}\",\"legendgroup\":\"0.2\",\"marker\":{\"color\":\"green\"},\"mode\":\"markers\",\"name\":\"dx=0.2\",\"showlegend\":false,\"text\":[\"<br>Git Hash: 7c99dbc59c2c38c7c192be00eac500546471bed0</br>\\n<br>Version: 2023.3.0</br>\\n<br>Timestamp 2023-04-12</br>\"],\"x\":[\"2023-04-12T09:53:34.139318\"],\"y\":[238.880967611606],\"type\":\"scatter\",\"xaxis\":\"x12\",\"yaxis\":\"y12\"},{\"hovertemplate\":\"%{text}\",\"legendgroup\":\"0.2\",\"marker\":{\"color\":\"green\"},\"mode\":\"markers\",\"name\":\"dx=0.2\",\"showlegend\":false,\"text\":[\"<br>Git Hash: 7c99dbc59c2c38c7c192be00eac500546471bed0</br>\\n<br>Version: 2023.3.0</br>\\n<br>Timestamp 2023-04-12</br>\"],\"x\":[\"2023-04-12T09:53:34.139318\"],\"y\":[265.40595347521],\"type\":\"scatter\",\"xaxis\":\"x13\",\"yaxis\":\"y13\"},{\"hovertemplate\":\"%{text}\",\"legendgroup\":\"0.2\",\"marker\":{\"color\":\"green\"},\"mode\":\"markers\",\"name\":\"dx=0.2\",\"showlegend\":false,\"text\":[\"<br>Git Hash: 7c99dbc59c2c38c7c192be00eac500546471bed0</br>\\n<br>Version: 2023.3.0</br>\\n<br>Timestamp 2023-04-12</br>\"],\"x\":[\"2023-04-12T09:53:34.139318\"],\"y\":[332.35152396272616],\"type\":\"scatter\",\"xaxis\":\"x14\",\"yaxis\":\"y14\"},{\"hovertemplate\":\"%{text}\",\"legendgroup\":\"0.2\",\"marker\":{\"color\":\"green\"},\"mode\":\"markers\",\"name\":\"dx=0.2\",\"showlegend\":false,\"text\":[\"<br>Git Hash: 7c99dbc59c2c38c7c192be00eac500546471bed0</br>\\n<br>Version: 2023.3.0</br>\\n<br>Timestamp 2023-04-12</br>\"],\"x\":[\"2023-04-12T09:53:34.139318\"],\"y\":[93.47055635112017],\"type\":\"scatter\",\"xaxis\":\"x15\",\"yaxis\":\"y15\"},{\"hovertemplate\":\"%{text}\",\"legendgroup\":\"0.2\",\"marker\":{\"color\":\"green\"},\"mode\":\"markers\",\"name\":\"dx=0.2\",\"showlegend\":false,\"text\":[\"<br>Git Hash: 7c99dbc59c2c38c7c192be00eac500546471bed0</br>\\n<br>Version: 2023.3.0</br>\\n<br>Timestamp 2023-04-12</br>\"],\"x\":[\"2023-04-12T09:53:34.139318\"],\"y\":[51.119339741833805],\"type\":\"scatter\",\"xaxis\":\"x16\",\"yaxis\":\"y16\"},{\"hovertemplate\":\"%{text}\",\"legendgroup\":\"0.2\",\"marker\":{\"color\":\"green\"},\"mode\":\"markers\",\"name\":\"dx=0.2\",\"showlegend\":false,\"text\":[\"<br>Git Hash: 7c99dbc59c2c38c7c192be00eac500546471bed0</br>\\n<br>Version: 2023.3.0</br>\\n<br>Timestamp 2023-04-12</br>\"],\"x\":[\"2023-04-12T09:53:34.139318\"],\"y\":[-88.0216343300843],\"type\":\"scatter\",\"xaxis\":\"x17\",\"yaxis\":\"y17\"},{\"hovertemplate\":\"%{text}\",\"legendgroup\":\"0.2\",\"marker\":{\"color\":\"green\"},\"mode\":\"markers\",\"name\":\"dx=0.2\",\"showlegend\":false,\"text\":[\"<br>Git Hash: 7c99dbc59c2c38c7c192be00eac500546471bed0</br>\\n<br>Version: 2023.3.0</br>\\n<br>Timestamp 2023-04-12</br>\"],\"x\":[\"2023-04-12T09:53:34.139318\"],\"y\":[18.018904211557036],\"type\":\"scatter\",\"xaxis\":\"x18\",\"yaxis\":\"y18\"},{\"hovertemplate\":\"%{text}\",\"legendgroup\":\"0.2\",\"marker\":{\"color\":\"green\"},\"mode\":\"markers\",\"name\":\"dx=0.2\",\"showlegend\":false,\"text\":[\"<br>Git Hash: 7c99dbc59c2c38c7c192be00eac500546471bed0</br>\\n<br>Version: 2023.3.0</br>\\n<br>Timestamp 2023-04-12</br>\"],\"x\":[\"2023-04-12T09:53:34.139318\"],\"y\":[0.0002614958607743183],\"type\":\"scatter\",\"xaxis\":\"x19\",\"yaxis\":\"y19\"},{\"hovertemplate\":\"%{text}\",\"legendgroup\":\"0.2\",\"marker\":{\"color\":\"green\"},\"mode\":\"markers\",\"name\":\"dx=0.2\",\"showlegend\":false,\"text\":[\"<br>Git Hash: 7c99dbc59c2c38c7c192be00eac500546471bed0</br>\\n<br>Version: 2023.3.0</br>\\n<br>Timestamp 2023-04-12</br>\"],\"x\":[\"2023-04-12T09:53:34.139318\"],\"y\":[0.0001941577043003715],\"type\":\"scatter\",\"xaxis\":\"x20\",\"yaxis\":\"y20\"},{\"hovertemplate\":\"%{text}\",\"legendgroup\":\"0.2\",\"marker\":{\"color\":\"green\"},\"mode\":\"markers\",\"name\":\"dx=0.2\",\"showlegend\":false,\"text\":[\"<br>Git Hash: 7c99dbc59c2c38c7c192be00eac500546471bed0</br>\\n<br>Version: 2023.3.0</br>\\n<br>Timestamp 2023-04-12</br>\"],\"x\":[\"2023-04-12T09:53:34.139318\"],\"y\":[268.71888085586943],\"type\":\"scatter\",\"xaxis\":\"x21\",\"yaxis\":\"y21\"},{\"hovertemplate\":\"%{text}\",\"legendgroup\":\"0.2\",\"marker\":{\"color\":\"green\"},\"mode\":\"markers\",\"name\":\"dx=0.2\",\"showlegend\":false,\"text\":[\"<br>Git Hash: 7c99dbc59c2c38c7c192be00eac500546471bed0</br>\\n<br>Version: 2023.3.0</br>\\n<br>Timestamp 2023-04-12</br>\"],\"x\":[\"2023-04-12T09:53:34.139318\"],\"y\":[388.2479019142725],\"type\":\"scatter\",\"xaxis\":\"x22\",\"yaxis\":\"y22\"},{\"hovertemplate\":\"%{text}\",\"legendgroup\":\"0.2\",\"marker\":{\"color\":\"green\"},\"mode\":\"markers\",\"name\":\"dx=0.2\",\"showlegend\":false,\"text\":[\"<br>Git Hash: 7c99dbc59c2c38c7c192be00eac500546471bed0</br>\\n<br>Version: 2023.3.0</br>\\n<br>Timestamp 2023-04-12</br>\"],\"x\":[\"2023-04-12T09:53:34.139318\"],\"y\":[469.9497938229694],\"type\":\"scatter\",\"xaxis\":\"x23\",\"yaxis\":\"y23\"},{\"hovertemplate\":\"%{text}\",\"legendgroup\":\"0.2\",\"marker\":{\"color\":\"green\"},\"mode\":\"markers\",\"name\":\"dx=0.2\",\"showlegend\":false,\"text\":[\"<br>Git Hash: 7c99dbc59c2c38c7c192be00eac500546471bed0</br>\\n<br>Version: 2023.3.0</br>\\n<br>Timestamp 2023-04-12</br>\"],\"x\":[\"2023-04-12T09:53:34.139318\"],\"y\":[139.0],\"type\":\"scatter\",\"xaxis\":\"x24\",\"yaxis\":\"y24\"},{\"hovertemplate\":\"%{text}\",\"legendgroup\":\"0.2\",\"marker\":{\"color\":\"green\"},\"mode\":\"markers\",\"name\":\"dx=0.2\",\"showlegend\":false,\"text\":[\"<br>Git Hash: 7c99dbc59c2c38c7c192be00eac500546471bed0</br>\\n<br>Version: 2023.3.0</br>\\n<br>Timestamp 2023-04-12</br>\"],\"x\":[\"2023-04-12T09:53:34.139318\"],\"y\":[149.33484727777108],\"type\":\"scatter\",\"xaxis\":\"x25\",\"yaxis\":\"y25\"},{\"hovertemplate\":\"%{text}\",\"legendgroup\":\"0.2\",\"marker\":{\"color\":\"green\"},\"mode\":\"markers\",\"name\":\"dx=0.2\",\"showlegend\":false,\"text\":[\"<br>Git Hash: 7c99dbc59c2c38c7c192be00eac500546471bed0</br>\\n<br>Version: 2023.3.0</br>\\n<br>Timestamp 2023-04-12</br>\"],\"x\":[\"2023-04-12T09:53:34.139318\"],\"y\":[457.3920865808646],\"type\":\"scatter\",\"xaxis\":\"x26\",\"yaxis\":\"y26\"},{\"hovertemplate\":\"%{text}\",\"legendgroup\":\"0.2\",\"marker\":{\"color\":\"green\"},\"mode\":\"markers\",\"name\":\"dx=0.2\",\"showlegend\":false,\"text\":[\"<br>Git Hash: 7c99dbc59c2c38c7c192be00eac500546471bed0</br>\\n<br>Version: 2023.3.0</br>\\n<br>Timestamp 2023-04-12</br>\"],\"x\":[\"2023-04-12T09:53:34.139318\"],\"y\":[1.0000000000000002],\"type\":\"scatter\",\"xaxis\":\"x27\",\"yaxis\":\"y27\"},{\"hovertemplate\":\"%{text}\",\"legendgroup\":\"0.2\",\"marker\":{\"color\":\"green\"},\"mode\":\"markers\",\"name\":\"dx=0.2\",\"showlegend\":false,\"text\":[\"<br>Git Hash: 7c99dbc59c2c38c7c192be00eac500546471bed0</br>\\n<br>Version: 2023.3.0</br>\\n<br>Timestamp 2023-04-12</br>\"],\"x\":[\"2023-04-12T09:53:34.139318\"],\"y\":[0.9026200778330545],\"type\":\"scatter\",\"xaxis\":\"x28\",\"yaxis\":\"y28\"},{\"hovertemplate\":\"%{text}\",\"legendgroup\":\"0.2\",\"marker\":{\"color\":\"green\"},\"mode\":\"markers\",\"name\":\"dx=0.2\",\"showlegend\":false,\"text\":[\"<br>Git Hash: 7c99dbc59c2c38c7c192be00eac500546471bed0</br>\\n<br>Version: 2023.3.0</br>\\n<br>Timestamp 2023-04-12</br>\"],\"x\":[\"2023-04-12T09:53:34.139318\"],\"y\":[138.0],\"type\":\"scatter\",\"xaxis\":\"x29\",\"yaxis\":\"y29\"},{\"hovertemplate\":\"%{text}\",\"legendgroup\":\"0.2\",\"marker\":{\"color\":\"green\"},\"mode\":\"markers\",\"name\":\"dx=0.2\",\"showlegend\":false,\"text\":[\"<br>Git Hash: 7c99dbc59c2c38c7c192be00eac500546471bed0</br>\\n<br>Version: 2023.3.0</br>\\n<br>Timestamp 2023-04-12</br>\"],\"x\":[\"2023-04-12T09:53:34.139318\"],\"y\":[272.29877305280485],\"type\":\"scatter\",\"xaxis\":\"x30\",\"yaxis\":\"y30\"},{\"hovertemplate\":\"%{text}\",\"legendgroup\":\"0.2\",\"marker\":{\"color\":\"green\"},\"mode\":\"markers\",\"name\":\"dx=0.2\",\"showlegend\":false,\"text\":[\"<br>Git Hash: 7c99dbc59c2c38c7c192be00eac500546471bed0</br>\\n<br>Version: 2023.3.0</br>\\n<br>Timestamp 2023-04-12</br>\"],\"x\":[\"2023-04-12T09:53:34.139318\"],\"y\":[403.21871577148255],\"type\":\"scatter\",\"xaxis\":\"x31\",\"yaxis\":\"y31\"},{\"hovertemplate\":\"%{text}\",\"legendgroup\":\"0.2\",\"marker\":{\"color\":\"green\"},\"mode\":\"markers\",\"name\":\"dx=0.2\",\"showlegend\":false,\"text\":[\"<br>Git Hash: 7c99dbc59c2c38c7c192be00eac500546471bed0</br>\\n<br>Version: 2023.3.0</br>\\n<br>Timestamp 2023-04-12</br>\"],\"x\":[\"2023-04-12T09:53:34.139318\"],\"y\":[520.5748812157544],\"type\":\"scatter\",\"xaxis\":\"x32\",\"yaxis\":\"y32\"},{\"hovertemplate\":\"%{text}\",\"legendgroup\":\"0.2\",\"marker\":{\"color\":\"green\"},\"mode\":\"markers\",\"name\":\"dx=0.2\",\"showlegend\":false,\"text\":[\"<br>Git Hash: 7c99dbc59c2c38c7c192be00eac500546471bed0</br>\\n<br>Version: 2023.3.0</br>\\n<br>Timestamp 2023-04-12</br>\"],\"x\":[\"2023-04-12T09:53:34.139318\"],\"y\":[193.10708889236508],\"type\":\"scatter\",\"xaxis\":\"x33\",\"yaxis\":\"y33\"},{\"hovertemplate\":\"%{text}\",\"legendgroup\":\"0.2\",\"marker\":{\"color\":\"green\"},\"mode\":\"markers\",\"name\":\"dx=0.2\",\"showlegend\":false,\"text\":[\"<br>Git Hash: 7c99dbc59c2c38c7c192be00eac500546471bed0</br>\\n<br>Version: 2023.3.0</br>\\n<br>Timestamp 2023-04-12</br>\"],\"x\":[\"2023-04-12T09:53:34.139318\"],\"y\":[-108.49539275650265],\"type\":\"scatter\",\"xaxis\":\"x34\",\"yaxis\":\"y34\"},{\"hovertemplate\":\"%{text}\",\"legendgroup\":\"0.2\",\"marker\":{\"color\":\"green\"},\"mode\":\"markers\",\"name\":\"dx=0.2\",\"showlegend\":false,\"text\":[\"<br>Git Hash: 7c99dbc59c2c38c7c192be00eac500546471bed0</br>\\n<br>Version: 2023.3.0</br>\\n<br>Timestamp 2023-04-12</br>\"],\"x\":[\"2023-04-12T09:53:34.139318\"],\"y\":[0.16784510470578526],\"type\":\"scatter\",\"xaxis\":\"x35\",\"yaxis\":\"y35\"},{\"hovertemplate\":\"%{text}\",\"legendgroup\":\"0.2\",\"marker\":{\"color\":\"green\"},\"mode\":\"markers\",\"name\":\"dx=0.2\",\"showlegend\":false,\"text\":[\"<br>Git Hash: 7c99dbc59c2c38c7c192be00eac500546471bed0</br>\\n<br>Version: 2023.3.0</br>\\n<br>Timestamp 2023-04-12</br>\"],\"x\":[\"2023-04-12T09:53:34.139318\"],\"y\":[0.16784510470578526],\"type\":\"scatter\",\"xaxis\":\"x36\",\"yaxis\":\"y36\"},{\"hovertemplate\":\"%{text}\",\"legendgroup\":\"0.2\",\"marker\":{\"color\":\"green\"},\"mode\":\"markers\",\"name\":\"dx=0.2\",\"showlegend\":false,\"text\":[\"<br>Git Hash: 7c99dbc59c2c38c7c192be00eac500546471bed0</br>\\n<br>Version: 2023.3.0</br>\\n<br>Timestamp 2023-04-12</br>\"],\"x\":[\"2023-04-12T09:53:34.139318\"],\"y\":[0.8392255235289262],\"type\":\"scatter\",\"xaxis\":\"x37\",\"yaxis\":\"y37\"},{\"hovertemplate\":\"%{text}\",\"legendgroup\":\"0.2\",\"marker\":{\"color\":\"green\"},\"mode\":\"markers\",\"name\":\"dx=0.2\",\"showlegend\":false,\"text\":[\"<br>Git Hash: 7c99dbc59c2c38c7c192be00eac500546471bed0</br>\\n<br>Version: 2023.3.0</br>\\n<br>Timestamp 2023-04-12</br>\"],\"x\":[\"2023-04-12T09:53:34.139318\"],\"y\":[0.8463281251681412],\"type\":\"scatter\",\"xaxis\":\"x38\",\"yaxis\":\"y38\"},{\"hovertemplate\":\"%{text}\",\"legendgroup\":\"0.2\",\"marker\":{\"color\":\"green\"},\"mode\":\"markers\",\"name\":\"dx=0.2\",\"showlegend\":false,\"text\":[\"<br>Git Hash: 7c99dbc59c2c38c7c192be00eac500546471bed0</br>\\n<br>Version: 2023.3.0</br>\\n<br>Timestamp 2023-04-12</br>\"],\"x\":[\"2023-04-12T09:53:34.139318\"],\"y\":[0.05],\"type\":\"scatter\",\"xaxis\":\"x39\",\"yaxis\":\"y39\"},{\"hovertemplate\":\"%{text}\",\"legendgroup\":\"0.2\",\"marker\":{\"color\":\"green\"},\"mode\":\"markers\",\"name\":\"dx=0.2\",\"showlegend\":false,\"text\":[\"<br>Git Hash: 7c99dbc59c2c38c7c192be00eac500546471bed0</br>\\n<br>Version: 2023.3.0</br>\\n<br>Timestamp 2023-04-12</br>\"],\"x\":[\"2023-04-12T09:53:34.139318\"],\"y\":[0.09690541638404604],\"type\":\"scatter\",\"xaxis\":\"x40\",\"yaxis\":\"y40\"},{\"hovertemplate\":\"%{text}\",\"legendgroup\":\"0.2\",\"marker\":{\"color\":\"green\"},\"mode\":\"markers\",\"name\":\"dx=0.2\",\"showlegend\":false,\"text\":[\"<br>Git Hash: 7c99dbc59c2c38c7c192be00eac500546471bed0</br>\\n<br>Version: 2023.3.0</br>\\n<br>Timestamp 2023-04-12</br>\"],\"x\":[\"2023-04-12T09:53:34.139318\"],\"y\":[0.09690541638404604],\"type\":\"scatter\",\"xaxis\":\"x41\",\"yaxis\":\"y41\"},{\"hovertemplate\":\"%{text}\",\"legendgroup\":\"0.2\",\"marker\":{\"color\":\"green\"},\"mode\":\"markers\",\"name\":\"dx=0.2\",\"showlegend\":false,\"text\":[\"<br>Git Hash: 7c99dbc59c2c38c7c192be00eac500546471bed0</br>\\n<br>Version: 2023.3.0</br>\\n<br>Timestamp 2023-04-12</br>\"],\"x\":[\"2023-04-12T09:53:34.139318\"],\"y\":[0.4845270819202302],\"type\":\"scatter\",\"xaxis\":\"x42\",\"yaxis\":\"y42\"},{\"hovertemplate\":\"%{text}\",\"legendgroup\":\"0.2\",\"marker\":{\"color\":\"green\"},\"mode\":\"markers\",\"name\":\"dx=0.2\",\"showlegend\":false,\"text\":[\"<br>Git Hash: 7c99dbc59c2c38c7c192be00eac500546471bed0</br>\\n<br>Version: 2023.3.0</br>\\n<br>Timestamp 2023-04-12</br>\"],\"x\":[\"2023-04-12T09:53:34.139318\"],\"y\":[0.48688617730741074],\"type\":\"scatter\",\"xaxis\":\"x43\",\"yaxis\":\"y43\"},{\"hovertemplate\":\"%{text}\",\"legendgroup\":\"0.2\",\"marker\":{\"color\":\"green\"},\"mode\":\"markers\",\"name\":\"dx=0.2\",\"showlegend\":false,\"text\":[\"<br>Git Hash: 7c99dbc59c2c38c7c192be00eac500546471bed0</br>\\n<br>Version: 2023.3.0</br>\\n<br>Timestamp 2023-04-12</br>\"],\"x\":[\"2023-04-12T09:53:34.139318\"],\"y\":[0.05],\"type\":\"scatter\",\"xaxis\":\"x44\",\"yaxis\":\"y44\"},{\"hovertemplate\":\"%{text}\",\"legendgroup\":\"0.2\",\"marker\":{\"color\":\"green\"},\"mode\":\"markers\",\"name\":\"dx=0.2\",\"showlegend\":false,\"text\":[\"<br>Git Hash: 7c99dbc59c2c38c7c192be00eac500546471bed0</br>\\n<br>Version: 2023.3.0</br>\\n<br>Timestamp 2023-04-12</br>\"],\"x\":[\"2023-04-12T09:53:34.139318\"],\"y\":[0.09690541638404604],\"type\":\"scatter\",\"xaxis\":\"x45\",\"yaxis\":\"y45\"},{\"hovertemplate\":\"%{text}\",\"legendgroup\":\"0.2\",\"marker\":{\"color\":\"green\"},\"mode\":\"markers\",\"name\":\"dx=0.2\",\"showlegend\":false,\"text\":[\"<br>Git Hash: 7c99dbc59c2c38c7c192be00eac500546471bed0</br>\\n<br>Version: 2023.3.0</br>\\n<br>Timestamp 2023-04-12</br>\"],\"x\":[\"2023-04-12T09:53:34.139318\"],\"y\":[0.09690541638404604],\"type\":\"scatter\",\"xaxis\":\"x46\",\"yaxis\":\"y46\"},{\"hovertemplate\":\"%{text}\",\"legendgroup\":\"0.2\",\"marker\":{\"color\":\"green\"},\"mode\":\"markers\",\"name\":\"dx=0.2\",\"showlegend\":false,\"text\":[\"<br>Git Hash: 7c99dbc59c2c38c7c192be00eac500546471bed0</br>\\n<br>Version: 2023.3.0</br>\\n<br>Timestamp 2023-04-12</br>\"],\"x\":[\"2023-04-12T09:53:34.139318\"],\"y\":[0.4845270819202302],\"type\":\"scatter\",\"xaxis\":\"x47\",\"yaxis\":\"y47\"},{\"hovertemplate\":\"%{text}\",\"legendgroup\":\"0.2\",\"marker\":{\"color\":\"green\"},\"mode\":\"markers\",\"name\":\"dx=0.2\",\"showlegend\":false,\"text\":[\"<br>Git Hash: 7c99dbc59c2c38c7c192be00eac500546471bed0</br>\\n<br>Version: 2023.3.0</br>\\n<br>Timestamp 2023-04-12</br>\"],\"x\":[\"2023-04-12T09:53:34.139318\"],\"y\":[0.48688617730741074],\"type\":\"scatter\",\"xaxis\":\"x48\",\"yaxis\":\"y48\"},{\"hovertemplate\":\"%{text}\",\"legendgroup\":\"0.2\",\"marker\":{\"color\":\"green\"},\"mode\":\"markers\",\"name\":\"dx=0.2\",\"showlegend\":false,\"text\":[\"<br>Git Hash: 7c99dbc59c2c38c7c192be00eac500546471bed0</br>\\n<br>Version: 2023.3.0</br>\\n<br>Timestamp 2023-04-12</br>\"],\"x\":[\"2023-04-12T09:53:34.139318\"],\"y\":[0.05],\"type\":\"scatter\",\"xaxis\":\"x49\",\"yaxis\":\"y49\"},{\"hovertemplate\":\"%{text}\",\"legendgroup\":\"0.2\",\"marker\":{\"color\":\"green\"},\"mode\":\"markers\",\"name\":\"dx=0.2\",\"showlegend\":false,\"text\":[\"<br>Git Hash: 7c99dbc59c2c38c7c192be00eac500546471bed0</br>\\n<br>Version: 2023.3.0</br>\\n<br>Timestamp 2023-04-12</br>\"],\"x\":[\"2023-04-12T09:53:34.139318\"],\"y\":[0.09690541638404604],\"type\":\"scatter\",\"xaxis\":\"x50\",\"yaxis\":\"y50\"},{\"hovertemplate\":\"%{text}\",\"legendgroup\":\"0.2\",\"marker\":{\"color\":\"green\"},\"mode\":\"markers\",\"name\":\"dx=0.2\",\"showlegend\":false,\"text\":[\"<br>Git Hash: 7c99dbc59c2c38c7c192be00eac500546471bed0</br>\\n<br>Version: 2023.3.0</br>\\n<br>Timestamp 2023-04-12</br>\"],\"x\":[\"2023-04-12T09:53:34.139318\"],\"y\":[0.09690541638404604],\"type\":\"scatter\",\"xaxis\":\"x51\",\"yaxis\":\"y51\"},{\"hovertemplate\":\"%{text}\",\"legendgroup\":\"0.2\",\"marker\":{\"color\":\"green\"},\"mode\":\"markers\",\"name\":\"dx=0.2\",\"showlegend\":false,\"text\":[\"<br>Git Hash: 7c99dbc59c2c38c7c192be00eac500546471bed0</br>\\n<br>Version: 2023.3.0</br>\\n<br>Timestamp 2023-04-12</br>\"],\"x\":[\"2023-04-12T09:53:34.139318\"],\"y\":[0.4845270819202302],\"type\":\"scatter\",\"xaxis\":\"x52\",\"yaxis\":\"y52\"},{\"hovertemplate\":\"%{text}\",\"legendgroup\":\"0.2\",\"marker\":{\"color\":\"green\"},\"mode\":\"markers\",\"name\":\"dx=0.2\",\"showlegend\":false,\"text\":[\"<br>Git Hash: 7c99dbc59c2c38c7c192be00eac500546471bed0</br>\\n<br>Version: 2023.3.0</br>\\n<br>Timestamp 2023-04-12</br>\"],\"x\":[\"2023-04-12T09:53:34.139318\"],\"y\":[0.48688617730741074],\"type\":\"scatter\",\"xaxis\":\"x53\",\"yaxis\":\"y53\"},{\"hovertemplate\":\"%{text}\",\"legendgroup\":\"0.2\",\"marker\":{\"color\":\"green\"},\"mode\":\"markers\",\"name\":\"dx=0.2\",\"showlegend\":false,\"text\":[\"<br>Git Hash: 7c99dbc59c2c38c7c192be00eac500546471bed0</br>\\n<br>Version: 2023.3.0</br>\\n<br>Timestamp 2023-04-12</br>\"],\"x\":[\"2023-04-12T09:53:34.139318\"],\"y\":[0.05],\"type\":\"scatter\",\"xaxis\":\"x54\",\"yaxis\":\"y54\"},{\"hovertemplate\":\"%{text}\",\"legendgroup\":\"0.4\",\"marker\":{\"color\":\"blue\"},\"mode\":\"markers\",\"name\":\"dx=0.4\",\"showlegend\":true,\"text\":[\"<br>Git Hash: 7c99dbc59c2c38c7c192be00eac500546471bed0</br>\\n<br>Version: 2023.3.0</br>\\n<br>Timestamp 2023-04-12</br>\"],\"x\":[\"2023-04-12T09:53:31.010237\"],\"y\":[9.999999974752427e-07],\"type\":\"scatter\",\"xaxis\":\"x\",\"yaxis\":\"y\"},{\"hovertemplate\":\"%{text}\",\"legendgroup\":\"0.4\",\"marker\":{\"color\":\"blue\"},\"mode\":\"markers\",\"name\":\"dx=0.4\",\"showlegend\":false,\"text\":[\"<br>Git Hash: 7c99dbc59c2c38c7c192be00eac500546471bed0</br>\\n<br>Version: 2023.3.0</br>\\n<br>Timestamp 2023-04-12</br>\"],\"x\":[\"2023-04-12T09:53:31.010237\"],\"y\":[0.05],\"type\":\"scatter\",\"xaxis\":\"x2\",\"yaxis\":\"y2\"},{\"hovertemplate\":\"%{text}\",\"legendgroup\":\"0.4\",\"marker\":{\"color\":\"blue\"},\"mode\":\"markers\",\"name\":\"dx=0.4\",\"showlegend\":false,\"text\":[\"<br>Git Hash: 7c99dbc59c2c38c7c192be00eac500546471bed0</br>\\n<br>Version: 2023.3.0</br>\\n<br>Timestamp 2023-04-12</br>\"],\"x\":[\"2023-04-12T09:53:31.010237\"],\"y\":[0.4],\"type\":\"scatter\",\"xaxis\":\"x3\",\"yaxis\":\"y3\"},{\"hovertemplate\":\"%{text}\",\"legendgroup\":\"0.4\",\"marker\":{\"color\":\"blue\"},\"mode\":\"markers\",\"name\":\"dx=0.4\",\"showlegend\":false,\"text\":[\"<br>Git Hash: 7c99dbc59c2c38c7c192be00eac500546471bed0</br>\\n<br>Version: 2023.3.0</br>\\n<br>Timestamp 2023-04-12</br>\"],\"x\":[\"2023-04-12T09:53:31.010237\"],\"y\":[60],\"type\":\"scatter\",\"xaxis\":\"x4\",\"yaxis\":\"y4\"},{\"hovertemplate\":\"%{text}\",\"legendgroup\":\"0.4\",\"marker\":{\"color\":\"blue\"},\"mode\":\"markers\",\"name\":\"dx=0.4\",\"showlegend\":false,\"text\":[\"<br>Git Hash: 7c99dbc59c2c38c7c192be00eac500546471bed0</br>\\n<br>Version: 2023.3.0</br>\\n<br>Timestamp 2023-04-12</br>\"],\"x\":[\"2023-04-12T09:53:31.010237\"],\"y\":[480],\"type\":\"scatter\",\"xaxis\":\"x5\",\"yaxis\":\"y5\"},{\"hovertemplate\":\"%{text}\",\"legendgroup\":\"0.4\",\"marker\":{\"color\":\"blue\"},\"mode\":\"markers\",\"name\":\"dx=0.4\",\"showlegend\":false,\"text\":[\"<br>Git Hash: 7c99dbc59c2c38c7c192be00eac500546471bed0</br>\\n<br>Version: 2023.3.0</br>\\n<br>Timestamp 2023-04-12</br>\"],\"x\":[\"2023-04-12T09:53:31.010237\"],\"y\":[36],\"type\":\"scatter\",\"xaxis\":\"x6\",\"yaxis\":\"y6\"},{\"hovertemplate\":\"%{text}\",\"legendgroup\":\"0.4\",\"marker\":{\"color\":\"blue\"},\"mode\":\"markers\",\"name\":\"dx=0.4\",\"showlegend\":false,\"text\":[\"<br>Git Hash: 7c99dbc59c2c38c7c192be00eac500546471bed0</br>\\n<br>Version: 2023.3.0</br>\\n<br>Timestamp 2023-04-12</br>\"],\"x\":[\"2023-04-12T09:53:31.010237\"],\"y\":[165],\"type\":\"scatter\",\"xaxis\":\"x7\",\"yaxis\":\"y7\"},{\"hovertemplate\":\"%{text}\",\"legendgroup\":\"0.4\",\"marker\":{\"color\":\"blue\"},\"mode\":\"markers\",\"name\":\"dx=0.4\",\"showlegend\":false,\"text\":[\"<br>Git Hash: 7c99dbc59c2c38c7c192be00eac500546471bed0</br>\\n<br>Version: 2023.3.0</br>\\n<br>Timestamp 2023-04-12</br>\"],\"x\":[\"2023-04-12T09:53:31.010237\"],\"y\":[134.56070818800004],\"type\":\"scatter\",\"xaxis\":\"x8\",\"yaxis\":\"y8\"},{\"hovertemplate\":\"%{text}\",\"legendgroup\":\"0.4\",\"marker\":{\"color\":\"blue\"},\"mode\":\"markers\",\"name\":\"dx=0.4\",\"showlegend\":false,\"text\":[\"<br>Git Hash: 7c99dbc59c2c38c7c192be00eac500546471bed0</br>\\n<br>Version: 2023.3.0</br>\\n<br>Timestamp 2023-04-12</br>\"],\"x\":[\"2023-04-12T09:53:31.010237\"],\"y\":[594.1378821149999],\"type\":\"scatter\",\"xaxis\":\"x9\",\"yaxis\":\"y9\"},{\"hovertemplate\":\"%{text}\",\"legendgroup\":\"0.4\",\"marker\":{\"color\":\"blue\"},\"mode\":\"markers\",\"name\":\"dx=0.4\",\"showlegend\":false,\"text\":[\"<br>Git Hash: 7c99dbc59c2c38c7c192be00eac500546471bed0</br>\\n<br>Version: 2023.3.0</br>\\n<br>Timestamp 2023-04-12</br>\"],\"x\":[\"2023-04-12T09:53:31.010237\"],\"y\":[1.1795939114331073],\"type\":\"scatter\",\"xaxis\":\"x10\",\"yaxis\":\"y10\"},{\"hovertemplate\":\"%{text}\",\"legendgroup\":\"0.4\",\"marker\":{\"color\":\"blue\"},\"mode\":\"markers\",\"name\":\"dx=0.4\",\"showlegend\":false,\"text\":[\"<br>Git Hash: 7c99dbc59c2c38c7c192be00eac500546471bed0</br>\\n<br>Version: 2023.3.0</br>\\n<br>Timestamp 2023-04-12</br>\"],\"x\":[\"2023-04-12T09:53:31.010237\"],\"y\":[1.1795939114331073],\"type\":\"scatter\",\"xaxis\":\"x11\",\"yaxis\":\"y11\"},{\"hovertemplate\":\"%{text}\",\"legendgroup\":\"0.4\",\"marker\":{\"color\":\"blue\"},\"mode\":\"markers\",\"name\":\"dx=0.4\",\"showlegend\":false,\"text\":[\"<br>Git Hash: 7c99dbc59c2c38c7c192be00eac500546471bed0</br>\\n<br>Version: 2023.3.0</br>\\n<br>Timestamp 2023-04-12</br>\"],\"x\":[\"2023-04-12T09:53:31.010237\"],\"y\":[238.88180472701407],\"type\":\"scatter\",\"xaxis\":\"x12\",\"yaxis\":\"y12\"},{\"hovertemplate\":\"%{text}\",\"legendgroup\":\"0.4\",\"marker\":{\"color\":\"blue\"},\"mode\":\"markers\",\"name\":\"dx=0.4\",\"showlegend\":false,\"text\":[\"<br>Git Hash: 7c99dbc59c2c38c7c192be00eac500546471bed0</br>\\n<br>Version: 2023.3.0</br>\\n<br>Timestamp 2023-04-12</br>\"],\"x\":[\"2023-04-12T09:53:31.010237\"],\"y\":[265.40692263982737],\"type\":\"scatter\",\"xaxis\":\"x13\",\"yaxis\":\"y13\"},{\"hovertemplate\":\"%{text}\",\"legendgroup\":\"0.4\",\"marker\":{\"color\":\"blue\"},\"mode\":\"markers\",\"name\":\"dx=0.4\",\"showlegend\":false,\"text\":[\"<br>Git Hash: 7c99dbc59c2c38c7c192be00eac500546471bed0</br>\\n<br>Version: 2023.3.0</br>\\n<br>Timestamp 2023-04-12</br>\"],\"x\":[\"2023-04-12T09:53:31.010237\"],\"y\":[332.3530714488868],\"type\":\"scatter\",\"xaxis\":\"x14\",\"yaxis\":\"y14\"},{\"hovertemplate\":\"%{text}\",\"legendgroup\":\"0.4\",\"marker\":{\"color\":\"blue\"},\"mode\":\"markers\",\"name\":\"dx=0.4\",\"showlegend\":false,\"text\":[\"<br>Git Hash: 7c99dbc59c2c38c7c192be00eac500546471bed0</br>\\n<br>Version: 2023.3.0</br>\\n<br>Timestamp 2023-04-12</br>\"],\"x\":[\"2023-04-12T09:53:31.010237\"],\"y\":[93.47126672187272],\"type\":\"scatter\",\"xaxis\":\"x15\",\"yaxis\":\"y15\"},{\"hovertemplate\":\"%{text}\",\"legendgroup\":\"0.4\",\"marker\":{\"color\":\"blue\"},\"mode\":\"markers\",\"name\":\"dx=0.4\",\"showlegend\":false,\"text\":[\"<br>Git Hash: 7c99dbc59c2c38c7c192be00eac500546471bed0</br>\\n<br>Version: 2023.3.0</br>\\n<br>Timestamp 2023-04-12</br>\"],\"x\":[\"2023-04-12T09:53:31.010237\"],\"y\":[51.119339744528986],\"type\":\"scatter\",\"xaxis\":\"x16\",\"yaxis\":\"y16\"},{\"hovertemplate\":\"%{text}\",\"legendgroup\":\"0.4\",\"marker\":{\"color\":\"blue\"},\"mode\":\"markers\",\"name\":\"dx=0.4\",\"showlegend\":false,\"text\":[\"<br>Git Hash: 7c99dbc59c2c38c7c192be00eac500546471bed0</br>\\n<br>Version: 2023.3.0</br>\\n<br>Timestamp 2023-04-12</br>\"],\"x\":[\"2023-04-12T09:53:31.010237\"],\"y\":[-88.02163493446695],\"type\":\"scatter\",\"xaxis\":\"x17\",\"yaxis\":\"y17\"},{\"hovertemplate\":\"%{text}\",\"legendgroup\":\"0.4\",\"marker\":{\"color\":\"blue\"},\"mode\":\"markers\",\"name\":\"dx=0.4\",\"showlegend\":false,\"text\":[\"<br>Git Hash: 7c99dbc59c2c38c7c192be00eac500546471bed0</br>\\n<br>Version: 2023.3.0</br>\\n<br>Timestamp 2023-04-12</br>\"],\"x\":[\"2023-04-12T09:53:31.010237\"],\"y\":[18.018904243805178],\"type\":\"scatter\",\"xaxis\":\"x18\",\"yaxis\":\"y18\"},{\"hovertemplate\":\"%{text}\",\"legendgroup\":\"0.4\",\"marker\":{\"color\":\"blue\"},\"mode\":\"markers\",\"name\":\"dx=0.4\",\"showlegend\":false,\"text\":[\"<br>Git Hash: 7c99dbc59c2c38c7c192be00eac500546471bed0</br>\\n<br>Version: 2023.3.0</br>\\n<br>Timestamp 2023-04-12</br>\"],\"x\":[\"2023-04-12T09:53:31.010237\"],\"y\":[0.00026145398325637235],\"type\":\"scatter\",\"xaxis\":\"x19\",\"yaxis\":\"y19\"},{\"hovertemplate\":\"%{text}\",\"legendgroup\":\"0.4\",\"marker\":{\"color\":\"blue\"},\"mode\":\"markers\",\"name\":\"dx=0.4\",\"showlegend\":false,\"text\":[\"<br>Git Hash: 7c99dbc59c2c38c7c192be00eac500546471bed0</br>\\n<br>Version: 2023.3.0</br>\\n<br>Timestamp 2023-04-12</br>\"],\"x\":[\"2023-04-12T09:53:31.010237\"],\"y\":[0.00019411543172479968],\"type\":\"scatter\",\"xaxis\":\"x20\",\"yaxis\":\"y20\"},{\"hovertemplate\":\"%{text}\",\"legendgroup\":\"0.4\",\"marker\":{\"color\":\"blue\"},\"mode\":\"markers\",\"name\":\"dx=0.4\",\"showlegend\":false,\"text\":[\"<br>Git Hash: 7c99dbc59c2c38c7c192be00eac500546471bed0</br>\\n<br>Version: 2023.3.0</br>\\n<br>Timestamp 2023-04-12</br>\"],\"x\":[\"2023-04-12T09:53:31.010237\"],\"y\":[268.7757377053],\"type\":\"scatter\",\"xaxis\":\"x21\",\"yaxis\":\"y21\"},{\"hovertemplate\":\"%{text}\",\"legendgroup\":\"0.4\",\"marker\":{\"color\":\"blue\"},\"mode\":\"markers\",\"name\":\"dx=0.4\",\"showlegend\":false,\"text\":[\"<br>Git Hash: 7c99dbc59c2c38c7c192be00eac500546471bed0</br>\\n<br>Version: 2023.3.0</br>\\n<br>Timestamp 2023-04-12</br>\"],\"x\":[\"2023-04-12T09:53:31.010237\"],\"y\":[388.2781038876086],\"type\":\"scatter\",\"xaxis\":\"x22\",\"yaxis\":\"y22\"},{\"hovertemplate\":\"%{text}\",\"legendgroup\":\"0.4\",\"marker\":{\"color\":\"blue\"},\"mode\":\"markers\",\"name\":\"dx=0.4\",\"showlegend\":false,\"text\":[\"<br>Git Hash: 7c99dbc59c2c38c7c192be00eac500546471bed0</br>\\n<br>Version: 2023.3.0</br>\\n<br>Timestamp 2023-04-12</br>\"],\"x\":[\"2023-04-12T09:53:31.010237\"],\"y\":[469.9759357159506],\"type\":\"scatter\",\"xaxis\":\"x23\",\"yaxis\":\"y23\"},{\"hovertemplate\":\"%{text}\",\"legendgroup\":\"0.4\",\"marker\":{\"color\":\"blue\"},\"mode\":\"markers\",\"name\":\"dx=0.4\",\"showlegend\":false,\"text\":[\"<br>Git Hash: 7c99dbc59c2c38c7c192be00eac500546471bed0</br>\\n<br>Version: 2023.3.0</br>\\n<br>Timestamp 2023-04-12</br>\"],\"x\":[\"2023-04-12T09:53:31.010237\"],\"y\":[139.0],\"type\":\"scatter\",\"xaxis\":\"x24\",\"yaxis\":\"y24\"},{\"hovertemplate\":\"%{text}\",\"legendgroup\":\"0.4\",\"marker\":{\"color\":\"blue\"},\"mode\":\"markers\",\"name\":\"dx=0.4\",\"showlegend\":false,\"text\":[\"<br>Git Hash: 7c99dbc59c2c38c7c192be00eac500546471bed0</br>\\n<br>Version: 2023.3.0</br>\\n<br>Timestamp 2023-04-12</br>\"],\"x\":[\"2023-04-12T09:53:31.010237\"],\"y\":[149.11073528755747],\"type\":\"scatter\",\"xaxis\":\"x25\",\"yaxis\":\"y25\"},{\"hovertemplate\":\"%{text}\",\"legendgroup\":\"0.4\",\"marker\":{\"color\":\"blue\"},\"mode\":\"markers\",\"name\":\"dx=0.4\",\"showlegend\":false,\"text\":[\"<br>Git Hash: 7c99dbc59c2c38c7c192be00eac500546471bed0</br>\\n<br>Version: 2023.3.0</br>\\n<br>Timestamp 2023-04-12</br>\"],\"x\":[\"2023-04-12T09:53:31.010237\"],\"y\":[457.2204029861744],\"type\":\"scatter\",\"xaxis\":\"x26\",\"yaxis\":\"y26\"},{\"hovertemplate\":\"%{text}\",\"legendgroup\":\"0.4\",\"marker\":{\"color\":\"blue\"},\"mode\":\"markers\",\"name\":\"dx=0.4\",\"showlegend\":false,\"text\":[\"<br>Git Hash: 7c99dbc59c2c38c7c192be00eac500546471bed0</br>\\n<br>Version: 2023.3.0</br>\\n<br>Timestamp 2023-04-12</br>\"],\"x\":[\"2023-04-12T09:53:31.010237\"],\"y\":[1.0],\"type\":\"scatter\",\"xaxis\":\"x27\",\"yaxis\":\"y27\"},{\"hovertemplate\":\"%{text}\",\"legendgroup\":\"0.4\",\"marker\":{\"color\":\"blue\"},\"mode\":\"markers\",\"name\":\"dx=0.4\",\"showlegend\":false,\"text\":[\"<br>Git Hash: 7c99dbc59c2c38c7c192be00eac500546471bed0</br>\\n<br>Version: 2023.3.0</br>\\n<br>Timestamp 2023-04-12</br>\"],\"x\":[\"2023-04-12T09:53:31.010237\"],\"y\":[0.9027588573558657],\"type\":\"scatter\",\"xaxis\":\"x28\",\"yaxis\":\"y28\"},{\"hovertemplate\":\"%{text}\",\"legendgroup\":\"0.4\",\"marker\":{\"color\":\"blue\"},\"mode\":\"markers\",\"name\":\"dx=0.4\",\"showlegend\":false,\"text\":[\"<br>Git Hash: 7c99dbc59c2c38c7c192be00eac500546471bed0</br>\\n<br>Version: 2023.3.0</br>\\n<br>Timestamp 2023-04-12</br>\"],\"x\":[\"2023-04-12T09:53:31.010237\"],\"y\":[138.0],\"type\":\"scatter\",\"xaxis\":\"x29\",\"yaxis\":\"y29\"},{\"hovertemplate\":\"%{text}\",\"legendgroup\":\"0.4\",\"marker\":{\"color\":\"blue\"},\"mode\":\"markers\",\"name\":\"dx=0.4\",\"showlegend\":false,\"text\":[\"<br>Git Hash: 7c99dbc59c2c38c7c192be00eac500546471bed0</br>\\n<br>Version: 2023.3.0</br>\\n<br>Timestamp 2023-04-12</br>\"],\"x\":[\"2023-04-12T09:53:31.010237\"],\"y\":[272.44308777575327],\"type\":\"scatter\",\"xaxis\":\"x30\",\"yaxis\":\"y30\"},{\"hovertemplate\":\"%{text}\",\"legendgroup\":\"0.4\",\"marker\":{\"color\":\"blue\"},\"mode\":\"markers\",\"name\":\"dx=0.4\",\"showlegend\":false,\"text\":[\"<br>Git Hash: 7c99dbc59c2c38c7c192be00eac500546471bed0</br>\\n<br>Version: 2023.3.0</br>\\n<br>Timestamp 2023-04-12</br>\"],\"x\":[\"2023-04-12T09:53:31.010237\"],\"y\":[403.3232301910861],\"type\":\"scatter\",\"xaxis\":\"x31\",\"yaxis\":\"y31\"},{\"hovertemplate\":\"%{text}\",\"legendgroup\":\"0.4\",\"marker\":{\"color\":\"blue\"},\"mode\":\"markers\",\"name\":\"dx=0.4\",\"showlegend\":false,\"text\":[\"<br>Git Hash: 7c99dbc59c2c38c7c192be00eac500546471bed0</br>\\n<br>Version: 2023.3.0</br>\\n<br>Timestamp 2023-04-12</br>\"],\"x\":[\"2023-04-12T09:53:31.010237\"],\"y\":[520.6732880608782],\"type\":\"scatter\",\"xaxis\":\"x32\",\"yaxis\":\"y32\"},{\"hovertemplate\":\"%{text}\",\"legendgroup\":\"0.4\",\"marker\":{\"color\":\"blue\"},\"mode\":\"markers\",\"name\":\"dx=0.4\",\"showlegend\":false,\"text\":[\"<br>Git Hash: 7c99dbc59c2c38c7c192be00eac500546471bed0</br>\\n<br>Version: 2023.3.0</br>\\n<br>Timestamp 2023-04-12</br>\"],\"x\":[\"2023-04-12T09:53:31.010237\"],\"y\":[193.27237214888277],\"type\":\"scatter\",\"xaxis\":\"x33\",\"yaxis\":\"y33\"},{\"hovertemplate\":\"%{text}\",\"legendgroup\":\"0.4\",\"marker\":{\"color\":\"blue\"},\"mode\":\"markers\",\"name\":\"dx=0.4\",\"showlegend\":false,\"text\":[\"<br>Git Hash: 7c99dbc59c2c38c7c192be00eac500546471bed0</br>\\n<br>Version: 2023.3.0</br>\\n<br>Timestamp 2023-04-12</br>\"],\"x\":[\"2023-04-12T09:53:31.010237\"],\"y\":[-108.48541463355491],\"type\":\"scatter\",\"xaxis\":\"x34\",\"yaxis\":\"y34\"},{\"hovertemplate\":\"%{text}\",\"legendgroup\":\"0.4\",\"marker\":{\"color\":\"blue\"},\"mode\":\"markers\",\"name\":\"dx=0.4\",\"showlegend\":false,\"text\":[\"<br>Git Hash: 7c99dbc59c2c38c7c192be00eac500546471bed0</br>\\n<br>Version: 2023.3.0</br>\\n<br>Timestamp 2023-04-12</br>\"],\"x\":[\"2023-04-12T09:53:31.010237\"],\"y\":[0.16828491205706192],\"type\":\"scatter\",\"xaxis\":\"x35\",\"yaxis\":\"y35\"},{\"hovertemplate\":\"%{text}\",\"legendgroup\":\"0.4\",\"marker\":{\"color\":\"blue\"},\"mode\":\"markers\",\"name\":\"dx=0.4\",\"showlegend\":false,\"text\":[\"<br>Git Hash: 7c99dbc59c2c38c7c192be00eac500546471bed0</br>\\n<br>Version: 2023.3.0</br>\\n<br>Timestamp 2023-04-12</br>\"],\"x\":[\"2023-04-12T09:53:31.010237\"],\"y\":[0.16828491205706192],\"type\":\"scatter\",\"xaxis\":\"x36\",\"yaxis\":\"y36\"},{\"hovertemplate\":\"%{text}\",\"legendgroup\":\"0.4\",\"marker\":{\"color\":\"blue\"},\"mode\":\"markers\",\"name\":\"dx=0.4\",\"showlegend\":false,\"text\":[\"<br>Git Hash: 7c99dbc59c2c38c7c192be00eac500546471bed0</br>\\n<br>Version: 2023.3.0</br>\\n<br>Timestamp 2023-04-12</br>\"],\"x\":[\"2023-04-12T09:53:31.010237\"],\"y\":[0.8414245602853097],\"type\":\"scatter\",\"xaxis\":\"x37\",\"yaxis\":\"y37\"},{\"hovertemplate\":\"%{text}\",\"legendgroup\":\"0.4\",\"marker\":{\"color\":\"blue\"},\"mode\":\"markers\",\"name\":\"dx=0.4\",\"showlegend\":false,\"text\":[\"<br>Git Hash: 7c99dbc59c2c38c7c192be00eac500546471bed0</br>\\n<br>Version: 2023.3.0</br>\\n<br>Timestamp 2023-04-12</br>\"],\"x\":[\"2023-04-12T09:53:31.010237\"],\"y\":[0.8485645911652587],\"type\":\"scatter\",\"xaxis\":\"x38\",\"yaxis\":\"y38\"},{\"hovertemplate\":\"%{text}\",\"legendgroup\":\"0.4\",\"marker\":{\"color\":\"blue\"},\"mode\":\"markers\",\"name\":\"dx=0.4\",\"showlegend\":false,\"text\":[\"<br>Git Hash: 7c99dbc59c2c38c7c192be00eac500546471bed0</br>\\n<br>Version: 2023.3.0</br>\\n<br>Timestamp 2023-04-12</br>\"],\"x\":[\"2023-04-12T09:53:31.010237\"],\"y\":[0.05],\"type\":\"scatter\",\"xaxis\":\"x39\",\"yaxis\":\"y39\"},{\"hovertemplate\":\"%{text}\",\"legendgroup\":\"0.4\",\"marker\":{\"color\":\"blue\"},\"mode\":\"markers\",\"name\":\"dx=0.4\",\"showlegend\":false,\"text\":[\"<br>Git Hash: 7c99dbc59c2c38c7c192be00eac500546471bed0</br>\\n<br>Version: 2023.3.0</br>\\n<br>Timestamp 2023-04-12</br>\"],\"x\":[\"2023-04-12T09:53:31.010237\"],\"y\":[0.09715933927669719],\"type\":\"scatter\",\"xaxis\":\"x40\",\"yaxis\":\"y40\"},{\"hovertemplate\":\"%{text}\",\"legendgroup\":\"0.4\",\"marker\":{\"color\":\"blue\"},\"mode\":\"markers\",\"name\":\"dx=0.4\",\"showlegend\":false,\"text\":[\"<br>Git Hash: 7c99dbc59c2c38c7c192be00eac500546471bed0</br>\\n<br>Version: 2023.3.0</br>\\n<br>Timestamp 2023-04-12</br>\"],\"x\":[\"2023-04-12T09:53:31.010237\"],\"y\":[0.09715933927669719],\"type\":\"scatter\",\"xaxis\":\"x41\",\"yaxis\":\"y41\"},{\"hovertemplate\":\"%{text}\",\"legendgroup\":\"0.4\",\"marker\":{\"color\":\"blue\"},\"mode\":\"markers\",\"name\":\"dx=0.4\",\"showlegend\":false,\"text\":[\"<br>Git Hash: 7c99dbc59c2c38c7c192be00eac500546471bed0</br>\\n<br>Version: 2023.3.0</br>\\n<br>Timestamp 2023-04-12</br>\"],\"x\":[\"2023-04-12T09:53:31.010237\"],\"y\":[0.48579669638348594],\"type\":\"scatter\",\"xaxis\":\"x42\",\"yaxis\":\"y42\"},{\"hovertemplate\":\"%{text}\",\"legendgroup\":\"0.4\",\"marker\":{\"color\":\"blue\"},\"mode\":\"markers\",\"name\":\"dx=0.4\",\"showlegend\":false,\"text\":[\"<br>Git Hash: 7c99dbc59c2c38c7c192be00eac500546471bed0</br>\\n<br>Version: 2023.3.0</br>\\n<br>Timestamp 2023-04-12</br>\"],\"x\":[\"2023-04-12T09:53:31.010237\"],\"y\":[0.48816820137857775],\"type\":\"scatter\",\"xaxis\":\"x43\",\"yaxis\":\"y43\"},{\"hovertemplate\":\"%{text}\",\"legendgroup\":\"0.4\",\"marker\":{\"color\":\"blue\"},\"mode\":\"markers\",\"name\":\"dx=0.4\",\"showlegend\":false,\"text\":[\"<br>Git Hash: 7c99dbc59c2c38c7c192be00eac500546471bed0</br>\\n<br>Version: 2023.3.0</br>\\n<br>Timestamp 2023-04-12</br>\"],\"x\":[\"2023-04-12T09:53:31.010237\"],\"y\":[0.05],\"type\":\"scatter\",\"xaxis\":\"x44\",\"yaxis\":\"y44\"},{\"hovertemplate\":\"%{text}\",\"legendgroup\":\"0.4\",\"marker\":{\"color\":\"blue\"},\"mode\":\"markers\",\"name\":\"dx=0.4\",\"showlegend\":false,\"text\":[\"<br>Git Hash: 7c99dbc59c2c38c7c192be00eac500546471bed0</br>\\n<br>Version: 2023.3.0</br>\\n<br>Timestamp 2023-04-12</br>\"],\"x\":[\"2023-04-12T09:53:31.010237\"],\"y\":[0.09715933927669719],\"type\":\"scatter\",\"xaxis\":\"x45\",\"yaxis\":\"y45\"},{\"hovertemplate\":\"%{text}\",\"legendgroup\":\"0.4\",\"marker\":{\"color\":\"blue\"},\"mode\":\"markers\",\"name\":\"dx=0.4\",\"showlegend\":false,\"text\":[\"<br>Git Hash: 7c99dbc59c2c38c7c192be00eac500546471bed0</br>\\n<br>Version: 2023.3.0</br>\\n<br>Timestamp 2023-04-12</br>\"],\"x\":[\"2023-04-12T09:53:31.010237\"],\"y\":[0.09715933927669719],\"type\":\"scatter\",\"xaxis\":\"x46\",\"yaxis\":\"y46\"},{\"hovertemplate\":\"%{text}\",\"legendgroup\":\"0.4\",\"marker\":{\"color\":\"blue\"},\"mode\":\"markers\",\"name\":\"dx=0.4\",\"showlegend\":false,\"text\":[\"<br>Git Hash: 7c99dbc59c2c38c7c192be00eac500546471bed0</br>\\n<br>Version: 2023.3.0</br>\\n<br>Timestamp 2023-04-12</br>\"],\"x\":[\"2023-04-12T09:53:31.010237\"],\"y\":[0.48579669638348594],\"type\":\"scatter\",\"xaxis\":\"x47\",\"yaxis\":\"y47\"},{\"hovertemplate\":\"%{text}\",\"legendgroup\":\"0.4\",\"marker\":{\"color\":\"blue\"},\"mode\":\"markers\",\"name\":\"dx=0.4\",\"showlegend\":false,\"text\":[\"<br>Git Hash: 7c99dbc59c2c38c7c192be00eac500546471bed0</br>\\n<br>Version: 2023.3.0</br>\\n<br>Timestamp 2023-04-12</br>\"],\"x\":[\"2023-04-12T09:53:31.010237\"],\"y\":[0.48816820137857775],\"type\":\"scatter\",\"xaxis\":\"x48\",\"yaxis\":\"y48\"},{\"hovertemplate\":\"%{text}\",\"legendgroup\":\"0.4\",\"marker\":{\"color\":\"blue\"},\"mode\":\"markers\",\"name\":\"dx=0.4\",\"showlegend\":false,\"text\":[\"<br>Git Hash: 7c99dbc59c2c38c7c192be00eac500546471bed0</br>\\n<br>Version: 2023.3.0</br>\\n<br>Timestamp 2023-04-12</br>\"],\"x\":[\"2023-04-12T09:53:31.010237\"],\"y\":[0.05],\"type\":\"scatter\",\"xaxis\":\"x49\",\"yaxis\":\"y49\"},{\"hovertemplate\":\"%{text}\",\"legendgroup\":\"0.4\",\"marker\":{\"color\":\"blue\"},\"mode\":\"markers\",\"name\":\"dx=0.4\",\"showlegend\":false,\"text\":[\"<br>Git Hash: 7c99dbc59c2c38c7c192be00eac500546471bed0</br>\\n<br>Version: 2023.3.0</br>\\n<br>Timestamp 2023-04-12</br>\"],\"x\":[\"2023-04-12T09:53:31.010237\"],\"y\":[0.09715933927669719],\"type\":\"scatter\",\"xaxis\":\"x50\",\"yaxis\":\"y50\"},{\"hovertemplate\":\"%{text}\",\"legendgroup\":\"0.4\",\"marker\":{\"color\":\"blue\"},\"mode\":\"markers\",\"name\":\"dx=0.4\",\"showlegend\":false,\"text\":[\"<br>Git Hash: 7c99dbc59c2c38c7c192be00eac500546471bed0</br>\\n<br>Version: 2023.3.0</br>\\n<br>Timestamp 2023-04-12</br>\"],\"x\":[\"2023-04-12T09:53:31.010237\"],\"y\":[0.09715933927669719],\"type\":\"scatter\",\"xaxis\":\"x51\",\"yaxis\":\"y51\"},{\"hovertemplate\":\"%{text}\",\"legendgroup\":\"0.4\",\"marker\":{\"color\":\"blue\"},\"mode\":\"markers\",\"name\":\"dx=0.4\",\"showlegend\":false,\"text\":[\"<br>Git Hash: 7c99dbc59c2c38c7c192be00eac500546471bed0</br>\\n<br>Version: 2023.3.0</br>\\n<br>Timestamp 2023-04-12</br>\"],\"x\":[\"2023-04-12T09:53:31.010237\"],\"y\":[0.48579669638348594],\"type\":\"scatter\",\"xaxis\":\"x52\",\"yaxis\":\"y52\"},{\"hovertemplate\":\"%{text}\",\"legendgroup\":\"0.4\",\"marker\":{\"color\":\"blue\"},\"mode\":\"markers\",\"name\":\"dx=0.4\",\"showlegend\":false,\"text\":[\"<br>Git Hash: 7c99dbc59c2c38c7c192be00eac500546471bed0</br>\\n<br>Version: 2023.3.0</br>\\n<br>Timestamp 2023-04-12</br>\"],\"x\":[\"2023-04-12T09:53:31.010237\"],\"y\":[0.48816820137857775],\"type\":\"scatter\",\"xaxis\":\"x53\",\"yaxis\":\"y53\"},{\"hovertemplate\":\"%{text}\",\"legendgroup\":\"0.4\",\"marker\":{\"color\":\"blue\"},\"mode\":\"markers\",\"name\":\"dx=0.4\",\"showlegend\":false,\"text\":[\"<br>Git Hash: 7c99dbc59c2c38c7c192be00eac500546471bed0</br>\\n<br>Version: 2023.3.0</br>\\n<br>Timestamp 2023-04-12</br>\"],\"x\":[\"2023-04-12T09:53:31.010237\"],\"y\":[0.05],\"type\":\"scatter\",\"xaxis\":\"x54\",\"yaxis\":\"y54\"}],                        {\"template\":{\"data\":{\"histogram2dcontour\":[{\"type\":\"histogram2dcontour\",\"colorbar\":{\"outlinewidth\":0,\"ticks\":\"\"},\"colorscale\":[[0.0,\"#0d0887\"],[0.1111111111111111,\"#46039f\"],[0.2222222222222222,\"#7201a8\"],[0.3333333333333333,\"#9c179e\"],[0.4444444444444444,\"#bd3786\"],[0.5555555555555556,\"#d8576b\"],[0.6666666666666666,\"#ed7953\"],[0.7777777777777778,\"#fb9f3a\"],[0.8888888888888888,\"#fdca26\"],[1.0,\"#f0f921\"]]}],\"choropleth\":[{\"type\":\"choropleth\",\"colorbar\":{\"outlinewidth\":0,\"ticks\":\"\"}}],\"histogram2d\":[{\"type\":\"histogram2d\",\"colorbar\":{\"outlinewidth\":0,\"ticks\":\"\"},\"colorscale\":[[0.0,\"#0d0887\"],[0.1111111111111111,\"#46039f\"],[0.2222222222222222,\"#7201a8\"],[0.3333333333333333,\"#9c179e\"],[0.4444444444444444,\"#bd3786\"],[0.5555555555555556,\"#d8576b\"],[0.6666666666666666,\"#ed7953\"],[0.7777777777777778,\"#fb9f3a\"],[0.8888888888888888,\"#fdca26\"],[1.0,\"#f0f921\"]]}],\"heatmap\":[{\"type\":\"heatmap\",\"colorbar\":{\"outlinewidth\":0,\"ticks\":\"\"},\"colorscale\":[[0.0,\"#0d0887\"],[0.1111111111111111,\"#46039f\"],[0.2222222222222222,\"#7201a8\"],[0.3333333333333333,\"#9c179e\"],[0.4444444444444444,\"#bd3786\"],[0.5555555555555556,\"#d8576b\"],[0.6666666666666666,\"#ed7953\"],[0.7777777777777778,\"#fb9f3a\"],[0.8888888888888888,\"#fdca26\"],[1.0,\"#f0f921\"]]}],\"heatmapgl\":[{\"type\":\"heatmapgl\",\"colorbar\":{\"outlinewidth\":0,\"ticks\":\"\"},\"colorscale\":[[0.0,\"#0d0887\"],[0.1111111111111111,\"#46039f\"],[0.2222222222222222,\"#7201a8\"],[0.3333333333333333,\"#9c179e\"],[0.4444444444444444,\"#bd3786\"],[0.5555555555555556,\"#d8576b\"],[0.6666666666666666,\"#ed7953\"],[0.7777777777777778,\"#fb9f3a\"],[0.8888888888888888,\"#fdca26\"],[1.0,\"#f0f921\"]]}],\"contourcarpet\":[{\"type\":\"contourcarpet\",\"colorbar\":{\"outlinewidth\":0,\"ticks\":\"\"}}],\"contour\":[{\"type\":\"contour\",\"colorbar\":{\"outlinewidth\":0,\"ticks\":\"\"},\"colorscale\":[[0.0,\"#0d0887\"],[0.1111111111111111,\"#46039f\"],[0.2222222222222222,\"#7201a8\"],[0.3333333333333333,\"#9c179e\"],[0.4444444444444444,\"#bd3786\"],[0.5555555555555556,\"#d8576b\"],[0.6666666666666666,\"#ed7953\"],[0.7777777777777778,\"#fb9f3a\"],[0.8888888888888888,\"#fdca26\"],[1.0,\"#f0f921\"]]}],\"surface\":[{\"type\":\"surface\",\"colorbar\":{\"outlinewidth\":0,\"ticks\":\"\"},\"colorscale\":[[0.0,\"#0d0887\"],[0.1111111111111111,\"#46039f\"],[0.2222222222222222,\"#7201a8\"],[0.3333333333333333,\"#9c179e\"],[0.4444444444444444,\"#bd3786\"],[0.5555555555555556,\"#d8576b\"],[0.6666666666666666,\"#ed7953\"],[0.7777777777777778,\"#fb9f3a\"],[0.8888888888888888,\"#fdca26\"],[1.0,\"#f0f921\"]]}],\"mesh3d\":[{\"type\":\"mesh3d\",\"colorbar\":{\"outlinewidth\":0,\"ticks\":\"\"}}],\"scatter\":[{\"fillpattern\":{\"fillmode\":\"overlay\",\"size\":10,\"solidity\":0.2},\"type\":\"scatter\"}],\"parcoords\":[{\"type\":\"parcoords\",\"line\":{\"colorbar\":{\"outlinewidth\":0,\"ticks\":\"\"}}}],\"scatterpolargl\":[{\"type\":\"scatterpolargl\",\"marker\":{\"colorbar\":{\"outlinewidth\":0,\"ticks\":\"\"}}}],\"bar\":[{\"error_x\":{\"color\":\"#2a3f5f\"},\"error_y\":{\"color\":\"#2a3f5f\"},\"marker\":{\"line\":{\"color\":\"#E5ECF6\",\"width\":0.5},\"pattern\":{\"fillmode\":\"overlay\",\"size\":10,\"solidity\":0.2}},\"type\":\"bar\"}],\"scattergeo\":[{\"type\":\"scattergeo\",\"marker\":{\"colorbar\":{\"outlinewidth\":0,\"ticks\":\"\"}}}],\"scatterpolar\":[{\"type\":\"scatterpolar\",\"marker\":{\"colorbar\":{\"outlinewidth\":0,\"ticks\":\"\"}}}],\"histogram\":[{\"marker\":{\"pattern\":{\"fillmode\":\"overlay\",\"size\":10,\"solidity\":0.2}},\"type\":\"histogram\"}],\"scattergl\":[{\"type\":\"scattergl\",\"marker\":{\"colorbar\":{\"outlinewidth\":0,\"ticks\":\"\"}}}],\"scatter3d\":[{\"type\":\"scatter3d\",\"line\":{\"colorbar\":{\"outlinewidth\":0,\"ticks\":\"\"}},\"marker\":{\"colorbar\":{\"outlinewidth\":0,\"ticks\":\"\"}}}],\"scattermapbox\":[{\"type\":\"scattermapbox\",\"marker\":{\"colorbar\":{\"outlinewidth\":0,\"ticks\":\"\"}}}],\"scatterternary\":[{\"type\":\"scatterternary\",\"marker\":{\"colorbar\":{\"outlinewidth\":0,\"ticks\":\"\"}}}],\"scattercarpet\":[{\"type\":\"scattercarpet\",\"marker\":{\"colorbar\":{\"outlinewidth\":0,\"ticks\":\"\"}}}],\"carpet\":[{\"aaxis\":{\"endlinecolor\":\"#2a3f5f\",\"gridcolor\":\"white\",\"linecolor\":\"white\",\"minorgridcolor\":\"white\",\"startlinecolor\":\"#2a3f5f\"},\"baxis\":{\"endlinecolor\":\"#2a3f5f\",\"gridcolor\":\"white\",\"linecolor\":\"white\",\"minorgridcolor\":\"white\",\"startlinecolor\":\"#2a3f5f\"},\"type\":\"carpet\"}],\"table\":[{\"cells\":{\"fill\":{\"color\":\"#EBF0F8\"},\"line\":{\"color\":\"white\"}},\"header\":{\"fill\":{\"color\":\"#C8D4E3\"},\"line\":{\"color\":\"white\"}},\"type\":\"table\"}],\"barpolar\":[{\"marker\":{\"line\":{\"color\":\"#E5ECF6\",\"width\":0.5},\"pattern\":{\"fillmode\":\"overlay\",\"size\":10,\"solidity\":0.2}},\"type\":\"barpolar\"}],\"pie\":[{\"automargin\":true,\"type\":\"pie\"}]},\"layout\":{\"autotypenumbers\":\"strict\",\"colorway\":[\"#636efa\",\"#EF553B\",\"#00cc96\",\"#ab63fa\",\"#FFA15A\",\"#19d3f3\",\"#FF6692\",\"#B6E880\",\"#FF97FF\",\"#FECB52\"],\"font\":{\"color\":\"#2a3f5f\"},\"hovermode\":\"closest\",\"hoverlabel\":{\"align\":\"left\"},\"paper_bgcolor\":\"white\",\"plot_bgcolor\":\"#E5ECF6\",\"polar\":{\"bgcolor\":\"#E5ECF6\",\"angularaxis\":{\"gridcolor\":\"white\",\"linecolor\":\"white\",\"ticks\":\"\"},\"radialaxis\":{\"gridcolor\":\"white\",\"linecolor\":\"white\",\"ticks\":\"\"}},\"ternary\":{\"bgcolor\":\"#E5ECF6\",\"aaxis\":{\"gridcolor\":\"white\",\"linecolor\":\"white\",\"ticks\":\"\"},\"baxis\":{\"gridcolor\":\"white\",\"linecolor\":\"white\",\"ticks\":\"\"},\"caxis\":{\"gridcolor\":\"white\",\"linecolor\":\"white\",\"ticks\":\"\"}},\"coloraxis\":{\"colorbar\":{\"outlinewidth\":0,\"ticks\":\"\"}},\"colorscale\":{\"sequential\":[[0.0,\"#0d0887\"],[0.1111111111111111,\"#46039f\"],[0.2222222222222222,\"#7201a8\"],[0.3333333333333333,\"#9c179e\"],[0.4444444444444444,\"#bd3786\"],[0.5555555555555556,\"#d8576b\"],[0.6666666666666666,\"#ed7953\"],[0.7777777777777778,\"#fb9f3a\"],[0.8888888888888888,\"#fdca26\"],[1.0,\"#f0f921\"]],\"sequentialminus\":[[0.0,\"#0d0887\"],[0.1111111111111111,\"#46039f\"],[0.2222222222222222,\"#7201a8\"],[0.3333333333333333,\"#9c179e\"],[0.4444444444444444,\"#bd3786\"],[0.5555555555555556,\"#d8576b\"],[0.6666666666666666,\"#ed7953\"],[0.7777777777777778,\"#fb9f3a\"],[0.8888888888888888,\"#fdca26\"],[1.0,\"#f0f921\"]],\"diverging\":[[0,\"#8e0152\"],[0.1,\"#c51b7d\"],[0.2,\"#de77ae\"],[0.3,\"#f1b6da\"],[0.4,\"#fde0ef\"],[0.5,\"#f7f7f7\"],[0.6,\"#e6f5d0\"],[0.7,\"#b8e186\"],[0.8,\"#7fbc41\"],[0.9,\"#4d9221\"],[1,\"#276419\"]]},\"xaxis\":{\"gridcolor\":\"white\",\"linecolor\":\"white\",\"ticks\":\"\",\"title\":{\"standoff\":15},\"zerolinecolor\":\"white\",\"automargin\":true,\"zerolinewidth\":2},\"yaxis\":{\"gridcolor\":\"white\",\"linecolor\":\"white\",\"ticks\":\"\",\"title\":{\"standoff\":15},\"zerolinecolor\":\"white\",\"automargin\":true,\"zerolinewidth\":2},\"scene\":{\"xaxis\":{\"backgroundcolor\":\"#E5ECF6\",\"gridcolor\":\"white\",\"linecolor\":\"white\",\"showbackground\":true,\"ticks\":\"\",\"zerolinecolor\":\"white\",\"gridwidth\":2},\"yaxis\":{\"backgroundcolor\":\"#E5ECF6\",\"gridcolor\":\"white\",\"linecolor\":\"white\",\"showbackground\":true,\"ticks\":\"\",\"zerolinecolor\":\"white\",\"gridwidth\":2},\"zaxis\":{\"backgroundcolor\":\"#E5ECF6\",\"gridcolor\":\"white\",\"linecolor\":\"white\",\"showbackground\":true,\"ticks\":\"\",\"zerolinecolor\":\"white\",\"gridwidth\":2}},\"shapedefaults\":{\"line\":{\"color\":\"#2a3f5f\"}},\"annotationdefaults\":{\"arrowcolor\":\"#2a3f5f\",\"arrowhead\":0,\"arrowwidth\":1},\"geo\":{\"bgcolor\":\"white\",\"landcolor\":\"#E5ECF6\",\"subunitcolor\":\"white\",\"showland\":true,\"showlakes\":true,\"lakecolor\":\"white\"},\"title\":{\"x\":0.05},\"mapbox\":{\"style\":\"light\"}}},\"xaxis\":{\"anchor\":\"y\",\"domain\":[0.0,1.0],\"matches\":\"x54\",\"showticklabels\":false},\"yaxis\":{\"anchor\":\"x\",\"domain\":[0.99056927297668,0.9999999999999996]},\"xaxis2\":{\"anchor\":\"y2\",\"domain\":[0.0,1.0],\"matches\":\"x54\",\"showticklabels\":false},\"yaxis2\":{\"anchor\":\"x2\",\"domain\":[0.9718792866941011,0.9813100137174207]},\"xaxis3\":{\"anchor\":\"y3\",\"domain\":[0.0,1.0],\"matches\":\"x54\",\"showticklabels\":false},\"yaxis3\":{\"anchor\":\"x3\",\"domain\":[0.9531893004115223,0.9626200274348419]},\"xaxis4\":{\"anchor\":\"y4\",\"domain\":[0.0,1.0],\"matches\":\"x54\",\"showticklabels\":false},\"yaxis4\":{\"anchor\":\"x4\",\"domain\":[0.9344993141289434,0.943930041152263]},\"xaxis5\":{\"anchor\":\"y5\",\"domain\":[0.0,1.0],\"matches\":\"x54\",\"showticklabels\":false},\"yaxis5\":{\"anchor\":\"x5\",\"domain\":[0.9158093278463646,0.9252400548696842]},\"xaxis6\":{\"anchor\":\"y6\",\"domain\":[0.0,1.0],\"matches\":\"x54\",\"showticklabels\":false},\"yaxis6\":{\"anchor\":\"x6\",\"domain\":[0.8971193415637857,0.9065500685871053]},\"xaxis7\":{\"anchor\":\"y7\",\"domain\":[0.0,1.0],\"matches\":\"x54\",\"showticklabels\":false},\"yaxis7\":{\"anchor\":\"x7\",\"domain\":[0.8784293552812068,0.8878600823045264]},\"xaxis8\":{\"anchor\":\"y8\",\"domain\":[0.0,1.0],\"matches\":\"x54\",\"showticklabels\":false},\"yaxis8\":{\"anchor\":\"x8\",\"domain\":[0.859739368998628,0.8691700960219476]},\"xaxis9\":{\"anchor\":\"y9\",\"domain\":[0.0,1.0],\"matches\":\"x54\",\"showticklabels\":false},\"yaxis9\":{\"anchor\":\"x9\",\"domain\":[0.8410493827160491,0.8504801097393687]},\"xaxis10\":{\"anchor\":\"y10\",\"domain\":[0.0,1.0],\"matches\":\"x54\",\"showticklabels\":false},\"yaxis10\":{\"anchor\":\"x10\",\"domain\":[0.8223593964334703,0.8317901234567899]},\"xaxis11\":{\"anchor\":\"y11\",\"domain\":[0.0,1.0],\"matches\":\"x54\",\"showticklabels\":false},\"yaxis11\":{\"anchor\":\"x11\",\"domain\":[0.8036694101508914,0.813100137174211]},\"xaxis12\":{\"anchor\":\"y12\",\"domain\":[0.0,1.0],\"matches\":\"x54\",\"showticklabels\":false},\"yaxis12\":{\"anchor\":\"x12\",\"domain\":[0.7849794238683125,0.7944101508916321]},\"xaxis13\":{\"anchor\":\"y13\",\"domain\":[0.0,1.0],\"matches\":\"x54\",\"showticklabels\":false},\"yaxis13\":{\"anchor\":\"x13\",\"domain\":[0.7662894375857336,0.7757201646090532]},\"xaxis14\":{\"anchor\":\"y14\",\"domain\":[0.0,1.0],\"matches\":\"x54\",\"showticklabels\":false},\"yaxis14\":{\"anchor\":\"x14\",\"domain\":[0.7475994513031549,0.7570301783264745]},\"xaxis15\":{\"anchor\":\"y15\",\"domain\":[0.0,1.0],\"matches\":\"x54\",\"showticklabels\":false},\"yaxis15\":{\"anchor\":\"x15\",\"domain\":[0.7289094650205761,0.7383401920438957]},\"xaxis16\":{\"anchor\":\"y16\",\"domain\":[0.0,1.0],\"matches\":\"x54\",\"showticklabels\":false},\"yaxis16\":{\"anchor\":\"x16\",\"domain\":[0.7102194787379972,0.7196502057613168]},\"xaxis17\":{\"anchor\":\"y17\",\"domain\":[0.0,1.0],\"matches\":\"x54\",\"showticklabels\":false},\"yaxis17\":{\"anchor\":\"x17\",\"domain\":[0.6915294924554183,0.7009602194787379]},\"xaxis18\":{\"anchor\":\"y18\",\"domain\":[0.0,1.0],\"matches\":\"x54\",\"showticklabels\":false},\"yaxis18\":{\"anchor\":\"x18\",\"domain\":[0.6728395061728394,0.682270233196159]},\"xaxis19\":{\"anchor\":\"y19\",\"domain\":[0.0,1.0],\"matches\":\"x54\",\"showticklabels\":false},\"yaxis19\":{\"anchor\":\"x19\",\"domain\":[0.6541495198902606,0.6635802469135802]},\"xaxis20\":{\"anchor\":\"y20\",\"domain\":[0.0,1.0],\"matches\":\"x54\",\"showticklabels\":false},\"yaxis20\":{\"anchor\":\"x20\",\"domain\":[0.6354595336076817,0.6448902606310013]},\"xaxis21\":{\"anchor\":\"y21\",\"domain\":[0.0,1.0],\"matches\":\"x54\",\"showticklabels\":false},\"yaxis21\":{\"anchor\":\"x21\",\"domain\":[0.6167695473251029,0.6262002743484225]},\"xaxis22\":{\"anchor\":\"y22\",\"domain\":[0.0,1.0],\"matches\":\"x54\",\"showticklabels\":false},\"yaxis22\":{\"anchor\":\"x22\",\"domain\":[0.598079561042524,0.6075102880658436]},\"xaxis23\":{\"anchor\":\"y23\",\"domain\":[0.0,1.0],\"matches\":\"x54\",\"showticklabels\":false},\"yaxis23\":{\"anchor\":\"x23\",\"domain\":[0.5793895747599451,0.5888203017832647]},\"xaxis24\":{\"anchor\":\"y24\",\"domain\":[0.0,1.0],\"matches\":\"x54\",\"showticklabels\":false},\"yaxis24\":{\"anchor\":\"x24\",\"domain\":[0.5606995884773663,0.5701303155006859]},\"xaxis25\":{\"anchor\":\"y25\",\"domain\":[0.0,1.0],\"matches\":\"x54\",\"showticklabels\":false},\"yaxis25\":{\"anchor\":\"x25\",\"domain\":[0.5420096021947874,0.551440329218107]},\"xaxis26\":{\"anchor\":\"y26\",\"domain\":[0.0,1.0],\"matches\":\"x54\",\"showticklabels\":false},\"yaxis26\":{\"anchor\":\"x26\",\"domain\":[0.5233196159122087,0.5327503429355283]},\"xaxis27\":{\"anchor\":\"y27\",\"domain\":[0.0,1.0],\"matches\":\"x54\",\"showticklabels\":false},\"yaxis27\":{\"anchor\":\"x27\",\"domain\":[0.5046296296296298,0.5140603566529494]},\"xaxis28\":{\"anchor\":\"y28\",\"domain\":[0.0,1.0],\"matches\":\"x54\",\"showticklabels\":false},\"yaxis28\":{\"anchor\":\"x28\",\"domain\":[0.48593964334705086,0.49537037037037046]},\"xaxis29\":{\"anchor\":\"y29\",\"domain\":[0.0,1.0],\"matches\":\"x54\",\"showticklabels\":false},\"yaxis29\":{\"anchor\":\"x29\",\"domain\":[0.46724965706447197,0.47668038408779156]},\"xaxis30\":{\"anchor\":\"y30\",\"domain\":[0.0,1.0],\"matches\":\"x54\",\"showticklabels\":false},\"yaxis30\":{\"anchor\":\"x30\",\"domain\":[0.4485596707818931,0.4579903978052127]},\"xaxis31\":{\"anchor\":\"y31\",\"domain\":[0.0,1.0],\"matches\":\"x54\",\"showticklabels\":false},\"yaxis31\":{\"anchor\":\"x31\",\"domain\":[0.4298696844993143,0.4393004115226339]},\"xaxis32\":{\"anchor\":\"y32\",\"domain\":[0.0,1.0],\"matches\":\"x54\",\"showticklabels\":false},\"yaxis32\":{\"anchor\":\"x32\",\"domain\":[0.4111796982167354,0.420610425240055]},\"xaxis33\":{\"anchor\":\"y33\",\"domain\":[0.0,1.0],\"matches\":\"x54\",\"showticklabels\":false},\"yaxis33\":{\"anchor\":\"x33\",\"domain\":[0.3924897119341565,0.4019204389574761]},\"xaxis34\":{\"anchor\":\"y34\",\"domain\":[0.0,1.0],\"matches\":\"x54\",\"showticklabels\":false},\"yaxis34\":{\"anchor\":\"x34\",\"domain\":[0.3737997256515776,0.3832304526748972]},\"xaxis35\":{\"anchor\":\"y35\",\"domain\":[0.0,1.0],\"matches\":\"x54\",\"showticklabels\":false},\"yaxis35\":{\"anchor\":\"x35\",\"domain\":[0.3551097393689987,0.3645404663923183]},\"xaxis36\":{\"anchor\":\"y36\",\"domain\":[0.0,1.0],\"matches\":\"x54\",\"showticklabels\":false},\"yaxis36\":{\"anchor\":\"x36\",\"domain\":[0.3364197530864198,0.3458504801097394]},\"xaxis37\":{\"anchor\":\"y37\",\"domain\":[0.0,1.0],\"matches\":\"x54\",\"showticklabels\":false},\"yaxis37\":{\"anchor\":\"x37\",\"domain\":[0.3177297668038409,0.3271604938271605]},\"xaxis38\":{\"anchor\":\"y38\",\"domain\":[0.0,1.0],\"matches\":\"x54\",\"showticklabels\":false},\"yaxis38\":{\"anchor\":\"x38\",\"domain\":[0.29903978052126207,0.30847050754458166]},\"xaxis39\":{\"anchor\":\"y39\",\"domain\":[0.0,1.0],\"matches\":\"x54\",\"showticklabels\":false},\"yaxis39\":{\"anchor\":\"x39\",\"domain\":[0.2803497942386832,0.2897805212620028]},\"xaxis40\":{\"anchor\":\"y40\",\"domain\":[0.0,1.0],\"matches\":\"x54\",\"showticklabels\":false},\"yaxis40\":{\"anchor\":\"x40\",\"domain\":[0.26165980795610433,0.2710905349794239]},\"xaxis41\":{\"anchor\":\"y41\",\"domain\":[0.0,1.0],\"matches\":\"x54\",\"showticklabels\":false},\"yaxis41\":{\"anchor\":\"x41\",\"domain\":[0.24296982167352543,0.25240054869684503]},\"xaxis42\":{\"anchor\":\"y42\",\"domain\":[0.0,1.0],\"matches\":\"x54\",\"showticklabels\":false},\"yaxis42\":{\"anchor\":\"x42\",\"domain\":[0.22427983539094654,0.23371056241426616]},\"xaxis43\":{\"anchor\":\"y43\",\"domain\":[0.0,1.0],\"matches\":\"x54\",\"showticklabels\":false},\"yaxis43\":{\"anchor\":\"x43\",\"domain\":[0.20558984910836764,0.21502057613168726]},\"xaxis44\":{\"anchor\":\"y44\",\"domain\":[0.0,1.0],\"matches\":\"x54\",\"showticklabels\":false},\"yaxis44\":{\"anchor\":\"x44\",\"domain\":[0.18689986282578877,0.1963305898491084]},\"xaxis45\":{\"anchor\":\"y45\",\"domain\":[0.0,1.0],\"matches\":\"x54\",\"showticklabels\":false},\"yaxis45\":{\"anchor\":\"x45\",\"domain\":[0.1682098765432099,0.17764060356652953]},\"xaxis46\":{\"anchor\":\"y46\",\"domain\":[0.0,1.0],\"matches\":\"x54\",\"showticklabels\":false},\"yaxis46\":{\"anchor\":\"x46\",\"domain\":[0.149519890260631,0.15895061728395063]},\"xaxis47\":{\"anchor\":\"y47\",\"domain\":[0.0,1.0],\"matches\":\"x54\",\"showticklabels\":false},\"yaxis47\":{\"anchor\":\"x47\",\"domain\":[0.1308299039780521,0.14026063100137173]},\"xaxis48\":{\"anchor\":\"y48\",\"domain\":[0.0,1.0],\"matches\":\"x54\",\"showticklabels\":false},\"yaxis48\":{\"anchor\":\"x48\",\"domain\":[0.11213991769547325,0.12157064471879286]},\"xaxis49\":{\"anchor\":\"y49\",\"domain\":[0.0,1.0],\"matches\":\"x54\",\"showticklabels\":false},\"yaxis49\":{\"anchor\":\"x49\",\"domain\":[0.09344993141289437,0.102880658436214]},\"xaxis50\":{\"anchor\":\"y50\",\"domain\":[0.0,1.0],\"matches\":\"x54\",\"showticklabels\":false},\"yaxis50\":{\"anchor\":\"x50\",\"domain\":[0.0747599451303155,0.08419067215363513]},\"xaxis51\":{\"anchor\":\"y51\",\"domain\":[0.0,1.0],\"matches\":\"x54\",\"showticklabels\":false},\"yaxis51\":{\"anchor\":\"x51\",\"domain\":[0.05606995884773663,0.06550068587105624]},\"xaxis52\":{\"anchor\":\"y52\",\"domain\":[0.0,1.0],\"matches\":\"x54\",\"showticklabels\":false},\"yaxis52\":{\"anchor\":\"x52\",\"domain\":[0.03737997256515775,0.04681069958847737]},\"xaxis53\":{\"anchor\":\"y53\",\"domain\":[0.0,1.0],\"matches\":\"x54\",\"showticklabels\":false},\"yaxis53\":{\"anchor\":\"x53\",\"domain\":[0.018689986282578876,0.028120713305898493]},\"xaxis54\":{\"anchor\":\"y54\",\"domain\":[0.0,1.0]},\"yaxis54\":{\"anchor\":\"x54\",\"domain\":[0.0,0.009430727023319617]},\"annotations\":[{\"font\":{\"size\":16},\"showarrow\":false,\"text\":\"import_time\",\"x\":0.5,\"xanchor\":\"center\",\"xref\":\"paper\",\"y\":0.9999999999999996,\"yanchor\":\"bottom\",\"yref\":\"paper\"},{\"font\":{\"size\":16},\"showarrow\":false,\"text\":\"dt\",\"x\":0.5,\"xanchor\":\"center\",\"xref\":\"paper\",\"y\":0.9813100137174207,\"yanchor\":\"bottom\",\"yref\":\"paper\"},{\"font\":{\"size\":16},\"showarrow\":false,\"text\":\"dx\",\"x\":0.5,\"xanchor\":\"center\",\"xref\":\"paper\",\"y\":0.9626200274348419,\"yanchor\":\"bottom\",\"yref\":\"paper\"},{\"font\":{\"size\":16},\"showarrow\":false,\"text\":\"num_cells_mechanics\",\"x\":0.5,\"xanchor\":\"center\",\"xref\":\"paper\",\"y\":0.943930041152263,\"yanchor\":\"bottom\",\"yref\":\"paper\"},{\"font\":{\"size\":16},\"showarrow\":false,\"text\":\"num_cells_ep\",\"x\":0.5,\"xanchor\":\"center\",\"xref\":\"paper\",\"y\":0.9252400548696842,\"yanchor\":\"bottom\",\"yref\":\"paper\"},{\"font\":{\"size\":16},\"showarrow\":false,\"text\":\"num_vertices_mechanics\",\"x\":0.5,\"xanchor\":\"center\",\"xref\":\"paper\",\"y\":0.9065500685871053,\"yanchor\":\"bottom\",\"yref\":\"paper\"},{\"font\":{\"size\":16},\"showarrow\":false,\"text\":\"num_vertices_ep\",\"x\":0.5,\"xanchor\":\"center\",\"xref\":\"paper\",\"y\":0.8878600823045264,\"yanchor\":\"bottom\",\"yref\":\"paper\"},{\"font\":{\"size\":16},\"showarrow\":false,\"text\":\"create_runner_time\",\"x\":0.5,\"xanchor\":\"center\",\"xref\":\"paper\",\"y\":0.8691700960219476,\"yanchor\":\"bottom\",\"yref\":\"paper\"},{\"font\":{\"size\":16},\"showarrow\":false,\"text\":\"solve_time\",\"x\":0.5,\"xanchor\":\"center\",\"xref\":\"paper\",\"y\":0.8504801097393687,\"yanchor\":\"bottom\",\"yref\":\"paper\"},{\"font\":{\"size\":16},\"showarrow\":false,\"text\":\"maxTa\",\"x\":0.5,\"xanchor\":\"center\",\"xref\":\"paper\",\"y\":0.8317901234567899,\"yanchor\":\"bottom\",\"yref\":\"paper\"},{\"font\":{\"size\":16},\"showarrow\":false,\"text\":\"ampTa\",\"x\":0.5,\"xanchor\":\"center\",\"xref\":\"paper\",\"y\":0.813100137174211,\"yanchor\":\"bottom\",\"yref\":\"paper\"},{\"font\":{\"size\":16},\"showarrow\":false,\"text\":\"APD40\",\"x\":0.5,\"xanchor\":\"center\",\"xref\":\"paper\",\"y\":0.7944101508916321,\"yanchor\":\"bottom\",\"yref\":\"paper\"},{\"font\":{\"size\":16},\"showarrow\":false,\"text\":\"APD50\",\"x\":0.5,\"xanchor\":\"center\",\"xref\":\"paper\",\"y\":0.7757201646090532,\"yanchor\":\"bottom\",\"yref\":\"paper\"},{\"font\":{\"size\":16},\"showarrow\":false,\"text\":\"APD90\",\"x\":0.5,\"xanchor\":\"center\",\"xref\":\"paper\",\"y\":0.7570301783264745,\"yanchor\":\"bottom\",\"yref\":\"paper\"},{\"font\":{\"size\":16},\"showarrow\":false,\"text\":\"triangulation\",\"x\":0.5,\"xanchor\":\"center\",\"xref\":\"paper\",\"y\":0.7383401920438957,\"yanchor\":\"bottom\",\"yref\":\"paper\"},{\"font\":{\"size\":16},\"showarrow\":false,\"text\":\"Vpeak\",\"x\":0.5,\"xanchor\":\"center\",\"xref\":\"paper\",\"y\":0.7196502057613168,\"yanchor\":\"bottom\",\"yref\":\"paper\"},{\"font\":{\"size\":16},\"showarrow\":false,\"text\":\"Vmin\",\"x\":0.5,\"xanchor\":\"center\",\"xref\":\"paper\",\"y\":0.7009602194787379,\"yanchor\":\"bottom\",\"yref\":\"paper\"},{\"font\":{\"size\":16},\"showarrow\":false,\"text\":\"dvdt\",\"x\":0.5,\"xanchor\":\"center\",\"xref\":\"paper\",\"y\":0.682270233196159,\"yanchor\":\"bottom\",\"yref\":\"paper\"},{\"font\":{\"size\":16},\"showarrow\":false,\"text\":\"maxCa\",\"x\":0.5,\"xanchor\":\"center\",\"xref\":\"paper\",\"y\":0.6635802469135802,\"yanchor\":\"bottom\",\"yref\":\"paper\"},{\"font\":{\"size\":16},\"showarrow\":false,\"text\":\"ampCa\",\"x\":0.5,\"xanchor\":\"center\",\"xref\":\"paper\",\"y\":0.6448902606310013,\"yanchor\":\"bottom\",\"yref\":\"paper\"},{\"font\":{\"size\":16},\"showarrow\":false,\"text\":\"CaTD50\",\"x\":0.5,\"xanchor\":\"center\",\"xref\":\"paper\",\"y\":0.6262002743484225,\"yanchor\":\"bottom\",\"yref\":\"paper\"},{\"font\":{\"size\":16},\"showarrow\":false,\"text\":\"CaTD80\",\"x\":0.5,\"xanchor\":\"center\",\"xref\":\"paper\",\"y\":0.6075102880658436,\"yanchor\":\"bottom\",\"yref\":\"paper\"},{\"font\":{\"size\":16},\"showarrow\":false,\"text\":\"CaTD90\",\"x\":0.5,\"xanchor\":\"center\",\"xref\":\"paper\",\"y\":0.5888203017832647,\"yanchor\":\"bottom\",\"yref\":\"paper\"},{\"font\":{\"size\":16},\"showarrow\":false,\"text\":\"ttp_Ta\",\"x\":0.5,\"xanchor\":\"center\",\"xref\":\"paper\",\"y\":0.5701303155006859,\"yanchor\":\"bottom\",\"yref\":\"paper\"},{\"font\":{\"size\":16},\"showarrow\":false,\"text\":\"rt50_Ta\",\"x\":0.5,\"xanchor\":\"center\",\"xref\":\"paper\",\"y\":0.551440329218107,\"yanchor\":\"bottom\",\"yref\":\"paper\"},{\"font\":{\"size\":16},\"showarrow\":false,\"text\":\"rt95_Ta\",\"x\":0.5,\"xanchor\":\"center\",\"xref\":\"paper\",\"y\":0.5327503429355283,\"yanchor\":\"bottom\",\"yref\":\"paper\"},{\"font\":{\"size\":16},\"showarrow\":false,\"text\":\"maxlmbda\",\"x\":0.5,\"xanchor\":\"center\",\"xref\":\"paper\",\"y\":0.5140603566529494,\"yanchor\":\"bottom\",\"yref\":\"paper\"},{\"font\":{\"size\":16},\"showarrow\":false,\"text\":\"minlmbda\",\"x\":0.5,\"xanchor\":\"center\",\"xref\":\"paper\",\"y\":0.49537037037037046,\"yanchor\":\"bottom\",\"yref\":\"paper\"},{\"font\":{\"size\":16},\"showarrow\":false,\"text\":\"ttplmbda\",\"x\":0.5,\"xanchor\":\"center\",\"xref\":\"paper\",\"y\":0.47668038408779156,\"yanchor\":\"bottom\",\"yref\":\"paper\"},{\"font\":{\"size\":16},\"showarrow\":false,\"text\":\"lmbdaD50\",\"x\":0.5,\"xanchor\":\"center\",\"xref\":\"paper\",\"y\":0.4579903978052127,\"yanchor\":\"bottom\",\"yref\":\"paper\"},{\"font\":{\"size\":16},\"showarrow\":false,\"text\":\"lmbdaD80\",\"x\":0.5,\"xanchor\":\"center\",\"xref\":\"paper\",\"y\":0.4393004115226339,\"yanchor\":\"bottom\",\"yref\":\"paper\"},{\"font\":{\"size\":16},\"showarrow\":false,\"text\":\"lmbdaD90\",\"x\":0.5,\"xanchor\":\"center\",\"xref\":\"paper\",\"y\":0.420610425240055,\"yanchor\":\"bottom\",\"yref\":\"paper\"},{\"font\":{\"size\":16},\"showarrow\":false,\"text\":\"rt50_lmbda\",\"x\":0.5,\"xanchor\":\"center\",\"xref\":\"paper\",\"y\":0.4019204389574761,\"yanchor\":\"bottom\",\"yref\":\"paper\"},{\"font\":{\"size\":16},\"showarrow\":false,\"text\":\"rt95_lmbda\",\"x\":0.5,\"xanchor\":\"center\",\"xref\":\"paper\",\"y\":0.3832304526748972,\"yanchor\":\"bottom\",\"yref\":\"paper\"},{\"font\":{\"size\":16},\"showarrow\":false,\"text\":\"max_displacement_norm\",\"x\":0.5,\"xanchor\":\"center\",\"xref\":\"paper\",\"y\":0.3645404663923183,\"yanchor\":\"bottom\",\"yref\":\"paper\"},{\"font\":{\"size\":16},\"showarrow\":false,\"text\":\"rel_max_displacement_norm\",\"x\":0.5,\"xanchor\":\"center\",\"xref\":\"paper\",\"y\":0.3458504801097394,\"yanchor\":\"bottom\",\"yref\":\"paper\"},{\"font\":{\"size\":16},\"showarrow\":false,\"text\":\"max_displacement_perc_norm\",\"x\":0.5,\"xanchor\":\"center\",\"xref\":\"paper\",\"y\":0.3271604938271605,\"yanchor\":\"bottom\",\"yref\":\"paper\"},{\"font\":{\"size\":16},\"showarrow\":false,\"text\":\"rel_max_displacement_perc_norm\",\"x\":0.5,\"xanchor\":\"center\",\"xref\":\"paper\",\"y\":0.30847050754458166,\"yanchor\":\"bottom\",\"yref\":\"paper\"},{\"font\":{\"size\":16},\"showarrow\":false,\"text\":\"time_to_max_displacement_norm\",\"x\":0.5,\"xanchor\":\"center\",\"xref\":\"paper\",\"y\":0.2897805212620028,\"yanchor\":\"bottom\",\"yref\":\"paper\"},{\"font\":{\"size\":16},\"showarrow\":false,\"text\":\"max_displacement_x\",\"x\":0.5,\"xanchor\":\"center\",\"xref\":\"paper\",\"y\":0.2710905349794239,\"yanchor\":\"bottom\",\"yref\":\"paper\"},{\"font\":{\"size\":16},\"showarrow\":false,\"text\":\"rel_max_displacement_x\",\"x\":0.5,\"xanchor\":\"center\",\"xref\":\"paper\",\"y\":0.25240054869684503,\"yanchor\":\"bottom\",\"yref\":\"paper\"},{\"font\":{\"size\":16},\"showarrow\":false,\"text\":\"max_displacement_perc_x\",\"x\":0.5,\"xanchor\":\"center\",\"xref\":\"paper\",\"y\":0.23371056241426616,\"yanchor\":\"bottom\",\"yref\":\"paper\"},{\"font\":{\"size\":16},\"showarrow\":false,\"text\":\"rel_max_displacement_perc_x\",\"x\":0.5,\"xanchor\":\"center\",\"xref\":\"paper\",\"y\":0.21502057613168726,\"yanchor\":\"bottom\",\"yref\":\"paper\"},{\"font\":{\"size\":16},\"showarrow\":false,\"text\":\"time_to_max_displacement_x\",\"x\":0.5,\"xanchor\":\"center\",\"xref\":\"paper\",\"y\":0.1963305898491084,\"yanchor\":\"bottom\",\"yref\":\"paper\"},{\"font\":{\"size\":16},\"showarrow\":false,\"text\":\"max_displacement_y\",\"x\":0.5,\"xanchor\":\"center\",\"xref\":\"paper\",\"y\":0.17764060356652953,\"yanchor\":\"bottom\",\"yref\":\"paper\"},{\"font\":{\"size\":16},\"showarrow\":false,\"text\":\"rel_max_displacement_y\",\"x\":0.5,\"xanchor\":\"center\",\"xref\":\"paper\",\"y\":0.15895061728395063,\"yanchor\":\"bottom\",\"yref\":\"paper\"},{\"font\":{\"size\":16},\"showarrow\":false,\"text\":\"max_displacement_perc_y\",\"x\":0.5,\"xanchor\":\"center\",\"xref\":\"paper\",\"y\":0.14026063100137173,\"yanchor\":\"bottom\",\"yref\":\"paper\"},{\"font\":{\"size\":16},\"showarrow\":false,\"text\":\"rel_max_displacement_perc_y\",\"x\":0.5,\"xanchor\":\"center\",\"xref\":\"paper\",\"y\":0.12157064471879286,\"yanchor\":\"bottom\",\"yref\":\"paper\"},{\"font\":{\"size\":16},\"showarrow\":false,\"text\":\"time_to_max_displacement_y\",\"x\":0.5,\"xanchor\":\"center\",\"xref\":\"paper\",\"y\":0.102880658436214,\"yanchor\":\"bottom\",\"yref\":\"paper\"},{\"font\":{\"size\":16},\"showarrow\":false,\"text\":\"max_displacement_z\",\"x\":0.5,\"xanchor\":\"center\",\"xref\":\"paper\",\"y\":0.08419067215363513,\"yanchor\":\"bottom\",\"yref\":\"paper\"},{\"font\":{\"size\":16},\"showarrow\":false,\"text\":\"rel_max_displacement_z\",\"x\":0.5,\"xanchor\":\"center\",\"xref\":\"paper\",\"y\":0.06550068587105624,\"yanchor\":\"bottom\",\"yref\":\"paper\"},{\"font\":{\"size\":16},\"showarrow\":false,\"text\":\"max_displacement_perc_z\",\"x\":0.5,\"xanchor\":\"center\",\"xref\":\"paper\",\"y\":0.04681069958847737,\"yanchor\":\"bottom\",\"yref\":\"paper\"},{\"font\":{\"size\":16},\"showarrow\":false,\"text\":\"rel_max_displacement_perc_z\",\"x\":0.5,\"xanchor\":\"center\",\"xref\":\"paper\",\"y\":0.028120713305898493,\"yanchor\":\"bottom\",\"yref\":\"paper\"},{\"font\":{\"size\":16},\"showarrow\":false,\"text\":\"time_to_max_displacement_z\",\"x\":0.5,\"xanchor\":\"center\",\"xref\":\"paper\",\"y\":0.009430727023319617,\"yanchor\":\"bottom\",\"yref\":\"paper\"}],\"height\":5000,\"showlegend\":true},                        {\"responsive\": true}                    ).then(function(){\n",
       "                            \n",
       "var gd = document.getElementById('406c6264-ba3a-4d42-9c9a-1607d830145e');\n",
       "var x = new MutationObserver(function (mutations, observer) {{\n",
       "        var display = window.getComputedStyle(gd).display;\n",
       "        if (!display || display === 'none') {{\n",
       "            console.log([gd, 'removed!']);\n",
       "            Plotly.purge(gd);\n",
       "            observer.disconnect();\n",
       "        }}\n",
       "}});\n",
       "\n",
       "// Listen for the removal of the full notebook cells\n",
       "var notebookContainer = gd.closest('#notebook-container');\n",
       "if (notebookContainer) {{\n",
       "    x.observe(notebookContainer, {childList: true});\n",
       "}}\n",
       "\n",
       "// Listen for the clearing of the current output cell\n",
       "var outputEl = gd.closest('.output');\n",
       "if (outputEl) {{\n",
       "    x.observe(outputEl, {childList: true});\n",
       "}}\n",
       "\n",
       "                        })                };                });            </script>        </div>"
      ]
     },
     "metadata": {},
     "output_type": "display_data"
    }
   ],
   "source": [
    "columns = [c for c in df.columns if c not in [\"timestamp\", \"simcardems_version\", \"sha\"]]\n",
    "git_hash = df[\"sha\"]\n",
    "versions = df[\"simcardems_version\"]\n",
    "dxs = df[\"dx\"].unique()\n",
    "dates = [t.date() for t in df[\"timestamp\"]]\n",
    "\n",
    "\n",
    "    \n",
    "fig = make_subplots(rows=len(columns), cols=1, subplot_titles=columns, shared_xaxes=True)\n",
    "\n",
    "yranges = []\n",
    "colors = ['red', 'green', 'blue']\n",
    "for color, dx in zip(colors, sorted(dxs)):\n",
    "    df_dx = df[df[\"dx\"] == dx]\n",
    "    df_dx.sort_values(by='timestamp')\n",
    "    \n",
    "    git_hash = df_dx[\"sha\"]\n",
    "    versions = df_dx[\"simcardems_version\"]\n",
    "    dates = [t.date() for t in df_dx[\"timestamp\"]]\n",
    "    \n",
    "    text = []\n",
    "    for h,v, t in zip(git_hash, versions, dates):\n",
    "        text.append(\"\\n\".join([\n",
    "            f\"<br>Git Hash: {h}</br>\",\n",
    "            f\"<br>Version: {v}</br>\",\n",
    "            f\"<br>Timestamp {t}</br>\",\n",
    "        ]))\n",
    " \n",
    "    for i, c in enumerate(columns):\n",
    "    \n",
    "            \n",
    "    \n",
    "        row = i + 1\n",
    "        col = 1\n",
    "        showlegend=i==0\n",
    "        fig.add_trace(\n",
    "            go.Scatter(\n",
    "                x=df_dx[\"timestamp\"], \n",
    "                y=df_dx[c], \n",
    "                text=text, \n",
    "                hovertemplate=\"%{text}\", \n",
    "                name=f\"dx={dx}\", \n",
    "                legendgroup=str(dx),\n",
    "                showlegend=i==0,\n",
    "                mode=\"markers\",\n",
    "                marker_color=color\n",
    "            ),\n",
    "            row=row, col=col\n",
    "        )\n",
    "        fig.update_yaxes(row=row, col=col)\n",
    "\n",
    "fig.update_layout(\n",
    "    height=5000,\n",
    "    showlegend=True\n",
    ")\n",
    "fig.show()"
   ]
  },
  {
   "cell_type": "code",
   "execution_count": null,
   "id": "5439e90f",
   "metadata": {},
   "outputs": [],
   "source": []
  }
 ],
 "metadata": {
  "kernelspec": {
   "display_name": "Python 3 (ipykernel)",
   "language": "python",
   "name": "python3"
  },
  "language_info": {
   "codemirror_mode": {
    "name": "ipython",
    "version": 3
   },
   "file_extension": ".py",
   "mimetype": "text/x-python",
   "name": "python",
   "nbconvert_exporter": "python",
   "pygments_lexer": "ipython3",
   "version": "3.10.6"
  }
 },
 "nbformat": 4,
 "nbformat_minor": 5
}
