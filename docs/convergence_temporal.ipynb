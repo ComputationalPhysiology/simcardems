{
 "cells": [
  {
   "cell_type": "markdown",
   "id": "0",
   "metadata": {},
   "source": [
    "# Temporal convergence test"
   ]
  },
  {
   "cell_type": "code",
   "execution_count": null,
   "id": "1",
   "metadata": {},
   "outputs": [],
   "source": [
    "from pathlib import Path\n",
    "import json\n",
    "import numpy as np\n",
    "from collections import defaultdict\n",
    "import pandas as pd\n",
    "import plotly.graph_objects as go\n",
    "from plotly.subplots import make_subplots\n",
    "import requests\n",
    "\n",
    "pd.options.display.max_columns = 5"
   ]
  },
  {
   "cell_type": "code",
   "execution_count": null,
   "id": "2",
   "metadata": {},
   "outputs": [],
   "source": [
    "headers = {\n",
    "    \"Accept\": \"application/vnd.github+json\",\n",
    "    \"X-GitHub-Api-Version\": \"2022-11-28\",\n",
    "}\n",
    "print(\"Get existing data from gist\")\n",
    "response = requests.get(\n",
    "    f\"https://api.github.com/gists/73fa6531f28da2b3633a7ddaca38a7cd\",\n",
    "    headers=headers,\n",
    ")\n",
    "data = json.loads(response.json()[\"files\"][\"convergence_test.json\"][\"content\"])"
   ]
  },
  {
   "cell_type": "code",
   "execution_count": null,
   "id": "3",
   "metadata": {},
   "outputs": [],
   "source": [
    "runs = set()\n",
    "all_results = defaultdict(list)\n",
    "spatial_convergence = []\n",
    "for git_hash, d in data.items():\n",
    "    runs |= set(d.keys())\n",
    "    if \"dx0.2_dt0.025\" not in d:\n",
    "        # We have not temporaø convergence data\n",
    "        continue\n",
    "\n",
    "    for key1, d1 in d.items():\n",
    "        if \"dx0.2\" not in key1:\n",
    "            continue  # Only select data with \"dt0.05\"\n",
    "        for key, value in d1.items():\n",
    "            all_results[key].append(value)\n",
    "            \n",
    "N = max(len(v) for v in all_results.values())\n",
    "results = {}\n",
    "for k, v in all_results.items():\n",
    "    print(k, len(v))\n",
    "    if len(v) == N:\n",
    "        results[k] = v\n",
    "\n",
    "df = pd.DataFrame(results)\n",
    "df[\"timestamp\"] = pd.to_datetime(df[\"timestamp\"])\n",
    "df"
   ]
  },
  {
   "cell_type": "code",
   "execution_count": null,
   "id": "4",
   "metadata": {},
   "outputs": [],
   "source": [
    "dts = df[\"dt\"].unique()\n",
    "DT = np.median(dts)   # Choose the dt in the middle as the one to compare with\n",
    "dts"
   ]
  },
  {
   "cell_type": "code",
   "execution_count": null,
   "id": "5",
   "metadata": {},
   "outputs": [],
   "source": [
    "def get_ylim(values):\n",
    "    if np.isclose(values, 1).all():\n",
    "        return (0.99, 1.01)\n",
    "    y_max = np.max(values)\n",
    "    y_min = np.min(values)\n",
    "    d_max = y_max - 1\n",
    "    d_min = 1 - y_min\n",
    "    \n",
    "    d = max(d_min, d_max) + 0.025\n",
    "    return (1 - d, 1 + d)\n"
   ]
  },
  {
   "cell_type": "code",
   "execution_count": null,
   "id": "6",
   "metadata": {},
   "outputs": [],
   "source": [
    "columns = [c for c in df.columns if c not in [\"timestamp\", \"simcardems_version\", \"sha\", \"dx\", \"dt\"]]\n",
    "git_hash = df[\"sha\"]\n",
    "versions = df[\"simcardems_version\"]\n",
    "dates = [t.date() for t in df[\"timestamp\"]]\n",
    "\n",
    "df_DT = df[df[\"dt\"] == DT]\n",
    "df_DT.sort_values(by='timestamp')\n",
    "    \n",
    "fig = make_subplots(\n",
    "    rows=len(columns), \n",
    "    cols=1, \n",
    "    y_title=\"Percentage deviation from median case\",\n",
    "    subplot_titles=columns, \n",
    "    shared_xaxes=True\n",
    ")\n",
    "\n",
    "yranges = []\n",
    "colors = ['red', 'green', 'blue']\n",
    "for color, dt in zip(colors, sorted(dts)):\n",
    "    df_dt = df[df[\"dt\"] == dt]\n",
    "    df_dt.sort_values(by='timestamp')\n",
    "    \n",
    "    git_hash = df_dt[\"sha\"]\n",
    "    versions = df_dt[\"simcardems_version\"]\n",
    "    dates = [t.date() for t in df_dt[\"timestamp\"]]\n",
    "    \n",
    "    text = []\n",
    "    for h,v, t in zip(git_hash, versions, dates):\n",
    "        text.append(\"\\n\".join([\n",
    "            f\"<br>Git Hash: {h}</br>\",\n",
    "            f\"<br>Version: {v}</br>\",\n",
    "            f\"<br>Timestamp {t}</br>\",\n",
    "        ]))\n",
    " \n",
    "    for i, c in enumerate(columns):\n",
    "    \n",
    "        y = df_dt[c].to_numpy() / df_DT[c].to_numpy()\n",
    "    \n",
    "        row = i + 1\n",
    "        col = 1\n",
    "        showlegend=i==0\n",
    "        fig.add_trace(\n",
    "            go.Scatter(\n",
    "                x=df_dt[\"timestamp\"], \n",
    "                y=y, \n",
    "                text=text, \n",
    "                hovertemplate=\"%{text}\", \n",
    "                name=f\"dt={dt}\", \n",
    "                legendgroup=str(dt),\n",
    "                showlegend=i==0,\n",
    "                marker_color=color\n",
    "            ),\n",
    "            row=row, col=col\n",
    "        )\n",
    "        fig.update_yaxes(range=get_ylim(y), row=row, col=col)\n",
    "\n",
    "fig.update_layout(\n",
    "    height=7000,\n",
    "    showlegend=True\n",
    ")\n",
    "fig.show()"
   ]
  }
 ],
 "metadata": {
  "kernelspec": {
   "display_name": "Python 3 (ipykernel)",
   "language": "python",
   "name": "python3"
  },
  "language_info": {
   "codemirror_mode": {
    "name": "ipython",
    "version": 3
   },
   "file_extension": ".py",
   "mimetype": "text/x-python",
   "name": "python",
   "nbconvert_exporter": "python",
   "pygments_lexer": "ipython3",
   "version": "3.10.6"
  }
 },
 "nbformat": 4,
 "nbformat_minor": 5
}
