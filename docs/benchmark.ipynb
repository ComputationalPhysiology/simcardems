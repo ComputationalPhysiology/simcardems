{
 "cells": [
  {
   "cell_type": "markdown",
   "id": "22e7a0b1",
   "metadata": {},
   "source": [
    "# Benchmark\n",
    "\n",
    "Whenever we make changes to the code we will rerun a simple benchmark in order to keep track of how the simulation results might change over time. It is in general hard to verify that the equations are implemented correctly because there exist no analytic solutions to the equations. However, by running the same benchmark over time we can see if the changes we make will impact the simulation results. Here the different biomarkers are taken from traces evaluated a the center of at slab that is simulated for 1000 ms (see the benchmark in the library for more details)"
   ]
  },
  {
   "cell_type": "code",
   "execution_count": null,
   "id": "826ee07a",
   "metadata": {},
   "outputs": [],
   "source": [
    "from pathlib import Path\n",
    "import json\n",
    "import matplotlib.pyplot as plt\n",
    "import numpy as np\n",
    "from collections import defaultdict\n",
    "import pandas as pd\n",
    "import plotly.graph_objects as go\n",
    "from plotly.subplots import make_subplots\n",
    "\n",
    "pd.options.display.max_columns = 5"
   ]
  },
  {
   "cell_type": "code",
   "execution_count": null,
   "id": "e4c0580c",
   "metadata": {},
   "outputs": [],
   "source": [
    "benchmark_folder = Path(\".\").absolute().parent / \"benchmarks\""
   ]
  },
  {
   "cell_type": "code",
   "execution_count": null,
   "id": "4a0087e6",
   "metadata": {},
   "outputs": [],
   "source": [
    "all_hashes = [f.name for f in benchmark_folder.iterdir()]"
   ]
  },
  {
   "cell_type": "code",
   "execution_count": null,
   "id": "669d6d30",
   "metadata": {
    "scrolled": true
   },
   "outputs": [],
   "source": [
    "print(all_hashes)"
   ]
  },
  {
   "cell_type": "markdown",
   "id": "08b632e7",
   "metadata": {},
   "source": [
    "You can checkout a specific commit by going to the link\n",
    "\n",
    "https://github.com/ComputationalPhysiology/simcardems/commit/GIT_COMMIT_HASH\n",
    "\n",
    "where you swap out GIT_COMMIT_HASH with the specific hash, i.e"
   ]
  },
  {
   "cell_type": "code",
   "execution_count": null,
   "id": "fdde9f88",
   "metadata": {},
   "outputs": [],
   "source": [
    "for hash in all_hashes:\n",
    "    print(f\"https://github.com/ComputationalPhysiology/simcardems/commit/{hash}\")"
   ]
  },
  {
   "cell_type": "code",
   "execution_count": null,
   "id": "d24561d1",
   "metadata": {},
   "outputs": [],
   "source": [
    "data = {}\n",
    "for git_hash in all_hashes:\n",
    "    results_file = benchmark_folder / git_hash / \"results.json\"\n",
    "    if not results_file.is_file():\n",
    "        print(f\"Results does not exist for version {git_hash}\")\n",
    "        continue\n",
    "    with open(results_file, \"r\") as f:\n",
    "        data[git_hash] = json.load(f)\n",
    "        "
   ]
  },
  {
   "cell_type": "code",
   "execution_count": null,
   "id": "fc860bce",
   "metadata": {},
   "outputs": [],
   "source": [
    "results = defaultdict(list)\n",
    "\n",
    "for git_hash, d in data.items():\n",
    "    results[\"git_hash\"].append(git_hash)\n",
    "    for key, value in d.items():\n",
    "        results[key].append(value)"
   ]
  },
  {
   "cell_type": "code",
   "execution_count": null,
   "id": "78fd5db3",
   "metadata": {
    "scrolled": true
   },
   "outputs": [],
   "source": [
    "df = pd.DataFrame(results)\n",
    "df[\"timestamp\"] = pd.to_datetime(df[\"timestamp\"])\n",
    "df"
   ]
  },
  {
   "cell_type": "code",
   "execution_count": null,
   "id": "de1c5c0d",
   "metadata": {},
   "outputs": [],
   "source": [
    "df = df.sort_values(by='timestamp')\n",
    "df"
   ]
  },
  {
   "cell_type": "code",
   "execution_count": null,
   "id": "9e0166d6",
   "metadata": {},
   "outputs": [],
   "source": [
    "df[[\"simcardems_version\", \"timestamp\", \"git_hash\"]]"
   ]
  },
  {
   "cell_type": "code",
   "execution_count": null,
   "id": "84aa49a3",
   "metadata": {},
   "outputs": [],
   "source": [
    "def get_ylim(values):\n",
    "    if np.isclose(values, 0).all():\n",
    "        return (-0.01, 0.01)\n",
    "    y_mean = np.mean(values)\n",
    "    y_max = max(np.max(values), y_mean + 0.01 * abs(y_mean))\n",
    "    y_min = min(np.min(values), y_mean - 0.01 * abs(y_mean))\n",
    "    return (y_min, y_max)"
   ]
  },
  {
   "cell_type": "raw",
   "id": "0b9ec071",
   "metadata": {
    "scrolled": false
   },
   "source": [
    "\"\"\"\n",
    "fig, axs = plt.subplots(12, 4, sharex=True, figsize=(12, 30))\n",
    "for i, (biomarker, values) in enumerate(results.items()):\n",
    "    ax = axs.flatten()[i]\n",
    "    y = [x for _, x in sorted(zip(timestamps, values), key=lambda pair: pair[0])]\n",
    "    hashes_sorted = [x for _, x in sorted(zip(timestamps, hashes), key=lambda pair: pair[0])]\n",
    "    ax.plot(hashes_sorted, y)\n",
    "    ax.set_ylabel(biomarker)\n",
    "    ylim = get_ylim(values)\n",
    "    ax.set_ylim(*ylim)\n",
    "fig.tight_layout()\n",
    "plt.show()\n",
    "\"\"\""
   ]
  },
  {
   "cell_type": "code",
   "execution_count": null,
   "id": "9025f6f9",
   "metadata": {
    "scrolled": false
   },
   "outputs": [],
   "source": [
    "columns = [c for c in df.columns if c not in [\"timestamp\", \"simcardems_version\", \"git_hash\"]]\n",
    "git_hash = df[\"git_hash\"]\n",
    "versions = df[\"simcardems_version\"]\n",
    "dates = [t.date() for t in df[\"timestamp\"]]\n",
    "\n",
    "text = []\n",
    "for h,v, t in zip(git_hash, versions, dates):\n",
    "    text.append(\"\\n\".join([\n",
    "        f\"<br>Git Hash: {h}</br>\",\n",
    "        f\"<br>Version: {v}</br>\",\n",
    "        f\"<br>Timestamp {t}</br>\",\n",
    "    ]))\n",
    "    \n",
    "fig = make_subplots(rows=len(columns), cols=1, subplot_titles=columns, shared_xaxes=True)\n",
    "\n",
    "yranges = []\n",
    "for i, c in enumerate(columns):\n",
    "    \n",
    "    row = i + 1\n",
    "    col = 1\n",
    "    \n",
    "    fig.add_trace(\n",
    "        go.Scatter(x=df[\"timestamp\"], y=df[c], text=text, hovertemplate=\"%{text}\"),\n",
    "        row=row, col=col\n",
    "    )\n",
    "    fig.update_yaxes(range=get_ylim(df[c]),row=row, col=col)\n",
    "\n",
    "fig.update_layout(\n",
    "    height=5000,\n",
    "    showlegend=False\n",
    ")\n",
    "fig.show()"
   ]
  },
  {
   "cell_type": "code",
   "execution_count": null,
   "id": "33963f76",
   "metadata": {},
   "outputs": [],
   "source": []
  }
 ],
 "metadata": {
  "kernelspec": {
   "display_name": "Python 3 (ipykernel)",
   "language": "python",
   "name": "python3"
  },
  "language_info": {
   "codemirror_mode": {
    "name": "ipython",
    "version": 3
   },
   "file_extension": ".py",
   "mimetype": "text/x-python",
   "name": "python",
   "nbconvert_exporter": "python",
   "pygments_lexer": "ipython3",
   "version": "3.10.6"
  },
  "vscode": {
   "interpreter": {
    "hash": "008ae1a9ef378a188e8fa2b622d715fd7b65a63f3eb8449f558cfa85814f9757"
   }
  }
 },
 "nbformat": 4,
 "nbformat_minor": 5
}
