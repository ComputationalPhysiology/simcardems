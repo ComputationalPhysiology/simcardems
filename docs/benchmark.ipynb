{
 "cells": [
  {
   "cell_type": "markdown",
   "id": "0",
   "metadata": {},
   "source": [
    "# Benchmark\n",
    "\n",
    "Whenever we make changes to the code we will rerun a simple benchmark in order to keep track of how the simulation results might change over time. It is in general hard to verify that the equations are implemented correctly because there exist no analytic solutions to the equations. However, by running the same benchmark over time we can see if the changes we make will impact the simulation results. Here the different biomarkers are taken from traces evaluated a the center of at slab that is simulated for 1000 ms (see the benchmark in the library for more details)"
   ]
  },
  {
   "cell_type": "code",
   "execution_count": null,
   "id": "1",
   "metadata": {},
   "outputs": [],
   "source": [
    "import json\n",
    "import numpy as np\n",
    "from collections import defaultdict\n",
    "import pandas as pd\n",
    "import plotly.graph_objects as go\n",
    "from plotly.subplots import make_subplots\n",
    "import requests\n",
    "\n",
    "pd.options.display.max_columns = 5"
   ]
  },
  {
   "cell_type": "code",
   "execution_count": null,
   "id": "2",
   "metadata": {},
   "outputs": [],
   "source": [
    "headers = {\n",
    "    \"Accept\": \"application/vnd.github+json\",\n",
    "    \"X-GitHub-Api-Version\": \"2022-11-28\",\n",
    "}\n",
    "print(\"Get existing data from gist\")\n",
    "response = requests.get(\n",
    "    \"https://api.github.com/gists/73fa6531f28da2b3633a7ddaca38a7cd\",\n",
    "    headers=headers,\n",
    ")\n",
    "data = json.loads(response.json()[\"files\"][\"convergence_test.json\"][\"content\"])"
   ]
  },
  {
   "cell_type": "markdown",
   "id": "3",
   "metadata": {},
   "source": [
    "You can checkout a specific commit by going to the link\n",
    "\n",
    "https://github.com/ComputationalPhysiology/simcardems/commit/GIT_COMMIT_HASH\n",
    "\n",
    "where you swap out GIT_COMMIT_HASH with the specific hash, i.e"
   ]
  },
  {
   "cell_type": "code",
   "execution_count": null,
   "id": "4",
   "metadata": {},
   "outputs": [],
   "source": [
    "for sha in data.keys():\n",
    "    print(f\"https://github.com/ComputationalPhysiology/simcardems/commit/{sha}\")"
   ]
  },
  {
   "cell_type": "code",
   "execution_count": null,
   "id": "5",
   "metadata": {},
   "outputs": [],
   "source": [
    "len(data)"
   ]
  },
  {
   "cell_type": "code",
   "execution_count": null,
   "id": "6",
   "metadata": {},
   "outputs": [],
   "source": [
    "excluded_keys = [\"dt\", \"dx\", \"sha\", \"num_cells_mechanics\", \"num_cells_ep\", \"num_vertices_mechanics\", \"num_vertices_ep\"]\n",
    "all_results = defaultdict(list)\n",
    "for git_hash, d in data.items():\n",
    "    all_results[\"git_hash\"].append(git_hash)\n",
    "    for key, value in d.get(\"dx0.2_dt0.05\").items():\n",
    "        if key in excluded_keys:\n",
    "            continue\n",
    "        all_results[key].append(value)\n",
    "\n",
    "results = {}\n",
    "for k, v in all_results.items():\n",
    "    print(k, len(v))\n",
    "    if len(v) == len(data):\n",
    "        results[k] = v"
   ]
  },
  {
   "cell_type": "code",
   "execution_count": null,
   "id": "7",
   "metadata": {},
   "outputs": [],
   "source": [
    "df = pd.DataFrame(results)\n",
    "df[\"timestamp\"] = pd.to_datetime(df[\"timestamp\"])\n",
    "df"
   ]
  },
  {
   "cell_type": "code",
   "execution_count": null,
   "id": "8",
   "metadata": {},
   "outputs": [],
   "source": [
    "df = df.sort_values(by=\"timestamp\")\n",
    "df"
   ]
  },
  {
   "cell_type": "code",
   "execution_count": null,
   "id": "9",
   "metadata": {},
   "outputs": [],
   "source": [
    "df[[\"simcardems_version\", \"timestamp\", \"git_hash\"]]"
   ]
  },
  {
   "cell_type": "code",
   "execution_count": null,
   "id": "10",
   "metadata": {},
   "outputs": [],
   "source": [
    "def get_ylim(values):\n",
    "    if np.isclose(values, 0).all():\n",
    "        return (-0.01, 0.01)\n",
    "    y_mean = np.mean(values)\n",
    "    y_max = max(np.max(values), y_mean + 0.01 * abs(y_mean))\n",
    "    y_min = min(np.min(values), y_mean - 0.01 * abs(y_mean))\n",
    "    return (y_min, y_max)"
   ]
  },
  {
   "cell_type": "raw",
   "id": "11",
   "metadata": {},
   "source": [
    "\"\"\"\n",
    "fig, axs = plt.subplots(12, 4, sharex=True, figsize=(12, 30))\n",
    "for i, (biomarker, values) in enumerate(results.items()):\n",
    "    ax = axs.flatten()[i]\n",
    "    y = [x for _, x in sorted(zip(timestamps, values), key=lambda pair: pair[0])]\n",
    "    hashes_sorted = [x for _, x in sorted(zip(timestamps, hashes), key=lambda pair: pair[0])]\n",
    "    ax.plot(hashes_sorted, y)\n",
    "    ax.set_ylabel(biomarker)\n",
    "    ylim = get_ylim(values)\n",
    "    ax.set_ylim(*ylim)\n",
    "fig.tight_layout()\n",
    "plt.show()\n",
    "\"\"\""
   ]
  },
  {
   "cell_type": "code",
   "execution_count": null,
   "id": "12",
   "metadata": {},
   "outputs": [],
   "source": [
    "columns = [c for c in df.columns if c not in [\"timestamp\", \"simcardems_version\", \"git_hash\"]]\n",
    "git_hash = df[\"git_hash\"]\n",
    "versions = df[\"simcardems_version\"]\n",
    "dates = [t.date() for t in df[\"timestamp\"]]\n",
    "\n",
    "text = []\n",
    "for h, v, t in zip(git_hash, versions, dates):\n",
    "    text.append(\n",
    "        \"\\n\".join(\n",
    "            [\n",
    "                f\"<br>Git Hash: {h}</br>\",\n",
    "                f\"<br>Version: {v}</br>\",\n",
    "                f\"<br>Timestamp {t}</br>\",\n",
    "            ]\n",
    "        )\n",
    "    )\n",
    "\n",
    "fig = make_subplots(rows=len(columns), cols=1, subplot_titles=columns, shared_xaxes=True)\n",
    "\n",
    "yranges = []\n",
    "for i, c in enumerate(columns):\n",
    "    row = i + 1\n",
    "    col = 1\n",
    "\n",
    "    fig.add_trace(go.Scatter(x=df[\"timestamp\"], y=df[c], text=text, hovertemplate=\"%{text}\"), row=row, col=col)\n",
    "    fig.update_yaxes(range=get_ylim(df[c]), row=row, col=col)\n",
    "\n",
    "fig.update_layout(height=5000, showlegend=False)\n",
    "fig.show()"
   ]
  },
  {
   "cell_type": "code",
   "execution_count": null,
   "id": "13",
   "metadata": {},
   "outputs": [],
   "source": []
  }
 ],
 "metadata": {
  "kernelspec": {
   "display_name": "Python 3 (ipykernel)",
   "language": "python",
   "name": "python3"
  },
  "language_info": {
   "codemirror_mode": {
    "name": "ipython",
    "version": 3
   },
   "file_extension": ".py",
   "mimetype": "text/x-python",
   "name": "python",
   "nbconvert_exporter": "python",
   "pygments_lexer": "ipython3",
   "version": "3.10.6"
  },
  "vscode": {
   "interpreter": {
    "hash": "008ae1a9ef378a188e8fa2b622d715fd7b65a63f3eb8449f558cfa85814f9757"
   }
  }
 },
 "nbformat": 4,
 "nbformat_minor": 5
}
