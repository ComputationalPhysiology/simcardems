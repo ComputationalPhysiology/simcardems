{
 "cells": [
  {
   "cell_type": "markdown",
   "id": "22e7a0b1",
   "metadata": {},
   "source": [
    "# Benchmark\n",
    "\n",
    "Whenever we make changes to the code we will rerun a simple benchmark in order to keep track of how the simulation results might change over time. It is in general hard to verify that the equations are implemented correctly because there exist no analytic solutions to the equations. However, by running the same benchmark over time we can see if the changes we make will impact the simulation results. Here the different biomarkers are taken from traces evaluated a the center of at slab that is simulated for 1000 ms (see the benchmark in the library for more details)"
   ]
  },
  {
   "cell_type": "code",
   "execution_count": 1,
   "id": "826ee07a",
   "metadata": {},
   "outputs": [],
   "source": [
    "from pathlib import Path\n",
    "import json\n",
    "import matplotlib.pyplot as plt\n",
    "import numpy as np\n",
    "import datetime\n",
    "from collections import defaultdict\n",
    "import plotly\n",
    "import pandas as pd\n",
    "import plotly.graph_objects as go\n",
    "from plotly.subplots import make_subplots\n",
    "\n",
    "pd.options.display.max_columns = 5"
   ]
  },
  {
   "cell_type": "code",
   "execution_count": 2,
   "id": "e4c0580c",
   "metadata": {},
   "outputs": [],
   "source": [
    "benchmark_folder = Path(\"__file__\").absolute().parent.parent / \"benchmarks\""
   ]
  },
  {
   "cell_type": "code",
   "execution_count": 3,
   "id": "4a0087e6",
   "metadata": {},
   "outputs": [],
   "source": [
    "all_hashes = [f.name for f in benchmark_folder.iterdir()]"
   ]
  },
  {
   "cell_type": "code",
   "execution_count": 4,
   "id": "669d6d30",
   "metadata": {
    "scrolled": true
   },
   "outputs": [
    {
     "name": "stdout",
     "output_type": "stream",
     "text": [
      "['97e958d', '4cc3e7a', 'c7df02b', '0c195ff', '9d5c1b1', '32e43ff', '4d3a653', 'd5edd92', 'f63afc9', '630ed09', 'cf7cc9d']\n"
     ]
    }
   ],
   "source": [
    "print(all_hashes)"
   ]
  },
  {
   "cell_type": "markdown",
   "id": "08b632e7",
   "metadata": {},
   "source": [
    "You can checkout a specific commit by going to the link\n",
    "\n",
    "https://github.com/ComputationalPhysiology/simcardems/commit/GIT_COMMIT_HASH\n",
    "\n",
    "where you swap out GIT_COMMIT_HASH with the specific hash, i.e"
   ]
  },
  {
   "cell_type": "code",
   "execution_count": 5,
   "id": "fdde9f88",
   "metadata": {},
   "outputs": [
    {
     "name": "stdout",
     "output_type": "stream",
     "text": [
      "https://github.com/ComputationalPhysiology/simcardems/commit/97e958d\n",
      "https://github.com/ComputationalPhysiology/simcardems/commit/4cc3e7a\n",
      "https://github.com/ComputationalPhysiology/simcardems/commit/c7df02b\n",
      "https://github.com/ComputationalPhysiology/simcardems/commit/0c195ff\n",
      "https://github.com/ComputationalPhysiology/simcardems/commit/9d5c1b1\n",
      "https://github.com/ComputationalPhysiology/simcardems/commit/32e43ff\n",
      "https://github.com/ComputationalPhysiology/simcardems/commit/4d3a653\n",
      "https://github.com/ComputationalPhysiology/simcardems/commit/d5edd92\n",
      "https://github.com/ComputationalPhysiology/simcardems/commit/f63afc9\n",
      "https://github.com/ComputationalPhysiology/simcardems/commit/630ed09\n",
      "https://github.com/ComputationalPhysiology/simcardems/commit/cf7cc9d\n"
     ]
    }
   ],
   "source": [
    "for hash in all_hashes:\n",
    "    print(f\"https://github.com/ComputationalPhysiology/simcardems/commit/{hash}\")"
   ]
  },
  {
   "cell_type": "code",
   "execution_count": 6,
   "id": "d24561d1",
   "metadata": {},
   "outputs": [],
   "source": [
    "data = {}\n",
    "for git_hash in all_hashes:\n",
    "    results_file = benchmark_folder / git_hash / \"results.json\"\n",
    "    if not results_file.is_file():\n",
    "        print(f\"Results does not exist for version {git_hash}\")\n",
    "        continue\n",
    "    with open(results_file, \"r\") as f:\n",
    "        data[git_hash] = json.load(f)\n",
    "        "
   ]
  },
  {
   "cell_type": "code",
   "execution_count": 7,
   "id": "fc860bce",
   "metadata": {},
   "outputs": [],
   "source": [
    "results = defaultdict(list)\n",
    "\n",
    "for git_hash, d in data.items():\n",
    "    results[\"git_hash\"].append(git_hash)\n",
    "    for key, value in d.items():\n",
    "        results[key].append(value)"
   ]
  },
  {
   "cell_type": "code",
   "execution_count": 8,
   "id": "78fd5db3",
   "metadata": {
    "scrolled": true
   },
   "outputs": [
    {
     "data": {
      "text/html": [
       "<div>\n",
       "<style scoped>\n",
       "    .dataframe tbody tr th:only-of-type {\n",
       "        vertical-align: middle;\n",
       "    }\n",
       "\n",
       "    .dataframe tbody tr th {\n",
       "        vertical-align: top;\n",
       "    }\n",
       "\n",
       "    .dataframe thead th {\n",
       "        text-align: right;\n",
       "    }\n",
       "</style>\n",
       "<table border=\"1\" class=\"dataframe\">\n",
       "  <thead>\n",
       "    <tr style=\"text-align: right;\">\n",
       "      <th></th>\n",
       "      <th>git_hash</th>\n",
       "      <th>import_time</th>\n",
       "      <th>...</th>\n",
       "      <th>rel_max_displacement_perc_z</th>\n",
       "      <th>time_to_max_displacement_z</th>\n",
       "    </tr>\n",
       "  </thead>\n",
       "  <tbody>\n",
       "    <tr>\n",
       "      <th>0</th>\n",
       "      <td>97e958d</td>\n",
       "      <td>1.000000e-06</td>\n",
       "      <td>...</td>\n",
       "      <td>0.249432</td>\n",
       "      <td>138.05</td>\n",
       "    </tr>\n",
       "    <tr>\n",
       "      <th>1</th>\n",
       "      <td>4cc3e7a</td>\n",
       "      <td>9.010000e-07</td>\n",
       "      <td>...</td>\n",
       "      <td>0.249432</td>\n",
       "      <td>138.05</td>\n",
       "    </tr>\n",
       "    <tr>\n",
       "      <th>2</th>\n",
       "      <td>c7df02b</td>\n",
       "      <td>9.000000e-07</td>\n",
       "      <td>...</td>\n",
       "      <td>0.249432</td>\n",
       "      <td>138.05</td>\n",
       "    </tr>\n",
       "    <tr>\n",
       "      <th>3</th>\n",
       "      <td>0c195ff</td>\n",
       "      <td>1.000000e-06</td>\n",
       "      <td>...</td>\n",
       "      <td>0.249432</td>\n",
       "      <td>138.05</td>\n",
       "    </tr>\n",
       "    <tr>\n",
       "      <th>4</th>\n",
       "      <td>9d5c1b1</td>\n",
       "      <td>7.000000e-07</td>\n",
       "      <td>...</td>\n",
       "      <td>0.249432</td>\n",
       "      <td>138.05</td>\n",
       "    </tr>\n",
       "    <tr>\n",
       "      <th>5</th>\n",
       "      <td>32e43ff</td>\n",
       "      <td>1.100000e-06</td>\n",
       "      <td>...</td>\n",
       "      <td>0.249432</td>\n",
       "      <td>138.05</td>\n",
       "    </tr>\n",
       "    <tr>\n",
       "      <th>6</th>\n",
       "      <td>4d3a653</td>\n",
       "      <td>1.100000e-06</td>\n",
       "      <td>...</td>\n",
       "      <td>0.249432</td>\n",
       "      <td>138.05</td>\n",
       "    </tr>\n",
       "    <tr>\n",
       "      <th>7</th>\n",
       "      <td>d5edd92</td>\n",
       "      <td>3.330060e-07</td>\n",
       "      <td>...</td>\n",
       "      <td>0.248758</td>\n",
       "      <td>138.05</td>\n",
       "    </tr>\n",
       "    <tr>\n",
       "      <th>8</th>\n",
       "      <td>f63afc9</td>\n",
       "      <td>1.001000e-06</td>\n",
       "      <td>...</td>\n",
       "      <td>0.249432</td>\n",
       "      <td>138.05</td>\n",
       "    </tr>\n",
       "    <tr>\n",
       "      <th>9</th>\n",
       "      <td>630ed09</td>\n",
       "      <td>1.000000e-06</td>\n",
       "      <td>...</td>\n",
       "      <td>0.249432</td>\n",
       "      <td>138.05</td>\n",
       "    </tr>\n",
       "    <tr>\n",
       "      <th>10</th>\n",
       "      <td>cf7cc9d</td>\n",
       "      <td>9.000000e-07</td>\n",
       "      <td>...</td>\n",
       "      <td>0.249432</td>\n",
       "      <td>138.05</td>\n",
       "    </tr>\n",
       "  </tbody>\n",
       "</table>\n",
       "<p>11 rows × 51 columns</p>\n",
       "</div>"
      ],
      "text/plain": [
       "   git_hash   import_time  ... rel_max_displacement_perc_z  \\\n",
       "0   97e958d  1.000000e-06  ...                    0.249432   \n",
       "1   4cc3e7a  9.010000e-07  ...                    0.249432   \n",
       "2   c7df02b  9.000000e-07  ...                    0.249432   \n",
       "3   0c195ff  1.000000e-06  ...                    0.249432   \n",
       "4   9d5c1b1  7.000000e-07  ...                    0.249432   \n",
       "5   32e43ff  1.100000e-06  ...                    0.249432   \n",
       "6   4d3a653  1.100000e-06  ...                    0.249432   \n",
       "7   d5edd92  3.330060e-07  ...                    0.248758   \n",
       "8   f63afc9  1.001000e-06  ...                    0.249432   \n",
       "9   630ed09  1.000000e-06  ...                    0.249432   \n",
       "10  cf7cc9d  9.000000e-07  ...                    0.249432   \n",
       "\n",
       "   time_to_max_displacement_z  \n",
       "0                      138.05  \n",
       "1                      138.05  \n",
       "2                      138.05  \n",
       "3                      138.05  \n",
       "4                      138.05  \n",
       "5                      138.05  \n",
       "6                      138.05  \n",
       "7                      138.05  \n",
       "8                      138.05  \n",
       "9                      138.05  \n",
       "10                     138.05  \n",
       "\n",
       "[11 rows x 51 columns]"
      ]
     },
     "execution_count": 8,
     "metadata": {},
     "output_type": "execute_result"
    }
   ],
   "source": [
    "df = pd.DataFrame(results)\n",
    "df[\"timestamp\"] = pd.to_datetime(df[\"timestamp\"])\n",
    "df"
   ]
  },
  {
   "cell_type": "code",
   "execution_count": 9,
   "id": "de1c5c0d",
   "metadata": {},
   "outputs": [
    {
     "data": {
      "text/html": [
       "<div>\n",
       "<style scoped>\n",
       "    .dataframe tbody tr th:only-of-type {\n",
       "        vertical-align: middle;\n",
       "    }\n",
       "\n",
       "    .dataframe tbody tr th {\n",
       "        vertical-align: top;\n",
       "    }\n",
       "\n",
       "    .dataframe thead th {\n",
       "        text-align: right;\n",
       "    }\n",
       "</style>\n",
       "<table border=\"1\" class=\"dataframe\">\n",
       "  <thead>\n",
       "    <tr style=\"text-align: right;\">\n",
       "      <th></th>\n",
       "      <th>git_hash</th>\n",
       "      <th>import_time</th>\n",
       "      <th>...</th>\n",
       "      <th>rel_max_displacement_perc_z</th>\n",
       "      <th>time_to_max_displacement_z</th>\n",
       "    </tr>\n",
       "  </thead>\n",
       "  <tbody>\n",
       "    <tr>\n",
       "      <th>8</th>\n",
       "      <td>f63afc9</td>\n",
       "      <td>1.001000e-06</td>\n",
       "      <td>...</td>\n",
       "      <td>0.249432</td>\n",
       "      <td>138.05</td>\n",
       "    </tr>\n",
       "    <tr>\n",
       "      <th>9</th>\n",
       "      <td>630ed09</td>\n",
       "      <td>1.000000e-06</td>\n",
       "      <td>...</td>\n",
       "      <td>0.249432</td>\n",
       "      <td>138.05</td>\n",
       "    </tr>\n",
       "    <tr>\n",
       "      <th>6</th>\n",
       "      <td>4d3a653</td>\n",
       "      <td>1.100000e-06</td>\n",
       "      <td>...</td>\n",
       "      <td>0.249432</td>\n",
       "      <td>138.05</td>\n",
       "    </tr>\n",
       "    <tr>\n",
       "      <th>3</th>\n",
       "      <td>0c195ff</td>\n",
       "      <td>1.000000e-06</td>\n",
       "      <td>...</td>\n",
       "      <td>0.249432</td>\n",
       "      <td>138.05</td>\n",
       "    </tr>\n",
       "    <tr>\n",
       "      <th>2</th>\n",
       "      <td>c7df02b</td>\n",
       "      <td>9.000000e-07</td>\n",
       "      <td>...</td>\n",
       "      <td>0.249432</td>\n",
       "      <td>138.05</td>\n",
       "    </tr>\n",
       "    <tr>\n",
       "      <th>10</th>\n",
       "      <td>cf7cc9d</td>\n",
       "      <td>9.000000e-07</td>\n",
       "      <td>...</td>\n",
       "      <td>0.249432</td>\n",
       "      <td>138.05</td>\n",
       "    </tr>\n",
       "    <tr>\n",
       "      <th>7</th>\n",
       "      <td>d5edd92</td>\n",
       "      <td>3.330060e-07</td>\n",
       "      <td>...</td>\n",
       "      <td>0.248758</td>\n",
       "      <td>138.05</td>\n",
       "    </tr>\n",
       "    <tr>\n",
       "      <th>1</th>\n",
       "      <td>4cc3e7a</td>\n",
       "      <td>9.010000e-07</td>\n",
       "      <td>...</td>\n",
       "      <td>0.249432</td>\n",
       "      <td>138.05</td>\n",
       "    </tr>\n",
       "    <tr>\n",
       "      <th>5</th>\n",
       "      <td>32e43ff</td>\n",
       "      <td>1.100000e-06</td>\n",
       "      <td>...</td>\n",
       "      <td>0.249432</td>\n",
       "      <td>138.05</td>\n",
       "    </tr>\n",
       "    <tr>\n",
       "      <th>0</th>\n",
       "      <td>97e958d</td>\n",
       "      <td>1.000000e-06</td>\n",
       "      <td>...</td>\n",
       "      <td>0.249432</td>\n",
       "      <td>138.05</td>\n",
       "    </tr>\n",
       "    <tr>\n",
       "      <th>4</th>\n",
       "      <td>9d5c1b1</td>\n",
       "      <td>7.000000e-07</td>\n",
       "      <td>...</td>\n",
       "      <td>0.249432</td>\n",
       "      <td>138.05</td>\n",
       "    </tr>\n",
       "  </tbody>\n",
       "</table>\n",
       "<p>11 rows × 51 columns</p>\n",
       "</div>"
      ],
      "text/plain": [
       "   git_hash   import_time  ... rel_max_displacement_perc_z  \\\n",
       "8   f63afc9  1.001000e-06  ...                    0.249432   \n",
       "9   630ed09  1.000000e-06  ...                    0.249432   \n",
       "6   4d3a653  1.100000e-06  ...                    0.249432   \n",
       "3   0c195ff  1.000000e-06  ...                    0.249432   \n",
       "2   c7df02b  9.000000e-07  ...                    0.249432   \n",
       "10  cf7cc9d  9.000000e-07  ...                    0.249432   \n",
       "7   d5edd92  3.330060e-07  ...                    0.248758   \n",
       "1   4cc3e7a  9.010000e-07  ...                    0.249432   \n",
       "5   32e43ff  1.100000e-06  ...                    0.249432   \n",
       "0   97e958d  1.000000e-06  ...                    0.249432   \n",
       "4   9d5c1b1  7.000000e-07  ...                    0.249432   \n",
       "\n",
       "   time_to_max_displacement_z  \n",
       "8                      138.05  \n",
       "9                      138.05  \n",
       "6                      138.05  \n",
       "3                      138.05  \n",
       "2                      138.05  \n",
       "10                     138.05  \n",
       "7                      138.05  \n",
       "1                      138.05  \n",
       "5                      138.05  \n",
       "0                      138.05  \n",
       "4                      138.05  \n",
       "\n",
       "[11 rows x 51 columns]"
      ]
     },
     "execution_count": 9,
     "metadata": {},
     "output_type": "execute_result"
    }
   ],
   "source": [
    "df = df.sort_values(by='timestamp')\n",
    "df"
   ]
  },
  {
   "cell_type": "code",
   "execution_count": 10,
   "id": "9e0166d6",
   "metadata": {},
   "outputs": [
    {
     "data": {
      "text/html": [
       "<div>\n",
       "<style scoped>\n",
       "    .dataframe tbody tr th:only-of-type {\n",
       "        vertical-align: middle;\n",
       "    }\n",
       "\n",
       "    .dataframe tbody tr th {\n",
       "        vertical-align: top;\n",
       "    }\n",
       "\n",
       "    .dataframe thead th {\n",
       "        text-align: right;\n",
       "    }\n",
       "</style>\n",
       "<table border=\"1\" class=\"dataframe\">\n",
       "  <thead>\n",
       "    <tr style=\"text-align: right;\">\n",
       "      <th></th>\n",
       "      <th>simcardems_version</th>\n",
       "      <th>timestamp</th>\n",
       "      <th>git_hash</th>\n",
       "    </tr>\n",
       "  </thead>\n",
       "  <tbody>\n",
       "    <tr>\n",
       "      <th>8</th>\n",
       "      <td>2022.3.0</td>\n",
       "      <td>2022-10-06 16:25:06.830650</td>\n",
       "      <td>f63afc9</td>\n",
       "    </tr>\n",
       "    <tr>\n",
       "      <th>9</th>\n",
       "      <td>2022.3.0</td>\n",
       "      <td>2022-10-06 16:55:04.711879</td>\n",
       "      <td>630ed09</td>\n",
       "    </tr>\n",
       "    <tr>\n",
       "      <th>6</th>\n",
       "      <td>2022.3.0</td>\n",
       "      <td>2022-10-06 20:09:07.230901</td>\n",
       "      <td>4d3a653</td>\n",
       "    </tr>\n",
       "    <tr>\n",
       "      <th>3</th>\n",
       "      <td>2022.3.0</td>\n",
       "      <td>2022-10-06 20:19:12.227464</td>\n",
       "      <td>0c195ff</td>\n",
       "    </tr>\n",
       "    <tr>\n",
       "      <th>2</th>\n",
       "      <td>2022.3.0</td>\n",
       "      <td>2022-10-06 20:28:25.015389</td>\n",
       "      <td>c7df02b</td>\n",
       "    </tr>\n",
       "    <tr>\n",
       "      <th>10</th>\n",
       "      <td>2022.3.0</td>\n",
       "      <td>2022-10-06 20:32:00.361561</td>\n",
       "      <td>cf7cc9d</td>\n",
       "    </tr>\n",
       "    <tr>\n",
       "      <th>7</th>\n",
       "      <td>2022.3.0</td>\n",
       "      <td>2022-10-07 06:42:09.101000</td>\n",
       "      <td>d5edd92</td>\n",
       "    </tr>\n",
       "    <tr>\n",
       "      <th>1</th>\n",
       "      <td>2022.3.2</td>\n",
       "      <td>2022-10-08 14:41:25.865697</td>\n",
       "      <td>4cc3e7a</td>\n",
       "    </tr>\n",
       "    <tr>\n",
       "      <th>5</th>\n",
       "      <td>2022.3.2</td>\n",
       "      <td>2022-10-10 12:41:20.983687</td>\n",
       "      <td>32e43ff</td>\n",
       "    </tr>\n",
       "    <tr>\n",
       "      <th>0</th>\n",
       "      <td>2022.3.2</td>\n",
       "      <td>2022-10-13 12:51:05.688471</td>\n",
       "      <td>97e958d</td>\n",
       "    </tr>\n",
       "    <tr>\n",
       "      <th>4</th>\n",
       "      <td>2022.3.2</td>\n",
       "      <td>2022-10-13 13:02:10.785172</td>\n",
       "      <td>9d5c1b1</td>\n",
       "    </tr>\n",
       "  </tbody>\n",
       "</table>\n",
       "</div>"
      ],
      "text/plain": [
       "   simcardems_version                  timestamp git_hash\n",
       "8            2022.3.0 2022-10-06 16:25:06.830650  f63afc9\n",
       "9            2022.3.0 2022-10-06 16:55:04.711879  630ed09\n",
       "6            2022.3.0 2022-10-06 20:09:07.230901  4d3a653\n",
       "3            2022.3.0 2022-10-06 20:19:12.227464  0c195ff\n",
       "2            2022.3.0 2022-10-06 20:28:25.015389  c7df02b\n",
       "10           2022.3.0 2022-10-06 20:32:00.361561  cf7cc9d\n",
       "7            2022.3.0 2022-10-07 06:42:09.101000  d5edd92\n",
       "1            2022.3.2 2022-10-08 14:41:25.865697  4cc3e7a\n",
       "5            2022.3.2 2022-10-10 12:41:20.983687  32e43ff\n",
       "0            2022.3.2 2022-10-13 12:51:05.688471  97e958d\n",
       "4            2022.3.2 2022-10-13 13:02:10.785172  9d5c1b1"
      ]
     },
     "execution_count": 10,
     "metadata": {},
     "output_type": "execute_result"
    }
   ],
   "source": [
    "df[[\"simcardems_version\", \"timestamp\", \"git_hash\"]]"
   ]
  },
  {
   "cell_type": "code",
   "execution_count": 13,
   "id": "84aa49a3",
   "metadata": {},
   "outputs": [],
   "source": [
    "def get_ylim(values):\n",
    "    if np.isclose(values, 0).all():\n",
    "        return (-0.01, 0.01)\n",
    "    y_mean = np.mean(values)\n",
    "    y_max = max(np.max(values), y_mean + 0.01 * abs(y_mean))\n",
    "    y_min = min(np.min(values), y_mean - 0.01 * abs(y_mean))\n",
    "    return (y_min, y_max)"
   ]
  },
  {
   "cell_type": "raw",
   "id": "0b9ec071",
   "metadata": {
    "scrolled": false
   },
   "source": [
    "def get_ylim(values):\n",
    "    if np.isclose(values, 0).all():\n",
    "        return (-0.01, 0.01)\n",
    "    y_mean = np.mean(values)\n",
    "    y_max = max(np.max(values), y_mean + 0.01 * abs(y_mean))\n",
    "    y_min = min(np.min(values), y_mean - 0.01 * abs(y_mean))\n",
    "    return (y_min, y_max)\n",
    "\n",
    "\n",
    "fig, axs = plt.subplots(12, 4, sharex=True, figsize=(12, 30))\n",
    "for i, (biomarker, values) in enumerate(results.items()):\n",
    "    ax = axs.flatten()[i]\n",
    "    y = [x for _, x in sorted(zip(timestamps, values), key=lambda pair: pair[0])]\n",
    "    hashes_sorted = [x for _, x in sorted(zip(timestamps, hashes), key=lambda pair: pair[0])]\n",
    "    ax.plot(hashes_sorted, y)\n",
    "    ax.set_ylabel(biomarker)\n",
    "    ylim = get_ylim(values)\n",
    "    ax.set_ylim(*ylim)\n",
    "fig.tight_layout()\n",
    "plt.show()"
   ]
  },
  {
   "cell_type": "code",
   "execution_count": 12,
   "id": "9025f6f9",
   "metadata": {
    "scrolled": false
   },
   "outputs": [
    {
     "data": {
      "application/vnd.plotly.v1+json": {
       "config": {
        "plotlyServerURL": "https://plot.ly"
       },
       "data": [
        {
         "hovertemplate": "%{text}",
         "text": [
          "<br>Git Hash: f63afc9</br>\n<br>Version: 2022.3.0</br>\n<br>Timestamp 2022-10-06</br>",
          "<br>Git Hash: 630ed09</br>\n<br>Version: 2022.3.0</br>\n<br>Timestamp 2022-10-06</br>",
          "<br>Git Hash: 4d3a653</br>\n<br>Version: 2022.3.0</br>\n<br>Timestamp 2022-10-06</br>",
          "<br>Git Hash: 0c195ff</br>\n<br>Version: 2022.3.0</br>\n<br>Timestamp 2022-10-06</br>",
          "<br>Git Hash: c7df02b</br>\n<br>Version: 2022.3.0</br>\n<br>Timestamp 2022-10-06</br>",
          "<br>Git Hash: cf7cc9d</br>\n<br>Version: 2022.3.0</br>\n<br>Timestamp 2022-10-06</br>",
          "<br>Git Hash: d5edd92</br>\n<br>Version: 2022.3.0</br>\n<br>Timestamp 2022-10-07</br>",
          "<br>Git Hash: 4cc3e7a</br>\n<br>Version: 2022.3.2</br>\n<br>Timestamp 2022-10-08</br>",
          "<br>Git Hash: 32e43ff</br>\n<br>Version: 2022.3.2</br>\n<br>Timestamp 2022-10-10</br>",
          "<br>Git Hash: 97e958d</br>\n<br>Version: 2022.3.2</br>\n<br>Timestamp 2022-10-13</br>",
          "<br>Git Hash: 9d5c1b1</br>\n<br>Version: 2022.3.2</br>\n<br>Timestamp 2022-10-13</br>"
         ],
         "type": "scatter",
         "x": [
          "2022-10-06T16:25:06.830650",
          "2022-10-06T16:55:04.711879",
          "2022-10-06T20:09:07.230901",
          "2022-10-06T20:19:12.227464",
          "2022-10-06T20:28:25.015389",
          "2022-10-06T20:32:00.361561",
          "2022-10-07T06:42:09.101000",
          "2022-10-08T14:41:25.865697",
          "2022-10-10T12:41:20.983687",
          "2022-10-13T12:51:05.688471",
          "2022-10-13T13:02:10.785172"
         ],
         "xaxis": "x",
         "y": [
          0.000001000999986899842,
          9.999999974752427e-7,
          0.000001099999991538425,
          0.0000010000000116860974,
          9.000000034120603e-7,
          9.000000318337698e-7,
          3.3300602808594704e-7,
          9.010000070475144e-7,
          0.000001099999991538425,
          9.999999974752427e-7,
          6.999999868639861e-7
         ],
         "yaxis": "y"
        },
        {
         "hovertemplate": "%{text}",
         "text": [
          "<br>Git Hash: f63afc9</br>\n<br>Version: 2022.3.0</br>\n<br>Timestamp 2022-10-06</br>",
          "<br>Git Hash: 630ed09</br>\n<br>Version: 2022.3.0</br>\n<br>Timestamp 2022-10-06</br>",
          "<br>Git Hash: 4d3a653</br>\n<br>Version: 2022.3.0</br>\n<br>Timestamp 2022-10-06</br>",
          "<br>Git Hash: 0c195ff</br>\n<br>Version: 2022.3.0</br>\n<br>Timestamp 2022-10-06</br>",
          "<br>Git Hash: c7df02b</br>\n<br>Version: 2022.3.0</br>\n<br>Timestamp 2022-10-06</br>",
          "<br>Git Hash: cf7cc9d</br>\n<br>Version: 2022.3.0</br>\n<br>Timestamp 2022-10-06</br>",
          "<br>Git Hash: d5edd92</br>\n<br>Version: 2022.3.0</br>\n<br>Timestamp 2022-10-07</br>",
          "<br>Git Hash: 4cc3e7a</br>\n<br>Version: 2022.3.2</br>\n<br>Timestamp 2022-10-08</br>",
          "<br>Git Hash: 32e43ff</br>\n<br>Version: 2022.3.2</br>\n<br>Timestamp 2022-10-10</br>",
          "<br>Git Hash: 97e958d</br>\n<br>Version: 2022.3.2</br>\n<br>Timestamp 2022-10-13</br>",
          "<br>Git Hash: 9d5c1b1</br>\n<br>Version: 2022.3.2</br>\n<br>Timestamp 2022-10-13</br>"
         ],
         "type": "scatter",
         "x": [
          "2022-10-06T16:25:06.830650",
          "2022-10-06T16:55:04.711879",
          "2022-10-06T20:09:07.230901",
          "2022-10-06T20:19:12.227464",
          "2022-10-06T20:28:25.015389",
          "2022-10-06T20:32:00.361561",
          "2022-10-07T06:42:09.101000",
          "2022-10-08T14:41:25.865697",
          "2022-10-10T12:41:20.983687",
          "2022-10-13T12:51:05.688471",
          "2022-10-13T13:02:10.785172"
         ],
         "xaxis": "x2",
         "y": [
          237.72060754399996,
          280.511199926,
          205.28919836600002,
          211.102322273,
          194.20649079600003,
          206.29599876099996,
          10.719169295989559,
          245.18833873299997,
          227.33893907899997,
          285.081154867,
          197.93529506
         ],
         "yaxis": "y2"
        },
        {
         "hovertemplate": "%{text}",
         "text": [
          "<br>Git Hash: f63afc9</br>\n<br>Version: 2022.3.0</br>\n<br>Timestamp 2022-10-06</br>",
          "<br>Git Hash: 630ed09</br>\n<br>Version: 2022.3.0</br>\n<br>Timestamp 2022-10-06</br>",
          "<br>Git Hash: 4d3a653</br>\n<br>Version: 2022.3.0</br>\n<br>Timestamp 2022-10-06</br>",
          "<br>Git Hash: 0c195ff</br>\n<br>Version: 2022.3.0</br>\n<br>Timestamp 2022-10-06</br>",
          "<br>Git Hash: c7df02b</br>\n<br>Version: 2022.3.0</br>\n<br>Timestamp 2022-10-06</br>",
          "<br>Git Hash: cf7cc9d</br>\n<br>Version: 2022.3.0</br>\n<br>Timestamp 2022-10-06</br>",
          "<br>Git Hash: d5edd92</br>\n<br>Version: 2022.3.0</br>\n<br>Timestamp 2022-10-07</br>",
          "<br>Git Hash: 4cc3e7a</br>\n<br>Version: 2022.3.2</br>\n<br>Timestamp 2022-10-08</br>",
          "<br>Git Hash: 32e43ff</br>\n<br>Version: 2022.3.2</br>\n<br>Timestamp 2022-10-10</br>",
          "<br>Git Hash: 97e958d</br>\n<br>Version: 2022.3.2</br>\n<br>Timestamp 2022-10-13</br>",
          "<br>Git Hash: 9d5c1b1</br>\n<br>Version: 2022.3.2</br>\n<br>Timestamp 2022-10-13</br>"
         ],
         "type": "scatter",
         "x": [
          "2022-10-06T16:25:06.830650",
          "2022-10-06T16:55:04.711879",
          "2022-10-06T20:09:07.230901",
          "2022-10-06T20:19:12.227464",
          "2022-10-06T20:28:25.015389",
          "2022-10-06T20:32:00.361561",
          "2022-10-07T06:42:09.101000",
          "2022-10-08T14:41:25.865697",
          "2022-10-10T12:41:20.983687",
          "2022-10-13T12:51:05.688471",
          "2022-10-13T13:02:10.785172"
         ],
         "xaxis": "x3",
         "y": [
          854.584107336,
          1019.0386541959999,
          784.2204011899998,
          755.6224281130001,
          727.7660012839999,
          745.8511080440001,
          3198.3458278310136,
          897.3022100499999,
          849.657648893,
          973.2779867489999,
          729.6984719669999
         ],
         "yaxis": "y3"
        },
        {
         "hovertemplate": "%{text}",
         "text": [
          "<br>Git Hash: f63afc9</br>\n<br>Version: 2022.3.0</br>\n<br>Timestamp 2022-10-06</br>",
          "<br>Git Hash: 630ed09</br>\n<br>Version: 2022.3.0</br>\n<br>Timestamp 2022-10-06</br>",
          "<br>Git Hash: 4d3a653</br>\n<br>Version: 2022.3.0</br>\n<br>Timestamp 2022-10-06</br>",
          "<br>Git Hash: 0c195ff</br>\n<br>Version: 2022.3.0</br>\n<br>Timestamp 2022-10-06</br>",
          "<br>Git Hash: c7df02b</br>\n<br>Version: 2022.3.0</br>\n<br>Timestamp 2022-10-06</br>",
          "<br>Git Hash: cf7cc9d</br>\n<br>Version: 2022.3.0</br>\n<br>Timestamp 2022-10-06</br>",
          "<br>Git Hash: d5edd92</br>\n<br>Version: 2022.3.0</br>\n<br>Timestamp 2022-10-07</br>",
          "<br>Git Hash: 4cc3e7a</br>\n<br>Version: 2022.3.2</br>\n<br>Timestamp 2022-10-08</br>",
          "<br>Git Hash: 32e43ff</br>\n<br>Version: 2022.3.2</br>\n<br>Timestamp 2022-10-10</br>",
          "<br>Git Hash: 97e958d</br>\n<br>Version: 2022.3.2</br>\n<br>Timestamp 2022-10-13</br>",
          "<br>Git Hash: 9d5c1b1</br>\n<br>Version: 2022.3.2</br>\n<br>Timestamp 2022-10-13</br>"
         ],
         "type": "scatter",
         "x": [
          "2022-10-06T16:25:06.830650",
          "2022-10-06T16:55:04.711879",
          "2022-10-06T20:09:07.230901",
          "2022-10-06T20:19:12.227464",
          "2022-10-06T20:28:25.015389",
          "2022-10-06T20:32:00.361561",
          "2022-10-07T06:42:09.101000",
          "2022-10-08T14:41:25.865697",
          "2022-10-10T12:41:20.983687",
          "2022-10-13T12:51:05.688471",
          "2022-10-13T13:02:10.785172"
         ],
         "xaxis": "x4",
         "y": [
          1.1546205652084225,
          1.1546205651723276,
          1.1546205652084225,
          1.1546205652084225,
          1.1546205652718498,
          1.1546205652084225,
          1.1487629440161966,
          1.1546205651723276,
          1.1546205652084225,
          1.1546205651723276,
          1.1546205652718498
         ],
         "yaxis": "y4"
        },
        {
         "hovertemplate": "%{text}",
         "text": [
          "<br>Git Hash: f63afc9</br>\n<br>Version: 2022.3.0</br>\n<br>Timestamp 2022-10-06</br>",
          "<br>Git Hash: 630ed09</br>\n<br>Version: 2022.3.0</br>\n<br>Timestamp 2022-10-06</br>",
          "<br>Git Hash: 4d3a653</br>\n<br>Version: 2022.3.0</br>\n<br>Timestamp 2022-10-06</br>",
          "<br>Git Hash: 0c195ff</br>\n<br>Version: 2022.3.0</br>\n<br>Timestamp 2022-10-06</br>",
          "<br>Git Hash: c7df02b</br>\n<br>Version: 2022.3.0</br>\n<br>Timestamp 2022-10-06</br>",
          "<br>Git Hash: cf7cc9d</br>\n<br>Version: 2022.3.0</br>\n<br>Timestamp 2022-10-06</br>",
          "<br>Git Hash: d5edd92</br>\n<br>Version: 2022.3.0</br>\n<br>Timestamp 2022-10-07</br>",
          "<br>Git Hash: 4cc3e7a</br>\n<br>Version: 2022.3.2</br>\n<br>Timestamp 2022-10-08</br>",
          "<br>Git Hash: 32e43ff</br>\n<br>Version: 2022.3.2</br>\n<br>Timestamp 2022-10-10</br>",
          "<br>Git Hash: 97e958d</br>\n<br>Version: 2022.3.2</br>\n<br>Timestamp 2022-10-13</br>",
          "<br>Git Hash: 9d5c1b1</br>\n<br>Version: 2022.3.2</br>\n<br>Timestamp 2022-10-13</br>"
         ],
         "type": "scatter",
         "x": [
          "2022-10-06T16:25:06.830650",
          "2022-10-06T16:55:04.711879",
          "2022-10-06T20:09:07.230901",
          "2022-10-06T20:19:12.227464",
          "2022-10-06T20:28:25.015389",
          "2022-10-06T20:32:00.361561",
          "2022-10-07T06:42:09.101000",
          "2022-10-08T14:41:25.865697",
          "2022-10-10T12:41:20.983687",
          "2022-10-13T12:51:05.688471",
          "2022-10-13T13:02:10.785172"
         ],
         "xaxis": "x5",
         "y": [
          1.1546205652084225,
          1.1546205651723276,
          1.1546205652084225,
          1.1546205652084225,
          1.1546205652718498,
          1.1546205652084225,
          1.1487629440161966,
          1.1546205651723276,
          1.1546205652084225,
          1.1546205651723276,
          1.1546205652718498
         ],
         "yaxis": "y5"
        },
        {
         "hovertemplate": "%{text}",
         "text": [
          "<br>Git Hash: f63afc9</br>\n<br>Version: 2022.3.0</br>\n<br>Timestamp 2022-10-06</br>",
          "<br>Git Hash: 630ed09</br>\n<br>Version: 2022.3.0</br>\n<br>Timestamp 2022-10-06</br>",
          "<br>Git Hash: 4d3a653</br>\n<br>Version: 2022.3.0</br>\n<br>Timestamp 2022-10-06</br>",
          "<br>Git Hash: 0c195ff</br>\n<br>Version: 2022.3.0</br>\n<br>Timestamp 2022-10-06</br>",
          "<br>Git Hash: c7df02b</br>\n<br>Version: 2022.3.0</br>\n<br>Timestamp 2022-10-06</br>",
          "<br>Git Hash: cf7cc9d</br>\n<br>Version: 2022.3.0</br>\n<br>Timestamp 2022-10-06</br>",
          "<br>Git Hash: d5edd92</br>\n<br>Version: 2022.3.0</br>\n<br>Timestamp 2022-10-07</br>",
          "<br>Git Hash: 4cc3e7a</br>\n<br>Version: 2022.3.2</br>\n<br>Timestamp 2022-10-08</br>",
          "<br>Git Hash: 32e43ff</br>\n<br>Version: 2022.3.2</br>\n<br>Timestamp 2022-10-10</br>",
          "<br>Git Hash: 97e958d</br>\n<br>Version: 2022.3.2</br>\n<br>Timestamp 2022-10-13</br>",
          "<br>Git Hash: 9d5c1b1</br>\n<br>Version: 2022.3.2</br>\n<br>Timestamp 2022-10-13</br>"
         ],
         "type": "scatter",
         "x": [
          "2022-10-06T16:25:06.830650",
          "2022-10-06T16:55:04.711879",
          "2022-10-06T20:09:07.230901",
          "2022-10-06T20:19:12.227464",
          "2022-10-06T20:28:25.015389",
          "2022-10-06T20:32:00.361561",
          "2022-10-07T06:42:09.101000",
          "2022-10-08T14:41:25.865697",
          "2022-10-10T12:41:20.983687",
          "2022-10-13T12:51:05.688471",
          "2022-10-13T13:02:10.785172"
         ],
         "xaxis": "x6",
         "y": [
          238.84791692384508,
          238.8479169232194,
          238.84791692384508,
          238.84791692384508,
          238.8479169249071,
          238.84791692384508,
          238.85080654197216,
          238.8479169232194,
          238.84791692384508,
          238.8479169232194,
          238.8479169249071
         ],
         "yaxis": "y6"
        },
        {
         "hovertemplate": "%{text}",
         "text": [
          "<br>Git Hash: f63afc9</br>\n<br>Version: 2022.3.0</br>\n<br>Timestamp 2022-10-06</br>",
          "<br>Git Hash: 630ed09</br>\n<br>Version: 2022.3.0</br>\n<br>Timestamp 2022-10-06</br>",
          "<br>Git Hash: 4d3a653</br>\n<br>Version: 2022.3.0</br>\n<br>Timestamp 2022-10-06</br>",
          "<br>Git Hash: 0c195ff</br>\n<br>Version: 2022.3.0</br>\n<br>Timestamp 2022-10-06</br>",
          "<br>Git Hash: c7df02b</br>\n<br>Version: 2022.3.0</br>\n<br>Timestamp 2022-10-06</br>",
          "<br>Git Hash: cf7cc9d</br>\n<br>Version: 2022.3.0</br>\n<br>Timestamp 2022-10-06</br>",
          "<br>Git Hash: d5edd92</br>\n<br>Version: 2022.3.0</br>\n<br>Timestamp 2022-10-07</br>",
          "<br>Git Hash: 4cc3e7a</br>\n<br>Version: 2022.3.2</br>\n<br>Timestamp 2022-10-08</br>",
          "<br>Git Hash: 32e43ff</br>\n<br>Version: 2022.3.2</br>\n<br>Timestamp 2022-10-10</br>",
          "<br>Git Hash: 97e958d</br>\n<br>Version: 2022.3.2</br>\n<br>Timestamp 2022-10-13</br>",
          "<br>Git Hash: 9d5c1b1</br>\n<br>Version: 2022.3.2</br>\n<br>Timestamp 2022-10-13</br>"
         ],
         "type": "scatter",
         "x": [
          "2022-10-06T16:25:06.830650",
          "2022-10-06T16:55:04.711879",
          "2022-10-06T20:09:07.230901",
          "2022-10-06T20:19:12.227464",
          "2022-10-06T20:28:25.015389",
          "2022-10-06T20:32:00.361561",
          "2022-10-07T06:42:09.101000",
          "2022-10-08T14:41:25.865697",
          "2022-10-10T12:41:20.983687",
          "2022-10-13T12:51:05.688471",
          "2022-10-13T13:02:10.785172"
         ],
         "xaxis": "x7",
         "y": [
          265.3749523951641,
          265.3749523948589,
          265.3749523951641,
          265.3749523951641,
          265.37495239568193,
          265.3749523951641,
          265.377777651946,
          265.3749523948589,
          265.3749523951641,
          265.3749523948589,
          265.37495239568193
         ],
         "yaxis": "y7"
        },
        {
         "hovertemplate": "%{text}",
         "text": [
          "<br>Git Hash: f63afc9</br>\n<br>Version: 2022.3.0</br>\n<br>Timestamp 2022-10-06</br>",
          "<br>Git Hash: 630ed09</br>\n<br>Version: 2022.3.0</br>\n<br>Timestamp 2022-10-06</br>",
          "<br>Git Hash: 4d3a653</br>\n<br>Version: 2022.3.0</br>\n<br>Timestamp 2022-10-06</br>",
          "<br>Git Hash: 0c195ff</br>\n<br>Version: 2022.3.0</br>\n<br>Timestamp 2022-10-06</br>",
          "<br>Git Hash: c7df02b</br>\n<br>Version: 2022.3.0</br>\n<br>Timestamp 2022-10-06</br>",
          "<br>Git Hash: cf7cc9d</br>\n<br>Version: 2022.3.0</br>\n<br>Timestamp 2022-10-06</br>",
          "<br>Git Hash: d5edd92</br>\n<br>Version: 2022.3.0</br>\n<br>Timestamp 2022-10-07</br>",
          "<br>Git Hash: 4cc3e7a</br>\n<br>Version: 2022.3.2</br>\n<br>Timestamp 2022-10-08</br>",
          "<br>Git Hash: 32e43ff</br>\n<br>Version: 2022.3.2</br>\n<br>Timestamp 2022-10-10</br>",
          "<br>Git Hash: 97e958d</br>\n<br>Version: 2022.3.2</br>\n<br>Timestamp 2022-10-13</br>",
          "<br>Git Hash: 9d5c1b1</br>\n<br>Version: 2022.3.2</br>\n<br>Timestamp 2022-10-13</br>"
         ],
         "type": "scatter",
         "x": [
          "2022-10-06T16:25:06.830650",
          "2022-10-06T16:55:04.711879",
          "2022-10-06T20:09:07.230901",
          "2022-10-06T20:19:12.227464",
          "2022-10-06T20:28:25.015389",
          "2022-10-06T20:32:00.361561",
          "2022-10-07T06:42:09.101000",
          "2022-10-08T14:41:25.865697",
          "2022-10-10T12:41:20.983687",
          "2022-10-13T12:51:05.688471",
          "2022-10-13T13:02:10.785172"
         ],
         "xaxis": "x8",
         "y": [
          332.31538434295345,
          332.31538434315195,
          332.31538434295345,
          332.31538434295345,
          332.31538434263393,
          332.31538434295345,
          332.3187683730866,
          332.31538434315195,
          332.31538434295345,
          332.31538434315195,
          332.31538434263393
         ],
         "yaxis": "y8"
        },
        {
         "hovertemplate": "%{text}",
         "text": [
          "<br>Git Hash: f63afc9</br>\n<br>Version: 2022.3.0</br>\n<br>Timestamp 2022-10-06</br>",
          "<br>Git Hash: 630ed09</br>\n<br>Version: 2022.3.0</br>\n<br>Timestamp 2022-10-06</br>",
          "<br>Git Hash: 4d3a653</br>\n<br>Version: 2022.3.0</br>\n<br>Timestamp 2022-10-06</br>",
          "<br>Git Hash: 0c195ff</br>\n<br>Version: 2022.3.0</br>\n<br>Timestamp 2022-10-06</br>",
          "<br>Git Hash: c7df02b</br>\n<br>Version: 2022.3.0</br>\n<br>Timestamp 2022-10-06</br>",
          "<br>Git Hash: cf7cc9d</br>\n<br>Version: 2022.3.0</br>\n<br>Timestamp 2022-10-06</br>",
          "<br>Git Hash: d5edd92</br>\n<br>Version: 2022.3.0</br>\n<br>Timestamp 2022-10-07</br>",
          "<br>Git Hash: 4cc3e7a</br>\n<br>Version: 2022.3.2</br>\n<br>Timestamp 2022-10-08</br>",
          "<br>Git Hash: 32e43ff</br>\n<br>Version: 2022.3.2</br>\n<br>Timestamp 2022-10-10</br>",
          "<br>Git Hash: 97e958d</br>\n<br>Version: 2022.3.2</br>\n<br>Timestamp 2022-10-13</br>",
          "<br>Git Hash: 9d5c1b1</br>\n<br>Version: 2022.3.2</br>\n<br>Timestamp 2022-10-13</br>"
         ],
         "type": "scatter",
         "x": [
          "2022-10-06T16:25:06.830650",
          "2022-10-06T16:55:04.711879",
          "2022-10-06T20:09:07.230901",
          "2022-10-06T20:19:12.227464",
          "2022-10-06T20:28:25.015389",
          "2022-10-06T20:32:00.361561",
          "2022-10-07T06:42:09.101000",
          "2022-10-08T14:41:25.865697",
          "2022-10-10T12:41:20.983687",
          "2022-10-13T12:51:05.688471",
          "2022-10-13T13:02:10.785172"
         ],
         "xaxis": "x9",
         "y": [
          93.46746741910837,
          93.46746741993255,
          93.46746741910837,
          93.46746741910837,
          93.46746741772682,
          93.46746741910837,
          93.46796183111442,
          93.46746741993255,
          93.46746741910837,
          93.46746741993255,
          93.46746741772682
         ],
         "yaxis": "y9"
        },
        {
         "hovertemplate": "%{text}",
         "text": [
          "<br>Git Hash: f63afc9</br>\n<br>Version: 2022.3.0</br>\n<br>Timestamp 2022-10-06</br>",
          "<br>Git Hash: 630ed09</br>\n<br>Version: 2022.3.0</br>\n<br>Timestamp 2022-10-06</br>",
          "<br>Git Hash: 4d3a653</br>\n<br>Version: 2022.3.0</br>\n<br>Timestamp 2022-10-06</br>",
          "<br>Git Hash: 0c195ff</br>\n<br>Version: 2022.3.0</br>\n<br>Timestamp 2022-10-06</br>",
          "<br>Git Hash: c7df02b</br>\n<br>Version: 2022.3.0</br>\n<br>Timestamp 2022-10-06</br>",
          "<br>Git Hash: cf7cc9d</br>\n<br>Version: 2022.3.0</br>\n<br>Timestamp 2022-10-06</br>",
          "<br>Git Hash: d5edd92</br>\n<br>Version: 2022.3.0</br>\n<br>Timestamp 2022-10-07</br>",
          "<br>Git Hash: 4cc3e7a</br>\n<br>Version: 2022.3.2</br>\n<br>Timestamp 2022-10-08</br>",
          "<br>Git Hash: 32e43ff</br>\n<br>Version: 2022.3.2</br>\n<br>Timestamp 2022-10-10</br>",
          "<br>Git Hash: 97e958d</br>\n<br>Version: 2022.3.2</br>\n<br>Timestamp 2022-10-13</br>",
          "<br>Git Hash: 9d5c1b1</br>\n<br>Version: 2022.3.2</br>\n<br>Timestamp 2022-10-13</br>"
         ],
         "type": "scatter",
         "x": [
          "2022-10-06T16:25:06.830650",
          "2022-10-06T16:55:04.711879",
          "2022-10-06T20:09:07.230901",
          "2022-10-06T20:19:12.227464",
          "2022-10-06T20:28:25.015389",
          "2022-10-06T20:32:00.361561",
          "2022-10-07T06:42:09.101000",
          "2022-10-08T14:41:25.865697",
          "2022-10-10T12:41:20.983687",
          "2022-10-13T12:51:05.688471",
          "2022-10-13T13:02:10.785172"
         ],
         "xaxis": "x10",
         "y": [
          51.11894280230365,
          51.11894280362179,
          51.11894280230365,
          51.11894280230365,
          51.118942800028165,
          51.11894280230365,
          51.119012382531494,
          51.11894280362179,
          51.11894280230365,
          51.11894280362179,
          51.118942800028165
         ],
         "yaxis": "y10"
        },
        {
         "hovertemplate": "%{text}",
         "text": [
          "<br>Git Hash: f63afc9</br>\n<br>Version: 2022.3.0</br>\n<br>Timestamp 2022-10-06</br>",
          "<br>Git Hash: 630ed09</br>\n<br>Version: 2022.3.0</br>\n<br>Timestamp 2022-10-06</br>",
          "<br>Git Hash: 4d3a653</br>\n<br>Version: 2022.3.0</br>\n<br>Timestamp 2022-10-06</br>",
          "<br>Git Hash: 0c195ff</br>\n<br>Version: 2022.3.0</br>\n<br>Timestamp 2022-10-06</br>",
          "<br>Git Hash: c7df02b</br>\n<br>Version: 2022.3.0</br>\n<br>Timestamp 2022-10-06</br>",
          "<br>Git Hash: cf7cc9d</br>\n<br>Version: 2022.3.0</br>\n<br>Timestamp 2022-10-06</br>",
          "<br>Git Hash: d5edd92</br>\n<br>Version: 2022.3.0</br>\n<br>Timestamp 2022-10-07</br>",
          "<br>Git Hash: 4cc3e7a</br>\n<br>Version: 2022.3.2</br>\n<br>Timestamp 2022-10-08</br>",
          "<br>Git Hash: 32e43ff</br>\n<br>Version: 2022.3.2</br>\n<br>Timestamp 2022-10-10</br>",
          "<br>Git Hash: 97e958d</br>\n<br>Version: 2022.3.2</br>\n<br>Timestamp 2022-10-13</br>",
          "<br>Git Hash: 9d5c1b1</br>\n<br>Version: 2022.3.2</br>\n<br>Timestamp 2022-10-13</br>"
         ],
         "type": "scatter",
         "x": [
          "2022-10-06T16:25:06.830650",
          "2022-10-06T16:55:04.711879",
          "2022-10-06T20:09:07.230901",
          "2022-10-06T20:19:12.227464",
          "2022-10-06T20:28:25.015389",
          "2022-10-06T20:32:00.361561",
          "2022-10-07T06:42:09.101000",
          "2022-10-08T14:41:25.865697",
          "2022-10-10T12:41:20.983687",
          "2022-10-13T12:51:05.688471",
          "2022-10-13T13:02:10.785172"
         ],
         "xaxis": "x11",
         "y": [
          -88.0208943952122,
          -88.02089439671171,
          -88.0208943952122,
          -88.0208943952122,
          -88.0208943926206,
          -88.0208943952122,
          -88.02024655904142,
          -88.02089439671171,
          -88.0208943952122,
          -88.02089439671171,
          -88.0208943926206
         ],
         "yaxis": "y11"
        },
        {
         "hovertemplate": "%{text}",
         "text": [
          "<br>Git Hash: f63afc9</br>\n<br>Version: 2022.3.0</br>\n<br>Timestamp 2022-10-06</br>",
          "<br>Git Hash: 630ed09</br>\n<br>Version: 2022.3.0</br>\n<br>Timestamp 2022-10-06</br>",
          "<br>Git Hash: 4d3a653</br>\n<br>Version: 2022.3.0</br>\n<br>Timestamp 2022-10-06</br>",
          "<br>Git Hash: 0c195ff</br>\n<br>Version: 2022.3.0</br>\n<br>Timestamp 2022-10-06</br>",
          "<br>Git Hash: c7df02b</br>\n<br>Version: 2022.3.0</br>\n<br>Timestamp 2022-10-06</br>",
          "<br>Git Hash: cf7cc9d</br>\n<br>Version: 2022.3.0</br>\n<br>Timestamp 2022-10-06</br>",
          "<br>Git Hash: d5edd92</br>\n<br>Version: 2022.3.0</br>\n<br>Timestamp 2022-10-07</br>",
          "<br>Git Hash: 4cc3e7a</br>\n<br>Version: 2022.3.2</br>\n<br>Timestamp 2022-10-08</br>",
          "<br>Git Hash: 32e43ff</br>\n<br>Version: 2022.3.2</br>\n<br>Timestamp 2022-10-10</br>",
          "<br>Git Hash: 97e958d</br>\n<br>Version: 2022.3.2</br>\n<br>Timestamp 2022-10-13</br>",
          "<br>Git Hash: 9d5c1b1</br>\n<br>Version: 2022.3.2</br>\n<br>Timestamp 2022-10-13</br>"
         ],
         "type": "scatter",
         "x": [
          "2022-10-06T16:25:06.830650",
          "2022-10-06T16:55:04.711879",
          "2022-10-06T20:09:07.230901",
          "2022-10-06T20:19:12.227464",
          "2022-10-06T20:28:25.015389",
          "2022-10-06T20:32:00.361561",
          "2022-10-07T06:42:09.101000",
          "2022-10-08T14:41:25.865697",
          "2022-10-10T12:41:20.983687",
          "2022-10-13T12:51:05.688471",
          "2022-10-13T13:02:10.785172"
         ],
         "xaxis": "x12",
         "y": [
          18.019247665986217,
          18.019247665044414,
          18.019247665986217,
          18.019247665986217,
          18.01924766761247,
          18.019247665986217,
          18.019277321475602,
          18.019247665044414,
          18.019247665986217,
          18.019247665044414,
          18.01924766761247
         ],
         "yaxis": "y12"
        },
        {
         "hovertemplate": "%{text}",
         "text": [
          "<br>Git Hash: f63afc9</br>\n<br>Version: 2022.3.0</br>\n<br>Timestamp 2022-10-06</br>",
          "<br>Git Hash: 630ed09</br>\n<br>Version: 2022.3.0</br>\n<br>Timestamp 2022-10-06</br>",
          "<br>Git Hash: 4d3a653</br>\n<br>Version: 2022.3.0</br>\n<br>Timestamp 2022-10-06</br>",
          "<br>Git Hash: 0c195ff</br>\n<br>Version: 2022.3.0</br>\n<br>Timestamp 2022-10-06</br>",
          "<br>Git Hash: c7df02b</br>\n<br>Version: 2022.3.0</br>\n<br>Timestamp 2022-10-06</br>",
          "<br>Git Hash: cf7cc9d</br>\n<br>Version: 2022.3.0</br>\n<br>Timestamp 2022-10-06</br>",
          "<br>Git Hash: d5edd92</br>\n<br>Version: 2022.3.0</br>\n<br>Timestamp 2022-10-07</br>",
          "<br>Git Hash: 4cc3e7a</br>\n<br>Version: 2022.3.2</br>\n<br>Timestamp 2022-10-08</br>",
          "<br>Git Hash: 32e43ff</br>\n<br>Version: 2022.3.2</br>\n<br>Timestamp 2022-10-10</br>",
          "<br>Git Hash: 97e958d</br>\n<br>Version: 2022.3.2</br>\n<br>Timestamp 2022-10-13</br>",
          "<br>Git Hash: 9d5c1b1</br>\n<br>Version: 2022.3.2</br>\n<br>Timestamp 2022-10-13</br>"
         ],
         "type": "scatter",
         "x": [
          "2022-10-06T16:25:06.830650",
          "2022-10-06T16:55:04.711879",
          "2022-10-06T20:09:07.230901",
          "2022-10-06T20:19:12.227464",
          "2022-10-06T20:28:25.015389",
          "2022-10-06T20:32:00.361561",
          "2022-10-07T06:42:09.101000",
          "2022-10-08T14:41:25.865697",
          "2022-10-10T12:41:20.983687",
          "2022-10-13T12:51:05.688471",
          "2022-10-13T13:02:10.785172"
         ],
         "xaxis": "x13",
         "y": [
          0.00026217343204886103,
          0.0002621734320462223,
          0.00026217343204886103,
          0.00026217343204886103,
          0.0002621734320535062,
          0.00026217343204886103,
          0.00026214026802433814,
          0.0002621734320462223,
          0.00026217343204886103,
          0.0002621734320462223,
          0.0002621734320535062
         ],
         "yaxis": "y13"
        },
        {
         "hovertemplate": "%{text}",
         "text": [
          "<br>Git Hash: f63afc9</br>\n<br>Version: 2022.3.0</br>\n<br>Timestamp 2022-10-06</br>",
          "<br>Git Hash: 630ed09</br>\n<br>Version: 2022.3.0</br>\n<br>Timestamp 2022-10-06</br>",
          "<br>Git Hash: 4d3a653</br>\n<br>Version: 2022.3.0</br>\n<br>Timestamp 2022-10-06</br>",
          "<br>Git Hash: 0c195ff</br>\n<br>Version: 2022.3.0</br>\n<br>Timestamp 2022-10-06</br>",
          "<br>Git Hash: c7df02b</br>\n<br>Version: 2022.3.0</br>\n<br>Timestamp 2022-10-06</br>",
          "<br>Git Hash: cf7cc9d</br>\n<br>Version: 2022.3.0</br>\n<br>Timestamp 2022-10-06</br>",
          "<br>Git Hash: d5edd92</br>\n<br>Version: 2022.3.0</br>\n<br>Timestamp 2022-10-07</br>",
          "<br>Git Hash: 4cc3e7a</br>\n<br>Version: 2022.3.2</br>\n<br>Timestamp 2022-10-08</br>",
          "<br>Git Hash: 32e43ff</br>\n<br>Version: 2022.3.2</br>\n<br>Timestamp 2022-10-10</br>",
          "<br>Git Hash: 97e958d</br>\n<br>Version: 2022.3.2</br>\n<br>Timestamp 2022-10-13</br>",
          "<br>Git Hash: 9d5c1b1</br>\n<br>Version: 2022.3.2</br>\n<br>Timestamp 2022-10-13</br>"
         ],
         "type": "scatter",
         "x": [
          "2022-10-06T16:25:06.830650",
          "2022-10-06T16:55:04.711879",
          "2022-10-06T20:09:07.230901",
          "2022-10-06T20:19:12.227464",
          "2022-10-06T20:28:25.015389",
          "2022-10-06T20:32:00.361561",
          "2022-10-07T06:42:09.101000",
          "2022-10-08T14:41:25.865697",
          "2022-10-10T12:41:20.983687",
          "2022-10-13T12:51:05.688471",
          "2022-10-13T13:02:10.785172"
         ],
         "xaxis": "x14",
         "y": [
          0.00019483724411256047,
          0.00019483724410989336,
          0.00019483724411256047,
          0.00019483724411256047,
          0.0001948372441172956,
          0.00019483724411256047,
          0.00019480385444547386,
          0.00019483724410989336,
          0.00019483724411256047,
          0.00019483724410989336,
          0.0001948372441172956
         ],
         "yaxis": "y14"
        },
        {
         "hovertemplate": "%{text}",
         "text": [
          "<br>Git Hash: f63afc9</br>\n<br>Version: 2022.3.0</br>\n<br>Timestamp 2022-10-06</br>",
          "<br>Git Hash: 630ed09</br>\n<br>Version: 2022.3.0</br>\n<br>Timestamp 2022-10-06</br>",
          "<br>Git Hash: 4d3a653</br>\n<br>Version: 2022.3.0</br>\n<br>Timestamp 2022-10-06</br>",
          "<br>Git Hash: 0c195ff</br>\n<br>Version: 2022.3.0</br>\n<br>Timestamp 2022-10-06</br>",
          "<br>Git Hash: c7df02b</br>\n<br>Version: 2022.3.0</br>\n<br>Timestamp 2022-10-06</br>",
          "<br>Git Hash: cf7cc9d</br>\n<br>Version: 2022.3.0</br>\n<br>Timestamp 2022-10-06</br>",
          "<br>Git Hash: d5edd92</br>\n<br>Version: 2022.3.0</br>\n<br>Timestamp 2022-10-07</br>",
          "<br>Git Hash: 4cc3e7a</br>\n<br>Version: 2022.3.2</br>\n<br>Timestamp 2022-10-08</br>",
          "<br>Git Hash: 32e43ff</br>\n<br>Version: 2022.3.2</br>\n<br>Timestamp 2022-10-10</br>",
          "<br>Git Hash: 97e958d</br>\n<br>Version: 2022.3.2</br>\n<br>Timestamp 2022-10-13</br>",
          "<br>Git Hash: 9d5c1b1</br>\n<br>Version: 2022.3.2</br>\n<br>Timestamp 2022-10-13</br>"
         ],
         "type": "scatter",
         "x": [
          "2022-10-06T16:25:06.830650",
          "2022-10-06T16:55:04.711879",
          "2022-10-06T20:09:07.230901",
          "2022-10-06T20:19:12.227464",
          "2022-10-06T20:28:25.015389",
          "2022-10-06T20:32:00.361561",
          "2022-10-07T06:42:09.101000",
          "2022-10-08T14:41:25.865697",
          "2022-10-10T12:41:20.983687",
          "2022-10-13T12:51:05.688471",
          "2022-10-13T13:02:10.785172"
         ],
         "xaxis": "x15",
         "y": [
          267.8559508563927,
          267.85595085762793,
          267.8559508563927,
          267.8559508563927,
          267.85595085408636,
          267.8559508563927,
          267.9002996852012,
          267.85595085762793,
          267.8559508563927,
          267.85595085762793,
          267.85595085408636
         ],
         "yaxis": "y15"
        },
        {
         "hovertemplate": "%{text}",
         "text": [
          "<br>Git Hash: f63afc9</br>\n<br>Version: 2022.3.0</br>\n<br>Timestamp 2022-10-06</br>",
          "<br>Git Hash: 630ed09</br>\n<br>Version: 2022.3.0</br>\n<br>Timestamp 2022-10-06</br>",
          "<br>Git Hash: 4d3a653</br>\n<br>Version: 2022.3.0</br>\n<br>Timestamp 2022-10-06</br>",
          "<br>Git Hash: 0c195ff</br>\n<br>Version: 2022.3.0</br>\n<br>Timestamp 2022-10-06</br>",
          "<br>Git Hash: c7df02b</br>\n<br>Version: 2022.3.0</br>\n<br>Timestamp 2022-10-06</br>",
          "<br>Git Hash: cf7cc9d</br>\n<br>Version: 2022.3.0</br>\n<br>Timestamp 2022-10-06</br>",
          "<br>Git Hash: d5edd92</br>\n<br>Version: 2022.3.0</br>\n<br>Timestamp 2022-10-07</br>",
          "<br>Git Hash: 4cc3e7a</br>\n<br>Version: 2022.3.2</br>\n<br>Timestamp 2022-10-08</br>",
          "<br>Git Hash: 32e43ff</br>\n<br>Version: 2022.3.2</br>\n<br>Timestamp 2022-10-10</br>",
          "<br>Git Hash: 97e958d</br>\n<br>Version: 2022.3.2</br>\n<br>Timestamp 2022-10-13</br>",
          "<br>Git Hash: 9d5c1b1</br>\n<br>Version: 2022.3.2</br>\n<br>Timestamp 2022-10-13</br>"
         ],
         "type": "scatter",
         "x": [
          "2022-10-06T16:25:06.830650",
          "2022-10-06T16:55:04.711879",
          "2022-10-06T20:09:07.230901",
          "2022-10-06T20:19:12.227464",
          "2022-10-06T20:28:25.015389",
          "2022-10-06T20:32:00.361561",
          "2022-10-07T06:42:09.101000",
          "2022-10-08T14:41:25.865697",
          "2022-10-10T12:41:20.983687",
          "2022-10-13T12:51:05.688471",
          "2022-10-13T13:02:10.785172"
         ],
         "xaxis": "x16",
         "y": [
          387.224647666766,
          387.2246476677943,
          387.224647666766,
          387.224647666766,
          387.2246476647681,
          387.224647666766,
          387.3156126984575,
          387.2246476677943,
          387.224647666766,
          387.2246476677943,
          387.2246476647681
         ],
         "yaxis": "y16"
        },
        {
         "hovertemplate": "%{text}",
         "text": [
          "<br>Git Hash: f63afc9</br>\n<br>Version: 2022.3.0</br>\n<br>Timestamp 2022-10-06</br>",
          "<br>Git Hash: 630ed09</br>\n<br>Version: 2022.3.0</br>\n<br>Timestamp 2022-10-06</br>",
          "<br>Git Hash: 4d3a653</br>\n<br>Version: 2022.3.0</br>\n<br>Timestamp 2022-10-06</br>",
          "<br>Git Hash: 0c195ff</br>\n<br>Version: 2022.3.0</br>\n<br>Timestamp 2022-10-06</br>",
          "<br>Git Hash: c7df02b</br>\n<br>Version: 2022.3.0</br>\n<br>Timestamp 2022-10-06</br>",
          "<br>Git Hash: cf7cc9d</br>\n<br>Version: 2022.3.0</br>\n<br>Timestamp 2022-10-06</br>",
          "<br>Git Hash: d5edd92</br>\n<br>Version: 2022.3.0</br>\n<br>Timestamp 2022-10-07</br>",
          "<br>Git Hash: 4cc3e7a</br>\n<br>Version: 2022.3.2</br>\n<br>Timestamp 2022-10-08</br>",
          "<br>Git Hash: 32e43ff</br>\n<br>Version: 2022.3.2</br>\n<br>Timestamp 2022-10-10</br>",
          "<br>Git Hash: 97e958d</br>\n<br>Version: 2022.3.2</br>\n<br>Timestamp 2022-10-13</br>",
          "<br>Git Hash: 9d5c1b1</br>\n<br>Version: 2022.3.2</br>\n<br>Timestamp 2022-10-13</br>"
         ],
         "type": "scatter",
         "x": [
          "2022-10-06T16:25:06.830650",
          "2022-10-06T16:55:04.711879",
          "2022-10-06T20:09:07.230901",
          "2022-10-06T20:19:12.227464",
          "2022-10-06T20:28:25.015389",
          "2022-10-06T20:32:00.361561",
          "2022-10-07T06:42:09.101000",
          "2022-10-08T14:41:25.865697",
          "2022-10-10T12:41:20.983687",
          "2022-10-13T12:51:05.688471",
          "2022-10-13T13:02:10.785172"
         ],
         "xaxis": "x17",
         "y": [
          468.7678472104044,
          468.76784721160277,
          468.7678472104044,
          468.7678472104044,
          468.7678472080366,
          468.7678472104044,
          468.8653549434834,
          468.76784721160277,
          468.7678472104044,
          468.76784721160277,
          468.7678472080366
         ],
         "yaxis": "y17"
        },
        {
         "hovertemplate": "%{text}",
         "text": [
          "<br>Git Hash: f63afc9</br>\n<br>Version: 2022.3.0</br>\n<br>Timestamp 2022-10-06</br>",
          "<br>Git Hash: 630ed09</br>\n<br>Version: 2022.3.0</br>\n<br>Timestamp 2022-10-06</br>",
          "<br>Git Hash: 4d3a653</br>\n<br>Version: 2022.3.0</br>\n<br>Timestamp 2022-10-06</br>",
          "<br>Git Hash: 0c195ff</br>\n<br>Version: 2022.3.0</br>\n<br>Timestamp 2022-10-06</br>",
          "<br>Git Hash: c7df02b</br>\n<br>Version: 2022.3.0</br>\n<br>Timestamp 2022-10-06</br>",
          "<br>Git Hash: cf7cc9d</br>\n<br>Version: 2022.3.0</br>\n<br>Timestamp 2022-10-06</br>",
          "<br>Git Hash: d5edd92</br>\n<br>Version: 2022.3.0</br>\n<br>Timestamp 2022-10-07</br>",
          "<br>Git Hash: 4cc3e7a</br>\n<br>Version: 2022.3.2</br>\n<br>Timestamp 2022-10-08</br>",
          "<br>Git Hash: 32e43ff</br>\n<br>Version: 2022.3.2</br>\n<br>Timestamp 2022-10-10</br>",
          "<br>Git Hash: 97e958d</br>\n<br>Version: 2022.3.2</br>\n<br>Timestamp 2022-10-13</br>",
          "<br>Git Hash: 9d5c1b1</br>\n<br>Version: 2022.3.2</br>\n<br>Timestamp 2022-10-13</br>"
         ],
         "type": "scatter",
         "x": [
          "2022-10-06T16:25:06.830650",
          "2022-10-06T16:55:04.711879",
          "2022-10-06T20:09:07.230901",
          "2022-10-06T20:19:12.227464",
          "2022-10-06T20:28:25.015389",
          "2022-10-06T20:32:00.361561",
          "2022-10-07T06:42:09.101000",
          "2022-10-08T14:41:25.865697",
          "2022-10-10T12:41:20.983687",
          "2022-10-13T12:51:05.688471",
          "2022-10-13T13:02:10.785172"
         ],
         "xaxis": "x18",
         "y": [
          138,
          138,
          138,
          138,
          138,
          138,
          137,
          138,
          138,
          138,
          138
         ],
         "yaxis": "y18"
        },
        {
         "hovertemplate": "%{text}",
         "text": [
          "<br>Git Hash: f63afc9</br>\n<br>Version: 2022.3.0</br>\n<br>Timestamp 2022-10-06</br>",
          "<br>Git Hash: 630ed09</br>\n<br>Version: 2022.3.0</br>\n<br>Timestamp 2022-10-06</br>",
          "<br>Git Hash: 4d3a653</br>\n<br>Version: 2022.3.0</br>\n<br>Timestamp 2022-10-06</br>",
          "<br>Git Hash: 0c195ff</br>\n<br>Version: 2022.3.0</br>\n<br>Timestamp 2022-10-06</br>",
          "<br>Git Hash: c7df02b</br>\n<br>Version: 2022.3.0</br>\n<br>Timestamp 2022-10-06</br>",
          "<br>Git Hash: cf7cc9d</br>\n<br>Version: 2022.3.0</br>\n<br>Timestamp 2022-10-06</br>",
          "<br>Git Hash: d5edd92</br>\n<br>Version: 2022.3.0</br>\n<br>Timestamp 2022-10-07</br>",
          "<br>Git Hash: 4cc3e7a</br>\n<br>Version: 2022.3.2</br>\n<br>Timestamp 2022-10-08</br>",
          "<br>Git Hash: 32e43ff</br>\n<br>Version: 2022.3.2</br>\n<br>Timestamp 2022-10-10</br>",
          "<br>Git Hash: 97e958d</br>\n<br>Version: 2022.3.2</br>\n<br>Timestamp 2022-10-13</br>",
          "<br>Git Hash: 9d5c1b1</br>\n<br>Version: 2022.3.2</br>\n<br>Timestamp 2022-10-13</br>"
         ],
         "type": "scatter",
         "x": [
          "2022-10-06T16:25:06.830650",
          "2022-10-06T16:55:04.711879",
          "2022-10-06T20:09:07.230901",
          "2022-10-06T20:19:12.227464",
          "2022-10-06T20:28:25.015389",
          "2022-10-06T20:32:00.361561",
          "2022-10-07T06:42:09.101000",
          "2022-10-08T14:41:25.865697",
          "2022-10-10T12:41:20.983687",
          "2022-10-13T12:51:05.688471",
          "2022-10-13T13:02:10.785172"
         ],
         "xaxis": "x19",
         "y": [
          148.86435918780955,
          148.86435919110215,
          148.86435918780955,
          148.86435918780955,
          148.86435918187783,
          148.86435918780955,
          149.9488577956252,
          148.86435919110215,
          148.86435918780955,
          148.86435919110215,
          148.86435918187783
         ],
         "yaxis": "y19"
        },
        {
         "hovertemplate": "%{text}",
         "text": [
          "<br>Git Hash: f63afc9</br>\n<br>Version: 2022.3.0</br>\n<br>Timestamp 2022-10-06</br>",
          "<br>Git Hash: 630ed09</br>\n<br>Version: 2022.3.0</br>\n<br>Timestamp 2022-10-06</br>",
          "<br>Git Hash: 4d3a653</br>\n<br>Version: 2022.3.0</br>\n<br>Timestamp 2022-10-06</br>",
          "<br>Git Hash: 0c195ff</br>\n<br>Version: 2022.3.0</br>\n<br>Timestamp 2022-10-06</br>",
          "<br>Git Hash: c7df02b</br>\n<br>Version: 2022.3.0</br>\n<br>Timestamp 2022-10-06</br>",
          "<br>Git Hash: cf7cc9d</br>\n<br>Version: 2022.3.0</br>\n<br>Timestamp 2022-10-06</br>",
          "<br>Git Hash: d5edd92</br>\n<br>Version: 2022.3.0</br>\n<br>Timestamp 2022-10-07</br>",
          "<br>Git Hash: 4cc3e7a</br>\n<br>Version: 2022.3.2</br>\n<br>Timestamp 2022-10-08</br>",
          "<br>Git Hash: 32e43ff</br>\n<br>Version: 2022.3.2</br>\n<br>Timestamp 2022-10-10</br>",
          "<br>Git Hash: 97e958d</br>\n<br>Version: 2022.3.2</br>\n<br>Timestamp 2022-10-13</br>",
          "<br>Git Hash: 9d5c1b1</br>\n<br>Version: 2022.3.2</br>\n<br>Timestamp 2022-10-13</br>"
         ],
         "type": "scatter",
         "x": [
          "2022-10-06T16:25:06.830650",
          "2022-10-06T16:55:04.711879",
          "2022-10-06T20:09:07.230901",
          "2022-10-06T20:19:12.227464",
          "2022-10-06T20:28:25.015389",
          "2022-10-06T20:32:00.361561",
          "2022-10-07T06:42:09.101000",
          "2022-10-08T14:41:25.865697",
          "2022-10-10T12:41:20.983687",
          "2022-10-13T12:51:05.688471",
          "2022-10-13T13:02:10.785172"
         ],
         "xaxis": "x20",
         "y": [
          461.80050916441866,
          461.8005091730818,
          461.80050916441866,
          461.80050916441866,
          461.80050914863074,
          461.80050916441866,
          464.000771936317,
          461.8005091730818,
          461.80050916441866,
          461.8005091730818,
          461.80050914863074
         ],
         "yaxis": "y20"
        },
        {
         "hovertemplate": "%{text}",
         "text": [
          "<br>Git Hash: f63afc9</br>\n<br>Version: 2022.3.0</br>\n<br>Timestamp 2022-10-06</br>",
          "<br>Git Hash: 630ed09</br>\n<br>Version: 2022.3.0</br>\n<br>Timestamp 2022-10-06</br>",
          "<br>Git Hash: 4d3a653</br>\n<br>Version: 2022.3.0</br>\n<br>Timestamp 2022-10-06</br>",
          "<br>Git Hash: 0c195ff</br>\n<br>Version: 2022.3.0</br>\n<br>Timestamp 2022-10-06</br>",
          "<br>Git Hash: c7df02b</br>\n<br>Version: 2022.3.0</br>\n<br>Timestamp 2022-10-06</br>",
          "<br>Git Hash: cf7cc9d</br>\n<br>Version: 2022.3.0</br>\n<br>Timestamp 2022-10-06</br>",
          "<br>Git Hash: d5edd92</br>\n<br>Version: 2022.3.0</br>\n<br>Timestamp 2022-10-07</br>",
          "<br>Git Hash: 4cc3e7a</br>\n<br>Version: 2022.3.2</br>\n<br>Timestamp 2022-10-08</br>",
          "<br>Git Hash: 32e43ff</br>\n<br>Version: 2022.3.2</br>\n<br>Timestamp 2022-10-10</br>",
          "<br>Git Hash: 97e958d</br>\n<br>Version: 2022.3.2</br>\n<br>Timestamp 2022-10-13</br>",
          "<br>Git Hash: 9d5c1b1</br>\n<br>Version: 2022.3.2</br>\n<br>Timestamp 2022-10-13</br>"
         ],
         "type": "scatter",
         "x": [
          "2022-10-06T16:25:06.830650",
          "2022-10-06T16:55:04.711879",
          "2022-10-06T20:09:07.230901",
          "2022-10-06T20:19:12.227464",
          "2022-10-06T20:28:25.015389",
          "2022-10-06T20:32:00.361561",
          "2022-10-07T06:42:09.101000",
          "2022-10-08T14:41:25.865697",
          "2022-10-10T12:41:20.983687",
          "2022-10-13T12:51:05.688471",
          "2022-10-13T13:02:10.785172"
         ],
         "xaxis": "x21",
         "y": [
          1.0000000000000022,
          1.0000000000000018,
          1.0000000000000022,
          1.0000000000000022,
          1.0000000000000016,
          1.0000000000000022,
          1.0000000000000002,
          1.0000000000000018,
          1.0000000000000022,
          1.0000000000000018,
          1.0000000000000016
         ],
         "yaxis": "y21"
        },
        {
         "hovertemplate": "%{text}",
         "text": [
          "<br>Git Hash: f63afc9</br>\n<br>Version: 2022.3.0</br>\n<br>Timestamp 2022-10-06</br>",
          "<br>Git Hash: 630ed09</br>\n<br>Version: 2022.3.0</br>\n<br>Timestamp 2022-10-06</br>",
          "<br>Git Hash: 4d3a653</br>\n<br>Version: 2022.3.0</br>\n<br>Timestamp 2022-10-06</br>",
          "<br>Git Hash: 0c195ff</br>\n<br>Version: 2022.3.0</br>\n<br>Timestamp 2022-10-06</br>",
          "<br>Git Hash: c7df02b</br>\n<br>Version: 2022.3.0</br>\n<br>Timestamp 2022-10-06</br>",
          "<br>Git Hash: cf7cc9d</br>\n<br>Version: 2022.3.0</br>\n<br>Timestamp 2022-10-06</br>",
          "<br>Git Hash: d5edd92</br>\n<br>Version: 2022.3.0</br>\n<br>Timestamp 2022-10-07</br>",
          "<br>Git Hash: 4cc3e7a</br>\n<br>Version: 2022.3.2</br>\n<br>Timestamp 2022-10-08</br>",
          "<br>Git Hash: 32e43ff</br>\n<br>Version: 2022.3.2</br>\n<br>Timestamp 2022-10-10</br>",
          "<br>Git Hash: 97e958d</br>\n<br>Version: 2022.3.2</br>\n<br>Timestamp 2022-10-13</br>",
          "<br>Git Hash: 9d5c1b1</br>\n<br>Version: 2022.3.2</br>\n<br>Timestamp 2022-10-13</br>"
         ],
         "type": "scatter",
         "x": [
          "2022-10-06T16:25:06.830650",
          "2022-10-06T16:55:04.711879",
          "2022-10-06T20:09:07.230901",
          "2022-10-06T20:19:12.227464",
          "2022-10-06T20:28:25.015389",
          "2022-10-06T20:32:00.361561",
          "2022-10-07T06:42:09.101000",
          "2022-10-08T14:41:25.865697",
          "2022-10-10T12:41:20.983687",
          "2022-10-13T12:51:05.688471",
          "2022-10-13T13:02:10.785172"
         ],
         "xaxis": "x22",
         "y": [
          0.900227077910955,
          0.900227077912309,
          0.900227077910955,
          0.900227077910955,
          0.9002270779085806,
          0.900227077910955,
          0.9004964280010318,
          0.900227077912309,
          0.900227077910955,
          0.900227077912309,
          0.9002270779085806
         ],
         "yaxis": "y22"
        },
        {
         "hovertemplate": "%{text}",
         "text": [
          "<br>Git Hash: f63afc9</br>\n<br>Version: 2022.3.0</br>\n<br>Timestamp 2022-10-06</br>",
          "<br>Git Hash: 630ed09</br>\n<br>Version: 2022.3.0</br>\n<br>Timestamp 2022-10-06</br>",
          "<br>Git Hash: 4d3a653</br>\n<br>Version: 2022.3.0</br>\n<br>Timestamp 2022-10-06</br>",
          "<br>Git Hash: 0c195ff</br>\n<br>Version: 2022.3.0</br>\n<br>Timestamp 2022-10-06</br>",
          "<br>Git Hash: c7df02b</br>\n<br>Version: 2022.3.0</br>\n<br>Timestamp 2022-10-06</br>",
          "<br>Git Hash: cf7cc9d</br>\n<br>Version: 2022.3.0</br>\n<br>Timestamp 2022-10-06</br>",
          "<br>Git Hash: d5edd92</br>\n<br>Version: 2022.3.0</br>\n<br>Timestamp 2022-10-07</br>",
          "<br>Git Hash: 4cc3e7a</br>\n<br>Version: 2022.3.2</br>\n<br>Timestamp 2022-10-08</br>",
          "<br>Git Hash: 32e43ff</br>\n<br>Version: 2022.3.2</br>\n<br>Timestamp 2022-10-10</br>",
          "<br>Git Hash: 97e958d</br>\n<br>Version: 2022.3.2</br>\n<br>Timestamp 2022-10-13</br>",
          "<br>Git Hash: 9d5c1b1</br>\n<br>Version: 2022.3.2</br>\n<br>Timestamp 2022-10-13</br>"
         ],
         "type": "scatter",
         "x": [
          "2022-10-06T16:25:06.830650",
          "2022-10-06T16:55:04.711879",
          "2022-10-06T20:09:07.230901",
          "2022-10-06T20:19:12.227464",
          "2022-10-06T20:28:25.015389",
          "2022-10-06T20:32:00.361561",
          "2022-10-07T06:42:09.101000",
          "2022-10-08T14:41:25.865697",
          "2022-10-10T12:41:20.983687",
          "2022-10-13T12:51:05.688471",
          "2022-10-13T13:02:10.785172"
         ],
         "xaxis": "x23",
         "y": [
          138,
          138,
          138,
          138,
          138,
          138,
          138,
          138,
          138,
          138,
          138
         ],
         "yaxis": "y23"
        },
        {
         "hovertemplate": "%{text}",
         "text": [
          "<br>Git Hash: f63afc9</br>\n<br>Version: 2022.3.0</br>\n<br>Timestamp 2022-10-06</br>",
          "<br>Git Hash: 630ed09</br>\n<br>Version: 2022.3.0</br>\n<br>Timestamp 2022-10-06</br>",
          "<br>Git Hash: 4d3a653</br>\n<br>Version: 2022.3.0</br>\n<br>Timestamp 2022-10-06</br>",
          "<br>Git Hash: 0c195ff</br>\n<br>Version: 2022.3.0</br>\n<br>Timestamp 2022-10-06</br>",
          "<br>Git Hash: c7df02b</br>\n<br>Version: 2022.3.0</br>\n<br>Timestamp 2022-10-06</br>",
          "<br>Git Hash: cf7cc9d</br>\n<br>Version: 2022.3.0</br>\n<br>Timestamp 2022-10-06</br>",
          "<br>Git Hash: d5edd92</br>\n<br>Version: 2022.3.0</br>\n<br>Timestamp 2022-10-07</br>",
          "<br>Git Hash: 4cc3e7a</br>\n<br>Version: 2022.3.2</br>\n<br>Timestamp 2022-10-08</br>",
          "<br>Git Hash: 32e43ff</br>\n<br>Version: 2022.3.2</br>\n<br>Timestamp 2022-10-10</br>",
          "<br>Git Hash: 97e958d</br>\n<br>Version: 2022.3.2</br>\n<br>Timestamp 2022-10-13</br>",
          "<br>Git Hash: 9d5c1b1</br>\n<br>Version: 2022.3.2</br>\n<br>Timestamp 2022-10-13</br>"
         ],
         "type": "scatter",
         "x": [
          "2022-10-06T16:25:06.830650",
          "2022-10-06T16:55:04.711879",
          "2022-10-06T20:09:07.230901",
          "2022-10-06T20:19:12.227464",
          "2022-10-06T20:28:25.015389",
          "2022-10-06T20:32:00.361561",
          "2022-10-07T06:42:09.101000",
          "2022-10-08T14:41:25.865697",
          "2022-10-10T12:41:20.983687",
          "2022-10-13T12:51:05.688471",
          "2022-10-13T13:02:10.785172"
         ],
         "xaxis": "x24",
         "y": [
          271.3843880096666,
          271.38438800959835,
          271.3843880096666,
          271.3843880096666,
          271.38438800971335,
          271.3843880096666,
          271.38954457701925,
          271.38438800959835,
          271.3843880096666,
          271.38438800959835,
          271.38438800971335
         ],
         "yaxis": "y24"
        },
        {
         "hovertemplate": "%{text}",
         "text": [
          "<br>Git Hash: f63afc9</br>\n<br>Version: 2022.3.0</br>\n<br>Timestamp 2022-10-06</br>",
          "<br>Git Hash: 630ed09</br>\n<br>Version: 2022.3.0</br>\n<br>Timestamp 2022-10-06</br>",
          "<br>Git Hash: 4d3a653</br>\n<br>Version: 2022.3.0</br>\n<br>Timestamp 2022-10-06</br>",
          "<br>Git Hash: 0c195ff</br>\n<br>Version: 2022.3.0</br>\n<br>Timestamp 2022-10-06</br>",
          "<br>Git Hash: c7df02b</br>\n<br>Version: 2022.3.0</br>\n<br>Timestamp 2022-10-06</br>",
          "<br>Git Hash: cf7cc9d</br>\n<br>Version: 2022.3.0</br>\n<br>Timestamp 2022-10-06</br>",
          "<br>Git Hash: d5edd92</br>\n<br>Version: 2022.3.0</br>\n<br>Timestamp 2022-10-07</br>",
          "<br>Git Hash: 4cc3e7a</br>\n<br>Version: 2022.3.2</br>\n<br>Timestamp 2022-10-08</br>",
          "<br>Git Hash: 32e43ff</br>\n<br>Version: 2022.3.2</br>\n<br>Timestamp 2022-10-10</br>",
          "<br>Git Hash: 97e958d</br>\n<br>Version: 2022.3.2</br>\n<br>Timestamp 2022-10-13</br>",
          "<br>Git Hash: 9d5c1b1</br>\n<br>Version: 2022.3.2</br>\n<br>Timestamp 2022-10-13</br>"
         ],
         "type": "scatter",
         "x": [
          "2022-10-06T16:25:06.830650",
          "2022-10-06T16:55:04.711879",
          "2022-10-06T20:09:07.230901",
          "2022-10-06T20:19:12.227464",
          "2022-10-06T20:28:25.015389",
          "2022-10-06T20:32:00.361561",
          "2022-10-07T06:42:09.101000",
          "2022-10-08T14:41:25.865697",
          "2022-10-10T12:41:20.983687",
          "2022-10-13T12:51:05.688471",
          "2022-10-13T13:02:10.785172"
         ],
         "xaxis": "x25",
         "y": [
          402.4486175412526,
          402.4486175415829,
          402.4486175412526,
          402.4486175412526,
          402.44861754056797,
          402.4486175412526,
          402.54745852137114,
          402.4486175415829,
          402.4486175412526,
          402.4486175415829,
          402.44861754056797
         ],
         "yaxis": "y25"
        },
        {
         "hovertemplate": "%{text}",
         "text": [
          "<br>Git Hash: f63afc9</br>\n<br>Version: 2022.3.0</br>\n<br>Timestamp 2022-10-06</br>",
          "<br>Git Hash: 630ed09</br>\n<br>Version: 2022.3.0</br>\n<br>Timestamp 2022-10-06</br>",
          "<br>Git Hash: 4d3a653</br>\n<br>Version: 2022.3.0</br>\n<br>Timestamp 2022-10-06</br>",
          "<br>Git Hash: 0c195ff</br>\n<br>Version: 2022.3.0</br>\n<br>Timestamp 2022-10-06</br>",
          "<br>Git Hash: c7df02b</br>\n<br>Version: 2022.3.0</br>\n<br>Timestamp 2022-10-06</br>",
          "<br>Git Hash: cf7cc9d</br>\n<br>Version: 2022.3.0</br>\n<br>Timestamp 2022-10-06</br>",
          "<br>Git Hash: d5edd92</br>\n<br>Version: 2022.3.0</br>\n<br>Timestamp 2022-10-07</br>",
          "<br>Git Hash: 4cc3e7a</br>\n<br>Version: 2022.3.2</br>\n<br>Timestamp 2022-10-08</br>",
          "<br>Git Hash: 32e43ff</br>\n<br>Version: 2022.3.2</br>\n<br>Timestamp 2022-10-10</br>",
          "<br>Git Hash: 97e958d</br>\n<br>Version: 2022.3.2</br>\n<br>Timestamp 2022-10-13</br>",
          "<br>Git Hash: 9d5c1b1</br>\n<br>Version: 2022.3.2</br>\n<br>Timestamp 2022-10-13</br>"
         ],
         "type": "scatter",
         "x": [
          "2022-10-06T16:25:06.830650",
          "2022-10-06T16:55:04.711879",
          "2022-10-06T20:09:07.230901",
          "2022-10-06T20:19:12.227464",
          "2022-10-06T20:28:25.015389",
          "2022-10-06T20:32:00.361561",
          "2022-10-07T06:42:09.101000",
          "2022-10-08T14:41:25.865697",
          "2022-10-10T12:41:20.983687",
          "2022-10-13T12:51:05.688471",
          "2022-10-13T13:02:10.785172"
         ],
         "xaxis": "x26",
         "y": [
          520.2357173779734,
          520.2357173795499,
          520.2357173779734,
          520.2357173779734,
          520.2357173750196,
          520.2357173779734,
          520.6528223643268,
          520.2357173795499,
          520.2357173779734,
          520.2357173795499,
          520.2357173750196
         ],
         "yaxis": "y26"
        },
        {
         "hovertemplate": "%{text}",
         "text": [
          "<br>Git Hash: f63afc9</br>\n<br>Version: 2022.3.0</br>\n<br>Timestamp 2022-10-06</br>",
          "<br>Git Hash: 630ed09</br>\n<br>Version: 2022.3.0</br>\n<br>Timestamp 2022-10-06</br>",
          "<br>Git Hash: 4d3a653</br>\n<br>Version: 2022.3.0</br>\n<br>Timestamp 2022-10-06</br>",
          "<br>Git Hash: 0c195ff</br>\n<br>Version: 2022.3.0</br>\n<br>Timestamp 2022-10-06</br>",
          "<br>Git Hash: c7df02b</br>\n<br>Version: 2022.3.0</br>\n<br>Timestamp 2022-10-06</br>",
          "<br>Git Hash: cf7cc9d</br>\n<br>Version: 2022.3.0</br>\n<br>Timestamp 2022-10-06</br>",
          "<br>Git Hash: d5edd92</br>\n<br>Version: 2022.3.0</br>\n<br>Timestamp 2022-10-07</br>",
          "<br>Git Hash: 4cc3e7a</br>\n<br>Version: 2022.3.2</br>\n<br>Timestamp 2022-10-08</br>",
          "<br>Git Hash: 32e43ff</br>\n<br>Version: 2022.3.2</br>\n<br>Timestamp 2022-10-10</br>",
          "<br>Git Hash: 97e958d</br>\n<br>Version: 2022.3.2</br>\n<br>Timestamp 2022-10-13</br>",
          "<br>Git Hash: 9d5c1b1</br>\n<br>Version: 2022.3.2</br>\n<br>Timestamp 2022-10-13</br>"
         ],
         "type": "scatter",
         "x": [
          "2022-10-06T16:25:06.830650",
          "2022-10-06T16:55:04.711879",
          "2022-10-06T20:09:07.230901",
          "2022-10-06T20:19:12.227464",
          "2022-10-06T20:28:25.015389",
          "2022-10-06T20:32:00.361561",
          "2022-10-07T06:42:09.101000",
          "2022-10-08T14:41:25.865697",
          "2022-10-10T12:41:20.983687",
          "2022-10-13T12:51:05.688471",
          "2022-10-13T13:02:10.785172"
         ],
         "xaxis": "x27",
         "y": [
          192.15555011038202,
          192.15555011046484,
          192.15555011038202,
          192.15555011038202,
          192.1555501101613,
          192.15555011038202,
          192.10802737412632,
          192.15555011046484,
          192.15555011038202,
          192.15555011046484,
          192.1555501101613
         ],
         "yaxis": "y27"
        },
        {
         "hovertemplate": "%{text}",
         "text": [
          "<br>Git Hash: f63afc9</br>\n<br>Version: 2022.3.0</br>\n<br>Timestamp 2022-10-06</br>",
          "<br>Git Hash: 630ed09</br>\n<br>Version: 2022.3.0</br>\n<br>Timestamp 2022-10-06</br>",
          "<br>Git Hash: 4d3a653</br>\n<br>Version: 2022.3.0</br>\n<br>Timestamp 2022-10-06</br>",
          "<br>Git Hash: 0c195ff</br>\n<br>Version: 2022.3.0</br>\n<br>Timestamp 2022-10-06</br>",
          "<br>Git Hash: c7df02b</br>\n<br>Version: 2022.3.0</br>\n<br>Timestamp 2022-10-06</br>",
          "<br>Git Hash: cf7cc9d</br>\n<br>Version: 2022.3.0</br>\n<br>Timestamp 2022-10-06</br>",
          "<br>Git Hash: d5edd92</br>\n<br>Version: 2022.3.0</br>\n<br>Timestamp 2022-10-07</br>",
          "<br>Git Hash: 4cc3e7a</br>\n<br>Version: 2022.3.2</br>\n<br>Timestamp 2022-10-08</br>",
          "<br>Git Hash: 32e43ff</br>\n<br>Version: 2022.3.2</br>\n<br>Timestamp 2022-10-10</br>",
          "<br>Git Hash: 97e958d</br>\n<br>Version: 2022.3.2</br>\n<br>Timestamp 2022-10-13</br>",
          "<br>Git Hash: 9d5c1b1</br>\n<br>Version: 2022.3.2</br>\n<br>Timestamp 2022-10-13</br>"
         ],
         "type": "scatter",
         "x": [
          "2022-10-06T16:25:06.830650",
          "2022-10-06T16:55:04.711879",
          "2022-10-06T20:09:07.230901",
          "2022-10-06T20:19:12.227464",
          "2022-10-06T20:28:25.015389",
          "2022-10-06T20:32:00.361561",
          "2022-10-07T06:42:09.101000",
          "2022-10-08T14:41:25.865697",
          "2022-10-10T12:41:20.983687",
          "2022-10-13T12:51:05.688471",
          "2022-10-13T13:02:10.785172"
         ],
         "xaxis": "x28",
         "y": [
          -108.48388046370579,
          -108.48388046376431,
          -108.48388046370579,
          -108.48388046370579,
          -108.48388046360921,
          -108.48388046370579,
          -108.5093305773544,
          -108.48388046376431,
          -108.48388046370579,
          -108.48388046376431,
          -108.48388046360921
         ],
         "yaxis": "y28"
        },
        {
         "hovertemplate": "%{text}",
         "text": [
          "<br>Git Hash: f63afc9</br>\n<br>Version: 2022.3.0</br>\n<br>Timestamp 2022-10-06</br>",
          "<br>Git Hash: 630ed09</br>\n<br>Version: 2022.3.0</br>\n<br>Timestamp 2022-10-06</br>",
          "<br>Git Hash: 4d3a653</br>\n<br>Version: 2022.3.0</br>\n<br>Timestamp 2022-10-06</br>",
          "<br>Git Hash: 0c195ff</br>\n<br>Version: 2022.3.0</br>\n<br>Timestamp 2022-10-06</br>",
          "<br>Git Hash: c7df02b</br>\n<br>Version: 2022.3.0</br>\n<br>Timestamp 2022-10-06</br>",
          "<br>Git Hash: cf7cc9d</br>\n<br>Version: 2022.3.0</br>\n<br>Timestamp 2022-10-06</br>",
          "<br>Git Hash: d5edd92</br>\n<br>Version: 2022.3.0</br>\n<br>Timestamp 2022-10-07</br>",
          "<br>Git Hash: 4cc3e7a</br>\n<br>Version: 2022.3.2</br>\n<br>Timestamp 2022-10-08</br>",
          "<br>Git Hash: 32e43ff</br>\n<br>Version: 2022.3.2</br>\n<br>Timestamp 2022-10-10</br>",
          "<br>Git Hash: 97e958d</br>\n<br>Version: 2022.3.2</br>\n<br>Timestamp 2022-10-13</br>",
          "<br>Git Hash: 9d5c1b1</br>\n<br>Version: 2022.3.2</br>\n<br>Timestamp 2022-10-13</br>"
         ],
         "type": "scatter",
         "x": [
          "2022-10-06T16:25:06.830650",
          "2022-10-06T16:55:04.711879",
          "2022-10-06T20:09:07.230901",
          "2022-10-06T20:19:12.227464",
          "2022-10-06T20:28:25.015389",
          "2022-10-06T20:32:00.361561",
          "2022-10-07T06:42:09.101000",
          "2022-10-08T14:41:25.865697",
          "2022-10-10T12:41:20.983687",
          "2022-10-13T12:51:05.688471",
          "2022-10-13T13:02:10.785172"
         ],
         "xaxis": "x29",
         "y": [
          0.08640592019796726,
          0.08640592019545741,
          0.08640592019796726,
          0.08640592019796726,
          0.08640592020231393,
          0.08640592019796726,
          0.08617224657688557,
          0.08640592019545741,
          0.08640592019796726,
          0.08640592019545741,
          0.08640592020231393
         ],
         "yaxis": "y29"
        },
        {
         "hovertemplate": "%{text}",
         "text": [
          "<br>Git Hash: f63afc9</br>\n<br>Version: 2022.3.0</br>\n<br>Timestamp 2022-10-06</br>",
          "<br>Git Hash: 630ed09</br>\n<br>Version: 2022.3.0</br>\n<br>Timestamp 2022-10-06</br>",
          "<br>Git Hash: 4d3a653</br>\n<br>Version: 2022.3.0</br>\n<br>Timestamp 2022-10-06</br>",
          "<br>Git Hash: 0c195ff</br>\n<br>Version: 2022.3.0</br>\n<br>Timestamp 2022-10-06</br>",
          "<br>Git Hash: c7df02b</br>\n<br>Version: 2022.3.0</br>\n<br>Timestamp 2022-10-06</br>",
          "<br>Git Hash: cf7cc9d</br>\n<br>Version: 2022.3.0</br>\n<br>Timestamp 2022-10-06</br>",
          "<br>Git Hash: d5edd92</br>\n<br>Version: 2022.3.0</br>\n<br>Timestamp 2022-10-07</br>",
          "<br>Git Hash: 4cc3e7a</br>\n<br>Version: 2022.3.2</br>\n<br>Timestamp 2022-10-08</br>",
          "<br>Git Hash: 32e43ff</br>\n<br>Version: 2022.3.2</br>\n<br>Timestamp 2022-10-10</br>",
          "<br>Git Hash: 97e958d</br>\n<br>Version: 2022.3.2</br>\n<br>Timestamp 2022-10-13</br>",
          "<br>Git Hash: 9d5c1b1</br>\n<br>Version: 2022.3.2</br>\n<br>Timestamp 2022-10-13</br>"
         ],
         "type": "scatter",
         "x": [
          "2022-10-06T16:25:06.830650",
          "2022-10-06T16:55:04.711879",
          "2022-10-06T20:09:07.230901",
          "2022-10-06T20:19:12.227464",
          "2022-10-06T20:28:25.015389",
          "2022-10-06T20:32:00.361561",
          "2022-10-07T06:42:09.101000",
          "2022-10-08T14:41:25.865697",
          "2022-10-10T12:41:20.983687",
          "2022-10-13T12:51:05.688471",
          "2022-10-13T13:02:10.785172"
         ],
         "xaxis": "x30",
         "y": [
          0.08640592019796726,
          0.08640592019545741,
          0.08640592019796726,
          0.08640592019796726,
          0.08640592020231393,
          0.08640592019796726,
          0.08617224657688557,
          0.08640592019545741,
          0.08640592019796726,
          0.08640592019545741,
          0.08640592020231393
         ],
         "yaxis": "y30"
        },
        {
         "hovertemplate": "%{text}",
         "text": [
          "<br>Git Hash: f63afc9</br>\n<br>Version: 2022.3.0</br>\n<br>Timestamp 2022-10-06</br>",
          "<br>Git Hash: 630ed09</br>\n<br>Version: 2022.3.0</br>\n<br>Timestamp 2022-10-06</br>",
          "<br>Git Hash: 4d3a653</br>\n<br>Version: 2022.3.0</br>\n<br>Timestamp 2022-10-06</br>",
          "<br>Git Hash: 0c195ff</br>\n<br>Version: 2022.3.0</br>\n<br>Timestamp 2022-10-06</br>",
          "<br>Git Hash: c7df02b</br>\n<br>Version: 2022.3.0</br>\n<br>Timestamp 2022-10-06</br>",
          "<br>Git Hash: cf7cc9d</br>\n<br>Version: 2022.3.0</br>\n<br>Timestamp 2022-10-06</br>",
          "<br>Git Hash: d5edd92</br>\n<br>Version: 2022.3.0</br>\n<br>Timestamp 2022-10-07</br>",
          "<br>Git Hash: 4cc3e7a</br>\n<br>Version: 2022.3.2</br>\n<br>Timestamp 2022-10-08</br>",
          "<br>Git Hash: 32e43ff</br>\n<br>Version: 2022.3.2</br>\n<br>Timestamp 2022-10-10</br>",
          "<br>Git Hash: 97e958d</br>\n<br>Version: 2022.3.2</br>\n<br>Timestamp 2022-10-13</br>",
          "<br>Git Hash: 9d5c1b1</br>\n<br>Version: 2022.3.2</br>\n<br>Timestamp 2022-10-13</br>"
         ],
         "type": "scatter",
         "x": [
          "2022-10-06T16:25:06.830650",
          "2022-10-06T16:55:04.711879",
          "2022-10-06T20:09:07.230901",
          "2022-10-06T20:19:12.227464",
          "2022-10-06T20:28:25.015389",
          "2022-10-06T20:32:00.361561",
          "2022-10-07T06:42:09.101000",
          "2022-10-08T14:41:25.865697",
          "2022-10-10T12:41:20.983687",
          "2022-10-13T12:51:05.688471",
          "2022-10-13T13:02:10.785172"
         ],
         "xaxis": "x31",
         "y": [
          0.4320296009898363,
          0.43202960097728704,
          0.4320296009898363,
          0.4320296009898363,
          0.4320296010115697,
          0.4320296009898363,
          0.4308612328844279,
          0.43202960097728704,
          0.4320296009898363,
          0.43202960097728704,
          0.4320296010115697
         ],
         "yaxis": "y31"
        },
        {
         "hovertemplate": "%{text}",
         "text": [
          "<br>Git Hash: f63afc9</br>\n<br>Version: 2022.3.0</br>\n<br>Timestamp 2022-10-06</br>",
          "<br>Git Hash: 630ed09</br>\n<br>Version: 2022.3.0</br>\n<br>Timestamp 2022-10-06</br>",
          "<br>Git Hash: 4d3a653</br>\n<br>Version: 2022.3.0</br>\n<br>Timestamp 2022-10-06</br>",
          "<br>Git Hash: 0c195ff</br>\n<br>Version: 2022.3.0</br>\n<br>Timestamp 2022-10-06</br>",
          "<br>Git Hash: c7df02b</br>\n<br>Version: 2022.3.0</br>\n<br>Timestamp 2022-10-06</br>",
          "<br>Git Hash: cf7cc9d</br>\n<br>Version: 2022.3.0</br>\n<br>Timestamp 2022-10-06</br>",
          "<br>Git Hash: d5edd92</br>\n<br>Version: 2022.3.0</br>\n<br>Timestamp 2022-10-07</br>",
          "<br>Git Hash: 4cc3e7a</br>\n<br>Version: 2022.3.2</br>\n<br>Timestamp 2022-10-08</br>",
          "<br>Git Hash: 32e43ff</br>\n<br>Version: 2022.3.2</br>\n<br>Timestamp 2022-10-10</br>",
          "<br>Git Hash: 97e958d</br>\n<br>Version: 2022.3.2</br>\n<br>Timestamp 2022-10-13</br>",
          "<br>Git Hash: 9d5c1b1</br>\n<br>Version: 2022.3.2</br>\n<br>Timestamp 2022-10-13</br>"
         ],
         "type": "scatter",
         "x": [
          "2022-10-06T16:25:06.830650",
          "2022-10-06T16:55:04.711879",
          "2022-10-06T20:09:07.230901",
          "2022-10-06T20:19:12.227464",
          "2022-10-06T20:28:25.015389",
          "2022-10-06T20:32:00.361561",
          "2022-10-07T06:42:09.101000",
          "2022-10-08T14:41:25.865697",
          "2022-10-10T12:41:20.983687",
          "2022-10-13T12:51:05.688471",
          "2022-10-13T13:02:10.785172"
         ],
         "xaxis": "x32",
         "y": [
          0.4339041955545689,
          0.43390419554191045,
          0.4339041955545689,
          0.4339041955545689,
          0.43390419557649124,
          0.4339041955545689,
          0.4327256800846482,
          0.43390419554191045,
          0.4339041955545689,
          0.43390419554191045,
          0.43390419557649124
         ],
         "yaxis": "y32"
        },
        {
         "hovertemplate": "%{text}",
         "text": [
          "<br>Git Hash: f63afc9</br>\n<br>Version: 2022.3.0</br>\n<br>Timestamp 2022-10-06</br>",
          "<br>Git Hash: 630ed09</br>\n<br>Version: 2022.3.0</br>\n<br>Timestamp 2022-10-06</br>",
          "<br>Git Hash: 4d3a653</br>\n<br>Version: 2022.3.0</br>\n<br>Timestamp 2022-10-06</br>",
          "<br>Git Hash: 0c195ff</br>\n<br>Version: 2022.3.0</br>\n<br>Timestamp 2022-10-06</br>",
          "<br>Git Hash: c7df02b</br>\n<br>Version: 2022.3.0</br>\n<br>Timestamp 2022-10-06</br>",
          "<br>Git Hash: cf7cc9d</br>\n<br>Version: 2022.3.0</br>\n<br>Timestamp 2022-10-06</br>",
          "<br>Git Hash: d5edd92</br>\n<br>Version: 2022.3.0</br>\n<br>Timestamp 2022-10-07</br>",
          "<br>Git Hash: 4cc3e7a</br>\n<br>Version: 2022.3.2</br>\n<br>Timestamp 2022-10-08</br>",
          "<br>Git Hash: 32e43ff</br>\n<br>Version: 2022.3.2</br>\n<br>Timestamp 2022-10-10</br>",
          "<br>Git Hash: 97e958d</br>\n<br>Version: 2022.3.2</br>\n<br>Timestamp 2022-10-13</br>",
          "<br>Git Hash: 9d5c1b1</br>\n<br>Version: 2022.3.2</br>\n<br>Timestamp 2022-10-13</br>"
         ],
         "type": "scatter",
         "x": [
          "2022-10-06T16:25:06.830650",
          "2022-10-06T16:55:04.711879",
          "2022-10-06T20:09:07.230901",
          "2022-10-06T20:19:12.227464",
          "2022-10-06T20:28:25.015389",
          "2022-10-06T20:32:00.361561",
          "2022-10-07T06:42:09.101000",
          "2022-10-08T14:41:25.865697",
          "2022-10-10T12:41:20.983687",
          "2022-10-13T12:51:05.688471",
          "2022-10-13T13:02:10.785172"
         ],
         "xaxis": "x33",
         "y": [
          0.05,
          0.05,
          0.05,
          0.05,
          0.05,
          0.05,
          0.05,
          0.05,
          0.05,
          0.05,
          0.05
         ],
         "yaxis": "y33"
        },
        {
         "hovertemplate": "%{text}",
         "text": [
          "<br>Git Hash: f63afc9</br>\n<br>Version: 2022.3.0</br>\n<br>Timestamp 2022-10-06</br>",
          "<br>Git Hash: 630ed09</br>\n<br>Version: 2022.3.0</br>\n<br>Timestamp 2022-10-06</br>",
          "<br>Git Hash: 4d3a653</br>\n<br>Version: 2022.3.0</br>\n<br>Timestamp 2022-10-06</br>",
          "<br>Git Hash: 0c195ff</br>\n<br>Version: 2022.3.0</br>\n<br>Timestamp 2022-10-06</br>",
          "<br>Git Hash: c7df02b</br>\n<br>Version: 2022.3.0</br>\n<br>Timestamp 2022-10-06</br>",
          "<br>Git Hash: cf7cc9d</br>\n<br>Version: 2022.3.0</br>\n<br>Timestamp 2022-10-06</br>",
          "<br>Git Hash: d5edd92</br>\n<br>Version: 2022.3.0</br>\n<br>Timestamp 2022-10-07</br>",
          "<br>Git Hash: 4cc3e7a</br>\n<br>Version: 2022.3.2</br>\n<br>Timestamp 2022-10-08</br>",
          "<br>Git Hash: 32e43ff</br>\n<br>Version: 2022.3.2</br>\n<br>Timestamp 2022-10-10</br>",
          "<br>Git Hash: 97e958d</br>\n<br>Version: 2022.3.2</br>\n<br>Timestamp 2022-10-13</br>",
          "<br>Git Hash: 9d5c1b1</br>\n<br>Version: 2022.3.2</br>\n<br>Timestamp 2022-10-13</br>"
         ],
         "type": "scatter",
         "x": [
          "2022-10-06T16:25:06.830650",
          "2022-10-06T16:55:04.711879",
          "2022-10-06T20:09:07.230901",
          "2022-10-06T20:19:12.227464",
          "2022-10-06T20:28:25.015389",
          "2022-10-06T20:32:00.361561",
          "2022-10-07T06:42:09.101000",
          "2022-10-08T14:41:25.865697",
          "2022-10-10T12:41:20.983687",
          "2022-10-13T12:51:05.688471",
          "2022-10-13T13:02:10.785172"
         ],
         "xaxis": "x34",
         "y": [
          0,
          0,
          0,
          0,
          0,
          0,
          0,
          0,
          0,
          0,
          0
         ],
         "yaxis": "y34"
        },
        {
         "hovertemplate": "%{text}",
         "text": [
          "<br>Git Hash: f63afc9</br>\n<br>Version: 2022.3.0</br>\n<br>Timestamp 2022-10-06</br>",
          "<br>Git Hash: 630ed09</br>\n<br>Version: 2022.3.0</br>\n<br>Timestamp 2022-10-06</br>",
          "<br>Git Hash: 4d3a653</br>\n<br>Version: 2022.3.0</br>\n<br>Timestamp 2022-10-06</br>",
          "<br>Git Hash: 0c195ff</br>\n<br>Version: 2022.3.0</br>\n<br>Timestamp 2022-10-06</br>",
          "<br>Git Hash: c7df02b</br>\n<br>Version: 2022.3.0</br>\n<br>Timestamp 2022-10-06</br>",
          "<br>Git Hash: cf7cc9d</br>\n<br>Version: 2022.3.0</br>\n<br>Timestamp 2022-10-06</br>",
          "<br>Git Hash: d5edd92</br>\n<br>Version: 2022.3.0</br>\n<br>Timestamp 2022-10-07</br>",
          "<br>Git Hash: 4cc3e7a</br>\n<br>Version: 2022.3.2</br>\n<br>Timestamp 2022-10-08</br>",
          "<br>Git Hash: 32e43ff</br>\n<br>Version: 2022.3.2</br>\n<br>Timestamp 2022-10-10</br>",
          "<br>Git Hash: 97e958d</br>\n<br>Version: 2022.3.2</br>\n<br>Timestamp 2022-10-13</br>",
          "<br>Git Hash: 9d5c1b1</br>\n<br>Version: 2022.3.2</br>\n<br>Timestamp 2022-10-13</br>"
         ],
         "type": "scatter",
         "x": [
          "2022-10-06T16:25:06.830650",
          "2022-10-06T16:55:04.711879",
          "2022-10-06T20:09:07.230901",
          "2022-10-06T20:19:12.227464",
          "2022-10-06T20:28:25.015389",
          "2022-10-06T20:32:00.361561",
          "2022-10-07T06:42:09.101000",
          "2022-10-08T14:41:25.865697",
          "2022-10-10T12:41:20.983687",
          "2022-10-13T12:51:05.688471",
          "2022-10-13T13:02:10.785172"
         ],
         "xaxis": "x35",
         "y": [
          0.049886481285873724,
          0.049886481284424654,
          0.049886481285873724,
          0.049886481285873724,
          0.049886481288383265,
          0.049886481285873724,
          0.049751569757839696,
          0.049886481284424654,
          0.049886481285873724,
          0.049886481284424654,
          0.049886481288383265
         ],
         "yaxis": "y35"
        },
        {
         "hovertemplate": "%{text}",
         "text": [
          "<br>Git Hash: f63afc9</br>\n<br>Version: 2022.3.0</br>\n<br>Timestamp 2022-10-06</br>",
          "<br>Git Hash: 630ed09</br>\n<br>Version: 2022.3.0</br>\n<br>Timestamp 2022-10-06</br>",
          "<br>Git Hash: 4d3a653</br>\n<br>Version: 2022.3.0</br>\n<br>Timestamp 2022-10-06</br>",
          "<br>Git Hash: 0c195ff</br>\n<br>Version: 2022.3.0</br>\n<br>Timestamp 2022-10-06</br>",
          "<br>Git Hash: c7df02b</br>\n<br>Version: 2022.3.0</br>\n<br>Timestamp 2022-10-06</br>",
          "<br>Git Hash: cf7cc9d</br>\n<br>Version: 2022.3.0</br>\n<br>Timestamp 2022-10-06</br>",
          "<br>Git Hash: d5edd92</br>\n<br>Version: 2022.3.0</br>\n<br>Timestamp 2022-10-07</br>",
          "<br>Git Hash: 4cc3e7a</br>\n<br>Version: 2022.3.2</br>\n<br>Timestamp 2022-10-08</br>",
          "<br>Git Hash: 32e43ff</br>\n<br>Version: 2022.3.2</br>\n<br>Timestamp 2022-10-10</br>",
          "<br>Git Hash: 97e958d</br>\n<br>Version: 2022.3.2</br>\n<br>Timestamp 2022-10-13</br>",
          "<br>Git Hash: 9d5c1b1</br>\n<br>Version: 2022.3.2</br>\n<br>Timestamp 2022-10-13</br>"
         ],
         "type": "scatter",
         "x": [
          "2022-10-06T16:25:06.830650",
          "2022-10-06T16:55:04.711879",
          "2022-10-06T20:09:07.230901",
          "2022-10-06T20:19:12.227464",
          "2022-10-06T20:28:25.015389",
          "2022-10-06T20:32:00.361561",
          "2022-10-07T06:42:09.101000",
          "2022-10-08T14:41:25.865697",
          "2022-10-10T12:41:20.983687",
          "2022-10-13T12:51:05.688471",
          "2022-10-13T13:02:10.785172"
         ],
         "xaxis": "x36",
         "y": [
          0,
          0,
          0,
          0,
          0,
          0,
          0,
          0,
          0,
          0,
          0
         ],
         "yaxis": "y36"
        },
        {
         "hovertemplate": "%{text}",
         "text": [
          "<br>Git Hash: f63afc9</br>\n<br>Version: 2022.3.0</br>\n<br>Timestamp 2022-10-06</br>",
          "<br>Git Hash: 630ed09</br>\n<br>Version: 2022.3.0</br>\n<br>Timestamp 2022-10-06</br>",
          "<br>Git Hash: 4d3a653</br>\n<br>Version: 2022.3.0</br>\n<br>Timestamp 2022-10-06</br>",
          "<br>Git Hash: 0c195ff</br>\n<br>Version: 2022.3.0</br>\n<br>Timestamp 2022-10-06</br>",
          "<br>Git Hash: c7df02b</br>\n<br>Version: 2022.3.0</br>\n<br>Timestamp 2022-10-06</br>",
          "<br>Git Hash: cf7cc9d</br>\n<br>Version: 2022.3.0</br>\n<br>Timestamp 2022-10-06</br>",
          "<br>Git Hash: d5edd92</br>\n<br>Version: 2022.3.0</br>\n<br>Timestamp 2022-10-07</br>",
          "<br>Git Hash: 4cc3e7a</br>\n<br>Version: 2022.3.2</br>\n<br>Timestamp 2022-10-08</br>",
          "<br>Git Hash: 32e43ff</br>\n<br>Version: 2022.3.2</br>\n<br>Timestamp 2022-10-10</br>",
          "<br>Git Hash: 97e958d</br>\n<br>Version: 2022.3.2</br>\n<br>Timestamp 2022-10-13</br>",
          "<br>Git Hash: 9d5c1b1</br>\n<br>Version: 2022.3.2</br>\n<br>Timestamp 2022-10-13</br>"
         ],
         "type": "scatter",
         "x": [
          "2022-10-06T16:25:06.830650",
          "2022-10-06T16:55:04.711879",
          "2022-10-06T20:09:07.230901",
          "2022-10-06T20:19:12.227464",
          "2022-10-06T20:28:25.015389",
          "2022-10-06T20:32:00.361561",
          "2022-10-07T06:42:09.101000",
          "2022-10-08T14:41:25.865697",
          "2022-10-10T12:41:20.983687",
          "2022-10-13T12:51:05.688471",
          "2022-10-13T13:02:10.785172"
         ],
         "xaxis": "x37",
         "y": [
          0.24943240642936862,
          0.24943240642212325,
          0.24943240642936862,
          0.24943240642936862,
          0.2494324064419163,
          0.24943240642936862,
          0.24875784878919846,
          0.24943240642212325,
          0.24943240642936862,
          0.24943240642212325,
          0.2494324064419163
         ],
         "yaxis": "y37"
        },
        {
         "hovertemplate": "%{text}",
         "text": [
          "<br>Git Hash: f63afc9</br>\n<br>Version: 2022.3.0</br>\n<br>Timestamp 2022-10-06</br>",
          "<br>Git Hash: 630ed09</br>\n<br>Version: 2022.3.0</br>\n<br>Timestamp 2022-10-06</br>",
          "<br>Git Hash: 4d3a653</br>\n<br>Version: 2022.3.0</br>\n<br>Timestamp 2022-10-06</br>",
          "<br>Git Hash: 0c195ff</br>\n<br>Version: 2022.3.0</br>\n<br>Timestamp 2022-10-06</br>",
          "<br>Git Hash: c7df02b</br>\n<br>Version: 2022.3.0</br>\n<br>Timestamp 2022-10-06</br>",
          "<br>Git Hash: cf7cc9d</br>\n<br>Version: 2022.3.0</br>\n<br>Timestamp 2022-10-06</br>",
          "<br>Git Hash: d5edd92</br>\n<br>Version: 2022.3.0</br>\n<br>Timestamp 2022-10-07</br>",
          "<br>Git Hash: 4cc3e7a</br>\n<br>Version: 2022.3.2</br>\n<br>Timestamp 2022-10-08</br>",
          "<br>Git Hash: 32e43ff</br>\n<br>Version: 2022.3.2</br>\n<br>Timestamp 2022-10-10</br>",
          "<br>Git Hash: 97e958d</br>\n<br>Version: 2022.3.2</br>\n<br>Timestamp 2022-10-13</br>",
          "<br>Git Hash: 9d5c1b1</br>\n<br>Version: 2022.3.2</br>\n<br>Timestamp 2022-10-13</br>"
         ],
         "type": "scatter",
         "x": [
          "2022-10-06T16:25:06.830650",
          "2022-10-06T16:55:04.711879",
          "2022-10-06T20:09:07.230901",
          "2022-10-06T20:19:12.227464",
          "2022-10-06T20:28:25.015389",
          "2022-10-06T20:32:00.361561",
          "2022-10-07T06:42:09.101000",
          "2022-10-08T14:41:25.865697",
          "2022-10-10T12:41:20.983687",
          "2022-10-13T12:51:05.688471",
          "2022-10-13T13:02:10.785172"
         ],
         "xaxis": "x38",
         "y": [
          138.05,
          138.05,
          138.05,
          138.05,
          138.05,
          138.05,
          138.05,
          138.05,
          138.05,
          138.05,
          138.05
         ],
         "yaxis": "y38"
        },
        {
         "hovertemplate": "%{text}",
         "text": [
          "<br>Git Hash: f63afc9</br>\n<br>Version: 2022.3.0</br>\n<br>Timestamp 2022-10-06</br>",
          "<br>Git Hash: 630ed09</br>\n<br>Version: 2022.3.0</br>\n<br>Timestamp 2022-10-06</br>",
          "<br>Git Hash: 4d3a653</br>\n<br>Version: 2022.3.0</br>\n<br>Timestamp 2022-10-06</br>",
          "<br>Git Hash: 0c195ff</br>\n<br>Version: 2022.3.0</br>\n<br>Timestamp 2022-10-06</br>",
          "<br>Git Hash: c7df02b</br>\n<br>Version: 2022.3.0</br>\n<br>Timestamp 2022-10-06</br>",
          "<br>Git Hash: cf7cc9d</br>\n<br>Version: 2022.3.0</br>\n<br>Timestamp 2022-10-06</br>",
          "<br>Git Hash: d5edd92</br>\n<br>Version: 2022.3.0</br>\n<br>Timestamp 2022-10-07</br>",
          "<br>Git Hash: 4cc3e7a</br>\n<br>Version: 2022.3.2</br>\n<br>Timestamp 2022-10-08</br>",
          "<br>Git Hash: 32e43ff</br>\n<br>Version: 2022.3.2</br>\n<br>Timestamp 2022-10-10</br>",
          "<br>Git Hash: 97e958d</br>\n<br>Version: 2022.3.2</br>\n<br>Timestamp 2022-10-13</br>",
          "<br>Git Hash: 9d5c1b1</br>\n<br>Version: 2022.3.2</br>\n<br>Timestamp 2022-10-13</br>"
         ],
         "type": "scatter",
         "x": [
          "2022-10-06T16:25:06.830650",
          "2022-10-06T16:55:04.711879",
          "2022-10-06T20:09:07.230901",
          "2022-10-06T20:19:12.227464",
          "2022-10-06T20:28:25.015389",
          "2022-10-06T20:32:00.361561",
          "2022-10-07T06:42:09.101000",
          "2022-10-08T14:41:25.865697",
          "2022-10-10T12:41:20.983687",
          "2022-10-13T12:51:05.688471",
          "2022-10-13T13:02:10.785172"
         ],
         "xaxis": "x39",
         "y": [
          0,
          0,
          0,
          0,
          0,
          0,
          0,
          0,
          0,
          0,
          0
         ],
         "yaxis": "y39"
        },
        {
         "hovertemplate": "%{text}",
         "text": [
          "<br>Git Hash: f63afc9</br>\n<br>Version: 2022.3.0</br>\n<br>Timestamp 2022-10-06</br>",
          "<br>Git Hash: 630ed09</br>\n<br>Version: 2022.3.0</br>\n<br>Timestamp 2022-10-06</br>",
          "<br>Git Hash: 4d3a653</br>\n<br>Version: 2022.3.0</br>\n<br>Timestamp 2022-10-06</br>",
          "<br>Git Hash: 0c195ff</br>\n<br>Version: 2022.3.0</br>\n<br>Timestamp 2022-10-06</br>",
          "<br>Git Hash: c7df02b</br>\n<br>Version: 2022.3.0</br>\n<br>Timestamp 2022-10-06</br>",
          "<br>Git Hash: cf7cc9d</br>\n<br>Version: 2022.3.0</br>\n<br>Timestamp 2022-10-06</br>",
          "<br>Git Hash: d5edd92</br>\n<br>Version: 2022.3.0</br>\n<br>Timestamp 2022-10-07</br>",
          "<br>Git Hash: 4cc3e7a</br>\n<br>Version: 2022.3.2</br>\n<br>Timestamp 2022-10-08</br>",
          "<br>Git Hash: 32e43ff</br>\n<br>Version: 2022.3.2</br>\n<br>Timestamp 2022-10-10</br>",
          "<br>Git Hash: 97e958d</br>\n<br>Version: 2022.3.2</br>\n<br>Timestamp 2022-10-13</br>",
          "<br>Git Hash: 9d5c1b1</br>\n<br>Version: 2022.3.2</br>\n<br>Timestamp 2022-10-13</br>"
         ],
         "type": "scatter",
         "x": [
          "2022-10-06T16:25:06.830650",
          "2022-10-06T16:55:04.711879",
          "2022-10-06T20:09:07.230901",
          "2022-10-06T20:19:12.227464",
          "2022-10-06T20:28:25.015389",
          "2022-10-06T20:32:00.361561",
          "2022-10-07T06:42:09.101000",
          "2022-10-08T14:41:25.865697",
          "2022-10-10T12:41:20.983687",
          "2022-10-13T12:51:05.688471",
          "2022-10-13T13:02:10.785172"
         ],
         "xaxis": "x40",
         "y": [
          0.049886481285873724,
          0.049886481284424654,
          0.049886481285873724,
          0.049886481285873724,
          0.049886481288383265,
          0.049886481285873724,
          0.049751569757839696,
          0.049886481284424654,
          0.049886481285873724,
          0.049886481284424654,
          0.049886481288383265
         ],
         "yaxis": "y40"
        },
        {
         "hovertemplate": "%{text}",
         "text": [
          "<br>Git Hash: f63afc9</br>\n<br>Version: 2022.3.0</br>\n<br>Timestamp 2022-10-06</br>",
          "<br>Git Hash: 630ed09</br>\n<br>Version: 2022.3.0</br>\n<br>Timestamp 2022-10-06</br>",
          "<br>Git Hash: 4d3a653</br>\n<br>Version: 2022.3.0</br>\n<br>Timestamp 2022-10-06</br>",
          "<br>Git Hash: 0c195ff</br>\n<br>Version: 2022.3.0</br>\n<br>Timestamp 2022-10-06</br>",
          "<br>Git Hash: c7df02b</br>\n<br>Version: 2022.3.0</br>\n<br>Timestamp 2022-10-06</br>",
          "<br>Git Hash: cf7cc9d</br>\n<br>Version: 2022.3.0</br>\n<br>Timestamp 2022-10-06</br>",
          "<br>Git Hash: d5edd92</br>\n<br>Version: 2022.3.0</br>\n<br>Timestamp 2022-10-07</br>",
          "<br>Git Hash: 4cc3e7a</br>\n<br>Version: 2022.3.2</br>\n<br>Timestamp 2022-10-08</br>",
          "<br>Git Hash: 32e43ff</br>\n<br>Version: 2022.3.2</br>\n<br>Timestamp 2022-10-10</br>",
          "<br>Git Hash: 97e958d</br>\n<br>Version: 2022.3.2</br>\n<br>Timestamp 2022-10-13</br>",
          "<br>Git Hash: 9d5c1b1</br>\n<br>Version: 2022.3.2</br>\n<br>Timestamp 2022-10-13</br>"
         ],
         "type": "scatter",
         "x": [
          "2022-10-06T16:25:06.830650",
          "2022-10-06T16:55:04.711879",
          "2022-10-06T20:09:07.230901",
          "2022-10-06T20:19:12.227464",
          "2022-10-06T20:28:25.015389",
          "2022-10-06T20:32:00.361561",
          "2022-10-07T06:42:09.101000",
          "2022-10-08T14:41:25.865697",
          "2022-10-10T12:41:20.983687",
          "2022-10-13T12:51:05.688471",
          "2022-10-13T13:02:10.785172"
         ],
         "xaxis": "x41",
         "y": [
          0,
          0,
          0,
          0,
          0,
          0,
          0,
          0,
          0,
          0,
          0
         ],
         "yaxis": "y41"
        },
        {
         "hovertemplate": "%{text}",
         "text": [
          "<br>Git Hash: f63afc9</br>\n<br>Version: 2022.3.0</br>\n<br>Timestamp 2022-10-06</br>",
          "<br>Git Hash: 630ed09</br>\n<br>Version: 2022.3.0</br>\n<br>Timestamp 2022-10-06</br>",
          "<br>Git Hash: 4d3a653</br>\n<br>Version: 2022.3.0</br>\n<br>Timestamp 2022-10-06</br>",
          "<br>Git Hash: 0c195ff</br>\n<br>Version: 2022.3.0</br>\n<br>Timestamp 2022-10-06</br>",
          "<br>Git Hash: c7df02b</br>\n<br>Version: 2022.3.0</br>\n<br>Timestamp 2022-10-06</br>",
          "<br>Git Hash: cf7cc9d</br>\n<br>Version: 2022.3.0</br>\n<br>Timestamp 2022-10-06</br>",
          "<br>Git Hash: d5edd92</br>\n<br>Version: 2022.3.0</br>\n<br>Timestamp 2022-10-07</br>",
          "<br>Git Hash: 4cc3e7a</br>\n<br>Version: 2022.3.2</br>\n<br>Timestamp 2022-10-08</br>",
          "<br>Git Hash: 32e43ff</br>\n<br>Version: 2022.3.2</br>\n<br>Timestamp 2022-10-10</br>",
          "<br>Git Hash: 97e958d</br>\n<br>Version: 2022.3.2</br>\n<br>Timestamp 2022-10-13</br>",
          "<br>Git Hash: 9d5c1b1</br>\n<br>Version: 2022.3.2</br>\n<br>Timestamp 2022-10-13</br>"
         ],
         "type": "scatter",
         "x": [
          "2022-10-06T16:25:06.830650",
          "2022-10-06T16:55:04.711879",
          "2022-10-06T20:09:07.230901",
          "2022-10-06T20:19:12.227464",
          "2022-10-06T20:28:25.015389",
          "2022-10-06T20:32:00.361561",
          "2022-10-07T06:42:09.101000",
          "2022-10-08T14:41:25.865697",
          "2022-10-10T12:41:20.983687",
          "2022-10-13T12:51:05.688471",
          "2022-10-13T13:02:10.785172"
         ],
         "xaxis": "x42",
         "y": [
          0.24943240642936862,
          0.24943240642212325,
          0.24943240642936862,
          0.24943240642936862,
          0.2494324064419163,
          0.24943240642936862,
          0.24875784878919846,
          0.24943240642212325,
          0.24943240642936862,
          0.24943240642212325,
          0.2494324064419163
         ],
         "yaxis": "y42"
        },
        {
         "hovertemplate": "%{text}",
         "text": [
          "<br>Git Hash: f63afc9</br>\n<br>Version: 2022.3.0</br>\n<br>Timestamp 2022-10-06</br>",
          "<br>Git Hash: 630ed09</br>\n<br>Version: 2022.3.0</br>\n<br>Timestamp 2022-10-06</br>",
          "<br>Git Hash: 4d3a653</br>\n<br>Version: 2022.3.0</br>\n<br>Timestamp 2022-10-06</br>",
          "<br>Git Hash: 0c195ff</br>\n<br>Version: 2022.3.0</br>\n<br>Timestamp 2022-10-06</br>",
          "<br>Git Hash: c7df02b</br>\n<br>Version: 2022.3.0</br>\n<br>Timestamp 2022-10-06</br>",
          "<br>Git Hash: cf7cc9d</br>\n<br>Version: 2022.3.0</br>\n<br>Timestamp 2022-10-06</br>",
          "<br>Git Hash: d5edd92</br>\n<br>Version: 2022.3.0</br>\n<br>Timestamp 2022-10-07</br>",
          "<br>Git Hash: 4cc3e7a</br>\n<br>Version: 2022.3.2</br>\n<br>Timestamp 2022-10-08</br>",
          "<br>Git Hash: 32e43ff</br>\n<br>Version: 2022.3.2</br>\n<br>Timestamp 2022-10-10</br>",
          "<br>Git Hash: 97e958d</br>\n<br>Version: 2022.3.2</br>\n<br>Timestamp 2022-10-13</br>",
          "<br>Git Hash: 9d5c1b1</br>\n<br>Version: 2022.3.2</br>\n<br>Timestamp 2022-10-13</br>"
         ],
         "type": "scatter",
         "x": [
          "2022-10-06T16:25:06.830650",
          "2022-10-06T16:55:04.711879",
          "2022-10-06T20:09:07.230901",
          "2022-10-06T20:19:12.227464",
          "2022-10-06T20:28:25.015389",
          "2022-10-06T20:32:00.361561",
          "2022-10-07T06:42:09.101000",
          "2022-10-08T14:41:25.865697",
          "2022-10-10T12:41:20.983687",
          "2022-10-13T12:51:05.688471",
          "2022-10-13T13:02:10.785172"
         ],
         "xaxis": "x43",
         "y": [
          138.05,
          138.05,
          138.05,
          138.05,
          138.05,
          138.05,
          138.05,
          138.05,
          138.05,
          138.05,
          138.05
         ],
         "yaxis": "y43"
        },
        {
         "hovertemplate": "%{text}",
         "text": [
          "<br>Git Hash: f63afc9</br>\n<br>Version: 2022.3.0</br>\n<br>Timestamp 2022-10-06</br>",
          "<br>Git Hash: 630ed09</br>\n<br>Version: 2022.3.0</br>\n<br>Timestamp 2022-10-06</br>",
          "<br>Git Hash: 4d3a653</br>\n<br>Version: 2022.3.0</br>\n<br>Timestamp 2022-10-06</br>",
          "<br>Git Hash: 0c195ff</br>\n<br>Version: 2022.3.0</br>\n<br>Timestamp 2022-10-06</br>",
          "<br>Git Hash: c7df02b</br>\n<br>Version: 2022.3.0</br>\n<br>Timestamp 2022-10-06</br>",
          "<br>Git Hash: cf7cc9d</br>\n<br>Version: 2022.3.0</br>\n<br>Timestamp 2022-10-06</br>",
          "<br>Git Hash: d5edd92</br>\n<br>Version: 2022.3.0</br>\n<br>Timestamp 2022-10-07</br>",
          "<br>Git Hash: 4cc3e7a</br>\n<br>Version: 2022.3.2</br>\n<br>Timestamp 2022-10-08</br>",
          "<br>Git Hash: 32e43ff</br>\n<br>Version: 2022.3.2</br>\n<br>Timestamp 2022-10-10</br>",
          "<br>Git Hash: 97e958d</br>\n<br>Version: 2022.3.2</br>\n<br>Timestamp 2022-10-13</br>",
          "<br>Git Hash: 9d5c1b1</br>\n<br>Version: 2022.3.2</br>\n<br>Timestamp 2022-10-13</br>"
         ],
         "type": "scatter",
         "x": [
          "2022-10-06T16:25:06.830650",
          "2022-10-06T16:55:04.711879",
          "2022-10-06T20:09:07.230901",
          "2022-10-06T20:19:12.227464",
          "2022-10-06T20:28:25.015389",
          "2022-10-06T20:32:00.361561",
          "2022-10-07T06:42:09.101000",
          "2022-10-08T14:41:25.865697",
          "2022-10-10T12:41:20.983687",
          "2022-10-13T12:51:05.688471",
          "2022-10-13T13:02:10.785172"
         ],
         "xaxis": "x44",
         "y": [
          0,
          0,
          0,
          0,
          0,
          0,
          0,
          0,
          0,
          0,
          0
         ],
         "yaxis": "y44"
        },
        {
         "hovertemplate": "%{text}",
         "text": [
          "<br>Git Hash: f63afc9</br>\n<br>Version: 2022.3.0</br>\n<br>Timestamp 2022-10-06</br>",
          "<br>Git Hash: 630ed09</br>\n<br>Version: 2022.3.0</br>\n<br>Timestamp 2022-10-06</br>",
          "<br>Git Hash: 4d3a653</br>\n<br>Version: 2022.3.0</br>\n<br>Timestamp 2022-10-06</br>",
          "<br>Git Hash: 0c195ff</br>\n<br>Version: 2022.3.0</br>\n<br>Timestamp 2022-10-06</br>",
          "<br>Git Hash: c7df02b</br>\n<br>Version: 2022.3.0</br>\n<br>Timestamp 2022-10-06</br>",
          "<br>Git Hash: cf7cc9d</br>\n<br>Version: 2022.3.0</br>\n<br>Timestamp 2022-10-06</br>",
          "<br>Git Hash: d5edd92</br>\n<br>Version: 2022.3.0</br>\n<br>Timestamp 2022-10-07</br>",
          "<br>Git Hash: 4cc3e7a</br>\n<br>Version: 2022.3.2</br>\n<br>Timestamp 2022-10-08</br>",
          "<br>Git Hash: 32e43ff</br>\n<br>Version: 2022.3.2</br>\n<br>Timestamp 2022-10-10</br>",
          "<br>Git Hash: 97e958d</br>\n<br>Version: 2022.3.2</br>\n<br>Timestamp 2022-10-13</br>",
          "<br>Git Hash: 9d5c1b1</br>\n<br>Version: 2022.3.2</br>\n<br>Timestamp 2022-10-13</br>"
         ],
         "type": "scatter",
         "x": [
          "2022-10-06T16:25:06.830650",
          "2022-10-06T16:55:04.711879",
          "2022-10-06T20:09:07.230901",
          "2022-10-06T20:19:12.227464",
          "2022-10-06T20:28:25.015389",
          "2022-10-06T20:32:00.361561",
          "2022-10-07T06:42:09.101000",
          "2022-10-08T14:41:25.865697",
          "2022-10-10T12:41:20.983687",
          "2022-10-13T12:51:05.688471",
          "2022-10-13T13:02:10.785172"
         ],
         "xaxis": "x45",
         "y": [
          0.049886481285873724,
          0.049886481284424654,
          0.049886481285873724,
          0.049886481285873724,
          0.049886481288383265,
          0.049886481285873724,
          0.049751569757839696,
          0.049886481284424654,
          0.049886481285873724,
          0.049886481284424654,
          0.049886481288383265
         ],
         "yaxis": "y45"
        },
        {
         "hovertemplate": "%{text}",
         "text": [
          "<br>Git Hash: f63afc9</br>\n<br>Version: 2022.3.0</br>\n<br>Timestamp 2022-10-06</br>",
          "<br>Git Hash: 630ed09</br>\n<br>Version: 2022.3.0</br>\n<br>Timestamp 2022-10-06</br>",
          "<br>Git Hash: 4d3a653</br>\n<br>Version: 2022.3.0</br>\n<br>Timestamp 2022-10-06</br>",
          "<br>Git Hash: 0c195ff</br>\n<br>Version: 2022.3.0</br>\n<br>Timestamp 2022-10-06</br>",
          "<br>Git Hash: c7df02b</br>\n<br>Version: 2022.3.0</br>\n<br>Timestamp 2022-10-06</br>",
          "<br>Git Hash: cf7cc9d</br>\n<br>Version: 2022.3.0</br>\n<br>Timestamp 2022-10-06</br>",
          "<br>Git Hash: d5edd92</br>\n<br>Version: 2022.3.0</br>\n<br>Timestamp 2022-10-07</br>",
          "<br>Git Hash: 4cc3e7a</br>\n<br>Version: 2022.3.2</br>\n<br>Timestamp 2022-10-08</br>",
          "<br>Git Hash: 32e43ff</br>\n<br>Version: 2022.3.2</br>\n<br>Timestamp 2022-10-10</br>",
          "<br>Git Hash: 97e958d</br>\n<br>Version: 2022.3.2</br>\n<br>Timestamp 2022-10-13</br>",
          "<br>Git Hash: 9d5c1b1</br>\n<br>Version: 2022.3.2</br>\n<br>Timestamp 2022-10-13</br>"
         ],
         "type": "scatter",
         "x": [
          "2022-10-06T16:25:06.830650",
          "2022-10-06T16:55:04.711879",
          "2022-10-06T20:09:07.230901",
          "2022-10-06T20:19:12.227464",
          "2022-10-06T20:28:25.015389",
          "2022-10-06T20:32:00.361561",
          "2022-10-07T06:42:09.101000",
          "2022-10-08T14:41:25.865697",
          "2022-10-10T12:41:20.983687",
          "2022-10-13T12:51:05.688471",
          "2022-10-13T13:02:10.785172"
         ],
         "xaxis": "x46",
         "y": [
          0,
          0,
          0,
          0,
          0,
          0,
          0,
          0,
          0,
          0,
          0
         ],
         "yaxis": "y46"
        },
        {
         "hovertemplate": "%{text}",
         "text": [
          "<br>Git Hash: f63afc9</br>\n<br>Version: 2022.3.0</br>\n<br>Timestamp 2022-10-06</br>",
          "<br>Git Hash: 630ed09</br>\n<br>Version: 2022.3.0</br>\n<br>Timestamp 2022-10-06</br>",
          "<br>Git Hash: 4d3a653</br>\n<br>Version: 2022.3.0</br>\n<br>Timestamp 2022-10-06</br>",
          "<br>Git Hash: 0c195ff</br>\n<br>Version: 2022.3.0</br>\n<br>Timestamp 2022-10-06</br>",
          "<br>Git Hash: c7df02b</br>\n<br>Version: 2022.3.0</br>\n<br>Timestamp 2022-10-06</br>",
          "<br>Git Hash: cf7cc9d</br>\n<br>Version: 2022.3.0</br>\n<br>Timestamp 2022-10-06</br>",
          "<br>Git Hash: d5edd92</br>\n<br>Version: 2022.3.0</br>\n<br>Timestamp 2022-10-07</br>",
          "<br>Git Hash: 4cc3e7a</br>\n<br>Version: 2022.3.2</br>\n<br>Timestamp 2022-10-08</br>",
          "<br>Git Hash: 32e43ff</br>\n<br>Version: 2022.3.2</br>\n<br>Timestamp 2022-10-10</br>",
          "<br>Git Hash: 97e958d</br>\n<br>Version: 2022.3.2</br>\n<br>Timestamp 2022-10-13</br>",
          "<br>Git Hash: 9d5c1b1</br>\n<br>Version: 2022.3.2</br>\n<br>Timestamp 2022-10-13</br>"
         ],
         "type": "scatter",
         "x": [
          "2022-10-06T16:25:06.830650",
          "2022-10-06T16:55:04.711879",
          "2022-10-06T20:09:07.230901",
          "2022-10-06T20:19:12.227464",
          "2022-10-06T20:28:25.015389",
          "2022-10-06T20:32:00.361561",
          "2022-10-07T06:42:09.101000",
          "2022-10-08T14:41:25.865697",
          "2022-10-10T12:41:20.983687",
          "2022-10-13T12:51:05.688471",
          "2022-10-13T13:02:10.785172"
         ],
         "xaxis": "x47",
         "y": [
          0.24943240642936862,
          0.24943240642212325,
          0.24943240642936862,
          0.24943240642936862,
          0.2494324064419163,
          0.24943240642936862,
          0.24875784878919846,
          0.24943240642212325,
          0.24943240642936862,
          0.24943240642212325,
          0.2494324064419163
         ],
         "yaxis": "y47"
        },
        {
         "hovertemplate": "%{text}",
         "text": [
          "<br>Git Hash: f63afc9</br>\n<br>Version: 2022.3.0</br>\n<br>Timestamp 2022-10-06</br>",
          "<br>Git Hash: 630ed09</br>\n<br>Version: 2022.3.0</br>\n<br>Timestamp 2022-10-06</br>",
          "<br>Git Hash: 4d3a653</br>\n<br>Version: 2022.3.0</br>\n<br>Timestamp 2022-10-06</br>",
          "<br>Git Hash: 0c195ff</br>\n<br>Version: 2022.3.0</br>\n<br>Timestamp 2022-10-06</br>",
          "<br>Git Hash: c7df02b</br>\n<br>Version: 2022.3.0</br>\n<br>Timestamp 2022-10-06</br>",
          "<br>Git Hash: cf7cc9d</br>\n<br>Version: 2022.3.0</br>\n<br>Timestamp 2022-10-06</br>",
          "<br>Git Hash: d5edd92</br>\n<br>Version: 2022.3.0</br>\n<br>Timestamp 2022-10-07</br>",
          "<br>Git Hash: 4cc3e7a</br>\n<br>Version: 2022.3.2</br>\n<br>Timestamp 2022-10-08</br>",
          "<br>Git Hash: 32e43ff</br>\n<br>Version: 2022.3.2</br>\n<br>Timestamp 2022-10-10</br>",
          "<br>Git Hash: 97e958d</br>\n<br>Version: 2022.3.2</br>\n<br>Timestamp 2022-10-13</br>",
          "<br>Git Hash: 9d5c1b1</br>\n<br>Version: 2022.3.2</br>\n<br>Timestamp 2022-10-13</br>"
         ],
         "type": "scatter",
         "x": [
          "2022-10-06T16:25:06.830650",
          "2022-10-06T16:55:04.711879",
          "2022-10-06T20:09:07.230901",
          "2022-10-06T20:19:12.227464",
          "2022-10-06T20:28:25.015389",
          "2022-10-06T20:32:00.361561",
          "2022-10-07T06:42:09.101000",
          "2022-10-08T14:41:25.865697",
          "2022-10-10T12:41:20.983687",
          "2022-10-13T12:51:05.688471",
          "2022-10-13T13:02:10.785172"
         ],
         "xaxis": "x48",
         "y": [
          138.05,
          138.05,
          138.05,
          138.05,
          138.05,
          138.05,
          138.05,
          138.05,
          138.05,
          138.05,
          138.05
         ],
         "yaxis": "y48"
        }
       ],
       "layout": {
        "annotations": [
         {
          "font": {
           "size": 16
          },
          "showarrow": false,
          "text": "import_time",
          "x": 0.5,
          "xanchor": "center",
          "xref": "paper",
          "y": 1.0000000000000004,
          "yanchor": "bottom",
          "yref": "paper"
         },
         {
          "font": {
           "size": 16
          },
          "showarrow": false,
          "text": "create_runner_time",
          "x": 0.5,
          "xanchor": "center",
          "xref": "paper",
          "y": 0.9789496527777783,
          "yanchor": "bottom",
          "yref": "paper"
         },
         {
          "font": {
           "size": 16
          },
          "showarrow": false,
          "text": "solve_time",
          "x": 0.5,
          "xanchor": "center",
          "xref": "paper",
          "y": 0.957899305555556,
          "yanchor": "bottom",
          "yref": "paper"
         },
         {
          "font": {
           "size": 16
          },
          "showarrow": false,
          "text": "maxTa",
          "x": 0.5,
          "xanchor": "center",
          "xref": "paper",
          "y": 0.9368489583333338,
          "yanchor": "bottom",
          "yref": "paper"
         },
         {
          "font": {
           "size": 16
          },
          "showarrow": false,
          "text": "ampTa",
          "x": 0.5,
          "xanchor": "center",
          "xref": "paper",
          "y": 0.9157986111111116,
          "yanchor": "bottom",
          "yref": "paper"
         },
         {
          "font": {
           "size": 16
          },
          "showarrow": false,
          "text": "APD40",
          "x": 0.5,
          "xanchor": "center",
          "xref": "paper",
          "y": 0.8947482638888893,
          "yanchor": "bottom",
          "yref": "paper"
         },
         {
          "font": {
           "size": 16
          },
          "showarrow": false,
          "text": "APD50",
          "x": 0.5,
          "xanchor": "center",
          "xref": "paper",
          "y": 0.8736979166666671,
          "yanchor": "bottom",
          "yref": "paper"
         },
         {
          "font": {
           "size": 16
          },
          "showarrow": false,
          "text": "APD90",
          "x": 0.5,
          "xanchor": "center",
          "xref": "paper",
          "y": 0.8526475694444449,
          "yanchor": "bottom",
          "yref": "paper"
         },
         {
          "font": {
           "size": 16
          },
          "showarrow": false,
          "text": "triangulation",
          "x": 0.5,
          "xanchor": "center",
          "xref": "paper",
          "y": 0.8315972222222225,
          "yanchor": "bottom",
          "yref": "paper"
         },
         {
          "font": {
           "size": 16
          },
          "showarrow": false,
          "text": "Vpeak",
          "x": 0.5,
          "xanchor": "center",
          "xref": "paper",
          "y": 0.8105468750000003,
          "yanchor": "bottom",
          "yref": "paper"
         },
         {
          "font": {
           "size": 16
          },
          "showarrow": false,
          "text": "Vmin",
          "x": 0.5,
          "xanchor": "center",
          "xref": "paper",
          "y": 0.7894965277777781,
          "yanchor": "bottom",
          "yref": "paper"
         },
         {
          "font": {
           "size": 16
          },
          "showarrow": false,
          "text": "dvdt",
          "x": 0.5,
          "xanchor": "center",
          "xref": "paper",
          "y": 0.7684461805555558,
          "yanchor": "bottom",
          "yref": "paper"
         },
         {
          "font": {
           "size": 16
          },
          "showarrow": false,
          "text": "maxCa",
          "x": 0.5,
          "xanchor": "center",
          "xref": "paper",
          "y": 0.7473958333333336,
          "yanchor": "bottom",
          "yref": "paper"
         },
         {
          "font": {
           "size": 16
          },
          "showarrow": false,
          "text": "ampCa",
          "x": 0.5,
          "xanchor": "center",
          "xref": "paper",
          "y": 0.7263454861111114,
          "yanchor": "bottom",
          "yref": "paper"
         },
         {
          "font": {
           "size": 16
          },
          "showarrow": false,
          "text": "CaTD50",
          "x": 0.5,
          "xanchor": "center",
          "xref": "paper",
          "y": 0.7052951388888891,
          "yanchor": "bottom",
          "yref": "paper"
         },
         {
          "font": {
           "size": 16
          },
          "showarrow": false,
          "text": "CaTD80",
          "x": 0.5,
          "xanchor": "center",
          "xref": "paper",
          "y": 0.6842447916666669,
          "yanchor": "bottom",
          "yref": "paper"
         },
         {
          "font": {
           "size": 16
          },
          "showarrow": false,
          "text": "CaTD90",
          "x": 0.5,
          "xanchor": "center",
          "xref": "paper",
          "y": 0.6631944444444446,
          "yanchor": "bottom",
          "yref": "paper"
         },
         {
          "font": {
           "size": 16
          },
          "showarrow": false,
          "text": "ttp_Ta",
          "x": 0.5,
          "xanchor": "center",
          "xref": "paper",
          "y": 0.6421440972222223,
          "yanchor": "bottom",
          "yref": "paper"
         },
         {
          "font": {
           "size": 16
          },
          "showarrow": false,
          "text": "rt50_Ta",
          "x": 0.5,
          "xanchor": "center",
          "xref": "paper",
          "y": 0.6210937500000001,
          "yanchor": "bottom",
          "yref": "paper"
         },
         {
          "font": {
           "size": 16
          },
          "showarrow": false,
          "text": "rt95_Ta",
          "x": 0.5,
          "xanchor": "center",
          "xref": "paper",
          "y": 0.6000434027777779,
          "yanchor": "bottom",
          "yref": "paper"
         },
         {
          "font": {
           "size": 16
          },
          "showarrow": false,
          "text": "maxlmbda",
          "x": 0.5,
          "xanchor": "center",
          "xref": "paper",
          "y": 0.5789930555555556,
          "yanchor": "bottom",
          "yref": "paper"
         },
         {
          "font": {
           "size": 16
          },
          "showarrow": false,
          "text": "minlmbda",
          "x": 0.5,
          "xanchor": "center",
          "xref": "paper",
          "y": 0.5579427083333334,
          "yanchor": "bottom",
          "yref": "paper"
         },
         {
          "font": {
           "size": 16
          },
          "showarrow": false,
          "text": "ttplmbda",
          "x": 0.5,
          "xanchor": "center",
          "xref": "paper",
          "y": 0.5368923611111112,
          "yanchor": "bottom",
          "yref": "paper"
         },
         {
          "font": {
           "size": 16
          },
          "showarrow": false,
          "text": "lmbdaD50",
          "x": 0.5,
          "xanchor": "center",
          "xref": "paper",
          "y": 0.5158420138888888,
          "yanchor": "bottom",
          "yref": "paper"
         },
         {
          "font": {
           "size": 16
          },
          "showarrow": false,
          "text": "lmbdaD80",
          "x": 0.5,
          "xanchor": "center",
          "xref": "paper",
          "y": 0.49479166666666663,
          "yanchor": "bottom",
          "yref": "paper"
         },
         {
          "font": {
           "size": 16
          },
          "showarrow": false,
          "text": "lmbdaD90",
          "x": 0.5,
          "xanchor": "center",
          "xref": "paper",
          "y": 0.4737413194444444,
          "yanchor": "bottom",
          "yref": "paper"
         },
         {
          "font": {
           "size": 16
          },
          "showarrow": false,
          "text": "rt50_lmbda",
          "x": 0.5,
          "xanchor": "center",
          "xref": "paper",
          "y": 0.4526909722222222,
          "yanchor": "bottom",
          "yref": "paper"
         },
         {
          "font": {
           "size": 16
          },
          "showarrow": false,
          "text": "rt95_lmbda",
          "x": 0.5,
          "xanchor": "center",
          "xref": "paper",
          "y": 0.431640625,
          "yanchor": "bottom",
          "yref": "paper"
         },
         {
          "font": {
           "size": 16
          },
          "showarrow": false,
          "text": "max_displacement_norm",
          "x": 0.5,
          "xanchor": "center",
          "xref": "paper",
          "y": 0.4105902777777778,
          "yanchor": "bottom",
          "yref": "paper"
         },
         {
          "font": {
           "size": 16
          },
          "showarrow": false,
          "text": "rel_max_displacement_norm",
          "x": 0.5,
          "xanchor": "center",
          "xref": "paper",
          "y": 0.3895399305555556,
          "yanchor": "bottom",
          "yref": "paper"
         },
         {
          "font": {
           "size": 16
          },
          "showarrow": false,
          "text": "max_displacement_perc_norm",
          "x": 0.5,
          "xanchor": "center",
          "xref": "paper",
          "y": 0.3684895833333333,
          "yanchor": "bottom",
          "yref": "paper"
         },
         {
          "font": {
           "size": 16
          },
          "showarrow": false,
          "text": "rel_max_displacement_perc_norm",
          "x": 0.5,
          "xanchor": "center",
          "xref": "paper",
          "y": 0.3474392361111111,
          "yanchor": "bottom",
          "yref": "paper"
         },
         {
          "font": {
           "size": 16
          },
          "showarrow": false,
          "text": "time_to_max_displacement_norm",
          "x": 0.5,
          "xanchor": "center",
          "xref": "paper",
          "y": 0.3263888888888889,
          "yanchor": "bottom",
          "yref": "paper"
         },
         {
          "font": {
           "size": 16
          },
          "showarrow": false,
          "text": "max_displacement_x",
          "x": 0.5,
          "xanchor": "center",
          "xref": "paper",
          "y": 0.30533854166666663,
          "yanchor": "bottom",
          "yref": "paper"
         },
         {
          "font": {
           "size": 16
          },
          "showarrow": false,
          "text": "rel_max_displacement_x",
          "x": 0.5,
          "xanchor": "center",
          "xref": "paper",
          "y": 0.2842881944444444,
          "yanchor": "bottom",
          "yref": "paper"
         },
         {
          "font": {
           "size": 16
          },
          "showarrow": false,
          "text": "max_displacement_perc_x",
          "x": 0.5,
          "xanchor": "center",
          "xref": "paper",
          "y": 0.2632378472222222,
          "yanchor": "bottom",
          "yref": "paper"
         },
         {
          "font": {
           "size": 16
          },
          "showarrow": false,
          "text": "rel_max_displacement_perc_x",
          "x": 0.5,
          "xanchor": "center",
          "xref": "paper",
          "y": 0.24218749999999997,
          "yanchor": "bottom",
          "yref": "paper"
         },
         {
          "font": {
           "size": 16
          },
          "showarrow": false,
          "text": "time_to_max_displacement_x",
          "x": 0.5,
          "xanchor": "center",
          "xref": "paper",
          "y": 0.22113715277777776,
          "yanchor": "bottom",
          "yref": "paper"
         },
         {
          "font": {
           "size": 16
          },
          "showarrow": false,
          "text": "max_displacement_y",
          "x": 0.5,
          "xanchor": "center",
          "xref": "paper",
          "y": 0.20008680555555555,
          "yanchor": "bottom",
          "yref": "paper"
         },
         {
          "font": {
           "size": 16
          },
          "showarrow": false,
          "text": "rel_max_displacement_y",
          "x": 0.5,
          "xanchor": "center",
          "xref": "paper",
          "y": 0.17903645833333334,
          "yanchor": "bottom",
          "yref": "paper"
         },
         {
          "font": {
           "size": 16
          },
          "showarrow": false,
          "text": "max_displacement_perc_y",
          "x": 0.5,
          "xanchor": "center",
          "xref": "paper",
          "y": 0.1579861111111111,
          "yanchor": "bottom",
          "yref": "paper"
         },
         {
          "font": {
           "size": 16
          },
          "showarrow": false,
          "text": "rel_max_displacement_perc_y",
          "x": 0.5,
          "xanchor": "center",
          "xref": "paper",
          "y": 0.1369357638888889,
          "yanchor": "bottom",
          "yref": "paper"
         },
         {
          "font": {
           "size": 16
          },
          "showarrow": false,
          "text": "time_to_max_displacement_y",
          "x": 0.5,
          "xanchor": "center",
          "xref": "paper",
          "y": 0.11588541666666667,
          "yanchor": "bottom",
          "yref": "paper"
         },
         {
          "font": {
           "size": 16
          },
          "showarrow": false,
          "text": "max_displacement_z",
          "x": 0.5,
          "xanchor": "center",
          "xref": "paper",
          "y": 0.09483506944444445,
          "yanchor": "bottom",
          "yref": "paper"
         },
         {
          "font": {
           "size": 16
          },
          "showarrow": false,
          "text": "rel_max_displacement_z",
          "x": 0.5,
          "xanchor": "center",
          "xref": "paper",
          "y": 0.07378472222222222,
          "yanchor": "bottom",
          "yref": "paper"
         },
         {
          "font": {
           "size": 16
          },
          "showarrow": false,
          "text": "max_displacement_perc_z",
          "x": 0.5,
          "xanchor": "center",
          "xref": "paper",
          "y": 0.05273437500000001,
          "yanchor": "bottom",
          "yref": "paper"
         },
         {
          "font": {
           "size": 16
          },
          "showarrow": false,
          "text": "rel_max_displacement_perc_z",
          "x": 0.5,
          "xanchor": "center",
          "xref": "paper",
          "y": 0.03168402777777778,
          "yanchor": "bottom",
          "yref": "paper"
         },
         {
          "font": {
           "size": 16
          },
          "showarrow": false,
          "text": "time_to_max_displacement_z",
          "x": 0.5,
          "xanchor": "center",
          "xref": "paper",
          "y": 0.010633680555555558,
          "yanchor": "bottom",
          "yref": "paper"
         }
        ],
        "height": 3500,
        "showlegend": false,
        "template": {
         "data": {
          "bar": [
           {
            "error_x": {
             "color": "#2a3f5f"
            },
            "error_y": {
             "color": "#2a3f5f"
            },
            "marker": {
             "line": {
              "color": "#E5ECF6",
              "width": 0.5
             },
             "pattern": {
              "fillmode": "overlay",
              "size": 10,
              "solidity": 0.2
             }
            },
            "type": "bar"
           }
          ],
          "barpolar": [
           {
            "marker": {
             "line": {
              "color": "#E5ECF6",
              "width": 0.5
             },
             "pattern": {
              "fillmode": "overlay",
              "size": 10,
              "solidity": 0.2
             }
            },
            "type": "barpolar"
           }
          ],
          "carpet": [
           {
            "aaxis": {
             "endlinecolor": "#2a3f5f",
             "gridcolor": "white",
             "linecolor": "white",
             "minorgridcolor": "white",
             "startlinecolor": "#2a3f5f"
            },
            "baxis": {
             "endlinecolor": "#2a3f5f",
             "gridcolor": "white",
             "linecolor": "white",
             "minorgridcolor": "white",
             "startlinecolor": "#2a3f5f"
            },
            "type": "carpet"
           }
          ],
          "choropleth": [
           {
            "colorbar": {
             "outlinewidth": 0,
             "ticks": ""
            },
            "type": "choropleth"
           }
          ],
          "contour": [
           {
            "colorbar": {
             "outlinewidth": 0,
             "ticks": ""
            },
            "colorscale": [
             [
              0,
              "#0d0887"
             ],
             [
              0.1111111111111111,
              "#46039f"
             ],
             [
              0.2222222222222222,
              "#7201a8"
             ],
             [
              0.3333333333333333,
              "#9c179e"
             ],
             [
              0.4444444444444444,
              "#bd3786"
             ],
             [
              0.5555555555555556,
              "#d8576b"
             ],
             [
              0.6666666666666666,
              "#ed7953"
             ],
             [
              0.7777777777777778,
              "#fb9f3a"
             ],
             [
              0.8888888888888888,
              "#fdca26"
             ],
             [
              1,
              "#f0f921"
             ]
            ],
            "type": "contour"
           }
          ],
          "contourcarpet": [
           {
            "colorbar": {
             "outlinewidth": 0,
             "ticks": ""
            },
            "type": "contourcarpet"
           }
          ],
          "heatmap": [
           {
            "colorbar": {
             "outlinewidth": 0,
             "ticks": ""
            },
            "colorscale": [
             [
              0,
              "#0d0887"
             ],
             [
              0.1111111111111111,
              "#46039f"
             ],
             [
              0.2222222222222222,
              "#7201a8"
             ],
             [
              0.3333333333333333,
              "#9c179e"
             ],
             [
              0.4444444444444444,
              "#bd3786"
             ],
             [
              0.5555555555555556,
              "#d8576b"
             ],
             [
              0.6666666666666666,
              "#ed7953"
             ],
             [
              0.7777777777777778,
              "#fb9f3a"
             ],
             [
              0.8888888888888888,
              "#fdca26"
             ],
             [
              1,
              "#f0f921"
             ]
            ],
            "type": "heatmap"
           }
          ],
          "heatmapgl": [
           {
            "colorbar": {
             "outlinewidth": 0,
             "ticks": ""
            },
            "colorscale": [
             [
              0,
              "#0d0887"
             ],
             [
              0.1111111111111111,
              "#46039f"
             ],
             [
              0.2222222222222222,
              "#7201a8"
             ],
             [
              0.3333333333333333,
              "#9c179e"
             ],
             [
              0.4444444444444444,
              "#bd3786"
             ],
             [
              0.5555555555555556,
              "#d8576b"
             ],
             [
              0.6666666666666666,
              "#ed7953"
             ],
             [
              0.7777777777777778,
              "#fb9f3a"
             ],
             [
              0.8888888888888888,
              "#fdca26"
             ],
             [
              1,
              "#f0f921"
             ]
            ],
            "type": "heatmapgl"
           }
          ],
          "histogram": [
           {
            "marker": {
             "pattern": {
              "fillmode": "overlay",
              "size": 10,
              "solidity": 0.2
             }
            },
            "type": "histogram"
           }
          ],
          "histogram2d": [
           {
            "colorbar": {
             "outlinewidth": 0,
             "ticks": ""
            },
            "colorscale": [
             [
              0,
              "#0d0887"
             ],
             [
              0.1111111111111111,
              "#46039f"
             ],
             [
              0.2222222222222222,
              "#7201a8"
             ],
             [
              0.3333333333333333,
              "#9c179e"
             ],
             [
              0.4444444444444444,
              "#bd3786"
             ],
             [
              0.5555555555555556,
              "#d8576b"
             ],
             [
              0.6666666666666666,
              "#ed7953"
             ],
             [
              0.7777777777777778,
              "#fb9f3a"
             ],
             [
              0.8888888888888888,
              "#fdca26"
             ],
             [
              1,
              "#f0f921"
             ]
            ],
            "type": "histogram2d"
           }
          ],
          "histogram2dcontour": [
           {
            "colorbar": {
             "outlinewidth": 0,
             "ticks": ""
            },
            "colorscale": [
             [
              0,
              "#0d0887"
             ],
             [
              0.1111111111111111,
              "#46039f"
             ],
             [
              0.2222222222222222,
              "#7201a8"
             ],
             [
              0.3333333333333333,
              "#9c179e"
             ],
             [
              0.4444444444444444,
              "#bd3786"
             ],
             [
              0.5555555555555556,
              "#d8576b"
             ],
             [
              0.6666666666666666,
              "#ed7953"
             ],
             [
              0.7777777777777778,
              "#fb9f3a"
             ],
             [
              0.8888888888888888,
              "#fdca26"
             ],
             [
              1,
              "#f0f921"
             ]
            ],
            "type": "histogram2dcontour"
           }
          ],
          "mesh3d": [
           {
            "colorbar": {
             "outlinewidth": 0,
             "ticks": ""
            },
            "type": "mesh3d"
           }
          ],
          "parcoords": [
           {
            "line": {
             "colorbar": {
              "outlinewidth": 0,
              "ticks": ""
             }
            },
            "type": "parcoords"
           }
          ],
          "pie": [
           {
            "automargin": true,
            "type": "pie"
           }
          ],
          "scatter": [
           {
            "fillpattern": {
             "fillmode": "overlay",
             "size": 10,
             "solidity": 0.2
            },
            "type": "scatter"
           }
          ],
          "scatter3d": [
           {
            "line": {
             "colorbar": {
              "outlinewidth": 0,
              "ticks": ""
             }
            },
            "marker": {
             "colorbar": {
              "outlinewidth": 0,
              "ticks": ""
             }
            },
            "type": "scatter3d"
           }
          ],
          "scattercarpet": [
           {
            "marker": {
             "colorbar": {
              "outlinewidth": 0,
              "ticks": ""
             }
            },
            "type": "scattercarpet"
           }
          ],
          "scattergeo": [
           {
            "marker": {
             "colorbar": {
              "outlinewidth": 0,
              "ticks": ""
             }
            },
            "type": "scattergeo"
           }
          ],
          "scattergl": [
           {
            "marker": {
             "colorbar": {
              "outlinewidth": 0,
              "ticks": ""
             }
            },
            "type": "scattergl"
           }
          ],
          "scattermapbox": [
           {
            "marker": {
             "colorbar": {
              "outlinewidth": 0,
              "ticks": ""
             }
            },
            "type": "scattermapbox"
           }
          ],
          "scatterpolar": [
           {
            "marker": {
             "colorbar": {
              "outlinewidth": 0,
              "ticks": ""
             }
            },
            "type": "scatterpolar"
           }
          ],
          "scatterpolargl": [
           {
            "marker": {
             "colorbar": {
              "outlinewidth": 0,
              "ticks": ""
             }
            },
            "type": "scatterpolargl"
           }
          ],
          "scatterternary": [
           {
            "marker": {
             "colorbar": {
              "outlinewidth": 0,
              "ticks": ""
             }
            },
            "type": "scatterternary"
           }
          ],
          "surface": [
           {
            "colorbar": {
             "outlinewidth": 0,
             "ticks": ""
            },
            "colorscale": [
             [
              0,
              "#0d0887"
             ],
             [
              0.1111111111111111,
              "#46039f"
             ],
             [
              0.2222222222222222,
              "#7201a8"
             ],
             [
              0.3333333333333333,
              "#9c179e"
             ],
             [
              0.4444444444444444,
              "#bd3786"
             ],
             [
              0.5555555555555556,
              "#d8576b"
             ],
             [
              0.6666666666666666,
              "#ed7953"
             ],
             [
              0.7777777777777778,
              "#fb9f3a"
             ],
             [
              0.8888888888888888,
              "#fdca26"
             ],
             [
              1,
              "#f0f921"
             ]
            ],
            "type": "surface"
           }
          ],
          "table": [
           {
            "cells": {
             "fill": {
              "color": "#EBF0F8"
             },
             "line": {
              "color": "white"
             }
            },
            "header": {
             "fill": {
              "color": "#C8D4E3"
             },
             "line": {
              "color": "white"
             }
            },
            "type": "table"
           }
          ]
         },
         "layout": {
          "annotationdefaults": {
           "arrowcolor": "#2a3f5f",
           "arrowhead": 0,
           "arrowwidth": 1
          },
          "autotypenumbers": "strict",
          "coloraxis": {
           "colorbar": {
            "outlinewidth": 0,
            "ticks": ""
           }
          },
          "colorscale": {
           "diverging": [
            [
             0,
             "#8e0152"
            ],
            [
             0.1,
             "#c51b7d"
            ],
            [
             0.2,
             "#de77ae"
            ],
            [
             0.3,
             "#f1b6da"
            ],
            [
             0.4,
             "#fde0ef"
            ],
            [
             0.5,
             "#f7f7f7"
            ],
            [
             0.6,
             "#e6f5d0"
            ],
            [
             0.7,
             "#b8e186"
            ],
            [
             0.8,
             "#7fbc41"
            ],
            [
             0.9,
             "#4d9221"
            ],
            [
             1,
             "#276419"
            ]
           ],
           "sequential": [
            [
             0,
             "#0d0887"
            ],
            [
             0.1111111111111111,
             "#46039f"
            ],
            [
             0.2222222222222222,
             "#7201a8"
            ],
            [
             0.3333333333333333,
             "#9c179e"
            ],
            [
             0.4444444444444444,
             "#bd3786"
            ],
            [
             0.5555555555555556,
             "#d8576b"
            ],
            [
             0.6666666666666666,
             "#ed7953"
            ],
            [
             0.7777777777777778,
             "#fb9f3a"
            ],
            [
             0.8888888888888888,
             "#fdca26"
            ],
            [
             1,
             "#f0f921"
            ]
           ],
           "sequentialminus": [
            [
             0,
             "#0d0887"
            ],
            [
             0.1111111111111111,
             "#46039f"
            ],
            [
             0.2222222222222222,
             "#7201a8"
            ],
            [
             0.3333333333333333,
             "#9c179e"
            ],
            [
             0.4444444444444444,
             "#bd3786"
            ],
            [
             0.5555555555555556,
             "#d8576b"
            ],
            [
             0.6666666666666666,
             "#ed7953"
            ],
            [
             0.7777777777777778,
             "#fb9f3a"
            ],
            [
             0.8888888888888888,
             "#fdca26"
            ],
            [
             1,
             "#f0f921"
            ]
           ]
          },
          "colorway": [
           "#636efa",
           "#EF553B",
           "#00cc96",
           "#ab63fa",
           "#FFA15A",
           "#19d3f3",
           "#FF6692",
           "#B6E880",
           "#FF97FF",
           "#FECB52"
          ],
          "font": {
           "color": "#2a3f5f"
          },
          "geo": {
           "bgcolor": "white",
           "lakecolor": "white",
           "landcolor": "#E5ECF6",
           "showlakes": true,
           "showland": true,
           "subunitcolor": "white"
          },
          "hoverlabel": {
           "align": "left"
          },
          "hovermode": "closest",
          "mapbox": {
           "style": "light"
          },
          "paper_bgcolor": "white",
          "plot_bgcolor": "#E5ECF6",
          "polar": {
           "angularaxis": {
            "gridcolor": "white",
            "linecolor": "white",
            "ticks": ""
           },
           "bgcolor": "#E5ECF6",
           "radialaxis": {
            "gridcolor": "white",
            "linecolor": "white",
            "ticks": ""
           }
          },
          "scene": {
           "xaxis": {
            "backgroundcolor": "#E5ECF6",
            "gridcolor": "white",
            "gridwidth": 2,
            "linecolor": "white",
            "showbackground": true,
            "ticks": "",
            "zerolinecolor": "white"
           },
           "yaxis": {
            "backgroundcolor": "#E5ECF6",
            "gridcolor": "white",
            "gridwidth": 2,
            "linecolor": "white",
            "showbackground": true,
            "ticks": "",
            "zerolinecolor": "white"
           },
           "zaxis": {
            "backgroundcolor": "#E5ECF6",
            "gridcolor": "white",
            "gridwidth": 2,
            "linecolor": "white",
            "showbackground": true,
            "ticks": "",
            "zerolinecolor": "white"
           }
          },
          "shapedefaults": {
           "line": {
            "color": "#2a3f5f"
           }
          },
          "ternary": {
           "aaxis": {
            "gridcolor": "white",
            "linecolor": "white",
            "ticks": ""
           },
           "baxis": {
            "gridcolor": "white",
            "linecolor": "white",
            "ticks": ""
           },
           "bgcolor": "#E5ECF6",
           "caxis": {
            "gridcolor": "white",
            "linecolor": "white",
            "ticks": ""
           }
          },
          "title": {
           "x": 0.05
          },
          "xaxis": {
           "automargin": true,
           "gridcolor": "white",
           "linecolor": "white",
           "ticks": "",
           "title": {
            "standoff": 15
           },
           "zerolinecolor": "white",
           "zerolinewidth": 2
          },
          "yaxis": {
           "automargin": true,
           "gridcolor": "white",
           "linecolor": "white",
           "ticks": "",
           "title": {
            "standoff": 15
           },
           "zerolinecolor": "white",
           "zerolinewidth": 2
          }
         }
        },
        "width": 1000,
        "xaxis": {
         "anchor": "y",
         "domain": [
          0,
          1
         ]
        },
        "xaxis10": {
         "anchor": "y10",
         "domain": [
          0,
          1
         ]
        },
        "xaxis11": {
         "anchor": "y11",
         "domain": [
          0,
          1
         ]
        },
        "xaxis12": {
         "anchor": "y12",
         "domain": [
          0,
          1
         ]
        },
        "xaxis13": {
         "anchor": "y13",
         "domain": [
          0,
          1
         ]
        },
        "xaxis14": {
         "anchor": "y14",
         "domain": [
          0,
          1
         ]
        },
        "xaxis15": {
         "anchor": "y15",
         "domain": [
          0,
          1
         ]
        },
        "xaxis16": {
         "anchor": "y16",
         "domain": [
          0,
          1
         ]
        },
        "xaxis17": {
         "anchor": "y17",
         "domain": [
          0,
          1
         ]
        },
        "xaxis18": {
         "anchor": "y18",
         "domain": [
          0,
          1
         ]
        },
        "xaxis19": {
         "anchor": "y19",
         "domain": [
          0,
          1
         ]
        },
        "xaxis2": {
         "anchor": "y2",
         "domain": [
          0,
          1
         ]
        },
        "xaxis20": {
         "anchor": "y20",
         "domain": [
          0,
          1
         ]
        },
        "xaxis21": {
         "anchor": "y21",
         "domain": [
          0,
          1
         ]
        },
        "xaxis22": {
         "anchor": "y22",
         "domain": [
          0,
          1
         ]
        },
        "xaxis23": {
         "anchor": "y23",
         "domain": [
          0,
          1
         ]
        },
        "xaxis24": {
         "anchor": "y24",
         "domain": [
          0,
          1
         ]
        },
        "xaxis25": {
         "anchor": "y25",
         "domain": [
          0,
          1
         ]
        },
        "xaxis26": {
         "anchor": "y26",
         "domain": [
          0,
          1
         ]
        },
        "xaxis27": {
         "anchor": "y27",
         "domain": [
          0,
          1
         ]
        },
        "xaxis28": {
         "anchor": "y28",
         "domain": [
          0,
          1
         ]
        },
        "xaxis29": {
         "anchor": "y29",
         "domain": [
          0,
          1
         ]
        },
        "xaxis3": {
         "anchor": "y3",
         "domain": [
          0,
          1
         ]
        },
        "xaxis30": {
         "anchor": "y30",
         "domain": [
          0,
          1
         ]
        },
        "xaxis31": {
         "anchor": "y31",
         "domain": [
          0,
          1
         ]
        },
        "xaxis32": {
         "anchor": "y32",
         "domain": [
          0,
          1
         ]
        },
        "xaxis33": {
         "anchor": "y33",
         "domain": [
          0,
          1
         ]
        },
        "xaxis34": {
         "anchor": "y34",
         "domain": [
          0,
          1
         ]
        },
        "xaxis35": {
         "anchor": "y35",
         "domain": [
          0,
          1
         ]
        },
        "xaxis36": {
         "anchor": "y36",
         "domain": [
          0,
          1
         ]
        },
        "xaxis37": {
         "anchor": "y37",
         "domain": [
          0,
          1
         ]
        },
        "xaxis38": {
         "anchor": "y38",
         "domain": [
          0,
          1
         ]
        },
        "xaxis39": {
         "anchor": "y39",
         "domain": [
          0,
          1
         ]
        },
        "xaxis4": {
         "anchor": "y4",
         "domain": [
          0,
          1
         ]
        },
        "xaxis40": {
         "anchor": "y40",
         "domain": [
          0,
          1
         ]
        },
        "xaxis41": {
         "anchor": "y41",
         "domain": [
          0,
          1
         ]
        },
        "xaxis42": {
         "anchor": "y42",
         "domain": [
          0,
          1
         ]
        },
        "xaxis43": {
         "anchor": "y43",
         "domain": [
          0,
          1
         ]
        },
        "xaxis44": {
         "anchor": "y44",
         "domain": [
          0,
          1
         ]
        },
        "xaxis45": {
         "anchor": "y45",
         "domain": [
          0,
          1
         ]
        },
        "xaxis46": {
         "anchor": "y46",
         "domain": [
          0,
          1
         ]
        },
        "xaxis47": {
         "anchor": "y47",
         "domain": [
          0,
          1
         ]
        },
        "xaxis48": {
         "anchor": "y48",
         "domain": [
          0,
          1
         ]
        },
        "xaxis5": {
         "anchor": "y5",
         "domain": [
          0,
          1
         ]
        },
        "xaxis6": {
         "anchor": "y6",
         "domain": [
          0,
          1
         ]
        },
        "xaxis7": {
         "anchor": "y7",
         "domain": [
          0,
          1
         ]
        },
        "xaxis8": {
         "anchor": "y8",
         "domain": [
          0,
          1
         ]
        },
        "xaxis9": {
         "anchor": "y9",
         "domain": [
          0,
          1
         ]
        },
        "yaxis": {
         "anchor": "x",
         "domain": [
          0.989366319444445,
          1
         ]
        },
        "yaxis10": {
         "anchor": "x10",
         "domain": [
          0.7999131944444448,
          0.8105468750000003
         ]
        },
        "yaxis11": {
         "anchor": "x11",
         "domain": [
          0.7788628472222225,
          0.7894965277777781
         ]
        },
        "yaxis12": {
         "anchor": "x12",
         "domain": [
          0.7578125000000002,
          0.7684461805555558
         ]
        },
        "yaxis13": {
         "anchor": "x13",
         "domain": [
          0.736762152777778,
          0.7473958333333336
         ]
        },
        "yaxis14": {
         "anchor": "x14",
         "domain": [
          0.7157118055555558,
          0.7263454861111114
         ]
        },
        "yaxis15": {
         "anchor": "x15",
         "domain": [
          0.6946614583333335,
          0.7052951388888891
         ]
        },
        "yaxis16": {
         "anchor": "x16",
         "domain": [
          0.6736111111111113,
          0.6842447916666669
         ]
        },
        "yaxis17": {
         "anchor": "x17",
         "domain": [
          0.6525607638888891,
          0.6631944444444446
         ]
        },
        "yaxis18": {
         "anchor": "x18",
         "domain": [
          0.6315104166666667,
          0.6421440972222223
         ]
        },
        "yaxis19": {
         "anchor": "x19",
         "domain": [
          0.6104600694444445,
          0.6210937500000001
         ]
        },
        "yaxis2": {
         "anchor": "x2",
         "domain": [
          0.9683159722222228,
          0.9789496527777783
         ]
        },
        "yaxis20": {
         "anchor": "x20",
         "domain": [
          0.5894097222222223,
          0.6000434027777779
         ]
        },
        "yaxis21": {
         "anchor": "x21",
         "domain": [
          0.568359375,
          0.5789930555555556
         ]
        },
        "yaxis22": {
         "anchor": "x22",
         "domain": [
          0.5473090277777778,
          0.5579427083333334
         ]
        },
        "yaxis23": {
         "anchor": "x23",
         "domain": [
          0.5262586805555556,
          0.5368923611111112
         ]
        },
        "yaxis24": {
         "anchor": "x24",
         "domain": [
          0.5052083333333333,
          0.5158420138888888
         ]
        },
        "yaxis25": {
         "anchor": "x25",
         "domain": [
          0.48415798611111105,
          0.49479166666666663
         ]
        },
        "yaxis26": {
         "anchor": "x26",
         "domain": [
          0.46310763888888884,
          0.4737413194444444
         ]
        },
        "yaxis27": {
         "anchor": "x27",
         "domain": [
          0.44205729166666663,
          0.4526909722222222
         ]
        },
        "yaxis28": {
         "anchor": "x28",
         "domain": [
          0.4210069444444444,
          0.431640625
         ]
        },
        "yaxis29": {
         "anchor": "x29",
         "domain": [
          0.3999565972222222,
          0.4105902777777778
         ]
        },
        "yaxis3": {
         "anchor": "x3",
         "domain": [
          0.9472656250000004,
          0.957899305555556
         ]
        },
        "yaxis30": {
         "anchor": "x30",
         "domain": [
          0.37890625,
          0.3895399305555556
         ]
        },
        "yaxis31": {
         "anchor": "x31",
         "domain": [
          0.35785590277777773,
          0.3684895833333333
         ]
        },
        "yaxis32": {
         "anchor": "x32",
         "domain": [
          0.3368055555555555,
          0.3474392361111111
         ]
        },
        "yaxis33": {
         "anchor": "x33",
         "domain": [
          0.3157552083333333,
          0.3263888888888889
         ]
        },
        "yaxis34": {
         "anchor": "x34",
         "domain": [
          0.29470486111111105,
          0.30533854166666663
         ]
        },
        "yaxis35": {
         "anchor": "x35",
         "domain": [
          0.27365451388888884,
          0.2842881944444444
         ]
        },
        "yaxis36": {
         "anchor": "x36",
         "domain": [
          0.25260416666666663,
          0.2632378472222222
         ]
        },
        "yaxis37": {
         "anchor": "x37",
         "domain": [
          0.23155381944444442,
          0.24218749999999997
         ]
        },
        "yaxis38": {
         "anchor": "x38",
         "domain": [
          0.2105034722222222,
          0.22113715277777776
         ]
        },
        "yaxis39": {
         "anchor": "x39",
         "domain": [
          0.189453125,
          0.20008680555555555
         ]
        },
        "yaxis4": {
         "anchor": "x4",
         "domain": [
          0.9262152777777782,
          0.9368489583333338
         ]
        },
        "yaxis40": {
         "anchor": "x40",
         "domain": [
          0.1684027777777778,
          0.17903645833333334
         ]
        },
        "yaxis41": {
         "anchor": "x41",
         "domain": [
          0.14735243055555555,
          0.1579861111111111
         ]
        },
        "yaxis42": {
         "anchor": "x42",
         "domain": [
          0.12630208333333334,
          0.1369357638888889
         ]
        },
        "yaxis43": {
         "anchor": "x43",
         "domain": [
          0.10525173611111112,
          0.11588541666666667
         ]
        },
        "yaxis44": {
         "anchor": "x44",
         "domain": [
          0.0842013888888889,
          0.09483506944444445
         ]
        },
        "yaxis45": {
         "anchor": "x45",
         "domain": [
          0.06315104166666667,
          0.07378472222222222
         ]
        },
        "yaxis46": {
         "anchor": "x46",
         "domain": [
          0.04210069444444445,
          0.05273437500000001
         ]
        },
        "yaxis47": {
         "anchor": "x47",
         "domain": [
          0.021050347222222224,
          0.03168402777777778
         ]
        },
        "yaxis48": {
         "anchor": "x48",
         "domain": [
          0,
          0.010633680555555558
         ]
        },
        "yaxis5": {
         "anchor": "x5",
         "domain": [
          0.905164930555556,
          0.9157986111111116
         ]
        },
        "yaxis6": {
         "anchor": "x6",
         "domain": [
          0.8841145833333337,
          0.8947482638888893
         ]
        },
        "yaxis7": {
         "anchor": "x7",
         "domain": [
          0.8630642361111115,
          0.8736979166666671
         ]
        },
        "yaxis8": {
         "anchor": "x8",
         "domain": [
          0.8420138888888893,
          0.8526475694444449
         ]
        },
        "yaxis9": {
         "anchor": "x9",
         "domain": [
          0.820963541666667,
          0.8315972222222225
         ]
        }
       }
      }
     },
     "metadata": {},
     "output_type": "display_data"
    }
   ],
   "source": [
    "columns = [c for c in df.columns if c not in [\"timestamp\", \"simcardems_version\", \"git_hash\"]]\n",
    "git_hash = df[\"git_hash\"]\n",
    "versions = df[\"simcardems_version\"]\n",
    "dates = [t.date() for t in df[\"timestamp\"]]\n",
    "\n",
    "text = []\n",
    "for h,v, t in zip(git_hash, versions, dates):\n",
    "    text.append(\"\\n\".join([\n",
    "        f\"<br>Git Hash: {h}</br>\",\n",
    "        f\"<br>Version: {v}</br>\",\n",
    "        f\"<br>Timestamp {t}</br>\",\n",
    "    ]))\n",
    "    \n",
    "fig = make_subplots(rows=len(columns), cols=1, subplot_titles=columns)\n",
    "\n",
    "yranges = \n",
    "for i, c in enumerate(columns):\n",
    "    \n",
    "    row = i + 1\n",
    "    col = 1\n",
    "    \n",
    "    fig.add_trace(\n",
    "        go.Scatter(x=df[\"timestamp\"], y=df[c], text=text, hovertemplate=\"%{text}\"),\n",
    "        row=row, col=col\n",
    "    )\n",
    "    \n",
    "# fig.update_yaxes(range=[0, 0.4]\n",
    "fig.update_xaxes(mirror=True)\n",
    "fig.update_layout(\n",
    "    width=1000,\n",
    "    height=3500,\n",
    "    showlegend=False\n",
    ")\n",
    "fig.show()"
   ]
  },
  {
   "cell_type": "code",
   "execution_count": null,
   "id": "e1d79685",
   "metadata": {},
   "outputs": [],
   "source": []
  }
 ],
 "metadata": {
  "kernelspec": {
   "display_name": "Python 3 (ipykernel)",
   "language": "python",
   "name": "python3"
  },
  "language_info": {
   "codemirror_mode": {
    "name": "ipython",
    "version": 3
   },
   "file_extension": ".py",
   "mimetype": "text/x-python",
   "name": "python",
   "nbconvert_exporter": "python",
   "pygments_lexer": "ipython3",
   "version": "3.10.4"
  },
  "vscode": {
   "interpreter": {
    "hash": "008ae1a9ef378a188e8fa2b622d715fd7b65a63f3eb8449f558cfa85814f9757"
   }
  }
 },
 "nbformat": 4,
 "nbformat_minor": 5
}
