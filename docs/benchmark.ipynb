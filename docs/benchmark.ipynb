{
 "cells": [
  {
   "cell_type": "markdown",
   "id": "22e7a0b1",
   "metadata": {},
   "source": [
    "# Benchmark\n",
    "\n",
    "Whenever we make changes to the code we will rerun a simple benchmark in order to keep track of how the simulation results might change over time. It is in general hard to verify that the equations are implemented correctly because there exist no analytic solutions to the equations. However, by running the same benchmark over time we can see if the changes we make will impact the simulation results. Here the different biomarkers are taken from traces evaluated a the center of at slab that is simulated for 1000 ms (see the benchmark in the library for more details)"
   ]
  },
  {
   "cell_type": "code",
   "execution_count": 2,
   "id": "826ee07a",
   "metadata": {},
   "outputs": [],
   "source": [
    "from pathlib import Path\n",
    "import json\n",
    "import matplotlib.pyplot as plt\n",
    "import numpy as np\n",
    "import datetime\n",
    "from collections import defaultdict\n",
    "import plotly\n",
    "import pandas as pd\n",
    "import plotly.graph_objects as go\n",
    "from plotly.subplots import make_subplots\n",
    "\n",
    "pd.options.display.max_columns = 5"
   ]
  },
  {
   "cell_type": "code",
   "execution_count": 2,
   "id": "e4c0580c",
   "metadata": {},
   "outputs": [],
   "source": [
    "benchmark_folder = Path(\"__file__\").absolute().parent.parent / \"benchmarks\""
   ]
  },
  {
   "cell_type": "code",
   "execution_count": 3,
   "id": "4a0087e6",
   "metadata": {},
   "outputs": [],
   "source": [
    "all_hashes = [f.name for f in benchmark_folder.iterdir()]"
   ]
  },
  {
   "cell_type": "code",
   "execution_count": 4,
   "id": "669d6d30",
   "metadata": {
    "scrolled": true
   },
   "outputs": [
    {
     "name": "stdout",
     "output_type": "stream",
     "text": [
      "['c7df02b', '0c195ff', '4d3a653', 'd5edd92', 'f63afc9', '630ed09', 'cf7cc9d']\n"
     ]
    }
   ],
   "source": [
    "print(all_hashes)"
   ]
  },
  {
   "cell_type": "markdown",
   "id": "08b632e7",
   "metadata": {},
   "source": [
    "You can checkout a specific commit by going to the link\n",
    "\n",
    "https://github.com/ComputationalPhysiology/simcardems/commit/GIT_COMMIT_HASH\n",
    "\n",
    "where you swap out GIT_COMMIT_HASH with the specific hash, i.e"
   ]
  },
  {
   "cell_type": "code",
   "execution_count": 111,
   "id": "fdde9f88",
   "metadata": {},
   "outputs": [
    {
     "name": "stdout",
     "output_type": "stream",
     "text": [
      "https://github.com/ComputationalPhysiology/simcardems/commit/c7df02b\n",
      "https://github.com/ComputationalPhysiology/simcardems/commit/0c195ff\n",
      "https://github.com/ComputationalPhysiology/simcardems/commit/4d3a653\n",
      "https://github.com/ComputationalPhysiology/simcardems/commit/d5edd92\n",
      "https://github.com/ComputationalPhysiology/simcardems/commit/f63afc9\n",
      "https://github.com/ComputationalPhysiology/simcardems/commit/630ed09\n",
      "https://github.com/ComputationalPhysiology/simcardems/commit/cf7cc9d\n"
     ]
    }
   ],
   "source": [
    "for hash in all_hashes:\n",
    "    print(f\"https://github.com/ComputationalPhysiology/simcardems/commit/{hash}\")"
   ]
  },
  {
   "cell_type": "code",
   "execution_count": 5,
   "id": "d24561d1",
   "metadata": {},
   "outputs": [],
   "source": [
    "data = {}\n",
    "for git_hash in all_hashes:\n",
    "    results_file = benchmark_folder / git_hash / \"results.json\"\n",
    "    if not results_file.is_file():\n",
    "        print(f\"Results does not exist for version {git_hash}\")\n",
    "        continue\n",
    "    with open(results_file, \"r\") as f:\n",
    "        data[git_hash] = json.load(f)\n",
    "        "
   ]
  },
  {
   "cell_type": "code",
   "execution_count": 21,
   "id": "fc860bce",
   "metadata": {},
   "outputs": [],
   "source": [
    "results = defaultdict(list)\n",
    "\n",
    "for git_hash, d in data.items():\n",
    "    results[\"git_hash\"].append(git_hash)\n",
    "    for key, value in d.items():\n",
    "        results[key].append(value)"
   ]
  },
  {
   "cell_type": "code",
   "execution_count": 104,
   "id": "78fd5db3",
   "metadata": {
    "scrolled": true
   },
   "outputs": [
    {
     "data": {
      "text/html": [
       "<div>\n",
       "<style scoped>\n",
       "    .dataframe tbody tr th:only-of-type {\n",
       "        vertical-align: middle;\n",
       "    }\n",
       "\n",
       "    .dataframe tbody tr th {\n",
       "        vertical-align: top;\n",
       "    }\n",
       "\n",
       "    .dataframe thead th {\n",
       "        text-align: right;\n",
       "    }\n",
       "</style>\n",
       "<table border=\"1\" class=\"dataframe\">\n",
       "  <thead>\n",
       "    <tr style=\"text-align: right;\">\n",
       "      <th></th>\n",
       "      <th>git_hash</th>\n",
       "      <th>import_time</th>\n",
       "      <th>timestamp</th>\n",
       "      <th>simcardems_version</th>\n",
       "      <th>create_runner_time</th>\n",
       "      <th>solve_time</th>\n",
       "      <th>maxTa</th>\n",
       "      <th>ampTa</th>\n",
       "      <th>APD40</th>\n",
       "      <th>APD50</th>\n",
       "      <th>...</th>\n",
       "      <th>max_displacement_y</th>\n",
       "      <th>rel_max_displacement_y</th>\n",
       "      <th>max_displacement_perc_y</th>\n",
       "      <th>rel_max_displacement_perc_y</th>\n",
       "      <th>time_to_max_displacement_y</th>\n",
       "      <th>max_displacement_z</th>\n",
       "      <th>rel_max_displacement_z</th>\n",
       "      <th>max_displacement_perc_z</th>\n",
       "      <th>rel_max_displacement_perc_z</th>\n",
       "      <th>time_to_max_displacement_z</th>\n",
       "    </tr>\n",
       "  </thead>\n",
       "  <tbody>\n",
       "    <tr>\n",
       "      <th>0</th>\n",
       "      <td>c7df02b</td>\n",
       "      <td>9.000000e-07</td>\n",
       "      <td>2022-10-06 20:28:25.015389</td>\n",
       "      <td>2022.3.0</td>\n",
       "      <td>194.206491</td>\n",
       "      <td>727.766001</td>\n",
       "      <td>1.154621</td>\n",
       "      <td>1.154621</td>\n",
       "      <td>238.847917</td>\n",
       "      <td>265.374952</td>\n",
       "      <td>...</td>\n",
       "      <td>0.0</td>\n",
       "      <td>0.049886</td>\n",
       "      <td>0.0</td>\n",
       "      <td>0.249432</td>\n",
       "      <td>138.05</td>\n",
       "      <td>0.0</td>\n",
       "      <td>0.049886</td>\n",
       "      <td>0.0</td>\n",
       "      <td>0.249432</td>\n",
       "      <td>138.05</td>\n",
       "    </tr>\n",
       "    <tr>\n",
       "      <th>1</th>\n",
       "      <td>0c195ff</td>\n",
       "      <td>1.000000e-06</td>\n",
       "      <td>2022-10-06 20:19:12.227464</td>\n",
       "      <td>2022.3.0</td>\n",
       "      <td>211.102322</td>\n",
       "      <td>755.622428</td>\n",
       "      <td>1.154621</td>\n",
       "      <td>1.154621</td>\n",
       "      <td>238.847917</td>\n",
       "      <td>265.374952</td>\n",
       "      <td>...</td>\n",
       "      <td>0.0</td>\n",
       "      <td>0.049886</td>\n",
       "      <td>0.0</td>\n",
       "      <td>0.249432</td>\n",
       "      <td>138.05</td>\n",
       "      <td>0.0</td>\n",
       "      <td>0.049886</td>\n",
       "      <td>0.0</td>\n",
       "      <td>0.249432</td>\n",
       "      <td>138.05</td>\n",
       "    </tr>\n",
       "    <tr>\n",
       "      <th>2</th>\n",
       "      <td>4d3a653</td>\n",
       "      <td>1.100000e-06</td>\n",
       "      <td>2022-10-06 20:09:07.230901</td>\n",
       "      <td>2022.3.0</td>\n",
       "      <td>205.289198</td>\n",
       "      <td>784.220401</td>\n",
       "      <td>1.154621</td>\n",
       "      <td>1.154621</td>\n",
       "      <td>238.847917</td>\n",
       "      <td>265.374952</td>\n",
       "      <td>...</td>\n",
       "      <td>0.0</td>\n",
       "      <td>0.049886</td>\n",
       "      <td>0.0</td>\n",
       "      <td>0.249432</td>\n",
       "      <td>138.05</td>\n",
       "      <td>0.0</td>\n",
       "      <td>0.049886</td>\n",
       "      <td>0.0</td>\n",
       "      <td>0.249432</td>\n",
       "      <td>138.05</td>\n",
       "    </tr>\n",
       "    <tr>\n",
       "      <th>3</th>\n",
       "      <td>d5edd92</td>\n",
       "      <td>3.330060e-07</td>\n",
       "      <td>2022-10-07 06:42:09.101000</td>\n",
       "      <td>2022.3.0</td>\n",
       "      <td>10.719169</td>\n",
       "      <td>3198.345828</td>\n",
       "      <td>1.148763</td>\n",
       "      <td>1.148763</td>\n",
       "      <td>238.850807</td>\n",
       "      <td>265.377778</td>\n",
       "      <td>...</td>\n",
       "      <td>0.0</td>\n",
       "      <td>0.049752</td>\n",
       "      <td>0.0</td>\n",
       "      <td>0.248758</td>\n",
       "      <td>138.05</td>\n",
       "      <td>0.0</td>\n",
       "      <td>0.049752</td>\n",
       "      <td>0.0</td>\n",
       "      <td>0.248758</td>\n",
       "      <td>138.05</td>\n",
       "    </tr>\n",
       "    <tr>\n",
       "      <th>4</th>\n",
       "      <td>f63afc9</td>\n",
       "      <td>1.001000e-06</td>\n",
       "      <td>2022-10-06 16:25:06.830650</td>\n",
       "      <td>2022.3.0</td>\n",
       "      <td>237.720608</td>\n",
       "      <td>854.584107</td>\n",
       "      <td>1.154621</td>\n",
       "      <td>1.154621</td>\n",
       "      <td>238.847917</td>\n",
       "      <td>265.374952</td>\n",
       "      <td>...</td>\n",
       "      <td>0.0</td>\n",
       "      <td>0.049886</td>\n",
       "      <td>0.0</td>\n",
       "      <td>0.249432</td>\n",
       "      <td>138.05</td>\n",
       "      <td>0.0</td>\n",
       "      <td>0.049886</td>\n",
       "      <td>0.0</td>\n",
       "      <td>0.249432</td>\n",
       "      <td>138.05</td>\n",
       "    </tr>\n",
       "    <tr>\n",
       "      <th>5</th>\n",
       "      <td>630ed09</td>\n",
       "      <td>1.000000e-06</td>\n",
       "      <td>2022-10-06 16:55:04.711879</td>\n",
       "      <td>2022.3.0</td>\n",
       "      <td>280.511200</td>\n",
       "      <td>1019.038654</td>\n",
       "      <td>1.154621</td>\n",
       "      <td>1.154621</td>\n",
       "      <td>238.847917</td>\n",
       "      <td>265.374952</td>\n",
       "      <td>...</td>\n",
       "      <td>0.0</td>\n",
       "      <td>0.049886</td>\n",
       "      <td>0.0</td>\n",
       "      <td>0.249432</td>\n",
       "      <td>138.05</td>\n",
       "      <td>0.0</td>\n",
       "      <td>0.049886</td>\n",
       "      <td>0.0</td>\n",
       "      <td>0.249432</td>\n",
       "      <td>138.05</td>\n",
       "    </tr>\n",
       "    <tr>\n",
       "      <th>6</th>\n",
       "      <td>cf7cc9d</td>\n",
       "      <td>9.000000e-07</td>\n",
       "      <td>2022-10-06 20:32:00.361561</td>\n",
       "      <td>2022.3.0</td>\n",
       "      <td>206.295999</td>\n",
       "      <td>745.851108</td>\n",
       "      <td>1.154621</td>\n",
       "      <td>1.154621</td>\n",
       "      <td>238.847917</td>\n",
       "      <td>265.374952</td>\n",
       "      <td>...</td>\n",
       "      <td>0.0</td>\n",
       "      <td>0.049886</td>\n",
       "      <td>0.0</td>\n",
       "      <td>0.249432</td>\n",
       "      <td>138.05</td>\n",
       "      <td>0.0</td>\n",
       "      <td>0.049886</td>\n",
       "      <td>0.0</td>\n",
       "      <td>0.249432</td>\n",
       "      <td>138.05</td>\n",
       "    </tr>\n",
       "  </tbody>\n",
       "</table>\n",
       "<p>7 rows × 51 columns</p>\n",
       "</div>"
      ],
      "text/plain": [
       "  git_hash   import_time                  timestamp simcardems_version  \\\n",
       "0  c7df02b  9.000000e-07 2022-10-06 20:28:25.015389           2022.3.0   \n",
       "1  0c195ff  1.000000e-06 2022-10-06 20:19:12.227464           2022.3.0   \n",
       "2  4d3a653  1.100000e-06 2022-10-06 20:09:07.230901           2022.3.0   \n",
       "3  d5edd92  3.330060e-07 2022-10-07 06:42:09.101000           2022.3.0   \n",
       "4  f63afc9  1.001000e-06 2022-10-06 16:25:06.830650           2022.3.0   \n",
       "5  630ed09  1.000000e-06 2022-10-06 16:55:04.711879           2022.3.0   \n",
       "6  cf7cc9d  9.000000e-07 2022-10-06 20:32:00.361561           2022.3.0   \n",
       "\n",
       "   create_runner_time   solve_time     maxTa     ampTa       APD40  \\\n",
       "0          194.206491   727.766001  1.154621  1.154621  238.847917   \n",
       "1          211.102322   755.622428  1.154621  1.154621  238.847917   \n",
       "2          205.289198   784.220401  1.154621  1.154621  238.847917   \n",
       "3           10.719169  3198.345828  1.148763  1.148763  238.850807   \n",
       "4          237.720608   854.584107  1.154621  1.154621  238.847917   \n",
       "5          280.511200  1019.038654  1.154621  1.154621  238.847917   \n",
       "6          206.295999   745.851108  1.154621  1.154621  238.847917   \n",
       "\n",
       "        APD50  ...  max_displacement_y  rel_max_displacement_y  \\\n",
       "0  265.374952  ...                 0.0                0.049886   \n",
       "1  265.374952  ...                 0.0                0.049886   \n",
       "2  265.374952  ...                 0.0                0.049886   \n",
       "3  265.377778  ...                 0.0                0.049752   \n",
       "4  265.374952  ...                 0.0                0.049886   \n",
       "5  265.374952  ...                 0.0                0.049886   \n",
       "6  265.374952  ...                 0.0                0.049886   \n",
       "\n",
       "   max_displacement_perc_y  rel_max_displacement_perc_y  \\\n",
       "0                      0.0                     0.249432   \n",
       "1                      0.0                     0.249432   \n",
       "2                      0.0                     0.249432   \n",
       "3                      0.0                     0.248758   \n",
       "4                      0.0                     0.249432   \n",
       "5                      0.0                     0.249432   \n",
       "6                      0.0                     0.249432   \n",
       "\n",
       "   time_to_max_displacement_y  max_displacement_z  rel_max_displacement_z  \\\n",
       "0                      138.05                 0.0                0.049886   \n",
       "1                      138.05                 0.0                0.049886   \n",
       "2                      138.05                 0.0                0.049886   \n",
       "3                      138.05                 0.0                0.049752   \n",
       "4                      138.05                 0.0                0.049886   \n",
       "5                      138.05                 0.0                0.049886   \n",
       "6                      138.05                 0.0                0.049886   \n",
       "\n",
       "   max_displacement_perc_z  rel_max_displacement_perc_z  \\\n",
       "0                      0.0                     0.249432   \n",
       "1                      0.0                     0.249432   \n",
       "2                      0.0                     0.249432   \n",
       "3                      0.0                     0.248758   \n",
       "4                      0.0                     0.249432   \n",
       "5                      0.0                     0.249432   \n",
       "6                      0.0                     0.249432   \n",
       "\n",
       "   time_to_max_displacement_z  \n",
       "0                      138.05  \n",
       "1                      138.05  \n",
       "2                      138.05  \n",
       "3                      138.05  \n",
       "4                      138.05  \n",
       "5                      138.05  \n",
       "6                      138.05  \n",
       "\n",
       "[7 rows x 51 columns]"
      ]
     },
     "execution_count": 104,
     "metadata": {},
     "output_type": "execute_result"
    }
   ],
   "source": [
    "df = pd.DataFrame(results)\n",
    "df[\"timestamp\"] = pd.to_datetime(df[\"timestamp\"])\n",
    "df"
   ]
  },
  {
   "cell_type": "code",
   "execution_count": 108,
   "id": "de1c5c0d",
   "metadata": {},
   "outputs": [
    {
     "data": {
      "text/html": [
       "<div>\n",
       "<style scoped>\n",
       "    .dataframe tbody tr th:only-of-type {\n",
       "        vertical-align: middle;\n",
       "    }\n",
       "\n",
       "    .dataframe tbody tr th {\n",
       "        vertical-align: top;\n",
       "    }\n",
       "\n",
       "    .dataframe thead th {\n",
       "        text-align: right;\n",
       "    }\n",
       "</style>\n",
       "<table border=\"1\" class=\"dataframe\">\n",
       "  <thead>\n",
       "    <tr style=\"text-align: right;\">\n",
       "      <th></th>\n",
       "      <th>git_hash</th>\n",
       "      <th>import_time</th>\n",
       "      <th>timestamp</th>\n",
       "      <th>simcardems_version</th>\n",
       "      <th>create_runner_time</th>\n",
       "      <th>solve_time</th>\n",
       "      <th>maxTa</th>\n",
       "      <th>ampTa</th>\n",
       "      <th>APD40</th>\n",
       "      <th>APD50</th>\n",
       "      <th>...</th>\n",
       "      <th>max_displacement_y</th>\n",
       "      <th>rel_max_displacement_y</th>\n",
       "      <th>max_displacement_perc_y</th>\n",
       "      <th>rel_max_displacement_perc_y</th>\n",
       "      <th>time_to_max_displacement_y</th>\n",
       "      <th>max_displacement_z</th>\n",
       "      <th>rel_max_displacement_z</th>\n",
       "      <th>max_displacement_perc_z</th>\n",
       "      <th>rel_max_displacement_perc_z</th>\n",
       "      <th>time_to_max_displacement_z</th>\n",
       "    </tr>\n",
       "  </thead>\n",
       "  <tbody>\n",
       "    <tr>\n",
       "      <th>4</th>\n",
       "      <td>f63afc9</td>\n",
       "      <td>1.001000e-06</td>\n",
       "      <td>2022-10-06 16:25:06.830650</td>\n",
       "      <td>2022.3.0</td>\n",
       "      <td>237.720608</td>\n",
       "      <td>854.584107</td>\n",
       "      <td>1.154621</td>\n",
       "      <td>1.154621</td>\n",
       "      <td>238.847917</td>\n",
       "      <td>265.374952</td>\n",
       "      <td>...</td>\n",
       "      <td>0.0</td>\n",
       "      <td>0.049886</td>\n",
       "      <td>0.0</td>\n",
       "      <td>0.249432</td>\n",
       "      <td>138.05</td>\n",
       "      <td>0.0</td>\n",
       "      <td>0.049886</td>\n",
       "      <td>0.0</td>\n",
       "      <td>0.249432</td>\n",
       "      <td>138.05</td>\n",
       "    </tr>\n",
       "    <tr>\n",
       "      <th>5</th>\n",
       "      <td>630ed09</td>\n",
       "      <td>1.000000e-06</td>\n",
       "      <td>2022-10-06 16:55:04.711879</td>\n",
       "      <td>2022.3.0</td>\n",
       "      <td>280.511200</td>\n",
       "      <td>1019.038654</td>\n",
       "      <td>1.154621</td>\n",
       "      <td>1.154621</td>\n",
       "      <td>238.847917</td>\n",
       "      <td>265.374952</td>\n",
       "      <td>...</td>\n",
       "      <td>0.0</td>\n",
       "      <td>0.049886</td>\n",
       "      <td>0.0</td>\n",
       "      <td>0.249432</td>\n",
       "      <td>138.05</td>\n",
       "      <td>0.0</td>\n",
       "      <td>0.049886</td>\n",
       "      <td>0.0</td>\n",
       "      <td>0.249432</td>\n",
       "      <td>138.05</td>\n",
       "    </tr>\n",
       "    <tr>\n",
       "      <th>2</th>\n",
       "      <td>4d3a653</td>\n",
       "      <td>1.100000e-06</td>\n",
       "      <td>2022-10-06 20:09:07.230901</td>\n",
       "      <td>2022.3.0</td>\n",
       "      <td>205.289198</td>\n",
       "      <td>784.220401</td>\n",
       "      <td>1.154621</td>\n",
       "      <td>1.154621</td>\n",
       "      <td>238.847917</td>\n",
       "      <td>265.374952</td>\n",
       "      <td>...</td>\n",
       "      <td>0.0</td>\n",
       "      <td>0.049886</td>\n",
       "      <td>0.0</td>\n",
       "      <td>0.249432</td>\n",
       "      <td>138.05</td>\n",
       "      <td>0.0</td>\n",
       "      <td>0.049886</td>\n",
       "      <td>0.0</td>\n",
       "      <td>0.249432</td>\n",
       "      <td>138.05</td>\n",
       "    </tr>\n",
       "    <tr>\n",
       "      <th>1</th>\n",
       "      <td>0c195ff</td>\n",
       "      <td>1.000000e-06</td>\n",
       "      <td>2022-10-06 20:19:12.227464</td>\n",
       "      <td>2022.3.0</td>\n",
       "      <td>211.102322</td>\n",
       "      <td>755.622428</td>\n",
       "      <td>1.154621</td>\n",
       "      <td>1.154621</td>\n",
       "      <td>238.847917</td>\n",
       "      <td>265.374952</td>\n",
       "      <td>...</td>\n",
       "      <td>0.0</td>\n",
       "      <td>0.049886</td>\n",
       "      <td>0.0</td>\n",
       "      <td>0.249432</td>\n",
       "      <td>138.05</td>\n",
       "      <td>0.0</td>\n",
       "      <td>0.049886</td>\n",
       "      <td>0.0</td>\n",
       "      <td>0.249432</td>\n",
       "      <td>138.05</td>\n",
       "    </tr>\n",
       "    <tr>\n",
       "      <th>0</th>\n",
       "      <td>c7df02b</td>\n",
       "      <td>9.000000e-07</td>\n",
       "      <td>2022-10-06 20:28:25.015389</td>\n",
       "      <td>2022.3.0</td>\n",
       "      <td>194.206491</td>\n",
       "      <td>727.766001</td>\n",
       "      <td>1.154621</td>\n",
       "      <td>1.154621</td>\n",
       "      <td>238.847917</td>\n",
       "      <td>265.374952</td>\n",
       "      <td>...</td>\n",
       "      <td>0.0</td>\n",
       "      <td>0.049886</td>\n",
       "      <td>0.0</td>\n",
       "      <td>0.249432</td>\n",
       "      <td>138.05</td>\n",
       "      <td>0.0</td>\n",
       "      <td>0.049886</td>\n",
       "      <td>0.0</td>\n",
       "      <td>0.249432</td>\n",
       "      <td>138.05</td>\n",
       "    </tr>\n",
       "    <tr>\n",
       "      <th>6</th>\n",
       "      <td>cf7cc9d</td>\n",
       "      <td>9.000000e-07</td>\n",
       "      <td>2022-10-06 20:32:00.361561</td>\n",
       "      <td>2022.3.0</td>\n",
       "      <td>206.295999</td>\n",
       "      <td>745.851108</td>\n",
       "      <td>1.154621</td>\n",
       "      <td>1.154621</td>\n",
       "      <td>238.847917</td>\n",
       "      <td>265.374952</td>\n",
       "      <td>...</td>\n",
       "      <td>0.0</td>\n",
       "      <td>0.049886</td>\n",
       "      <td>0.0</td>\n",
       "      <td>0.249432</td>\n",
       "      <td>138.05</td>\n",
       "      <td>0.0</td>\n",
       "      <td>0.049886</td>\n",
       "      <td>0.0</td>\n",
       "      <td>0.249432</td>\n",
       "      <td>138.05</td>\n",
       "    </tr>\n",
       "    <tr>\n",
       "      <th>3</th>\n",
       "      <td>d5edd92</td>\n",
       "      <td>3.330060e-07</td>\n",
       "      <td>2022-10-07 06:42:09.101000</td>\n",
       "      <td>2022.3.0</td>\n",
       "      <td>10.719169</td>\n",
       "      <td>3198.345828</td>\n",
       "      <td>1.148763</td>\n",
       "      <td>1.148763</td>\n",
       "      <td>238.850807</td>\n",
       "      <td>265.377778</td>\n",
       "      <td>...</td>\n",
       "      <td>0.0</td>\n",
       "      <td>0.049752</td>\n",
       "      <td>0.0</td>\n",
       "      <td>0.248758</td>\n",
       "      <td>138.05</td>\n",
       "      <td>0.0</td>\n",
       "      <td>0.049752</td>\n",
       "      <td>0.0</td>\n",
       "      <td>0.248758</td>\n",
       "      <td>138.05</td>\n",
       "    </tr>\n",
       "  </tbody>\n",
       "</table>\n",
       "<p>7 rows × 51 columns</p>\n",
       "</div>"
      ],
      "text/plain": [
       "  git_hash   import_time                  timestamp simcardems_version  \\\n",
       "4  f63afc9  1.001000e-06 2022-10-06 16:25:06.830650           2022.3.0   \n",
       "5  630ed09  1.000000e-06 2022-10-06 16:55:04.711879           2022.3.0   \n",
       "2  4d3a653  1.100000e-06 2022-10-06 20:09:07.230901           2022.3.0   \n",
       "1  0c195ff  1.000000e-06 2022-10-06 20:19:12.227464           2022.3.0   \n",
       "0  c7df02b  9.000000e-07 2022-10-06 20:28:25.015389           2022.3.0   \n",
       "6  cf7cc9d  9.000000e-07 2022-10-06 20:32:00.361561           2022.3.0   \n",
       "3  d5edd92  3.330060e-07 2022-10-07 06:42:09.101000           2022.3.0   \n",
       "\n",
       "   create_runner_time   solve_time     maxTa     ampTa       APD40  \\\n",
       "4          237.720608   854.584107  1.154621  1.154621  238.847917   \n",
       "5          280.511200  1019.038654  1.154621  1.154621  238.847917   \n",
       "2          205.289198   784.220401  1.154621  1.154621  238.847917   \n",
       "1          211.102322   755.622428  1.154621  1.154621  238.847917   \n",
       "0          194.206491   727.766001  1.154621  1.154621  238.847917   \n",
       "6          206.295999   745.851108  1.154621  1.154621  238.847917   \n",
       "3           10.719169  3198.345828  1.148763  1.148763  238.850807   \n",
       "\n",
       "        APD50  ...  max_displacement_y  rel_max_displacement_y  \\\n",
       "4  265.374952  ...                 0.0                0.049886   \n",
       "5  265.374952  ...                 0.0                0.049886   \n",
       "2  265.374952  ...                 0.0                0.049886   \n",
       "1  265.374952  ...                 0.0                0.049886   \n",
       "0  265.374952  ...                 0.0                0.049886   \n",
       "6  265.374952  ...                 0.0                0.049886   \n",
       "3  265.377778  ...                 0.0                0.049752   \n",
       "\n",
       "   max_displacement_perc_y  rel_max_displacement_perc_y  \\\n",
       "4                      0.0                     0.249432   \n",
       "5                      0.0                     0.249432   \n",
       "2                      0.0                     0.249432   \n",
       "1                      0.0                     0.249432   \n",
       "0                      0.0                     0.249432   \n",
       "6                      0.0                     0.249432   \n",
       "3                      0.0                     0.248758   \n",
       "\n",
       "   time_to_max_displacement_y  max_displacement_z  rel_max_displacement_z  \\\n",
       "4                      138.05                 0.0                0.049886   \n",
       "5                      138.05                 0.0                0.049886   \n",
       "2                      138.05                 0.0                0.049886   \n",
       "1                      138.05                 0.0                0.049886   \n",
       "0                      138.05                 0.0                0.049886   \n",
       "6                      138.05                 0.0                0.049886   \n",
       "3                      138.05                 0.0                0.049752   \n",
       "\n",
       "   max_displacement_perc_z  rel_max_displacement_perc_z  \\\n",
       "4                      0.0                     0.249432   \n",
       "5                      0.0                     0.249432   \n",
       "2                      0.0                     0.249432   \n",
       "1                      0.0                     0.249432   \n",
       "0                      0.0                     0.249432   \n",
       "6                      0.0                     0.249432   \n",
       "3                      0.0                     0.248758   \n",
       "\n",
       "   time_to_max_displacement_z  \n",
       "4                      138.05  \n",
       "5                      138.05  \n",
       "2                      138.05  \n",
       "1                      138.05  \n",
       "0                      138.05  \n",
       "6                      138.05  \n",
       "3                      138.05  \n",
       "\n",
       "[7 rows x 51 columns]"
      ]
     },
     "execution_count": 108,
     "metadata": {},
     "output_type": "execute_result"
    }
   ],
   "source": [
    "df = df.sort_values(by='timestamp')\n",
    "df"
   ]
  },
  {
   "cell_type": "code",
   "execution_count": 38,
   "id": "9e0166d6",
   "metadata": {},
   "outputs": [
    {
     "data": {
      "text/html": [
       "<div>\n",
       "<style scoped>\n",
       "    .dataframe tbody tr th:only-of-type {\n",
       "        vertical-align: middle;\n",
       "    }\n",
       "\n",
       "    .dataframe tbody tr th {\n",
       "        vertical-align: top;\n",
       "    }\n",
       "\n",
       "    .dataframe thead th {\n",
       "        text-align: right;\n",
       "    }\n",
       "</style>\n",
       "<table border=\"1\" class=\"dataframe\">\n",
       "  <thead>\n",
       "    <tr style=\"text-align: right;\">\n",
       "      <th></th>\n",
       "      <th>simcardems_version</th>\n",
       "      <th>timestamp</th>\n",
       "      <th>git_hash</th>\n",
       "    </tr>\n",
       "  </thead>\n",
       "  <tbody>\n",
       "    <tr>\n",
       "      <th>4</th>\n",
       "      <td>2022.3.0</td>\n",
       "      <td>2022-10-06T16:25:06.830650</td>\n",
       "      <td>f63afc9</td>\n",
       "    </tr>\n",
       "    <tr>\n",
       "      <th>5</th>\n",
       "      <td>2022.3.0</td>\n",
       "      <td>2022-10-06T16:55:04.711879</td>\n",
       "      <td>630ed09</td>\n",
       "    </tr>\n",
       "    <tr>\n",
       "      <th>2</th>\n",
       "      <td>2022.3.0</td>\n",
       "      <td>2022-10-06T20:09:07.230901</td>\n",
       "      <td>4d3a653</td>\n",
       "    </tr>\n",
       "    <tr>\n",
       "      <th>1</th>\n",
       "      <td>2022.3.0</td>\n",
       "      <td>2022-10-06T20:19:12.227464</td>\n",
       "      <td>0c195ff</td>\n",
       "    </tr>\n",
       "    <tr>\n",
       "      <th>0</th>\n",
       "      <td>2022.3.0</td>\n",
       "      <td>2022-10-06T20:28:25.015389</td>\n",
       "      <td>c7df02b</td>\n",
       "    </tr>\n",
       "    <tr>\n",
       "      <th>6</th>\n",
       "      <td>2022.3.0</td>\n",
       "      <td>2022-10-06T20:32:00.361561</td>\n",
       "      <td>cf7cc9d</td>\n",
       "    </tr>\n",
       "    <tr>\n",
       "      <th>3</th>\n",
       "      <td>2022.3.0</td>\n",
       "      <td>2022-10-07T06:42:09.101000</td>\n",
       "      <td>d5edd92</td>\n",
       "    </tr>\n",
       "  </tbody>\n",
       "</table>\n",
       "</div>"
      ],
      "text/plain": [
       "  simcardems_version                   timestamp git_hash\n",
       "4           2022.3.0  2022-10-06T16:25:06.830650  f63afc9\n",
       "5           2022.3.0  2022-10-06T16:55:04.711879  630ed09\n",
       "2           2022.3.0  2022-10-06T20:09:07.230901  4d3a653\n",
       "1           2022.3.0  2022-10-06T20:19:12.227464  0c195ff\n",
       "0           2022.3.0  2022-10-06T20:28:25.015389  c7df02b\n",
       "6           2022.3.0  2022-10-06T20:32:00.361561  cf7cc9d\n",
       "3           2022.3.0  2022-10-07T06:42:09.101000  d5edd92"
      ]
     },
     "execution_count": 38,
     "metadata": {},
     "output_type": "execute_result"
    }
   ],
   "source": [
    "df[[\"simcardems_version\", \"timestamp\", \"git_hash\"]]"
   ]
  },
  {
   "cell_type": "raw",
   "id": "0b9ec071",
   "metadata": {
    "scrolled": false
   },
   "source": [
    "def get_ylim(values):\n",
    "    if np.isclose(values, 0).all():\n",
    "        return (-0.01, 0.01)\n",
    "    y_mean = np.mean(values)\n",
    "    y_max = max(np.max(values), y_mean + 0.01 * abs(y_mean))\n",
    "    y_min = min(np.min(values), y_mean - 0.01 * abs(y_mean))\n",
    "    return (y_min, y_max)\n",
    "\n",
    "\n",
    "fig, axs = plt.subplots(12, 4, sharex=True, figsize=(12, 30))\n",
    "for i, (biomarker, values) in enumerate(results.items()):\n",
    "    ax = axs.flatten()[i]\n",
    "    y = [x for _, x in sorted(zip(timestamps, values), key=lambda pair: pair[0])]\n",
    "    hashes_sorted = [x for _, x in sorted(zip(timestamps, hashes), key=lambda pair: pair[0])]\n",
    "    ax.plot(hashes_sorted, y)\n",
    "    ax.set_ylabel(biomarker)\n",
    "    ylim = get_ylim(values)\n",
    "    ax.set_ylim(*ylim)\n",
    "fig.tight_layout()\n",
    "plt.show()"
   ]
  },
  {
   "cell_type": "code",
   "execution_count": 112,
   "id": "9025f6f9",
   "metadata": {
    "scrolled": false
   },
   "outputs": [
    {
     "data": {
      "application/vnd.plotly.v1+json": {
       "config": {
        "plotlyServerURL": "https://plot.ly"
       },
       "data": [
        {
         "hovertemplate": "%{text}",
         "text": [
          "<br>Git Hash: f63afc9</br>\n<a hfref=https://github.com/ComputationalPhysiology/simcardems/commit/f63afc9>Link to commit </a><br>Version: 2022.3.0</br>\n<br>Timestamp 2022-10-06</br>",
          "<br>Git Hash: 630ed09</br>\n<a hfref=https://github.com/ComputationalPhysiology/simcardems/commit/630ed09>Link to commit </a><br>Version: 2022.3.0</br>\n<br>Timestamp 2022-10-06</br>",
          "<br>Git Hash: 4d3a653</br>\n<a hfref=https://github.com/ComputationalPhysiology/simcardems/commit/4d3a653>Link to commit </a><br>Version: 2022.3.0</br>\n<br>Timestamp 2022-10-06</br>",
          "<br>Git Hash: 0c195ff</br>\n<a hfref=https://github.com/ComputationalPhysiology/simcardems/commit/0c195ff>Link to commit </a><br>Version: 2022.3.0</br>\n<br>Timestamp 2022-10-06</br>",
          "<br>Git Hash: c7df02b</br>\n<a hfref=https://github.com/ComputationalPhysiology/simcardems/commit/c7df02b>Link to commit </a><br>Version: 2022.3.0</br>\n<br>Timestamp 2022-10-06</br>",
          "<br>Git Hash: cf7cc9d</br>\n<a hfref=https://github.com/ComputationalPhysiology/simcardems/commit/cf7cc9d>Link to commit </a><br>Version: 2022.3.0</br>\n<br>Timestamp 2022-10-06</br>",
          "<br>Git Hash: d5edd92</br>\n<a hfref=https://github.com/ComputationalPhysiology/simcardems/commit/d5edd92>Link to commit </a><br>Version: 2022.3.0</br>\n<br>Timestamp 2022-10-07</br>"
         ],
         "type": "scatter",
         "x": [
          "2022-10-06T16:25:06.830650",
          "2022-10-06T16:55:04.711879",
          "2022-10-06T20:09:07.230901",
          "2022-10-06T20:19:12.227464",
          "2022-10-06T20:28:25.015389",
          "2022-10-06T20:32:00.361561",
          "2022-10-07T06:42:09.101000"
         ],
         "xaxis": "x",
         "y": [
          1.000999986899842e-06,
          9.999999974752427e-07,
          1.099999991538425e-06,
          1.0000000116860974e-06,
          9.000000034120603e-07,
          9.000000318337698e-07,
          3.3300602808594704e-07
         ],
         "yaxis": "y"
        },
        {
         "hovertemplate": "%{text}",
         "text": [
          "<br>Git Hash: f63afc9</br>\n<a hfref=https://github.com/ComputationalPhysiology/simcardems/commit/f63afc9>Link to commit </a><br>Version: 2022.3.0</br>\n<br>Timestamp 2022-10-06</br>",
          "<br>Git Hash: 630ed09</br>\n<a hfref=https://github.com/ComputationalPhysiology/simcardems/commit/630ed09>Link to commit </a><br>Version: 2022.3.0</br>\n<br>Timestamp 2022-10-06</br>",
          "<br>Git Hash: 4d3a653</br>\n<a hfref=https://github.com/ComputationalPhysiology/simcardems/commit/4d3a653>Link to commit </a><br>Version: 2022.3.0</br>\n<br>Timestamp 2022-10-06</br>",
          "<br>Git Hash: 0c195ff</br>\n<a hfref=https://github.com/ComputationalPhysiology/simcardems/commit/0c195ff>Link to commit </a><br>Version: 2022.3.0</br>\n<br>Timestamp 2022-10-06</br>",
          "<br>Git Hash: c7df02b</br>\n<a hfref=https://github.com/ComputationalPhysiology/simcardems/commit/c7df02b>Link to commit </a><br>Version: 2022.3.0</br>\n<br>Timestamp 2022-10-06</br>",
          "<br>Git Hash: cf7cc9d</br>\n<a hfref=https://github.com/ComputationalPhysiology/simcardems/commit/cf7cc9d>Link to commit </a><br>Version: 2022.3.0</br>\n<br>Timestamp 2022-10-06</br>",
          "<br>Git Hash: d5edd92</br>\n<a hfref=https://github.com/ComputationalPhysiology/simcardems/commit/d5edd92>Link to commit </a><br>Version: 2022.3.0</br>\n<br>Timestamp 2022-10-07</br>"
         ],
         "type": "scatter",
         "x": [
          "2022-10-06T16:25:06.830650",
          "2022-10-06T16:55:04.711879",
          "2022-10-06T20:09:07.230901",
          "2022-10-06T20:19:12.227464",
          "2022-10-06T20:28:25.015389",
          "2022-10-06T20:32:00.361561",
          "2022-10-07T06:42:09.101000"
         ],
         "xaxis": "x5",
         "y": [
          237.72060754399996,
          280.511199926,
          205.28919836600002,
          211.102322273,
          194.20649079600003,
          206.29599876099996,
          10.719169295989559
         ],
         "yaxis": "y5"
        },
        {
         "hovertemplate": "%{text}",
         "text": [
          "<br>Git Hash: f63afc9</br>\n<a hfref=https://github.com/ComputationalPhysiology/simcardems/commit/f63afc9>Link to commit </a><br>Version: 2022.3.0</br>\n<br>Timestamp 2022-10-06</br>",
          "<br>Git Hash: 630ed09</br>\n<a hfref=https://github.com/ComputationalPhysiology/simcardems/commit/630ed09>Link to commit </a><br>Version: 2022.3.0</br>\n<br>Timestamp 2022-10-06</br>",
          "<br>Git Hash: 4d3a653</br>\n<a hfref=https://github.com/ComputationalPhysiology/simcardems/commit/4d3a653>Link to commit </a><br>Version: 2022.3.0</br>\n<br>Timestamp 2022-10-06</br>",
          "<br>Git Hash: 0c195ff</br>\n<a hfref=https://github.com/ComputationalPhysiology/simcardems/commit/0c195ff>Link to commit </a><br>Version: 2022.3.0</br>\n<br>Timestamp 2022-10-06</br>",
          "<br>Git Hash: c7df02b</br>\n<a hfref=https://github.com/ComputationalPhysiology/simcardems/commit/c7df02b>Link to commit </a><br>Version: 2022.3.0</br>\n<br>Timestamp 2022-10-06</br>",
          "<br>Git Hash: cf7cc9d</br>\n<a hfref=https://github.com/ComputationalPhysiology/simcardems/commit/cf7cc9d>Link to commit </a><br>Version: 2022.3.0</br>\n<br>Timestamp 2022-10-06</br>",
          "<br>Git Hash: d5edd92</br>\n<a hfref=https://github.com/ComputationalPhysiology/simcardems/commit/d5edd92>Link to commit </a><br>Version: 2022.3.0</br>\n<br>Timestamp 2022-10-07</br>"
         ],
         "type": "scatter",
         "x": [
          "2022-10-06T16:25:06.830650",
          "2022-10-06T16:55:04.711879",
          "2022-10-06T20:09:07.230901",
          "2022-10-06T20:19:12.227464",
          "2022-10-06T20:28:25.015389",
          "2022-10-06T20:32:00.361561",
          "2022-10-07T06:42:09.101000"
         ],
         "xaxis": "x9",
         "y": [
          854.584107336,
          1019.0386541959999,
          784.2204011899998,
          755.6224281130001,
          727.7660012839999,
          745.8511080440001,
          3198.3458278310136
         ],
         "yaxis": "y9"
        },
        {
         "hovertemplate": "%{text}",
         "text": [
          "<br>Git Hash: f63afc9</br>\n<a hfref=https://github.com/ComputationalPhysiology/simcardems/commit/f63afc9>Link to commit </a><br>Version: 2022.3.0</br>\n<br>Timestamp 2022-10-06</br>",
          "<br>Git Hash: 630ed09</br>\n<a hfref=https://github.com/ComputationalPhysiology/simcardems/commit/630ed09>Link to commit </a><br>Version: 2022.3.0</br>\n<br>Timestamp 2022-10-06</br>",
          "<br>Git Hash: 4d3a653</br>\n<a hfref=https://github.com/ComputationalPhysiology/simcardems/commit/4d3a653>Link to commit </a><br>Version: 2022.3.0</br>\n<br>Timestamp 2022-10-06</br>",
          "<br>Git Hash: 0c195ff</br>\n<a hfref=https://github.com/ComputationalPhysiology/simcardems/commit/0c195ff>Link to commit </a><br>Version: 2022.3.0</br>\n<br>Timestamp 2022-10-06</br>",
          "<br>Git Hash: c7df02b</br>\n<a hfref=https://github.com/ComputationalPhysiology/simcardems/commit/c7df02b>Link to commit </a><br>Version: 2022.3.0</br>\n<br>Timestamp 2022-10-06</br>",
          "<br>Git Hash: cf7cc9d</br>\n<a hfref=https://github.com/ComputationalPhysiology/simcardems/commit/cf7cc9d>Link to commit </a><br>Version: 2022.3.0</br>\n<br>Timestamp 2022-10-06</br>",
          "<br>Git Hash: d5edd92</br>\n<a hfref=https://github.com/ComputationalPhysiology/simcardems/commit/d5edd92>Link to commit </a><br>Version: 2022.3.0</br>\n<br>Timestamp 2022-10-07</br>"
         ],
         "type": "scatter",
         "x": [
          "2022-10-06T16:25:06.830650",
          "2022-10-06T16:55:04.711879",
          "2022-10-06T20:09:07.230901",
          "2022-10-06T20:19:12.227464",
          "2022-10-06T20:28:25.015389",
          "2022-10-06T20:32:00.361561",
          "2022-10-07T06:42:09.101000"
         ],
         "xaxis": "x13",
         "y": [
          1.1546205652084225,
          1.1546205651723276,
          1.1546205652084225,
          1.1546205652084225,
          1.1546205652718498,
          1.1546205652084225,
          1.1487629440161966
         ],
         "yaxis": "y13"
        },
        {
         "hovertemplate": "%{text}",
         "text": [
          "<br>Git Hash: f63afc9</br>\n<a hfref=https://github.com/ComputationalPhysiology/simcardems/commit/f63afc9>Link to commit </a><br>Version: 2022.3.0</br>\n<br>Timestamp 2022-10-06</br>",
          "<br>Git Hash: 630ed09</br>\n<a hfref=https://github.com/ComputationalPhysiology/simcardems/commit/630ed09>Link to commit </a><br>Version: 2022.3.0</br>\n<br>Timestamp 2022-10-06</br>",
          "<br>Git Hash: 4d3a653</br>\n<a hfref=https://github.com/ComputationalPhysiology/simcardems/commit/4d3a653>Link to commit </a><br>Version: 2022.3.0</br>\n<br>Timestamp 2022-10-06</br>",
          "<br>Git Hash: 0c195ff</br>\n<a hfref=https://github.com/ComputationalPhysiology/simcardems/commit/0c195ff>Link to commit </a><br>Version: 2022.3.0</br>\n<br>Timestamp 2022-10-06</br>",
          "<br>Git Hash: c7df02b</br>\n<a hfref=https://github.com/ComputationalPhysiology/simcardems/commit/c7df02b>Link to commit </a><br>Version: 2022.3.0</br>\n<br>Timestamp 2022-10-06</br>",
          "<br>Git Hash: cf7cc9d</br>\n<a hfref=https://github.com/ComputationalPhysiology/simcardems/commit/cf7cc9d>Link to commit </a><br>Version: 2022.3.0</br>\n<br>Timestamp 2022-10-06</br>",
          "<br>Git Hash: d5edd92</br>\n<a hfref=https://github.com/ComputationalPhysiology/simcardems/commit/d5edd92>Link to commit </a><br>Version: 2022.3.0</br>\n<br>Timestamp 2022-10-07</br>"
         ],
         "type": "scatter",
         "x": [
          "2022-10-06T16:25:06.830650",
          "2022-10-06T16:55:04.711879",
          "2022-10-06T20:09:07.230901",
          "2022-10-06T20:19:12.227464",
          "2022-10-06T20:28:25.015389",
          "2022-10-06T20:32:00.361561",
          "2022-10-07T06:42:09.101000"
         ],
         "xaxis": "x17",
         "y": [
          1.1546205652084225,
          1.1546205651723276,
          1.1546205652084225,
          1.1546205652084225,
          1.1546205652718498,
          1.1546205652084225,
          1.1487629440161966
         ],
         "yaxis": "y17"
        },
        {
         "hovertemplate": "%{text}",
         "text": [
          "<br>Git Hash: f63afc9</br>\n<a hfref=https://github.com/ComputationalPhysiology/simcardems/commit/f63afc9>Link to commit </a><br>Version: 2022.3.0</br>\n<br>Timestamp 2022-10-06</br>",
          "<br>Git Hash: 630ed09</br>\n<a hfref=https://github.com/ComputationalPhysiology/simcardems/commit/630ed09>Link to commit </a><br>Version: 2022.3.0</br>\n<br>Timestamp 2022-10-06</br>",
          "<br>Git Hash: 4d3a653</br>\n<a hfref=https://github.com/ComputationalPhysiology/simcardems/commit/4d3a653>Link to commit </a><br>Version: 2022.3.0</br>\n<br>Timestamp 2022-10-06</br>",
          "<br>Git Hash: 0c195ff</br>\n<a hfref=https://github.com/ComputationalPhysiology/simcardems/commit/0c195ff>Link to commit </a><br>Version: 2022.3.0</br>\n<br>Timestamp 2022-10-06</br>",
          "<br>Git Hash: c7df02b</br>\n<a hfref=https://github.com/ComputationalPhysiology/simcardems/commit/c7df02b>Link to commit </a><br>Version: 2022.3.0</br>\n<br>Timestamp 2022-10-06</br>",
          "<br>Git Hash: cf7cc9d</br>\n<a hfref=https://github.com/ComputationalPhysiology/simcardems/commit/cf7cc9d>Link to commit </a><br>Version: 2022.3.0</br>\n<br>Timestamp 2022-10-06</br>",
          "<br>Git Hash: d5edd92</br>\n<a hfref=https://github.com/ComputationalPhysiology/simcardems/commit/d5edd92>Link to commit </a><br>Version: 2022.3.0</br>\n<br>Timestamp 2022-10-07</br>"
         ],
         "type": "scatter",
         "x": [
          "2022-10-06T16:25:06.830650",
          "2022-10-06T16:55:04.711879",
          "2022-10-06T20:09:07.230901",
          "2022-10-06T20:19:12.227464",
          "2022-10-06T20:28:25.015389",
          "2022-10-06T20:32:00.361561",
          "2022-10-07T06:42:09.101000"
         ],
         "xaxis": "x21",
         "y": [
          238.84791692384508,
          238.8479169232194,
          238.84791692384508,
          238.84791692384508,
          238.8479169249071,
          238.84791692384508,
          238.85080654197216
         ],
         "yaxis": "y21"
        },
        {
         "hovertemplate": "%{text}",
         "text": [
          "<br>Git Hash: f63afc9</br>\n<a hfref=https://github.com/ComputationalPhysiology/simcardems/commit/f63afc9>Link to commit </a><br>Version: 2022.3.0</br>\n<br>Timestamp 2022-10-06</br>",
          "<br>Git Hash: 630ed09</br>\n<a hfref=https://github.com/ComputationalPhysiology/simcardems/commit/630ed09>Link to commit </a><br>Version: 2022.3.0</br>\n<br>Timestamp 2022-10-06</br>",
          "<br>Git Hash: 4d3a653</br>\n<a hfref=https://github.com/ComputationalPhysiology/simcardems/commit/4d3a653>Link to commit </a><br>Version: 2022.3.0</br>\n<br>Timestamp 2022-10-06</br>",
          "<br>Git Hash: 0c195ff</br>\n<a hfref=https://github.com/ComputationalPhysiology/simcardems/commit/0c195ff>Link to commit </a><br>Version: 2022.3.0</br>\n<br>Timestamp 2022-10-06</br>",
          "<br>Git Hash: c7df02b</br>\n<a hfref=https://github.com/ComputationalPhysiology/simcardems/commit/c7df02b>Link to commit </a><br>Version: 2022.3.0</br>\n<br>Timestamp 2022-10-06</br>",
          "<br>Git Hash: cf7cc9d</br>\n<a hfref=https://github.com/ComputationalPhysiology/simcardems/commit/cf7cc9d>Link to commit </a><br>Version: 2022.3.0</br>\n<br>Timestamp 2022-10-06</br>",
          "<br>Git Hash: d5edd92</br>\n<a hfref=https://github.com/ComputationalPhysiology/simcardems/commit/d5edd92>Link to commit </a><br>Version: 2022.3.0</br>\n<br>Timestamp 2022-10-07</br>"
         ],
         "type": "scatter",
         "x": [
          "2022-10-06T16:25:06.830650",
          "2022-10-06T16:55:04.711879",
          "2022-10-06T20:09:07.230901",
          "2022-10-06T20:19:12.227464",
          "2022-10-06T20:28:25.015389",
          "2022-10-06T20:32:00.361561",
          "2022-10-07T06:42:09.101000"
         ],
         "xaxis": "x25",
         "y": [
          265.3749523951641,
          265.3749523948589,
          265.3749523951641,
          265.3749523951641,
          265.37495239568193,
          265.3749523951641,
          265.377777651946
         ],
         "yaxis": "y25"
        },
        {
         "hovertemplate": "%{text}",
         "text": [
          "<br>Git Hash: f63afc9</br>\n<a hfref=https://github.com/ComputationalPhysiology/simcardems/commit/f63afc9>Link to commit </a><br>Version: 2022.3.0</br>\n<br>Timestamp 2022-10-06</br>",
          "<br>Git Hash: 630ed09</br>\n<a hfref=https://github.com/ComputationalPhysiology/simcardems/commit/630ed09>Link to commit </a><br>Version: 2022.3.0</br>\n<br>Timestamp 2022-10-06</br>",
          "<br>Git Hash: 4d3a653</br>\n<a hfref=https://github.com/ComputationalPhysiology/simcardems/commit/4d3a653>Link to commit </a><br>Version: 2022.3.0</br>\n<br>Timestamp 2022-10-06</br>",
          "<br>Git Hash: 0c195ff</br>\n<a hfref=https://github.com/ComputationalPhysiology/simcardems/commit/0c195ff>Link to commit </a><br>Version: 2022.3.0</br>\n<br>Timestamp 2022-10-06</br>",
          "<br>Git Hash: c7df02b</br>\n<a hfref=https://github.com/ComputationalPhysiology/simcardems/commit/c7df02b>Link to commit </a><br>Version: 2022.3.0</br>\n<br>Timestamp 2022-10-06</br>",
          "<br>Git Hash: cf7cc9d</br>\n<a hfref=https://github.com/ComputationalPhysiology/simcardems/commit/cf7cc9d>Link to commit </a><br>Version: 2022.3.0</br>\n<br>Timestamp 2022-10-06</br>",
          "<br>Git Hash: d5edd92</br>\n<a hfref=https://github.com/ComputationalPhysiology/simcardems/commit/d5edd92>Link to commit </a><br>Version: 2022.3.0</br>\n<br>Timestamp 2022-10-07</br>"
         ],
         "type": "scatter",
         "x": [
          "2022-10-06T16:25:06.830650",
          "2022-10-06T16:55:04.711879",
          "2022-10-06T20:09:07.230901",
          "2022-10-06T20:19:12.227464",
          "2022-10-06T20:28:25.015389",
          "2022-10-06T20:32:00.361561",
          "2022-10-07T06:42:09.101000"
         ],
         "xaxis": "x29",
         "y": [
          332.31538434295345,
          332.31538434315195,
          332.31538434295345,
          332.31538434295345,
          332.31538434263393,
          332.31538434295345,
          332.3187683730866
         ],
         "yaxis": "y29"
        },
        {
         "hovertemplate": "%{text}",
         "text": [
          "<br>Git Hash: f63afc9</br>\n<a hfref=https://github.com/ComputationalPhysiology/simcardems/commit/f63afc9>Link to commit </a><br>Version: 2022.3.0</br>\n<br>Timestamp 2022-10-06</br>",
          "<br>Git Hash: 630ed09</br>\n<a hfref=https://github.com/ComputationalPhysiology/simcardems/commit/630ed09>Link to commit </a><br>Version: 2022.3.0</br>\n<br>Timestamp 2022-10-06</br>",
          "<br>Git Hash: 4d3a653</br>\n<a hfref=https://github.com/ComputationalPhysiology/simcardems/commit/4d3a653>Link to commit </a><br>Version: 2022.3.0</br>\n<br>Timestamp 2022-10-06</br>",
          "<br>Git Hash: 0c195ff</br>\n<a hfref=https://github.com/ComputationalPhysiology/simcardems/commit/0c195ff>Link to commit </a><br>Version: 2022.3.0</br>\n<br>Timestamp 2022-10-06</br>",
          "<br>Git Hash: c7df02b</br>\n<a hfref=https://github.com/ComputationalPhysiology/simcardems/commit/c7df02b>Link to commit </a><br>Version: 2022.3.0</br>\n<br>Timestamp 2022-10-06</br>",
          "<br>Git Hash: cf7cc9d</br>\n<a hfref=https://github.com/ComputationalPhysiology/simcardems/commit/cf7cc9d>Link to commit </a><br>Version: 2022.3.0</br>\n<br>Timestamp 2022-10-06</br>",
          "<br>Git Hash: d5edd92</br>\n<a hfref=https://github.com/ComputationalPhysiology/simcardems/commit/d5edd92>Link to commit </a><br>Version: 2022.3.0</br>\n<br>Timestamp 2022-10-07</br>"
         ],
         "type": "scatter",
         "x": [
          "2022-10-06T16:25:06.830650",
          "2022-10-06T16:55:04.711879",
          "2022-10-06T20:09:07.230901",
          "2022-10-06T20:19:12.227464",
          "2022-10-06T20:28:25.015389",
          "2022-10-06T20:32:00.361561",
          "2022-10-07T06:42:09.101000"
         ],
         "xaxis": "x33",
         "y": [
          93.46746741910837,
          93.46746741993255,
          93.46746741910837,
          93.46746741910837,
          93.46746741772682,
          93.46746741910837,
          93.46796183111442
         ],
         "yaxis": "y33"
        },
        {
         "hovertemplate": "%{text}",
         "text": [
          "<br>Git Hash: f63afc9</br>\n<a hfref=https://github.com/ComputationalPhysiology/simcardems/commit/f63afc9>Link to commit </a><br>Version: 2022.3.0</br>\n<br>Timestamp 2022-10-06</br>",
          "<br>Git Hash: 630ed09</br>\n<a hfref=https://github.com/ComputationalPhysiology/simcardems/commit/630ed09>Link to commit </a><br>Version: 2022.3.0</br>\n<br>Timestamp 2022-10-06</br>",
          "<br>Git Hash: 4d3a653</br>\n<a hfref=https://github.com/ComputationalPhysiology/simcardems/commit/4d3a653>Link to commit </a><br>Version: 2022.3.0</br>\n<br>Timestamp 2022-10-06</br>",
          "<br>Git Hash: 0c195ff</br>\n<a hfref=https://github.com/ComputationalPhysiology/simcardems/commit/0c195ff>Link to commit </a><br>Version: 2022.3.0</br>\n<br>Timestamp 2022-10-06</br>",
          "<br>Git Hash: c7df02b</br>\n<a hfref=https://github.com/ComputationalPhysiology/simcardems/commit/c7df02b>Link to commit </a><br>Version: 2022.3.0</br>\n<br>Timestamp 2022-10-06</br>",
          "<br>Git Hash: cf7cc9d</br>\n<a hfref=https://github.com/ComputationalPhysiology/simcardems/commit/cf7cc9d>Link to commit </a><br>Version: 2022.3.0</br>\n<br>Timestamp 2022-10-06</br>",
          "<br>Git Hash: d5edd92</br>\n<a hfref=https://github.com/ComputationalPhysiology/simcardems/commit/d5edd92>Link to commit </a><br>Version: 2022.3.0</br>\n<br>Timestamp 2022-10-07</br>"
         ],
         "type": "scatter",
         "x": [
          "2022-10-06T16:25:06.830650",
          "2022-10-06T16:55:04.711879",
          "2022-10-06T20:09:07.230901",
          "2022-10-06T20:19:12.227464",
          "2022-10-06T20:28:25.015389",
          "2022-10-06T20:32:00.361561",
          "2022-10-07T06:42:09.101000"
         ],
         "xaxis": "x37",
         "y": [
          51.11894280230365,
          51.11894280362179,
          51.11894280230365,
          51.11894280230365,
          51.118942800028165,
          51.11894280230365,
          51.119012382531494
         ],
         "yaxis": "y37"
        },
        {
         "hovertemplate": "%{text}",
         "text": [
          "<br>Git Hash: f63afc9</br>\n<a hfref=https://github.com/ComputationalPhysiology/simcardems/commit/f63afc9>Link to commit </a><br>Version: 2022.3.0</br>\n<br>Timestamp 2022-10-06</br>",
          "<br>Git Hash: 630ed09</br>\n<a hfref=https://github.com/ComputationalPhysiology/simcardems/commit/630ed09>Link to commit </a><br>Version: 2022.3.0</br>\n<br>Timestamp 2022-10-06</br>",
          "<br>Git Hash: 4d3a653</br>\n<a hfref=https://github.com/ComputationalPhysiology/simcardems/commit/4d3a653>Link to commit </a><br>Version: 2022.3.0</br>\n<br>Timestamp 2022-10-06</br>",
          "<br>Git Hash: 0c195ff</br>\n<a hfref=https://github.com/ComputationalPhysiology/simcardems/commit/0c195ff>Link to commit </a><br>Version: 2022.3.0</br>\n<br>Timestamp 2022-10-06</br>",
          "<br>Git Hash: c7df02b</br>\n<a hfref=https://github.com/ComputationalPhysiology/simcardems/commit/c7df02b>Link to commit </a><br>Version: 2022.3.0</br>\n<br>Timestamp 2022-10-06</br>",
          "<br>Git Hash: cf7cc9d</br>\n<a hfref=https://github.com/ComputationalPhysiology/simcardems/commit/cf7cc9d>Link to commit </a><br>Version: 2022.3.0</br>\n<br>Timestamp 2022-10-06</br>",
          "<br>Git Hash: d5edd92</br>\n<a hfref=https://github.com/ComputationalPhysiology/simcardems/commit/d5edd92>Link to commit </a><br>Version: 2022.3.0</br>\n<br>Timestamp 2022-10-07</br>"
         ],
         "type": "scatter",
         "x": [
          "2022-10-06T16:25:06.830650",
          "2022-10-06T16:55:04.711879",
          "2022-10-06T20:09:07.230901",
          "2022-10-06T20:19:12.227464",
          "2022-10-06T20:28:25.015389",
          "2022-10-06T20:32:00.361561",
          "2022-10-07T06:42:09.101000"
         ],
         "xaxis": "x41",
         "y": [
          -88.0208943952122,
          -88.02089439671171,
          -88.0208943952122,
          -88.0208943952122,
          -88.0208943926206,
          -88.0208943952122,
          -88.02024655904142
         ],
         "yaxis": "y41"
        },
        {
         "hovertemplate": "%{text}",
         "text": [
          "<br>Git Hash: f63afc9</br>\n<a hfref=https://github.com/ComputationalPhysiology/simcardems/commit/f63afc9>Link to commit </a><br>Version: 2022.3.0</br>\n<br>Timestamp 2022-10-06</br>",
          "<br>Git Hash: 630ed09</br>\n<a hfref=https://github.com/ComputationalPhysiology/simcardems/commit/630ed09>Link to commit </a><br>Version: 2022.3.0</br>\n<br>Timestamp 2022-10-06</br>",
          "<br>Git Hash: 4d3a653</br>\n<a hfref=https://github.com/ComputationalPhysiology/simcardems/commit/4d3a653>Link to commit </a><br>Version: 2022.3.0</br>\n<br>Timestamp 2022-10-06</br>",
          "<br>Git Hash: 0c195ff</br>\n<a hfref=https://github.com/ComputationalPhysiology/simcardems/commit/0c195ff>Link to commit </a><br>Version: 2022.3.0</br>\n<br>Timestamp 2022-10-06</br>",
          "<br>Git Hash: c7df02b</br>\n<a hfref=https://github.com/ComputationalPhysiology/simcardems/commit/c7df02b>Link to commit </a><br>Version: 2022.3.0</br>\n<br>Timestamp 2022-10-06</br>",
          "<br>Git Hash: cf7cc9d</br>\n<a hfref=https://github.com/ComputationalPhysiology/simcardems/commit/cf7cc9d>Link to commit </a><br>Version: 2022.3.0</br>\n<br>Timestamp 2022-10-06</br>",
          "<br>Git Hash: d5edd92</br>\n<a hfref=https://github.com/ComputationalPhysiology/simcardems/commit/d5edd92>Link to commit </a><br>Version: 2022.3.0</br>\n<br>Timestamp 2022-10-07</br>"
         ],
         "type": "scatter",
         "x": [
          "2022-10-06T16:25:06.830650",
          "2022-10-06T16:55:04.711879",
          "2022-10-06T20:09:07.230901",
          "2022-10-06T20:19:12.227464",
          "2022-10-06T20:28:25.015389",
          "2022-10-06T20:32:00.361561",
          "2022-10-07T06:42:09.101000"
         ],
         "xaxis": "x45",
         "y": [
          18.019247665986217,
          18.019247665044414,
          18.019247665986217,
          18.019247665986217,
          18.01924766761247,
          18.019247665986217,
          18.019277321475602
         ],
         "yaxis": "y45"
        },
        {
         "hovertemplate": "%{text}",
         "text": [
          "<br>Git Hash: f63afc9</br>\n<a hfref=https://github.com/ComputationalPhysiology/simcardems/commit/f63afc9>Link to commit </a><br>Version: 2022.3.0</br>\n<br>Timestamp 2022-10-06</br>",
          "<br>Git Hash: 630ed09</br>\n<a hfref=https://github.com/ComputationalPhysiology/simcardems/commit/630ed09>Link to commit </a><br>Version: 2022.3.0</br>\n<br>Timestamp 2022-10-06</br>",
          "<br>Git Hash: 4d3a653</br>\n<a hfref=https://github.com/ComputationalPhysiology/simcardems/commit/4d3a653>Link to commit </a><br>Version: 2022.3.0</br>\n<br>Timestamp 2022-10-06</br>",
          "<br>Git Hash: 0c195ff</br>\n<a hfref=https://github.com/ComputationalPhysiology/simcardems/commit/0c195ff>Link to commit </a><br>Version: 2022.3.0</br>\n<br>Timestamp 2022-10-06</br>",
          "<br>Git Hash: c7df02b</br>\n<a hfref=https://github.com/ComputationalPhysiology/simcardems/commit/c7df02b>Link to commit </a><br>Version: 2022.3.0</br>\n<br>Timestamp 2022-10-06</br>",
          "<br>Git Hash: cf7cc9d</br>\n<a hfref=https://github.com/ComputationalPhysiology/simcardems/commit/cf7cc9d>Link to commit </a><br>Version: 2022.3.0</br>\n<br>Timestamp 2022-10-06</br>",
          "<br>Git Hash: d5edd92</br>\n<a hfref=https://github.com/ComputationalPhysiology/simcardems/commit/d5edd92>Link to commit </a><br>Version: 2022.3.0</br>\n<br>Timestamp 2022-10-07</br>"
         ],
         "type": "scatter",
         "x": [
          "2022-10-06T16:25:06.830650",
          "2022-10-06T16:55:04.711879",
          "2022-10-06T20:09:07.230901",
          "2022-10-06T20:19:12.227464",
          "2022-10-06T20:28:25.015389",
          "2022-10-06T20:32:00.361561",
          "2022-10-07T06:42:09.101000"
         ],
         "xaxis": "x2",
         "y": [
          0.00026217343204886103,
          0.0002621734320462223,
          0.00026217343204886103,
          0.00026217343204886103,
          0.0002621734320535062,
          0.00026217343204886103,
          0.00026214026802433814
         ],
         "yaxis": "y2"
        },
        {
         "hovertemplate": "%{text}",
         "text": [
          "<br>Git Hash: f63afc9</br>\n<a hfref=https://github.com/ComputationalPhysiology/simcardems/commit/f63afc9>Link to commit </a><br>Version: 2022.3.0</br>\n<br>Timestamp 2022-10-06</br>",
          "<br>Git Hash: 630ed09</br>\n<a hfref=https://github.com/ComputationalPhysiology/simcardems/commit/630ed09>Link to commit </a><br>Version: 2022.3.0</br>\n<br>Timestamp 2022-10-06</br>",
          "<br>Git Hash: 4d3a653</br>\n<a hfref=https://github.com/ComputationalPhysiology/simcardems/commit/4d3a653>Link to commit </a><br>Version: 2022.3.0</br>\n<br>Timestamp 2022-10-06</br>",
          "<br>Git Hash: 0c195ff</br>\n<a hfref=https://github.com/ComputationalPhysiology/simcardems/commit/0c195ff>Link to commit </a><br>Version: 2022.3.0</br>\n<br>Timestamp 2022-10-06</br>",
          "<br>Git Hash: c7df02b</br>\n<a hfref=https://github.com/ComputationalPhysiology/simcardems/commit/c7df02b>Link to commit </a><br>Version: 2022.3.0</br>\n<br>Timestamp 2022-10-06</br>",
          "<br>Git Hash: cf7cc9d</br>\n<a hfref=https://github.com/ComputationalPhysiology/simcardems/commit/cf7cc9d>Link to commit </a><br>Version: 2022.3.0</br>\n<br>Timestamp 2022-10-06</br>",
          "<br>Git Hash: d5edd92</br>\n<a hfref=https://github.com/ComputationalPhysiology/simcardems/commit/d5edd92>Link to commit </a><br>Version: 2022.3.0</br>\n<br>Timestamp 2022-10-07</br>"
         ],
         "type": "scatter",
         "x": [
          "2022-10-06T16:25:06.830650",
          "2022-10-06T16:55:04.711879",
          "2022-10-06T20:09:07.230901",
          "2022-10-06T20:19:12.227464",
          "2022-10-06T20:28:25.015389",
          "2022-10-06T20:32:00.361561",
          "2022-10-07T06:42:09.101000"
         ],
         "xaxis": "x6",
         "y": [
          0.00019483724411256047,
          0.00019483724410989336,
          0.00019483724411256047,
          0.00019483724411256047,
          0.0001948372441172956,
          0.00019483724411256047,
          0.00019480385444547386
         ],
         "yaxis": "y6"
        },
        {
         "hovertemplate": "%{text}",
         "text": [
          "<br>Git Hash: f63afc9</br>\n<a hfref=https://github.com/ComputationalPhysiology/simcardems/commit/f63afc9>Link to commit </a><br>Version: 2022.3.0</br>\n<br>Timestamp 2022-10-06</br>",
          "<br>Git Hash: 630ed09</br>\n<a hfref=https://github.com/ComputationalPhysiology/simcardems/commit/630ed09>Link to commit </a><br>Version: 2022.3.0</br>\n<br>Timestamp 2022-10-06</br>",
          "<br>Git Hash: 4d3a653</br>\n<a hfref=https://github.com/ComputationalPhysiology/simcardems/commit/4d3a653>Link to commit </a><br>Version: 2022.3.0</br>\n<br>Timestamp 2022-10-06</br>",
          "<br>Git Hash: 0c195ff</br>\n<a hfref=https://github.com/ComputationalPhysiology/simcardems/commit/0c195ff>Link to commit </a><br>Version: 2022.3.0</br>\n<br>Timestamp 2022-10-06</br>",
          "<br>Git Hash: c7df02b</br>\n<a hfref=https://github.com/ComputationalPhysiology/simcardems/commit/c7df02b>Link to commit </a><br>Version: 2022.3.0</br>\n<br>Timestamp 2022-10-06</br>",
          "<br>Git Hash: cf7cc9d</br>\n<a hfref=https://github.com/ComputationalPhysiology/simcardems/commit/cf7cc9d>Link to commit </a><br>Version: 2022.3.0</br>\n<br>Timestamp 2022-10-06</br>",
          "<br>Git Hash: d5edd92</br>\n<a hfref=https://github.com/ComputationalPhysiology/simcardems/commit/d5edd92>Link to commit </a><br>Version: 2022.3.0</br>\n<br>Timestamp 2022-10-07</br>"
         ],
         "type": "scatter",
         "x": [
          "2022-10-06T16:25:06.830650",
          "2022-10-06T16:55:04.711879",
          "2022-10-06T20:09:07.230901",
          "2022-10-06T20:19:12.227464",
          "2022-10-06T20:28:25.015389",
          "2022-10-06T20:32:00.361561",
          "2022-10-07T06:42:09.101000"
         ],
         "xaxis": "x10",
         "y": [
          267.8559508563927,
          267.85595085762793,
          267.8559508563927,
          267.8559508563927,
          267.85595085408636,
          267.8559508563927,
          267.9002996852012
         ],
         "yaxis": "y10"
        },
        {
         "hovertemplate": "%{text}",
         "text": [
          "<br>Git Hash: f63afc9</br>\n<a hfref=https://github.com/ComputationalPhysiology/simcardems/commit/f63afc9>Link to commit </a><br>Version: 2022.3.0</br>\n<br>Timestamp 2022-10-06</br>",
          "<br>Git Hash: 630ed09</br>\n<a hfref=https://github.com/ComputationalPhysiology/simcardems/commit/630ed09>Link to commit </a><br>Version: 2022.3.0</br>\n<br>Timestamp 2022-10-06</br>",
          "<br>Git Hash: 4d3a653</br>\n<a hfref=https://github.com/ComputationalPhysiology/simcardems/commit/4d3a653>Link to commit </a><br>Version: 2022.3.0</br>\n<br>Timestamp 2022-10-06</br>",
          "<br>Git Hash: 0c195ff</br>\n<a hfref=https://github.com/ComputationalPhysiology/simcardems/commit/0c195ff>Link to commit </a><br>Version: 2022.3.0</br>\n<br>Timestamp 2022-10-06</br>",
          "<br>Git Hash: c7df02b</br>\n<a hfref=https://github.com/ComputationalPhysiology/simcardems/commit/c7df02b>Link to commit </a><br>Version: 2022.3.0</br>\n<br>Timestamp 2022-10-06</br>",
          "<br>Git Hash: cf7cc9d</br>\n<a hfref=https://github.com/ComputationalPhysiology/simcardems/commit/cf7cc9d>Link to commit </a><br>Version: 2022.3.0</br>\n<br>Timestamp 2022-10-06</br>",
          "<br>Git Hash: d5edd92</br>\n<a hfref=https://github.com/ComputationalPhysiology/simcardems/commit/d5edd92>Link to commit </a><br>Version: 2022.3.0</br>\n<br>Timestamp 2022-10-07</br>"
         ],
         "type": "scatter",
         "x": [
          "2022-10-06T16:25:06.830650",
          "2022-10-06T16:55:04.711879",
          "2022-10-06T20:09:07.230901",
          "2022-10-06T20:19:12.227464",
          "2022-10-06T20:28:25.015389",
          "2022-10-06T20:32:00.361561",
          "2022-10-07T06:42:09.101000"
         ],
         "xaxis": "x14",
         "y": [
          387.224647666766,
          387.2246476677943,
          387.224647666766,
          387.224647666766,
          387.2246476647681,
          387.224647666766,
          387.3156126984575
         ],
         "yaxis": "y14"
        },
        {
         "hovertemplate": "%{text}",
         "text": [
          "<br>Git Hash: f63afc9</br>\n<a hfref=https://github.com/ComputationalPhysiology/simcardems/commit/f63afc9>Link to commit </a><br>Version: 2022.3.0</br>\n<br>Timestamp 2022-10-06</br>",
          "<br>Git Hash: 630ed09</br>\n<a hfref=https://github.com/ComputationalPhysiology/simcardems/commit/630ed09>Link to commit </a><br>Version: 2022.3.0</br>\n<br>Timestamp 2022-10-06</br>",
          "<br>Git Hash: 4d3a653</br>\n<a hfref=https://github.com/ComputationalPhysiology/simcardems/commit/4d3a653>Link to commit </a><br>Version: 2022.3.0</br>\n<br>Timestamp 2022-10-06</br>",
          "<br>Git Hash: 0c195ff</br>\n<a hfref=https://github.com/ComputationalPhysiology/simcardems/commit/0c195ff>Link to commit </a><br>Version: 2022.3.0</br>\n<br>Timestamp 2022-10-06</br>",
          "<br>Git Hash: c7df02b</br>\n<a hfref=https://github.com/ComputationalPhysiology/simcardems/commit/c7df02b>Link to commit </a><br>Version: 2022.3.0</br>\n<br>Timestamp 2022-10-06</br>",
          "<br>Git Hash: cf7cc9d</br>\n<a hfref=https://github.com/ComputationalPhysiology/simcardems/commit/cf7cc9d>Link to commit </a><br>Version: 2022.3.0</br>\n<br>Timestamp 2022-10-06</br>",
          "<br>Git Hash: d5edd92</br>\n<a hfref=https://github.com/ComputationalPhysiology/simcardems/commit/d5edd92>Link to commit </a><br>Version: 2022.3.0</br>\n<br>Timestamp 2022-10-07</br>"
         ],
         "type": "scatter",
         "x": [
          "2022-10-06T16:25:06.830650",
          "2022-10-06T16:55:04.711879",
          "2022-10-06T20:09:07.230901",
          "2022-10-06T20:19:12.227464",
          "2022-10-06T20:28:25.015389",
          "2022-10-06T20:32:00.361561",
          "2022-10-07T06:42:09.101000"
         ],
         "xaxis": "x18",
         "y": [
          468.7678472104044,
          468.76784721160277,
          468.7678472104044,
          468.7678472104044,
          468.7678472080366,
          468.7678472104044,
          468.8653549434834
         ],
         "yaxis": "y18"
        },
        {
         "hovertemplate": "%{text}",
         "text": [
          "<br>Git Hash: f63afc9</br>\n<a hfref=https://github.com/ComputationalPhysiology/simcardems/commit/f63afc9>Link to commit </a><br>Version: 2022.3.0</br>\n<br>Timestamp 2022-10-06</br>",
          "<br>Git Hash: 630ed09</br>\n<a hfref=https://github.com/ComputationalPhysiology/simcardems/commit/630ed09>Link to commit </a><br>Version: 2022.3.0</br>\n<br>Timestamp 2022-10-06</br>",
          "<br>Git Hash: 4d3a653</br>\n<a hfref=https://github.com/ComputationalPhysiology/simcardems/commit/4d3a653>Link to commit </a><br>Version: 2022.3.0</br>\n<br>Timestamp 2022-10-06</br>",
          "<br>Git Hash: 0c195ff</br>\n<a hfref=https://github.com/ComputationalPhysiology/simcardems/commit/0c195ff>Link to commit </a><br>Version: 2022.3.0</br>\n<br>Timestamp 2022-10-06</br>",
          "<br>Git Hash: c7df02b</br>\n<a hfref=https://github.com/ComputationalPhysiology/simcardems/commit/c7df02b>Link to commit </a><br>Version: 2022.3.0</br>\n<br>Timestamp 2022-10-06</br>",
          "<br>Git Hash: cf7cc9d</br>\n<a hfref=https://github.com/ComputationalPhysiology/simcardems/commit/cf7cc9d>Link to commit </a><br>Version: 2022.3.0</br>\n<br>Timestamp 2022-10-06</br>",
          "<br>Git Hash: d5edd92</br>\n<a hfref=https://github.com/ComputationalPhysiology/simcardems/commit/d5edd92>Link to commit </a><br>Version: 2022.3.0</br>\n<br>Timestamp 2022-10-07</br>"
         ],
         "type": "scatter",
         "x": [
          "2022-10-06T16:25:06.830650",
          "2022-10-06T16:55:04.711879",
          "2022-10-06T20:09:07.230901",
          "2022-10-06T20:19:12.227464",
          "2022-10-06T20:28:25.015389",
          "2022-10-06T20:32:00.361561",
          "2022-10-07T06:42:09.101000"
         ],
         "xaxis": "x22",
         "y": [
          138,
          138,
          138,
          138,
          138,
          138,
          137
         ],
         "yaxis": "y22"
        },
        {
         "hovertemplate": "%{text}",
         "text": [
          "<br>Git Hash: f63afc9</br>\n<a hfref=https://github.com/ComputationalPhysiology/simcardems/commit/f63afc9>Link to commit </a><br>Version: 2022.3.0</br>\n<br>Timestamp 2022-10-06</br>",
          "<br>Git Hash: 630ed09</br>\n<a hfref=https://github.com/ComputationalPhysiology/simcardems/commit/630ed09>Link to commit </a><br>Version: 2022.3.0</br>\n<br>Timestamp 2022-10-06</br>",
          "<br>Git Hash: 4d3a653</br>\n<a hfref=https://github.com/ComputationalPhysiology/simcardems/commit/4d3a653>Link to commit </a><br>Version: 2022.3.0</br>\n<br>Timestamp 2022-10-06</br>",
          "<br>Git Hash: 0c195ff</br>\n<a hfref=https://github.com/ComputationalPhysiology/simcardems/commit/0c195ff>Link to commit </a><br>Version: 2022.3.0</br>\n<br>Timestamp 2022-10-06</br>",
          "<br>Git Hash: c7df02b</br>\n<a hfref=https://github.com/ComputationalPhysiology/simcardems/commit/c7df02b>Link to commit </a><br>Version: 2022.3.0</br>\n<br>Timestamp 2022-10-06</br>",
          "<br>Git Hash: cf7cc9d</br>\n<a hfref=https://github.com/ComputationalPhysiology/simcardems/commit/cf7cc9d>Link to commit </a><br>Version: 2022.3.0</br>\n<br>Timestamp 2022-10-06</br>",
          "<br>Git Hash: d5edd92</br>\n<a hfref=https://github.com/ComputationalPhysiology/simcardems/commit/d5edd92>Link to commit </a><br>Version: 2022.3.0</br>\n<br>Timestamp 2022-10-07</br>"
         ],
         "type": "scatter",
         "x": [
          "2022-10-06T16:25:06.830650",
          "2022-10-06T16:55:04.711879",
          "2022-10-06T20:09:07.230901",
          "2022-10-06T20:19:12.227464",
          "2022-10-06T20:28:25.015389",
          "2022-10-06T20:32:00.361561",
          "2022-10-07T06:42:09.101000"
         ],
         "xaxis": "x26",
         "y": [
          148.86435918780955,
          148.86435919110215,
          148.86435918780955,
          148.86435918780955,
          148.86435918187783,
          148.86435918780955,
          149.9488577956252
         ],
         "yaxis": "y26"
        },
        {
         "hovertemplate": "%{text}",
         "text": [
          "<br>Git Hash: f63afc9</br>\n<a hfref=https://github.com/ComputationalPhysiology/simcardems/commit/f63afc9>Link to commit </a><br>Version: 2022.3.0</br>\n<br>Timestamp 2022-10-06</br>",
          "<br>Git Hash: 630ed09</br>\n<a hfref=https://github.com/ComputationalPhysiology/simcardems/commit/630ed09>Link to commit </a><br>Version: 2022.3.0</br>\n<br>Timestamp 2022-10-06</br>",
          "<br>Git Hash: 4d3a653</br>\n<a hfref=https://github.com/ComputationalPhysiology/simcardems/commit/4d3a653>Link to commit </a><br>Version: 2022.3.0</br>\n<br>Timestamp 2022-10-06</br>",
          "<br>Git Hash: 0c195ff</br>\n<a hfref=https://github.com/ComputationalPhysiology/simcardems/commit/0c195ff>Link to commit </a><br>Version: 2022.3.0</br>\n<br>Timestamp 2022-10-06</br>",
          "<br>Git Hash: c7df02b</br>\n<a hfref=https://github.com/ComputationalPhysiology/simcardems/commit/c7df02b>Link to commit </a><br>Version: 2022.3.0</br>\n<br>Timestamp 2022-10-06</br>",
          "<br>Git Hash: cf7cc9d</br>\n<a hfref=https://github.com/ComputationalPhysiology/simcardems/commit/cf7cc9d>Link to commit </a><br>Version: 2022.3.0</br>\n<br>Timestamp 2022-10-06</br>",
          "<br>Git Hash: d5edd92</br>\n<a hfref=https://github.com/ComputationalPhysiology/simcardems/commit/d5edd92>Link to commit </a><br>Version: 2022.3.0</br>\n<br>Timestamp 2022-10-07</br>"
         ],
         "type": "scatter",
         "x": [
          "2022-10-06T16:25:06.830650",
          "2022-10-06T16:55:04.711879",
          "2022-10-06T20:09:07.230901",
          "2022-10-06T20:19:12.227464",
          "2022-10-06T20:28:25.015389",
          "2022-10-06T20:32:00.361561",
          "2022-10-07T06:42:09.101000"
         ],
         "xaxis": "x30",
         "y": [
          461.80050916441866,
          461.8005091730818,
          461.80050916441866,
          461.80050916441866,
          461.80050914863074,
          461.80050916441866,
          464.000771936317
         ],
         "yaxis": "y30"
        },
        {
         "hovertemplate": "%{text}",
         "text": [
          "<br>Git Hash: f63afc9</br>\n<a hfref=https://github.com/ComputationalPhysiology/simcardems/commit/f63afc9>Link to commit </a><br>Version: 2022.3.0</br>\n<br>Timestamp 2022-10-06</br>",
          "<br>Git Hash: 630ed09</br>\n<a hfref=https://github.com/ComputationalPhysiology/simcardems/commit/630ed09>Link to commit </a><br>Version: 2022.3.0</br>\n<br>Timestamp 2022-10-06</br>",
          "<br>Git Hash: 4d3a653</br>\n<a hfref=https://github.com/ComputationalPhysiology/simcardems/commit/4d3a653>Link to commit </a><br>Version: 2022.3.0</br>\n<br>Timestamp 2022-10-06</br>",
          "<br>Git Hash: 0c195ff</br>\n<a hfref=https://github.com/ComputationalPhysiology/simcardems/commit/0c195ff>Link to commit </a><br>Version: 2022.3.0</br>\n<br>Timestamp 2022-10-06</br>",
          "<br>Git Hash: c7df02b</br>\n<a hfref=https://github.com/ComputationalPhysiology/simcardems/commit/c7df02b>Link to commit </a><br>Version: 2022.3.0</br>\n<br>Timestamp 2022-10-06</br>",
          "<br>Git Hash: cf7cc9d</br>\n<a hfref=https://github.com/ComputationalPhysiology/simcardems/commit/cf7cc9d>Link to commit </a><br>Version: 2022.3.0</br>\n<br>Timestamp 2022-10-06</br>",
          "<br>Git Hash: d5edd92</br>\n<a hfref=https://github.com/ComputationalPhysiology/simcardems/commit/d5edd92>Link to commit </a><br>Version: 2022.3.0</br>\n<br>Timestamp 2022-10-07</br>"
         ],
         "type": "scatter",
         "x": [
          "2022-10-06T16:25:06.830650",
          "2022-10-06T16:55:04.711879",
          "2022-10-06T20:09:07.230901",
          "2022-10-06T20:19:12.227464",
          "2022-10-06T20:28:25.015389",
          "2022-10-06T20:32:00.361561",
          "2022-10-07T06:42:09.101000"
         ],
         "xaxis": "x34",
         "y": [
          1.0000000000000022,
          1.0000000000000018,
          1.0000000000000022,
          1.0000000000000022,
          1.0000000000000016,
          1.0000000000000022,
          1.0000000000000002
         ],
         "yaxis": "y34"
        },
        {
         "hovertemplate": "%{text}",
         "text": [
          "<br>Git Hash: f63afc9</br>\n<a hfref=https://github.com/ComputationalPhysiology/simcardems/commit/f63afc9>Link to commit </a><br>Version: 2022.3.0</br>\n<br>Timestamp 2022-10-06</br>",
          "<br>Git Hash: 630ed09</br>\n<a hfref=https://github.com/ComputationalPhysiology/simcardems/commit/630ed09>Link to commit </a><br>Version: 2022.3.0</br>\n<br>Timestamp 2022-10-06</br>",
          "<br>Git Hash: 4d3a653</br>\n<a hfref=https://github.com/ComputationalPhysiology/simcardems/commit/4d3a653>Link to commit </a><br>Version: 2022.3.0</br>\n<br>Timestamp 2022-10-06</br>",
          "<br>Git Hash: 0c195ff</br>\n<a hfref=https://github.com/ComputationalPhysiology/simcardems/commit/0c195ff>Link to commit </a><br>Version: 2022.3.0</br>\n<br>Timestamp 2022-10-06</br>",
          "<br>Git Hash: c7df02b</br>\n<a hfref=https://github.com/ComputationalPhysiology/simcardems/commit/c7df02b>Link to commit </a><br>Version: 2022.3.0</br>\n<br>Timestamp 2022-10-06</br>",
          "<br>Git Hash: cf7cc9d</br>\n<a hfref=https://github.com/ComputationalPhysiology/simcardems/commit/cf7cc9d>Link to commit </a><br>Version: 2022.3.0</br>\n<br>Timestamp 2022-10-06</br>",
          "<br>Git Hash: d5edd92</br>\n<a hfref=https://github.com/ComputationalPhysiology/simcardems/commit/d5edd92>Link to commit </a><br>Version: 2022.3.0</br>\n<br>Timestamp 2022-10-07</br>"
         ],
         "type": "scatter",
         "x": [
          "2022-10-06T16:25:06.830650",
          "2022-10-06T16:55:04.711879",
          "2022-10-06T20:09:07.230901",
          "2022-10-06T20:19:12.227464",
          "2022-10-06T20:28:25.015389",
          "2022-10-06T20:32:00.361561",
          "2022-10-07T06:42:09.101000"
         ],
         "xaxis": "x38",
         "y": [
          0.900227077910955,
          0.900227077912309,
          0.900227077910955,
          0.900227077910955,
          0.9002270779085806,
          0.900227077910955,
          0.9004964280010318
         ],
         "yaxis": "y38"
        },
        {
         "hovertemplate": "%{text}",
         "text": [
          "<br>Git Hash: f63afc9</br>\n<a hfref=https://github.com/ComputationalPhysiology/simcardems/commit/f63afc9>Link to commit </a><br>Version: 2022.3.0</br>\n<br>Timestamp 2022-10-06</br>",
          "<br>Git Hash: 630ed09</br>\n<a hfref=https://github.com/ComputationalPhysiology/simcardems/commit/630ed09>Link to commit </a><br>Version: 2022.3.0</br>\n<br>Timestamp 2022-10-06</br>",
          "<br>Git Hash: 4d3a653</br>\n<a hfref=https://github.com/ComputationalPhysiology/simcardems/commit/4d3a653>Link to commit </a><br>Version: 2022.3.0</br>\n<br>Timestamp 2022-10-06</br>",
          "<br>Git Hash: 0c195ff</br>\n<a hfref=https://github.com/ComputationalPhysiology/simcardems/commit/0c195ff>Link to commit </a><br>Version: 2022.3.0</br>\n<br>Timestamp 2022-10-06</br>",
          "<br>Git Hash: c7df02b</br>\n<a hfref=https://github.com/ComputationalPhysiology/simcardems/commit/c7df02b>Link to commit </a><br>Version: 2022.3.0</br>\n<br>Timestamp 2022-10-06</br>",
          "<br>Git Hash: cf7cc9d</br>\n<a hfref=https://github.com/ComputationalPhysiology/simcardems/commit/cf7cc9d>Link to commit </a><br>Version: 2022.3.0</br>\n<br>Timestamp 2022-10-06</br>",
          "<br>Git Hash: d5edd92</br>\n<a hfref=https://github.com/ComputationalPhysiology/simcardems/commit/d5edd92>Link to commit </a><br>Version: 2022.3.0</br>\n<br>Timestamp 2022-10-07</br>"
         ],
         "type": "scatter",
         "x": [
          "2022-10-06T16:25:06.830650",
          "2022-10-06T16:55:04.711879",
          "2022-10-06T20:09:07.230901",
          "2022-10-06T20:19:12.227464",
          "2022-10-06T20:28:25.015389",
          "2022-10-06T20:32:00.361561",
          "2022-10-07T06:42:09.101000"
         ],
         "xaxis": "x42",
         "y": [
          138,
          138,
          138,
          138,
          138,
          138,
          138
         ],
         "yaxis": "y42"
        },
        {
         "hovertemplate": "%{text}",
         "text": [
          "<br>Git Hash: f63afc9</br>\n<a hfref=https://github.com/ComputationalPhysiology/simcardems/commit/f63afc9>Link to commit </a><br>Version: 2022.3.0</br>\n<br>Timestamp 2022-10-06</br>",
          "<br>Git Hash: 630ed09</br>\n<a hfref=https://github.com/ComputationalPhysiology/simcardems/commit/630ed09>Link to commit </a><br>Version: 2022.3.0</br>\n<br>Timestamp 2022-10-06</br>",
          "<br>Git Hash: 4d3a653</br>\n<a hfref=https://github.com/ComputationalPhysiology/simcardems/commit/4d3a653>Link to commit </a><br>Version: 2022.3.0</br>\n<br>Timestamp 2022-10-06</br>",
          "<br>Git Hash: 0c195ff</br>\n<a hfref=https://github.com/ComputationalPhysiology/simcardems/commit/0c195ff>Link to commit </a><br>Version: 2022.3.0</br>\n<br>Timestamp 2022-10-06</br>",
          "<br>Git Hash: c7df02b</br>\n<a hfref=https://github.com/ComputationalPhysiology/simcardems/commit/c7df02b>Link to commit </a><br>Version: 2022.3.0</br>\n<br>Timestamp 2022-10-06</br>",
          "<br>Git Hash: cf7cc9d</br>\n<a hfref=https://github.com/ComputationalPhysiology/simcardems/commit/cf7cc9d>Link to commit </a><br>Version: 2022.3.0</br>\n<br>Timestamp 2022-10-06</br>",
          "<br>Git Hash: d5edd92</br>\n<a hfref=https://github.com/ComputationalPhysiology/simcardems/commit/d5edd92>Link to commit </a><br>Version: 2022.3.0</br>\n<br>Timestamp 2022-10-07</br>"
         ],
         "type": "scatter",
         "x": [
          "2022-10-06T16:25:06.830650",
          "2022-10-06T16:55:04.711879",
          "2022-10-06T20:09:07.230901",
          "2022-10-06T20:19:12.227464",
          "2022-10-06T20:28:25.015389",
          "2022-10-06T20:32:00.361561",
          "2022-10-07T06:42:09.101000"
         ],
         "xaxis": "x46",
         "y": [
          271.3843880096666,
          271.38438800959835,
          271.3843880096666,
          271.3843880096666,
          271.38438800971335,
          271.3843880096666,
          271.38954457701925
         ],
         "yaxis": "y46"
        },
        {
         "hovertemplate": "%{text}",
         "text": [
          "<br>Git Hash: f63afc9</br>\n<a hfref=https://github.com/ComputationalPhysiology/simcardems/commit/f63afc9>Link to commit </a><br>Version: 2022.3.0</br>\n<br>Timestamp 2022-10-06</br>",
          "<br>Git Hash: 630ed09</br>\n<a hfref=https://github.com/ComputationalPhysiology/simcardems/commit/630ed09>Link to commit </a><br>Version: 2022.3.0</br>\n<br>Timestamp 2022-10-06</br>",
          "<br>Git Hash: 4d3a653</br>\n<a hfref=https://github.com/ComputationalPhysiology/simcardems/commit/4d3a653>Link to commit </a><br>Version: 2022.3.0</br>\n<br>Timestamp 2022-10-06</br>",
          "<br>Git Hash: 0c195ff</br>\n<a hfref=https://github.com/ComputationalPhysiology/simcardems/commit/0c195ff>Link to commit </a><br>Version: 2022.3.0</br>\n<br>Timestamp 2022-10-06</br>",
          "<br>Git Hash: c7df02b</br>\n<a hfref=https://github.com/ComputationalPhysiology/simcardems/commit/c7df02b>Link to commit </a><br>Version: 2022.3.0</br>\n<br>Timestamp 2022-10-06</br>",
          "<br>Git Hash: cf7cc9d</br>\n<a hfref=https://github.com/ComputationalPhysiology/simcardems/commit/cf7cc9d>Link to commit </a><br>Version: 2022.3.0</br>\n<br>Timestamp 2022-10-06</br>",
          "<br>Git Hash: d5edd92</br>\n<a hfref=https://github.com/ComputationalPhysiology/simcardems/commit/d5edd92>Link to commit </a><br>Version: 2022.3.0</br>\n<br>Timestamp 2022-10-07</br>"
         ],
         "type": "scatter",
         "x": [
          "2022-10-06T16:25:06.830650",
          "2022-10-06T16:55:04.711879",
          "2022-10-06T20:09:07.230901",
          "2022-10-06T20:19:12.227464",
          "2022-10-06T20:28:25.015389",
          "2022-10-06T20:32:00.361561",
          "2022-10-07T06:42:09.101000"
         ],
         "xaxis": "x3",
         "y": [
          402.4486175412526,
          402.4486175415829,
          402.4486175412526,
          402.4486175412526,
          402.44861754056797,
          402.4486175412526,
          402.54745852137114
         ],
         "yaxis": "y3"
        },
        {
         "hovertemplate": "%{text}",
         "text": [
          "<br>Git Hash: f63afc9</br>\n<a hfref=https://github.com/ComputationalPhysiology/simcardems/commit/f63afc9>Link to commit </a><br>Version: 2022.3.0</br>\n<br>Timestamp 2022-10-06</br>",
          "<br>Git Hash: 630ed09</br>\n<a hfref=https://github.com/ComputationalPhysiology/simcardems/commit/630ed09>Link to commit </a><br>Version: 2022.3.0</br>\n<br>Timestamp 2022-10-06</br>",
          "<br>Git Hash: 4d3a653</br>\n<a hfref=https://github.com/ComputationalPhysiology/simcardems/commit/4d3a653>Link to commit </a><br>Version: 2022.3.0</br>\n<br>Timestamp 2022-10-06</br>",
          "<br>Git Hash: 0c195ff</br>\n<a hfref=https://github.com/ComputationalPhysiology/simcardems/commit/0c195ff>Link to commit </a><br>Version: 2022.3.0</br>\n<br>Timestamp 2022-10-06</br>",
          "<br>Git Hash: c7df02b</br>\n<a hfref=https://github.com/ComputationalPhysiology/simcardems/commit/c7df02b>Link to commit </a><br>Version: 2022.3.0</br>\n<br>Timestamp 2022-10-06</br>",
          "<br>Git Hash: cf7cc9d</br>\n<a hfref=https://github.com/ComputationalPhysiology/simcardems/commit/cf7cc9d>Link to commit </a><br>Version: 2022.3.0</br>\n<br>Timestamp 2022-10-06</br>",
          "<br>Git Hash: d5edd92</br>\n<a hfref=https://github.com/ComputationalPhysiology/simcardems/commit/d5edd92>Link to commit </a><br>Version: 2022.3.0</br>\n<br>Timestamp 2022-10-07</br>"
         ],
         "type": "scatter",
         "x": [
          "2022-10-06T16:25:06.830650",
          "2022-10-06T16:55:04.711879",
          "2022-10-06T20:09:07.230901",
          "2022-10-06T20:19:12.227464",
          "2022-10-06T20:28:25.015389",
          "2022-10-06T20:32:00.361561",
          "2022-10-07T06:42:09.101000"
         ],
         "xaxis": "x7",
         "y": [
          520.2357173779734,
          520.2357173795499,
          520.2357173779734,
          520.2357173779734,
          520.2357173750196,
          520.2357173779734,
          520.6528223643268
         ],
         "yaxis": "y7"
        },
        {
         "hovertemplate": "%{text}",
         "text": [
          "<br>Git Hash: f63afc9</br>\n<a hfref=https://github.com/ComputationalPhysiology/simcardems/commit/f63afc9>Link to commit </a><br>Version: 2022.3.0</br>\n<br>Timestamp 2022-10-06</br>",
          "<br>Git Hash: 630ed09</br>\n<a hfref=https://github.com/ComputationalPhysiology/simcardems/commit/630ed09>Link to commit </a><br>Version: 2022.3.0</br>\n<br>Timestamp 2022-10-06</br>",
          "<br>Git Hash: 4d3a653</br>\n<a hfref=https://github.com/ComputationalPhysiology/simcardems/commit/4d3a653>Link to commit </a><br>Version: 2022.3.0</br>\n<br>Timestamp 2022-10-06</br>",
          "<br>Git Hash: 0c195ff</br>\n<a hfref=https://github.com/ComputationalPhysiology/simcardems/commit/0c195ff>Link to commit </a><br>Version: 2022.3.0</br>\n<br>Timestamp 2022-10-06</br>",
          "<br>Git Hash: c7df02b</br>\n<a hfref=https://github.com/ComputationalPhysiology/simcardems/commit/c7df02b>Link to commit </a><br>Version: 2022.3.0</br>\n<br>Timestamp 2022-10-06</br>",
          "<br>Git Hash: cf7cc9d</br>\n<a hfref=https://github.com/ComputationalPhysiology/simcardems/commit/cf7cc9d>Link to commit </a><br>Version: 2022.3.0</br>\n<br>Timestamp 2022-10-06</br>",
          "<br>Git Hash: d5edd92</br>\n<a hfref=https://github.com/ComputationalPhysiology/simcardems/commit/d5edd92>Link to commit </a><br>Version: 2022.3.0</br>\n<br>Timestamp 2022-10-07</br>"
         ],
         "type": "scatter",
         "x": [
          "2022-10-06T16:25:06.830650",
          "2022-10-06T16:55:04.711879",
          "2022-10-06T20:09:07.230901",
          "2022-10-06T20:19:12.227464",
          "2022-10-06T20:28:25.015389",
          "2022-10-06T20:32:00.361561",
          "2022-10-07T06:42:09.101000"
         ],
         "xaxis": "x11",
         "y": [
          192.15555011038202,
          192.15555011046484,
          192.15555011038202,
          192.15555011038202,
          192.1555501101613,
          192.15555011038202,
          192.10802737412632
         ],
         "yaxis": "y11"
        },
        {
         "hovertemplate": "%{text}",
         "text": [
          "<br>Git Hash: f63afc9</br>\n<a hfref=https://github.com/ComputationalPhysiology/simcardems/commit/f63afc9>Link to commit </a><br>Version: 2022.3.0</br>\n<br>Timestamp 2022-10-06</br>",
          "<br>Git Hash: 630ed09</br>\n<a hfref=https://github.com/ComputationalPhysiology/simcardems/commit/630ed09>Link to commit </a><br>Version: 2022.3.0</br>\n<br>Timestamp 2022-10-06</br>",
          "<br>Git Hash: 4d3a653</br>\n<a hfref=https://github.com/ComputationalPhysiology/simcardems/commit/4d3a653>Link to commit </a><br>Version: 2022.3.0</br>\n<br>Timestamp 2022-10-06</br>",
          "<br>Git Hash: 0c195ff</br>\n<a hfref=https://github.com/ComputationalPhysiology/simcardems/commit/0c195ff>Link to commit </a><br>Version: 2022.3.0</br>\n<br>Timestamp 2022-10-06</br>",
          "<br>Git Hash: c7df02b</br>\n<a hfref=https://github.com/ComputationalPhysiology/simcardems/commit/c7df02b>Link to commit </a><br>Version: 2022.3.0</br>\n<br>Timestamp 2022-10-06</br>",
          "<br>Git Hash: cf7cc9d</br>\n<a hfref=https://github.com/ComputationalPhysiology/simcardems/commit/cf7cc9d>Link to commit </a><br>Version: 2022.3.0</br>\n<br>Timestamp 2022-10-06</br>",
          "<br>Git Hash: d5edd92</br>\n<a hfref=https://github.com/ComputationalPhysiology/simcardems/commit/d5edd92>Link to commit </a><br>Version: 2022.3.0</br>\n<br>Timestamp 2022-10-07</br>"
         ],
         "type": "scatter",
         "x": [
          "2022-10-06T16:25:06.830650",
          "2022-10-06T16:55:04.711879",
          "2022-10-06T20:09:07.230901",
          "2022-10-06T20:19:12.227464",
          "2022-10-06T20:28:25.015389",
          "2022-10-06T20:32:00.361561",
          "2022-10-07T06:42:09.101000"
         ],
         "xaxis": "x15",
         "y": [
          -108.48388046370579,
          -108.48388046376431,
          -108.48388046370579,
          -108.48388046370579,
          -108.48388046360921,
          -108.48388046370579,
          -108.5093305773544
         ],
         "yaxis": "y15"
        },
        {
         "hovertemplate": "%{text}",
         "text": [
          "<br>Git Hash: f63afc9</br>\n<a hfref=https://github.com/ComputationalPhysiology/simcardems/commit/f63afc9>Link to commit </a><br>Version: 2022.3.0</br>\n<br>Timestamp 2022-10-06</br>",
          "<br>Git Hash: 630ed09</br>\n<a hfref=https://github.com/ComputationalPhysiology/simcardems/commit/630ed09>Link to commit </a><br>Version: 2022.3.0</br>\n<br>Timestamp 2022-10-06</br>",
          "<br>Git Hash: 4d3a653</br>\n<a hfref=https://github.com/ComputationalPhysiology/simcardems/commit/4d3a653>Link to commit </a><br>Version: 2022.3.0</br>\n<br>Timestamp 2022-10-06</br>",
          "<br>Git Hash: 0c195ff</br>\n<a hfref=https://github.com/ComputationalPhysiology/simcardems/commit/0c195ff>Link to commit </a><br>Version: 2022.3.0</br>\n<br>Timestamp 2022-10-06</br>",
          "<br>Git Hash: c7df02b</br>\n<a hfref=https://github.com/ComputationalPhysiology/simcardems/commit/c7df02b>Link to commit </a><br>Version: 2022.3.0</br>\n<br>Timestamp 2022-10-06</br>",
          "<br>Git Hash: cf7cc9d</br>\n<a hfref=https://github.com/ComputationalPhysiology/simcardems/commit/cf7cc9d>Link to commit </a><br>Version: 2022.3.0</br>\n<br>Timestamp 2022-10-06</br>",
          "<br>Git Hash: d5edd92</br>\n<a hfref=https://github.com/ComputationalPhysiology/simcardems/commit/d5edd92>Link to commit </a><br>Version: 2022.3.0</br>\n<br>Timestamp 2022-10-07</br>"
         ],
         "type": "scatter",
         "x": [
          "2022-10-06T16:25:06.830650",
          "2022-10-06T16:55:04.711879",
          "2022-10-06T20:09:07.230901",
          "2022-10-06T20:19:12.227464",
          "2022-10-06T20:28:25.015389",
          "2022-10-06T20:32:00.361561",
          "2022-10-07T06:42:09.101000"
         ],
         "xaxis": "x19",
         "y": [
          0.08640592019796726,
          0.08640592019545741,
          0.08640592019796726,
          0.08640592019796726,
          0.08640592020231393,
          0.08640592019796726,
          0.08617224657688557
         ],
         "yaxis": "y19"
        },
        {
         "hovertemplate": "%{text}",
         "text": [
          "<br>Git Hash: f63afc9</br>\n<a hfref=https://github.com/ComputationalPhysiology/simcardems/commit/f63afc9>Link to commit </a><br>Version: 2022.3.0</br>\n<br>Timestamp 2022-10-06</br>",
          "<br>Git Hash: 630ed09</br>\n<a hfref=https://github.com/ComputationalPhysiology/simcardems/commit/630ed09>Link to commit </a><br>Version: 2022.3.0</br>\n<br>Timestamp 2022-10-06</br>",
          "<br>Git Hash: 4d3a653</br>\n<a hfref=https://github.com/ComputationalPhysiology/simcardems/commit/4d3a653>Link to commit </a><br>Version: 2022.3.0</br>\n<br>Timestamp 2022-10-06</br>",
          "<br>Git Hash: 0c195ff</br>\n<a hfref=https://github.com/ComputationalPhysiology/simcardems/commit/0c195ff>Link to commit </a><br>Version: 2022.3.0</br>\n<br>Timestamp 2022-10-06</br>",
          "<br>Git Hash: c7df02b</br>\n<a hfref=https://github.com/ComputationalPhysiology/simcardems/commit/c7df02b>Link to commit </a><br>Version: 2022.3.0</br>\n<br>Timestamp 2022-10-06</br>",
          "<br>Git Hash: cf7cc9d</br>\n<a hfref=https://github.com/ComputationalPhysiology/simcardems/commit/cf7cc9d>Link to commit </a><br>Version: 2022.3.0</br>\n<br>Timestamp 2022-10-06</br>",
          "<br>Git Hash: d5edd92</br>\n<a hfref=https://github.com/ComputationalPhysiology/simcardems/commit/d5edd92>Link to commit </a><br>Version: 2022.3.0</br>\n<br>Timestamp 2022-10-07</br>"
         ],
         "type": "scatter",
         "x": [
          "2022-10-06T16:25:06.830650",
          "2022-10-06T16:55:04.711879",
          "2022-10-06T20:09:07.230901",
          "2022-10-06T20:19:12.227464",
          "2022-10-06T20:28:25.015389",
          "2022-10-06T20:32:00.361561",
          "2022-10-07T06:42:09.101000"
         ],
         "xaxis": "x23",
         "y": [
          0.08640592019796726,
          0.08640592019545741,
          0.08640592019796726,
          0.08640592019796726,
          0.08640592020231393,
          0.08640592019796726,
          0.08617224657688557
         ],
         "yaxis": "y23"
        },
        {
         "hovertemplate": "%{text}",
         "text": [
          "<br>Git Hash: f63afc9</br>\n<a hfref=https://github.com/ComputationalPhysiology/simcardems/commit/f63afc9>Link to commit </a><br>Version: 2022.3.0</br>\n<br>Timestamp 2022-10-06</br>",
          "<br>Git Hash: 630ed09</br>\n<a hfref=https://github.com/ComputationalPhysiology/simcardems/commit/630ed09>Link to commit </a><br>Version: 2022.3.0</br>\n<br>Timestamp 2022-10-06</br>",
          "<br>Git Hash: 4d3a653</br>\n<a hfref=https://github.com/ComputationalPhysiology/simcardems/commit/4d3a653>Link to commit </a><br>Version: 2022.3.0</br>\n<br>Timestamp 2022-10-06</br>",
          "<br>Git Hash: 0c195ff</br>\n<a hfref=https://github.com/ComputationalPhysiology/simcardems/commit/0c195ff>Link to commit </a><br>Version: 2022.3.0</br>\n<br>Timestamp 2022-10-06</br>",
          "<br>Git Hash: c7df02b</br>\n<a hfref=https://github.com/ComputationalPhysiology/simcardems/commit/c7df02b>Link to commit </a><br>Version: 2022.3.0</br>\n<br>Timestamp 2022-10-06</br>",
          "<br>Git Hash: cf7cc9d</br>\n<a hfref=https://github.com/ComputationalPhysiology/simcardems/commit/cf7cc9d>Link to commit </a><br>Version: 2022.3.0</br>\n<br>Timestamp 2022-10-06</br>",
          "<br>Git Hash: d5edd92</br>\n<a hfref=https://github.com/ComputationalPhysiology/simcardems/commit/d5edd92>Link to commit </a><br>Version: 2022.3.0</br>\n<br>Timestamp 2022-10-07</br>"
         ],
         "type": "scatter",
         "x": [
          "2022-10-06T16:25:06.830650",
          "2022-10-06T16:55:04.711879",
          "2022-10-06T20:09:07.230901",
          "2022-10-06T20:19:12.227464",
          "2022-10-06T20:28:25.015389",
          "2022-10-06T20:32:00.361561",
          "2022-10-07T06:42:09.101000"
         ],
         "xaxis": "x27",
         "y": [
          0.4320296009898363,
          0.43202960097728704,
          0.4320296009898363,
          0.4320296009898363,
          0.4320296010115697,
          0.4320296009898363,
          0.4308612328844279
         ],
         "yaxis": "y27"
        },
        {
         "hovertemplate": "%{text}",
         "text": [
          "<br>Git Hash: f63afc9</br>\n<a hfref=https://github.com/ComputationalPhysiology/simcardems/commit/f63afc9>Link to commit </a><br>Version: 2022.3.0</br>\n<br>Timestamp 2022-10-06</br>",
          "<br>Git Hash: 630ed09</br>\n<a hfref=https://github.com/ComputationalPhysiology/simcardems/commit/630ed09>Link to commit </a><br>Version: 2022.3.0</br>\n<br>Timestamp 2022-10-06</br>",
          "<br>Git Hash: 4d3a653</br>\n<a hfref=https://github.com/ComputationalPhysiology/simcardems/commit/4d3a653>Link to commit </a><br>Version: 2022.3.0</br>\n<br>Timestamp 2022-10-06</br>",
          "<br>Git Hash: 0c195ff</br>\n<a hfref=https://github.com/ComputationalPhysiology/simcardems/commit/0c195ff>Link to commit </a><br>Version: 2022.3.0</br>\n<br>Timestamp 2022-10-06</br>",
          "<br>Git Hash: c7df02b</br>\n<a hfref=https://github.com/ComputationalPhysiology/simcardems/commit/c7df02b>Link to commit </a><br>Version: 2022.3.0</br>\n<br>Timestamp 2022-10-06</br>",
          "<br>Git Hash: cf7cc9d</br>\n<a hfref=https://github.com/ComputationalPhysiology/simcardems/commit/cf7cc9d>Link to commit </a><br>Version: 2022.3.0</br>\n<br>Timestamp 2022-10-06</br>",
          "<br>Git Hash: d5edd92</br>\n<a hfref=https://github.com/ComputationalPhysiology/simcardems/commit/d5edd92>Link to commit </a><br>Version: 2022.3.0</br>\n<br>Timestamp 2022-10-07</br>"
         ],
         "type": "scatter",
         "x": [
          "2022-10-06T16:25:06.830650",
          "2022-10-06T16:55:04.711879",
          "2022-10-06T20:09:07.230901",
          "2022-10-06T20:19:12.227464",
          "2022-10-06T20:28:25.015389",
          "2022-10-06T20:32:00.361561",
          "2022-10-07T06:42:09.101000"
         ],
         "xaxis": "x31",
         "y": [
          0.4339041955545689,
          0.43390419554191045,
          0.4339041955545689,
          0.4339041955545689,
          0.43390419557649124,
          0.4339041955545689,
          0.4327256800846482
         ],
         "yaxis": "y31"
        },
        {
         "hovertemplate": "%{text}",
         "text": [
          "<br>Git Hash: f63afc9</br>\n<a hfref=https://github.com/ComputationalPhysiology/simcardems/commit/f63afc9>Link to commit </a><br>Version: 2022.3.0</br>\n<br>Timestamp 2022-10-06</br>",
          "<br>Git Hash: 630ed09</br>\n<a hfref=https://github.com/ComputationalPhysiology/simcardems/commit/630ed09>Link to commit </a><br>Version: 2022.3.0</br>\n<br>Timestamp 2022-10-06</br>",
          "<br>Git Hash: 4d3a653</br>\n<a hfref=https://github.com/ComputationalPhysiology/simcardems/commit/4d3a653>Link to commit </a><br>Version: 2022.3.0</br>\n<br>Timestamp 2022-10-06</br>",
          "<br>Git Hash: 0c195ff</br>\n<a hfref=https://github.com/ComputationalPhysiology/simcardems/commit/0c195ff>Link to commit </a><br>Version: 2022.3.0</br>\n<br>Timestamp 2022-10-06</br>",
          "<br>Git Hash: c7df02b</br>\n<a hfref=https://github.com/ComputationalPhysiology/simcardems/commit/c7df02b>Link to commit </a><br>Version: 2022.3.0</br>\n<br>Timestamp 2022-10-06</br>",
          "<br>Git Hash: cf7cc9d</br>\n<a hfref=https://github.com/ComputationalPhysiology/simcardems/commit/cf7cc9d>Link to commit </a><br>Version: 2022.3.0</br>\n<br>Timestamp 2022-10-06</br>",
          "<br>Git Hash: d5edd92</br>\n<a hfref=https://github.com/ComputationalPhysiology/simcardems/commit/d5edd92>Link to commit </a><br>Version: 2022.3.0</br>\n<br>Timestamp 2022-10-07</br>"
         ],
         "type": "scatter",
         "x": [
          "2022-10-06T16:25:06.830650",
          "2022-10-06T16:55:04.711879",
          "2022-10-06T20:09:07.230901",
          "2022-10-06T20:19:12.227464",
          "2022-10-06T20:28:25.015389",
          "2022-10-06T20:32:00.361561",
          "2022-10-07T06:42:09.101000"
         ],
         "xaxis": "x35",
         "y": [
          0.05,
          0.05,
          0.05,
          0.05,
          0.05,
          0.05,
          0.05
         ],
         "yaxis": "y35"
        },
        {
         "hovertemplate": "%{text}",
         "text": [
          "<br>Git Hash: f63afc9</br>\n<a hfref=https://github.com/ComputationalPhysiology/simcardems/commit/f63afc9>Link to commit </a><br>Version: 2022.3.0</br>\n<br>Timestamp 2022-10-06</br>",
          "<br>Git Hash: 630ed09</br>\n<a hfref=https://github.com/ComputationalPhysiology/simcardems/commit/630ed09>Link to commit </a><br>Version: 2022.3.0</br>\n<br>Timestamp 2022-10-06</br>",
          "<br>Git Hash: 4d3a653</br>\n<a hfref=https://github.com/ComputationalPhysiology/simcardems/commit/4d3a653>Link to commit </a><br>Version: 2022.3.0</br>\n<br>Timestamp 2022-10-06</br>",
          "<br>Git Hash: 0c195ff</br>\n<a hfref=https://github.com/ComputationalPhysiology/simcardems/commit/0c195ff>Link to commit </a><br>Version: 2022.3.0</br>\n<br>Timestamp 2022-10-06</br>",
          "<br>Git Hash: c7df02b</br>\n<a hfref=https://github.com/ComputationalPhysiology/simcardems/commit/c7df02b>Link to commit </a><br>Version: 2022.3.0</br>\n<br>Timestamp 2022-10-06</br>",
          "<br>Git Hash: cf7cc9d</br>\n<a hfref=https://github.com/ComputationalPhysiology/simcardems/commit/cf7cc9d>Link to commit </a><br>Version: 2022.3.0</br>\n<br>Timestamp 2022-10-06</br>",
          "<br>Git Hash: d5edd92</br>\n<a hfref=https://github.com/ComputationalPhysiology/simcardems/commit/d5edd92>Link to commit </a><br>Version: 2022.3.0</br>\n<br>Timestamp 2022-10-07</br>"
         ],
         "type": "scatter",
         "x": [
          "2022-10-06T16:25:06.830650",
          "2022-10-06T16:55:04.711879",
          "2022-10-06T20:09:07.230901",
          "2022-10-06T20:19:12.227464",
          "2022-10-06T20:28:25.015389",
          "2022-10-06T20:32:00.361561",
          "2022-10-07T06:42:09.101000"
         ],
         "xaxis": "x39",
         "y": [
          0,
          0,
          0,
          0,
          0,
          0,
          0
         ],
         "yaxis": "y39"
        },
        {
         "hovertemplate": "%{text}",
         "text": [
          "<br>Git Hash: f63afc9</br>\n<a hfref=https://github.com/ComputationalPhysiology/simcardems/commit/f63afc9>Link to commit </a><br>Version: 2022.3.0</br>\n<br>Timestamp 2022-10-06</br>",
          "<br>Git Hash: 630ed09</br>\n<a hfref=https://github.com/ComputationalPhysiology/simcardems/commit/630ed09>Link to commit </a><br>Version: 2022.3.0</br>\n<br>Timestamp 2022-10-06</br>",
          "<br>Git Hash: 4d3a653</br>\n<a hfref=https://github.com/ComputationalPhysiology/simcardems/commit/4d3a653>Link to commit </a><br>Version: 2022.3.0</br>\n<br>Timestamp 2022-10-06</br>",
          "<br>Git Hash: 0c195ff</br>\n<a hfref=https://github.com/ComputationalPhysiology/simcardems/commit/0c195ff>Link to commit </a><br>Version: 2022.3.0</br>\n<br>Timestamp 2022-10-06</br>",
          "<br>Git Hash: c7df02b</br>\n<a hfref=https://github.com/ComputationalPhysiology/simcardems/commit/c7df02b>Link to commit </a><br>Version: 2022.3.0</br>\n<br>Timestamp 2022-10-06</br>",
          "<br>Git Hash: cf7cc9d</br>\n<a hfref=https://github.com/ComputationalPhysiology/simcardems/commit/cf7cc9d>Link to commit </a><br>Version: 2022.3.0</br>\n<br>Timestamp 2022-10-06</br>",
          "<br>Git Hash: d5edd92</br>\n<a hfref=https://github.com/ComputationalPhysiology/simcardems/commit/d5edd92>Link to commit </a><br>Version: 2022.3.0</br>\n<br>Timestamp 2022-10-07</br>"
         ],
         "type": "scatter",
         "x": [
          "2022-10-06T16:25:06.830650",
          "2022-10-06T16:55:04.711879",
          "2022-10-06T20:09:07.230901",
          "2022-10-06T20:19:12.227464",
          "2022-10-06T20:28:25.015389",
          "2022-10-06T20:32:00.361561",
          "2022-10-07T06:42:09.101000"
         ],
         "xaxis": "x43",
         "y": [
          0.049886481285873724,
          0.049886481284424654,
          0.049886481285873724,
          0.049886481285873724,
          0.049886481288383265,
          0.049886481285873724,
          0.049751569757839696
         ],
         "yaxis": "y43"
        },
        {
         "hovertemplate": "%{text}",
         "text": [
          "<br>Git Hash: f63afc9</br>\n<a hfref=https://github.com/ComputationalPhysiology/simcardems/commit/f63afc9>Link to commit </a><br>Version: 2022.3.0</br>\n<br>Timestamp 2022-10-06</br>",
          "<br>Git Hash: 630ed09</br>\n<a hfref=https://github.com/ComputationalPhysiology/simcardems/commit/630ed09>Link to commit </a><br>Version: 2022.3.0</br>\n<br>Timestamp 2022-10-06</br>",
          "<br>Git Hash: 4d3a653</br>\n<a hfref=https://github.com/ComputationalPhysiology/simcardems/commit/4d3a653>Link to commit </a><br>Version: 2022.3.0</br>\n<br>Timestamp 2022-10-06</br>",
          "<br>Git Hash: 0c195ff</br>\n<a hfref=https://github.com/ComputationalPhysiology/simcardems/commit/0c195ff>Link to commit </a><br>Version: 2022.3.0</br>\n<br>Timestamp 2022-10-06</br>",
          "<br>Git Hash: c7df02b</br>\n<a hfref=https://github.com/ComputationalPhysiology/simcardems/commit/c7df02b>Link to commit </a><br>Version: 2022.3.0</br>\n<br>Timestamp 2022-10-06</br>",
          "<br>Git Hash: cf7cc9d</br>\n<a hfref=https://github.com/ComputationalPhysiology/simcardems/commit/cf7cc9d>Link to commit </a><br>Version: 2022.3.0</br>\n<br>Timestamp 2022-10-06</br>",
          "<br>Git Hash: d5edd92</br>\n<a hfref=https://github.com/ComputationalPhysiology/simcardems/commit/d5edd92>Link to commit </a><br>Version: 2022.3.0</br>\n<br>Timestamp 2022-10-07</br>"
         ],
         "type": "scatter",
         "x": [
          "2022-10-06T16:25:06.830650",
          "2022-10-06T16:55:04.711879",
          "2022-10-06T20:09:07.230901",
          "2022-10-06T20:19:12.227464",
          "2022-10-06T20:28:25.015389",
          "2022-10-06T20:32:00.361561",
          "2022-10-07T06:42:09.101000"
         ],
         "xaxis": "x47",
         "y": [
          0,
          0,
          0,
          0,
          0,
          0,
          0
         ],
         "yaxis": "y47"
        },
        {
         "hovertemplate": "%{text}",
         "text": [
          "<br>Git Hash: f63afc9</br>\n<a hfref=https://github.com/ComputationalPhysiology/simcardems/commit/f63afc9>Link to commit </a><br>Version: 2022.3.0</br>\n<br>Timestamp 2022-10-06</br>",
          "<br>Git Hash: 630ed09</br>\n<a hfref=https://github.com/ComputationalPhysiology/simcardems/commit/630ed09>Link to commit </a><br>Version: 2022.3.0</br>\n<br>Timestamp 2022-10-06</br>",
          "<br>Git Hash: 4d3a653</br>\n<a hfref=https://github.com/ComputationalPhysiology/simcardems/commit/4d3a653>Link to commit </a><br>Version: 2022.3.0</br>\n<br>Timestamp 2022-10-06</br>",
          "<br>Git Hash: 0c195ff</br>\n<a hfref=https://github.com/ComputationalPhysiology/simcardems/commit/0c195ff>Link to commit </a><br>Version: 2022.3.0</br>\n<br>Timestamp 2022-10-06</br>",
          "<br>Git Hash: c7df02b</br>\n<a hfref=https://github.com/ComputationalPhysiology/simcardems/commit/c7df02b>Link to commit </a><br>Version: 2022.3.0</br>\n<br>Timestamp 2022-10-06</br>",
          "<br>Git Hash: cf7cc9d</br>\n<a hfref=https://github.com/ComputationalPhysiology/simcardems/commit/cf7cc9d>Link to commit </a><br>Version: 2022.3.0</br>\n<br>Timestamp 2022-10-06</br>",
          "<br>Git Hash: d5edd92</br>\n<a hfref=https://github.com/ComputationalPhysiology/simcardems/commit/d5edd92>Link to commit </a><br>Version: 2022.3.0</br>\n<br>Timestamp 2022-10-07</br>"
         ],
         "type": "scatter",
         "x": [
          "2022-10-06T16:25:06.830650",
          "2022-10-06T16:55:04.711879",
          "2022-10-06T20:09:07.230901",
          "2022-10-06T20:19:12.227464",
          "2022-10-06T20:28:25.015389",
          "2022-10-06T20:32:00.361561",
          "2022-10-07T06:42:09.101000"
         ],
         "xaxis": "x4",
         "y": [
          0.24943240642936862,
          0.24943240642212325,
          0.24943240642936862,
          0.24943240642936862,
          0.2494324064419163,
          0.24943240642936862,
          0.24875784878919846
         ],
         "yaxis": "y4"
        },
        {
         "hovertemplate": "%{text}",
         "text": [
          "<br>Git Hash: f63afc9</br>\n<a hfref=https://github.com/ComputationalPhysiology/simcardems/commit/f63afc9>Link to commit </a><br>Version: 2022.3.0</br>\n<br>Timestamp 2022-10-06</br>",
          "<br>Git Hash: 630ed09</br>\n<a hfref=https://github.com/ComputationalPhysiology/simcardems/commit/630ed09>Link to commit </a><br>Version: 2022.3.0</br>\n<br>Timestamp 2022-10-06</br>",
          "<br>Git Hash: 4d3a653</br>\n<a hfref=https://github.com/ComputationalPhysiology/simcardems/commit/4d3a653>Link to commit </a><br>Version: 2022.3.0</br>\n<br>Timestamp 2022-10-06</br>",
          "<br>Git Hash: 0c195ff</br>\n<a hfref=https://github.com/ComputationalPhysiology/simcardems/commit/0c195ff>Link to commit </a><br>Version: 2022.3.0</br>\n<br>Timestamp 2022-10-06</br>",
          "<br>Git Hash: c7df02b</br>\n<a hfref=https://github.com/ComputationalPhysiology/simcardems/commit/c7df02b>Link to commit </a><br>Version: 2022.3.0</br>\n<br>Timestamp 2022-10-06</br>",
          "<br>Git Hash: cf7cc9d</br>\n<a hfref=https://github.com/ComputationalPhysiology/simcardems/commit/cf7cc9d>Link to commit </a><br>Version: 2022.3.0</br>\n<br>Timestamp 2022-10-06</br>",
          "<br>Git Hash: d5edd92</br>\n<a hfref=https://github.com/ComputationalPhysiology/simcardems/commit/d5edd92>Link to commit </a><br>Version: 2022.3.0</br>\n<br>Timestamp 2022-10-07</br>"
         ],
         "type": "scatter",
         "x": [
          "2022-10-06T16:25:06.830650",
          "2022-10-06T16:55:04.711879",
          "2022-10-06T20:09:07.230901",
          "2022-10-06T20:19:12.227464",
          "2022-10-06T20:28:25.015389",
          "2022-10-06T20:32:00.361561",
          "2022-10-07T06:42:09.101000"
         ],
         "xaxis": "x8",
         "y": [
          138.05,
          138.05,
          138.05,
          138.05,
          138.05,
          138.05,
          138.05
         ],
         "yaxis": "y8"
        },
        {
         "hovertemplate": "%{text}",
         "text": [
          "<br>Git Hash: f63afc9</br>\n<a hfref=https://github.com/ComputationalPhysiology/simcardems/commit/f63afc9>Link to commit </a><br>Version: 2022.3.0</br>\n<br>Timestamp 2022-10-06</br>",
          "<br>Git Hash: 630ed09</br>\n<a hfref=https://github.com/ComputationalPhysiology/simcardems/commit/630ed09>Link to commit </a><br>Version: 2022.3.0</br>\n<br>Timestamp 2022-10-06</br>",
          "<br>Git Hash: 4d3a653</br>\n<a hfref=https://github.com/ComputationalPhysiology/simcardems/commit/4d3a653>Link to commit </a><br>Version: 2022.3.0</br>\n<br>Timestamp 2022-10-06</br>",
          "<br>Git Hash: 0c195ff</br>\n<a hfref=https://github.com/ComputationalPhysiology/simcardems/commit/0c195ff>Link to commit </a><br>Version: 2022.3.0</br>\n<br>Timestamp 2022-10-06</br>",
          "<br>Git Hash: c7df02b</br>\n<a hfref=https://github.com/ComputationalPhysiology/simcardems/commit/c7df02b>Link to commit </a><br>Version: 2022.3.0</br>\n<br>Timestamp 2022-10-06</br>",
          "<br>Git Hash: cf7cc9d</br>\n<a hfref=https://github.com/ComputationalPhysiology/simcardems/commit/cf7cc9d>Link to commit </a><br>Version: 2022.3.0</br>\n<br>Timestamp 2022-10-06</br>",
          "<br>Git Hash: d5edd92</br>\n<a hfref=https://github.com/ComputationalPhysiology/simcardems/commit/d5edd92>Link to commit </a><br>Version: 2022.3.0</br>\n<br>Timestamp 2022-10-07</br>"
         ],
         "type": "scatter",
         "x": [
          "2022-10-06T16:25:06.830650",
          "2022-10-06T16:55:04.711879",
          "2022-10-06T20:09:07.230901",
          "2022-10-06T20:19:12.227464",
          "2022-10-06T20:28:25.015389",
          "2022-10-06T20:32:00.361561",
          "2022-10-07T06:42:09.101000"
         ],
         "xaxis": "x12",
         "y": [
          0,
          0,
          0,
          0,
          0,
          0,
          0
         ],
         "yaxis": "y12"
        },
        {
         "hovertemplate": "%{text}",
         "text": [
          "<br>Git Hash: f63afc9</br>\n<a hfref=https://github.com/ComputationalPhysiology/simcardems/commit/f63afc9>Link to commit </a><br>Version: 2022.3.0</br>\n<br>Timestamp 2022-10-06</br>",
          "<br>Git Hash: 630ed09</br>\n<a hfref=https://github.com/ComputationalPhysiology/simcardems/commit/630ed09>Link to commit </a><br>Version: 2022.3.0</br>\n<br>Timestamp 2022-10-06</br>",
          "<br>Git Hash: 4d3a653</br>\n<a hfref=https://github.com/ComputationalPhysiology/simcardems/commit/4d3a653>Link to commit </a><br>Version: 2022.3.0</br>\n<br>Timestamp 2022-10-06</br>",
          "<br>Git Hash: 0c195ff</br>\n<a hfref=https://github.com/ComputationalPhysiology/simcardems/commit/0c195ff>Link to commit </a><br>Version: 2022.3.0</br>\n<br>Timestamp 2022-10-06</br>",
          "<br>Git Hash: c7df02b</br>\n<a hfref=https://github.com/ComputationalPhysiology/simcardems/commit/c7df02b>Link to commit </a><br>Version: 2022.3.0</br>\n<br>Timestamp 2022-10-06</br>",
          "<br>Git Hash: cf7cc9d</br>\n<a hfref=https://github.com/ComputationalPhysiology/simcardems/commit/cf7cc9d>Link to commit </a><br>Version: 2022.3.0</br>\n<br>Timestamp 2022-10-06</br>",
          "<br>Git Hash: d5edd92</br>\n<a hfref=https://github.com/ComputationalPhysiology/simcardems/commit/d5edd92>Link to commit </a><br>Version: 2022.3.0</br>\n<br>Timestamp 2022-10-07</br>"
         ],
         "type": "scatter",
         "x": [
          "2022-10-06T16:25:06.830650",
          "2022-10-06T16:55:04.711879",
          "2022-10-06T20:09:07.230901",
          "2022-10-06T20:19:12.227464",
          "2022-10-06T20:28:25.015389",
          "2022-10-06T20:32:00.361561",
          "2022-10-07T06:42:09.101000"
         ],
         "xaxis": "x16",
         "y": [
          0.049886481285873724,
          0.049886481284424654,
          0.049886481285873724,
          0.049886481285873724,
          0.049886481288383265,
          0.049886481285873724,
          0.049751569757839696
         ],
         "yaxis": "y16"
        },
        {
         "hovertemplate": "%{text}",
         "text": [
          "<br>Git Hash: f63afc9</br>\n<a hfref=https://github.com/ComputationalPhysiology/simcardems/commit/f63afc9>Link to commit </a><br>Version: 2022.3.0</br>\n<br>Timestamp 2022-10-06</br>",
          "<br>Git Hash: 630ed09</br>\n<a hfref=https://github.com/ComputationalPhysiology/simcardems/commit/630ed09>Link to commit </a><br>Version: 2022.3.0</br>\n<br>Timestamp 2022-10-06</br>",
          "<br>Git Hash: 4d3a653</br>\n<a hfref=https://github.com/ComputationalPhysiology/simcardems/commit/4d3a653>Link to commit </a><br>Version: 2022.3.0</br>\n<br>Timestamp 2022-10-06</br>",
          "<br>Git Hash: 0c195ff</br>\n<a hfref=https://github.com/ComputationalPhysiology/simcardems/commit/0c195ff>Link to commit </a><br>Version: 2022.3.0</br>\n<br>Timestamp 2022-10-06</br>",
          "<br>Git Hash: c7df02b</br>\n<a hfref=https://github.com/ComputationalPhysiology/simcardems/commit/c7df02b>Link to commit </a><br>Version: 2022.3.0</br>\n<br>Timestamp 2022-10-06</br>",
          "<br>Git Hash: cf7cc9d</br>\n<a hfref=https://github.com/ComputationalPhysiology/simcardems/commit/cf7cc9d>Link to commit </a><br>Version: 2022.3.0</br>\n<br>Timestamp 2022-10-06</br>",
          "<br>Git Hash: d5edd92</br>\n<a hfref=https://github.com/ComputationalPhysiology/simcardems/commit/d5edd92>Link to commit </a><br>Version: 2022.3.0</br>\n<br>Timestamp 2022-10-07</br>"
         ],
         "type": "scatter",
         "x": [
          "2022-10-06T16:25:06.830650",
          "2022-10-06T16:55:04.711879",
          "2022-10-06T20:09:07.230901",
          "2022-10-06T20:19:12.227464",
          "2022-10-06T20:28:25.015389",
          "2022-10-06T20:32:00.361561",
          "2022-10-07T06:42:09.101000"
         ],
         "xaxis": "x20",
         "y": [
          0,
          0,
          0,
          0,
          0,
          0,
          0
         ],
         "yaxis": "y20"
        },
        {
         "hovertemplate": "%{text}",
         "text": [
          "<br>Git Hash: f63afc9</br>\n<a hfref=https://github.com/ComputationalPhysiology/simcardems/commit/f63afc9>Link to commit </a><br>Version: 2022.3.0</br>\n<br>Timestamp 2022-10-06</br>",
          "<br>Git Hash: 630ed09</br>\n<a hfref=https://github.com/ComputationalPhysiology/simcardems/commit/630ed09>Link to commit </a><br>Version: 2022.3.0</br>\n<br>Timestamp 2022-10-06</br>",
          "<br>Git Hash: 4d3a653</br>\n<a hfref=https://github.com/ComputationalPhysiology/simcardems/commit/4d3a653>Link to commit </a><br>Version: 2022.3.0</br>\n<br>Timestamp 2022-10-06</br>",
          "<br>Git Hash: 0c195ff</br>\n<a hfref=https://github.com/ComputationalPhysiology/simcardems/commit/0c195ff>Link to commit </a><br>Version: 2022.3.0</br>\n<br>Timestamp 2022-10-06</br>",
          "<br>Git Hash: c7df02b</br>\n<a hfref=https://github.com/ComputationalPhysiology/simcardems/commit/c7df02b>Link to commit </a><br>Version: 2022.3.0</br>\n<br>Timestamp 2022-10-06</br>",
          "<br>Git Hash: cf7cc9d</br>\n<a hfref=https://github.com/ComputationalPhysiology/simcardems/commit/cf7cc9d>Link to commit </a><br>Version: 2022.3.0</br>\n<br>Timestamp 2022-10-06</br>",
          "<br>Git Hash: d5edd92</br>\n<a hfref=https://github.com/ComputationalPhysiology/simcardems/commit/d5edd92>Link to commit </a><br>Version: 2022.3.0</br>\n<br>Timestamp 2022-10-07</br>"
         ],
         "type": "scatter",
         "x": [
          "2022-10-06T16:25:06.830650",
          "2022-10-06T16:55:04.711879",
          "2022-10-06T20:09:07.230901",
          "2022-10-06T20:19:12.227464",
          "2022-10-06T20:28:25.015389",
          "2022-10-06T20:32:00.361561",
          "2022-10-07T06:42:09.101000"
         ],
         "xaxis": "x24",
         "y": [
          0.24943240642936862,
          0.24943240642212325,
          0.24943240642936862,
          0.24943240642936862,
          0.2494324064419163,
          0.24943240642936862,
          0.24875784878919846
         ],
         "yaxis": "y24"
        },
        {
         "hovertemplate": "%{text}",
         "text": [
          "<br>Git Hash: f63afc9</br>\n<a hfref=https://github.com/ComputationalPhysiology/simcardems/commit/f63afc9>Link to commit </a><br>Version: 2022.3.0</br>\n<br>Timestamp 2022-10-06</br>",
          "<br>Git Hash: 630ed09</br>\n<a hfref=https://github.com/ComputationalPhysiology/simcardems/commit/630ed09>Link to commit </a><br>Version: 2022.3.0</br>\n<br>Timestamp 2022-10-06</br>",
          "<br>Git Hash: 4d3a653</br>\n<a hfref=https://github.com/ComputationalPhysiology/simcardems/commit/4d3a653>Link to commit </a><br>Version: 2022.3.0</br>\n<br>Timestamp 2022-10-06</br>",
          "<br>Git Hash: 0c195ff</br>\n<a hfref=https://github.com/ComputationalPhysiology/simcardems/commit/0c195ff>Link to commit </a><br>Version: 2022.3.0</br>\n<br>Timestamp 2022-10-06</br>",
          "<br>Git Hash: c7df02b</br>\n<a hfref=https://github.com/ComputationalPhysiology/simcardems/commit/c7df02b>Link to commit </a><br>Version: 2022.3.0</br>\n<br>Timestamp 2022-10-06</br>",
          "<br>Git Hash: cf7cc9d</br>\n<a hfref=https://github.com/ComputationalPhysiology/simcardems/commit/cf7cc9d>Link to commit </a><br>Version: 2022.3.0</br>\n<br>Timestamp 2022-10-06</br>",
          "<br>Git Hash: d5edd92</br>\n<a hfref=https://github.com/ComputationalPhysiology/simcardems/commit/d5edd92>Link to commit </a><br>Version: 2022.3.0</br>\n<br>Timestamp 2022-10-07</br>"
         ],
         "type": "scatter",
         "x": [
          "2022-10-06T16:25:06.830650",
          "2022-10-06T16:55:04.711879",
          "2022-10-06T20:09:07.230901",
          "2022-10-06T20:19:12.227464",
          "2022-10-06T20:28:25.015389",
          "2022-10-06T20:32:00.361561",
          "2022-10-07T06:42:09.101000"
         ],
         "xaxis": "x28",
         "y": [
          138.05,
          138.05,
          138.05,
          138.05,
          138.05,
          138.05,
          138.05
         ],
         "yaxis": "y28"
        },
        {
         "hovertemplate": "%{text}",
         "text": [
          "<br>Git Hash: f63afc9</br>\n<a hfref=https://github.com/ComputationalPhysiology/simcardems/commit/f63afc9>Link to commit </a><br>Version: 2022.3.0</br>\n<br>Timestamp 2022-10-06</br>",
          "<br>Git Hash: 630ed09</br>\n<a hfref=https://github.com/ComputationalPhysiology/simcardems/commit/630ed09>Link to commit </a><br>Version: 2022.3.0</br>\n<br>Timestamp 2022-10-06</br>",
          "<br>Git Hash: 4d3a653</br>\n<a hfref=https://github.com/ComputationalPhysiology/simcardems/commit/4d3a653>Link to commit </a><br>Version: 2022.3.0</br>\n<br>Timestamp 2022-10-06</br>",
          "<br>Git Hash: 0c195ff</br>\n<a hfref=https://github.com/ComputationalPhysiology/simcardems/commit/0c195ff>Link to commit </a><br>Version: 2022.3.0</br>\n<br>Timestamp 2022-10-06</br>",
          "<br>Git Hash: c7df02b</br>\n<a hfref=https://github.com/ComputationalPhysiology/simcardems/commit/c7df02b>Link to commit </a><br>Version: 2022.3.0</br>\n<br>Timestamp 2022-10-06</br>",
          "<br>Git Hash: cf7cc9d</br>\n<a hfref=https://github.com/ComputationalPhysiology/simcardems/commit/cf7cc9d>Link to commit </a><br>Version: 2022.3.0</br>\n<br>Timestamp 2022-10-06</br>",
          "<br>Git Hash: d5edd92</br>\n<a hfref=https://github.com/ComputationalPhysiology/simcardems/commit/d5edd92>Link to commit </a><br>Version: 2022.3.0</br>\n<br>Timestamp 2022-10-07</br>"
         ],
         "type": "scatter",
         "x": [
          "2022-10-06T16:25:06.830650",
          "2022-10-06T16:55:04.711879",
          "2022-10-06T20:09:07.230901",
          "2022-10-06T20:19:12.227464",
          "2022-10-06T20:28:25.015389",
          "2022-10-06T20:32:00.361561",
          "2022-10-07T06:42:09.101000"
         ],
         "xaxis": "x32",
         "y": [
          0,
          0,
          0,
          0,
          0,
          0,
          0
         ],
         "yaxis": "y32"
        },
        {
         "hovertemplate": "%{text}",
         "text": [
          "<br>Git Hash: f63afc9</br>\n<a hfref=https://github.com/ComputationalPhysiology/simcardems/commit/f63afc9>Link to commit </a><br>Version: 2022.3.0</br>\n<br>Timestamp 2022-10-06</br>",
          "<br>Git Hash: 630ed09</br>\n<a hfref=https://github.com/ComputationalPhysiology/simcardems/commit/630ed09>Link to commit </a><br>Version: 2022.3.0</br>\n<br>Timestamp 2022-10-06</br>",
          "<br>Git Hash: 4d3a653</br>\n<a hfref=https://github.com/ComputationalPhysiology/simcardems/commit/4d3a653>Link to commit </a><br>Version: 2022.3.0</br>\n<br>Timestamp 2022-10-06</br>",
          "<br>Git Hash: 0c195ff</br>\n<a hfref=https://github.com/ComputationalPhysiology/simcardems/commit/0c195ff>Link to commit </a><br>Version: 2022.3.0</br>\n<br>Timestamp 2022-10-06</br>",
          "<br>Git Hash: c7df02b</br>\n<a hfref=https://github.com/ComputationalPhysiology/simcardems/commit/c7df02b>Link to commit </a><br>Version: 2022.3.0</br>\n<br>Timestamp 2022-10-06</br>",
          "<br>Git Hash: cf7cc9d</br>\n<a hfref=https://github.com/ComputationalPhysiology/simcardems/commit/cf7cc9d>Link to commit </a><br>Version: 2022.3.0</br>\n<br>Timestamp 2022-10-06</br>",
          "<br>Git Hash: d5edd92</br>\n<a hfref=https://github.com/ComputationalPhysiology/simcardems/commit/d5edd92>Link to commit </a><br>Version: 2022.3.0</br>\n<br>Timestamp 2022-10-07</br>"
         ],
         "type": "scatter",
         "x": [
          "2022-10-06T16:25:06.830650",
          "2022-10-06T16:55:04.711879",
          "2022-10-06T20:09:07.230901",
          "2022-10-06T20:19:12.227464",
          "2022-10-06T20:28:25.015389",
          "2022-10-06T20:32:00.361561",
          "2022-10-07T06:42:09.101000"
         ],
         "xaxis": "x36",
         "y": [
          0.049886481285873724,
          0.049886481284424654,
          0.049886481285873724,
          0.049886481285873724,
          0.049886481288383265,
          0.049886481285873724,
          0.049751569757839696
         ],
         "yaxis": "y36"
        },
        {
         "hovertemplate": "%{text}",
         "text": [
          "<br>Git Hash: f63afc9</br>\n<a hfref=https://github.com/ComputationalPhysiology/simcardems/commit/f63afc9>Link to commit </a><br>Version: 2022.3.0</br>\n<br>Timestamp 2022-10-06</br>",
          "<br>Git Hash: 630ed09</br>\n<a hfref=https://github.com/ComputationalPhysiology/simcardems/commit/630ed09>Link to commit </a><br>Version: 2022.3.0</br>\n<br>Timestamp 2022-10-06</br>",
          "<br>Git Hash: 4d3a653</br>\n<a hfref=https://github.com/ComputationalPhysiology/simcardems/commit/4d3a653>Link to commit </a><br>Version: 2022.3.0</br>\n<br>Timestamp 2022-10-06</br>",
          "<br>Git Hash: 0c195ff</br>\n<a hfref=https://github.com/ComputationalPhysiology/simcardems/commit/0c195ff>Link to commit </a><br>Version: 2022.3.0</br>\n<br>Timestamp 2022-10-06</br>",
          "<br>Git Hash: c7df02b</br>\n<a hfref=https://github.com/ComputationalPhysiology/simcardems/commit/c7df02b>Link to commit </a><br>Version: 2022.3.0</br>\n<br>Timestamp 2022-10-06</br>",
          "<br>Git Hash: cf7cc9d</br>\n<a hfref=https://github.com/ComputationalPhysiology/simcardems/commit/cf7cc9d>Link to commit </a><br>Version: 2022.3.0</br>\n<br>Timestamp 2022-10-06</br>",
          "<br>Git Hash: d5edd92</br>\n<a hfref=https://github.com/ComputationalPhysiology/simcardems/commit/d5edd92>Link to commit </a><br>Version: 2022.3.0</br>\n<br>Timestamp 2022-10-07</br>"
         ],
         "type": "scatter",
         "x": [
          "2022-10-06T16:25:06.830650",
          "2022-10-06T16:55:04.711879",
          "2022-10-06T20:09:07.230901",
          "2022-10-06T20:19:12.227464",
          "2022-10-06T20:28:25.015389",
          "2022-10-06T20:32:00.361561",
          "2022-10-07T06:42:09.101000"
         ],
         "xaxis": "x40",
         "y": [
          0,
          0,
          0,
          0,
          0,
          0,
          0
         ],
         "yaxis": "y40"
        },
        {
         "hovertemplate": "%{text}",
         "text": [
          "<br>Git Hash: f63afc9</br>\n<a hfref=https://github.com/ComputationalPhysiology/simcardems/commit/f63afc9>Link to commit </a><br>Version: 2022.3.0</br>\n<br>Timestamp 2022-10-06</br>",
          "<br>Git Hash: 630ed09</br>\n<a hfref=https://github.com/ComputationalPhysiology/simcardems/commit/630ed09>Link to commit </a><br>Version: 2022.3.0</br>\n<br>Timestamp 2022-10-06</br>",
          "<br>Git Hash: 4d3a653</br>\n<a hfref=https://github.com/ComputationalPhysiology/simcardems/commit/4d3a653>Link to commit </a><br>Version: 2022.3.0</br>\n<br>Timestamp 2022-10-06</br>",
          "<br>Git Hash: 0c195ff</br>\n<a hfref=https://github.com/ComputationalPhysiology/simcardems/commit/0c195ff>Link to commit </a><br>Version: 2022.3.0</br>\n<br>Timestamp 2022-10-06</br>",
          "<br>Git Hash: c7df02b</br>\n<a hfref=https://github.com/ComputationalPhysiology/simcardems/commit/c7df02b>Link to commit </a><br>Version: 2022.3.0</br>\n<br>Timestamp 2022-10-06</br>",
          "<br>Git Hash: cf7cc9d</br>\n<a hfref=https://github.com/ComputationalPhysiology/simcardems/commit/cf7cc9d>Link to commit </a><br>Version: 2022.3.0</br>\n<br>Timestamp 2022-10-06</br>",
          "<br>Git Hash: d5edd92</br>\n<a hfref=https://github.com/ComputationalPhysiology/simcardems/commit/d5edd92>Link to commit </a><br>Version: 2022.3.0</br>\n<br>Timestamp 2022-10-07</br>"
         ],
         "type": "scatter",
         "x": [
          "2022-10-06T16:25:06.830650",
          "2022-10-06T16:55:04.711879",
          "2022-10-06T20:09:07.230901",
          "2022-10-06T20:19:12.227464",
          "2022-10-06T20:28:25.015389",
          "2022-10-06T20:32:00.361561",
          "2022-10-07T06:42:09.101000"
         ],
         "xaxis": "x44",
         "y": [
          0.24943240642936862,
          0.24943240642212325,
          0.24943240642936862,
          0.24943240642936862,
          0.2494324064419163,
          0.24943240642936862,
          0.24875784878919846
         ],
         "yaxis": "y44"
        },
        {
         "hovertemplate": "%{text}",
         "text": [
          "<br>Git Hash: f63afc9</br>\n<a hfref=https://github.com/ComputationalPhysiology/simcardems/commit/f63afc9>Link to commit </a><br>Version: 2022.3.0</br>\n<br>Timestamp 2022-10-06</br>",
          "<br>Git Hash: 630ed09</br>\n<a hfref=https://github.com/ComputationalPhysiology/simcardems/commit/630ed09>Link to commit </a><br>Version: 2022.3.0</br>\n<br>Timestamp 2022-10-06</br>",
          "<br>Git Hash: 4d3a653</br>\n<a hfref=https://github.com/ComputationalPhysiology/simcardems/commit/4d3a653>Link to commit </a><br>Version: 2022.3.0</br>\n<br>Timestamp 2022-10-06</br>",
          "<br>Git Hash: 0c195ff</br>\n<a hfref=https://github.com/ComputationalPhysiology/simcardems/commit/0c195ff>Link to commit </a><br>Version: 2022.3.0</br>\n<br>Timestamp 2022-10-06</br>",
          "<br>Git Hash: c7df02b</br>\n<a hfref=https://github.com/ComputationalPhysiology/simcardems/commit/c7df02b>Link to commit </a><br>Version: 2022.3.0</br>\n<br>Timestamp 2022-10-06</br>",
          "<br>Git Hash: cf7cc9d</br>\n<a hfref=https://github.com/ComputationalPhysiology/simcardems/commit/cf7cc9d>Link to commit </a><br>Version: 2022.3.0</br>\n<br>Timestamp 2022-10-06</br>",
          "<br>Git Hash: d5edd92</br>\n<a hfref=https://github.com/ComputationalPhysiology/simcardems/commit/d5edd92>Link to commit </a><br>Version: 2022.3.0</br>\n<br>Timestamp 2022-10-07</br>"
         ],
         "type": "scatter",
         "x": [
          "2022-10-06T16:25:06.830650",
          "2022-10-06T16:55:04.711879",
          "2022-10-06T20:09:07.230901",
          "2022-10-06T20:19:12.227464",
          "2022-10-06T20:28:25.015389",
          "2022-10-06T20:32:00.361561",
          "2022-10-07T06:42:09.101000"
         ],
         "xaxis": "x48",
         "y": [
          138.05,
          138.05,
          138.05,
          138.05,
          138.05,
          138.05,
          138.05
         ],
         "yaxis": "y48"
        }
       ],
       "layout": {
        "annotations": [
         {
          "font": {
           "size": 16
          },
          "showarrow": false,
          "text": "import_time",
          "x": 0.10625,
          "xanchor": "center",
          "xref": "paper",
          "y": 1,
          "yanchor": "bottom",
          "yref": "paper"
         },
         {
          "font": {
           "size": 16
          },
          "showarrow": false,
          "text": "create_runner_time",
          "x": 0.36875,
          "xanchor": "center",
          "xref": "paper",
          "y": 1,
          "yanchor": "bottom",
          "yref": "paper"
         },
         {
          "font": {
           "size": 16
          },
          "showarrow": false,
          "text": "solve_time",
          "x": 0.6312500000000001,
          "xanchor": "center",
          "xref": "paper",
          "y": 1,
          "yanchor": "bottom",
          "yref": "paper"
         },
         {
          "font": {
           "size": 16
          },
          "showarrow": false,
          "text": "maxTa",
          "x": 0.89375,
          "xanchor": "center",
          "xref": "paper",
          "y": 1,
          "yanchor": "bottom",
          "yref": "paper"
         },
         {
          "font": {
           "size": 16
          },
          "showarrow": false,
          "text": "ampTa",
          "x": 0.10625,
          "xanchor": "center",
          "xref": "paper",
          "y": 0.9131944444444444,
          "yanchor": "bottom",
          "yref": "paper"
         },
         {
          "font": {
           "size": 16
          },
          "showarrow": false,
          "text": "APD40",
          "x": 0.36875,
          "xanchor": "center",
          "xref": "paper",
          "y": 0.9131944444444444,
          "yanchor": "bottom",
          "yref": "paper"
         },
         {
          "font": {
           "size": 16
          },
          "showarrow": false,
          "text": "APD50",
          "x": 0.6312500000000001,
          "xanchor": "center",
          "xref": "paper",
          "y": 0.9131944444444444,
          "yanchor": "bottom",
          "yref": "paper"
         },
         {
          "font": {
           "size": 16
          },
          "showarrow": false,
          "text": "APD90",
          "x": 0.89375,
          "xanchor": "center",
          "xref": "paper",
          "y": 0.9131944444444444,
          "yanchor": "bottom",
          "yref": "paper"
         },
         {
          "font": {
           "size": 16
          },
          "showarrow": false,
          "text": "triangulation",
          "x": 0.10625,
          "xanchor": "center",
          "xref": "paper",
          "y": 0.8263888888888888,
          "yanchor": "bottom",
          "yref": "paper"
         },
         {
          "font": {
           "size": 16
          },
          "showarrow": false,
          "text": "Vpeak",
          "x": 0.36875,
          "xanchor": "center",
          "xref": "paper",
          "y": 0.8263888888888888,
          "yanchor": "bottom",
          "yref": "paper"
         },
         {
          "font": {
           "size": 16
          },
          "showarrow": false,
          "text": "Vmin",
          "x": 0.6312500000000001,
          "xanchor": "center",
          "xref": "paper",
          "y": 0.8263888888888888,
          "yanchor": "bottom",
          "yref": "paper"
         },
         {
          "font": {
           "size": 16
          },
          "showarrow": false,
          "text": "dvdt",
          "x": 0.89375,
          "xanchor": "center",
          "xref": "paper",
          "y": 0.8263888888888888,
          "yanchor": "bottom",
          "yref": "paper"
         },
         {
          "font": {
           "size": 16
          },
          "showarrow": false,
          "text": "maxCa",
          "x": 0.10625,
          "xanchor": "center",
          "xref": "paper",
          "y": 0.7395833333333333,
          "yanchor": "bottom",
          "yref": "paper"
         },
         {
          "font": {
           "size": 16
          },
          "showarrow": false,
          "text": "ampCa",
          "x": 0.36875,
          "xanchor": "center",
          "xref": "paper",
          "y": 0.7395833333333333,
          "yanchor": "bottom",
          "yref": "paper"
         },
         {
          "font": {
           "size": 16
          },
          "showarrow": false,
          "text": "CaTD50",
          "x": 0.6312500000000001,
          "xanchor": "center",
          "xref": "paper",
          "y": 0.7395833333333333,
          "yanchor": "bottom",
          "yref": "paper"
         },
         {
          "font": {
           "size": 16
          },
          "showarrow": false,
          "text": "CaTD80",
          "x": 0.89375,
          "xanchor": "center",
          "xref": "paper",
          "y": 0.7395833333333333,
          "yanchor": "bottom",
          "yref": "paper"
         },
         {
          "font": {
           "size": 16
          },
          "showarrow": false,
          "text": "CaTD90",
          "x": 0.10625,
          "xanchor": "center",
          "xref": "paper",
          "y": 0.6527777777777777,
          "yanchor": "bottom",
          "yref": "paper"
         },
         {
          "font": {
           "size": 16
          },
          "showarrow": false,
          "text": "ttp_Ta",
          "x": 0.36875,
          "xanchor": "center",
          "xref": "paper",
          "y": 0.6527777777777777,
          "yanchor": "bottom",
          "yref": "paper"
         },
         {
          "font": {
           "size": 16
          },
          "showarrow": false,
          "text": "rt50_Ta",
          "x": 0.6312500000000001,
          "xanchor": "center",
          "xref": "paper",
          "y": 0.6527777777777777,
          "yanchor": "bottom",
          "yref": "paper"
         },
         {
          "font": {
           "size": 16
          },
          "showarrow": false,
          "text": "rt95_Ta",
          "x": 0.89375,
          "xanchor": "center",
          "xref": "paper",
          "y": 0.6527777777777777,
          "yanchor": "bottom",
          "yref": "paper"
         },
         {
          "font": {
           "size": 16
          },
          "showarrow": false,
          "text": "maxlmbda",
          "x": 0.10625,
          "xanchor": "center",
          "xref": "paper",
          "y": 0.5659722222222223,
          "yanchor": "bottom",
          "yref": "paper"
         },
         {
          "font": {
           "size": 16
          },
          "showarrow": false,
          "text": "minlmbda",
          "x": 0.36875,
          "xanchor": "center",
          "xref": "paper",
          "y": 0.5659722222222223,
          "yanchor": "bottom",
          "yref": "paper"
         },
         {
          "font": {
           "size": 16
          },
          "showarrow": false,
          "text": "ttplmbda",
          "x": 0.6312500000000001,
          "xanchor": "center",
          "xref": "paper",
          "y": 0.5659722222222223,
          "yanchor": "bottom",
          "yref": "paper"
         },
         {
          "font": {
           "size": 16
          },
          "showarrow": false,
          "text": "lmbdaD50",
          "x": 0.89375,
          "xanchor": "center",
          "xref": "paper",
          "y": 0.5659722222222223,
          "yanchor": "bottom",
          "yref": "paper"
         },
         {
          "font": {
           "size": 16
          },
          "showarrow": false,
          "text": "lmbdaD80",
          "x": 0.10625,
          "xanchor": "center",
          "xref": "paper",
          "y": 0.4791666666666667,
          "yanchor": "bottom",
          "yref": "paper"
         },
         {
          "font": {
           "size": 16
          },
          "showarrow": false,
          "text": "lmbdaD90",
          "x": 0.36875,
          "xanchor": "center",
          "xref": "paper",
          "y": 0.4791666666666667,
          "yanchor": "bottom",
          "yref": "paper"
         },
         {
          "font": {
           "size": 16
          },
          "showarrow": false,
          "text": "rt50_lmbda",
          "x": 0.6312500000000001,
          "xanchor": "center",
          "xref": "paper",
          "y": 0.4791666666666667,
          "yanchor": "bottom",
          "yref": "paper"
         },
         {
          "font": {
           "size": 16
          },
          "showarrow": false,
          "text": "rt95_lmbda",
          "x": 0.89375,
          "xanchor": "center",
          "xref": "paper",
          "y": 0.4791666666666667,
          "yanchor": "bottom",
          "yref": "paper"
         },
         {
          "font": {
           "size": 16
          },
          "showarrow": false,
          "text": "max_displacement_norm",
          "x": 0.10625,
          "xanchor": "center",
          "xref": "paper",
          "y": 0.3923611111111111,
          "yanchor": "bottom",
          "yref": "paper"
         },
         {
          "font": {
           "size": 16
          },
          "showarrow": false,
          "text": "rel_max_displacement_norm",
          "x": 0.36875,
          "xanchor": "center",
          "xref": "paper",
          "y": 0.3923611111111111,
          "yanchor": "bottom",
          "yref": "paper"
         },
         {
          "font": {
           "size": 16
          },
          "showarrow": false,
          "text": "max_displacement_perc_norm",
          "x": 0.6312500000000001,
          "xanchor": "center",
          "xref": "paper",
          "y": 0.3923611111111111,
          "yanchor": "bottom",
          "yref": "paper"
         },
         {
          "font": {
           "size": 16
          },
          "showarrow": false,
          "text": "rel_max_displacement_perc_norm",
          "x": 0.89375,
          "xanchor": "center",
          "xref": "paper",
          "y": 0.3923611111111111,
          "yanchor": "bottom",
          "yref": "paper"
         },
         {
          "font": {
           "size": 16
          },
          "showarrow": false,
          "text": "time_to_max_displacement_norm",
          "x": 0.10625,
          "xanchor": "center",
          "xref": "paper",
          "y": 0.3055555555555556,
          "yanchor": "bottom",
          "yref": "paper"
         },
         {
          "font": {
           "size": 16
          },
          "showarrow": false,
          "text": "max_displacement_x",
          "x": 0.36875,
          "xanchor": "center",
          "xref": "paper",
          "y": 0.3055555555555556,
          "yanchor": "bottom",
          "yref": "paper"
         },
         {
          "font": {
           "size": 16
          },
          "showarrow": false,
          "text": "rel_max_displacement_x",
          "x": 0.6312500000000001,
          "xanchor": "center",
          "xref": "paper",
          "y": 0.3055555555555556,
          "yanchor": "bottom",
          "yref": "paper"
         },
         {
          "font": {
           "size": 16
          },
          "showarrow": false,
          "text": "max_displacement_perc_x",
          "x": 0.89375,
          "xanchor": "center",
          "xref": "paper",
          "y": 0.3055555555555556,
          "yanchor": "bottom",
          "yref": "paper"
         },
         {
          "font": {
           "size": 16
          },
          "showarrow": false,
          "text": "rel_max_displacement_perc_x",
          "x": 0.10625,
          "xanchor": "center",
          "xref": "paper",
          "y": 0.21875,
          "yanchor": "bottom",
          "yref": "paper"
         },
         {
          "font": {
           "size": 16
          },
          "showarrow": false,
          "text": "time_to_max_displacement_x",
          "x": 0.36875,
          "xanchor": "center",
          "xref": "paper",
          "y": 0.21875,
          "yanchor": "bottom",
          "yref": "paper"
         },
         {
          "font": {
           "size": 16
          },
          "showarrow": false,
          "text": "max_displacement_y",
          "x": 0.6312500000000001,
          "xanchor": "center",
          "xref": "paper",
          "y": 0.21875,
          "yanchor": "bottom",
          "yref": "paper"
         },
         {
          "font": {
           "size": 16
          },
          "showarrow": false,
          "text": "rel_max_displacement_y",
          "x": 0.89375,
          "xanchor": "center",
          "xref": "paper",
          "y": 0.21875,
          "yanchor": "bottom",
          "yref": "paper"
         },
         {
          "font": {
           "size": 16
          },
          "showarrow": false,
          "text": "max_displacement_perc_y",
          "x": 0.10625,
          "xanchor": "center",
          "xref": "paper",
          "y": 0.13194444444444445,
          "yanchor": "bottom",
          "yref": "paper"
         },
         {
          "font": {
           "size": 16
          },
          "showarrow": false,
          "text": "rel_max_displacement_perc_y",
          "x": 0.36875,
          "xanchor": "center",
          "xref": "paper",
          "y": 0.13194444444444445,
          "yanchor": "bottom",
          "yref": "paper"
         },
         {
          "font": {
           "size": 16
          },
          "showarrow": false,
          "text": "time_to_max_displacement_y",
          "x": 0.6312500000000001,
          "xanchor": "center",
          "xref": "paper",
          "y": 0.13194444444444445,
          "yanchor": "bottom",
          "yref": "paper"
         },
         {
          "font": {
           "size": 16
          },
          "showarrow": false,
          "text": "max_displacement_z",
          "x": 0.89375,
          "xanchor": "center",
          "xref": "paper",
          "y": 0.13194444444444445,
          "yanchor": "bottom",
          "yref": "paper"
         },
         {
          "font": {
           "size": 16
          },
          "showarrow": false,
          "text": "rel_max_displacement_z",
          "x": 0.10625,
          "xanchor": "center",
          "xref": "paper",
          "y": 0.045138888888888895,
          "yanchor": "bottom",
          "yref": "paper"
         },
         {
          "font": {
           "size": 16
          },
          "showarrow": false,
          "text": "max_displacement_perc_z",
          "x": 0.36875,
          "xanchor": "center",
          "xref": "paper",
          "y": 0.045138888888888895,
          "yanchor": "bottom",
          "yref": "paper"
         },
         {
          "font": {
           "size": 16
          },
          "showarrow": false,
          "text": "rel_max_displacement_perc_z",
          "x": 0.6312500000000001,
          "xanchor": "center",
          "xref": "paper",
          "y": 0.045138888888888895,
          "yanchor": "bottom",
          "yref": "paper"
         },
         {
          "font": {
           "size": 16
          },
          "showarrow": false,
          "text": "time_to_max_displacement_z",
          "x": 0.89375,
          "xanchor": "center",
          "xref": "paper",
          "y": 0.045138888888888895,
          "yanchor": "bottom",
          "yref": "paper"
         }
        ],
        "height": 3500,
        "showlegend": false,
        "template": {
         "data": {
          "bar": [
           {
            "error_x": {
             "color": "#2a3f5f"
            },
            "error_y": {
             "color": "#2a3f5f"
            },
            "marker": {
             "line": {
              "color": "#E5ECF6",
              "width": 0.5
             },
             "pattern": {
              "fillmode": "overlay",
              "size": 10,
              "solidity": 0.2
             }
            },
            "type": "bar"
           }
          ],
          "barpolar": [
           {
            "marker": {
             "line": {
              "color": "#E5ECF6",
              "width": 0.5
             },
             "pattern": {
              "fillmode": "overlay",
              "size": 10,
              "solidity": 0.2
             }
            },
            "type": "barpolar"
           }
          ],
          "carpet": [
           {
            "aaxis": {
             "endlinecolor": "#2a3f5f",
             "gridcolor": "white",
             "linecolor": "white",
             "minorgridcolor": "white",
             "startlinecolor": "#2a3f5f"
            },
            "baxis": {
             "endlinecolor": "#2a3f5f",
             "gridcolor": "white",
             "linecolor": "white",
             "minorgridcolor": "white",
             "startlinecolor": "#2a3f5f"
            },
            "type": "carpet"
           }
          ],
          "choropleth": [
           {
            "colorbar": {
             "outlinewidth": 0,
             "ticks": ""
            },
            "type": "choropleth"
           }
          ],
          "contour": [
           {
            "colorbar": {
             "outlinewidth": 0,
             "ticks": ""
            },
            "colorscale": [
             [
              0,
              "#0d0887"
             ],
             [
              0.1111111111111111,
              "#46039f"
             ],
             [
              0.2222222222222222,
              "#7201a8"
             ],
             [
              0.3333333333333333,
              "#9c179e"
             ],
             [
              0.4444444444444444,
              "#bd3786"
             ],
             [
              0.5555555555555556,
              "#d8576b"
             ],
             [
              0.6666666666666666,
              "#ed7953"
             ],
             [
              0.7777777777777778,
              "#fb9f3a"
             ],
             [
              0.8888888888888888,
              "#fdca26"
             ],
             [
              1,
              "#f0f921"
             ]
            ],
            "type": "contour"
           }
          ],
          "contourcarpet": [
           {
            "colorbar": {
             "outlinewidth": 0,
             "ticks": ""
            },
            "type": "contourcarpet"
           }
          ],
          "heatmap": [
           {
            "colorbar": {
             "outlinewidth": 0,
             "ticks": ""
            },
            "colorscale": [
             [
              0,
              "#0d0887"
             ],
             [
              0.1111111111111111,
              "#46039f"
             ],
             [
              0.2222222222222222,
              "#7201a8"
             ],
             [
              0.3333333333333333,
              "#9c179e"
             ],
             [
              0.4444444444444444,
              "#bd3786"
             ],
             [
              0.5555555555555556,
              "#d8576b"
             ],
             [
              0.6666666666666666,
              "#ed7953"
             ],
             [
              0.7777777777777778,
              "#fb9f3a"
             ],
             [
              0.8888888888888888,
              "#fdca26"
             ],
             [
              1,
              "#f0f921"
             ]
            ],
            "type": "heatmap"
           }
          ],
          "heatmapgl": [
           {
            "colorbar": {
             "outlinewidth": 0,
             "ticks": ""
            },
            "colorscale": [
             [
              0,
              "#0d0887"
             ],
             [
              0.1111111111111111,
              "#46039f"
             ],
             [
              0.2222222222222222,
              "#7201a8"
             ],
             [
              0.3333333333333333,
              "#9c179e"
             ],
             [
              0.4444444444444444,
              "#bd3786"
             ],
             [
              0.5555555555555556,
              "#d8576b"
             ],
             [
              0.6666666666666666,
              "#ed7953"
             ],
             [
              0.7777777777777778,
              "#fb9f3a"
             ],
             [
              0.8888888888888888,
              "#fdca26"
             ],
             [
              1,
              "#f0f921"
             ]
            ],
            "type": "heatmapgl"
           }
          ],
          "histogram": [
           {
            "marker": {
             "pattern": {
              "fillmode": "overlay",
              "size": 10,
              "solidity": 0.2
             }
            },
            "type": "histogram"
           }
          ],
          "histogram2d": [
           {
            "colorbar": {
             "outlinewidth": 0,
             "ticks": ""
            },
            "colorscale": [
             [
              0,
              "#0d0887"
             ],
             [
              0.1111111111111111,
              "#46039f"
             ],
             [
              0.2222222222222222,
              "#7201a8"
             ],
             [
              0.3333333333333333,
              "#9c179e"
             ],
             [
              0.4444444444444444,
              "#bd3786"
             ],
             [
              0.5555555555555556,
              "#d8576b"
             ],
             [
              0.6666666666666666,
              "#ed7953"
             ],
             [
              0.7777777777777778,
              "#fb9f3a"
             ],
             [
              0.8888888888888888,
              "#fdca26"
             ],
             [
              1,
              "#f0f921"
             ]
            ],
            "type": "histogram2d"
           }
          ],
          "histogram2dcontour": [
           {
            "colorbar": {
             "outlinewidth": 0,
             "ticks": ""
            },
            "colorscale": [
             [
              0,
              "#0d0887"
             ],
             [
              0.1111111111111111,
              "#46039f"
             ],
             [
              0.2222222222222222,
              "#7201a8"
             ],
             [
              0.3333333333333333,
              "#9c179e"
             ],
             [
              0.4444444444444444,
              "#bd3786"
             ],
             [
              0.5555555555555556,
              "#d8576b"
             ],
             [
              0.6666666666666666,
              "#ed7953"
             ],
             [
              0.7777777777777778,
              "#fb9f3a"
             ],
             [
              0.8888888888888888,
              "#fdca26"
             ],
             [
              1,
              "#f0f921"
             ]
            ],
            "type": "histogram2dcontour"
           }
          ],
          "mesh3d": [
           {
            "colorbar": {
             "outlinewidth": 0,
             "ticks": ""
            },
            "type": "mesh3d"
           }
          ],
          "parcoords": [
           {
            "line": {
             "colorbar": {
              "outlinewidth": 0,
              "ticks": ""
             }
            },
            "type": "parcoords"
           }
          ],
          "pie": [
           {
            "automargin": true,
            "type": "pie"
           }
          ],
          "scatter": [
           {
            "fillpattern": {
             "fillmode": "overlay",
             "size": 10,
             "solidity": 0.2
            },
            "type": "scatter"
           }
          ],
          "scatter3d": [
           {
            "line": {
             "colorbar": {
              "outlinewidth": 0,
              "ticks": ""
             }
            },
            "marker": {
             "colorbar": {
              "outlinewidth": 0,
              "ticks": ""
             }
            },
            "type": "scatter3d"
           }
          ],
          "scattercarpet": [
           {
            "marker": {
             "colorbar": {
              "outlinewidth": 0,
              "ticks": ""
             }
            },
            "type": "scattercarpet"
           }
          ],
          "scattergeo": [
           {
            "marker": {
             "colorbar": {
              "outlinewidth": 0,
              "ticks": ""
             }
            },
            "type": "scattergeo"
           }
          ],
          "scattergl": [
           {
            "marker": {
             "colorbar": {
              "outlinewidth": 0,
              "ticks": ""
             }
            },
            "type": "scattergl"
           }
          ],
          "scattermapbox": [
           {
            "marker": {
             "colorbar": {
              "outlinewidth": 0,
              "ticks": ""
             }
            },
            "type": "scattermapbox"
           }
          ],
          "scatterpolar": [
           {
            "marker": {
             "colorbar": {
              "outlinewidth": 0,
              "ticks": ""
             }
            },
            "type": "scatterpolar"
           }
          ],
          "scatterpolargl": [
           {
            "marker": {
             "colorbar": {
              "outlinewidth": 0,
              "ticks": ""
             }
            },
            "type": "scatterpolargl"
           }
          ],
          "scatterternary": [
           {
            "marker": {
             "colorbar": {
              "outlinewidth": 0,
              "ticks": ""
             }
            },
            "type": "scatterternary"
           }
          ],
          "surface": [
           {
            "colorbar": {
             "outlinewidth": 0,
             "ticks": ""
            },
            "colorscale": [
             [
              0,
              "#0d0887"
             ],
             [
              0.1111111111111111,
              "#46039f"
             ],
             [
              0.2222222222222222,
              "#7201a8"
             ],
             [
              0.3333333333333333,
              "#9c179e"
             ],
             [
              0.4444444444444444,
              "#bd3786"
             ],
             [
              0.5555555555555556,
              "#d8576b"
             ],
             [
              0.6666666666666666,
              "#ed7953"
             ],
             [
              0.7777777777777778,
              "#fb9f3a"
             ],
             [
              0.8888888888888888,
              "#fdca26"
             ],
             [
              1,
              "#f0f921"
             ]
            ],
            "type": "surface"
           }
          ],
          "table": [
           {
            "cells": {
             "fill": {
              "color": "#EBF0F8"
             },
             "line": {
              "color": "white"
             }
            },
            "header": {
             "fill": {
              "color": "#C8D4E3"
             },
             "line": {
              "color": "white"
             }
            },
            "type": "table"
           }
          ]
         },
         "layout": {
          "annotationdefaults": {
           "arrowcolor": "#2a3f5f",
           "arrowhead": 0,
           "arrowwidth": 1
          },
          "autotypenumbers": "strict",
          "coloraxis": {
           "colorbar": {
            "outlinewidth": 0,
            "ticks": ""
           }
          },
          "colorscale": {
           "diverging": [
            [
             0,
             "#8e0152"
            ],
            [
             0.1,
             "#c51b7d"
            ],
            [
             0.2,
             "#de77ae"
            ],
            [
             0.3,
             "#f1b6da"
            ],
            [
             0.4,
             "#fde0ef"
            ],
            [
             0.5,
             "#f7f7f7"
            ],
            [
             0.6,
             "#e6f5d0"
            ],
            [
             0.7,
             "#b8e186"
            ],
            [
             0.8,
             "#7fbc41"
            ],
            [
             0.9,
             "#4d9221"
            ],
            [
             1,
             "#276419"
            ]
           ],
           "sequential": [
            [
             0,
             "#0d0887"
            ],
            [
             0.1111111111111111,
             "#46039f"
            ],
            [
             0.2222222222222222,
             "#7201a8"
            ],
            [
             0.3333333333333333,
             "#9c179e"
            ],
            [
             0.4444444444444444,
             "#bd3786"
            ],
            [
             0.5555555555555556,
             "#d8576b"
            ],
            [
             0.6666666666666666,
             "#ed7953"
            ],
            [
             0.7777777777777778,
             "#fb9f3a"
            ],
            [
             0.8888888888888888,
             "#fdca26"
            ],
            [
             1,
             "#f0f921"
            ]
           ],
           "sequentialminus": [
            [
             0,
             "#0d0887"
            ],
            [
             0.1111111111111111,
             "#46039f"
            ],
            [
             0.2222222222222222,
             "#7201a8"
            ],
            [
             0.3333333333333333,
             "#9c179e"
            ],
            [
             0.4444444444444444,
             "#bd3786"
            ],
            [
             0.5555555555555556,
             "#d8576b"
            ],
            [
             0.6666666666666666,
             "#ed7953"
            ],
            [
             0.7777777777777778,
             "#fb9f3a"
            ],
            [
             0.8888888888888888,
             "#fdca26"
            ],
            [
             1,
             "#f0f921"
            ]
           ]
          },
          "colorway": [
           "#636efa",
           "#EF553B",
           "#00cc96",
           "#ab63fa",
           "#FFA15A",
           "#19d3f3",
           "#FF6692",
           "#B6E880",
           "#FF97FF",
           "#FECB52"
          ],
          "font": {
           "color": "#2a3f5f"
          },
          "geo": {
           "bgcolor": "white",
           "lakecolor": "white",
           "landcolor": "#E5ECF6",
           "showlakes": true,
           "showland": true,
           "subunitcolor": "white"
          },
          "hoverlabel": {
           "align": "left"
          },
          "hovermode": "closest",
          "mapbox": {
           "style": "light"
          },
          "paper_bgcolor": "white",
          "plot_bgcolor": "#E5ECF6",
          "polar": {
           "angularaxis": {
            "gridcolor": "white",
            "linecolor": "white",
            "ticks": ""
           },
           "bgcolor": "#E5ECF6",
           "radialaxis": {
            "gridcolor": "white",
            "linecolor": "white",
            "ticks": ""
           }
          },
          "scene": {
           "xaxis": {
            "backgroundcolor": "#E5ECF6",
            "gridcolor": "white",
            "gridwidth": 2,
            "linecolor": "white",
            "showbackground": true,
            "ticks": "",
            "zerolinecolor": "white"
           },
           "yaxis": {
            "backgroundcolor": "#E5ECF6",
            "gridcolor": "white",
            "gridwidth": 2,
            "linecolor": "white",
            "showbackground": true,
            "ticks": "",
            "zerolinecolor": "white"
           },
           "zaxis": {
            "backgroundcolor": "#E5ECF6",
            "gridcolor": "white",
            "gridwidth": 2,
            "linecolor": "white",
            "showbackground": true,
            "ticks": "",
            "zerolinecolor": "white"
           }
          },
          "shapedefaults": {
           "line": {
            "color": "#2a3f5f"
           }
          },
          "ternary": {
           "aaxis": {
            "gridcolor": "white",
            "linecolor": "white",
            "ticks": ""
           },
           "baxis": {
            "gridcolor": "white",
            "linecolor": "white",
            "ticks": ""
           },
           "bgcolor": "#E5ECF6",
           "caxis": {
            "gridcolor": "white",
            "linecolor": "white",
            "ticks": ""
           }
          },
          "title": {
           "x": 0.05
          },
          "xaxis": {
           "automargin": true,
           "gridcolor": "white",
           "linecolor": "white",
           "ticks": "",
           "title": {
            "standoff": 15
           },
           "zerolinecolor": "white",
           "zerolinewidth": 2
          },
          "yaxis": {
           "automargin": true,
           "gridcolor": "white",
           "linecolor": "white",
           "ticks": "",
           "title": {
            "standoff": 15
           },
           "zerolinecolor": "white",
           "zerolinewidth": 2
          }
         }
        },
        "width": 1000,
        "xaxis": {
         "anchor": "y",
         "domain": [
          0,
          0.2125
         ]
        },
        "xaxis10": {
         "anchor": "y10",
         "domain": [
          0.2625,
          0.475
         ]
        },
        "xaxis11": {
         "anchor": "y11",
         "domain": [
          0.525,
          0.7375
         ]
        },
        "xaxis12": {
         "anchor": "y12",
         "domain": [
          0.7875,
          1
         ]
        },
        "xaxis13": {
         "anchor": "y13",
         "domain": [
          0,
          0.2125
         ]
        },
        "xaxis14": {
         "anchor": "y14",
         "domain": [
          0.2625,
          0.475
         ]
        },
        "xaxis15": {
         "anchor": "y15",
         "domain": [
          0.525,
          0.7375
         ]
        },
        "xaxis16": {
         "anchor": "y16",
         "domain": [
          0.7875,
          1
         ]
        },
        "xaxis17": {
         "anchor": "y17",
         "domain": [
          0,
          0.2125
         ]
        },
        "xaxis18": {
         "anchor": "y18",
         "domain": [
          0.2625,
          0.475
         ]
        },
        "xaxis19": {
         "anchor": "y19",
         "domain": [
          0.525,
          0.7375
         ]
        },
        "xaxis2": {
         "anchor": "y2",
         "domain": [
          0.2625,
          0.475
         ]
        },
        "xaxis20": {
         "anchor": "y20",
         "domain": [
          0.7875,
          1
         ]
        },
        "xaxis21": {
         "anchor": "y21",
         "domain": [
          0,
          0.2125
         ]
        },
        "xaxis22": {
         "anchor": "y22",
         "domain": [
          0.2625,
          0.475
         ]
        },
        "xaxis23": {
         "anchor": "y23",
         "domain": [
          0.525,
          0.7375
         ]
        },
        "xaxis24": {
         "anchor": "y24",
         "domain": [
          0.7875,
          1
         ]
        },
        "xaxis25": {
         "anchor": "y25",
         "domain": [
          0,
          0.2125
         ]
        },
        "xaxis26": {
         "anchor": "y26",
         "domain": [
          0.2625,
          0.475
         ]
        },
        "xaxis27": {
         "anchor": "y27",
         "domain": [
          0.525,
          0.7375
         ]
        },
        "xaxis28": {
         "anchor": "y28",
         "domain": [
          0.7875,
          1
         ]
        },
        "xaxis29": {
         "anchor": "y29",
         "domain": [
          0,
          0.2125
         ]
        },
        "xaxis3": {
         "anchor": "y3",
         "domain": [
          0.525,
          0.7375
         ]
        },
        "xaxis30": {
         "anchor": "y30",
         "domain": [
          0.2625,
          0.475
         ]
        },
        "xaxis31": {
         "anchor": "y31",
         "domain": [
          0.525,
          0.7375
         ]
        },
        "xaxis32": {
         "anchor": "y32",
         "domain": [
          0.7875,
          1
         ]
        },
        "xaxis33": {
         "anchor": "y33",
         "domain": [
          0,
          0.2125
         ]
        },
        "xaxis34": {
         "anchor": "y34",
         "domain": [
          0.2625,
          0.475
         ]
        },
        "xaxis35": {
         "anchor": "y35",
         "domain": [
          0.525,
          0.7375
         ]
        },
        "xaxis36": {
         "anchor": "y36",
         "domain": [
          0.7875,
          1
         ]
        },
        "xaxis37": {
         "anchor": "y37",
         "domain": [
          0,
          0.2125
         ]
        },
        "xaxis38": {
         "anchor": "y38",
         "domain": [
          0.2625,
          0.475
         ]
        },
        "xaxis39": {
         "anchor": "y39",
         "domain": [
          0.525,
          0.7375
         ]
        },
        "xaxis4": {
         "anchor": "y4",
         "domain": [
          0.7875,
          1
         ]
        },
        "xaxis40": {
         "anchor": "y40",
         "domain": [
          0.7875,
          1
         ]
        },
        "xaxis41": {
         "anchor": "y41",
         "domain": [
          0,
          0.2125
         ]
        },
        "xaxis42": {
         "anchor": "y42",
         "domain": [
          0.2625,
          0.475
         ]
        },
        "xaxis43": {
         "anchor": "y43",
         "domain": [
          0.525,
          0.7375
         ]
        },
        "xaxis44": {
         "anchor": "y44",
         "domain": [
          0.7875,
          1
         ]
        },
        "xaxis45": {
         "anchor": "y45",
         "domain": [
          0,
          0.2125
         ]
        },
        "xaxis46": {
         "anchor": "y46",
         "domain": [
          0.2625,
          0.475
         ]
        },
        "xaxis47": {
         "anchor": "y47",
         "domain": [
          0.525,
          0.7375
         ]
        },
        "xaxis48": {
         "anchor": "y48",
         "domain": [
          0.7875,
          1
         ]
        },
        "xaxis5": {
         "anchor": "y5",
         "domain": [
          0,
          0.2125
         ]
        },
        "xaxis6": {
         "anchor": "y6",
         "domain": [
          0.2625,
          0.475
         ]
        },
        "xaxis7": {
         "anchor": "y7",
         "domain": [
          0.525,
          0.7375
         ]
        },
        "xaxis8": {
         "anchor": "y8",
         "domain": [
          0.7875,
          1
         ]
        },
        "xaxis9": {
         "anchor": "y9",
         "domain": [
          0,
          0.2125
         ]
        },
        "yaxis": {
         "anchor": "x",
         "domain": [
          0.9548611111111112,
          1
         ]
        },
        "yaxis10": {
         "anchor": "x10",
         "domain": [
          0.78125,
          0.8263888888888888
         ]
        },
        "yaxis11": {
         "anchor": "x11",
         "domain": [
          0.78125,
          0.8263888888888888
         ]
        },
        "yaxis12": {
         "anchor": "x12",
         "domain": [
          0.78125,
          0.8263888888888888
         ]
        },
        "yaxis13": {
         "anchor": "x13",
         "domain": [
          0.6944444444444444,
          0.7395833333333333
         ]
        },
        "yaxis14": {
         "anchor": "x14",
         "domain": [
          0.6944444444444444,
          0.7395833333333333
         ]
        },
        "yaxis15": {
         "anchor": "x15",
         "domain": [
          0.6944444444444444,
          0.7395833333333333
         ]
        },
        "yaxis16": {
         "anchor": "x16",
         "domain": [
          0.6944444444444444,
          0.7395833333333333
         ]
        },
        "yaxis17": {
         "anchor": "x17",
         "domain": [
          0.6076388888888888,
          0.6527777777777777
         ]
        },
        "yaxis18": {
         "anchor": "x18",
         "domain": [
          0.6076388888888888,
          0.6527777777777777
         ]
        },
        "yaxis19": {
         "anchor": "x19",
         "domain": [
          0.6076388888888888,
          0.6527777777777777
         ]
        },
        "yaxis2": {
         "anchor": "x2",
         "domain": [
          0.9548611111111112,
          1
         ]
        },
        "yaxis20": {
         "anchor": "x20",
         "domain": [
          0.6076388888888888,
          0.6527777777777777
         ]
        },
        "yaxis21": {
         "anchor": "x21",
         "domain": [
          0.5208333333333334,
          0.5659722222222223
         ]
        },
        "yaxis22": {
         "anchor": "x22",
         "domain": [
          0.5208333333333334,
          0.5659722222222223
         ]
        },
        "yaxis23": {
         "anchor": "x23",
         "domain": [
          0.5208333333333334,
          0.5659722222222223
         ]
        },
        "yaxis24": {
         "anchor": "x24",
         "domain": [
          0.5208333333333334,
          0.5659722222222223
         ]
        },
        "yaxis25": {
         "anchor": "x25",
         "domain": [
          0.4340277777777778,
          0.4791666666666667
         ]
        },
        "yaxis26": {
         "anchor": "x26",
         "domain": [
          0.4340277777777778,
          0.4791666666666667
         ]
        },
        "yaxis27": {
         "anchor": "x27",
         "domain": [
          0.4340277777777778,
          0.4791666666666667
         ]
        },
        "yaxis28": {
         "anchor": "x28",
         "domain": [
          0.4340277777777778,
          0.4791666666666667
         ]
        },
        "yaxis29": {
         "anchor": "x29",
         "domain": [
          0.3472222222222222,
          0.3923611111111111
         ]
        },
        "yaxis3": {
         "anchor": "x3",
         "domain": [
          0.9548611111111112,
          1
         ]
        },
        "yaxis30": {
         "anchor": "x30",
         "domain": [
          0.3472222222222222,
          0.3923611111111111
         ]
        },
        "yaxis31": {
         "anchor": "x31",
         "domain": [
          0.3472222222222222,
          0.3923611111111111
         ]
        },
        "yaxis32": {
         "anchor": "x32",
         "domain": [
          0.3472222222222222,
          0.3923611111111111
         ]
        },
        "yaxis33": {
         "anchor": "x33",
         "domain": [
          0.2604166666666667,
          0.3055555555555556
         ]
        },
        "yaxis34": {
         "anchor": "x34",
         "domain": [
          0.2604166666666667,
          0.3055555555555556
         ]
        },
        "yaxis35": {
         "anchor": "x35",
         "domain": [
          0.2604166666666667,
          0.3055555555555556
         ]
        },
        "yaxis36": {
         "anchor": "x36",
         "domain": [
          0.2604166666666667,
          0.3055555555555556
         ]
        },
        "yaxis37": {
         "anchor": "x37",
         "domain": [
          0.1736111111111111,
          0.21875
         ]
        },
        "yaxis38": {
         "anchor": "x38",
         "domain": [
          0.1736111111111111,
          0.21875
         ]
        },
        "yaxis39": {
         "anchor": "x39",
         "domain": [
          0.1736111111111111,
          0.21875
         ]
        },
        "yaxis4": {
         "anchor": "x4",
         "domain": [
          0.9548611111111112,
          1
         ]
        },
        "yaxis40": {
         "anchor": "x40",
         "domain": [
          0.1736111111111111,
          0.21875
         ]
        },
        "yaxis41": {
         "anchor": "x41",
         "domain": [
          0.08680555555555555,
          0.13194444444444445
         ]
        },
        "yaxis42": {
         "anchor": "x42",
         "domain": [
          0.08680555555555555,
          0.13194444444444445
         ]
        },
        "yaxis43": {
         "anchor": "x43",
         "domain": [
          0.08680555555555555,
          0.13194444444444445
         ]
        },
        "yaxis44": {
         "anchor": "x44",
         "domain": [
          0.08680555555555555,
          0.13194444444444445
         ]
        },
        "yaxis45": {
         "anchor": "x45",
         "domain": [
          0,
          0.045138888888888895
         ]
        },
        "yaxis46": {
         "anchor": "x46",
         "domain": [
          0,
          0.045138888888888895
         ]
        },
        "yaxis47": {
         "anchor": "x47",
         "domain": [
          0,
          0.045138888888888895
         ]
        },
        "yaxis48": {
         "anchor": "x48",
         "domain": [
          0,
          0.045138888888888895
         ]
        },
        "yaxis5": {
         "anchor": "x5",
         "domain": [
          0.8680555555555556,
          0.9131944444444444
         ]
        },
        "yaxis6": {
         "anchor": "x6",
         "domain": [
          0.8680555555555556,
          0.9131944444444444
         ]
        },
        "yaxis7": {
         "anchor": "x7",
         "domain": [
          0.8680555555555556,
          0.9131944444444444
         ]
        },
        "yaxis8": {
         "anchor": "x8",
         "domain": [
          0.8680555555555556,
          0.9131944444444444
         ]
        },
        "yaxis9": {
         "anchor": "x9",
         "domain": [
          0.78125,
          0.8263888888888888
         ]
        }
       }
      },
      "text/html": [
       "<div>                            <div id=\"4b96b408-57e9-45f0-8906-3352299bb1b1\" class=\"plotly-graph-div\" style=\"height:3500px; width:1000px;\"></div>            <script type=\"text/javascript\">                require([\"plotly\"], function(Plotly) {                    window.PLOTLYENV=window.PLOTLYENV || {};                                    if (document.getElementById(\"4b96b408-57e9-45f0-8906-3352299bb1b1\")) {                    Plotly.newPlot(                        \"4b96b408-57e9-45f0-8906-3352299bb1b1\",                        [{\"hovertemplate\":\"%{text}\",\"text\":[\"<br>Git Hash: f63afc9</br>\\n<a hfref=https://github.com/ComputationalPhysiology/simcardems/commit/f63afc9>Link to commit </a><br>Version: 2022.3.0</br>\\n<br>Timestamp 2022-10-06</br>\",\"<br>Git Hash: 630ed09</br>\\n<a hfref=https://github.com/ComputationalPhysiology/simcardems/commit/630ed09>Link to commit </a><br>Version: 2022.3.0</br>\\n<br>Timestamp 2022-10-06</br>\",\"<br>Git Hash: 4d3a653</br>\\n<a hfref=https://github.com/ComputationalPhysiology/simcardems/commit/4d3a653>Link to commit </a><br>Version: 2022.3.0</br>\\n<br>Timestamp 2022-10-06</br>\",\"<br>Git Hash: 0c195ff</br>\\n<a hfref=https://github.com/ComputationalPhysiology/simcardems/commit/0c195ff>Link to commit </a><br>Version: 2022.3.0</br>\\n<br>Timestamp 2022-10-06</br>\",\"<br>Git Hash: c7df02b</br>\\n<a hfref=https://github.com/ComputationalPhysiology/simcardems/commit/c7df02b>Link to commit </a><br>Version: 2022.3.0</br>\\n<br>Timestamp 2022-10-06</br>\",\"<br>Git Hash: cf7cc9d</br>\\n<a hfref=https://github.com/ComputationalPhysiology/simcardems/commit/cf7cc9d>Link to commit </a><br>Version: 2022.3.0</br>\\n<br>Timestamp 2022-10-06</br>\",\"<br>Git Hash: d5edd92</br>\\n<a hfref=https://github.com/ComputationalPhysiology/simcardems/commit/d5edd92>Link to commit </a><br>Version: 2022.3.0</br>\\n<br>Timestamp 2022-10-07</br>\"],\"x\":[\"2022-10-06T16:25:06.830650\",\"2022-10-06T16:55:04.711879\",\"2022-10-06T20:09:07.230901\",\"2022-10-06T20:19:12.227464\",\"2022-10-06T20:28:25.015389\",\"2022-10-06T20:32:00.361561\",\"2022-10-07T06:42:09.101000\"],\"y\":[1.000999986899842e-06,9.999999974752427e-07,1.099999991538425e-06,1.0000000116860974e-06,9.000000034120603e-07,9.000000318337698e-07,3.3300602808594704e-07],\"type\":\"scatter\",\"xaxis\":\"x\",\"yaxis\":\"y\"},{\"hovertemplate\":\"%{text}\",\"text\":[\"<br>Git Hash: f63afc9</br>\\n<a hfref=https://github.com/ComputationalPhysiology/simcardems/commit/f63afc9>Link to commit </a><br>Version: 2022.3.0</br>\\n<br>Timestamp 2022-10-06</br>\",\"<br>Git Hash: 630ed09</br>\\n<a hfref=https://github.com/ComputationalPhysiology/simcardems/commit/630ed09>Link to commit </a><br>Version: 2022.3.0</br>\\n<br>Timestamp 2022-10-06</br>\",\"<br>Git Hash: 4d3a653</br>\\n<a hfref=https://github.com/ComputationalPhysiology/simcardems/commit/4d3a653>Link to commit </a><br>Version: 2022.3.0</br>\\n<br>Timestamp 2022-10-06</br>\",\"<br>Git Hash: 0c195ff</br>\\n<a hfref=https://github.com/ComputationalPhysiology/simcardems/commit/0c195ff>Link to commit </a><br>Version: 2022.3.0</br>\\n<br>Timestamp 2022-10-06</br>\",\"<br>Git Hash: c7df02b</br>\\n<a hfref=https://github.com/ComputationalPhysiology/simcardems/commit/c7df02b>Link to commit </a><br>Version: 2022.3.0</br>\\n<br>Timestamp 2022-10-06</br>\",\"<br>Git Hash: cf7cc9d</br>\\n<a hfref=https://github.com/ComputationalPhysiology/simcardems/commit/cf7cc9d>Link to commit </a><br>Version: 2022.3.0</br>\\n<br>Timestamp 2022-10-06</br>\",\"<br>Git Hash: d5edd92</br>\\n<a hfref=https://github.com/ComputationalPhysiology/simcardems/commit/d5edd92>Link to commit </a><br>Version: 2022.3.0</br>\\n<br>Timestamp 2022-10-07</br>\"],\"x\":[\"2022-10-06T16:25:06.830650\",\"2022-10-06T16:55:04.711879\",\"2022-10-06T20:09:07.230901\",\"2022-10-06T20:19:12.227464\",\"2022-10-06T20:28:25.015389\",\"2022-10-06T20:32:00.361561\",\"2022-10-07T06:42:09.101000\"],\"y\":[237.72060754399996,280.511199926,205.28919836600002,211.102322273,194.20649079600003,206.29599876099996,10.719169295989559],\"type\":\"scatter\",\"xaxis\":\"x5\",\"yaxis\":\"y5\"},{\"hovertemplate\":\"%{text}\",\"text\":[\"<br>Git Hash: f63afc9</br>\\n<a hfref=https://github.com/ComputationalPhysiology/simcardems/commit/f63afc9>Link to commit </a><br>Version: 2022.3.0</br>\\n<br>Timestamp 2022-10-06</br>\",\"<br>Git Hash: 630ed09</br>\\n<a hfref=https://github.com/ComputationalPhysiology/simcardems/commit/630ed09>Link to commit </a><br>Version: 2022.3.0</br>\\n<br>Timestamp 2022-10-06</br>\",\"<br>Git Hash: 4d3a653</br>\\n<a hfref=https://github.com/ComputationalPhysiology/simcardems/commit/4d3a653>Link to commit </a><br>Version: 2022.3.0</br>\\n<br>Timestamp 2022-10-06</br>\",\"<br>Git Hash: 0c195ff</br>\\n<a hfref=https://github.com/ComputationalPhysiology/simcardems/commit/0c195ff>Link to commit </a><br>Version: 2022.3.0</br>\\n<br>Timestamp 2022-10-06</br>\",\"<br>Git Hash: c7df02b</br>\\n<a hfref=https://github.com/ComputationalPhysiology/simcardems/commit/c7df02b>Link to commit </a><br>Version: 2022.3.0</br>\\n<br>Timestamp 2022-10-06</br>\",\"<br>Git Hash: cf7cc9d</br>\\n<a hfref=https://github.com/ComputationalPhysiology/simcardems/commit/cf7cc9d>Link to commit </a><br>Version: 2022.3.0</br>\\n<br>Timestamp 2022-10-06</br>\",\"<br>Git Hash: d5edd92</br>\\n<a hfref=https://github.com/ComputationalPhysiology/simcardems/commit/d5edd92>Link to commit </a><br>Version: 2022.3.0</br>\\n<br>Timestamp 2022-10-07</br>\"],\"x\":[\"2022-10-06T16:25:06.830650\",\"2022-10-06T16:55:04.711879\",\"2022-10-06T20:09:07.230901\",\"2022-10-06T20:19:12.227464\",\"2022-10-06T20:28:25.015389\",\"2022-10-06T20:32:00.361561\",\"2022-10-07T06:42:09.101000\"],\"y\":[854.584107336,1019.0386541959999,784.2204011899998,755.6224281130001,727.7660012839999,745.8511080440001,3198.3458278310136],\"type\":\"scatter\",\"xaxis\":\"x9\",\"yaxis\":\"y9\"},{\"hovertemplate\":\"%{text}\",\"text\":[\"<br>Git Hash: f63afc9</br>\\n<a hfref=https://github.com/ComputationalPhysiology/simcardems/commit/f63afc9>Link to commit </a><br>Version: 2022.3.0</br>\\n<br>Timestamp 2022-10-06</br>\",\"<br>Git Hash: 630ed09</br>\\n<a hfref=https://github.com/ComputationalPhysiology/simcardems/commit/630ed09>Link to commit </a><br>Version: 2022.3.0</br>\\n<br>Timestamp 2022-10-06</br>\",\"<br>Git Hash: 4d3a653</br>\\n<a hfref=https://github.com/ComputationalPhysiology/simcardems/commit/4d3a653>Link to commit </a><br>Version: 2022.3.0</br>\\n<br>Timestamp 2022-10-06</br>\",\"<br>Git Hash: 0c195ff</br>\\n<a hfref=https://github.com/ComputationalPhysiology/simcardems/commit/0c195ff>Link to commit </a><br>Version: 2022.3.0</br>\\n<br>Timestamp 2022-10-06</br>\",\"<br>Git Hash: c7df02b</br>\\n<a hfref=https://github.com/ComputationalPhysiology/simcardems/commit/c7df02b>Link to commit </a><br>Version: 2022.3.0</br>\\n<br>Timestamp 2022-10-06</br>\",\"<br>Git Hash: cf7cc9d</br>\\n<a hfref=https://github.com/ComputationalPhysiology/simcardems/commit/cf7cc9d>Link to commit </a><br>Version: 2022.3.0</br>\\n<br>Timestamp 2022-10-06</br>\",\"<br>Git Hash: d5edd92</br>\\n<a hfref=https://github.com/ComputationalPhysiology/simcardems/commit/d5edd92>Link to commit </a><br>Version: 2022.3.0</br>\\n<br>Timestamp 2022-10-07</br>\"],\"x\":[\"2022-10-06T16:25:06.830650\",\"2022-10-06T16:55:04.711879\",\"2022-10-06T20:09:07.230901\",\"2022-10-06T20:19:12.227464\",\"2022-10-06T20:28:25.015389\",\"2022-10-06T20:32:00.361561\",\"2022-10-07T06:42:09.101000\"],\"y\":[1.1546205652084225,1.1546205651723276,1.1546205652084225,1.1546205652084225,1.1546205652718498,1.1546205652084225,1.1487629440161966],\"type\":\"scatter\",\"xaxis\":\"x13\",\"yaxis\":\"y13\"},{\"hovertemplate\":\"%{text}\",\"text\":[\"<br>Git Hash: f63afc9</br>\\n<a hfref=https://github.com/ComputationalPhysiology/simcardems/commit/f63afc9>Link to commit </a><br>Version: 2022.3.0</br>\\n<br>Timestamp 2022-10-06</br>\",\"<br>Git Hash: 630ed09</br>\\n<a hfref=https://github.com/ComputationalPhysiology/simcardems/commit/630ed09>Link to commit </a><br>Version: 2022.3.0</br>\\n<br>Timestamp 2022-10-06</br>\",\"<br>Git Hash: 4d3a653</br>\\n<a hfref=https://github.com/ComputationalPhysiology/simcardems/commit/4d3a653>Link to commit </a><br>Version: 2022.3.0</br>\\n<br>Timestamp 2022-10-06</br>\",\"<br>Git Hash: 0c195ff</br>\\n<a hfref=https://github.com/ComputationalPhysiology/simcardems/commit/0c195ff>Link to commit </a><br>Version: 2022.3.0</br>\\n<br>Timestamp 2022-10-06</br>\",\"<br>Git Hash: c7df02b</br>\\n<a hfref=https://github.com/ComputationalPhysiology/simcardems/commit/c7df02b>Link to commit </a><br>Version: 2022.3.0</br>\\n<br>Timestamp 2022-10-06</br>\",\"<br>Git Hash: cf7cc9d</br>\\n<a hfref=https://github.com/ComputationalPhysiology/simcardems/commit/cf7cc9d>Link to commit </a><br>Version: 2022.3.0</br>\\n<br>Timestamp 2022-10-06</br>\",\"<br>Git Hash: d5edd92</br>\\n<a hfref=https://github.com/ComputationalPhysiology/simcardems/commit/d5edd92>Link to commit </a><br>Version: 2022.3.0</br>\\n<br>Timestamp 2022-10-07</br>\"],\"x\":[\"2022-10-06T16:25:06.830650\",\"2022-10-06T16:55:04.711879\",\"2022-10-06T20:09:07.230901\",\"2022-10-06T20:19:12.227464\",\"2022-10-06T20:28:25.015389\",\"2022-10-06T20:32:00.361561\",\"2022-10-07T06:42:09.101000\"],\"y\":[1.1546205652084225,1.1546205651723276,1.1546205652084225,1.1546205652084225,1.1546205652718498,1.1546205652084225,1.1487629440161966],\"type\":\"scatter\",\"xaxis\":\"x17\",\"yaxis\":\"y17\"},{\"hovertemplate\":\"%{text}\",\"text\":[\"<br>Git Hash: f63afc9</br>\\n<a hfref=https://github.com/ComputationalPhysiology/simcardems/commit/f63afc9>Link to commit </a><br>Version: 2022.3.0</br>\\n<br>Timestamp 2022-10-06</br>\",\"<br>Git Hash: 630ed09</br>\\n<a hfref=https://github.com/ComputationalPhysiology/simcardems/commit/630ed09>Link to commit </a><br>Version: 2022.3.0</br>\\n<br>Timestamp 2022-10-06</br>\",\"<br>Git Hash: 4d3a653</br>\\n<a hfref=https://github.com/ComputationalPhysiology/simcardems/commit/4d3a653>Link to commit </a><br>Version: 2022.3.0</br>\\n<br>Timestamp 2022-10-06</br>\",\"<br>Git Hash: 0c195ff</br>\\n<a hfref=https://github.com/ComputationalPhysiology/simcardems/commit/0c195ff>Link to commit </a><br>Version: 2022.3.0</br>\\n<br>Timestamp 2022-10-06</br>\",\"<br>Git Hash: c7df02b</br>\\n<a hfref=https://github.com/ComputationalPhysiology/simcardems/commit/c7df02b>Link to commit </a><br>Version: 2022.3.0</br>\\n<br>Timestamp 2022-10-06</br>\",\"<br>Git Hash: cf7cc9d</br>\\n<a hfref=https://github.com/ComputationalPhysiology/simcardems/commit/cf7cc9d>Link to commit </a><br>Version: 2022.3.0</br>\\n<br>Timestamp 2022-10-06</br>\",\"<br>Git Hash: d5edd92</br>\\n<a hfref=https://github.com/ComputationalPhysiology/simcardems/commit/d5edd92>Link to commit </a><br>Version: 2022.3.0</br>\\n<br>Timestamp 2022-10-07</br>\"],\"x\":[\"2022-10-06T16:25:06.830650\",\"2022-10-06T16:55:04.711879\",\"2022-10-06T20:09:07.230901\",\"2022-10-06T20:19:12.227464\",\"2022-10-06T20:28:25.015389\",\"2022-10-06T20:32:00.361561\",\"2022-10-07T06:42:09.101000\"],\"y\":[238.84791692384508,238.8479169232194,238.84791692384508,238.84791692384508,238.8479169249071,238.84791692384508,238.85080654197216],\"type\":\"scatter\",\"xaxis\":\"x21\",\"yaxis\":\"y21\"},{\"hovertemplate\":\"%{text}\",\"text\":[\"<br>Git Hash: f63afc9</br>\\n<a hfref=https://github.com/ComputationalPhysiology/simcardems/commit/f63afc9>Link to commit </a><br>Version: 2022.3.0</br>\\n<br>Timestamp 2022-10-06</br>\",\"<br>Git Hash: 630ed09</br>\\n<a hfref=https://github.com/ComputationalPhysiology/simcardems/commit/630ed09>Link to commit </a><br>Version: 2022.3.0</br>\\n<br>Timestamp 2022-10-06</br>\",\"<br>Git Hash: 4d3a653</br>\\n<a hfref=https://github.com/ComputationalPhysiology/simcardems/commit/4d3a653>Link to commit </a><br>Version: 2022.3.0</br>\\n<br>Timestamp 2022-10-06</br>\",\"<br>Git Hash: 0c195ff</br>\\n<a hfref=https://github.com/ComputationalPhysiology/simcardems/commit/0c195ff>Link to commit </a><br>Version: 2022.3.0</br>\\n<br>Timestamp 2022-10-06</br>\",\"<br>Git Hash: c7df02b</br>\\n<a hfref=https://github.com/ComputationalPhysiology/simcardems/commit/c7df02b>Link to commit </a><br>Version: 2022.3.0</br>\\n<br>Timestamp 2022-10-06</br>\",\"<br>Git Hash: cf7cc9d</br>\\n<a hfref=https://github.com/ComputationalPhysiology/simcardems/commit/cf7cc9d>Link to commit </a><br>Version: 2022.3.0</br>\\n<br>Timestamp 2022-10-06</br>\",\"<br>Git Hash: d5edd92</br>\\n<a hfref=https://github.com/ComputationalPhysiology/simcardems/commit/d5edd92>Link to commit </a><br>Version: 2022.3.0</br>\\n<br>Timestamp 2022-10-07</br>\"],\"x\":[\"2022-10-06T16:25:06.830650\",\"2022-10-06T16:55:04.711879\",\"2022-10-06T20:09:07.230901\",\"2022-10-06T20:19:12.227464\",\"2022-10-06T20:28:25.015389\",\"2022-10-06T20:32:00.361561\",\"2022-10-07T06:42:09.101000\"],\"y\":[265.3749523951641,265.3749523948589,265.3749523951641,265.3749523951641,265.37495239568193,265.3749523951641,265.377777651946],\"type\":\"scatter\",\"xaxis\":\"x25\",\"yaxis\":\"y25\"},{\"hovertemplate\":\"%{text}\",\"text\":[\"<br>Git Hash: f63afc9</br>\\n<a hfref=https://github.com/ComputationalPhysiology/simcardems/commit/f63afc9>Link to commit </a><br>Version: 2022.3.0</br>\\n<br>Timestamp 2022-10-06</br>\",\"<br>Git Hash: 630ed09</br>\\n<a hfref=https://github.com/ComputationalPhysiology/simcardems/commit/630ed09>Link to commit </a><br>Version: 2022.3.0</br>\\n<br>Timestamp 2022-10-06</br>\",\"<br>Git Hash: 4d3a653</br>\\n<a hfref=https://github.com/ComputationalPhysiology/simcardems/commit/4d3a653>Link to commit </a><br>Version: 2022.3.0</br>\\n<br>Timestamp 2022-10-06</br>\",\"<br>Git Hash: 0c195ff</br>\\n<a hfref=https://github.com/ComputationalPhysiology/simcardems/commit/0c195ff>Link to commit </a><br>Version: 2022.3.0</br>\\n<br>Timestamp 2022-10-06</br>\",\"<br>Git Hash: c7df02b</br>\\n<a hfref=https://github.com/ComputationalPhysiology/simcardems/commit/c7df02b>Link to commit </a><br>Version: 2022.3.0</br>\\n<br>Timestamp 2022-10-06</br>\",\"<br>Git Hash: cf7cc9d</br>\\n<a hfref=https://github.com/ComputationalPhysiology/simcardems/commit/cf7cc9d>Link to commit </a><br>Version: 2022.3.0</br>\\n<br>Timestamp 2022-10-06</br>\",\"<br>Git Hash: d5edd92</br>\\n<a hfref=https://github.com/ComputationalPhysiology/simcardems/commit/d5edd92>Link to commit </a><br>Version: 2022.3.0</br>\\n<br>Timestamp 2022-10-07</br>\"],\"x\":[\"2022-10-06T16:25:06.830650\",\"2022-10-06T16:55:04.711879\",\"2022-10-06T20:09:07.230901\",\"2022-10-06T20:19:12.227464\",\"2022-10-06T20:28:25.015389\",\"2022-10-06T20:32:00.361561\",\"2022-10-07T06:42:09.101000\"],\"y\":[332.31538434295345,332.31538434315195,332.31538434295345,332.31538434295345,332.31538434263393,332.31538434295345,332.3187683730866],\"type\":\"scatter\",\"xaxis\":\"x29\",\"yaxis\":\"y29\"},{\"hovertemplate\":\"%{text}\",\"text\":[\"<br>Git Hash: f63afc9</br>\\n<a hfref=https://github.com/ComputationalPhysiology/simcardems/commit/f63afc9>Link to commit </a><br>Version: 2022.3.0</br>\\n<br>Timestamp 2022-10-06</br>\",\"<br>Git Hash: 630ed09</br>\\n<a hfref=https://github.com/ComputationalPhysiology/simcardems/commit/630ed09>Link to commit </a><br>Version: 2022.3.0</br>\\n<br>Timestamp 2022-10-06</br>\",\"<br>Git Hash: 4d3a653</br>\\n<a hfref=https://github.com/ComputationalPhysiology/simcardems/commit/4d3a653>Link to commit </a><br>Version: 2022.3.0</br>\\n<br>Timestamp 2022-10-06</br>\",\"<br>Git Hash: 0c195ff</br>\\n<a hfref=https://github.com/ComputationalPhysiology/simcardems/commit/0c195ff>Link to commit </a><br>Version: 2022.3.0</br>\\n<br>Timestamp 2022-10-06</br>\",\"<br>Git Hash: c7df02b</br>\\n<a hfref=https://github.com/ComputationalPhysiology/simcardems/commit/c7df02b>Link to commit </a><br>Version: 2022.3.0</br>\\n<br>Timestamp 2022-10-06</br>\",\"<br>Git Hash: cf7cc9d</br>\\n<a hfref=https://github.com/ComputationalPhysiology/simcardems/commit/cf7cc9d>Link to commit </a><br>Version: 2022.3.0</br>\\n<br>Timestamp 2022-10-06</br>\",\"<br>Git Hash: d5edd92</br>\\n<a hfref=https://github.com/ComputationalPhysiology/simcardems/commit/d5edd92>Link to commit </a><br>Version: 2022.3.0</br>\\n<br>Timestamp 2022-10-07</br>\"],\"x\":[\"2022-10-06T16:25:06.830650\",\"2022-10-06T16:55:04.711879\",\"2022-10-06T20:09:07.230901\",\"2022-10-06T20:19:12.227464\",\"2022-10-06T20:28:25.015389\",\"2022-10-06T20:32:00.361561\",\"2022-10-07T06:42:09.101000\"],\"y\":[93.46746741910837,93.46746741993255,93.46746741910837,93.46746741910837,93.46746741772682,93.46746741910837,93.46796183111442],\"type\":\"scatter\",\"xaxis\":\"x33\",\"yaxis\":\"y33\"},{\"hovertemplate\":\"%{text}\",\"text\":[\"<br>Git Hash: f63afc9</br>\\n<a hfref=https://github.com/ComputationalPhysiology/simcardems/commit/f63afc9>Link to commit </a><br>Version: 2022.3.0</br>\\n<br>Timestamp 2022-10-06</br>\",\"<br>Git Hash: 630ed09</br>\\n<a hfref=https://github.com/ComputationalPhysiology/simcardems/commit/630ed09>Link to commit </a><br>Version: 2022.3.0</br>\\n<br>Timestamp 2022-10-06</br>\",\"<br>Git Hash: 4d3a653</br>\\n<a hfref=https://github.com/ComputationalPhysiology/simcardems/commit/4d3a653>Link to commit </a><br>Version: 2022.3.0</br>\\n<br>Timestamp 2022-10-06</br>\",\"<br>Git Hash: 0c195ff</br>\\n<a hfref=https://github.com/ComputationalPhysiology/simcardems/commit/0c195ff>Link to commit </a><br>Version: 2022.3.0</br>\\n<br>Timestamp 2022-10-06</br>\",\"<br>Git Hash: c7df02b</br>\\n<a hfref=https://github.com/ComputationalPhysiology/simcardems/commit/c7df02b>Link to commit </a><br>Version: 2022.3.0</br>\\n<br>Timestamp 2022-10-06</br>\",\"<br>Git Hash: cf7cc9d</br>\\n<a hfref=https://github.com/ComputationalPhysiology/simcardems/commit/cf7cc9d>Link to commit </a><br>Version: 2022.3.0</br>\\n<br>Timestamp 2022-10-06</br>\",\"<br>Git Hash: d5edd92</br>\\n<a hfref=https://github.com/ComputationalPhysiology/simcardems/commit/d5edd92>Link to commit </a><br>Version: 2022.3.0</br>\\n<br>Timestamp 2022-10-07</br>\"],\"x\":[\"2022-10-06T16:25:06.830650\",\"2022-10-06T16:55:04.711879\",\"2022-10-06T20:09:07.230901\",\"2022-10-06T20:19:12.227464\",\"2022-10-06T20:28:25.015389\",\"2022-10-06T20:32:00.361561\",\"2022-10-07T06:42:09.101000\"],\"y\":[51.11894280230365,51.11894280362179,51.11894280230365,51.11894280230365,51.118942800028165,51.11894280230365,51.119012382531494],\"type\":\"scatter\",\"xaxis\":\"x37\",\"yaxis\":\"y37\"},{\"hovertemplate\":\"%{text}\",\"text\":[\"<br>Git Hash: f63afc9</br>\\n<a hfref=https://github.com/ComputationalPhysiology/simcardems/commit/f63afc9>Link to commit </a><br>Version: 2022.3.0</br>\\n<br>Timestamp 2022-10-06</br>\",\"<br>Git Hash: 630ed09</br>\\n<a hfref=https://github.com/ComputationalPhysiology/simcardems/commit/630ed09>Link to commit </a><br>Version: 2022.3.0</br>\\n<br>Timestamp 2022-10-06</br>\",\"<br>Git Hash: 4d3a653</br>\\n<a hfref=https://github.com/ComputationalPhysiology/simcardems/commit/4d3a653>Link to commit </a><br>Version: 2022.3.0</br>\\n<br>Timestamp 2022-10-06</br>\",\"<br>Git Hash: 0c195ff</br>\\n<a hfref=https://github.com/ComputationalPhysiology/simcardems/commit/0c195ff>Link to commit </a><br>Version: 2022.3.0</br>\\n<br>Timestamp 2022-10-06</br>\",\"<br>Git Hash: c7df02b</br>\\n<a hfref=https://github.com/ComputationalPhysiology/simcardems/commit/c7df02b>Link to commit </a><br>Version: 2022.3.0</br>\\n<br>Timestamp 2022-10-06</br>\",\"<br>Git Hash: cf7cc9d</br>\\n<a hfref=https://github.com/ComputationalPhysiology/simcardems/commit/cf7cc9d>Link to commit </a><br>Version: 2022.3.0</br>\\n<br>Timestamp 2022-10-06</br>\",\"<br>Git Hash: d5edd92</br>\\n<a hfref=https://github.com/ComputationalPhysiology/simcardems/commit/d5edd92>Link to commit </a><br>Version: 2022.3.0</br>\\n<br>Timestamp 2022-10-07</br>\"],\"x\":[\"2022-10-06T16:25:06.830650\",\"2022-10-06T16:55:04.711879\",\"2022-10-06T20:09:07.230901\",\"2022-10-06T20:19:12.227464\",\"2022-10-06T20:28:25.015389\",\"2022-10-06T20:32:00.361561\",\"2022-10-07T06:42:09.101000\"],\"y\":[-88.0208943952122,-88.02089439671171,-88.0208943952122,-88.0208943952122,-88.0208943926206,-88.0208943952122,-88.02024655904142],\"type\":\"scatter\",\"xaxis\":\"x41\",\"yaxis\":\"y41\"},{\"hovertemplate\":\"%{text}\",\"text\":[\"<br>Git Hash: f63afc9</br>\\n<a hfref=https://github.com/ComputationalPhysiology/simcardems/commit/f63afc9>Link to commit </a><br>Version: 2022.3.0</br>\\n<br>Timestamp 2022-10-06</br>\",\"<br>Git Hash: 630ed09</br>\\n<a hfref=https://github.com/ComputationalPhysiology/simcardems/commit/630ed09>Link to commit </a><br>Version: 2022.3.0</br>\\n<br>Timestamp 2022-10-06</br>\",\"<br>Git Hash: 4d3a653</br>\\n<a hfref=https://github.com/ComputationalPhysiology/simcardems/commit/4d3a653>Link to commit </a><br>Version: 2022.3.0</br>\\n<br>Timestamp 2022-10-06</br>\",\"<br>Git Hash: 0c195ff</br>\\n<a hfref=https://github.com/ComputationalPhysiology/simcardems/commit/0c195ff>Link to commit </a><br>Version: 2022.3.0</br>\\n<br>Timestamp 2022-10-06</br>\",\"<br>Git Hash: c7df02b</br>\\n<a hfref=https://github.com/ComputationalPhysiology/simcardems/commit/c7df02b>Link to commit </a><br>Version: 2022.3.0</br>\\n<br>Timestamp 2022-10-06</br>\",\"<br>Git Hash: cf7cc9d</br>\\n<a hfref=https://github.com/ComputationalPhysiology/simcardems/commit/cf7cc9d>Link to commit </a><br>Version: 2022.3.0</br>\\n<br>Timestamp 2022-10-06</br>\",\"<br>Git Hash: d5edd92</br>\\n<a hfref=https://github.com/ComputationalPhysiology/simcardems/commit/d5edd92>Link to commit </a><br>Version: 2022.3.0</br>\\n<br>Timestamp 2022-10-07</br>\"],\"x\":[\"2022-10-06T16:25:06.830650\",\"2022-10-06T16:55:04.711879\",\"2022-10-06T20:09:07.230901\",\"2022-10-06T20:19:12.227464\",\"2022-10-06T20:28:25.015389\",\"2022-10-06T20:32:00.361561\",\"2022-10-07T06:42:09.101000\"],\"y\":[18.019247665986217,18.019247665044414,18.019247665986217,18.019247665986217,18.01924766761247,18.019247665986217,18.019277321475602],\"type\":\"scatter\",\"xaxis\":\"x45\",\"yaxis\":\"y45\"},{\"hovertemplate\":\"%{text}\",\"text\":[\"<br>Git Hash: f63afc9</br>\\n<a hfref=https://github.com/ComputationalPhysiology/simcardems/commit/f63afc9>Link to commit </a><br>Version: 2022.3.0</br>\\n<br>Timestamp 2022-10-06</br>\",\"<br>Git Hash: 630ed09</br>\\n<a hfref=https://github.com/ComputationalPhysiology/simcardems/commit/630ed09>Link to commit </a><br>Version: 2022.3.0</br>\\n<br>Timestamp 2022-10-06</br>\",\"<br>Git Hash: 4d3a653</br>\\n<a hfref=https://github.com/ComputationalPhysiology/simcardems/commit/4d3a653>Link to commit </a><br>Version: 2022.3.0</br>\\n<br>Timestamp 2022-10-06</br>\",\"<br>Git Hash: 0c195ff</br>\\n<a hfref=https://github.com/ComputationalPhysiology/simcardems/commit/0c195ff>Link to commit </a><br>Version: 2022.3.0</br>\\n<br>Timestamp 2022-10-06</br>\",\"<br>Git Hash: c7df02b</br>\\n<a hfref=https://github.com/ComputationalPhysiology/simcardems/commit/c7df02b>Link to commit </a><br>Version: 2022.3.0</br>\\n<br>Timestamp 2022-10-06</br>\",\"<br>Git Hash: cf7cc9d</br>\\n<a hfref=https://github.com/ComputationalPhysiology/simcardems/commit/cf7cc9d>Link to commit </a><br>Version: 2022.3.0</br>\\n<br>Timestamp 2022-10-06</br>\",\"<br>Git Hash: d5edd92</br>\\n<a hfref=https://github.com/ComputationalPhysiology/simcardems/commit/d5edd92>Link to commit </a><br>Version: 2022.3.0</br>\\n<br>Timestamp 2022-10-07</br>\"],\"x\":[\"2022-10-06T16:25:06.830650\",\"2022-10-06T16:55:04.711879\",\"2022-10-06T20:09:07.230901\",\"2022-10-06T20:19:12.227464\",\"2022-10-06T20:28:25.015389\",\"2022-10-06T20:32:00.361561\",\"2022-10-07T06:42:09.101000\"],\"y\":[0.00026217343204886103,0.0002621734320462223,0.00026217343204886103,0.00026217343204886103,0.0002621734320535062,0.00026217343204886103,0.00026214026802433814],\"type\":\"scatter\",\"xaxis\":\"x2\",\"yaxis\":\"y2\"},{\"hovertemplate\":\"%{text}\",\"text\":[\"<br>Git Hash: f63afc9</br>\\n<a hfref=https://github.com/ComputationalPhysiology/simcardems/commit/f63afc9>Link to commit </a><br>Version: 2022.3.0</br>\\n<br>Timestamp 2022-10-06</br>\",\"<br>Git Hash: 630ed09</br>\\n<a hfref=https://github.com/ComputationalPhysiology/simcardems/commit/630ed09>Link to commit </a><br>Version: 2022.3.0</br>\\n<br>Timestamp 2022-10-06</br>\",\"<br>Git Hash: 4d3a653</br>\\n<a hfref=https://github.com/ComputationalPhysiology/simcardems/commit/4d3a653>Link to commit </a><br>Version: 2022.3.0</br>\\n<br>Timestamp 2022-10-06</br>\",\"<br>Git Hash: 0c195ff</br>\\n<a hfref=https://github.com/ComputationalPhysiology/simcardems/commit/0c195ff>Link to commit </a><br>Version: 2022.3.0</br>\\n<br>Timestamp 2022-10-06</br>\",\"<br>Git Hash: c7df02b</br>\\n<a hfref=https://github.com/ComputationalPhysiology/simcardems/commit/c7df02b>Link to commit </a><br>Version: 2022.3.0</br>\\n<br>Timestamp 2022-10-06</br>\",\"<br>Git Hash: cf7cc9d</br>\\n<a hfref=https://github.com/ComputationalPhysiology/simcardems/commit/cf7cc9d>Link to commit </a><br>Version: 2022.3.0</br>\\n<br>Timestamp 2022-10-06</br>\",\"<br>Git Hash: d5edd92</br>\\n<a hfref=https://github.com/ComputationalPhysiology/simcardems/commit/d5edd92>Link to commit </a><br>Version: 2022.3.0</br>\\n<br>Timestamp 2022-10-07</br>\"],\"x\":[\"2022-10-06T16:25:06.830650\",\"2022-10-06T16:55:04.711879\",\"2022-10-06T20:09:07.230901\",\"2022-10-06T20:19:12.227464\",\"2022-10-06T20:28:25.015389\",\"2022-10-06T20:32:00.361561\",\"2022-10-07T06:42:09.101000\"],\"y\":[0.00019483724411256047,0.00019483724410989336,0.00019483724411256047,0.00019483724411256047,0.0001948372441172956,0.00019483724411256047,0.00019480385444547386],\"type\":\"scatter\",\"xaxis\":\"x6\",\"yaxis\":\"y6\"},{\"hovertemplate\":\"%{text}\",\"text\":[\"<br>Git Hash: f63afc9</br>\\n<a hfref=https://github.com/ComputationalPhysiology/simcardems/commit/f63afc9>Link to commit </a><br>Version: 2022.3.0</br>\\n<br>Timestamp 2022-10-06</br>\",\"<br>Git Hash: 630ed09</br>\\n<a hfref=https://github.com/ComputationalPhysiology/simcardems/commit/630ed09>Link to commit </a><br>Version: 2022.3.0</br>\\n<br>Timestamp 2022-10-06</br>\",\"<br>Git Hash: 4d3a653</br>\\n<a hfref=https://github.com/ComputationalPhysiology/simcardems/commit/4d3a653>Link to commit </a><br>Version: 2022.3.0</br>\\n<br>Timestamp 2022-10-06</br>\",\"<br>Git Hash: 0c195ff</br>\\n<a hfref=https://github.com/ComputationalPhysiology/simcardems/commit/0c195ff>Link to commit </a><br>Version: 2022.3.0</br>\\n<br>Timestamp 2022-10-06</br>\",\"<br>Git Hash: c7df02b</br>\\n<a hfref=https://github.com/ComputationalPhysiology/simcardems/commit/c7df02b>Link to commit </a><br>Version: 2022.3.0</br>\\n<br>Timestamp 2022-10-06</br>\",\"<br>Git Hash: cf7cc9d</br>\\n<a hfref=https://github.com/ComputationalPhysiology/simcardems/commit/cf7cc9d>Link to commit </a><br>Version: 2022.3.0</br>\\n<br>Timestamp 2022-10-06</br>\",\"<br>Git Hash: d5edd92</br>\\n<a hfref=https://github.com/ComputationalPhysiology/simcardems/commit/d5edd92>Link to commit </a><br>Version: 2022.3.0</br>\\n<br>Timestamp 2022-10-07</br>\"],\"x\":[\"2022-10-06T16:25:06.830650\",\"2022-10-06T16:55:04.711879\",\"2022-10-06T20:09:07.230901\",\"2022-10-06T20:19:12.227464\",\"2022-10-06T20:28:25.015389\",\"2022-10-06T20:32:00.361561\",\"2022-10-07T06:42:09.101000\"],\"y\":[267.8559508563927,267.85595085762793,267.8559508563927,267.8559508563927,267.85595085408636,267.8559508563927,267.9002996852012],\"type\":\"scatter\",\"xaxis\":\"x10\",\"yaxis\":\"y10\"},{\"hovertemplate\":\"%{text}\",\"text\":[\"<br>Git Hash: f63afc9</br>\\n<a hfref=https://github.com/ComputationalPhysiology/simcardems/commit/f63afc9>Link to commit </a><br>Version: 2022.3.0</br>\\n<br>Timestamp 2022-10-06</br>\",\"<br>Git Hash: 630ed09</br>\\n<a hfref=https://github.com/ComputationalPhysiology/simcardems/commit/630ed09>Link to commit </a><br>Version: 2022.3.0</br>\\n<br>Timestamp 2022-10-06</br>\",\"<br>Git Hash: 4d3a653</br>\\n<a hfref=https://github.com/ComputationalPhysiology/simcardems/commit/4d3a653>Link to commit </a><br>Version: 2022.3.0</br>\\n<br>Timestamp 2022-10-06</br>\",\"<br>Git Hash: 0c195ff</br>\\n<a hfref=https://github.com/ComputationalPhysiology/simcardems/commit/0c195ff>Link to commit </a><br>Version: 2022.3.0</br>\\n<br>Timestamp 2022-10-06</br>\",\"<br>Git Hash: c7df02b</br>\\n<a hfref=https://github.com/ComputationalPhysiology/simcardems/commit/c7df02b>Link to commit </a><br>Version: 2022.3.0</br>\\n<br>Timestamp 2022-10-06</br>\",\"<br>Git Hash: cf7cc9d</br>\\n<a hfref=https://github.com/ComputationalPhysiology/simcardems/commit/cf7cc9d>Link to commit </a><br>Version: 2022.3.0</br>\\n<br>Timestamp 2022-10-06</br>\",\"<br>Git Hash: d5edd92</br>\\n<a hfref=https://github.com/ComputationalPhysiology/simcardems/commit/d5edd92>Link to commit </a><br>Version: 2022.3.0</br>\\n<br>Timestamp 2022-10-07</br>\"],\"x\":[\"2022-10-06T16:25:06.830650\",\"2022-10-06T16:55:04.711879\",\"2022-10-06T20:09:07.230901\",\"2022-10-06T20:19:12.227464\",\"2022-10-06T20:28:25.015389\",\"2022-10-06T20:32:00.361561\",\"2022-10-07T06:42:09.101000\"],\"y\":[387.224647666766,387.2246476677943,387.224647666766,387.224647666766,387.2246476647681,387.224647666766,387.3156126984575],\"type\":\"scatter\",\"xaxis\":\"x14\",\"yaxis\":\"y14\"},{\"hovertemplate\":\"%{text}\",\"text\":[\"<br>Git Hash: f63afc9</br>\\n<a hfref=https://github.com/ComputationalPhysiology/simcardems/commit/f63afc9>Link to commit </a><br>Version: 2022.3.0</br>\\n<br>Timestamp 2022-10-06</br>\",\"<br>Git Hash: 630ed09</br>\\n<a hfref=https://github.com/ComputationalPhysiology/simcardems/commit/630ed09>Link to commit </a><br>Version: 2022.3.0</br>\\n<br>Timestamp 2022-10-06</br>\",\"<br>Git Hash: 4d3a653</br>\\n<a hfref=https://github.com/ComputationalPhysiology/simcardems/commit/4d3a653>Link to commit </a><br>Version: 2022.3.0</br>\\n<br>Timestamp 2022-10-06</br>\",\"<br>Git Hash: 0c195ff</br>\\n<a hfref=https://github.com/ComputationalPhysiology/simcardems/commit/0c195ff>Link to commit </a><br>Version: 2022.3.0</br>\\n<br>Timestamp 2022-10-06</br>\",\"<br>Git Hash: c7df02b</br>\\n<a hfref=https://github.com/ComputationalPhysiology/simcardems/commit/c7df02b>Link to commit </a><br>Version: 2022.3.0</br>\\n<br>Timestamp 2022-10-06</br>\",\"<br>Git Hash: cf7cc9d</br>\\n<a hfref=https://github.com/ComputationalPhysiology/simcardems/commit/cf7cc9d>Link to commit </a><br>Version: 2022.3.0</br>\\n<br>Timestamp 2022-10-06</br>\",\"<br>Git Hash: d5edd92</br>\\n<a hfref=https://github.com/ComputationalPhysiology/simcardems/commit/d5edd92>Link to commit </a><br>Version: 2022.3.0</br>\\n<br>Timestamp 2022-10-07</br>\"],\"x\":[\"2022-10-06T16:25:06.830650\",\"2022-10-06T16:55:04.711879\",\"2022-10-06T20:09:07.230901\",\"2022-10-06T20:19:12.227464\",\"2022-10-06T20:28:25.015389\",\"2022-10-06T20:32:00.361561\",\"2022-10-07T06:42:09.101000\"],\"y\":[468.7678472104044,468.76784721160277,468.7678472104044,468.7678472104044,468.7678472080366,468.7678472104044,468.8653549434834],\"type\":\"scatter\",\"xaxis\":\"x18\",\"yaxis\":\"y18\"},{\"hovertemplate\":\"%{text}\",\"text\":[\"<br>Git Hash: f63afc9</br>\\n<a hfref=https://github.com/ComputationalPhysiology/simcardems/commit/f63afc9>Link to commit </a><br>Version: 2022.3.0</br>\\n<br>Timestamp 2022-10-06</br>\",\"<br>Git Hash: 630ed09</br>\\n<a hfref=https://github.com/ComputationalPhysiology/simcardems/commit/630ed09>Link to commit </a><br>Version: 2022.3.0</br>\\n<br>Timestamp 2022-10-06</br>\",\"<br>Git Hash: 4d3a653</br>\\n<a hfref=https://github.com/ComputationalPhysiology/simcardems/commit/4d3a653>Link to commit </a><br>Version: 2022.3.0</br>\\n<br>Timestamp 2022-10-06</br>\",\"<br>Git Hash: 0c195ff</br>\\n<a hfref=https://github.com/ComputationalPhysiology/simcardems/commit/0c195ff>Link to commit </a><br>Version: 2022.3.0</br>\\n<br>Timestamp 2022-10-06</br>\",\"<br>Git Hash: c7df02b</br>\\n<a hfref=https://github.com/ComputationalPhysiology/simcardems/commit/c7df02b>Link to commit </a><br>Version: 2022.3.0</br>\\n<br>Timestamp 2022-10-06</br>\",\"<br>Git Hash: cf7cc9d</br>\\n<a hfref=https://github.com/ComputationalPhysiology/simcardems/commit/cf7cc9d>Link to commit </a><br>Version: 2022.3.0</br>\\n<br>Timestamp 2022-10-06</br>\",\"<br>Git Hash: d5edd92</br>\\n<a hfref=https://github.com/ComputationalPhysiology/simcardems/commit/d5edd92>Link to commit </a><br>Version: 2022.3.0</br>\\n<br>Timestamp 2022-10-07</br>\"],\"x\":[\"2022-10-06T16:25:06.830650\",\"2022-10-06T16:55:04.711879\",\"2022-10-06T20:09:07.230901\",\"2022-10-06T20:19:12.227464\",\"2022-10-06T20:28:25.015389\",\"2022-10-06T20:32:00.361561\",\"2022-10-07T06:42:09.101000\"],\"y\":[138.0,138.0,138.0,138.0,138.0,138.0,137.0],\"type\":\"scatter\",\"xaxis\":\"x22\",\"yaxis\":\"y22\"},{\"hovertemplate\":\"%{text}\",\"text\":[\"<br>Git Hash: f63afc9</br>\\n<a hfref=https://github.com/ComputationalPhysiology/simcardems/commit/f63afc9>Link to commit </a><br>Version: 2022.3.0</br>\\n<br>Timestamp 2022-10-06</br>\",\"<br>Git Hash: 630ed09</br>\\n<a hfref=https://github.com/ComputationalPhysiology/simcardems/commit/630ed09>Link to commit </a><br>Version: 2022.3.0</br>\\n<br>Timestamp 2022-10-06</br>\",\"<br>Git Hash: 4d3a653</br>\\n<a hfref=https://github.com/ComputationalPhysiology/simcardems/commit/4d3a653>Link to commit </a><br>Version: 2022.3.0</br>\\n<br>Timestamp 2022-10-06</br>\",\"<br>Git Hash: 0c195ff</br>\\n<a hfref=https://github.com/ComputationalPhysiology/simcardems/commit/0c195ff>Link to commit </a><br>Version: 2022.3.0</br>\\n<br>Timestamp 2022-10-06</br>\",\"<br>Git Hash: c7df02b</br>\\n<a hfref=https://github.com/ComputationalPhysiology/simcardems/commit/c7df02b>Link to commit </a><br>Version: 2022.3.0</br>\\n<br>Timestamp 2022-10-06</br>\",\"<br>Git Hash: cf7cc9d</br>\\n<a hfref=https://github.com/ComputationalPhysiology/simcardems/commit/cf7cc9d>Link to commit </a><br>Version: 2022.3.0</br>\\n<br>Timestamp 2022-10-06</br>\",\"<br>Git Hash: d5edd92</br>\\n<a hfref=https://github.com/ComputationalPhysiology/simcardems/commit/d5edd92>Link to commit </a><br>Version: 2022.3.0</br>\\n<br>Timestamp 2022-10-07</br>\"],\"x\":[\"2022-10-06T16:25:06.830650\",\"2022-10-06T16:55:04.711879\",\"2022-10-06T20:09:07.230901\",\"2022-10-06T20:19:12.227464\",\"2022-10-06T20:28:25.015389\",\"2022-10-06T20:32:00.361561\",\"2022-10-07T06:42:09.101000\"],\"y\":[148.86435918780955,148.86435919110215,148.86435918780955,148.86435918780955,148.86435918187783,148.86435918780955,149.9488577956252],\"type\":\"scatter\",\"xaxis\":\"x26\",\"yaxis\":\"y26\"},{\"hovertemplate\":\"%{text}\",\"text\":[\"<br>Git Hash: f63afc9</br>\\n<a hfref=https://github.com/ComputationalPhysiology/simcardems/commit/f63afc9>Link to commit </a><br>Version: 2022.3.0</br>\\n<br>Timestamp 2022-10-06</br>\",\"<br>Git Hash: 630ed09</br>\\n<a hfref=https://github.com/ComputationalPhysiology/simcardems/commit/630ed09>Link to commit </a><br>Version: 2022.3.0</br>\\n<br>Timestamp 2022-10-06</br>\",\"<br>Git Hash: 4d3a653</br>\\n<a hfref=https://github.com/ComputationalPhysiology/simcardems/commit/4d3a653>Link to commit </a><br>Version: 2022.3.0</br>\\n<br>Timestamp 2022-10-06</br>\",\"<br>Git Hash: 0c195ff</br>\\n<a hfref=https://github.com/ComputationalPhysiology/simcardems/commit/0c195ff>Link to commit </a><br>Version: 2022.3.0</br>\\n<br>Timestamp 2022-10-06</br>\",\"<br>Git Hash: c7df02b</br>\\n<a hfref=https://github.com/ComputationalPhysiology/simcardems/commit/c7df02b>Link to commit </a><br>Version: 2022.3.0</br>\\n<br>Timestamp 2022-10-06</br>\",\"<br>Git Hash: cf7cc9d</br>\\n<a hfref=https://github.com/ComputationalPhysiology/simcardems/commit/cf7cc9d>Link to commit </a><br>Version: 2022.3.0</br>\\n<br>Timestamp 2022-10-06</br>\",\"<br>Git Hash: d5edd92</br>\\n<a hfref=https://github.com/ComputationalPhysiology/simcardems/commit/d5edd92>Link to commit </a><br>Version: 2022.3.0</br>\\n<br>Timestamp 2022-10-07</br>\"],\"x\":[\"2022-10-06T16:25:06.830650\",\"2022-10-06T16:55:04.711879\",\"2022-10-06T20:09:07.230901\",\"2022-10-06T20:19:12.227464\",\"2022-10-06T20:28:25.015389\",\"2022-10-06T20:32:00.361561\",\"2022-10-07T06:42:09.101000\"],\"y\":[461.80050916441866,461.8005091730818,461.80050916441866,461.80050916441866,461.80050914863074,461.80050916441866,464.000771936317],\"type\":\"scatter\",\"xaxis\":\"x30\",\"yaxis\":\"y30\"},{\"hovertemplate\":\"%{text}\",\"text\":[\"<br>Git Hash: f63afc9</br>\\n<a hfref=https://github.com/ComputationalPhysiology/simcardems/commit/f63afc9>Link to commit </a><br>Version: 2022.3.0</br>\\n<br>Timestamp 2022-10-06</br>\",\"<br>Git Hash: 630ed09</br>\\n<a hfref=https://github.com/ComputationalPhysiology/simcardems/commit/630ed09>Link to commit </a><br>Version: 2022.3.0</br>\\n<br>Timestamp 2022-10-06</br>\",\"<br>Git Hash: 4d3a653</br>\\n<a hfref=https://github.com/ComputationalPhysiology/simcardems/commit/4d3a653>Link to commit </a><br>Version: 2022.3.0</br>\\n<br>Timestamp 2022-10-06</br>\",\"<br>Git Hash: 0c195ff</br>\\n<a hfref=https://github.com/ComputationalPhysiology/simcardems/commit/0c195ff>Link to commit </a><br>Version: 2022.3.0</br>\\n<br>Timestamp 2022-10-06</br>\",\"<br>Git Hash: c7df02b</br>\\n<a hfref=https://github.com/ComputationalPhysiology/simcardems/commit/c7df02b>Link to commit </a><br>Version: 2022.3.0</br>\\n<br>Timestamp 2022-10-06</br>\",\"<br>Git Hash: cf7cc9d</br>\\n<a hfref=https://github.com/ComputationalPhysiology/simcardems/commit/cf7cc9d>Link to commit </a><br>Version: 2022.3.0</br>\\n<br>Timestamp 2022-10-06</br>\",\"<br>Git Hash: d5edd92</br>\\n<a hfref=https://github.com/ComputationalPhysiology/simcardems/commit/d5edd92>Link to commit </a><br>Version: 2022.3.0</br>\\n<br>Timestamp 2022-10-07</br>\"],\"x\":[\"2022-10-06T16:25:06.830650\",\"2022-10-06T16:55:04.711879\",\"2022-10-06T20:09:07.230901\",\"2022-10-06T20:19:12.227464\",\"2022-10-06T20:28:25.015389\",\"2022-10-06T20:32:00.361561\",\"2022-10-07T06:42:09.101000\"],\"y\":[1.0000000000000022,1.0000000000000018,1.0000000000000022,1.0000000000000022,1.0000000000000016,1.0000000000000022,1.0000000000000002],\"type\":\"scatter\",\"xaxis\":\"x34\",\"yaxis\":\"y34\"},{\"hovertemplate\":\"%{text}\",\"text\":[\"<br>Git Hash: f63afc9</br>\\n<a hfref=https://github.com/ComputationalPhysiology/simcardems/commit/f63afc9>Link to commit </a><br>Version: 2022.3.0</br>\\n<br>Timestamp 2022-10-06</br>\",\"<br>Git Hash: 630ed09</br>\\n<a hfref=https://github.com/ComputationalPhysiology/simcardems/commit/630ed09>Link to commit </a><br>Version: 2022.3.0</br>\\n<br>Timestamp 2022-10-06</br>\",\"<br>Git Hash: 4d3a653</br>\\n<a hfref=https://github.com/ComputationalPhysiology/simcardems/commit/4d3a653>Link to commit </a><br>Version: 2022.3.0</br>\\n<br>Timestamp 2022-10-06</br>\",\"<br>Git Hash: 0c195ff</br>\\n<a hfref=https://github.com/ComputationalPhysiology/simcardems/commit/0c195ff>Link to commit </a><br>Version: 2022.3.0</br>\\n<br>Timestamp 2022-10-06</br>\",\"<br>Git Hash: c7df02b</br>\\n<a hfref=https://github.com/ComputationalPhysiology/simcardems/commit/c7df02b>Link to commit </a><br>Version: 2022.3.0</br>\\n<br>Timestamp 2022-10-06</br>\",\"<br>Git Hash: cf7cc9d</br>\\n<a hfref=https://github.com/ComputationalPhysiology/simcardems/commit/cf7cc9d>Link to commit </a><br>Version: 2022.3.0</br>\\n<br>Timestamp 2022-10-06</br>\",\"<br>Git Hash: d5edd92</br>\\n<a hfref=https://github.com/ComputationalPhysiology/simcardems/commit/d5edd92>Link to commit </a><br>Version: 2022.3.0</br>\\n<br>Timestamp 2022-10-07</br>\"],\"x\":[\"2022-10-06T16:25:06.830650\",\"2022-10-06T16:55:04.711879\",\"2022-10-06T20:09:07.230901\",\"2022-10-06T20:19:12.227464\",\"2022-10-06T20:28:25.015389\",\"2022-10-06T20:32:00.361561\",\"2022-10-07T06:42:09.101000\"],\"y\":[0.900227077910955,0.900227077912309,0.900227077910955,0.900227077910955,0.9002270779085806,0.900227077910955,0.9004964280010318],\"type\":\"scatter\",\"xaxis\":\"x38\",\"yaxis\":\"y38\"},{\"hovertemplate\":\"%{text}\",\"text\":[\"<br>Git Hash: f63afc9</br>\\n<a hfref=https://github.com/ComputationalPhysiology/simcardems/commit/f63afc9>Link to commit </a><br>Version: 2022.3.0</br>\\n<br>Timestamp 2022-10-06</br>\",\"<br>Git Hash: 630ed09</br>\\n<a hfref=https://github.com/ComputationalPhysiology/simcardems/commit/630ed09>Link to commit </a><br>Version: 2022.3.0</br>\\n<br>Timestamp 2022-10-06</br>\",\"<br>Git Hash: 4d3a653</br>\\n<a hfref=https://github.com/ComputationalPhysiology/simcardems/commit/4d3a653>Link to commit </a><br>Version: 2022.3.0</br>\\n<br>Timestamp 2022-10-06</br>\",\"<br>Git Hash: 0c195ff</br>\\n<a hfref=https://github.com/ComputationalPhysiology/simcardems/commit/0c195ff>Link to commit </a><br>Version: 2022.3.0</br>\\n<br>Timestamp 2022-10-06</br>\",\"<br>Git Hash: c7df02b</br>\\n<a hfref=https://github.com/ComputationalPhysiology/simcardems/commit/c7df02b>Link to commit </a><br>Version: 2022.3.0</br>\\n<br>Timestamp 2022-10-06</br>\",\"<br>Git Hash: cf7cc9d</br>\\n<a hfref=https://github.com/ComputationalPhysiology/simcardems/commit/cf7cc9d>Link to commit </a><br>Version: 2022.3.0</br>\\n<br>Timestamp 2022-10-06</br>\",\"<br>Git Hash: d5edd92</br>\\n<a hfref=https://github.com/ComputationalPhysiology/simcardems/commit/d5edd92>Link to commit </a><br>Version: 2022.3.0</br>\\n<br>Timestamp 2022-10-07</br>\"],\"x\":[\"2022-10-06T16:25:06.830650\",\"2022-10-06T16:55:04.711879\",\"2022-10-06T20:09:07.230901\",\"2022-10-06T20:19:12.227464\",\"2022-10-06T20:28:25.015389\",\"2022-10-06T20:32:00.361561\",\"2022-10-07T06:42:09.101000\"],\"y\":[138.0,138.0,138.0,138.0,138.0,138.0,138.0],\"type\":\"scatter\",\"xaxis\":\"x42\",\"yaxis\":\"y42\"},{\"hovertemplate\":\"%{text}\",\"text\":[\"<br>Git Hash: f63afc9</br>\\n<a hfref=https://github.com/ComputationalPhysiology/simcardems/commit/f63afc9>Link to commit </a><br>Version: 2022.3.0</br>\\n<br>Timestamp 2022-10-06</br>\",\"<br>Git Hash: 630ed09</br>\\n<a hfref=https://github.com/ComputationalPhysiology/simcardems/commit/630ed09>Link to commit </a><br>Version: 2022.3.0</br>\\n<br>Timestamp 2022-10-06</br>\",\"<br>Git Hash: 4d3a653</br>\\n<a hfref=https://github.com/ComputationalPhysiology/simcardems/commit/4d3a653>Link to commit </a><br>Version: 2022.3.0</br>\\n<br>Timestamp 2022-10-06</br>\",\"<br>Git Hash: 0c195ff</br>\\n<a hfref=https://github.com/ComputationalPhysiology/simcardems/commit/0c195ff>Link to commit </a><br>Version: 2022.3.0</br>\\n<br>Timestamp 2022-10-06</br>\",\"<br>Git Hash: c7df02b</br>\\n<a hfref=https://github.com/ComputationalPhysiology/simcardems/commit/c7df02b>Link to commit </a><br>Version: 2022.3.0</br>\\n<br>Timestamp 2022-10-06</br>\",\"<br>Git Hash: cf7cc9d</br>\\n<a hfref=https://github.com/ComputationalPhysiology/simcardems/commit/cf7cc9d>Link to commit </a><br>Version: 2022.3.0</br>\\n<br>Timestamp 2022-10-06</br>\",\"<br>Git Hash: d5edd92</br>\\n<a hfref=https://github.com/ComputationalPhysiology/simcardems/commit/d5edd92>Link to commit </a><br>Version: 2022.3.0</br>\\n<br>Timestamp 2022-10-07</br>\"],\"x\":[\"2022-10-06T16:25:06.830650\",\"2022-10-06T16:55:04.711879\",\"2022-10-06T20:09:07.230901\",\"2022-10-06T20:19:12.227464\",\"2022-10-06T20:28:25.015389\",\"2022-10-06T20:32:00.361561\",\"2022-10-07T06:42:09.101000\"],\"y\":[271.3843880096666,271.38438800959835,271.3843880096666,271.3843880096666,271.38438800971335,271.3843880096666,271.38954457701925],\"type\":\"scatter\",\"xaxis\":\"x46\",\"yaxis\":\"y46\"},{\"hovertemplate\":\"%{text}\",\"text\":[\"<br>Git Hash: f63afc9</br>\\n<a hfref=https://github.com/ComputationalPhysiology/simcardems/commit/f63afc9>Link to commit </a><br>Version: 2022.3.0</br>\\n<br>Timestamp 2022-10-06</br>\",\"<br>Git Hash: 630ed09</br>\\n<a hfref=https://github.com/ComputationalPhysiology/simcardems/commit/630ed09>Link to commit </a><br>Version: 2022.3.0</br>\\n<br>Timestamp 2022-10-06</br>\",\"<br>Git Hash: 4d3a653</br>\\n<a hfref=https://github.com/ComputationalPhysiology/simcardems/commit/4d3a653>Link to commit </a><br>Version: 2022.3.0</br>\\n<br>Timestamp 2022-10-06</br>\",\"<br>Git Hash: 0c195ff</br>\\n<a hfref=https://github.com/ComputationalPhysiology/simcardems/commit/0c195ff>Link to commit </a><br>Version: 2022.3.0</br>\\n<br>Timestamp 2022-10-06</br>\",\"<br>Git Hash: c7df02b</br>\\n<a hfref=https://github.com/ComputationalPhysiology/simcardems/commit/c7df02b>Link to commit </a><br>Version: 2022.3.0</br>\\n<br>Timestamp 2022-10-06</br>\",\"<br>Git Hash: cf7cc9d</br>\\n<a hfref=https://github.com/ComputationalPhysiology/simcardems/commit/cf7cc9d>Link to commit </a><br>Version: 2022.3.0</br>\\n<br>Timestamp 2022-10-06</br>\",\"<br>Git Hash: d5edd92</br>\\n<a hfref=https://github.com/ComputationalPhysiology/simcardems/commit/d5edd92>Link to commit </a><br>Version: 2022.3.0</br>\\n<br>Timestamp 2022-10-07</br>\"],\"x\":[\"2022-10-06T16:25:06.830650\",\"2022-10-06T16:55:04.711879\",\"2022-10-06T20:09:07.230901\",\"2022-10-06T20:19:12.227464\",\"2022-10-06T20:28:25.015389\",\"2022-10-06T20:32:00.361561\",\"2022-10-07T06:42:09.101000\"],\"y\":[402.4486175412526,402.4486175415829,402.4486175412526,402.4486175412526,402.44861754056797,402.4486175412526,402.54745852137114],\"type\":\"scatter\",\"xaxis\":\"x3\",\"yaxis\":\"y3\"},{\"hovertemplate\":\"%{text}\",\"text\":[\"<br>Git Hash: f63afc9</br>\\n<a hfref=https://github.com/ComputationalPhysiology/simcardems/commit/f63afc9>Link to commit </a><br>Version: 2022.3.0</br>\\n<br>Timestamp 2022-10-06</br>\",\"<br>Git Hash: 630ed09</br>\\n<a hfref=https://github.com/ComputationalPhysiology/simcardems/commit/630ed09>Link to commit </a><br>Version: 2022.3.0</br>\\n<br>Timestamp 2022-10-06</br>\",\"<br>Git Hash: 4d3a653</br>\\n<a hfref=https://github.com/ComputationalPhysiology/simcardems/commit/4d3a653>Link to commit </a><br>Version: 2022.3.0</br>\\n<br>Timestamp 2022-10-06</br>\",\"<br>Git Hash: 0c195ff</br>\\n<a hfref=https://github.com/ComputationalPhysiology/simcardems/commit/0c195ff>Link to commit </a><br>Version: 2022.3.0</br>\\n<br>Timestamp 2022-10-06</br>\",\"<br>Git Hash: c7df02b</br>\\n<a hfref=https://github.com/ComputationalPhysiology/simcardems/commit/c7df02b>Link to commit </a><br>Version: 2022.3.0</br>\\n<br>Timestamp 2022-10-06</br>\",\"<br>Git Hash: cf7cc9d</br>\\n<a hfref=https://github.com/ComputationalPhysiology/simcardems/commit/cf7cc9d>Link to commit </a><br>Version: 2022.3.0</br>\\n<br>Timestamp 2022-10-06</br>\",\"<br>Git Hash: d5edd92</br>\\n<a hfref=https://github.com/ComputationalPhysiology/simcardems/commit/d5edd92>Link to commit </a><br>Version: 2022.3.0</br>\\n<br>Timestamp 2022-10-07</br>\"],\"x\":[\"2022-10-06T16:25:06.830650\",\"2022-10-06T16:55:04.711879\",\"2022-10-06T20:09:07.230901\",\"2022-10-06T20:19:12.227464\",\"2022-10-06T20:28:25.015389\",\"2022-10-06T20:32:00.361561\",\"2022-10-07T06:42:09.101000\"],\"y\":[520.2357173779734,520.2357173795499,520.2357173779734,520.2357173779734,520.2357173750196,520.2357173779734,520.6528223643268],\"type\":\"scatter\",\"xaxis\":\"x7\",\"yaxis\":\"y7\"},{\"hovertemplate\":\"%{text}\",\"text\":[\"<br>Git Hash: f63afc9</br>\\n<a hfref=https://github.com/ComputationalPhysiology/simcardems/commit/f63afc9>Link to commit </a><br>Version: 2022.3.0</br>\\n<br>Timestamp 2022-10-06</br>\",\"<br>Git Hash: 630ed09</br>\\n<a hfref=https://github.com/ComputationalPhysiology/simcardems/commit/630ed09>Link to commit </a><br>Version: 2022.3.0</br>\\n<br>Timestamp 2022-10-06</br>\",\"<br>Git Hash: 4d3a653</br>\\n<a hfref=https://github.com/ComputationalPhysiology/simcardems/commit/4d3a653>Link to commit </a><br>Version: 2022.3.0</br>\\n<br>Timestamp 2022-10-06</br>\",\"<br>Git Hash: 0c195ff</br>\\n<a hfref=https://github.com/ComputationalPhysiology/simcardems/commit/0c195ff>Link to commit </a><br>Version: 2022.3.0</br>\\n<br>Timestamp 2022-10-06</br>\",\"<br>Git Hash: c7df02b</br>\\n<a hfref=https://github.com/ComputationalPhysiology/simcardems/commit/c7df02b>Link to commit </a><br>Version: 2022.3.0</br>\\n<br>Timestamp 2022-10-06</br>\",\"<br>Git Hash: cf7cc9d</br>\\n<a hfref=https://github.com/ComputationalPhysiology/simcardems/commit/cf7cc9d>Link to commit </a><br>Version: 2022.3.0</br>\\n<br>Timestamp 2022-10-06</br>\",\"<br>Git Hash: d5edd92</br>\\n<a hfref=https://github.com/ComputationalPhysiology/simcardems/commit/d5edd92>Link to commit </a><br>Version: 2022.3.0</br>\\n<br>Timestamp 2022-10-07</br>\"],\"x\":[\"2022-10-06T16:25:06.830650\",\"2022-10-06T16:55:04.711879\",\"2022-10-06T20:09:07.230901\",\"2022-10-06T20:19:12.227464\",\"2022-10-06T20:28:25.015389\",\"2022-10-06T20:32:00.361561\",\"2022-10-07T06:42:09.101000\"],\"y\":[192.15555011038202,192.15555011046484,192.15555011038202,192.15555011038202,192.1555501101613,192.15555011038202,192.10802737412632],\"type\":\"scatter\",\"xaxis\":\"x11\",\"yaxis\":\"y11\"},{\"hovertemplate\":\"%{text}\",\"text\":[\"<br>Git Hash: f63afc9</br>\\n<a hfref=https://github.com/ComputationalPhysiology/simcardems/commit/f63afc9>Link to commit </a><br>Version: 2022.3.0</br>\\n<br>Timestamp 2022-10-06</br>\",\"<br>Git Hash: 630ed09</br>\\n<a hfref=https://github.com/ComputationalPhysiology/simcardems/commit/630ed09>Link to commit </a><br>Version: 2022.3.0</br>\\n<br>Timestamp 2022-10-06</br>\",\"<br>Git Hash: 4d3a653</br>\\n<a hfref=https://github.com/ComputationalPhysiology/simcardems/commit/4d3a653>Link to commit </a><br>Version: 2022.3.0</br>\\n<br>Timestamp 2022-10-06</br>\",\"<br>Git Hash: 0c195ff</br>\\n<a hfref=https://github.com/ComputationalPhysiology/simcardems/commit/0c195ff>Link to commit </a><br>Version: 2022.3.0</br>\\n<br>Timestamp 2022-10-06</br>\",\"<br>Git Hash: c7df02b</br>\\n<a hfref=https://github.com/ComputationalPhysiology/simcardems/commit/c7df02b>Link to commit </a><br>Version: 2022.3.0</br>\\n<br>Timestamp 2022-10-06</br>\",\"<br>Git Hash: cf7cc9d</br>\\n<a hfref=https://github.com/ComputationalPhysiology/simcardems/commit/cf7cc9d>Link to commit </a><br>Version: 2022.3.0</br>\\n<br>Timestamp 2022-10-06</br>\",\"<br>Git Hash: d5edd92</br>\\n<a hfref=https://github.com/ComputationalPhysiology/simcardems/commit/d5edd92>Link to commit </a><br>Version: 2022.3.0</br>\\n<br>Timestamp 2022-10-07</br>\"],\"x\":[\"2022-10-06T16:25:06.830650\",\"2022-10-06T16:55:04.711879\",\"2022-10-06T20:09:07.230901\",\"2022-10-06T20:19:12.227464\",\"2022-10-06T20:28:25.015389\",\"2022-10-06T20:32:00.361561\",\"2022-10-07T06:42:09.101000\"],\"y\":[-108.48388046370579,-108.48388046376431,-108.48388046370579,-108.48388046370579,-108.48388046360921,-108.48388046370579,-108.5093305773544],\"type\":\"scatter\",\"xaxis\":\"x15\",\"yaxis\":\"y15\"},{\"hovertemplate\":\"%{text}\",\"text\":[\"<br>Git Hash: f63afc9</br>\\n<a hfref=https://github.com/ComputationalPhysiology/simcardems/commit/f63afc9>Link to commit </a><br>Version: 2022.3.0</br>\\n<br>Timestamp 2022-10-06</br>\",\"<br>Git Hash: 630ed09</br>\\n<a hfref=https://github.com/ComputationalPhysiology/simcardems/commit/630ed09>Link to commit </a><br>Version: 2022.3.0</br>\\n<br>Timestamp 2022-10-06</br>\",\"<br>Git Hash: 4d3a653</br>\\n<a hfref=https://github.com/ComputationalPhysiology/simcardems/commit/4d3a653>Link to commit </a><br>Version: 2022.3.0</br>\\n<br>Timestamp 2022-10-06</br>\",\"<br>Git Hash: 0c195ff</br>\\n<a hfref=https://github.com/ComputationalPhysiology/simcardems/commit/0c195ff>Link to commit </a><br>Version: 2022.3.0</br>\\n<br>Timestamp 2022-10-06</br>\",\"<br>Git Hash: c7df02b</br>\\n<a hfref=https://github.com/ComputationalPhysiology/simcardems/commit/c7df02b>Link to commit </a><br>Version: 2022.3.0</br>\\n<br>Timestamp 2022-10-06</br>\",\"<br>Git Hash: cf7cc9d</br>\\n<a hfref=https://github.com/ComputationalPhysiology/simcardems/commit/cf7cc9d>Link to commit </a><br>Version: 2022.3.0</br>\\n<br>Timestamp 2022-10-06</br>\",\"<br>Git Hash: d5edd92</br>\\n<a hfref=https://github.com/ComputationalPhysiology/simcardems/commit/d5edd92>Link to commit </a><br>Version: 2022.3.0</br>\\n<br>Timestamp 2022-10-07</br>\"],\"x\":[\"2022-10-06T16:25:06.830650\",\"2022-10-06T16:55:04.711879\",\"2022-10-06T20:09:07.230901\",\"2022-10-06T20:19:12.227464\",\"2022-10-06T20:28:25.015389\",\"2022-10-06T20:32:00.361561\",\"2022-10-07T06:42:09.101000\"],\"y\":[0.08640592019796726,0.08640592019545741,0.08640592019796726,0.08640592019796726,0.08640592020231393,0.08640592019796726,0.08617224657688557],\"type\":\"scatter\",\"xaxis\":\"x19\",\"yaxis\":\"y19\"},{\"hovertemplate\":\"%{text}\",\"text\":[\"<br>Git Hash: f63afc9</br>\\n<a hfref=https://github.com/ComputationalPhysiology/simcardems/commit/f63afc9>Link to commit </a><br>Version: 2022.3.0</br>\\n<br>Timestamp 2022-10-06</br>\",\"<br>Git Hash: 630ed09</br>\\n<a hfref=https://github.com/ComputationalPhysiology/simcardems/commit/630ed09>Link to commit </a><br>Version: 2022.3.0</br>\\n<br>Timestamp 2022-10-06</br>\",\"<br>Git Hash: 4d3a653</br>\\n<a hfref=https://github.com/ComputationalPhysiology/simcardems/commit/4d3a653>Link to commit </a><br>Version: 2022.3.0</br>\\n<br>Timestamp 2022-10-06</br>\",\"<br>Git Hash: 0c195ff</br>\\n<a hfref=https://github.com/ComputationalPhysiology/simcardems/commit/0c195ff>Link to commit </a><br>Version: 2022.3.0</br>\\n<br>Timestamp 2022-10-06</br>\",\"<br>Git Hash: c7df02b</br>\\n<a hfref=https://github.com/ComputationalPhysiology/simcardems/commit/c7df02b>Link to commit </a><br>Version: 2022.3.0</br>\\n<br>Timestamp 2022-10-06</br>\",\"<br>Git Hash: cf7cc9d</br>\\n<a hfref=https://github.com/ComputationalPhysiology/simcardems/commit/cf7cc9d>Link to commit </a><br>Version: 2022.3.0</br>\\n<br>Timestamp 2022-10-06</br>\",\"<br>Git Hash: d5edd92</br>\\n<a hfref=https://github.com/ComputationalPhysiology/simcardems/commit/d5edd92>Link to commit </a><br>Version: 2022.3.0</br>\\n<br>Timestamp 2022-10-07</br>\"],\"x\":[\"2022-10-06T16:25:06.830650\",\"2022-10-06T16:55:04.711879\",\"2022-10-06T20:09:07.230901\",\"2022-10-06T20:19:12.227464\",\"2022-10-06T20:28:25.015389\",\"2022-10-06T20:32:00.361561\",\"2022-10-07T06:42:09.101000\"],\"y\":[0.08640592019796726,0.08640592019545741,0.08640592019796726,0.08640592019796726,0.08640592020231393,0.08640592019796726,0.08617224657688557],\"type\":\"scatter\",\"xaxis\":\"x23\",\"yaxis\":\"y23\"},{\"hovertemplate\":\"%{text}\",\"text\":[\"<br>Git Hash: f63afc9</br>\\n<a hfref=https://github.com/ComputationalPhysiology/simcardems/commit/f63afc9>Link to commit </a><br>Version: 2022.3.0</br>\\n<br>Timestamp 2022-10-06</br>\",\"<br>Git Hash: 630ed09</br>\\n<a hfref=https://github.com/ComputationalPhysiology/simcardems/commit/630ed09>Link to commit </a><br>Version: 2022.3.0</br>\\n<br>Timestamp 2022-10-06</br>\",\"<br>Git Hash: 4d3a653</br>\\n<a hfref=https://github.com/ComputationalPhysiology/simcardems/commit/4d3a653>Link to commit </a><br>Version: 2022.3.0</br>\\n<br>Timestamp 2022-10-06</br>\",\"<br>Git Hash: 0c195ff</br>\\n<a hfref=https://github.com/ComputationalPhysiology/simcardems/commit/0c195ff>Link to commit </a><br>Version: 2022.3.0</br>\\n<br>Timestamp 2022-10-06</br>\",\"<br>Git Hash: c7df02b</br>\\n<a hfref=https://github.com/ComputationalPhysiology/simcardems/commit/c7df02b>Link to commit </a><br>Version: 2022.3.0</br>\\n<br>Timestamp 2022-10-06</br>\",\"<br>Git Hash: cf7cc9d</br>\\n<a hfref=https://github.com/ComputationalPhysiology/simcardems/commit/cf7cc9d>Link to commit </a><br>Version: 2022.3.0</br>\\n<br>Timestamp 2022-10-06</br>\",\"<br>Git Hash: d5edd92</br>\\n<a hfref=https://github.com/ComputationalPhysiology/simcardems/commit/d5edd92>Link to commit </a><br>Version: 2022.3.0</br>\\n<br>Timestamp 2022-10-07</br>\"],\"x\":[\"2022-10-06T16:25:06.830650\",\"2022-10-06T16:55:04.711879\",\"2022-10-06T20:09:07.230901\",\"2022-10-06T20:19:12.227464\",\"2022-10-06T20:28:25.015389\",\"2022-10-06T20:32:00.361561\",\"2022-10-07T06:42:09.101000\"],\"y\":[0.4320296009898363,0.43202960097728704,0.4320296009898363,0.4320296009898363,0.4320296010115697,0.4320296009898363,0.4308612328844279],\"type\":\"scatter\",\"xaxis\":\"x27\",\"yaxis\":\"y27\"},{\"hovertemplate\":\"%{text}\",\"text\":[\"<br>Git Hash: f63afc9</br>\\n<a hfref=https://github.com/ComputationalPhysiology/simcardems/commit/f63afc9>Link to commit </a><br>Version: 2022.3.0</br>\\n<br>Timestamp 2022-10-06</br>\",\"<br>Git Hash: 630ed09</br>\\n<a hfref=https://github.com/ComputationalPhysiology/simcardems/commit/630ed09>Link to commit </a><br>Version: 2022.3.0</br>\\n<br>Timestamp 2022-10-06</br>\",\"<br>Git Hash: 4d3a653</br>\\n<a hfref=https://github.com/ComputationalPhysiology/simcardems/commit/4d3a653>Link to commit </a><br>Version: 2022.3.0</br>\\n<br>Timestamp 2022-10-06</br>\",\"<br>Git Hash: 0c195ff</br>\\n<a hfref=https://github.com/ComputationalPhysiology/simcardems/commit/0c195ff>Link to commit </a><br>Version: 2022.3.0</br>\\n<br>Timestamp 2022-10-06</br>\",\"<br>Git Hash: c7df02b</br>\\n<a hfref=https://github.com/ComputationalPhysiology/simcardems/commit/c7df02b>Link to commit </a><br>Version: 2022.3.0</br>\\n<br>Timestamp 2022-10-06</br>\",\"<br>Git Hash: cf7cc9d</br>\\n<a hfref=https://github.com/ComputationalPhysiology/simcardems/commit/cf7cc9d>Link to commit </a><br>Version: 2022.3.0</br>\\n<br>Timestamp 2022-10-06</br>\",\"<br>Git Hash: d5edd92</br>\\n<a hfref=https://github.com/ComputationalPhysiology/simcardems/commit/d5edd92>Link to commit </a><br>Version: 2022.3.0</br>\\n<br>Timestamp 2022-10-07</br>\"],\"x\":[\"2022-10-06T16:25:06.830650\",\"2022-10-06T16:55:04.711879\",\"2022-10-06T20:09:07.230901\",\"2022-10-06T20:19:12.227464\",\"2022-10-06T20:28:25.015389\",\"2022-10-06T20:32:00.361561\",\"2022-10-07T06:42:09.101000\"],\"y\":[0.4339041955545689,0.43390419554191045,0.4339041955545689,0.4339041955545689,0.43390419557649124,0.4339041955545689,0.4327256800846482],\"type\":\"scatter\",\"xaxis\":\"x31\",\"yaxis\":\"y31\"},{\"hovertemplate\":\"%{text}\",\"text\":[\"<br>Git Hash: f63afc9</br>\\n<a hfref=https://github.com/ComputationalPhysiology/simcardems/commit/f63afc9>Link to commit </a><br>Version: 2022.3.0</br>\\n<br>Timestamp 2022-10-06</br>\",\"<br>Git Hash: 630ed09</br>\\n<a hfref=https://github.com/ComputationalPhysiology/simcardems/commit/630ed09>Link to commit </a><br>Version: 2022.3.0</br>\\n<br>Timestamp 2022-10-06</br>\",\"<br>Git Hash: 4d3a653</br>\\n<a hfref=https://github.com/ComputationalPhysiology/simcardems/commit/4d3a653>Link to commit </a><br>Version: 2022.3.0</br>\\n<br>Timestamp 2022-10-06</br>\",\"<br>Git Hash: 0c195ff</br>\\n<a hfref=https://github.com/ComputationalPhysiology/simcardems/commit/0c195ff>Link to commit </a><br>Version: 2022.3.0</br>\\n<br>Timestamp 2022-10-06</br>\",\"<br>Git Hash: c7df02b</br>\\n<a hfref=https://github.com/ComputationalPhysiology/simcardems/commit/c7df02b>Link to commit </a><br>Version: 2022.3.0</br>\\n<br>Timestamp 2022-10-06</br>\",\"<br>Git Hash: cf7cc9d</br>\\n<a hfref=https://github.com/ComputationalPhysiology/simcardems/commit/cf7cc9d>Link to commit </a><br>Version: 2022.3.0</br>\\n<br>Timestamp 2022-10-06</br>\",\"<br>Git Hash: d5edd92</br>\\n<a hfref=https://github.com/ComputationalPhysiology/simcardems/commit/d5edd92>Link to commit </a><br>Version: 2022.3.0</br>\\n<br>Timestamp 2022-10-07</br>\"],\"x\":[\"2022-10-06T16:25:06.830650\",\"2022-10-06T16:55:04.711879\",\"2022-10-06T20:09:07.230901\",\"2022-10-06T20:19:12.227464\",\"2022-10-06T20:28:25.015389\",\"2022-10-06T20:32:00.361561\",\"2022-10-07T06:42:09.101000\"],\"y\":[0.05,0.05,0.05,0.05,0.05,0.05,0.05],\"type\":\"scatter\",\"xaxis\":\"x35\",\"yaxis\":\"y35\"},{\"hovertemplate\":\"%{text}\",\"text\":[\"<br>Git Hash: f63afc9</br>\\n<a hfref=https://github.com/ComputationalPhysiology/simcardems/commit/f63afc9>Link to commit </a><br>Version: 2022.3.0</br>\\n<br>Timestamp 2022-10-06</br>\",\"<br>Git Hash: 630ed09</br>\\n<a hfref=https://github.com/ComputationalPhysiology/simcardems/commit/630ed09>Link to commit </a><br>Version: 2022.3.0</br>\\n<br>Timestamp 2022-10-06</br>\",\"<br>Git Hash: 4d3a653</br>\\n<a hfref=https://github.com/ComputationalPhysiology/simcardems/commit/4d3a653>Link to commit </a><br>Version: 2022.3.0</br>\\n<br>Timestamp 2022-10-06</br>\",\"<br>Git Hash: 0c195ff</br>\\n<a hfref=https://github.com/ComputationalPhysiology/simcardems/commit/0c195ff>Link to commit </a><br>Version: 2022.3.0</br>\\n<br>Timestamp 2022-10-06</br>\",\"<br>Git Hash: c7df02b</br>\\n<a hfref=https://github.com/ComputationalPhysiology/simcardems/commit/c7df02b>Link to commit </a><br>Version: 2022.3.0</br>\\n<br>Timestamp 2022-10-06</br>\",\"<br>Git Hash: cf7cc9d</br>\\n<a hfref=https://github.com/ComputationalPhysiology/simcardems/commit/cf7cc9d>Link to commit </a><br>Version: 2022.3.0</br>\\n<br>Timestamp 2022-10-06</br>\",\"<br>Git Hash: d5edd92</br>\\n<a hfref=https://github.com/ComputationalPhysiology/simcardems/commit/d5edd92>Link to commit </a><br>Version: 2022.3.0</br>\\n<br>Timestamp 2022-10-07</br>\"],\"x\":[\"2022-10-06T16:25:06.830650\",\"2022-10-06T16:55:04.711879\",\"2022-10-06T20:09:07.230901\",\"2022-10-06T20:19:12.227464\",\"2022-10-06T20:28:25.015389\",\"2022-10-06T20:32:00.361561\",\"2022-10-07T06:42:09.101000\"],\"y\":[0.0,0.0,0.0,0.0,0.0,0.0,0.0],\"type\":\"scatter\",\"xaxis\":\"x39\",\"yaxis\":\"y39\"},{\"hovertemplate\":\"%{text}\",\"text\":[\"<br>Git Hash: f63afc9</br>\\n<a hfref=https://github.com/ComputationalPhysiology/simcardems/commit/f63afc9>Link to commit </a><br>Version: 2022.3.0</br>\\n<br>Timestamp 2022-10-06</br>\",\"<br>Git Hash: 630ed09</br>\\n<a hfref=https://github.com/ComputationalPhysiology/simcardems/commit/630ed09>Link to commit </a><br>Version: 2022.3.0</br>\\n<br>Timestamp 2022-10-06</br>\",\"<br>Git Hash: 4d3a653</br>\\n<a hfref=https://github.com/ComputationalPhysiology/simcardems/commit/4d3a653>Link to commit </a><br>Version: 2022.3.0</br>\\n<br>Timestamp 2022-10-06</br>\",\"<br>Git Hash: 0c195ff</br>\\n<a hfref=https://github.com/ComputationalPhysiology/simcardems/commit/0c195ff>Link to commit </a><br>Version: 2022.3.0</br>\\n<br>Timestamp 2022-10-06</br>\",\"<br>Git Hash: c7df02b</br>\\n<a hfref=https://github.com/ComputationalPhysiology/simcardems/commit/c7df02b>Link to commit </a><br>Version: 2022.3.0</br>\\n<br>Timestamp 2022-10-06</br>\",\"<br>Git Hash: cf7cc9d</br>\\n<a hfref=https://github.com/ComputationalPhysiology/simcardems/commit/cf7cc9d>Link to commit </a><br>Version: 2022.3.0</br>\\n<br>Timestamp 2022-10-06</br>\",\"<br>Git Hash: d5edd92</br>\\n<a hfref=https://github.com/ComputationalPhysiology/simcardems/commit/d5edd92>Link to commit </a><br>Version: 2022.3.0</br>\\n<br>Timestamp 2022-10-07</br>\"],\"x\":[\"2022-10-06T16:25:06.830650\",\"2022-10-06T16:55:04.711879\",\"2022-10-06T20:09:07.230901\",\"2022-10-06T20:19:12.227464\",\"2022-10-06T20:28:25.015389\",\"2022-10-06T20:32:00.361561\",\"2022-10-07T06:42:09.101000\"],\"y\":[0.049886481285873724,0.049886481284424654,0.049886481285873724,0.049886481285873724,0.049886481288383265,0.049886481285873724,0.049751569757839696],\"type\":\"scatter\",\"xaxis\":\"x43\",\"yaxis\":\"y43\"},{\"hovertemplate\":\"%{text}\",\"text\":[\"<br>Git Hash: f63afc9</br>\\n<a hfref=https://github.com/ComputationalPhysiology/simcardems/commit/f63afc9>Link to commit </a><br>Version: 2022.3.0</br>\\n<br>Timestamp 2022-10-06</br>\",\"<br>Git Hash: 630ed09</br>\\n<a hfref=https://github.com/ComputationalPhysiology/simcardems/commit/630ed09>Link to commit </a><br>Version: 2022.3.0</br>\\n<br>Timestamp 2022-10-06</br>\",\"<br>Git Hash: 4d3a653</br>\\n<a hfref=https://github.com/ComputationalPhysiology/simcardems/commit/4d3a653>Link to commit </a><br>Version: 2022.3.0</br>\\n<br>Timestamp 2022-10-06</br>\",\"<br>Git Hash: 0c195ff</br>\\n<a hfref=https://github.com/ComputationalPhysiology/simcardems/commit/0c195ff>Link to commit </a><br>Version: 2022.3.0</br>\\n<br>Timestamp 2022-10-06</br>\",\"<br>Git Hash: c7df02b</br>\\n<a hfref=https://github.com/ComputationalPhysiology/simcardems/commit/c7df02b>Link to commit </a><br>Version: 2022.3.0</br>\\n<br>Timestamp 2022-10-06</br>\",\"<br>Git Hash: cf7cc9d</br>\\n<a hfref=https://github.com/ComputationalPhysiology/simcardems/commit/cf7cc9d>Link to commit </a><br>Version: 2022.3.0</br>\\n<br>Timestamp 2022-10-06</br>\",\"<br>Git Hash: d5edd92</br>\\n<a hfref=https://github.com/ComputationalPhysiology/simcardems/commit/d5edd92>Link to commit </a><br>Version: 2022.3.0</br>\\n<br>Timestamp 2022-10-07</br>\"],\"x\":[\"2022-10-06T16:25:06.830650\",\"2022-10-06T16:55:04.711879\",\"2022-10-06T20:09:07.230901\",\"2022-10-06T20:19:12.227464\",\"2022-10-06T20:28:25.015389\",\"2022-10-06T20:32:00.361561\",\"2022-10-07T06:42:09.101000\"],\"y\":[0.0,0.0,0.0,0.0,0.0,0.0,0.0],\"type\":\"scatter\",\"xaxis\":\"x47\",\"yaxis\":\"y47\"},{\"hovertemplate\":\"%{text}\",\"text\":[\"<br>Git Hash: f63afc9</br>\\n<a hfref=https://github.com/ComputationalPhysiology/simcardems/commit/f63afc9>Link to commit </a><br>Version: 2022.3.0</br>\\n<br>Timestamp 2022-10-06</br>\",\"<br>Git Hash: 630ed09</br>\\n<a hfref=https://github.com/ComputationalPhysiology/simcardems/commit/630ed09>Link to commit </a><br>Version: 2022.3.0</br>\\n<br>Timestamp 2022-10-06</br>\",\"<br>Git Hash: 4d3a653</br>\\n<a hfref=https://github.com/ComputationalPhysiology/simcardems/commit/4d3a653>Link to commit </a><br>Version: 2022.3.0</br>\\n<br>Timestamp 2022-10-06</br>\",\"<br>Git Hash: 0c195ff</br>\\n<a hfref=https://github.com/ComputationalPhysiology/simcardems/commit/0c195ff>Link to commit </a><br>Version: 2022.3.0</br>\\n<br>Timestamp 2022-10-06</br>\",\"<br>Git Hash: c7df02b</br>\\n<a hfref=https://github.com/ComputationalPhysiology/simcardems/commit/c7df02b>Link to commit </a><br>Version: 2022.3.0</br>\\n<br>Timestamp 2022-10-06</br>\",\"<br>Git Hash: cf7cc9d</br>\\n<a hfref=https://github.com/ComputationalPhysiology/simcardems/commit/cf7cc9d>Link to commit </a><br>Version: 2022.3.0</br>\\n<br>Timestamp 2022-10-06</br>\",\"<br>Git Hash: d5edd92</br>\\n<a hfref=https://github.com/ComputationalPhysiology/simcardems/commit/d5edd92>Link to commit </a><br>Version: 2022.3.0</br>\\n<br>Timestamp 2022-10-07</br>\"],\"x\":[\"2022-10-06T16:25:06.830650\",\"2022-10-06T16:55:04.711879\",\"2022-10-06T20:09:07.230901\",\"2022-10-06T20:19:12.227464\",\"2022-10-06T20:28:25.015389\",\"2022-10-06T20:32:00.361561\",\"2022-10-07T06:42:09.101000\"],\"y\":[0.24943240642936862,0.24943240642212325,0.24943240642936862,0.24943240642936862,0.2494324064419163,0.24943240642936862,0.24875784878919846],\"type\":\"scatter\",\"xaxis\":\"x4\",\"yaxis\":\"y4\"},{\"hovertemplate\":\"%{text}\",\"text\":[\"<br>Git Hash: f63afc9</br>\\n<a hfref=https://github.com/ComputationalPhysiology/simcardems/commit/f63afc9>Link to commit </a><br>Version: 2022.3.0</br>\\n<br>Timestamp 2022-10-06</br>\",\"<br>Git Hash: 630ed09</br>\\n<a hfref=https://github.com/ComputationalPhysiology/simcardems/commit/630ed09>Link to commit </a><br>Version: 2022.3.0</br>\\n<br>Timestamp 2022-10-06</br>\",\"<br>Git Hash: 4d3a653</br>\\n<a hfref=https://github.com/ComputationalPhysiology/simcardems/commit/4d3a653>Link to commit </a><br>Version: 2022.3.0</br>\\n<br>Timestamp 2022-10-06</br>\",\"<br>Git Hash: 0c195ff</br>\\n<a hfref=https://github.com/ComputationalPhysiology/simcardems/commit/0c195ff>Link to commit </a><br>Version: 2022.3.0</br>\\n<br>Timestamp 2022-10-06</br>\",\"<br>Git Hash: c7df02b</br>\\n<a hfref=https://github.com/ComputationalPhysiology/simcardems/commit/c7df02b>Link to commit </a><br>Version: 2022.3.0</br>\\n<br>Timestamp 2022-10-06</br>\",\"<br>Git Hash: cf7cc9d</br>\\n<a hfref=https://github.com/ComputationalPhysiology/simcardems/commit/cf7cc9d>Link to commit </a><br>Version: 2022.3.0</br>\\n<br>Timestamp 2022-10-06</br>\",\"<br>Git Hash: d5edd92</br>\\n<a hfref=https://github.com/ComputationalPhysiology/simcardems/commit/d5edd92>Link to commit </a><br>Version: 2022.3.0</br>\\n<br>Timestamp 2022-10-07</br>\"],\"x\":[\"2022-10-06T16:25:06.830650\",\"2022-10-06T16:55:04.711879\",\"2022-10-06T20:09:07.230901\",\"2022-10-06T20:19:12.227464\",\"2022-10-06T20:28:25.015389\",\"2022-10-06T20:32:00.361561\",\"2022-10-07T06:42:09.101000\"],\"y\":[138.05,138.05,138.05,138.05,138.05,138.05,138.05],\"type\":\"scatter\",\"xaxis\":\"x8\",\"yaxis\":\"y8\"},{\"hovertemplate\":\"%{text}\",\"text\":[\"<br>Git Hash: f63afc9</br>\\n<a hfref=https://github.com/ComputationalPhysiology/simcardems/commit/f63afc9>Link to commit </a><br>Version: 2022.3.0</br>\\n<br>Timestamp 2022-10-06</br>\",\"<br>Git Hash: 630ed09</br>\\n<a hfref=https://github.com/ComputationalPhysiology/simcardems/commit/630ed09>Link to commit </a><br>Version: 2022.3.0</br>\\n<br>Timestamp 2022-10-06</br>\",\"<br>Git Hash: 4d3a653</br>\\n<a hfref=https://github.com/ComputationalPhysiology/simcardems/commit/4d3a653>Link to commit </a><br>Version: 2022.3.0</br>\\n<br>Timestamp 2022-10-06</br>\",\"<br>Git Hash: 0c195ff</br>\\n<a hfref=https://github.com/ComputationalPhysiology/simcardems/commit/0c195ff>Link to commit </a><br>Version: 2022.3.0</br>\\n<br>Timestamp 2022-10-06</br>\",\"<br>Git Hash: c7df02b</br>\\n<a hfref=https://github.com/ComputationalPhysiology/simcardems/commit/c7df02b>Link to commit </a><br>Version: 2022.3.0</br>\\n<br>Timestamp 2022-10-06</br>\",\"<br>Git Hash: cf7cc9d</br>\\n<a hfref=https://github.com/ComputationalPhysiology/simcardems/commit/cf7cc9d>Link to commit </a><br>Version: 2022.3.0</br>\\n<br>Timestamp 2022-10-06</br>\",\"<br>Git Hash: d5edd92</br>\\n<a hfref=https://github.com/ComputationalPhysiology/simcardems/commit/d5edd92>Link to commit </a><br>Version: 2022.3.0</br>\\n<br>Timestamp 2022-10-07</br>\"],\"x\":[\"2022-10-06T16:25:06.830650\",\"2022-10-06T16:55:04.711879\",\"2022-10-06T20:09:07.230901\",\"2022-10-06T20:19:12.227464\",\"2022-10-06T20:28:25.015389\",\"2022-10-06T20:32:00.361561\",\"2022-10-07T06:42:09.101000\"],\"y\":[0.0,0.0,0.0,0.0,0.0,0.0,0.0],\"type\":\"scatter\",\"xaxis\":\"x12\",\"yaxis\":\"y12\"},{\"hovertemplate\":\"%{text}\",\"text\":[\"<br>Git Hash: f63afc9</br>\\n<a hfref=https://github.com/ComputationalPhysiology/simcardems/commit/f63afc9>Link to commit </a><br>Version: 2022.3.0</br>\\n<br>Timestamp 2022-10-06</br>\",\"<br>Git Hash: 630ed09</br>\\n<a hfref=https://github.com/ComputationalPhysiology/simcardems/commit/630ed09>Link to commit </a><br>Version: 2022.3.0</br>\\n<br>Timestamp 2022-10-06</br>\",\"<br>Git Hash: 4d3a653</br>\\n<a hfref=https://github.com/ComputationalPhysiology/simcardems/commit/4d3a653>Link to commit </a><br>Version: 2022.3.0</br>\\n<br>Timestamp 2022-10-06</br>\",\"<br>Git Hash: 0c195ff</br>\\n<a hfref=https://github.com/ComputationalPhysiology/simcardems/commit/0c195ff>Link to commit </a><br>Version: 2022.3.0</br>\\n<br>Timestamp 2022-10-06</br>\",\"<br>Git Hash: c7df02b</br>\\n<a hfref=https://github.com/ComputationalPhysiology/simcardems/commit/c7df02b>Link to commit </a><br>Version: 2022.3.0</br>\\n<br>Timestamp 2022-10-06</br>\",\"<br>Git Hash: cf7cc9d</br>\\n<a hfref=https://github.com/ComputationalPhysiology/simcardems/commit/cf7cc9d>Link to commit </a><br>Version: 2022.3.0</br>\\n<br>Timestamp 2022-10-06</br>\",\"<br>Git Hash: d5edd92</br>\\n<a hfref=https://github.com/ComputationalPhysiology/simcardems/commit/d5edd92>Link to commit </a><br>Version: 2022.3.0</br>\\n<br>Timestamp 2022-10-07</br>\"],\"x\":[\"2022-10-06T16:25:06.830650\",\"2022-10-06T16:55:04.711879\",\"2022-10-06T20:09:07.230901\",\"2022-10-06T20:19:12.227464\",\"2022-10-06T20:28:25.015389\",\"2022-10-06T20:32:00.361561\",\"2022-10-07T06:42:09.101000\"],\"y\":[0.049886481285873724,0.049886481284424654,0.049886481285873724,0.049886481285873724,0.049886481288383265,0.049886481285873724,0.049751569757839696],\"type\":\"scatter\",\"xaxis\":\"x16\",\"yaxis\":\"y16\"},{\"hovertemplate\":\"%{text}\",\"text\":[\"<br>Git Hash: f63afc9</br>\\n<a hfref=https://github.com/ComputationalPhysiology/simcardems/commit/f63afc9>Link to commit </a><br>Version: 2022.3.0</br>\\n<br>Timestamp 2022-10-06</br>\",\"<br>Git Hash: 630ed09</br>\\n<a hfref=https://github.com/ComputationalPhysiology/simcardems/commit/630ed09>Link to commit </a><br>Version: 2022.3.0</br>\\n<br>Timestamp 2022-10-06</br>\",\"<br>Git Hash: 4d3a653</br>\\n<a hfref=https://github.com/ComputationalPhysiology/simcardems/commit/4d3a653>Link to commit </a><br>Version: 2022.3.0</br>\\n<br>Timestamp 2022-10-06</br>\",\"<br>Git Hash: 0c195ff</br>\\n<a hfref=https://github.com/ComputationalPhysiology/simcardems/commit/0c195ff>Link to commit </a><br>Version: 2022.3.0</br>\\n<br>Timestamp 2022-10-06</br>\",\"<br>Git Hash: c7df02b</br>\\n<a hfref=https://github.com/ComputationalPhysiology/simcardems/commit/c7df02b>Link to commit </a><br>Version: 2022.3.0</br>\\n<br>Timestamp 2022-10-06</br>\",\"<br>Git Hash: cf7cc9d</br>\\n<a hfref=https://github.com/ComputationalPhysiology/simcardems/commit/cf7cc9d>Link to commit </a><br>Version: 2022.3.0</br>\\n<br>Timestamp 2022-10-06</br>\",\"<br>Git Hash: d5edd92</br>\\n<a hfref=https://github.com/ComputationalPhysiology/simcardems/commit/d5edd92>Link to commit </a><br>Version: 2022.3.0</br>\\n<br>Timestamp 2022-10-07</br>\"],\"x\":[\"2022-10-06T16:25:06.830650\",\"2022-10-06T16:55:04.711879\",\"2022-10-06T20:09:07.230901\",\"2022-10-06T20:19:12.227464\",\"2022-10-06T20:28:25.015389\",\"2022-10-06T20:32:00.361561\",\"2022-10-07T06:42:09.101000\"],\"y\":[0.0,0.0,0.0,0.0,0.0,0.0,0.0],\"type\":\"scatter\",\"xaxis\":\"x20\",\"yaxis\":\"y20\"},{\"hovertemplate\":\"%{text}\",\"text\":[\"<br>Git Hash: f63afc9</br>\\n<a hfref=https://github.com/ComputationalPhysiology/simcardems/commit/f63afc9>Link to commit </a><br>Version: 2022.3.0</br>\\n<br>Timestamp 2022-10-06</br>\",\"<br>Git Hash: 630ed09</br>\\n<a hfref=https://github.com/ComputationalPhysiology/simcardems/commit/630ed09>Link to commit </a><br>Version: 2022.3.0</br>\\n<br>Timestamp 2022-10-06</br>\",\"<br>Git Hash: 4d3a653</br>\\n<a hfref=https://github.com/ComputationalPhysiology/simcardems/commit/4d3a653>Link to commit </a><br>Version: 2022.3.0</br>\\n<br>Timestamp 2022-10-06</br>\",\"<br>Git Hash: 0c195ff</br>\\n<a hfref=https://github.com/ComputationalPhysiology/simcardems/commit/0c195ff>Link to commit </a><br>Version: 2022.3.0</br>\\n<br>Timestamp 2022-10-06</br>\",\"<br>Git Hash: c7df02b</br>\\n<a hfref=https://github.com/ComputationalPhysiology/simcardems/commit/c7df02b>Link to commit </a><br>Version: 2022.3.0</br>\\n<br>Timestamp 2022-10-06</br>\",\"<br>Git Hash: cf7cc9d</br>\\n<a hfref=https://github.com/ComputationalPhysiology/simcardems/commit/cf7cc9d>Link to commit </a><br>Version: 2022.3.0</br>\\n<br>Timestamp 2022-10-06</br>\",\"<br>Git Hash: d5edd92</br>\\n<a hfref=https://github.com/ComputationalPhysiology/simcardems/commit/d5edd92>Link to commit </a><br>Version: 2022.3.0</br>\\n<br>Timestamp 2022-10-07</br>\"],\"x\":[\"2022-10-06T16:25:06.830650\",\"2022-10-06T16:55:04.711879\",\"2022-10-06T20:09:07.230901\",\"2022-10-06T20:19:12.227464\",\"2022-10-06T20:28:25.015389\",\"2022-10-06T20:32:00.361561\",\"2022-10-07T06:42:09.101000\"],\"y\":[0.24943240642936862,0.24943240642212325,0.24943240642936862,0.24943240642936862,0.2494324064419163,0.24943240642936862,0.24875784878919846],\"type\":\"scatter\",\"xaxis\":\"x24\",\"yaxis\":\"y24\"},{\"hovertemplate\":\"%{text}\",\"text\":[\"<br>Git Hash: f63afc9</br>\\n<a hfref=https://github.com/ComputationalPhysiology/simcardems/commit/f63afc9>Link to commit </a><br>Version: 2022.3.0</br>\\n<br>Timestamp 2022-10-06</br>\",\"<br>Git Hash: 630ed09</br>\\n<a hfref=https://github.com/ComputationalPhysiology/simcardems/commit/630ed09>Link to commit </a><br>Version: 2022.3.0</br>\\n<br>Timestamp 2022-10-06</br>\",\"<br>Git Hash: 4d3a653</br>\\n<a hfref=https://github.com/ComputationalPhysiology/simcardems/commit/4d3a653>Link to commit </a><br>Version: 2022.3.0</br>\\n<br>Timestamp 2022-10-06</br>\",\"<br>Git Hash: 0c195ff</br>\\n<a hfref=https://github.com/ComputationalPhysiology/simcardems/commit/0c195ff>Link to commit </a><br>Version: 2022.3.0</br>\\n<br>Timestamp 2022-10-06</br>\",\"<br>Git Hash: c7df02b</br>\\n<a hfref=https://github.com/ComputationalPhysiology/simcardems/commit/c7df02b>Link to commit </a><br>Version: 2022.3.0</br>\\n<br>Timestamp 2022-10-06</br>\",\"<br>Git Hash: cf7cc9d</br>\\n<a hfref=https://github.com/ComputationalPhysiology/simcardems/commit/cf7cc9d>Link to commit </a><br>Version: 2022.3.0</br>\\n<br>Timestamp 2022-10-06</br>\",\"<br>Git Hash: d5edd92</br>\\n<a hfref=https://github.com/ComputationalPhysiology/simcardems/commit/d5edd92>Link to commit </a><br>Version: 2022.3.0</br>\\n<br>Timestamp 2022-10-07</br>\"],\"x\":[\"2022-10-06T16:25:06.830650\",\"2022-10-06T16:55:04.711879\",\"2022-10-06T20:09:07.230901\",\"2022-10-06T20:19:12.227464\",\"2022-10-06T20:28:25.015389\",\"2022-10-06T20:32:00.361561\",\"2022-10-07T06:42:09.101000\"],\"y\":[138.05,138.05,138.05,138.05,138.05,138.05,138.05],\"type\":\"scatter\",\"xaxis\":\"x28\",\"yaxis\":\"y28\"},{\"hovertemplate\":\"%{text}\",\"text\":[\"<br>Git Hash: f63afc9</br>\\n<a hfref=https://github.com/ComputationalPhysiology/simcardems/commit/f63afc9>Link to commit </a><br>Version: 2022.3.0</br>\\n<br>Timestamp 2022-10-06</br>\",\"<br>Git Hash: 630ed09</br>\\n<a hfref=https://github.com/ComputationalPhysiology/simcardems/commit/630ed09>Link to commit </a><br>Version: 2022.3.0</br>\\n<br>Timestamp 2022-10-06</br>\",\"<br>Git Hash: 4d3a653</br>\\n<a hfref=https://github.com/ComputationalPhysiology/simcardems/commit/4d3a653>Link to commit </a><br>Version: 2022.3.0</br>\\n<br>Timestamp 2022-10-06</br>\",\"<br>Git Hash: 0c195ff</br>\\n<a hfref=https://github.com/ComputationalPhysiology/simcardems/commit/0c195ff>Link to commit </a><br>Version: 2022.3.0</br>\\n<br>Timestamp 2022-10-06</br>\",\"<br>Git Hash: c7df02b</br>\\n<a hfref=https://github.com/ComputationalPhysiology/simcardems/commit/c7df02b>Link to commit </a><br>Version: 2022.3.0</br>\\n<br>Timestamp 2022-10-06</br>\",\"<br>Git Hash: cf7cc9d</br>\\n<a hfref=https://github.com/ComputationalPhysiology/simcardems/commit/cf7cc9d>Link to commit </a><br>Version: 2022.3.0</br>\\n<br>Timestamp 2022-10-06</br>\",\"<br>Git Hash: d5edd92</br>\\n<a hfref=https://github.com/ComputationalPhysiology/simcardems/commit/d5edd92>Link to commit </a><br>Version: 2022.3.0</br>\\n<br>Timestamp 2022-10-07</br>\"],\"x\":[\"2022-10-06T16:25:06.830650\",\"2022-10-06T16:55:04.711879\",\"2022-10-06T20:09:07.230901\",\"2022-10-06T20:19:12.227464\",\"2022-10-06T20:28:25.015389\",\"2022-10-06T20:32:00.361561\",\"2022-10-07T06:42:09.101000\"],\"y\":[0.0,0.0,0.0,0.0,0.0,0.0,0.0],\"type\":\"scatter\",\"xaxis\":\"x32\",\"yaxis\":\"y32\"},{\"hovertemplate\":\"%{text}\",\"text\":[\"<br>Git Hash: f63afc9</br>\\n<a hfref=https://github.com/ComputationalPhysiology/simcardems/commit/f63afc9>Link to commit </a><br>Version: 2022.3.0</br>\\n<br>Timestamp 2022-10-06</br>\",\"<br>Git Hash: 630ed09</br>\\n<a hfref=https://github.com/ComputationalPhysiology/simcardems/commit/630ed09>Link to commit </a><br>Version: 2022.3.0</br>\\n<br>Timestamp 2022-10-06</br>\",\"<br>Git Hash: 4d3a653</br>\\n<a hfref=https://github.com/ComputationalPhysiology/simcardems/commit/4d3a653>Link to commit </a><br>Version: 2022.3.0</br>\\n<br>Timestamp 2022-10-06</br>\",\"<br>Git Hash: 0c195ff</br>\\n<a hfref=https://github.com/ComputationalPhysiology/simcardems/commit/0c195ff>Link to commit </a><br>Version: 2022.3.0</br>\\n<br>Timestamp 2022-10-06</br>\",\"<br>Git Hash: c7df02b</br>\\n<a hfref=https://github.com/ComputationalPhysiology/simcardems/commit/c7df02b>Link to commit </a><br>Version: 2022.3.0</br>\\n<br>Timestamp 2022-10-06</br>\",\"<br>Git Hash: cf7cc9d</br>\\n<a hfref=https://github.com/ComputationalPhysiology/simcardems/commit/cf7cc9d>Link to commit </a><br>Version: 2022.3.0</br>\\n<br>Timestamp 2022-10-06</br>\",\"<br>Git Hash: d5edd92</br>\\n<a hfref=https://github.com/ComputationalPhysiology/simcardems/commit/d5edd92>Link to commit </a><br>Version: 2022.3.0</br>\\n<br>Timestamp 2022-10-07</br>\"],\"x\":[\"2022-10-06T16:25:06.830650\",\"2022-10-06T16:55:04.711879\",\"2022-10-06T20:09:07.230901\",\"2022-10-06T20:19:12.227464\",\"2022-10-06T20:28:25.015389\",\"2022-10-06T20:32:00.361561\",\"2022-10-07T06:42:09.101000\"],\"y\":[0.049886481285873724,0.049886481284424654,0.049886481285873724,0.049886481285873724,0.049886481288383265,0.049886481285873724,0.049751569757839696],\"type\":\"scatter\",\"xaxis\":\"x36\",\"yaxis\":\"y36\"},{\"hovertemplate\":\"%{text}\",\"text\":[\"<br>Git Hash: f63afc9</br>\\n<a hfref=https://github.com/ComputationalPhysiology/simcardems/commit/f63afc9>Link to commit </a><br>Version: 2022.3.0</br>\\n<br>Timestamp 2022-10-06</br>\",\"<br>Git Hash: 630ed09</br>\\n<a hfref=https://github.com/ComputationalPhysiology/simcardems/commit/630ed09>Link to commit </a><br>Version: 2022.3.0</br>\\n<br>Timestamp 2022-10-06</br>\",\"<br>Git Hash: 4d3a653</br>\\n<a hfref=https://github.com/ComputationalPhysiology/simcardems/commit/4d3a653>Link to commit </a><br>Version: 2022.3.0</br>\\n<br>Timestamp 2022-10-06</br>\",\"<br>Git Hash: 0c195ff</br>\\n<a hfref=https://github.com/ComputationalPhysiology/simcardems/commit/0c195ff>Link to commit </a><br>Version: 2022.3.0</br>\\n<br>Timestamp 2022-10-06</br>\",\"<br>Git Hash: c7df02b</br>\\n<a hfref=https://github.com/ComputationalPhysiology/simcardems/commit/c7df02b>Link to commit </a><br>Version: 2022.3.0</br>\\n<br>Timestamp 2022-10-06</br>\",\"<br>Git Hash: cf7cc9d</br>\\n<a hfref=https://github.com/ComputationalPhysiology/simcardems/commit/cf7cc9d>Link to commit </a><br>Version: 2022.3.0</br>\\n<br>Timestamp 2022-10-06</br>\",\"<br>Git Hash: d5edd92</br>\\n<a hfref=https://github.com/ComputationalPhysiology/simcardems/commit/d5edd92>Link to commit </a><br>Version: 2022.3.0</br>\\n<br>Timestamp 2022-10-07</br>\"],\"x\":[\"2022-10-06T16:25:06.830650\",\"2022-10-06T16:55:04.711879\",\"2022-10-06T20:09:07.230901\",\"2022-10-06T20:19:12.227464\",\"2022-10-06T20:28:25.015389\",\"2022-10-06T20:32:00.361561\",\"2022-10-07T06:42:09.101000\"],\"y\":[0.0,0.0,0.0,0.0,0.0,0.0,0.0],\"type\":\"scatter\",\"xaxis\":\"x40\",\"yaxis\":\"y40\"},{\"hovertemplate\":\"%{text}\",\"text\":[\"<br>Git Hash: f63afc9</br>\\n<a hfref=https://github.com/ComputationalPhysiology/simcardems/commit/f63afc9>Link to commit </a><br>Version: 2022.3.0</br>\\n<br>Timestamp 2022-10-06</br>\",\"<br>Git Hash: 630ed09</br>\\n<a hfref=https://github.com/ComputationalPhysiology/simcardems/commit/630ed09>Link to commit </a><br>Version: 2022.3.0</br>\\n<br>Timestamp 2022-10-06</br>\",\"<br>Git Hash: 4d3a653</br>\\n<a hfref=https://github.com/ComputationalPhysiology/simcardems/commit/4d3a653>Link to commit </a><br>Version: 2022.3.0</br>\\n<br>Timestamp 2022-10-06</br>\",\"<br>Git Hash: 0c195ff</br>\\n<a hfref=https://github.com/ComputationalPhysiology/simcardems/commit/0c195ff>Link to commit </a><br>Version: 2022.3.0</br>\\n<br>Timestamp 2022-10-06</br>\",\"<br>Git Hash: c7df02b</br>\\n<a hfref=https://github.com/ComputationalPhysiology/simcardems/commit/c7df02b>Link to commit </a><br>Version: 2022.3.0</br>\\n<br>Timestamp 2022-10-06</br>\",\"<br>Git Hash: cf7cc9d</br>\\n<a hfref=https://github.com/ComputationalPhysiology/simcardems/commit/cf7cc9d>Link to commit </a><br>Version: 2022.3.0</br>\\n<br>Timestamp 2022-10-06</br>\",\"<br>Git Hash: d5edd92</br>\\n<a hfref=https://github.com/ComputationalPhysiology/simcardems/commit/d5edd92>Link to commit </a><br>Version: 2022.3.0</br>\\n<br>Timestamp 2022-10-07</br>\"],\"x\":[\"2022-10-06T16:25:06.830650\",\"2022-10-06T16:55:04.711879\",\"2022-10-06T20:09:07.230901\",\"2022-10-06T20:19:12.227464\",\"2022-10-06T20:28:25.015389\",\"2022-10-06T20:32:00.361561\",\"2022-10-07T06:42:09.101000\"],\"y\":[0.24943240642936862,0.24943240642212325,0.24943240642936862,0.24943240642936862,0.2494324064419163,0.24943240642936862,0.24875784878919846],\"type\":\"scatter\",\"xaxis\":\"x44\",\"yaxis\":\"y44\"},{\"hovertemplate\":\"%{text}\",\"text\":[\"<br>Git Hash: f63afc9</br>\\n<a hfref=https://github.com/ComputationalPhysiology/simcardems/commit/f63afc9>Link to commit </a><br>Version: 2022.3.0</br>\\n<br>Timestamp 2022-10-06</br>\",\"<br>Git Hash: 630ed09</br>\\n<a hfref=https://github.com/ComputationalPhysiology/simcardems/commit/630ed09>Link to commit </a><br>Version: 2022.3.0</br>\\n<br>Timestamp 2022-10-06</br>\",\"<br>Git Hash: 4d3a653</br>\\n<a hfref=https://github.com/ComputationalPhysiology/simcardems/commit/4d3a653>Link to commit </a><br>Version: 2022.3.0</br>\\n<br>Timestamp 2022-10-06</br>\",\"<br>Git Hash: 0c195ff</br>\\n<a hfref=https://github.com/ComputationalPhysiology/simcardems/commit/0c195ff>Link to commit </a><br>Version: 2022.3.0</br>\\n<br>Timestamp 2022-10-06</br>\",\"<br>Git Hash: c7df02b</br>\\n<a hfref=https://github.com/ComputationalPhysiology/simcardems/commit/c7df02b>Link to commit </a><br>Version: 2022.3.0</br>\\n<br>Timestamp 2022-10-06</br>\",\"<br>Git Hash: cf7cc9d</br>\\n<a hfref=https://github.com/ComputationalPhysiology/simcardems/commit/cf7cc9d>Link to commit </a><br>Version: 2022.3.0</br>\\n<br>Timestamp 2022-10-06</br>\",\"<br>Git Hash: d5edd92</br>\\n<a hfref=https://github.com/ComputationalPhysiology/simcardems/commit/d5edd92>Link to commit </a><br>Version: 2022.3.0</br>\\n<br>Timestamp 2022-10-07</br>\"],\"x\":[\"2022-10-06T16:25:06.830650\",\"2022-10-06T16:55:04.711879\",\"2022-10-06T20:09:07.230901\",\"2022-10-06T20:19:12.227464\",\"2022-10-06T20:28:25.015389\",\"2022-10-06T20:32:00.361561\",\"2022-10-07T06:42:09.101000\"],\"y\":[138.05,138.05,138.05,138.05,138.05,138.05,138.05],\"type\":\"scatter\",\"xaxis\":\"x48\",\"yaxis\":\"y48\"}],                        {\"template\":{\"data\":{\"histogram2dcontour\":[{\"type\":\"histogram2dcontour\",\"colorbar\":{\"outlinewidth\":0,\"ticks\":\"\"},\"colorscale\":[[0.0,\"#0d0887\"],[0.1111111111111111,\"#46039f\"],[0.2222222222222222,\"#7201a8\"],[0.3333333333333333,\"#9c179e\"],[0.4444444444444444,\"#bd3786\"],[0.5555555555555556,\"#d8576b\"],[0.6666666666666666,\"#ed7953\"],[0.7777777777777778,\"#fb9f3a\"],[0.8888888888888888,\"#fdca26\"],[1.0,\"#f0f921\"]]}],\"choropleth\":[{\"type\":\"choropleth\",\"colorbar\":{\"outlinewidth\":0,\"ticks\":\"\"}}],\"histogram2d\":[{\"type\":\"histogram2d\",\"colorbar\":{\"outlinewidth\":0,\"ticks\":\"\"},\"colorscale\":[[0.0,\"#0d0887\"],[0.1111111111111111,\"#46039f\"],[0.2222222222222222,\"#7201a8\"],[0.3333333333333333,\"#9c179e\"],[0.4444444444444444,\"#bd3786\"],[0.5555555555555556,\"#d8576b\"],[0.6666666666666666,\"#ed7953\"],[0.7777777777777778,\"#fb9f3a\"],[0.8888888888888888,\"#fdca26\"],[1.0,\"#f0f921\"]]}],\"heatmap\":[{\"type\":\"heatmap\",\"colorbar\":{\"outlinewidth\":0,\"ticks\":\"\"},\"colorscale\":[[0.0,\"#0d0887\"],[0.1111111111111111,\"#46039f\"],[0.2222222222222222,\"#7201a8\"],[0.3333333333333333,\"#9c179e\"],[0.4444444444444444,\"#bd3786\"],[0.5555555555555556,\"#d8576b\"],[0.6666666666666666,\"#ed7953\"],[0.7777777777777778,\"#fb9f3a\"],[0.8888888888888888,\"#fdca26\"],[1.0,\"#f0f921\"]]}],\"heatmapgl\":[{\"type\":\"heatmapgl\",\"colorbar\":{\"outlinewidth\":0,\"ticks\":\"\"},\"colorscale\":[[0.0,\"#0d0887\"],[0.1111111111111111,\"#46039f\"],[0.2222222222222222,\"#7201a8\"],[0.3333333333333333,\"#9c179e\"],[0.4444444444444444,\"#bd3786\"],[0.5555555555555556,\"#d8576b\"],[0.6666666666666666,\"#ed7953\"],[0.7777777777777778,\"#fb9f3a\"],[0.8888888888888888,\"#fdca26\"],[1.0,\"#f0f921\"]]}],\"contourcarpet\":[{\"type\":\"contourcarpet\",\"colorbar\":{\"outlinewidth\":0,\"ticks\":\"\"}}],\"contour\":[{\"type\":\"contour\",\"colorbar\":{\"outlinewidth\":0,\"ticks\":\"\"},\"colorscale\":[[0.0,\"#0d0887\"],[0.1111111111111111,\"#46039f\"],[0.2222222222222222,\"#7201a8\"],[0.3333333333333333,\"#9c179e\"],[0.4444444444444444,\"#bd3786\"],[0.5555555555555556,\"#d8576b\"],[0.6666666666666666,\"#ed7953\"],[0.7777777777777778,\"#fb9f3a\"],[0.8888888888888888,\"#fdca26\"],[1.0,\"#f0f921\"]]}],\"surface\":[{\"type\":\"surface\",\"colorbar\":{\"outlinewidth\":0,\"ticks\":\"\"},\"colorscale\":[[0.0,\"#0d0887\"],[0.1111111111111111,\"#46039f\"],[0.2222222222222222,\"#7201a8\"],[0.3333333333333333,\"#9c179e\"],[0.4444444444444444,\"#bd3786\"],[0.5555555555555556,\"#d8576b\"],[0.6666666666666666,\"#ed7953\"],[0.7777777777777778,\"#fb9f3a\"],[0.8888888888888888,\"#fdca26\"],[1.0,\"#f0f921\"]]}],\"mesh3d\":[{\"type\":\"mesh3d\",\"colorbar\":{\"outlinewidth\":0,\"ticks\":\"\"}}],\"scatter\":[{\"fillpattern\":{\"fillmode\":\"overlay\",\"size\":10,\"solidity\":0.2},\"type\":\"scatter\"}],\"parcoords\":[{\"type\":\"parcoords\",\"line\":{\"colorbar\":{\"outlinewidth\":0,\"ticks\":\"\"}}}],\"scatterpolargl\":[{\"type\":\"scatterpolargl\",\"marker\":{\"colorbar\":{\"outlinewidth\":0,\"ticks\":\"\"}}}],\"bar\":[{\"error_x\":{\"color\":\"#2a3f5f\"},\"error_y\":{\"color\":\"#2a3f5f\"},\"marker\":{\"line\":{\"color\":\"#E5ECF6\",\"width\":0.5},\"pattern\":{\"fillmode\":\"overlay\",\"size\":10,\"solidity\":0.2}},\"type\":\"bar\"}],\"scattergeo\":[{\"type\":\"scattergeo\",\"marker\":{\"colorbar\":{\"outlinewidth\":0,\"ticks\":\"\"}}}],\"scatterpolar\":[{\"type\":\"scatterpolar\",\"marker\":{\"colorbar\":{\"outlinewidth\":0,\"ticks\":\"\"}}}],\"histogram\":[{\"marker\":{\"pattern\":{\"fillmode\":\"overlay\",\"size\":10,\"solidity\":0.2}},\"type\":\"histogram\"}],\"scattergl\":[{\"type\":\"scattergl\",\"marker\":{\"colorbar\":{\"outlinewidth\":0,\"ticks\":\"\"}}}],\"scatter3d\":[{\"type\":\"scatter3d\",\"line\":{\"colorbar\":{\"outlinewidth\":0,\"ticks\":\"\"}},\"marker\":{\"colorbar\":{\"outlinewidth\":0,\"ticks\":\"\"}}}],\"scattermapbox\":[{\"type\":\"scattermapbox\",\"marker\":{\"colorbar\":{\"outlinewidth\":0,\"ticks\":\"\"}}}],\"scatterternary\":[{\"type\":\"scatterternary\",\"marker\":{\"colorbar\":{\"outlinewidth\":0,\"ticks\":\"\"}}}],\"scattercarpet\":[{\"type\":\"scattercarpet\",\"marker\":{\"colorbar\":{\"outlinewidth\":0,\"ticks\":\"\"}}}],\"carpet\":[{\"aaxis\":{\"endlinecolor\":\"#2a3f5f\",\"gridcolor\":\"white\",\"linecolor\":\"white\",\"minorgridcolor\":\"white\",\"startlinecolor\":\"#2a3f5f\"},\"baxis\":{\"endlinecolor\":\"#2a3f5f\",\"gridcolor\":\"white\",\"linecolor\":\"white\",\"minorgridcolor\":\"white\",\"startlinecolor\":\"#2a3f5f\"},\"type\":\"carpet\"}],\"table\":[{\"cells\":{\"fill\":{\"color\":\"#EBF0F8\"},\"line\":{\"color\":\"white\"}},\"header\":{\"fill\":{\"color\":\"#C8D4E3\"},\"line\":{\"color\":\"white\"}},\"type\":\"table\"}],\"barpolar\":[{\"marker\":{\"line\":{\"color\":\"#E5ECF6\",\"width\":0.5},\"pattern\":{\"fillmode\":\"overlay\",\"size\":10,\"solidity\":0.2}},\"type\":\"barpolar\"}],\"pie\":[{\"automargin\":true,\"type\":\"pie\"}]},\"layout\":{\"autotypenumbers\":\"strict\",\"colorway\":[\"#636efa\",\"#EF553B\",\"#00cc96\",\"#ab63fa\",\"#FFA15A\",\"#19d3f3\",\"#FF6692\",\"#B6E880\",\"#FF97FF\",\"#FECB52\"],\"font\":{\"color\":\"#2a3f5f\"},\"hovermode\":\"closest\",\"hoverlabel\":{\"align\":\"left\"},\"paper_bgcolor\":\"white\",\"plot_bgcolor\":\"#E5ECF6\",\"polar\":{\"bgcolor\":\"#E5ECF6\",\"angularaxis\":{\"gridcolor\":\"white\",\"linecolor\":\"white\",\"ticks\":\"\"},\"radialaxis\":{\"gridcolor\":\"white\",\"linecolor\":\"white\",\"ticks\":\"\"}},\"ternary\":{\"bgcolor\":\"#E5ECF6\",\"aaxis\":{\"gridcolor\":\"white\",\"linecolor\":\"white\",\"ticks\":\"\"},\"baxis\":{\"gridcolor\":\"white\",\"linecolor\":\"white\",\"ticks\":\"\"},\"caxis\":{\"gridcolor\":\"white\",\"linecolor\":\"white\",\"ticks\":\"\"}},\"coloraxis\":{\"colorbar\":{\"outlinewidth\":0,\"ticks\":\"\"}},\"colorscale\":{\"sequential\":[[0.0,\"#0d0887\"],[0.1111111111111111,\"#46039f\"],[0.2222222222222222,\"#7201a8\"],[0.3333333333333333,\"#9c179e\"],[0.4444444444444444,\"#bd3786\"],[0.5555555555555556,\"#d8576b\"],[0.6666666666666666,\"#ed7953\"],[0.7777777777777778,\"#fb9f3a\"],[0.8888888888888888,\"#fdca26\"],[1.0,\"#f0f921\"]],\"sequentialminus\":[[0.0,\"#0d0887\"],[0.1111111111111111,\"#46039f\"],[0.2222222222222222,\"#7201a8\"],[0.3333333333333333,\"#9c179e\"],[0.4444444444444444,\"#bd3786\"],[0.5555555555555556,\"#d8576b\"],[0.6666666666666666,\"#ed7953\"],[0.7777777777777778,\"#fb9f3a\"],[0.8888888888888888,\"#fdca26\"],[1.0,\"#f0f921\"]],\"diverging\":[[0,\"#8e0152\"],[0.1,\"#c51b7d\"],[0.2,\"#de77ae\"],[0.3,\"#f1b6da\"],[0.4,\"#fde0ef\"],[0.5,\"#f7f7f7\"],[0.6,\"#e6f5d0\"],[0.7,\"#b8e186\"],[0.8,\"#7fbc41\"],[0.9,\"#4d9221\"],[1,\"#276419\"]]},\"xaxis\":{\"gridcolor\":\"white\",\"linecolor\":\"white\",\"ticks\":\"\",\"title\":{\"standoff\":15},\"zerolinecolor\":\"white\",\"automargin\":true,\"zerolinewidth\":2},\"yaxis\":{\"gridcolor\":\"white\",\"linecolor\":\"white\",\"ticks\":\"\",\"title\":{\"standoff\":15},\"zerolinecolor\":\"white\",\"automargin\":true,\"zerolinewidth\":2},\"scene\":{\"xaxis\":{\"backgroundcolor\":\"#E5ECF6\",\"gridcolor\":\"white\",\"linecolor\":\"white\",\"showbackground\":true,\"ticks\":\"\",\"zerolinecolor\":\"white\",\"gridwidth\":2},\"yaxis\":{\"backgroundcolor\":\"#E5ECF6\",\"gridcolor\":\"white\",\"linecolor\":\"white\",\"showbackground\":true,\"ticks\":\"\",\"zerolinecolor\":\"white\",\"gridwidth\":2},\"zaxis\":{\"backgroundcolor\":\"#E5ECF6\",\"gridcolor\":\"white\",\"linecolor\":\"white\",\"showbackground\":true,\"ticks\":\"\",\"zerolinecolor\":\"white\",\"gridwidth\":2}},\"shapedefaults\":{\"line\":{\"color\":\"#2a3f5f\"}},\"annotationdefaults\":{\"arrowcolor\":\"#2a3f5f\",\"arrowhead\":0,\"arrowwidth\":1},\"geo\":{\"bgcolor\":\"white\",\"landcolor\":\"#E5ECF6\",\"subunitcolor\":\"white\",\"showland\":true,\"showlakes\":true,\"lakecolor\":\"white\"},\"title\":{\"x\":0.05},\"mapbox\":{\"style\":\"light\"}}},\"xaxis\":{\"anchor\":\"y\",\"domain\":[0.0,0.2125]},\"yaxis\":{\"anchor\":\"x\",\"domain\":[0.9548611111111112,1.0]},\"xaxis2\":{\"anchor\":\"y2\",\"domain\":[0.2625,0.475]},\"yaxis2\":{\"anchor\":\"x2\",\"domain\":[0.9548611111111112,1.0]},\"xaxis3\":{\"anchor\":\"y3\",\"domain\":[0.525,0.7375]},\"yaxis3\":{\"anchor\":\"x3\",\"domain\":[0.9548611111111112,1.0]},\"xaxis4\":{\"anchor\":\"y4\",\"domain\":[0.7875,1.0]},\"yaxis4\":{\"anchor\":\"x4\",\"domain\":[0.9548611111111112,1.0]},\"xaxis5\":{\"anchor\":\"y5\",\"domain\":[0.0,0.2125]},\"yaxis5\":{\"anchor\":\"x5\",\"domain\":[0.8680555555555556,0.9131944444444444]},\"xaxis6\":{\"anchor\":\"y6\",\"domain\":[0.2625,0.475]},\"yaxis6\":{\"anchor\":\"x6\",\"domain\":[0.8680555555555556,0.9131944444444444]},\"xaxis7\":{\"anchor\":\"y7\",\"domain\":[0.525,0.7375]},\"yaxis7\":{\"anchor\":\"x7\",\"domain\":[0.8680555555555556,0.9131944444444444]},\"xaxis8\":{\"anchor\":\"y8\",\"domain\":[0.7875,1.0]},\"yaxis8\":{\"anchor\":\"x8\",\"domain\":[0.8680555555555556,0.9131944444444444]},\"xaxis9\":{\"anchor\":\"y9\",\"domain\":[0.0,0.2125]},\"yaxis9\":{\"anchor\":\"x9\",\"domain\":[0.78125,0.8263888888888888]},\"xaxis10\":{\"anchor\":\"y10\",\"domain\":[0.2625,0.475]},\"yaxis10\":{\"anchor\":\"x10\",\"domain\":[0.78125,0.8263888888888888]},\"xaxis11\":{\"anchor\":\"y11\",\"domain\":[0.525,0.7375]},\"yaxis11\":{\"anchor\":\"x11\",\"domain\":[0.78125,0.8263888888888888]},\"xaxis12\":{\"anchor\":\"y12\",\"domain\":[0.7875,1.0]},\"yaxis12\":{\"anchor\":\"x12\",\"domain\":[0.78125,0.8263888888888888]},\"xaxis13\":{\"anchor\":\"y13\",\"domain\":[0.0,0.2125]},\"yaxis13\":{\"anchor\":\"x13\",\"domain\":[0.6944444444444444,0.7395833333333333]},\"xaxis14\":{\"anchor\":\"y14\",\"domain\":[0.2625,0.475]},\"yaxis14\":{\"anchor\":\"x14\",\"domain\":[0.6944444444444444,0.7395833333333333]},\"xaxis15\":{\"anchor\":\"y15\",\"domain\":[0.525,0.7375]},\"yaxis15\":{\"anchor\":\"x15\",\"domain\":[0.6944444444444444,0.7395833333333333]},\"xaxis16\":{\"anchor\":\"y16\",\"domain\":[0.7875,1.0]},\"yaxis16\":{\"anchor\":\"x16\",\"domain\":[0.6944444444444444,0.7395833333333333]},\"xaxis17\":{\"anchor\":\"y17\",\"domain\":[0.0,0.2125]},\"yaxis17\":{\"anchor\":\"x17\",\"domain\":[0.6076388888888888,0.6527777777777777]},\"xaxis18\":{\"anchor\":\"y18\",\"domain\":[0.2625,0.475]},\"yaxis18\":{\"anchor\":\"x18\",\"domain\":[0.6076388888888888,0.6527777777777777]},\"xaxis19\":{\"anchor\":\"y19\",\"domain\":[0.525,0.7375]},\"yaxis19\":{\"anchor\":\"x19\",\"domain\":[0.6076388888888888,0.6527777777777777]},\"xaxis20\":{\"anchor\":\"y20\",\"domain\":[0.7875,1.0]},\"yaxis20\":{\"anchor\":\"x20\",\"domain\":[0.6076388888888888,0.6527777777777777]},\"xaxis21\":{\"anchor\":\"y21\",\"domain\":[0.0,0.2125]},\"yaxis21\":{\"anchor\":\"x21\",\"domain\":[0.5208333333333334,0.5659722222222223]},\"xaxis22\":{\"anchor\":\"y22\",\"domain\":[0.2625,0.475]},\"yaxis22\":{\"anchor\":\"x22\",\"domain\":[0.5208333333333334,0.5659722222222223]},\"xaxis23\":{\"anchor\":\"y23\",\"domain\":[0.525,0.7375]},\"yaxis23\":{\"anchor\":\"x23\",\"domain\":[0.5208333333333334,0.5659722222222223]},\"xaxis24\":{\"anchor\":\"y24\",\"domain\":[0.7875,1.0]},\"yaxis24\":{\"anchor\":\"x24\",\"domain\":[0.5208333333333334,0.5659722222222223]},\"xaxis25\":{\"anchor\":\"y25\",\"domain\":[0.0,0.2125]},\"yaxis25\":{\"anchor\":\"x25\",\"domain\":[0.4340277777777778,0.4791666666666667]},\"xaxis26\":{\"anchor\":\"y26\",\"domain\":[0.2625,0.475]},\"yaxis26\":{\"anchor\":\"x26\",\"domain\":[0.4340277777777778,0.4791666666666667]},\"xaxis27\":{\"anchor\":\"y27\",\"domain\":[0.525,0.7375]},\"yaxis27\":{\"anchor\":\"x27\",\"domain\":[0.4340277777777778,0.4791666666666667]},\"xaxis28\":{\"anchor\":\"y28\",\"domain\":[0.7875,1.0]},\"yaxis28\":{\"anchor\":\"x28\",\"domain\":[0.4340277777777778,0.4791666666666667]},\"xaxis29\":{\"anchor\":\"y29\",\"domain\":[0.0,0.2125]},\"yaxis29\":{\"anchor\":\"x29\",\"domain\":[0.3472222222222222,0.3923611111111111]},\"xaxis30\":{\"anchor\":\"y30\",\"domain\":[0.2625,0.475]},\"yaxis30\":{\"anchor\":\"x30\",\"domain\":[0.3472222222222222,0.3923611111111111]},\"xaxis31\":{\"anchor\":\"y31\",\"domain\":[0.525,0.7375]},\"yaxis31\":{\"anchor\":\"x31\",\"domain\":[0.3472222222222222,0.3923611111111111]},\"xaxis32\":{\"anchor\":\"y32\",\"domain\":[0.7875,1.0]},\"yaxis32\":{\"anchor\":\"x32\",\"domain\":[0.3472222222222222,0.3923611111111111]},\"xaxis33\":{\"anchor\":\"y33\",\"domain\":[0.0,0.2125]},\"yaxis33\":{\"anchor\":\"x33\",\"domain\":[0.2604166666666667,0.3055555555555556]},\"xaxis34\":{\"anchor\":\"y34\",\"domain\":[0.2625,0.475]},\"yaxis34\":{\"anchor\":\"x34\",\"domain\":[0.2604166666666667,0.3055555555555556]},\"xaxis35\":{\"anchor\":\"y35\",\"domain\":[0.525,0.7375]},\"yaxis35\":{\"anchor\":\"x35\",\"domain\":[0.2604166666666667,0.3055555555555556]},\"xaxis36\":{\"anchor\":\"y36\",\"domain\":[0.7875,1.0]},\"yaxis36\":{\"anchor\":\"x36\",\"domain\":[0.2604166666666667,0.3055555555555556]},\"xaxis37\":{\"anchor\":\"y37\",\"domain\":[0.0,0.2125]},\"yaxis37\":{\"anchor\":\"x37\",\"domain\":[0.1736111111111111,0.21875]},\"xaxis38\":{\"anchor\":\"y38\",\"domain\":[0.2625,0.475]},\"yaxis38\":{\"anchor\":\"x38\",\"domain\":[0.1736111111111111,0.21875]},\"xaxis39\":{\"anchor\":\"y39\",\"domain\":[0.525,0.7375]},\"yaxis39\":{\"anchor\":\"x39\",\"domain\":[0.1736111111111111,0.21875]},\"xaxis40\":{\"anchor\":\"y40\",\"domain\":[0.7875,1.0]},\"yaxis40\":{\"anchor\":\"x40\",\"domain\":[0.1736111111111111,0.21875]},\"xaxis41\":{\"anchor\":\"y41\",\"domain\":[0.0,0.2125]},\"yaxis41\":{\"anchor\":\"x41\",\"domain\":[0.08680555555555555,0.13194444444444445]},\"xaxis42\":{\"anchor\":\"y42\",\"domain\":[0.2625,0.475]},\"yaxis42\":{\"anchor\":\"x42\",\"domain\":[0.08680555555555555,0.13194444444444445]},\"xaxis43\":{\"anchor\":\"y43\",\"domain\":[0.525,0.7375]},\"yaxis43\":{\"anchor\":\"x43\",\"domain\":[0.08680555555555555,0.13194444444444445]},\"xaxis44\":{\"anchor\":\"y44\",\"domain\":[0.7875,1.0]},\"yaxis44\":{\"anchor\":\"x44\",\"domain\":[0.08680555555555555,0.13194444444444445]},\"xaxis45\":{\"anchor\":\"y45\",\"domain\":[0.0,0.2125]},\"yaxis45\":{\"anchor\":\"x45\",\"domain\":[0.0,0.045138888888888895]},\"xaxis46\":{\"anchor\":\"y46\",\"domain\":[0.2625,0.475]},\"yaxis46\":{\"anchor\":\"x46\",\"domain\":[0.0,0.045138888888888895]},\"xaxis47\":{\"anchor\":\"y47\",\"domain\":[0.525,0.7375]},\"yaxis47\":{\"anchor\":\"x47\",\"domain\":[0.0,0.045138888888888895]},\"xaxis48\":{\"anchor\":\"y48\",\"domain\":[0.7875,1.0]},\"yaxis48\":{\"anchor\":\"x48\",\"domain\":[0.0,0.045138888888888895]},\"annotations\":[{\"font\":{\"size\":16},\"showarrow\":false,\"text\":\"import_time\",\"x\":0.10625,\"xanchor\":\"center\",\"xref\":\"paper\",\"y\":1.0,\"yanchor\":\"bottom\",\"yref\":\"paper\"},{\"font\":{\"size\":16},\"showarrow\":false,\"text\":\"create_runner_time\",\"x\":0.36875,\"xanchor\":\"center\",\"xref\":\"paper\",\"y\":1.0,\"yanchor\":\"bottom\",\"yref\":\"paper\"},{\"font\":{\"size\":16},\"showarrow\":false,\"text\":\"solve_time\",\"x\":0.6312500000000001,\"xanchor\":\"center\",\"xref\":\"paper\",\"y\":1.0,\"yanchor\":\"bottom\",\"yref\":\"paper\"},{\"font\":{\"size\":16},\"showarrow\":false,\"text\":\"maxTa\",\"x\":0.89375,\"xanchor\":\"center\",\"xref\":\"paper\",\"y\":1.0,\"yanchor\":\"bottom\",\"yref\":\"paper\"},{\"font\":{\"size\":16},\"showarrow\":false,\"text\":\"ampTa\",\"x\":0.10625,\"xanchor\":\"center\",\"xref\":\"paper\",\"y\":0.9131944444444444,\"yanchor\":\"bottom\",\"yref\":\"paper\"},{\"font\":{\"size\":16},\"showarrow\":false,\"text\":\"APD40\",\"x\":0.36875,\"xanchor\":\"center\",\"xref\":\"paper\",\"y\":0.9131944444444444,\"yanchor\":\"bottom\",\"yref\":\"paper\"},{\"font\":{\"size\":16},\"showarrow\":false,\"text\":\"APD50\",\"x\":0.6312500000000001,\"xanchor\":\"center\",\"xref\":\"paper\",\"y\":0.9131944444444444,\"yanchor\":\"bottom\",\"yref\":\"paper\"},{\"font\":{\"size\":16},\"showarrow\":false,\"text\":\"APD90\",\"x\":0.89375,\"xanchor\":\"center\",\"xref\":\"paper\",\"y\":0.9131944444444444,\"yanchor\":\"bottom\",\"yref\":\"paper\"},{\"font\":{\"size\":16},\"showarrow\":false,\"text\":\"triangulation\",\"x\":0.10625,\"xanchor\":\"center\",\"xref\":\"paper\",\"y\":0.8263888888888888,\"yanchor\":\"bottom\",\"yref\":\"paper\"},{\"font\":{\"size\":16},\"showarrow\":false,\"text\":\"Vpeak\",\"x\":0.36875,\"xanchor\":\"center\",\"xref\":\"paper\",\"y\":0.8263888888888888,\"yanchor\":\"bottom\",\"yref\":\"paper\"},{\"font\":{\"size\":16},\"showarrow\":false,\"text\":\"Vmin\",\"x\":0.6312500000000001,\"xanchor\":\"center\",\"xref\":\"paper\",\"y\":0.8263888888888888,\"yanchor\":\"bottom\",\"yref\":\"paper\"},{\"font\":{\"size\":16},\"showarrow\":false,\"text\":\"dvdt\",\"x\":0.89375,\"xanchor\":\"center\",\"xref\":\"paper\",\"y\":0.8263888888888888,\"yanchor\":\"bottom\",\"yref\":\"paper\"},{\"font\":{\"size\":16},\"showarrow\":false,\"text\":\"maxCa\",\"x\":0.10625,\"xanchor\":\"center\",\"xref\":\"paper\",\"y\":0.7395833333333333,\"yanchor\":\"bottom\",\"yref\":\"paper\"},{\"font\":{\"size\":16},\"showarrow\":false,\"text\":\"ampCa\",\"x\":0.36875,\"xanchor\":\"center\",\"xref\":\"paper\",\"y\":0.7395833333333333,\"yanchor\":\"bottom\",\"yref\":\"paper\"},{\"font\":{\"size\":16},\"showarrow\":false,\"text\":\"CaTD50\",\"x\":0.6312500000000001,\"xanchor\":\"center\",\"xref\":\"paper\",\"y\":0.7395833333333333,\"yanchor\":\"bottom\",\"yref\":\"paper\"},{\"font\":{\"size\":16},\"showarrow\":false,\"text\":\"CaTD80\",\"x\":0.89375,\"xanchor\":\"center\",\"xref\":\"paper\",\"y\":0.7395833333333333,\"yanchor\":\"bottom\",\"yref\":\"paper\"},{\"font\":{\"size\":16},\"showarrow\":false,\"text\":\"CaTD90\",\"x\":0.10625,\"xanchor\":\"center\",\"xref\":\"paper\",\"y\":0.6527777777777777,\"yanchor\":\"bottom\",\"yref\":\"paper\"},{\"font\":{\"size\":16},\"showarrow\":false,\"text\":\"ttp_Ta\",\"x\":0.36875,\"xanchor\":\"center\",\"xref\":\"paper\",\"y\":0.6527777777777777,\"yanchor\":\"bottom\",\"yref\":\"paper\"},{\"font\":{\"size\":16},\"showarrow\":false,\"text\":\"rt50_Ta\",\"x\":0.6312500000000001,\"xanchor\":\"center\",\"xref\":\"paper\",\"y\":0.6527777777777777,\"yanchor\":\"bottom\",\"yref\":\"paper\"},{\"font\":{\"size\":16},\"showarrow\":false,\"text\":\"rt95_Ta\",\"x\":0.89375,\"xanchor\":\"center\",\"xref\":\"paper\",\"y\":0.6527777777777777,\"yanchor\":\"bottom\",\"yref\":\"paper\"},{\"font\":{\"size\":16},\"showarrow\":false,\"text\":\"maxlmbda\",\"x\":0.10625,\"xanchor\":\"center\",\"xref\":\"paper\",\"y\":0.5659722222222223,\"yanchor\":\"bottom\",\"yref\":\"paper\"},{\"font\":{\"size\":16},\"showarrow\":false,\"text\":\"minlmbda\",\"x\":0.36875,\"xanchor\":\"center\",\"xref\":\"paper\",\"y\":0.5659722222222223,\"yanchor\":\"bottom\",\"yref\":\"paper\"},{\"font\":{\"size\":16},\"showarrow\":false,\"text\":\"ttplmbda\",\"x\":0.6312500000000001,\"xanchor\":\"center\",\"xref\":\"paper\",\"y\":0.5659722222222223,\"yanchor\":\"bottom\",\"yref\":\"paper\"},{\"font\":{\"size\":16},\"showarrow\":false,\"text\":\"lmbdaD50\",\"x\":0.89375,\"xanchor\":\"center\",\"xref\":\"paper\",\"y\":0.5659722222222223,\"yanchor\":\"bottom\",\"yref\":\"paper\"},{\"font\":{\"size\":16},\"showarrow\":false,\"text\":\"lmbdaD80\",\"x\":0.10625,\"xanchor\":\"center\",\"xref\":\"paper\",\"y\":0.4791666666666667,\"yanchor\":\"bottom\",\"yref\":\"paper\"},{\"font\":{\"size\":16},\"showarrow\":false,\"text\":\"lmbdaD90\",\"x\":0.36875,\"xanchor\":\"center\",\"xref\":\"paper\",\"y\":0.4791666666666667,\"yanchor\":\"bottom\",\"yref\":\"paper\"},{\"font\":{\"size\":16},\"showarrow\":false,\"text\":\"rt50_lmbda\",\"x\":0.6312500000000001,\"xanchor\":\"center\",\"xref\":\"paper\",\"y\":0.4791666666666667,\"yanchor\":\"bottom\",\"yref\":\"paper\"},{\"font\":{\"size\":16},\"showarrow\":false,\"text\":\"rt95_lmbda\",\"x\":0.89375,\"xanchor\":\"center\",\"xref\":\"paper\",\"y\":0.4791666666666667,\"yanchor\":\"bottom\",\"yref\":\"paper\"},{\"font\":{\"size\":16},\"showarrow\":false,\"text\":\"max_displacement_norm\",\"x\":0.10625,\"xanchor\":\"center\",\"xref\":\"paper\",\"y\":0.3923611111111111,\"yanchor\":\"bottom\",\"yref\":\"paper\"},{\"font\":{\"size\":16},\"showarrow\":false,\"text\":\"rel_max_displacement_norm\",\"x\":0.36875,\"xanchor\":\"center\",\"xref\":\"paper\",\"y\":0.3923611111111111,\"yanchor\":\"bottom\",\"yref\":\"paper\"},{\"font\":{\"size\":16},\"showarrow\":false,\"text\":\"max_displacement_perc_norm\",\"x\":0.6312500000000001,\"xanchor\":\"center\",\"xref\":\"paper\",\"y\":0.3923611111111111,\"yanchor\":\"bottom\",\"yref\":\"paper\"},{\"font\":{\"size\":16},\"showarrow\":false,\"text\":\"rel_max_displacement_perc_norm\",\"x\":0.89375,\"xanchor\":\"center\",\"xref\":\"paper\",\"y\":0.3923611111111111,\"yanchor\":\"bottom\",\"yref\":\"paper\"},{\"font\":{\"size\":16},\"showarrow\":false,\"text\":\"time_to_max_displacement_norm\",\"x\":0.10625,\"xanchor\":\"center\",\"xref\":\"paper\",\"y\":0.3055555555555556,\"yanchor\":\"bottom\",\"yref\":\"paper\"},{\"font\":{\"size\":16},\"showarrow\":false,\"text\":\"max_displacement_x\",\"x\":0.36875,\"xanchor\":\"center\",\"xref\":\"paper\",\"y\":0.3055555555555556,\"yanchor\":\"bottom\",\"yref\":\"paper\"},{\"font\":{\"size\":16},\"showarrow\":false,\"text\":\"rel_max_displacement_x\",\"x\":0.6312500000000001,\"xanchor\":\"center\",\"xref\":\"paper\",\"y\":0.3055555555555556,\"yanchor\":\"bottom\",\"yref\":\"paper\"},{\"font\":{\"size\":16},\"showarrow\":false,\"text\":\"max_displacement_perc_x\",\"x\":0.89375,\"xanchor\":\"center\",\"xref\":\"paper\",\"y\":0.3055555555555556,\"yanchor\":\"bottom\",\"yref\":\"paper\"},{\"font\":{\"size\":16},\"showarrow\":false,\"text\":\"rel_max_displacement_perc_x\",\"x\":0.10625,\"xanchor\":\"center\",\"xref\":\"paper\",\"y\":0.21875,\"yanchor\":\"bottom\",\"yref\":\"paper\"},{\"font\":{\"size\":16},\"showarrow\":false,\"text\":\"time_to_max_displacement_x\",\"x\":0.36875,\"xanchor\":\"center\",\"xref\":\"paper\",\"y\":0.21875,\"yanchor\":\"bottom\",\"yref\":\"paper\"},{\"font\":{\"size\":16},\"showarrow\":false,\"text\":\"max_displacement_y\",\"x\":0.6312500000000001,\"xanchor\":\"center\",\"xref\":\"paper\",\"y\":0.21875,\"yanchor\":\"bottom\",\"yref\":\"paper\"},{\"font\":{\"size\":16},\"showarrow\":false,\"text\":\"rel_max_displacement_y\",\"x\":0.89375,\"xanchor\":\"center\",\"xref\":\"paper\",\"y\":0.21875,\"yanchor\":\"bottom\",\"yref\":\"paper\"},{\"font\":{\"size\":16},\"showarrow\":false,\"text\":\"max_displacement_perc_y\",\"x\":0.10625,\"xanchor\":\"center\",\"xref\":\"paper\",\"y\":0.13194444444444445,\"yanchor\":\"bottom\",\"yref\":\"paper\"},{\"font\":{\"size\":16},\"showarrow\":false,\"text\":\"rel_max_displacement_perc_y\",\"x\":0.36875,\"xanchor\":\"center\",\"xref\":\"paper\",\"y\":0.13194444444444445,\"yanchor\":\"bottom\",\"yref\":\"paper\"},{\"font\":{\"size\":16},\"showarrow\":false,\"text\":\"time_to_max_displacement_y\",\"x\":0.6312500000000001,\"xanchor\":\"center\",\"xref\":\"paper\",\"y\":0.13194444444444445,\"yanchor\":\"bottom\",\"yref\":\"paper\"},{\"font\":{\"size\":16},\"showarrow\":false,\"text\":\"max_displacement_z\",\"x\":0.89375,\"xanchor\":\"center\",\"xref\":\"paper\",\"y\":0.13194444444444445,\"yanchor\":\"bottom\",\"yref\":\"paper\"},{\"font\":{\"size\":16},\"showarrow\":false,\"text\":\"rel_max_displacement_z\",\"x\":0.10625,\"xanchor\":\"center\",\"xref\":\"paper\",\"y\":0.045138888888888895,\"yanchor\":\"bottom\",\"yref\":\"paper\"},{\"font\":{\"size\":16},\"showarrow\":false,\"text\":\"max_displacement_perc_z\",\"x\":0.36875,\"xanchor\":\"center\",\"xref\":\"paper\",\"y\":0.045138888888888895,\"yanchor\":\"bottom\",\"yref\":\"paper\"},{\"font\":{\"size\":16},\"showarrow\":false,\"text\":\"rel_max_displacement_perc_z\",\"x\":0.6312500000000001,\"xanchor\":\"center\",\"xref\":\"paper\",\"y\":0.045138888888888895,\"yanchor\":\"bottom\",\"yref\":\"paper\"},{\"font\":{\"size\":16},\"showarrow\":false,\"text\":\"time_to_max_displacement_z\",\"x\":0.89375,\"xanchor\":\"center\",\"xref\":\"paper\",\"y\":0.045138888888888895,\"yanchor\":\"bottom\",\"yref\":\"paper\"}],\"width\":1000,\"height\":3500,\"showlegend\":false},                        {\"responsive\": true}                    ).then(function(){\n",
       "                            \n",
       "var gd = document.getElementById('4b96b408-57e9-45f0-8906-3352299bb1b1');\n",
       "var x = new MutationObserver(function (mutations, observer) {{\n",
       "        var display = window.getComputedStyle(gd).display;\n",
       "        if (!display || display === 'none') {{\n",
       "            console.log([gd, 'removed!']);\n",
       "            Plotly.purge(gd);\n",
       "            observer.disconnect();\n",
       "        }}\n",
       "}});\n",
       "\n",
       "// Listen for the removal of the full notebook cells\n",
       "var notebookContainer = gd.closest('#notebook-container');\n",
       "if (notebookContainer) {{\n",
       "    x.observe(notebookContainer, {childList: true});\n",
       "}}\n",
       "\n",
       "// Listen for the clearing of the current output cell\n",
       "var outputEl = gd.closest('.output');\n",
       "if (outputEl) {{\n",
       "    x.observe(outputEl, {childList: true});\n",
       "}}\n",
       "\n",
       "                        })                };                });            </script>        </div>"
      ]
     },
     "metadata": {},
     "output_type": "display_data"
    }
   ],
   "source": [
    "columns = [c for c in df.columns if c not in [\"timestamp\", \"simcardems_version\", \"git_hash\"]]\n",
    "git_hash = df[\"git_hash\"]\n",
    "versions = df[\"simcardems_version\"]\n",
    "dates = [t.date() for t in df[\"timestamp\"]]\n",
    "\n",
    "text = []\n",
    "for h,v, t in zip(git_hash, versions, dates):\n",
    "    text.append(\"\\n\".join([\n",
    "        f\"<br>Git Hash: {h}</br>\",\n",
    "        f\"<br>Version: {v}</br>\",\n",
    "        f\"<br>Timestamp {t}</br>\",\n",
    "    ]))\n",
    "    \n",
    "fig = make_subplots(rows=12, cols=4, subplot_titles=columns)\n",
    "\n",
    "for i, c in enumerate(columns):\n",
    "    \n",
    "    row = i % 12 + 1\n",
    "    col = i // 12 + 1\n",
    "    \n",
    "    fig.add_trace(\n",
    "        go.Scatter(x=df[\"timestamp\"], y=df[c], text=text, hovertemplate=\"%{text}\"),\n",
    "        row=row, col=col\n",
    "    )\n",
    "    \n",
    "fig.update_layout(\n",
    "    width=1000,\n",
    "    height=3500,\n",
    "    showlegend=False\n",
    ")\n",
    "fig.show()"
   ]
  }
 ],
 "metadata": {
  "kernelspec": {
   "display_name": "Python 3 (ipykernel)",
   "language": "python",
   "name": "python3"
  },
  "language_info": {
   "codemirror_mode": {
    "name": "ipython",
    "version": 3
   },
   "file_extension": ".py",
   "mimetype": "text/x-python",
   "name": "python",
   "nbconvert_exporter": "python",
   "pygments_lexer": "ipython3",
   "version": "3.10.4"
  },
  "vscode": {
   "interpreter": {
    "hash": "008ae1a9ef378a188e8fa2b622d715fd7b65a63f3eb8449f558cfa85814f9757"
   }
  }
 },
 "nbformat": 4,
 "nbformat_minor": 5
}
