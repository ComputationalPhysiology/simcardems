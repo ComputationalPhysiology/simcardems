{
 "cells": [
  {
   "cell_type": "markdown",
   "id": "22e7a0b1",
   "metadata": {},
   "source": [
    "# Benchmark\n",
    "\n",
    "Whenever we make changes to the code we will rerun a simple benchmark in order to keep track of how the simulation results might change over time. It is in general hard to verify that the equations are implemented correctly because there exist no analytic solutions to the equations. However, by running the same benchmark over time we can see if the changes we make will impact the simulation results. Here the different biomarkers are taken from traces evaluated a the center of at slab that is simulated for 1000 ms (see the benchmark in the library for more details)"
   ]
  },
  {
   "cell_type": "code",
   "execution_count": null,
   "id": "826ee07a",
   "metadata": {},
   "outputs": [],
   "source": [
    "from pathlib import Path\n",
    "import json\n",
    "import matplotlib.pyplot as plt\n",
    "import numpy as np\n",
    "import datetime\n",
    "from collections import defaultdict\n"
   ]
  },
  {
   "cell_type": "code",
   "execution_count": null,
   "id": "e4c0580c",
   "metadata": {},
   "outputs": [],
   "source": [
    "benchmark_folder = Path(\"__file__\").absolute().parent.parent / \"benchmarks\""
   ]
  },
  {
   "cell_type": "code",
   "execution_count": null,
   "id": "4a0087e6",
   "metadata": {},
   "outputs": [],
   "source": [
    "all_hashes = [f.name for f in benchmark_folder.iterdir()]"
   ]
  },
  {
   "cell_type": "code",
   "execution_count": null,
   "id": "669d6d30",
   "metadata": {},
   "outputs": [],
   "source": [
    "print(all_hashes)"
   ]
  },
  {
   "cell_type": "code",
   "execution_count": null,
   "id": "d24561d1",
   "metadata": {},
   "outputs": [],
   "source": [
    "data = {}\n",
    "for git_hash in all_hashes:\n",
    "    results_file = benchmark_folder / git_hash / \"results.json\"\n",
    "    if not results_file.is_file():\n",
    "        print(f\"Results does not exist for version {git_hash}\")\n",
    "        continue\n",
    "    with open(results_file, \"r\") as f:\n",
    "        data[git_hash] = json.load(f)\n",
    "        "
   ]
  },
  {
   "cell_type": "code",
   "execution_count": null,
   "id": "fc860bce",
   "metadata": {},
   "outputs": [],
   "source": [
    "results = defaultdict(list)\n",
    "\n",
    "versions = []\n",
    "timestamps = []\n",
    "hashes = []\n",
    "for git_hash, d in data.items():\n",
    "    hashes.append(git_hash)\n",
    "    for key, value in d.items():\n",
    "        if key == \"timestamp\":\n",
    "            timestamps.append(datetime.datetime.fromisoformat(value))\n",
    "        elif key == \"simcardems_version\":\n",
    "            versions.append(value)\n",
    "        else:\n",
    "            results[key].append(value)"
   ]
  },
  {
   "cell_type": "code",
   "execution_count": null,
   "id": "9e0166d6",
   "metadata": {},
   "outputs": [],
   "source": [
    "for (v, t, h) in zip(versions, timestamps, hashes):\n",
    "    print(v, t.date(), h)"
   ]
  },
  {
   "cell_type": "code",
   "execution_count": null,
   "id": "5bdb831d",
   "metadata": {},
   "outputs": [],
   "source": [
    "def get_ylim(values):\n",
    "    if np.isclose(values, 0).all():\n",
    "        return (-0.01, 0.01)\n",
    "    y_mean = np.mean(values)\n",
    "    y_max = max(np.max(values), y_mean + 0.01 * abs(y_mean))\n",
    "    y_min = min(np.min(values), y_mean - 0.01 * abs(y_mean))\n",
    "    return (y_min, y_max)"
   ]
  },
  {
   "cell_type": "code",
   "execution_count": null,
   "id": "81c75e5e",
   "metadata": {
    "scrolled": false
   },
   "outputs": [],
   "source": [
    "fig, axs = plt.subplots(12, 4, sharex=True, figsize=(12, 30))\n",
    "for i, (biomarker, values) in enumerate(results.items()):\n",
    "    ax = axs.flatten()[i]\n",
    "    y = [x for _, x in sorted(zip(timestamps, values), key=lambda pair: pair[0])]\n",
    "    hashes_sorted = [x for _, x in sorted(zip(timestamps, hashes), key=lambda pair: pair[0])]\n",
    "    ax.plot(hashes_sorted, y)\n",
    "    ax.set_ylabel(biomarker)\n",
    "    ylim = get_ylim(values)\n",
    "    ax.set_ylim(*ylim)\n",
    "fig.tight_layout()\n",
    "plt.show()"
   ]
  },
  {
   "cell_type": "code",
   "execution_count": null,
   "id": "21159bc0",
   "metadata": {},
   "outputs": [],
   "source": []
  }
 ],
 "metadata": {
  "kernelspec": {
   "display_name": "Python 3.10.4 ('fenics')",
   "language": "python",
   "name": "python3"
  },
  "language_info": {
   "codemirror_mode": {
    "name": "ipython",
    "version": 3
   },
   "file_extension": ".py",
   "mimetype": "text/x-python",
   "name": "python",
   "nbconvert_exporter": "python",
   "pygments_lexer": "ipython3",
   "version": "3.10.4"
  },
  "vscode": {
   "interpreter": {
    "hash": "008ae1a9ef378a188e8fa2b622d715fd7b65a63f3eb8449f558cfa85814f9757"
   }
  }
 },
 "nbformat": 4,
 "nbformat_minor": 5
}
